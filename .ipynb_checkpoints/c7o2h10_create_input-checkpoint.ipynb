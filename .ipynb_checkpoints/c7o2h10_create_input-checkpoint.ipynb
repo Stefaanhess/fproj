{
 "cells": [
  {
   "cell_type": "markdown",
   "metadata": {},
   "source": [
    "# Imports and Settings"
   ]
  },
  {
   "cell_type": "code",
   "execution_count": 1,
   "metadata": {
    "collapsed": true
   },
   "outputs": [],
   "source": [
    "# -*- coding: utf-8 -*-\n",
    "import pandas as pd\n",
    "import numpy as np\n",
    "import os\n",
    "from scipy.spatial.distance import squareform, cdist\n",
    "import time\n",
    "from numpy.testing import *"
   ]
  },
  {
   "cell_type": "code",
   "execution_count": 2,
   "metadata": {},
   "outputs": [],
   "source": [
    "from Code.Tools.Data.printer import ProgressTimer\n",
    "from Code.Tools.Data.saver import create_path\n",
    "from Code.Tools.Data.transform import get_spherical, change_base, get_input_data"
   ]
  },
  {
   "cell_type": "code",
   "execution_count": 3,
   "metadata": {
    "collapsed": true
   },
   "outputs": [],
   "source": [
    "reference_path = \"./Dataset/iso17/reference.db\"\n",
    "within_path = \"./Dataset/iso17/within.db\""
   ]
  },
  {
   "cell_type": "code",
   "execution_count": 4,
   "metadata": {},
   "outputs": [
    {
     "ename": "NameError",
     "evalue": "name 'path_to_db' is not defined",
     "output_type": "error",
     "traceback": [
      "\u001b[0;31m---------------------------------------------------------------------------\u001b[0m",
      "\u001b[0;31mNameError\u001b[0m                                 Traceback (most recent call last)",
      "\u001b[0;32m<ipython-input-4-25998e1abbd0>\u001b[0m in \u001b[0;36m<module>\u001b[0;34m()\u001b[0m\n\u001b[1;32m      3\u001b[0m \u001b[0mmolecules\u001b[0m \u001b[0;34m=\u001b[0m \u001b[0;34m[\u001b[0m\u001b[0;34m]\u001b[0m\u001b[0;34m\u001b[0m\u001b[0m\n\u001b[1;32m      4\u001b[0m \u001b[0menergies\u001b[0m \u001b[0;34m=\u001b[0m \u001b[0;34m[\u001b[0m\u001b[0;34m]\u001b[0m\u001b[0;34m\u001b[0m\u001b[0m\n\u001b[0;32m----> 5\u001b[0;31m \u001b[0;32mwith\u001b[0m \u001b[0mconnect\u001b[0m\u001b[0;34m(\u001b[0m\u001b[0mpath_to_db\u001b[0m\u001b[0;34m)\u001b[0m \u001b[0;32mas\u001b[0m \u001b[0mconn\u001b[0m\u001b[0;34m:\u001b[0m\u001b[0;34m\u001b[0m\u001b[0m\n\u001b[0m\u001b[1;32m      6\u001b[0m     \u001b[0;32mfor\u001b[0m \u001b[0mrow\u001b[0m \u001b[0;32min\u001b[0m \u001b[0mconn\u001b[0m\u001b[0;34m.\u001b[0m\u001b[0mselect\u001b[0m\u001b[0;34m(\u001b[0m\u001b[0;34m)\u001b[0m\u001b[0;34m:\u001b[0m\u001b[0;34m\u001b[0m\u001b[0m\n\u001b[1;32m      7\u001b[0m         \u001b[0mmolecules\u001b[0m\u001b[0;34m.\u001b[0m\u001b[0mappend\u001b[0m\u001b[0;34m(\u001b[0m\u001b[0mnp\u001b[0m\u001b[0;34m.\u001b[0m\u001b[0mhstack\u001b[0m\u001b[0;34m(\u001b[0m\u001b[0;34m(\u001b[0m\u001b[0mrow\u001b[0m\u001b[0;34m[\u001b[0m\u001b[0;34m'numbers'\u001b[0m\u001b[0;34m]\u001b[0m\u001b[0;34m.\u001b[0m\u001b[0mreshape\u001b[0m\u001b[0;34m(\u001b[0m\u001b[0;34m(\u001b[0m\u001b[0;36m19\u001b[0m\u001b[0;34m,\u001b[0m \u001b[0;36m1\u001b[0m\u001b[0;34m)\u001b[0m\u001b[0;34m)\u001b[0m\u001b[0;34m,\u001b[0m \u001b[0mrow\u001b[0m\u001b[0;34m[\u001b[0m\u001b[0;34m'positions'\u001b[0m\u001b[0;34m]\u001b[0m\u001b[0;34m)\u001b[0m\u001b[0;34m)\u001b[0m\u001b[0;34m)\u001b[0m\u001b[0;34m\u001b[0m\u001b[0m\n",
      "\u001b[0;31mNameError\u001b[0m: name 'path_to_db' is not defined"
     ]
    }
   ],
   "source": [
    "from ase.db import connect\n",
    "\n",
    "molecules = []\n",
    "energies = []\n",
    "with connect(path_to_db) as conn:\n",
    "    for row in conn.select():\n",
    "        molecules.append(np.hstack((row['numbers'].reshape((19, 1)), row['positions'])))\n",
    "        energies.append(row['total_energy'])"
   ]
  },
  {
   "cell_type": "code",
   "execution_count": null,
   "metadata": {},
   "outputs": [],
   "source": [
    "np.array(molecules).shape"
   ]
  },
  {
   "cell_type": "markdown",
   "metadata": {},
   "source": [
    "# Run Calculations"
   ]
  },
  {
   "cell_type": "code",
   "execution_count": null,
   "metadata": {
    "scrolled": true
   },
   "outputs": [],
   "source": [
    "start = time.time()\n",
    "network_in = np.array(get_input_data(molecules))\n",
    "print('time: {}'.format(time.time()-start))"
   ]
  },
  {
   "cell_type": "code",
   "execution_count": null,
   "metadata": {
    "collapsed": true
   },
   "outputs": [],
   "source": [
    "network_in.shape"
   ]
  },
  {
   "cell_type": "code",
   "execution_count": null,
   "metadata": {
    "collapsed": true
   },
   "outputs": [],
   "source": [
    "len(energies)"
   ]
  },
  {
   "cell_type": "markdown",
   "metadata": {},
   "source": [
    "## Save arrays to file"
   ]
  },
  {
   "cell_type": "code",
   "execution_count": null,
   "metadata": {
    "collapsed": true
   },
   "outputs": [],
   "source": [
    "data_path = './Dataset/c702h10_X'\n",
    "label_path = './Dataset/c702h10_Y'"
   ]
  },
  {
   "cell_type": "code",
   "execution_count": null,
   "metadata": {
    "collapsed": true
   },
   "outputs": [],
   "source": [
    "np.save(data_path, network_in)\n",
    "np.save(label_path, energies)"
   ]
  },
  {
   "cell_type": "markdown",
   "metadata": {},
   "source": [
    "# Testing"
   ]
  },
  {
   "cell_type": "markdown",
   "metadata": {},
   "source": [
    "## Test Functions"
   ]
  },
  {
   "cell_type": "code",
   "execution_count": null,
   "metadata": {
    "collapsed": true
   },
   "outputs": [],
   "source": [
    "def test_get_spherical():\n",
    "    test_positions = np.array([[0, 1, 2],\n",
    "                               [1, 1, 1],\n",
    "                               [-1, 2, 1]])\n",
    "    val_result = np.array([[1/np.sqrt(5), np.cos(np.arccos(2/np.sqrt(5))),\n",
    "                            np.cos(np.pi/2), np.sin(np.pi/2)],\n",
    "                           [1/np.sqrt(3), np.cos(np.arccos(1/np.sqrt(3))),\n",
    "                            np.cos(np.arctan(1)), np.sin(np.arctan(1))],\n",
    "                           [1/np.sqrt(6), np.cos(np.arccos(1/np.sqrt(6))),\n",
    "                            np.cos(np.arctan(-2) + np.pi), np.sin(np.arctan(-2) + np.pi)]])\n",
    "    assert_array_almost_equal(val_result, get_spherical(test_positions)) \n",
    "    print('pass!')"
   ]
  },
  {
   "cell_type": "code",
   "execution_count": null,
   "metadata": {
    "collapsed": true
   },
   "outputs": [],
   "source": [
    "def test_change_base():\n",
    "    test_positions = np.array([[0, 1, 2],\n",
    "                               [1, 1, 1],\n",
    "                               [-1, 2, 1]])\n",
    "    x = np.array([1, 1, 0])\n",
    "    y = np.array([0, 0, 1])\n",
    "    z = np.array([2, 1, 3])\n",
    "    val_result = np.array([[-7.,-13.,4.],\n",
    "                           [-8.,-17.,5.],\n",
    "                           [-4., -8.,2.]])\n",
    "    o = np.array([-1, 4, 3])\n",
    "    assert_array_almost_equal(val_result, change_base(test_positions, x, y, z, o))\n",
    "    print('pass!')"
   ]
  },
  {
   "cell_type": "code",
   "execution_count": null,
   "metadata": {
    "collapsed": true
   },
   "outputs": [],
   "source": [
    "def test_input_data():\n",
    "    # load molecule and sort\n",
    "    test_mol = molecules[0]\n",
    "    test_mol = test_mol[test_mol[:,0].argsort(kind='mergesort')]\n",
    "    results = np.zeros((19, 72))\n",
    "    positions = test_mol[:, 1:]\n",
    "    # H-part\n",
    "    for i in range(10):\n",
    "        dists = cdist(positions[np.newaxis, i], positions[10:])\n",
    "        one, two = dists.argsort().reshape(9)[:2] + 10\n",
    "        zero = i\n",
    "        x = positions[one] - positions[zero]\n",
    "        z = np.cross(x, positions[two] - positions[zero])\n",
    "        y = np.cross(z, x)\n",
    "        x /= np.linalg.norm(x)\n",
    "        y /= np.linalg.norm(y)\n",
    "        z /= np.linalg.norm(z)\n",
    "        others = np.vstack((test_mol[:i], test_mol[i+1:]))\n",
    "        ch_b_others = change_base(others[:, 1:], x, y, z, positions[zero])\n",
    "        sph_others = get_spherical(ch_b_others)\n",
    "        ids = sph_others[:, 0].argsort(kind='mergesort')\n",
    "        sph_others = sph_others[ids]\n",
    "        others = others[ids]\n",
    "        sph_others = sph_others[others[:, 0].argsort(kind='mergesort')]\n",
    "        results[i] = sph_others.reshape(72)\n",
    "    # C-part\n",
    "    for i in range(10, 17):\n",
    "        others = np.vstack((test_mol[:i], test_mol[i+1:]))\n",
    "        neighs = others[10:]\n",
    "        dists = cdist(positions[np.newaxis, i], neighs[:, 1:])\n",
    "        one_id, two_id = dists.argsort().reshape(8)[:2]\n",
    "        one, two = neighs[one_id, 1:], neighs[two_id, 1:]\n",
    "        zero =test_mol[i, 1:]\n",
    "        x = one - zero\n",
    "        z = np.cross(x, two - zero)\n",
    "        y = np.cross(z, x)\n",
    "        x /= np.linalg.norm(x)\n",
    "        y /= np.linalg.norm(y)\n",
    "        z /= np.linalg.norm(z)\n",
    "        ch_b_others = change_base(others[:, 1:], x, y, z, zero)\n",
    "        sph_others = get_spherical(ch_b_others)\n",
    "        ids = sph_others[:, 0].argsort(kind='mergesort')\n",
    "        sph_others = sph_others[ids]\n",
    "        others = others[ids]\n",
    "        sph_others = sph_others[others[:, 0].argsort(kind='mergesort')]\n",
    "        results[i] = sph_others.reshape(72)\n",
    "    # O-part\n",
    "    for i in range(17, 19):\n",
    "        others = np.vstack((test_mol[:i], test_mol[i+1:]))\n",
    "        neighs = others[10:]\n",
    "        dists = cdist(positions[np.newaxis, i], neighs[:, 1:])\n",
    "        one_id, two_id = dists.argsort().reshape(8)[:2]\n",
    "        one, two = neighs[one_id, 1:], neighs[two_id, 1:]\n",
    "        zero =test_mol[i, 1:]\n",
    "        x = one - zero\n",
    "        z = np.cross(x, two - zero)\n",
    "        y = np.cross(z, x)\n",
    "        x /= np.linalg.norm(x)\n",
    "        y /= np.linalg.norm(y)\n",
    "        z /= np.linalg.norm(z)\n",
    "        ch_b_others = change_base(others[:, 1:], x, y, z, zero)\n",
    "        sph_others = get_spherical(ch_b_others)\n",
    "        ids = sph_others[:, 0].argsort(kind='mergesort')\n",
    "        sph_others = sph_others[ids]\n",
    "        others = others[ids]\n",
    "        sph_others = sph_others[others[:, 0].argsort(kind='mergesort')]\n",
    "        results[i] = sph_others.reshape(72)\n",
    "    test_result = np.array(get_input_data(test_mol[np.newaxis])).reshape(19, 72)\n",
    "    \n",
    "    assert_array_almost_equal(test_result, results)\n",
    "    print('pass!')"
   ]
  },
  {
   "cell_type": "markdown",
   "metadata": {},
   "source": [
    "## Run Tests"
   ]
  },
  {
   "cell_type": "code",
   "execution_count": null,
   "metadata": {
    "collapsed": true
   },
   "outputs": [],
   "source": [
    "test_get_spherical()"
   ]
  },
  {
   "cell_type": "code",
   "execution_count": null,
   "metadata": {
    "collapsed": true
   },
   "outputs": [],
   "source": [
    "test_change_base()"
   ]
  },
  {
   "cell_type": "code",
   "execution_count": null,
   "metadata": {
    "collapsed": true
   },
   "outputs": [],
   "source": [
    "test_input_data()"
   ]
  }
 ],
 "metadata": {
  "kernelspec": {
   "display_name": "Python 3",
   "language": "python",
   "name": "python3"
  },
  "language_info": {
   "codemirror_mode": {
    "name": "ipython",
    "version": 3
   },
   "file_extension": ".py",
   "mimetype": "text/x-python",
   "name": "python",
   "nbconvert_exporter": "python",
   "pygments_lexer": "ipython3",
   "version": "3.6.3"
  }
 },
 "nbformat": 4,
 "nbformat_minor": 2
}
