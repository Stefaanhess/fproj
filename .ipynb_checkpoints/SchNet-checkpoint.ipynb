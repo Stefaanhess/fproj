{
 "cells": [
  {
   "cell_type": "markdown",
   "metadata": {},
   "source": [
    "# Imports and Settings"
   ]
  },
  {
   "cell_type": "code",
   "execution_count": 1,
   "metadata": {},
   "outputs": [],
   "source": [
    "import numpy as np\n",
    "import torch\n",
    "import torch.nn as nn\n",
    "from Code.Models.SchNet.schnet import SchNet\n",
    "from Code.Train.trainer import Trainer\n",
    "from Code.Tools.Network.lr_scheduler import AbcExponentialLR\n",
    "import matplotlib\n",
    "%matplotlib inline"
   ]
  },
  {
   "cell_type": "code",
   "execution_count": 2,
   "metadata": {},
   "outputs": [],
   "source": [
    "debug = False\n",
    "use_cuda = True"
   ]
  },
  {
   "cell_type": "code",
   "execution_count": 3,
   "metadata": {},
   "outputs": [],
   "source": [
    "data_path_train = './Dataset/SchNet/iso17_train_X.npy'\n",
    "label_path_train = './Dataset/SchNet/iso17_train_Y.npy'\n",
    "data_path_within = './Dataset/SchNet/iso17_within_X.npy'\n",
    "label_path_within = './Dataset/SchNet/iso17_within_Y.npy'\n",
    "comment = 'standardized'\n",
    "eval_path = './evaluation/SchNet'"
   ]
  },
  {
   "cell_type": "markdown",
   "metadata": {},
   "source": [
    "# Load Data"
   ]
  },
  {
   "cell_type": "code",
   "execution_count": 4,
   "metadata": {},
   "outputs": [],
   "source": [
    "X_train = np.load(data_path_train)\n",
    "Y_train = np.load(label_path_train) * -1\n",
    "X_within = np.load(data_path_within)\n",
    "Y_within = np.load(label_path_within) * -1"
   ]
  },
  {
   "cell_type": "code",
   "execution_count": 5,
   "metadata": {},
   "outputs": [
    {
     "data": {
      "text/plain": [
       "(404000, 19, 19)"
      ]
     },
     "execution_count": 5,
     "metadata": {},
     "output_type": "execute_result"
    }
   ],
   "source": [
    "X_train.shape"
   ]
  },
  {
   "cell_type": "code",
   "execution_count": 6,
   "metadata": {},
   "outputs": [],
   "source": [
    "if debug:\n",
    "    n_data = 4000\n",
    "    X_train = X_train[:n_data]\n",
    "    Y_train = Y_train[:n_data]\n",
    "    X_within = X_within[:n_data]\n",
    "    Y_within = Y_within[:n_data]"
   ]
  },
  {
   "cell_type": "markdown",
   "metadata": {},
   "source": [
    "# Initialize Network"
   ]
  },
  {
   "cell_type": "code",
   "execution_count": 7,
   "metadata": {},
   "outputs": [],
   "source": [
    "optimizer = torch.optim.Adam\n",
    "loss_fn = torch.nn.MSELoss\n",
    "lr_scheduler = AbcExponentialLR\n",
    "lr_schedule = (0.001, 0.96, 1)\n",
    "schnet = SchNet()\n",
    "trainer = Trainer(model=schnet, optimizer=optimizer, loss_fn=loss_fn, eval_path=eval_path,\n",
    "                  comment=comment, lr_scheduler=lr_scheduler, abc_schedule=lr_schedule,\n",
    "                  use_cuda=use_cuda, lr_step='s100000', single_test_batch=True)"
   ]
  },
  {
   "cell_type": "code",
   "execution_count": 8,
   "metadata": {},
   "outputs": [],
   "source": [
    "trainer.create_dataloaders(X_train, Y_train, X_within, Y_within, 32, normalize_X=False, num_workers=2)"
   ]
  },
  {
   "cell_type": "markdown",
   "metadata": {},
   "source": [
    "# Train"
   ]
  },
  {
   "cell_type": "code",
   "execution_count": 9,
   "metadata": {},
   "outputs": [
    {
     "name": "stdout",
     "output_type": "stream",
     "text": [
      "epoch: 1\tprogress: 0.0\ttime estimate: 2451.85\ttrain loss: 0.004275\ttest loss: 0.003953\n",
      "epoch: 2\tprogress: 0.01\ttime estimate: 2440.78\ttrain loss: 0.001303\ttest loss: 0.001154\n",
      "epoch: 3\tprogress: 0.01\ttime estimate: 2432.34\ttrain loss: 0.000939\ttest loss: 0.002038\n",
      "epoch: 4\tprogress: 0.01\ttime estimate: 2424.65\ttrain loss: 0.000787\ttest loss: 0.000815\n",
      "epoch: 5\tprogress: 0.02\ttime estimate: 2416.32\ttrain loss: 0.000703\ttest loss: 0.00144\n",
      "epoch: 6\tprogress: 0.02\ttime estimate: 2408.52\ttrain loss: 0.000638\ttest loss: 0.00087\n",
      "epoch: 7\tprogress: 0.02\ttime estimate: 2400.47\ttrain loss: 0.000595\ttest loss: 0.001775\n",
      "epoch: 8\tprogress: 0.03\ttime estimate: 2392.65\ttrain loss: 0.000564\ttest loss: 0.000586\n",
      "epoch: 9\tprogress: 0.03\ttime estimate: 2384.5\ttrain loss: 0.000531\ttest loss: 0.000598\n",
      "epoch: 10\tprogress: 0.03\ttime estimate: 2376.3\ttrain loss: 0.00051\ttest loss: 0.000515\n",
      "epoch: 11\tprogress: 0.04\ttime estimate: 2368.43\ttrain loss: 0.000492\ttest loss: 0.000432\n",
      "epoch: 12\tprogress: 0.04\ttime estimate: 2360.28\ttrain loss: 0.00047\ttest loss: 0.000449\n",
      "epoch: 13\tprogress: 0.04\ttime estimate: 2352.1\ttrain loss: 0.000456\ttest loss: 0.000361\n",
      "epoch: 14\tprogress: 0.05\ttime estimate: 2343.91\ttrain loss: 0.000442\ttest loss: 0.00046\n",
      "epoch: 15\tprogress: 0.05\ttime estimate: 2335.76\ttrain loss: 0.000428\ttest loss: 0.000676\n",
      "epoch: 16\tprogress: 0.05\ttime estimate: 2327.69\ttrain loss: 0.000417\ttest loss: 0.000412\n",
      "epoch: 17\tprogress: 0.06\ttime estimate: 2319.59\ttrain loss: 0.000406\ttest loss: 0.000365\n",
      "epoch: 18\tprogress: 0.06\ttime estimate: 2311.39\ttrain loss: 0.000395\ttest loss: 0.000383\n",
      "epoch: 19\tprogress: 0.06\ttime estimate: 2303.25\ttrain loss: 0.000385\ttest loss: 0.000399\n",
      "epoch: 20\tprogress: 0.07\ttime estimate: 2295.16\ttrain loss: 0.000377\ttest loss: 0.000511\n",
      "epoch: 21\tprogress: 0.07\ttime estimate: 2287.01\ttrain loss: 0.000368\ttest loss: 0.000634\n",
      "epoch: 22\tprogress: 0.07\ttime estimate: 2278.94\ttrain loss: 0.000358\ttest loss: 0.000382\n",
      "epoch: 23\tprogress: 0.08\ttime estimate: 2270.79\ttrain loss: 0.000351\ttest loss: 0.000322\n",
      "epoch: 24\tprogress: 0.08\ttime estimate: 2262.63\ttrain loss: 0.000344\ttest loss: 0.000557\n",
      "epoch: 25\tprogress: 0.08\ttime estimate: 2254.45\ttrain loss: 0.000337\ttest loss: 0.000519\n",
      "epoch: 26\tprogress: 0.09\ttime estimate: 2246.35\ttrain loss: 0.000329\ttest loss: 0.000402\n",
      "epoch: 27\tprogress: 0.09\ttime estimate: 2238.21\ttrain loss: 0.000324\ttest loss: 0.000337\n",
      "epoch: 28\tprogress: 0.09\ttime estimate: 2230.23\ttrain loss: 0.000319\ttest loss: 0.000356\n",
      "epoch: 29\tprogress: 0.1\ttime estimate: 2222.06\ttrain loss: 0.000311\ttest loss: 0.000399\n",
      "epoch: 30\tprogress: 0.1\ttime estimate: 2213.88\ttrain loss: 0.000307\ttest loss: 0.000541\n",
      "epoch: 31\tprogress: 0.1\ttime estimate: 2205.66\ttrain loss: 0.000302\ttest loss: 0.00028\n",
      "epoch: 32\tprogress: 0.11\ttime estimate: 2197.44\ttrain loss: 0.000296\ttest loss: 0.000369\n",
      "epoch: 33\tprogress: 0.11\ttime estimate: 2189.27\ttrain loss: 0.000291\ttest loss: 0.000302\n",
      "epoch: 34\tprogress: 0.11\ttime estimate: 2181.06\ttrain loss: 0.000286\ttest loss: 0.000427\n",
      "epoch: 35\tprogress: 0.12\ttime estimate: 2172.85\ttrain loss: 0.000281\ttest loss: 0.000384\n",
      "epoch: 36\tprogress: 0.12\ttime estimate: 2164.66\ttrain loss: 0.000277\ttest loss: 0.000338\n",
      "epoch: 37\tprogress: 0.12\ttime estimate: 2156.48\ttrain loss: 0.000272\ttest loss: 0.000315\n",
      "epoch: 38\tprogress: 0.13\ttime estimate: 2148.31\ttrain loss: 0.00027\ttest loss: 0.000336\n",
      "epoch: 39\tprogress: 0.13\ttime estimate: 2140.12\ttrain loss: 0.000265\ttest loss: 0.000326\n",
      "epoch: 40\tprogress: 0.13\ttime estimate: 2131.97\ttrain loss: 0.000261\ttest loss: 0.000385\n",
      "epoch: 41\tprogress: 0.14\ttime estimate: 2123.8\ttrain loss: 0.000258\ttest loss: 0.000345\n",
      "epoch: 42\tprogress: 0.14\ttime estimate: 2115.67\ttrain loss: 0.000255\ttest loss: 0.000305\n",
      "epoch: 43\tprogress: 0.14\ttime estimate: 2107.47\ttrain loss: 0.000252\ttest loss: 0.000237\n",
      "epoch: 44\tprogress: 0.15\ttime estimate: 2099.3\ttrain loss: 0.000249\ttest loss: 0.00028\n",
      "epoch: 45\tprogress: 0.15\ttime estimate: 2091.13\ttrain loss: 0.000246\ttest loss: 0.000302\n",
      "epoch: 46\tprogress: 0.15\ttime estimate: 2082.92\ttrain loss: 0.000244\ttest loss: 0.000295\n",
      "epoch: 47\tprogress: 0.16\ttime estimate: 2074.75\ttrain loss: 0.000241\ttest loss: 0.000303\n",
      "epoch: 48\tprogress: 0.16\ttime estimate: 2066.55\ttrain loss: 0.000238\ttest loss: 0.000289\n",
      "epoch: 49\tprogress: 0.16\ttime estimate: 2058.35\ttrain loss: 0.000235\ttest loss: 0.000312\n",
      "epoch: 50\tprogress: 0.17\ttime estimate: 2050.16\ttrain loss: 0.000233\ttest loss: 0.000259\n",
      "epoch: 51\tprogress: 0.17\ttime estimate: 2041.96\ttrain loss: 0.000231\ttest loss: 0.000296\n",
      "epoch: 52\tprogress: 0.17\ttime estimate: 2033.75\ttrain loss: 0.000229\ttest loss: 0.000232\n",
      "epoch: 53\tprogress: 0.18\ttime estimate: 2025.58\ttrain loss: 0.000226\ttest loss: 0.000257\n",
      "epoch: 54\tprogress: 0.18\ttime estimate: 2017.39\ttrain loss: 0.000224\ttest loss: 0.000252\n",
      "epoch: 55\tprogress: 0.18\ttime estimate: 2009.18\ttrain loss: 0.000223\ttest loss: 0.000231\n",
      "epoch: 56\tprogress: 0.19\ttime estimate: 2000.98\ttrain loss: 0.00022\ttest loss: 0.000265\n",
      "epoch: 57\tprogress: 0.19\ttime estimate: 1992.8\ttrain loss: 0.000219\ttest loss: 0.000308\n",
      "epoch: 58\tprogress: 0.19\ttime estimate: 1984.58\ttrain loss: 0.000217\ttest loss: 0.000237\n",
      "epoch: 59\tprogress: 0.2\ttime estimate: 1976.4\ttrain loss: 0.000215\ttest loss: 0.000273\n",
      "epoch: 60\tprogress: 0.2\ttime estimate: 1968.2\ttrain loss: 0.000213\ttest loss: 0.000256\n",
      "epoch: 61\tprogress: 0.2\ttime estimate: 1960.0\ttrain loss: 0.000212\ttest loss: 0.000266\n",
      "epoch: 62\tprogress: 0.21\ttime estimate: 1951.79\ttrain loss: 0.000211\ttest loss: 0.000252\n",
      "epoch: 63\tprogress: 0.21\ttime estimate: 1943.6\ttrain loss: 0.000209\ttest loss: 0.000245\n",
      "epoch: 64\tprogress: 0.21\ttime estimate: 1935.41\ttrain loss: 0.000207\ttest loss: 0.000281\n",
      "epoch: 65\tprogress: 0.22\ttime estimate: 1927.2\ttrain loss: 0.000207\ttest loss: 0.000358\n",
      "epoch: 66\tprogress: 0.22\ttime estimate: 1919.01\ttrain loss: 0.000205\ttest loss: 0.000235\n",
      "epoch: 67\tprogress: 0.22\ttime estimate: 1910.83\ttrain loss: 0.000204\ttest loss: 0.000293\n",
      "epoch: 68\tprogress: 0.23\ttime estimate: 1902.63\ttrain loss: 0.000203\ttest loss: 0.000267\n",
      "epoch: 69\tprogress: 0.23\ttime estimate: 1894.44\ttrain loss: 0.000201\ttest loss: 0.000281\n",
      "epoch: 70\tprogress: 0.23\ttime estimate: 1886.24\ttrain loss: 0.000201\ttest loss: 0.000277\n",
      "epoch: 71\tprogress: 0.24\ttime estimate: 1878.07\ttrain loss: 0.0002\ttest loss: 0.000255\n",
      "epoch: 72\tprogress: 0.24\ttime estimate: 1869.89\ttrain loss: 0.000198\ttest loss: 0.000288\n",
      "epoch: 73\tprogress: 0.24\ttime estimate: 1861.68\ttrain loss: 0.000198\ttest loss: 0.000314\n",
      "epoch: 74\tprogress: 0.25\ttime estimate: 1853.49\ttrain loss: 0.000197\ttest loss: 0.000297\n",
      "epoch: 75\tprogress: 0.25\ttime estimate: 1845.29\ttrain loss: 0.000196\ttest loss: 0.000245\n",
      "epoch: 76\tprogress: 0.25\ttime estimate: 1837.09\ttrain loss: 0.000195\ttest loss: 0.000245\n",
      "epoch: 77\tprogress: 0.26\ttime estimate: 1828.91\ttrain loss: 0.000194\ttest loss: 0.000251\n",
      "epoch: 78\tprogress: 0.26\ttime estimate: 1820.72\ttrain loss: 0.000193\ttest loss: 0.000231\n",
      "epoch: 79\tprogress: 0.26\ttime estimate: 1812.52\ttrain loss: 0.000192\ttest loss: 0.000218\n",
      "epoch: 80\tprogress: 0.27\ttime estimate: 1804.32\ttrain loss: 0.000192\ttest loss: 0.000263\n",
      "epoch: 81\tprogress: 0.27\ttime estimate: 1796.12\ttrain loss: 0.000191\ttest loss: 0.00025\n",
      "epoch: 82\tprogress: 0.27\ttime estimate: 1787.92\ttrain loss: 0.00019\ttest loss: 0.000264\n",
      "epoch: 83\tprogress: 0.28\ttime estimate: 1779.71\ttrain loss: 0.00019\ttest loss: 0.000256\n",
      "epoch: 84\tprogress: 0.28\ttime estimate: 1771.52\ttrain loss: 0.000189\ttest loss: 0.000237\n",
      "epoch: 85\tprogress: 0.28\ttime estimate: 1763.32\ttrain loss: 0.000188\ttest loss: 0.000244\n",
      "epoch: 86\tprogress: 0.29\ttime estimate: 1755.12\ttrain loss: 0.000188\ttest loss: 0.000231\n",
      "epoch: 87\tprogress: 0.29\ttime estimate: 1746.92\ttrain loss: 0.000187\ttest loss: 0.000251\n",
      "epoch: 88\tprogress: 0.29\ttime estimate: 1738.72\ttrain loss: 0.000186\ttest loss: 0.000238\n",
      "epoch: 89\tprogress: 0.3\ttime estimate: 1730.52\ttrain loss: 0.000186\ttest loss: 0.000257\n",
      "epoch: 90\tprogress: 0.3\ttime estimate: 1722.33\ttrain loss: 0.000185\ttest loss: 0.000249\n",
      "epoch: 91\tprogress: 0.3\ttime estimate: 1714.13\ttrain loss: 0.000185\ttest loss: 0.000234\n",
      "epoch: 92\tprogress: 0.31\ttime estimate: 1705.95\ttrain loss: 0.000185\ttest loss: 0.000259\n",
      "epoch: 93\tprogress: 0.31\ttime estimate: 1697.75\ttrain loss: 0.000184\ttest loss: 0.000242\n"
     ]
    },
    {
     "name": "stdout",
     "output_type": "stream",
     "text": [
      "epoch: 94\tprogress: 0.31\ttime estimate: 1689.55\ttrain loss: 0.000184\ttest loss: 0.000256\n",
      "epoch: 95\tprogress: 0.32\ttime estimate: 1681.33\ttrain loss: 0.000183\ttest loss: 0.000246\n",
      "epoch: 96\tprogress: 0.32\ttime estimate: 1673.14\ttrain loss: 0.000183\ttest loss: 0.000247\n",
      "epoch: 97\tprogress: 0.32\ttime estimate: 1664.94\ttrain loss: 0.000182\ttest loss: 0.000249\n",
      "epoch: 98\tprogress: 0.33\ttime estimate: 1656.73\ttrain loss: 0.000182\ttest loss: 0.00028\n",
      "epoch: 99\tprogress: 0.33\ttime estimate: 1648.59\ttrain loss: 0.000182\ttest loss: 0.000253\n",
      "epoch: 100\tprogress: 0.33\ttime estimate: 1640.39\ttrain loss: 0.000181\ttest loss: 0.000264\n",
      "epoch: 101\tprogress: 0.34\ttime estimate: 1632.19\ttrain loss: 0.000181\ttest loss: 0.000241\n",
      "epoch: 102\tprogress: 0.34\ttime estimate: 1624.0\ttrain loss: 0.000181\ttest loss: 0.000252\n",
      "epoch: 103\tprogress: 0.34\ttime estimate: 1615.84\ttrain loss: 0.00018\ttest loss: 0.00026\n",
      "epoch: 104\tprogress: 0.35\ttime estimate: 1607.65\ttrain loss: 0.00018\ttest loss: 0.000244\n",
      "epoch: 105\tprogress: 0.35\ttime estimate: 1599.49\ttrain loss: 0.000179\ttest loss: 0.000268\n",
      "epoch: 106\tprogress: 0.35\ttime estimate: 1591.29\ttrain loss: 0.000179\ttest loss: 0.00026\n",
      "epoch: 107\tprogress: 0.36\ttime estimate: 1583.12\ttrain loss: 0.000179\ttest loss: 0.000258\n",
      "epoch: 108\tprogress: 0.36\ttime estimate: 1574.95\ttrain loss: 0.000179\ttest loss: 0.000252\n",
      "epoch: 109\tprogress: 0.36\ttime estimate: 1566.74\ttrain loss: 0.000178\ttest loss: 0.00025\n",
      "epoch: 110\tprogress: 0.37\ttime estimate: 1558.54\ttrain loss: 0.000178\ttest loss: 0.000253\n",
      "epoch: 111\tprogress: 0.37\ttime estimate: 1550.35\ttrain loss: 0.000178\ttest loss: 0.000242\n",
      "epoch: 112\tprogress: 0.37\ttime estimate: 1542.15\ttrain loss: 0.000178\ttest loss: 0.000263\n",
      "epoch: 113\tprogress: 0.38\ttime estimate: 1533.95\ttrain loss: 0.000178\ttest loss: 0.000247\n",
      "epoch: 114\tprogress: 0.38\ttime estimate: 1525.75\ttrain loss: 0.000177\ttest loss: 0.000249\n",
      "epoch: 115\tprogress: 0.38\ttime estimate: 1517.55\ttrain loss: 0.000177\ttest loss: 0.000256\n",
      "epoch: 116\tprogress: 0.39\ttime estimate: 1509.34\ttrain loss: 0.000177\ttest loss: 0.00024\n",
      "epoch: 117\tprogress: 0.39\ttime estimate: 1501.15\ttrain loss: 0.000177\ttest loss: 0.000244\n",
      "epoch: 118\tprogress: 0.39\ttime estimate: 1492.94\ttrain loss: 0.000177\ttest loss: 0.00025\n",
      "epoch: 119\tprogress: 0.4\ttime estimate: 1484.74\ttrain loss: 0.000176\ttest loss: 0.000257\n",
      "epoch: 120\tprogress: 0.4\ttime estimate: 1476.54\ttrain loss: 0.000176\ttest loss: 0.000261\n",
      "epoch: 121\tprogress: 0.4\ttime estimate: 1468.34\ttrain loss: 0.000176\ttest loss: 0.000252\n",
      "epoch: 122\tprogress: 0.41\ttime estimate: 1460.14\ttrain loss: 0.000176\ttest loss: 0.000247\n",
      "epoch: 123\tprogress: 0.41\ttime estimate: 1451.93\ttrain loss: 0.000176\ttest loss: 0.00025\n",
      "epoch: 124\tprogress: 0.41\ttime estimate: 1443.73\ttrain loss: 0.000176\ttest loss: 0.000245\n",
      "epoch: 125\tprogress: 0.42\ttime estimate: 1435.54\ttrain loss: 0.000175\ttest loss: 0.000249\n",
      "epoch: 126\tprogress: 0.42\ttime estimate: 1427.33\ttrain loss: 0.000175\ttest loss: 0.000261\n",
      "epoch: 127\tprogress: 0.42\ttime estimate: 1419.13\ttrain loss: 0.000175\ttest loss: 0.000244\n",
      "epoch: 128\tprogress: 0.43\ttime estimate: 1410.94\ttrain loss: 0.000175\ttest loss: 0.000246\n",
      "epoch: 129\tprogress: 0.43\ttime estimate: 1402.73\ttrain loss: 0.000175\ttest loss: 0.000244\n",
      "epoch: 130\tprogress: 0.43\ttime estimate: 1394.54\ttrain loss: 0.000175\ttest loss: 0.000253\n",
      "epoch: 131\tprogress: 0.44\ttime estimate: 1386.34\ttrain loss: 0.000175\ttest loss: 0.000251\n",
      "epoch: 132\tprogress: 0.44\ttime estimate: 1378.14\ttrain loss: 0.000175\ttest loss: 0.000242\n",
      "epoch: 133\tprogress: 0.44\ttime estimate: 1369.94\ttrain loss: 0.000175\ttest loss: 0.000247\n",
      "epoch: 134\tprogress: 0.45\ttime estimate: 1361.74\ttrain loss: 0.000174\ttest loss: 0.000243\n",
      "epoch: 135\tprogress: 0.45\ttime estimate: 1353.53\ttrain loss: 0.000174\ttest loss: 0.000241\n",
      "epoch: 136\tprogress: 0.45\ttime estimate: 1345.33\ttrain loss: 0.000174\ttest loss: 0.000249\n",
      "epoch: 137\tprogress: 0.46\ttime estimate: 1337.13\ttrain loss: 0.000174\ttest loss: 0.000249\n",
      "epoch: 138\tprogress: 0.46\ttime estimate: 1328.94\ttrain loss: 0.000174\ttest loss: 0.000251\n",
      "epoch: 139\tprogress: 0.46\ttime estimate: 1320.73\ttrain loss: 0.000174\ttest loss: 0.000252\n",
      "epoch: 140\tprogress: 0.47\ttime estimate: 1312.53\ttrain loss: 0.000174\ttest loss: 0.000249\n",
      "epoch: 141\tprogress: 0.47\ttime estimate: 1304.33\ttrain loss: 0.000174\ttest loss: 0.000242\n",
      "epoch: 142\tprogress: 0.47\ttime estimate: 1296.12\ttrain loss: 0.000174\ttest loss: 0.000248\n",
      "epoch: 143\tprogress: 0.48\ttime estimate: 1287.92\ttrain loss: 0.000174\ttest loss: 0.000248\n",
      "epoch: 144\tprogress: 0.48\ttime estimate: 1279.71\ttrain loss: 0.000174\ttest loss: 0.000249\n",
      "epoch: 145\tprogress: 0.48\ttime estimate: 1271.51\ttrain loss: 0.000174\ttest loss: 0.000251\n",
      "epoch: 146\tprogress: 0.49\ttime estimate: 1263.31\ttrain loss: 0.000173\ttest loss: 0.000251\n",
      "epoch: 147\tprogress: 0.49\ttime estimate: 1255.11\ttrain loss: 0.000173\ttest loss: 0.000238\n",
      "epoch: 148\tprogress: 0.49\ttime estimate: 1246.91\ttrain loss: 0.000173\ttest loss: 0.000247\n",
      "epoch: 149\tprogress: 0.5\ttime estimate: 1238.7\ttrain loss: 0.000173\ttest loss: 0.000249\n",
      "epoch: 150\tprogress: 0.5\ttime estimate: 1230.51\ttrain loss: 0.000173\ttest loss: 0.000247\n",
      "epoch: 151\tprogress: 0.5\ttime estimate: 1222.3\ttrain loss: 0.000173\ttest loss: 0.000242\n",
      "epoch: 152\tprogress: 0.51\ttime estimate: 1214.11\ttrain loss: 0.000173\ttest loss: 0.000242\n",
      "epoch: 153\tprogress: 0.51\ttime estimate: 1205.9\ttrain loss: 0.000173\ttest loss: 0.00025\n",
      "epoch: 154\tprogress: 0.51\ttime estimate: 1197.7\ttrain loss: 0.000173\ttest loss: 0.000246\n",
      "epoch: 155\tprogress: 0.52\ttime estimate: 1189.5\ttrain loss: 0.000173\ttest loss: 0.000251\n",
      "epoch: 156\tprogress: 0.52\ttime estimate: 1181.3\ttrain loss: 0.000173\ttest loss: 0.000256\n",
      "epoch: 157\tprogress: 0.52\ttime estimate: 1173.09\ttrain loss: 0.000173\ttest loss: 0.000249\n",
      "epoch: 158\tprogress: 0.53\ttime estimate: 1164.89\ttrain loss: 0.000173\ttest loss: 0.000246\n",
      "epoch: 159\tprogress: 0.53\ttime estimate: 1156.68\ttrain loss: 0.000173\ttest loss: 0.000248\n",
      "epoch: 160\tprogress: 0.53\ttime estimate: 1148.47\ttrain loss: 0.000173\ttest loss: 0.00025\n",
      "epoch: 161\tprogress: 0.54\ttime estimate: 1140.27\ttrain loss: 0.000173\ttest loss: 0.000247\n",
      "epoch: 162\tprogress: 0.54\ttime estimate: 1132.07\ttrain loss: 0.000173\ttest loss: 0.000249\n",
      "epoch: 163\tprogress: 0.54\ttime estimate: 1123.86\ttrain loss: 0.000173\ttest loss: 0.000252\n",
      "epoch: 164\tprogress: 0.55\ttime estimate: 1115.65\ttrain loss: 0.000173\ttest loss: 0.000248\n",
      "epoch: 165\tprogress: 0.55\ttime estimate: 1107.45\ttrain loss: 0.000173\ttest loss: 0.000247\n",
      "epoch: 166\tprogress: 0.55\ttime estimate: 1099.25\ttrain loss: 0.000173\ttest loss: 0.000245\n",
      "epoch: 167\tprogress: 0.56\ttime estimate: 1091.05\ttrain loss: 0.000173\ttest loss: 0.00025\n",
      "epoch: 168\tprogress: 0.56\ttime estimate: 1082.84\ttrain loss: 0.000173\ttest loss: 0.000243\n"
     ]
    },
    {
     "name": "stderr",
     "output_type": "stream",
     "text": [
      "Process Process-673:\n",
      "Process Process-674:\n",
      "Traceback (most recent call last):\n",
      "Traceback (most recent call last):\n",
      "  File \"/home/stfn/anaconda3/lib/python3.6/multiprocessing/process.py\", line 258, in _bootstrap\n",
      "    self.run()\n",
      "  File \"/home/stfn/anaconda3/lib/python3.6/multiprocessing/process.py\", line 258, in _bootstrap\n",
      "    self.run()\n",
      "  File \"/home/stfn/anaconda3/lib/python3.6/multiprocessing/process.py\", line 93, in run\n",
      "    self._target(*self._args, **self._kwargs)\n",
      "  File \"/home/stfn/anaconda3/lib/python3.6/multiprocessing/process.py\", line 93, in run\n",
      "    self._target(*self._args, **self._kwargs)\n",
      "  File \"/home/stfn/anaconda3/lib/python3.6/site-packages/torch/utils/data/dataloader.py\", line 96, in _worker_loop\n",
      "    r = index_queue.get(timeout=MANAGER_STATUS_CHECK_INTERVAL)\n",
      "  File \"/home/stfn/anaconda3/lib/python3.6/site-packages/torch/utils/data/dataloader.py\", line 96, in _worker_loop\n",
      "    r = index_queue.get(timeout=MANAGER_STATUS_CHECK_INTERVAL)\n",
      "  File \"/home/stfn/anaconda3/lib/python3.6/multiprocessing/queues.py\", line 104, in get\n",
      "    if not self._poll(timeout):\n",
      "  File \"/home/stfn/anaconda3/lib/python3.6/multiprocessing/queues.py\", line 104, in get\n",
      "    if not self._poll(timeout):\n",
      "  File \"/home/stfn/anaconda3/lib/python3.6/multiprocessing/connection.py\", line 257, in poll\n",
      "    return self._poll(timeout)\n",
      "  File \"/home/stfn/anaconda3/lib/python3.6/multiprocessing/connection.py\", line 257, in poll\n",
      "    return self._poll(timeout)\n",
      "  File \"/home/stfn/anaconda3/lib/python3.6/multiprocessing/connection.py\", line 414, in _poll\n",
      "    r = wait([self], timeout)\n",
      "  File \"/home/stfn/anaconda3/lib/python3.6/multiprocessing/connection.py\", line 414, in _poll\n",
      "    r = wait([self], timeout)\n",
      "  File \"/home/stfn/anaconda3/lib/python3.6/multiprocessing/connection.py\", line 911, in wait\n",
      "    ready = selector.select(timeout)\n",
      "KeyboardInterrupt\n",
      "  File \"/home/stfn/anaconda3/lib/python3.6/multiprocessing/connection.py\", line 911, in wait\n",
      "    ready = selector.select(timeout)\n",
      "  File \"/home/stfn/anaconda3/lib/python3.6/selectors.py\", line 376, in select\n",
      "    fd_event_list = self._poll.poll(timeout)\n",
      "  File \"/home/stfn/anaconda3/lib/python3.6/selectors.py\", line 376, in select\n",
      "    fd_event_list = self._poll.poll(timeout)\n",
      "KeyboardInterrupt\n"
     ]
    },
    {
     "ename": "KeyboardInterrupt",
     "evalue": "",
     "output_type": "error",
     "traceback": [
      "\u001b[0;31m---------------------------------------------------------------------------\u001b[0m",
      "\u001b[0;31mKeyboardInterrupt\u001b[0m                         Traceback (most recent call last)",
      "\u001b[0;32m<ipython-input-9-0cc38cf19082>\u001b[0m in \u001b[0;36m<module>\u001b[0;34m()\u001b[0m\n\u001b[0;32m----> 1\u001b[0;31m \u001b[0mtrainer\u001b[0m\u001b[0;34m.\u001b[0m\u001b[0mfit\u001b[0m\u001b[0;34m(\u001b[0m\u001b[0;36m300\u001b[0m\u001b[0;34m)\u001b[0m\u001b[0;34m\u001b[0m\u001b[0m\n\u001b[0m",
      "\u001b[0;32m~/Documents/fproj/Code/Train/trainer.py\u001b[0m in \u001b[0;36mfit\u001b[0;34m(self, n_epochs)\u001b[0m\n\u001b[1;32m    114\u001b[0m         \u001b[0;32mwhile\u001b[0m \u001b[0mself\u001b[0m\u001b[0;34m.\u001b[0m\u001b[0mepoch\u001b[0m \u001b[0;34m<\u001b[0m \u001b[0mn_epochs\u001b[0m\u001b[0;34m:\u001b[0m\u001b[0;34m\u001b[0m\u001b[0m\n\u001b[1;32m    115\u001b[0m             self.train_losses.append(\n\u001b[0;32m--> 116\u001b[0;31m                 self.train_step(self.train_loader))\n\u001b[0m\u001b[1;32m    117\u001b[0m             \u001b[0;32mif\u001b[0m \u001b[0mself\u001b[0m\u001b[0;34m.\u001b[0m\u001b[0mtest_loader\u001b[0m\u001b[0;34m:\u001b[0m\u001b[0;34m\u001b[0m\u001b[0m\n\u001b[1;32m    118\u001b[0m                 \u001b[0;32mwith\u001b[0m \u001b[0mno_grad\u001b[0m\u001b[0;34m(\u001b[0m\u001b[0;34m)\u001b[0m\u001b[0;34m:\u001b[0m\u001b[0;34m\u001b[0m\u001b[0m\n",
      "\u001b[0;32m~/Documents/fproj/Code/Train/trainer.py\u001b[0m in \u001b[0;36mtrain_step\u001b[0;34m(self, loader)\u001b[0m\n\u001b[1;32m    144\u001b[0m             \u001b[0mloss\u001b[0m \u001b[0;34m=\u001b[0m \u001b[0mself\u001b[0m\u001b[0;34m.\u001b[0m\u001b[0mforward_and_apply_loss_function\u001b[0m\u001b[0;34m(\u001b[0m\u001b[0mx\u001b[0m\u001b[0;34m,\u001b[0m \u001b[0my\u001b[0m\u001b[0;34m)\u001b[0m\u001b[0;34m\u001b[0m\u001b[0m\n\u001b[1;32m    145\u001b[0m             \u001b[0mloss\u001b[0m\u001b[0;34m.\u001b[0m\u001b[0mbackward\u001b[0m\u001b[0;34m(\u001b[0m\u001b[0;34m)\u001b[0m\u001b[0;34m\u001b[0m\u001b[0m\n\u001b[0;32m--> 146\u001b[0;31m             \u001b[0mtrain_loss\u001b[0m \u001b[0;34m+=\u001b[0m \u001b[0mloss\u001b[0m\u001b[0;34m.\u001b[0m\u001b[0mitem\u001b[0m\u001b[0;34m(\u001b[0m\u001b[0;34m)\u001b[0m\u001b[0;34m\u001b[0m\u001b[0m\n\u001b[0m\u001b[1;32m    147\u001b[0m             \u001b[0mself\u001b[0m\u001b[0;34m.\u001b[0m\u001b[0moptim\u001b[0m\u001b[0;34m.\u001b[0m\u001b[0mstep\u001b[0m\u001b[0;34m(\u001b[0m\u001b[0;34m)\u001b[0m\u001b[0;34m\u001b[0m\u001b[0m\n\u001b[1;32m    148\u001b[0m             \u001b[0mself\u001b[0m\u001b[0;34m.\u001b[0m\u001b[0mn_steps\u001b[0m \u001b[0;34m+=\u001b[0m \u001b[0;36m1\u001b[0m\u001b[0;34m\u001b[0m\u001b[0m\n",
      "\u001b[0;31mKeyboardInterrupt\u001b[0m: "
     ]
    }
   ],
   "source": [
    "trainer.fit(300)"
   ]
  },
  {
   "cell_type": "markdown",
   "metadata": {},
   "source": [
    "# Evaluate"
   ]
  },
  {
   "cell_type": "code",
   "execution_count": 10,
   "metadata": {},
   "outputs": [
    {
     "data": {
      "text/plain": [
       "0.07819193601608276"
      ]
     },
     "execution_count": 10,
     "metadata": {},
     "output_type": "execute_result"
    }
   ],
   "source": [
    "trainer.calculate_mae()"
   ]
  },
  {
   "cell_type": "code",
   "execution_count": 11,
   "metadata": {},
   "outputs": [
    {
     "data": {
      "image/png": "[encoded data removed]",
      "text/plain": [
       "<Figure size 432x288 with 1 Axes>"
      ]
     },
     "metadata": {},
     "output_type": "display_data"
    }
   ],
   "source": [
    "trainer.create_loss_plot()"
   ]
  },
  {
   "cell_type": "code",
   "execution_count": 12,
   "metadata": {},
   "outputs": [
    {
     "name": "stderr",
     "output_type": "stream",
     "text": [
      "/home/stfn/anaconda3/lib/python3.6/site-packages/matplotlib/figure.py:459: UserWarning: matplotlib is currently using a non-GUI backend, so cannot show the figure\n",
      "  \"matplotlib is currently using a non-GUI backend, \"\n"
     ]
    }
   ],
   "source": [
    "trainer.show_loss_plot()"
   ]
  },
  {
   "cell_type": "code",
   "execution_count": 13,
   "metadata": {},
   "outputs": [],
   "source": [
    "trainer.save_loss_plot()"
   ]
  },
  {
   "cell_type": "code",
   "execution_count": null,
   "metadata": {},
   "outputs": [],
   "source": []
  }
 ],
 "metadata": {
  "kernelspec": {
   "display_name": "Python 3",
   "language": "python",
   "name": "python3"
  },
  "language_info": {
   "codemirror_mode": {
    "name": "ipython",
    "version": 3
   },
   "file_extension": ".py",
   "mimetype": "text/x-python",
   "name": "python",
   "nbconvert_exporter": "python",
   "pygments_lexer": "ipython3",
   "version": "3.6.5"
  }
 },
 "nbformat": 4,
 "nbformat_minor": 2
}
