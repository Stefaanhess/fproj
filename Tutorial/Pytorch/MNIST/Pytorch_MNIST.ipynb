{
 "cells": [
  {
   "cell_type": "markdown",
   "metadata": {},
   "source": [
    "# Imports"
   ]
  },
  {
   "cell_type": "code",
   "execution_count": 2,
   "metadata": {
    "collapsed": true
   },
   "outputs": [],
   "source": [
    "import torch\n",
    "import torch.nn as nn\n",
    "import torch.nn.functional as F\n",
    "import torch.optim as optim\n",
    "from torchvision import datasets, transforms\n",
    "from torch.autograd import Variable"
   ]
  },
  {
   "cell_type": "markdown",
   "metadata": {},
   "source": [
    "# Load Data"
   ]
  },
  {
   "cell_type": "code",
   "execution_count": 3,
   "metadata": {
    "collapsed": true
   },
   "outputs": [],
   "source": [
    "kwargs = {}\n",
    "train = torch.utils.data.DataLoader(datasets.MNIST('data', train=True, download=True,\n",
    "                                                   transform=transforms.Compose([transforms.ToTensor(),\n",
    "                                                   transforms.Normalize((0.1307,), (0.3081,))])),\n",
    "                                   batch_size=64, shuffle=True, **kwargs)\n",
    "test = torch.utils.data.DataLoader(datasets.MNIST('data', train=False, download=True,\n",
    "                                                   transform=transforms.Compose([transforms.ToTensor(),\n",
    "                                                   transforms.Normalize((0.1307,), (0.3081,))])),\n",
    "                                   batch_size=64, shuffle=True, **kwargs)"
   ]
  },
  {
   "cell_type": "code",
   "execution_count": 5,
   "metadata": {},
   "outputs": [],
   "source": [
    "train_list = list(train)"
   ]
  },
  {
   "cell_type": "code",
   "execution_count": 6,
   "metadata": {},
   "outputs": [
    {
     "data": {
      "text/plain": [
       "[\n",
       " (0 ,0 ,.,.) = \n",
       "  -0.4242 -0.4242 -0.4242  ...  -0.4242 -0.4242 -0.4242\n",
       "  -0.4242 -0.4242 -0.4242  ...  -0.4242 -0.4242 -0.4242\n",
       "  -0.4242 -0.4242 -0.4242  ...  -0.4242 -0.4242 -0.4242\n",
       "            ...             ⋱             ...          \n",
       "  -0.4242 -0.4242 -0.4242  ...  -0.4242 -0.4242 -0.4242\n",
       "  -0.4242 -0.4242 -0.4242  ...  -0.4242 -0.4242 -0.4242\n",
       "  -0.4242 -0.4242 -0.4242  ...  -0.4242 -0.4242 -0.4242\n",
       "      ⋮ \n",
       " \n",
       " (1 ,0 ,.,.) = \n",
       "  -0.4242 -0.4242 -0.4242  ...  -0.4242 -0.4242 -0.4242\n",
       "  -0.4242 -0.4242 -0.4242  ...  -0.4242 -0.4242 -0.4242\n",
       "  -0.4242 -0.4242 -0.4242  ...  -0.4242 -0.4242 -0.4242\n",
       "            ...             ⋱             ...          \n",
       "  -0.4242 -0.4242 -0.4242  ...  -0.4242 -0.4242 -0.4242\n",
       "  -0.4242 -0.4242 -0.4242  ...  -0.4242 -0.4242 -0.4242\n",
       "  -0.4242 -0.4242 -0.4242  ...  -0.4242 -0.4242 -0.4242\n",
       "      ⋮ \n",
       " \n",
       " (2 ,0 ,.,.) = \n",
       "  -0.4242 -0.4242 -0.4242  ...  -0.4242 -0.4242 -0.4242\n",
       "  -0.4242 -0.4242 -0.4242  ...  -0.4242 -0.4242 -0.4242\n",
       "  -0.4242 -0.4242 -0.4242  ...  -0.4242 -0.4242 -0.4242\n",
       "            ...             ⋱             ...          \n",
       "  -0.4242 -0.4242 -0.4242  ...  -0.4242 -0.4242 -0.4242\n",
       "  -0.4242 -0.4242 -0.4242  ...  -0.4242 -0.4242 -0.4242\n",
       "  -0.4242 -0.4242 -0.4242  ...  -0.4242 -0.4242 -0.4242\n",
       " ...   \n",
       "      ⋮ \n",
       " \n",
       " (61,0 ,.,.) = \n",
       "  -0.4242 -0.4242 -0.4242  ...  -0.4242 -0.4242 -0.4242\n",
       "  -0.4242 -0.4242 -0.4242  ...  -0.4242 -0.4242 -0.4242\n",
       "  -0.4242 -0.4242 -0.4242  ...  -0.4242 -0.4242 -0.4242\n",
       "            ...             ⋱             ...          \n",
       "  -0.4242 -0.4242 -0.4242  ...  -0.4242 -0.4242 -0.4242\n",
       "  -0.4242 -0.4242 -0.4242  ...  -0.4242 -0.4242 -0.4242\n",
       "  -0.4242 -0.4242 -0.4242  ...  -0.4242 -0.4242 -0.4242\n",
       "      ⋮ \n",
       " \n",
       " (62,0 ,.,.) = \n",
       "  -0.4242 -0.4242 -0.4242  ...  -0.4242 -0.4242 -0.4242\n",
       "  -0.4242 -0.4242 -0.4242  ...  -0.4242 -0.4242 -0.4242\n",
       "  -0.4242 -0.4242 -0.4242  ...  -0.4242 -0.4242 -0.4242\n",
       "            ...             ⋱             ...          \n",
       "  -0.4242 -0.4242 -0.4242  ...  -0.4242 -0.4242 -0.4242\n",
       "  -0.4242 -0.4242 -0.4242  ...  -0.4242 -0.4242 -0.4242\n",
       "  -0.4242 -0.4242 -0.4242  ...  -0.4242 -0.4242 -0.4242\n",
       "      ⋮ \n",
       " \n",
       " (63,0 ,.,.) = \n",
       "  -0.4242 -0.4242 -0.4242  ...  -0.4242 -0.4242 -0.4242\n",
       "  -0.4242 -0.4242 -0.4242  ...  -0.4242 -0.4242 -0.4242\n",
       "  -0.4242 -0.4242 -0.4242  ...  -0.4242 -0.4242 -0.4242\n",
       "            ...             ⋱             ...          \n",
       "  -0.4242 -0.4242 -0.4242  ...  -0.4242 -0.4242 -0.4242\n",
       "  -0.4242 -0.4242 -0.4242  ...  -0.4242 -0.4242 -0.4242\n",
       "  -0.4242 -0.4242 -0.4242  ...  -0.4242 -0.4242 -0.4242\n",
       " [torch.FloatTensor of size 64x1x28x28], \n",
       "  4\n",
       "  9\n",
       "  3\n",
       "  7\n",
       "  6\n",
       "  4\n",
       "  3\n",
       "  3\n",
       "  0\n",
       "  8\n",
       "  1\n",
       "  2\n",
       "  9\n",
       "  7\n",
       "  1\n",
       "  0\n",
       "  2\n",
       "  4\n",
       "  0\n",
       "  5\n",
       "  6\n",
       "  7\n",
       "  7\n",
       "  3\n",
       "  6\n",
       "  3\n",
       "  8\n",
       "  9\n",
       "  0\n",
       "  4\n",
       "  9\n",
       "  0\n",
       "  1\n",
       "  7\n",
       "  5\n",
       "  4\n",
       "  1\n",
       "  3\n",
       "  7\n",
       "  4\n",
       "  6\n",
       "  6\n",
       "  1\n",
       "  6\n",
       "  8\n",
       "  1\n",
       "  1\n",
       "  0\n",
       "  8\n",
       "  9\n",
       "  7\n",
       "  6\n",
       "  3\n",
       "  9\n",
       "  0\n",
       "  5\n",
       "  6\n",
       "  5\n",
       "  4\n",
       "  6\n",
       "  6\n",
       "  7\n",
       "  5\n",
       "  0\n",
       " [torch.LongTensor of size 64]]"
      ]
     },
     "execution_count": 6,
     "metadata": {},
     "output_type": "execute_result"
    }
   ],
   "source": [
    "train_list[0]"
   ]
  }
 ],
 "metadata": {
  "kernelspec": {
   "display_name": "Python (fproj)",
   "language": "python",
   "name": "fproj"
  },
  "language_info": {
   "codemirror_mode": {
    "name": "ipython",
    "version": 3
   },
   "file_extension": ".py",
   "mimetype": "text/x-python",
   "name": "python",
   "nbconvert_exporter": "python",
   "pygments_lexer": "ipython3",
   "version": "3.6.3"
  }
 },
 "nbformat": 4,
 "nbformat_minor": 2
}
