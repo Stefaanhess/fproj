{
 "cells": [
  {
   "cell_type": "markdown",
   "metadata": {},
   "source": [
    "# Imports and Settings"
   ]
  },
  {
   "cell_type": "code",
   "execution_count": 1,
   "metadata": {
    "collapsed": true
   },
   "outputs": [],
   "source": [
    "# -*- coding: utf-8 -*-\n",
    "import pandas as pd\n",
    "import numpy as np\n",
    "import os\n",
    "from scipy.spatial.distance import squareform, cdist\n",
    "import time\n",
    "from numpy.testing import *"
   ]
  },
  {
   "cell_type": "code",
   "execution_count": 2,
   "metadata": {
    "collapsed": true
   },
   "outputs": [],
   "source": [
    "from Code.DataGeneration.printer import ProgressTimer\n",
    "from Code.DataGeneration.saver import create_path\n",
    "from Code.DataGeneration.transform import get_spherical, change_base, get_input_data"
   ]
  },
  {
   "cell_type": "code",
   "execution_count": 3,
   "metadata": {
    "collapsed": true
   },
   "outputs": [],
   "source": [
    "path_to_db = \"./Dataset/iso17/reference.db\""
   ]
  },
  {
   "cell_type": "code",
   "execution_count": 4,
   "metadata": {
    "collapsed": true
   },
   "outputs": [],
   "source": [
    "from ase.db import connect\n",
    "\n",
    "molecules = []\n",
    "energies = []\n",
    "with connect(path_to_db) as conn:\n",
    "    for row in conn.select(5):\n",
    "        molecules.append(np.hstack((row['numbers'].reshape((19, 1)), row['positions'])))\n",
    "        energies.append(row['total_energy'])"
   ]
  },
  {
   "cell_type": "code",
   "execution_count": 5,
   "metadata": {},
   "outputs": [
    {
     "data": {
      "text/plain": [
       "(1, 19, 4)"
      ]
     },
     "execution_count": 5,
     "metadata": {},
     "output_type": "execute_result"
    }
   ],
   "source": [
    "np.array(molecules).shape"
   ]
  },
  {
   "cell_type": "code",
   "execution_count": 6,
   "metadata": {},
   "outputs": [
    {
     "data": {
      "text/plain": [
       "[array([[ 8.        , -3.13311987,  1.88354817,  3.12766679],\n",
       "        [ 6.        , -2.24705161,  1.93852065,  1.97802995],\n",
       "        [ 6.        , -0.782912  ,  1.58546259,  2.15014356],\n",
       "        [ 6.        , -0.65984825,  1.29204325,  0.51449211],\n",
       "        [ 8.        , -0.27095204,  0.04593806, -0.04992813],\n",
       "        [ 6.        , -0.11965932,  2.44181756, -0.23724109],\n",
       "        [ 6.        , -1.08130266,  3.68052005,  0.27874998],\n",
       "        [ 6.        , -2.31743849,  2.80620132,  0.86798379],\n",
       "        [ 6.        , -2.21857731,  1.35554898,  0.55055286],\n",
       "        [ 1.        , -2.96925792,  2.73661176,  3.54130577],\n",
       "        [ 1.        , -0.27153608,  2.40714079,  2.58637797],\n",
       "        [ 1.        , -0.64130634,  0.66409026,  2.81151566],\n",
       "        [ 1.        ,  0.17818655,  0.27267158, -0.90326441],\n",
       "        [ 1.        ,  0.93555285,  2.60279125, -0.05197857],\n",
       "        [ 1.        , -0.35827703,  2.41891948, -1.26786949],\n",
       "        [ 1.        , -0.57402327,  4.26807961,  1.08342976],\n",
       "        [ 1.        , -1.21071896,  4.38205601, -0.58218731],\n",
       "        [ 1.        , -3.20449363,  3.40855218,  0.69438356],\n",
       "        [ 1.        , -2.88269789,  0.63231745, -0.02013569]])]"
      ]
     },
     "execution_count": 6,
     "metadata": {},
     "output_type": "execute_result"
    }
   ],
   "source": [
    "molecules"
   ]
  },
  {
   "cell_type": "markdown",
   "metadata": {},
   "source": [
    "## Create a Dataframe from Input files"
   ]
  },
  {
   "cell_type": "code",
   "execution_count": 7,
   "metadata": {
    "collapsed": true
   },
   "outputs": [],
   "source": [
    "#list_ = []\n",
    "#for file in filenames:\n",
    "#    filepath = os.path.join(path_to_files, file)\n",
    "#    try:\n",
    "#        df_single = pd.read_csv(filepath, skiprows=2,\n",
    "#                               skipfooter=3, delimiter='\\t',\n",
    "#                               names=['atomtype', 'x', 'y', 'z', 'charge'], \n",
    "#                               dtype=dict(atomtype=str, x=float, y=float, z=float, charge=float))\n",
    "#    except:\n",
    "#        print(file)\n",
    "#    df_single['file'] = file\n",
    "#    list_.append(df_single)\n",
    "#df_all = pd.concat(list_)\n",
    "#df_all.head(5)"
   ]
  },
  {
   "cell_type": "markdown",
   "metadata": {},
   "source": [
    "## Prepare raw Data for Transformation"
   ]
  },
  {
   "cell_type": "code",
   "execution_count": 8,
   "metadata": {
    "collapsed": true
   },
   "outputs": [],
   "source": [
    "#n_atoms = 19\n",
    "#h_atoms = 10\n",
    "#mask_H = dict(H='ZZZ_H')\n",
    "#df_all = df_all.replace(dict(atomtype=mask_H))\n",
    "## sort by file and atomtype\n",
    "#df_all = df_all.sort_values(['file', 'atomtype']).reset_index(drop=True)\n",
    "## create file id column\n",
    "#df_all['file_id'] = (df_all.index) // n_atoms + 1"
   ]
  },
  {
   "cell_type": "code",
   "execution_count": 9,
   "metadata": {
    "collapsed": true
   },
   "outputs": [],
   "source": [
    "#df_all.head(25)"
   ]
  },
  {
   "cell_type": "markdown",
   "metadata": {},
   "source": [
    "## Transform Dataframe to Numpy Array for faster Calculations"
   ]
  },
  {
   "cell_type": "code",
   "execution_count": 10,
   "metadata": {
    "collapsed": true
   },
   "outputs": [],
   "source": [
    "#raw_matrix = df_all[['file_id', 'atomtype', 'x', 'y', 'z', 'charge']].values"
   ]
  },
  {
   "cell_type": "markdown",
   "metadata": {},
   "source": [
    "# Transformation Functions"
   ]
  },
  {
   "cell_type": "markdown",
   "metadata": {},
   "source": [
    "# Run Calculations"
   ]
  },
  {
   "cell_type": "code",
   "execution_count": 11,
   "metadata": {
    "scrolled": true
   },
   "outputs": [
    {
     "name": "stdout",
     "output_type": "stream",
     "text": [
      "0.962115083042 1.31659759833 1.36844086694\n",
      "1.06158412591 1.61168170039 1.51818556915\n",
      "1.14297514763 1.83736603674 1.60752929804\n",
      "0.990614137232 1.3455923376 1.35834154493\n",
      "1.08337779833 1.59890234777 1.47584928382\n",
      "1.05813875861 1.81499136066 1.71526781897\n",
      "1.11806447238 1.88928192066 1.68977904882\n",
      "1.11808510373 1.97031049532 1.7622187155\n",
      "1.0861999907 1.43400504548 1.32020351478\n",
      "1.13569600328 1.68539172882 1.48401660651\n",
      "1.41068300312 2.27781905463 1.61469235086\n",
      "1.51590827099 3.82914630694 2.52597494204\n",
      "1.42217742002 2.76122288957 1.94154600594\n",
      "1.47610563579 3.51522703191 2.38141969428\n",
      "1.62470351593 4.30660332967 2.65070105864\n",
      "1.41068300312 2.66676984611 1.89041041836\n",
      "1.4882634645 2.81342875857 1.89041041836\n",
      "1.45251636783 2.7870803989 1.91879448702\n",
      "1.42217742002 2.76122288957 1.94154600594\n",
      "time: 0.18990206718444824\n"
     ]
    }
   ],
   "source": [
    "start = time.time()\n",
    "network_in = np.array(get_input_data(molecules))\n",
    "print('time: {}'.format(time.time()-start))"
   ]
  },
  {
   "cell_type": "code",
   "execution_count": 12,
   "metadata": {},
   "outputs": [
    {
     "data": {
      "text/plain": [
       "(1, 19, 72)"
      ]
     },
     "execution_count": 12,
     "metadata": {},
     "output_type": "execute_result"
    }
   ],
   "source": [
    "network_in.shape"
   ]
  },
  {
   "cell_type": "markdown",
   "metadata": {},
   "source": [
    "## Get Y-labels"
   ]
  },
  {
   "cell_type": "code",
   "execution_count": 13,
   "metadata": {},
   "outputs": [
    {
     "data": {
      "text/plain": [
       "1"
      ]
     },
     "execution_count": 13,
     "metadata": {},
     "output_type": "execute_result"
    }
   ],
   "source": [
    "len(energies)"
   ]
  },
  {
   "cell_type": "markdown",
   "metadata": {},
   "source": [
    "## Save arrays to file"
   ]
  },
  {
   "cell_type": "code",
   "execution_count": 14,
   "metadata": {
    "collapsed": true
   },
   "outputs": [],
   "source": [
    "data_path = './Dataset/c702h10_X'\n",
    "label_path = './Dataset/c702h10_Y'"
   ]
  },
  {
   "cell_type": "code",
   "execution_count": 15,
   "metadata": {
    "collapsed": true
   },
   "outputs": [],
   "source": [
    "np.save(data_path, network_in)\n",
    "np.save(label_path, energies)"
   ]
  },
  {
   "cell_type": "markdown",
   "metadata": {},
   "source": [
    "# Testing"
   ]
  },
  {
   "cell_type": "markdown",
   "metadata": {},
   "source": [
    "## Test Functions"
   ]
  },
  {
   "cell_type": "code",
   "execution_count": 16,
   "metadata": {
    "collapsed": true
   },
   "outputs": [],
   "source": [
    "def test_get_spherical():\n",
    "    test_positions = np.array([[0, 1, 2],\n",
    "                               [1, 1, 1],\n",
    "                               [-1, 2, 1]])\n",
    "    val_result = np.array([[1/np.sqrt(5), np.cos(np.arccos(2/np.sqrt(5))),\n",
    "                            np.cos(np.pi/2), np.sin(np.pi/2)],\n",
    "                           [1/np.sqrt(3), np.cos(np.arccos(1/np.sqrt(3))),\n",
    "                            np.cos(np.arctan(1)), np.sin(np.arctan(1))],\n",
    "                           [1/np.sqrt(6), np.cos(np.arccos(1/np.sqrt(6))),\n",
    "                            np.cos(np.arctan(-2) + np.pi), np.sin(np.arctan(-2) + np.pi)]])\n",
    "    assert_array_almost_equal(val_result, get_spherical(test_positions)) "
   ]
  },
  {
   "cell_type": "code",
   "execution_count": 17,
   "metadata": {
    "collapsed": true
   },
   "outputs": [],
   "source": [
    "def test_change_base():\n",
    "    test_positions = np.array([[0, 1, 2],\n",
    "                               [1, 1, 1],\n",
    "                               [-1, 2, 1]])\n",
    "    x = np.array([1, 1, 0])\n",
    "    y = np.array([0, 0, 1])\n",
    "    z = np.array([2, 1, 3])\n",
    "    val_result = np.array([[-7.,-13.,4.],\n",
    "                           [-8.,-17.,5.],\n",
    "                           [-4., -8.,2.]])\n",
    "    o = np.array([-1, 4, 3])\n",
    "    assert_array_almost_equal(val_result, change_base(test_positions, x, y, z, o))"
   ]
  },
  {
   "cell_type": "code",
   "execution_count": 18,
   "metadata": {
    "collapsed": true
   },
   "outputs": [],
   "source": [
    "def test_get_input_data():\n",
    "    test_mol = np.array([['C', 1, 1, 1],\n",
    "                         ['O', 1, 0, 0],\n",
    "                         ['O', 0, 3, 0],\n",
    "                         ['ZZZ_H', 0, 2, 0]])\n",
    "    return get_input_data(test_mol, 4)"
   ]
  },
  {
   "cell_type": "markdown",
   "metadata": {},
   "source": [
    "## Run Tests"
   ]
  },
  {
   "cell_type": "code",
   "execution_count": 19,
   "metadata": {
    "collapsed": true
   },
   "outputs": [],
   "source": [
    "test_mol = molecules[0]"
   ]
  },
  {
   "cell_type": "code",
   "execution_count": 20,
   "metadata": {
    "collapsed": true
   },
   "outputs": [],
   "source": [
    "test_mol = test_mol[test_mol[:,0].argsort(kind='mergesort')]"
   ]
  },
  {
   "cell_type": "code",
   "execution_count": 21,
   "metadata": {
    "collapsed": true
   },
   "outputs": [],
   "source": [
    "results = np.zeros((19, 72))"
   ]
  },
  {
   "cell_type": "code",
   "execution_count": 50,
   "metadata": {},
   "outputs": [
    {
     "name": "stdout",
     "output_type": "stream",
     "text": [
      "0 17 10 [-3.13311987  1.88354817  3.12766679] [-2.24705161  1.93852065  1.97802995]\n",
      "1 11 10 [-0.782912    1.58546259  2.15014356] [-2.24705161  1.93852065  1.97802995]\n",
      "2 11 10 [-0.782912    1.58546259  2.15014356] [-2.24705161  1.93852065  1.97802995]\n",
      "3 18 12 [-0.27095204  0.04593806 -0.04992813] [-0.65984825  1.29204325  0.51449211]\n",
      "4 13 12 [-0.11965932  2.44181756 -0.23724109] [-0.65984825  1.29204325  0.51449211]\n",
      "5 13 14 [-0.11965932  2.44181756 -0.23724109] [-1.08130266  3.68052005  0.27874998]\n",
      "6 14 15 [-1.08130266  3.68052005  0.27874998] [-2.31743849  2.80620132  0.86798379]\n",
      "7 14 13 [-1.08130266  3.68052005  0.27874998] [-0.11965932  2.44181756 -0.23724109]\n",
      "8 15 10 [-2.31743849  2.80620132  0.86798379] [-2.24705161  1.93852065  1.97802995]\n",
      "9 16 12 [-2.21857731  1.35554898  0.55055286] [-0.65984825  1.29204325  0.51449211]\n"
     ]
    }
   ],
   "source": [
    "positions = test_mol[:, 1:]\n",
    "for i in range(10):\n",
    "    dists = cdist(positions[np.newaxis, i], positions[10:])\n",
    "    one, two = dists.argsort().reshape(9)[:2] + 10\n",
    "    zero = i\n",
    "    x = positions[one] - positions[zero]\n",
    "    z = np.cross(x, positions[two] - positions[zero])\n",
    "    y = np.cross(z, x)\n",
    "    x /= np.linalg.norm(x)\n",
    "    y /= np.linalg.norm(y)\n",
    "    z /= np.linalg.norm(z)\n",
    "    print(i, one, two, positions[one], positions[two])\n",
    "    others = np.vstack((test_mol[:i], test_mol[i+1:]))\n",
    "    ch_b_others = change_base(others[:, 1:], x, y, z, positions[zero])\n",
    "    sph_others = get_spherical(ch_b_others)\n",
    "    ids = sph_others[:, 0].argsort(kind='mergesort')\n",
    "    sph_others = sph_others[ids]\n",
    "    others = others[ids]\n",
    "    sph_others = sph_others[others[:, 0].argsort(kind='mergesort')]\n",
    "    results[i] = sph_others.reshape(72)"
   ]
  },
  {
   "cell_type": "code",
   "execution_count": 51,
   "metadata": {
    "collapsed": true
   },
   "outputs": [],
   "source": [
    "val_result = results[:10]"
   ]
  },
  {
   "cell_type": "code",
   "execution_count": 52,
   "metadata": {
    "collapsed": true
   },
   "outputs": [],
   "source": [
    "nearest = cdist(positions[np.newaxis, 0], positions[10:])#.argsort().reshape(9) + 10"
   ]
  },
  {
   "cell_type": "code",
   "execution_count": 53,
   "metadata": {},
   "outputs": [
    {
     "data": {
      "text/plain": [
       "array([[ 1.89798911,  2.83559256,  4.07206976,  4.74178576,  3.88582143,\n",
       "         2.75251915,  3.37867707,  0.96211508,  5.23617613]])"
      ]
     },
     "execution_count": 53,
     "metadata": {},
     "output_type": "execute_result"
    }
   ],
   "source": [
    "nearest"
   ]
  },
  {
   "cell_type": "code",
   "execution_count": 54,
   "metadata": {},
   "outputs": [
    {
     "name": "stdout",
     "output_type": "stream",
     "text": [
      "0.962115083042 1.31659759833 1.36844086694\n",
      "1.06158412591 1.61168170039 1.51818556915\n",
      "1.14297514763 1.83736603674 1.60752929804\n",
      "0.990614137232 1.3455923376 1.35834154493\n",
      "1.08337779833 1.59890234777 1.47584928382\n",
      "1.05813875861 1.81499136066 1.71526781897\n",
      "1.11806447238 1.88928192066 1.68977904882\n",
      "1.11808510373 1.97031049532 1.7622187155\n",
      "1.0861999907 1.43400504548 1.32020351478\n",
      "1.13569600328 1.68539172882 1.48401660651\n",
      "1.41068300312 2.27781905463 1.61469235086\n",
      "1.51590827099 3.82914630694 2.52597494204\n",
      "1.42217742002 2.76122288957 1.94154600594\n",
      "1.47610563579 3.51522703191 2.38141969428\n",
      "1.62470351593 4.30660332967 2.65070105864\n",
      "1.41068300312 2.66676984611 1.89041041836\n",
      "1.4882634645 2.81342875857 1.89041041836\n",
      "1.45251636783 2.7870803989 1.91879448702\n",
      "1.42217742002 2.76122288957 1.94154600594\n"
     ]
    }
   ],
   "source": [
    "test_result = np.array(get_input_data(test_mol[np.newaxis])).reshape(19, 72)[:10]"
   ]
  },
  {
   "cell_type": "code",
   "execution_count": 55,
   "metadata": {},
   "outputs": [
    {
     "data": {
      "text/plain": [
       "array([ 28.40736695,  30.53797926,  19.76962284,  29.59129429,\n",
       "        30.68651161,  30.96789707,  18.54641092,  20.56990474,\n",
       "        20.35913868,  24.21324893])"
      ]
     },
     "execution_count": 55,
     "metadata": {},
     "output_type": "execute_result"
    }
   ],
   "source": [
    "test_result.sum(axis=1)"
   ]
  },
  {
   "cell_type": "code",
   "execution_count": 56,
   "metadata": {},
   "outputs": [
    {
     "data": {
      "text/plain": [
       "array([ 28.40736695,  30.53797926,  19.76962284,  29.59129429,\n",
       "        30.68651161,  30.96789707,  18.54641092,  20.56990474,\n",
       "        20.35913868,  24.21324893])"
      ]
     },
     "execution_count": 56,
     "metadata": {},
     "output_type": "execute_result"
    }
   ],
   "source": [
    "val_result.sum(axis=1)"
   ]
  },
  {
   "cell_type": "code",
   "execution_count": 57,
   "metadata": {},
   "outputs": [
    {
     "data": {
      "text/plain": [
       "array([  1.67291431e-01,   1.47438366e-01,   6.02044772e-01,\n",
       "         7.98462330e-01,   1.82433413e-01,  -1.06055026e-01,\n",
       "         3.49431343e-01,   9.36961972e-01,   1.88387242e-01,\n",
       "         1.80183575e-01,   1.91226248e-01,   9.81545986e-01,\n",
       "         2.09412529e-01,  -3.40970623e-01,   3.19776996e-03,\n",
       "         9.99994887e-01,   2.41688270e-01,  -2.48215034e-01,\n",
       "         8.43845839e-01,   5.36585687e-01,   2.66088313e-01,\n",
       "        -5.48338724e-02,  -1.88972553e-01,   9.81982370e-01,\n",
       "         3.12388708e-01,   6.71365330e-01,   7.39692399e-01,\n",
       "         6.72945135e-01,   3.40763355e-01,  -6.81100254e-01,\n",
       "         3.11006809e-01,   9.50407683e-01,   3.47143938e-01,\n",
       "         5.52170252e-01,   1.01268480e-01,   9.94859133e-01,\n",
       "         2.10891013e-01,   3.09688104e-02,   2.95505454e-01,\n",
       "         9.55341052e-01,   2.45575361e-01,   1.54035312e-01,\n",
       "         5.44011784e-01,   8.39077576e-01,   2.57345845e-01,\n",
       "        -2.00466531e-01,   6.41443237e-02,   9.97940632e-01,\n",
       "         2.95973832e-01,  -1.54443390e-01,   7.13714657e-01,\n",
       "         7.00436570e-01,   3.52659974e-01,   4.62240169e-01,\n",
       "         4.95691238e-01,   8.68498818e-01,   3.63303557e-01,\n",
       "        -3.66679001e-01,   3.81371731e-01,   9.24421767e-01,\n",
       "         5.26873413e-01,   2.83276945e-16,   6.62133933e-01,\n",
       "         7.49385518e-01,   1.90979061e-01,   2.11920405e-01,\n",
       "         6.78119586e-01,   7.34951582e-01,   1.03937670e+00,\n",
       "         6.12323400e-17,   1.00000000e+00,   0.00000000e+00])"
      ]
     },
     "execution_count": 57,
     "metadata": {},
     "output_type": "execute_result"
    }
   ],
   "source": [
    "test_result[0]"
   ]
  },
  {
   "cell_type": "code",
   "execution_count": 58,
   "metadata": {},
   "outputs": [
    {
     "data": {
      "text/plain": [
       "array([  1.67291431e-01,   1.47438366e-01,   6.02044772e-01,\n",
       "         7.98462330e-01,   1.82433413e-01,  -1.06055026e-01,\n",
       "         3.49431343e-01,   9.36961972e-01,   1.88387242e-01,\n",
       "         1.80183575e-01,   1.91226248e-01,   9.81545986e-01,\n",
       "         2.09412529e-01,  -3.40970623e-01,   3.19776996e-03,\n",
       "         9.99994887e-01,   2.41688270e-01,  -2.48215034e-01,\n",
       "         8.43845839e-01,   5.36585687e-01,   2.66088313e-01,\n",
       "        -5.48338724e-02,  -1.88972553e-01,   9.81982370e-01,\n",
       "         3.12388708e-01,   6.71365330e-01,   7.39692399e-01,\n",
       "         6.72945135e-01,   3.40763355e-01,  -6.81100254e-01,\n",
       "         3.11006809e-01,   9.50407683e-01,   3.47143938e-01,\n",
       "         5.52170252e-01,   1.01268480e-01,   9.94859133e-01,\n",
       "         2.10891013e-01,   3.09688104e-02,   2.95505454e-01,\n",
       "         9.55341052e-01,   2.45575361e-01,   1.54035312e-01,\n",
       "         5.44011784e-01,   8.39077576e-01,   2.57345845e-01,\n",
       "        -2.00466531e-01,   6.41443237e-02,   9.97940632e-01,\n",
       "         2.95973832e-01,  -1.54443390e-01,   7.13714657e-01,\n",
       "         7.00436570e-01,   3.52659974e-01,   4.62240169e-01,\n",
       "         4.95691238e-01,   8.68498818e-01,   3.63303557e-01,\n",
       "        -3.66679001e-01,   3.81371731e-01,   9.24421767e-01,\n",
       "         5.26873413e-01,   2.83276945e-16,   6.62133933e-01,\n",
       "         7.49385518e-01,   1.90979061e-01,   2.11920405e-01,\n",
       "         6.78119586e-01,   7.34951582e-01,   1.03937670e+00,\n",
       "         6.12323400e-17,   1.00000000e+00,   0.00000000e+00])"
      ]
     },
     "execution_count": 58,
     "metadata": {},
     "output_type": "execute_result"
    }
   ],
   "source": [
    "val_result[0]"
   ]
  },
  {
   "cell_type": "code",
   "execution_count": 59,
   "metadata": {},
   "outputs": [],
   "source": [
    "assert_array_almost_equal(test_result, val_result)"
   ]
  },
  {
   "cell_type": "code",
   "execution_count": 60,
   "metadata": {},
   "outputs": [
    {
     "data": {
      "text/plain": [
       "array([1, 2, 3, 4, 5, 6, 7, 8])"
      ]
     },
     "execution_count": 60,
     "metadata": {},
     "output_type": "execute_result"
    }
   ],
   "source": [
    "test = np.array([[1, 2, 3, 4], [5, 6, 7, 8]])\n",
    "test.reshape(8)"
   ]
  },
  {
   "cell_type": "code",
   "execution_count": 61,
   "metadata": {},
   "outputs": [
    {
     "data": {
      "text/plain": [
       "253.64937530350235"
      ]
     },
     "execution_count": 61,
     "metadata": {},
     "output_type": "execute_result"
    }
   ],
   "source": [
    "test_result.sum()"
   ]
  },
  {
   "cell_type": "code",
   "execution_count": 62,
   "metadata": {},
   "outputs": [
    {
     "data": {
      "text/plain": [
       "array([[False, False, False, False, False, False, False, False, False,\n",
       "        False, False, False, False, False, False, False, False, False,\n",
       "        False, False, False, False, False, False, False, False, False,\n",
       "        False, False, False, False, False, False, False, False, False,\n",
       "        False, False, False, False, False, False, False, False, False,\n",
       "        False, False, False, False, False, False, False, False, False,\n",
       "        False, False, False, False, False, False, False, False, False,\n",
       "        False, False, False, False, False, False, False, False, False],\n",
       "       [False, False, False, False, False, False, False, False, False,\n",
       "        False, False, False, False, False, False, False, False, False,\n",
       "        False, False, False, False, False, False, False, False, False,\n",
       "        False, False, False, False, False, False, False, False, False,\n",
       "        False, False, False, False, False, False, False, False, False,\n",
       "        False, False, False, False, False, False, False, False, False,\n",
       "        False, False, False, False, False, False, False, False, False,\n",
       "        False, False, False, False, False, False, False, False, False],\n",
       "       [False, False, False, False, False, False, False, False, False,\n",
       "        False, False, False, False, False, False, False, False, False,\n",
       "        False, False, False, False, False, False, False, False, False,\n",
       "        False, False, False, False, False, False, False, False, False,\n",
       "        False, False, False, False, False, False, False, False, False,\n",
       "        False, False, False, False, False, False, False, False, False,\n",
       "        False, False, False, False, False, False, False, False, False,\n",
       "        False, False, False, False, False, False, False, False, False],\n",
       "       [False, False, False, False, False, False, False, False, False,\n",
       "        False, False, False, False, False, False, False, False, False,\n",
       "        False, False, False, False, False, False, False, False, False,\n",
       "        False, False, False, False, False, False, False, False, False,\n",
       "        False, False, False, False, False, False, False, False, False,\n",
       "        False, False, False, False, False, False, False, False, False,\n",
       "        False, False, False, False, False, False, False, False, False,\n",
       "        False, False, False, False, False, False, False, False, False],\n",
       "       [False, False, False, False, False, False, False, False, False,\n",
       "        False, False, False, False, False, False, False, False, False,\n",
       "        False, False, False, False, False, False, False, False, False,\n",
       "        False, False, False, False, False, False, False, False, False,\n",
       "        False, False, False, False, False, False, False, False, False,\n",
       "        False, False, False, False, False, False, False, False, False,\n",
       "        False, False, False, False, False, False, False, False, False,\n",
       "        False, False, False, False, False, False, False, False, False],\n",
       "       [False, False, False, False, False, False, False, False, False,\n",
       "        False, False, False, False, False, False, False, False, False,\n",
       "        False, False, False, False, False, False, False, False, False,\n",
       "        False, False, False, False, False, False, False, False, False,\n",
       "        False, False, False, False, False, False, False, False, False,\n",
       "        False, False, False, False, False, False, False, False, False,\n",
       "        False, False, False, False, False, False, False, False, False,\n",
       "        False, False, False, False, False, False, False, False, False],\n",
       "       [False, False, False, False, False, False, False, False, False,\n",
       "        False, False, False, False, False, False, False, False, False,\n",
       "        False, False, False, False, False, False, False, False, False,\n",
       "        False, False, False, False, False, False, False, False, False,\n",
       "        False, False, False, False, False, False, False, False, False,\n",
       "        False, False, False, False, False, False, False, False, False,\n",
       "        False, False, False, False, False, False, False, False, False,\n",
       "        False, False, False, False, False, False, False, False, False],\n",
       "       [False, False, False, False, False, False, False, False, False,\n",
       "        False, False, False, False, False, False, False, False, False,\n",
       "        False, False, False, False, False, False, False, False, False,\n",
       "        False, False, False, False, False, False, False, False, False,\n",
       "        False, False, False, False, False, False, False, False, False,\n",
       "        False, False, False, False, False, False, False, False, False,\n",
       "        False, False, False, False, False, False, False, False, False,\n",
       "        False, False, False, False, False, False, False, False, False],\n",
       "       [False, False, False, False, False, False, False, False, False,\n",
       "        False, False, False, False, False, False, False, False, False,\n",
       "        False, False, False, False, False, False, False, False, False,\n",
       "        False, False, False, False, False, False, False, False, False,\n",
       "        False, False, False, False, False, False, False, False, False,\n",
       "        False, False, False, False, False, False, False, False, False,\n",
       "        False, False, False, False, False, False, False, False, False,\n",
       "        False, False, False, False, False, False, False, False, False],\n",
       "       [False, False, False, False, False, False, False, False, False,\n",
       "        False, False, False, False, False, False, False, False, False,\n",
       "        False, False, False, False, False, False, False, False, False,\n",
       "        False, False, False, False, False, False, False, False, False,\n",
       "        False, False, False, False, False, False, False, False, False,\n",
       "        False, False, False, False, False, False, False, False, False,\n",
       "        False, False, False, False, False, False, False, False, False,\n",
       "        False, False, False, False, False, False, False, False, False]], dtype=bool)"
      ]
     },
     "execution_count": 62,
     "metadata": {},
     "output_type": "execute_result"
    }
   ],
   "source": [
    "np.isnan(test_result)"
   ]
  },
  {
   "cell_type": "code",
   "execution_count": 63,
   "metadata": {},
   "outputs": [
    {
     "data": {
      "text/plain": [
       "253.64937530350235"
      ]
     },
     "execution_count": 63,
     "metadata": {},
     "output_type": "execute_result"
    }
   ],
   "source": [
    "val_result.sum()"
   ]
  },
  {
   "cell_type": "code",
   "execution_count": 64,
   "metadata": {
    "collapsed": true
   },
   "outputs": [],
   "source": [
    "diff = test_result-val_result"
   ]
  },
  {
   "cell_type": "code",
   "execution_count": 65,
   "metadata": {},
   "outputs": [
    {
     "name": "stdout",
     "output_type": "stream",
     "text": [
      "0 0\n",
      "0 1\n",
      "0 2\n",
      "0 3\n",
      "0 4\n",
      "0 5\n",
      "0 6\n",
      "0 7\n",
      "0 8\n",
      "0 9\n",
      "0 10\n",
      "0 11\n",
      "0 12\n",
      "0 13\n",
      "0 14\n",
      "0 15\n",
      "0 16\n",
      "0 17\n",
      "0 18\n",
      "0 19\n",
      "0 20\n",
      "0 21\n",
      "0 22\n",
      "0 23\n",
      "0 24\n",
      "0 25\n",
      "0 26\n",
      "0 27\n",
      "0 28\n",
      "0 29\n",
      "0 30\n",
      "0 31\n",
      "0 32\n",
      "0 33\n",
      "0 34\n",
      "0 35\n",
      "0 36\n",
      "0 37\n",
      "0 38\n",
      "0 39\n",
      "0 40\n",
      "0 41\n",
      "0 42\n",
      "0 43\n",
      "0 44\n",
      "0 45\n",
      "0 46\n",
      "0 47\n",
      "0 48\n",
      "0 49\n",
      "0 50\n",
      "0 51\n",
      "0 52\n",
      "0 53\n",
      "0 54\n",
      "0 55\n",
      "0 56\n",
      "0 57\n",
      "0 58\n",
      "0 59\n",
      "0 60\n",
      "0 61\n",
      "0 62\n",
      "0 63\n",
      "0 64\n",
      "0 65\n",
      "0 66\n",
      "0 67\n",
      "0 68\n",
      "0 69\n",
      "0 70\n",
      "0 71\n",
      "1 0\n",
      "1 1\n",
      "1 2\n",
      "1 3\n",
      "1 4\n",
      "1 5\n",
      "1 6\n",
      "1 7\n",
      "1 8\n",
      "1 9\n",
      "1 10\n",
      "1 11\n",
      "1 12\n",
      "1 13\n",
      "1 14\n",
      "1 15\n",
      "1 16\n",
      "1 17\n",
      "1 18\n",
      "1 19\n",
      "1 20\n",
      "1 21\n",
      "1 22\n",
      "1 23\n",
      "1 24\n",
      "1 25\n",
      "1 26\n",
      "1 27\n",
      "1 28\n",
      "1 29\n",
      "1 30\n",
      "1 31\n",
      "1 32\n",
      "1 33\n",
      "1 34\n",
      "1 35\n",
      "1 36\n",
      "1 37\n",
      "1 38\n",
      "1 39\n",
      "1 40\n",
      "1 41\n",
      "1 42\n",
      "1 43\n",
      "1 44\n",
      "1 45\n",
      "1 46\n",
      "1 47\n",
      "1 48\n",
      "1 49\n",
      "1 50\n",
      "1 51\n",
      "1 52\n",
      "1 53\n",
      "1 54\n",
      "1 55\n",
      "1 56\n",
      "1 57\n",
      "1 58\n",
      "1 59\n",
      "1 60\n",
      "1 61\n",
      "1 62\n",
      "1 63\n",
      "1 64\n",
      "1 65\n",
      "1 66\n",
      "1 67\n",
      "1 68\n",
      "1 69\n",
      "1 70\n",
      "1 71\n",
      "2 0\n",
      "2 1\n",
      "2 2\n",
      "2 3\n",
      "2 4\n",
      "2 5\n",
      "2 6\n",
      "2 7\n",
      "2 8\n",
      "2 9\n",
      "2 10\n",
      "2 11\n",
      "2 12\n",
      "2 13\n",
      "2 14\n",
      "2 15\n",
      "2 16\n",
      "2 17\n",
      "2 18\n",
      "2 19\n",
      "2 20\n",
      "2 21\n",
      "2 22\n",
      "2 23\n",
      "2 24\n",
      "2 25\n",
      "2 26\n",
      "2 27\n",
      "2 28\n",
      "2 29\n",
      "2 30\n",
      "2 31\n",
      "2 32\n",
      "2 33\n",
      "2 34\n",
      "2 35\n",
      "2 36\n",
      "2 37\n",
      "2 38\n",
      "2 39\n",
      "2 40\n",
      "2 41\n",
      "2 42\n",
      "2 43\n",
      "2 44\n",
      "2 45\n",
      "2 46\n",
      "2 47\n",
      "2 48\n",
      "2 49\n",
      "2 50\n",
      "2 51\n",
      "2 52\n",
      "2 53\n",
      "2 54\n",
      "2 55\n",
      "2 56\n",
      "2 57\n",
      "2 58\n",
      "2 59\n",
      "2 60\n",
      "2 61\n",
      "2 62\n",
      "2 63\n",
      "2 64\n",
      "2 65\n",
      "2 66\n",
      "2 67\n",
      "2 68\n",
      "2 69\n",
      "2 70\n",
      "2 71\n",
      "3 0\n",
      "3 1\n",
      "3 2\n",
      "3 3\n",
      "3 4\n",
      "3 5\n",
      "3 6\n",
      "3 7\n",
      "3 8\n",
      "3 9\n",
      "3 10\n",
      "3 11\n",
      "3 12\n",
      "3 13\n",
      "3 14\n",
      "3 15\n",
      "3 16\n",
      "3 17\n",
      "3 18\n",
      "3 19\n",
      "3 20\n",
      "3 21\n",
      "3 22\n",
      "3 23\n",
      "3 24\n",
      "3 25\n",
      "3 26\n",
      "3 27\n",
      "3 28\n",
      "3 29\n",
      "3 30\n",
      "3 31\n",
      "3 32\n",
      "3 33\n",
      "3 34\n",
      "3 35\n",
      "3 36\n",
      "3 37\n",
      "3 38\n",
      "3 39\n",
      "3 40\n",
      "3 41\n",
      "3 42\n",
      "3 43\n",
      "3 44\n",
      "3 45\n",
      "3 46\n",
      "3 47\n",
      "3 48\n",
      "3 49\n",
      "3 50\n",
      "3 51\n",
      "3 52\n",
      "3 53\n",
      "3 54\n",
      "3 55\n",
      "3 56\n",
      "3 57\n",
      "3 58\n",
      "3 59\n",
      "3 60\n",
      "3 61\n",
      "3 62\n",
      "3 63\n",
      "3 64\n",
      "3 65\n",
      "3 66\n",
      "3 67\n",
      "3 68\n",
      "3 69\n",
      "3 70\n",
      "3 71\n",
      "4 0\n",
      "4 1\n",
      "4 2\n",
      "4 3\n",
      "4 4\n",
      "4 5\n",
      "4 6\n",
      "4 7\n",
      "4 8\n",
      "4 9\n",
      "4 10\n",
      "4 11\n",
      "4 12\n",
      "4 13\n",
      "4 14\n",
      "4 15\n",
      "4 16\n",
      "4 17\n",
      "4 18\n",
      "4 19\n",
      "4 20\n",
      "4 21\n",
      "4 22\n",
      "4 23\n",
      "4 24\n",
      "4 25\n",
      "4 26\n",
      "4 27\n",
      "4 28\n",
      "4 29\n",
      "4 30\n",
      "4 31\n",
      "4 32\n",
      "4 33\n",
      "4 34\n",
      "4 35\n",
      "4 36\n",
      "4 37\n",
      "4 38\n",
      "4 39\n",
      "4 40\n",
      "4 41\n",
      "4 42\n",
      "4 43\n",
      "4 44\n",
      "4 45\n",
      "4 46\n",
      "4 47\n",
      "4 48\n",
      "4 49\n",
      "4 50\n",
      "4 51\n",
      "4 52\n",
      "4 53\n",
      "4 54\n",
      "4 55\n",
      "4 56\n",
      "4 57\n",
      "4 58\n",
      "4 59\n",
      "4 60\n",
      "4 61\n",
      "4 62\n",
      "4 63\n",
      "4 64\n",
      "4 65\n",
      "4 66\n",
      "4 67\n",
      "4 68\n",
      "4 69\n",
      "4 70\n",
      "4 71\n",
      "5 0\n",
      "5 1\n",
      "5 2\n",
      "5 3\n",
      "5 4\n",
      "5 5\n",
      "5 6\n",
      "5 7\n",
      "5 8\n",
      "5 9\n",
      "5 10\n",
      "5 11\n",
      "5 12\n",
      "5 13\n",
      "5 14\n",
      "5 15\n",
      "5 16\n",
      "5 17\n",
      "5 18\n",
      "5 19\n",
      "5 20\n",
      "5 21\n",
      "5 22\n",
      "5 23\n",
      "5 24\n",
      "5 25\n",
      "5 26\n",
      "5 27\n",
      "5 28\n",
      "5 29\n",
      "5 30\n",
      "5 31\n",
      "5 32\n",
      "5 33\n",
      "5 34\n",
      "5 35\n",
      "5 36\n",
      "5 37\n",
      "5 38\n",
      "5 39\n",
      "5 40\n",
      "5 41\n",
      "5 42\n",
      "5 43\n",
      "5 44\n",
      "5 45\n",
      "5 46\n",
      "5 47\n",
      "5 48\n",
      "5 49\n",
      "5 50\n",
      "5 51\n",
      "5 52\n",
      "5 53\n",
      "5 54\n",
      "5 55\n",
      "5 56\n",
      "5 57\n",
      "5 58\n",
      "5 59\n",
      "5 60\n",
      "5 61\n",
      "5 62\n",
      "5 63\n",
      "5 64\n",
      "5 65\n",
      "5 66\n",
      "5 67\n",
      "5 68\n",
      "5 69\n",
      "5 70\n",
      "5 71\n",
      "6 0\n",
      "6 1\n",
      "6 2\n",
      "6 3\n",
      "6 4\n",
      "6 5\n",
      "6 6\n",
      "6 7\n",
      "6 8\n",
      "6 9\n",
      "6 10\n",
      "6 11\n",
      "6 12\n",
      "6 13\n",
      "6 14\n",
      "6 15\n",
      "6 16\n",
      "6 17\n",
      "6 18\n",
      "6 19\n",
      "6 20\n",
      "6 21\n",
      "6 22\n",
      "6 23\n",
      "6 24\n",
      "6 25\n",
      "6 26\n",
      "6 27\n",
      "6 28\n",
      "6 29\n",
      "6 30\n",
      "6 31\n",
      "6 32\n",
      "6 33\n",
      "6 34\n",
      "6 35\n",
      "6 36\n",
      "6 37\n",
      "6 38\n",
      "6 39\n",
      "6 40\n",
      "6 41\n",
      "6 42\n",
      "6 43\n",
      "6 44\n",
      "6 45\n",
      "6 46\n",
      "6 47\n",
      "6 48\n",
      "6 49\n",
      "6 50\n",
      "6 51\n",
      "6 52\n",
      "6 53\n",
      "6 54\n",
      "6 55\n",
      "6 56\n",
      "6 57\n",
      "6 58\n",
      "6 59\n",
      "6 60\n",
      "6 61\n",
      "6 62\n",
      "6 63\n",
      "6 64\n",
      "6 65\n",
      "6 66\n",
      "6 67\n",
      "6 68\n",
      "6 69\n",
      "6 70\n",
      "6 71\n",
      "7 0\n",
      "7 1\n",
      "7 2\n",
      "7 3\n",
      "7 4\n",
      "7 5\n",
      "7 6\n",
      "7 7\n",
      "7 8\n",
      "7 9\n",
      "7 10\n",
      "7 11\n",
      "7 12\n",
      "7 13\n",
      "7 14\n",
      "7 15\n",
      "7 16\n",
      "7 17\n",
      "7 18\n",
      "7 19\n",
      "7 20\n",
      "7 21\n",
      "7 22\n",
      "7 23\n",
      "7 24\n",
      "7 25\n",
      "7 26\n",
      "7 27\n",
      "7 28\n",
      "7 29\n",
      "7 30\n",
      "7 31\n",
      "7 32\n",
      "7 33\n",
      "7 34\n",
      "7 35\n",
      "7 36\n",
      "7 37\n",
      "7 38\n",
      "7 39\n",
      "7 40\n",
      "7 41\n",
      "7 42\n",
      "7 43\n",
      "7 44\n",
      "7 45\n",
      "7 46\n",
      "7 47\n",
      "7 48\n",
      "7 49\n",
      "7 50\n",
      "7 51\n",
      "7 52\n",
      "7 53\n",
      "7 54\n",
      "7 55\n",
      "7 56\n",
      "7 57\n",
      "7 58\n",
      "7 59\n",
      "7 60\n",
      "7 61\n",
      "7 62\n",
      "7 63\n",
      "7 64\n",
      "7 65\n",
      "7 66\n",
      "7 67\n",
      "7 68\n",
      "7 69\n",
      "7 70\n",
      "7 71\n",
      "8 0\n",
      "8 1\n",
      "8 2\n",
      "8 3\n",
      "8 4\n",
      "8 5\n",
      "8 6\n",
      "8 7\n",
      "8 8\n",
      "8 9\n",
      "8 10\n",
      "8 11\n",
      "8 12\n",
      "8 13\n",
      "8 14\n",
      "8 15\n",
      "8 16\n",
      "8 17\n",
      "8 18\n",
      "8 19\n",
      "8 20\n",
      "8 21\n",
      "8 22\n",
      "8 23\n",
      "8 24\n",
      "8 25\n",
      "8 26\n",
      "8 27\n",
      "8 28\n",
      "8 29\n",
      "8 30\n",
      "8 31\n",
      "8 32\n",
      "8 33\n",
      "8 34\n",
      "8 35\n",
      "8 36\n",
      "8 37\n",
      "8 38\n",
      "8 39\n",
      "8 40\n",
      "8 41\n",
      "8 42\n",
      "8 43\n",
      "8 44\n",
      "8 45\n",
      "8 46\n",
      "8 47\n",
      "8 48\n",
      "8 49\n",
      "8 50\n",
      "8 51\n",
      "8 52\n",
      "8 53\n",
      "8 54\n",
      "8 55\n",
      "8 56\n",
      "8 57\n",
      "8 58\n",
      "8 59\n",
      "8 60\n",
      "8 61\n",
      "8 62\n",
      "8 63\n",
      "8 64\n",
      "8 65\n",
      "8 66\n",
      "8 67\n",
      "8 68\n",
      "8 69\n",
      "8 70\n",
      "8 71\n",
      "9 0\n",
      "9 1\n",
      "9 2\n",
      "9 3\n",
      "9 4\n",
      "9 5\n",
      "9 6\n",
      "9 7\n",
      "9 8\n",
      "9 9\n",
      "9 10\n",
      "9 11\n",
      "9 12\n",
      "9 13\n",
      "9 14\n",
      "9 15\n",
      "9 16\n",
      "9 17\n",
      "9 18\n",
      "9 19\n",
      "9 20\n",
      "9 21\n",
      "9 22\n",
      "9 23\n",
      "9 24\n",
      "9 25\n",
      "9 26\n",
      "9 27\n",
      "9 28\n",
      "9 29\n",
      "9 30\n",
      "9 31\n",
      "9 32\n",
      "9 33\n",
      "9 34\n",
      "9 35\n",
      "9 36\n",
      "9 37\n",
      "9 38\n",
      "9 39\n",
      "9 40\n",
      "9 41\n",
      "9 42\n",
      "9 43\n",
      "9 44\n",
      "9 45\n",
      "9 46\n",
      "9 47\n",
      "9 48\n",
      "9 49\n",
      "9 50\n",
      "9 51\n",
      "9 52\n",
      "9 53\n",
      "9 54\n",
      "9 55\n",
      "9 56\n",
      "9 57\n",
      "9 58\n",
      "9 59\n",
      "9 60\n",
      "9 61\n",
      "9 62\n",
      "9 63\n",
      "9 64\n",
      "9 65\n",
      "9 66\n",
      "9 67\n",
      "9 68\n",
      "9 69\n",
      "9 70\n",
      "9 71\n"
     ]
    }
   ],
   "source": [
    "for i in range(10):\n",
    "    for j in range(72):\n",
    "        if np.abs(diff[i, j]) <= 0.00001:\n",
    "            print(i, j)"
   ]
  },
  {
   "cell_type": "code",
   "execution_count": 66,
   "metadata": {},
   "outputs": [
    {
     "data": {
      "text/plain": [
       "array([ 0.14743837,  0.60592196, -0.11561125,  0.08339485,  0.69834739,\n",
       "        0.4760433 , -0.70573705, -0.08598434,  0.38159225,  0.31132745])"
      ]
     },
     "execution_count": 66,
     "metadata": {},
     "output_type": "execute_result"
    }
   ],
   "source": [
    "test_result[:, 1]"
   ]
  },
  {
   "cell_type": "code",
   "execution_count": 67,
   "metadata": {},
   "outputs": [
    {
     "data": {
      "text/plain": [
       "array([ 0.14743837,  0.60592196, -0.11561125,  0.08339485,  0.69834739,\n",
       "        0.4760433 , -0.70573705, -0.08598434,  0.38159225,  0.31132745])"
      ]
     },
     "execution_count": 67,
     "metadata": {},
     "output_type": "execute_result"
    }
   ],
   "source": [
    "val_result[:, 1]"
   ]
  },
  {
   "cell_type": "code",
   "execution_count": null,
   "metadata": {
    "collapsed": true
   },
   "outputs": [],
   "source": []
  },
  {
   "cell_type": "code",
   "execution_count": 68,
   "metadata": {
    "collapsed": true
   },
   "outputs": [],
   "source": [
    "test_get_spherical()"
   ]
  },
  {
   "cell_type": "code",
   "execution_count": 69,
   "metadata": {
    "collapsed": true
   },
   "outputs": [],
   "source": [
    "test_change_base()"
   ]
  },
  {
   "cell_type": "code",
   "execution_count": 70,
   "metadata": {},
   "outputs": [
    {
     "ename": "TypeError",
     "evalue": "get_input_data() takes 1 positional argument but 2 were given",
     "output_type": "error",
     "traceback": [
      "\u001b[0;31m---------------------------------------------------------------------------\u001b[0m",
      "\u001b[0;31mTypeError\u001b[0m                                 Traceback (most recent call last)",
      "\u001b[0;32m<ipython-input-70-8f8ba096a00a>\u001b[0m in \u001b[0;36m<module>\u001b[0;34m()\u001b[0m\n\u001b[0;32m----> 1\u001b[0;31m \u001b[0mtest_get_input_data\u001b[0m\u001b[0;34m(\u001b[0m\u001b[0;34m)\u001b[0m\u001b[0;34m\u001b[0m\u001b[0m\n\u001b[0m",
      "\u001b[0;32m<ipython-input-18-bab92c68443d>\u001b[0m in \u001b[0;36mtest_get_input_data\u001b[0;34m()\u001b[0m\n\u001b[1;32m      4\u001b[0m                          \u001b[0;34m[\u001b[0m\u001b[0;34m'O'\u001b[0m\u001b[0;34m,\u001b[0m \u001b[0;36m0\u001b[0m\u001b[0;34m,\u001b[0m \u001b[0;36m3\u001b[0m\u001b[0;34m,\u001b[0m \u001b[0;36m0\u001b[0m\u001b[0;34m]\u001b[0m\u001b[0;34m,\u001b[0m\u001b[0;34m\u001b[0m\u001b[0m\n\u001b[1;32m      5\u001b[0m                          ['ZZZ_H', 0, 2, 0]])\n\u001b[0;32m----> 6\u001b[0;31m     \u001b[0;32mreturn\u001b[0m \u001b[0mget_input_data\u001b[0m\u001b[0;34m(\u001b[0m\u001b[0mtest_mol\u001b[0m\u001b[0;34m,\u001b[0m \u001b[0;36m4\u001b[0m\u001b[0;34m)\u001b[0m\u001b[0;34m\u001b[0m\u001b[0m\n\u001b[0m",
      "\u001b[0;31mTypeError\u001b[0m: get_input_data() takes 1 positional argument but 2 were given"
     ]
    }
   ],
   "source": [
    "test_get_input_data()"
   ]
  },
  {
   "cell_type": "code",
   "execution_count": 71,
   "metadata": {},
   "outputs": [
    {
     "data": {
      "text/plain": [
       "array([-3, -1,  1])"
      ]
     },
     "execution_count": 71,
     "metadata": {},
     "output_type": "execute_result"
    }
   ],
   "source": [
    "np.cross(np.array([-1, 2, -1]), np.array([0, -1, -1]))"
   ]
  },
  {
   "cell_type": "code",
   "execution_count": 72,
   "metadata": {
    "collapsed": true
   },
   "outputs": [],
   "source": [
    "x = np.array([[1, 1, 1], [1, 0, 0], [0, 3, 0], [0, 2, 0]])"
   ]
  },
  {
   "cell_type": "code",
   "execution_count": 73,
   "metadata": {},
   "outputs": [
    {
     "data": {
      "text/plain": [
       "array([[ 0.        ,  1.41421356,  2.44948974,  1.73205081],\n",
       "       [ 1.41421356,  0.        ,  3.16227766,  2.23606798],\n",
       "       [ 2.44948974,  3.16227766,  0.        ,  1.        ],\n",
       "       [ 1.73205081,  2.23606798,  1.        ,  0.        ]])"
      ]
     },
     "execution_count": 73,
     "metadata": {},
     "output_type": "execute_result"
    }
   ],
   "source": [
    "cdist(x, x)#.argsort()"
   ]
  },
  {
   "cell_type": "code",
   "execution_count": 74,
   "metadata": {},
   "outputs": [
    {
     "ename": "NameError",
     "evalue": "name 'mol' is not defined",
     "output_type": "error",
     "traceback": [
      "\u001b[0;31m---------------------------------------------------------------------------\u001b[0m",
      "\u001b[0;31mNameError\u001b[0m                                 Traceback (most recent call last)",
      "\u001b[0;32m<ipython-input-74-0f2c73dc128a>\u001b[0m in \u001b[0;36m<module>\u001b[0;34m()\u001b[0m\n\u001b[0;32m----> 1\u001b[0;31m \u001b[0mtest_mol\u001b[0m \u001b[0;34m=\u001b[0m \u001b[0mmol\u001b[0m\u001b[0;34m\u001b[0m\u001b[0m\n\u001b[0m",
      "\u001b[0;31mNameError\u001b[0m: name 'mol' is not defined"
     ]
    }
   ],
   "source": [
    "test_mol = mol"
   ]
  },
  {
   "cell_type": "code",
   "execution_count": null,
   "metadata": {
    "collapsed": true
   },
   "outputs": [],
   "source": []
  }
 ],
 "metadata": {
  "kernelspec": {
   "display_name": "Python (fproj)",
   "language": "python",
   "name": "fproj"
  },
  "language_info": {
   "codemirror_mode": {
    "name": "ipython",
    "version": 3
   },
   "file_extension": ".py",
   "mimetype": "text/x-python",
   "name": "python",
   "nbconvert_exporter": "python",
   "pygments_lexer": "ipython3",
   "version": "3.6.3"
  }
 },
 "nbformat": 4,
 "nbformat_minor": 2
}
