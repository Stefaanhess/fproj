{
 "cells": [
  {
   "cell_type": "markdown",
   "metadata": {},
   "source": [
    "# Imports and Settings"
   ]
  },
  {
   "cell_type": "code",
   "execution_count": 1,
   "metadata": {
    "collapsed": true
   },
   "outputs": [],
   "source": [
    "# -*- coding: utf-8 -*-\n",
    "import pandas as pd\n",
    "import numpy as np\n",
    "import os\n",
    "from scipy.spatial.distance import squareform, cdist\n",
    "import time\n",
    "from numpy.testing import *"
   ]
  },
  {
   "cell_type": "code",
   "execution_count": 2,
   "metadata": {
    "collapsed": true
   },
   "outputs": [],
   "source": [
    "from Code.DataGeneration.printer import ProgressTimer\n",
    "from Code.DataGeneration.saver import create_path\n",
    "from Code.DataGeneration.transform import get_spherical, change_base, get_input_data"
   ]
  },
  {
   "cell_type": "code",
   "execution_count": 3,
   "metadata": {
    "collapsed": true
   },
   "outputs": [],
   "source": [
    "path_to_db = \"./Dataset/iso17/reference.db\""
   ]
  },
  {
   "cell_type": "code",
   "execution_count": 4,
   "metadata": {
    "collapsed": true
   },
   "outputs": [],
   "source": [
    "from ase.db import connect\n",
    "\n",
    "molecules = []\n",
    "energies = []\n",
    "with connect(path_to_db) as conn:\n",
    "    for row in conn.select(5):\n",
    "        molecules.append(np.hstack((row['numbers'].reshape((19, 1)), row['positions'])))\n",
    "        energies.append(row['total_energy'])"
   ]
  },
  {
   "cell_type": "code",
   "execution_count": 5,
   "metadata": {},
   "outputs": [
    {
     "data": {
      "text/plain": [
       "(1, 19, 4)"
      ]
     },
     "execution_count": 5,
     "metadata": {},
     "output_type": "execute_result"
    }
   ],
   "source": [
    "np.array(molecules).shape"
   ]
  },
  {
   "cell_type": "code",
   "execution_count": 6,
   "metadata": {},
   "outputs": [
    {
     "data": {
      "text/plain": [
       "[array([[ 8.        , -3.13311987,  1.88354817,  3.12766679],\n",
       "        [ 6.        , -2.24705161,  1.93852065,  1.97802995],\n",
       "        [ 6.        , -0.782912  ,  1.58546259,  2.15014356],\n",
       "        [ 6.        , -0.65984825,  1.29204325,  0.51449211],\n",
       "        [ 8.        , -0.27095204,  0.04593806, -0.04992813],\n",
       "        [ 6.        , -0.11965932,  2.44181756, -0.23724109],\n",
       "        [ 6.        , -1.08130266,  3.68052005,  0.27874998],\n",
       "        [ 6.        , -2.31743849,  2.80620132,  0.86798379],\n",
       "        [ 6.        , -2.21857731,  1.35554898,  0.55055286],\n",
       "        [ 1.        , -2.96925792,  2.73661176,  3.54130577],\n",
       "        [ 1.        , -0.27153608,  2.40714079,  2.58637797],\n",
       "        [ 1.        , -0.64130634,  0.66409026,  2.81151566],\n",
       "        [ 1.        ,  0.17818655,  0.27267158, -0.90326441],\n",
       "        [ 1.        ,  0.93555285,  2.60279125, -0.05197857],\n",
       "        [ 1.        , -0.35827703,  2.41891948, -1.26786949],\n",
       "        [ 1.        , -0.57402327,  4.26807961,  1.08342976],\n",
       "        [ 1.        , -1.21071896,  4.38205601, -0.58218731],\n",
       "        [ 1.        , -3.20449363,  3.40855218,  0.69438356],\n",
       "        [ 1.        , -2.88269789,  0.63231745, -0.02013569]])]"
      ]
     },
     "execution_count": 6,
     "metadata": {},
     "output_type": "execute_result"
    }
   ],
   "source": [
    "molecules"
   ]
  },
  {
   "cell_type": "markdown",
   "metadata": {},
   "source": [
    "## Create a Dataframe from Input files"
   ]
  },
  {
   "cell_type": "code",
   "execution_count": 7,
   "metadata": {
    "collapsed": true
   },
   "outputs": [],
   "source": [
    "#list_ = []\n",
    "#for file in filenames:\n",
    "#    filepath = os.path.join(path_to_files, file)\n",
    "#    try:\n",
    "#        df_single = pd.read_csv(filepath, skiprows=2,\n",
    "#                               skipfooter=3, delimiter='\\t',\n",
    "#                               names=['atomtype', 'x', 'y', 'z', 'charge'], \n",
    "#                               dtype=dict(atomtype=str, x=float, y=float, z=float, charge=float))\n",
    "#    except:\n",
    "#        print(file)\n",
    "#    df_single['file'] = file\n",
    "#    list_.append(df_single)\n",
    "#df_all = pd.concat(list_)\n",
    "#df_all.head(5)"
   ]
  },
  {
   "cell_type": "markdown",
   "metadata": {},
   "source": [
    "## Prepare raw Data for Transformation"
   ]
  },
  {
   "cell_type": "code",
   "execution_count": 8,
   "metadata": {
    "collapsed": true
   },
   "outputs": [],
   "source": [
    "#n_atoms = 19\n",
    "#h_atoms = 10\n",
    "#mask_H = dict(H='ZZZ_H')\n",
    "#df_all = df_all.replace(dict(atomtype=mask_H))\n",
    "## sort by file and atomtype\n",
    "#df_all = df_all.sort_values(['file', 'atomtype']).reset_index(drop=True)\n",
    "## create file id column\n",
    "#df_all['file_id'] = (df_all.index) // n_atoms + 1"
   ]
  },
  {
   "cell_type": "code",
   "execution_count": 9,
   "metadata": {
    "collapsed": true
   },
   "outputs": [],
   "source": [
    "#df_all.head(25)"
   ]
  },
  {
   "cell_type": "markdown",
   "metadata": {},
   "source": [
    "## Transform Dataframe to Numpy Array for faster Calculations"
   ]
  },
  {
   "cell_type": "code",
   "execution_count": 10,
   "metadata": {
    "collapsed": true
   },
   "outputs": [],
   "source": [
    "#raw_matrix = df_all[['file_id', 'atomtype', 'x', 'y', 'z', 'charge']].values"
   ]
  },
  {
   "cell_type": "markdown",
   "metadata": {},
   "source": [
    "# Transformation Functions"
   ]
  },
  {
   "cell_type": "markdown",
   "metadata": {},
   "source": [
    "# Run Calculations"
   ]
  },
  {
   "cell_type": "code",
   "execution_count": 11,
   "metadata": {
    "scrolled": true
   },
   "outputs": [
    {
     "ename": "NameError",
     "evalue": "name 'molecule' is not defined",
     "traceback": [
      "\u001b[0;31m---------------------------------------------------------------------------\u001b[0m",
      "\u001b[0;31mNameError\u001b[0m                                 Traceback (most recent call last)",
      "\u001b[0;32m<ipython-input-11-47b7805a5453>\u001b[0m in \u001b[0;36m<module>\u001b[0;34m()\u001b[0m\n\u001b[1;32m      1\u001b[0m \u001b[0mstart\u001b[0m \u001b[0;34m=\u001b[0m \u001b[0mtime\u001b[0m\u001b[0;34m.\u001b[0m\u001b[0mtime\u001b[0m\u001b[0;34m(\u001b[0m\u001b[0;34m)\u001b[0m\u001b[0;34m\u001b[0m\u001b[0m\n\u001b[0;32m----> 2\u001b[0;31m \u001b[0mnetwork_in\u001b[0m \u001b[0;34m=\u001b[0m \u001b[0mnp\u001b[0m\u001b[0;34m.\u001b[0m\u001b[0marray\u001b[0m\u001b[0;34m(\u001b[0m\u001b[0mget_input_data\u001b[0m\u001b[0;34m(\u001b[0m\u001b[0mmolecules\u001b[0m\u001b[0;34m)\u001b[0m\u001b[0;34m)\u001b[0m\u001b[0;34m\u001b[0m\u001b[0m\n\u001b[0m\u001b[1;32m      3\u001b[0m \u001b[0mprint\u001b[0m\u001b[0;34m(\u001b[0m\u001b[0;34m'time: {}'\u001b[0m\u001b[0;34m.\u001b[0m\u001b[0mformat\u001b[0m\u001b[0;34m(\u001b[0m\u001b[0mtime\u001b[0m\u001b[0;34m.\u001b[0m\u001b[0mtime\u001b[0m\u001b[0;34m(\u001b[0m\u001b[0;34m)\u001b[0m\u001b[0;34m-\u001b[0m\u001b[0mstart\u001b[0m\u001b[0;34m)\u001b[0m\u001b[0;34m)\u001b[0m\u001b[0;34m\u001b[0m\u001b[0m\n",
      "\u001b[0;32m~/Documents/FUB/Forschungsprojekt/fproj/DeepPotential/Code/DataGeneration/transform.py\u001b[0m in \u001b[0;36mget_input_data\u001b[0;34m(raw_matrix)\u001b[0m\n\u001b[1;32m    105\u001b[0m             \u001b[0;31m# get nearest atoms that are not H\u001b[0m\u001b[0;34m\u001b[0m\u001b[0;34m\u001b[0m\u001b[0m\n\u001b[1;32m    106\u001b[0m             \u001b[0mnearest\u001b[0m \u001b[0;34m=\u001b[0m \u001b[0mdistances\u001b[0m\u001b[0;34m.\u001b[0m\u001b[0margsort\u001b[0m\u001b[0;34m(\u001b[0m\u001b[0;34m)\u001b[0m\u001b[0;34m\u001b[0m\u001b[0m\n\u001b[0;32m--> 107\u001b[0;31m             \u001b[0mone\u001b[0m\u001b[0;34m,\u001b[0m \u001b[0mtwo\u001b[0m \u001b[0;34m=\u001b[0m \u001b[0mget_nearest\u001b[0m\u001b[0;34m(\u001b[0m\u001b[0matom\u001b[0m\u001b[0;34m,\u001b[0m \u001b[0mothers\u001b[0m\u001b[0;34m)\u001b[0m\u001b[0;34m[\u001b[0m\u001b[0;34m:\u001b[0m\u001b[0;34m,\u001b[0m \u001b[0;36m1\u001b[0m\u001b[0;34m:\u001b[0m\u001b[0;34m]\u001b[0m\u001b[0;34m\u001b[0m\u001b[0m\n\u001b[0m\u001b[1;32m    108\u001b[0m             \u001b[0;31m# get new basis vectors\u001b[0m\u001b[0;34m\u001b[0m\u001b[0;34m\u001b[0m\u001b[0m\n\u001b[1;32m    109\u001b[0m             \u001b[0mnew_x\u001b[0m \u001b[0;34m=\u001b[0m \u001b[0mone\u001b[0m \u001b[0;34m-\u001b[0m \u001b[0mzero\u001b[0m\u001b[0;34m\u001b[0m\u001b[0m\n",
      "\u001b[0;32m~/Documents/FUB/Forschungsprojekt/fproj/DeepPotential/Code/DataGeneration/transform.py\u001b[0m in \u001b[0;36mget_nearest\u001b[0;34m(focus_id, neighs)\u001b[0m\n\u001b[1;32m     58\u001b[0m \u001b[0;34m\u001b[0m\u001b[0m\n\u001b[1;32m     59\u001b[0m \u001b[0;32mdef\u001b[0m \u001b[0mget_nearest\u001b[0m\u001b[0;34m(\u001b[0m\u001b[0mfocus_id\u001b[0m\u001b[0;34m,\u001b[0m \u001b[0mneighs\u001b[0m\u001b[0;34m)\u001b[0m\u001b[0;34m:\u001b[0m\u001b[0;34m\u001b[0m\u001b[0m\n\u001b[0;32m---> 60\u001b[0;31m     \u001b[0mfocus_atom\u001b[0m \u001b[0;34m=\u001b[0m \u001b[0mmolecule\u001b[0m\u001b[0;34m[\u001b[0m\u001b[0mfocus_id\u001b[0m\u001b[0;34m]\u001b[0m\u001b[0;34m\u001b[0m\u001b[0m\n\u001b[0m\u001b[1;32m     61\u001b[0m     \u001b[0mnot_h\u001b[0m \u001b[0;34m=\u001b[0m \u001b[0;34m(\u001b[0m\u001b[0mmolecule\u001b[0m\u001b[0;34m[\u001b[0m\u001b[0;34m:\u001b[0m\u001b[0;34m,\u001b[0m \u001b[0;36m0\u001b[0m\u001b[0;34m]\u001b[0m \u001b[0;34m!=\u001b[0m \u001b[0;36m1\u001b[0m\u001b[0;34m)\u001b[0m\u001b[0;34m.\u001b[0m\u001b[0msum\u001b[0m\u001b[0;34m(\u001b[0m\u001b[0;34m)\u001b[0m\u001b[0;34m\u001b[0m\u001b[0m\n\u001b[1;32m     62\u001b[0m     \u001b[0;32mif\u001b[0m \u001b[0mnot_h\u001b[0m \u001b[0;34m>=\u001b[0m \u001b[0;36m3\u001b[0m\u001b[0;34m:\u001b[0m\u001b[0;34m\u001b[0m\u001b[0m\n",
      "\u001b[0;31mNameError\u001b[0m: name 'molecule' is not defined"
     ],
     "output_type": "error"
    }
   ],
   "source": [
    "start = time.time()\n",
    "network_in = np.array(get_input_data(molecules))\n",
    "print('time: {}'.format(time.time()-start))"
   ]
  },
  {
   "cell_type": "code",
   "execution_count": null,
   "metadata": {},
   "outputs": [],
   "source": [
    "network_in.shape"
   ]
  },
  {
   "cell_type": "markdown",
   "metadata": {},
   "source": [
    "## Get Y-labels"
   ]
  },
  {
   "cell_type": "code",
   "execution_count": null,
   "metadata": {},
   "outputs": [],
   "source": [
    "len(energies)"
   ]
  },
  {
   "cell_type": "markdown",
   "metadata": {},
   "source": [
    "## Save arrays to file"
   ]
  },
  {
   "cell_type": "code",
   "execution_count": null,
   "metadata": {
    "collapsed": true
   },
   "outputs": [],
   "source": [
    "data_path = './Dataset/c702h10_X'\n",
    "label_path = './Dataset/c702h10_Y'"
   ]
  },
  {
   "cell_type": "code",
   "execution_count": null,
   "metadata": {
    "collapsed": true
   },
   "outputs": [],
   "source": [
    "np.save(data_path, network_in)\n",
    "np.save(label_path, energies)"
   ]
  },
  {
   "cell_type": "markdown",
   "metadata": {},
   "source": [
    "# Testing"
   ]
  },
  {
   "cell_type": "markdown",
   "metadata": {},
   "source": [
    "## Test Functions"
   ]
  },
  {
   "cell_type": "code",
   "execution_count": null,
   "metadata": {
    "collapsed": true
   },
   "outputs": [],
   "source": [
    "def test_get_spherical():\n",
    "    test_positions = np.array([[0, 1, 2],\n",
    "                               [1, 1, 1],\n",
    "                               [-1, 2, 1]])\n",
    "    val_result = np.array([[1/np.sqrt(5), np.cos(np.arccos(2/np.sqrt(5))),\n",
    "                            np.cos(np.pi/2), np.sin(np.pi/2)],\n",
    "                           [1/np.sqrt(3), np.cos(np.arccos(1/np.sqrt(3))),\n",
    "                            np.cos(np.arctan(1)), np.sin(np.arctan(1))],\n",
    "                           [1/np.sqrt(6), np.cos(np.arccos(1/np.sqrt(6))),\n",
    "                            np.cos(np.arctan(-2) + np.pi), np.sin(np.arctan(-2) + np.pi)]])\n",
    "    assert_array_almost_equal(val_result, get_spherical(test_positions)) "
   ]
  },
  {
   "cell_type": "code",
   "execution_count": null,
   "metadata": {
    "collapsed": true
   },
   "outputs": [],
   "source": [
    "def test_change_base():\n",
    "    test_positions = np.array([[0, 1, 2],\n",
    "                               [1, 1, 1],\n",
    "                               [-1, 2, 1]])\n",
    "    x = np.array([1, 1, 0])\n",
    "    y = np.array([0, 0, 1])\n",
    "    z = np.array([2, 1, 3])\n",
    "    val_result = np.array([[-7.,-13.,4.],\n",
    "                           [-8.,-17.,5.],\n",
    "                           [-4., -8.,2.]])\n",
    "    o = np.array([-1, 4, 3])\n",
    "    assert_array_almost_equal(val_result, change_base(test_positions, x, y, z, o))"
   ]
  },
  {
   "cell_type": "code",
   "execution_count": null,
   "metadata": {
    "collapsed": true
   },
   "outputs": [],
   "source": [
    "def test_get_input_data():\n",
    "    test_mol = np.array([['C', 1, 1, 1],\n",
    "                         ['O', 1, 0, 0],\n",
    "                         ['O', 0, 3, 0],\n",
    "                         ['ZZZ_H', 0, 2, 0]])\n",
    "    return get_input_data(test_mol, 4)"
   ]
  },
  {
   "cell_type": "markdown",
   "metadata": {},
   "source": [
    "## Run Tests"
   ]
  },
  {
   "cell_type": "code",
   "execution_count": null,
   "metadata": {
    "collapsed": true
   },
   "outputs": [],
   "source": [
    "test_mol = molecules[0]"
   ]
  },
  {
   "cell_type": "code",
   "execution_count": null,
   "metadata": {
    "collapsed": true
   },
   "outputs": [],
   "source": [
    "test_mol = test_mol[test_mol[:,0].argsort()]"
   ]
  },
  {
   "cell_type": "code",
   "execution_count": null,
   "metadata": {
    "collapsed": true
   },
   "outputs": [],
   "source": [
    "results = np.zeros((19, 72))"
   ]
  },
  {
   "cell_type": "code",
   "execution_count": null,
   "metadata": {},
   "outputs": [],
   "source": [
    "positions = test_mol[:, 1:]\n",
    "for i in range(10):\n",
    "    dists = cdist(positions[np.newaxis, i], positions[10:])\n",
    "    one, two = dists.argsort().reshape(9)[:2] + 10\n",
    "    zero = i\n",
    "    x = positions[one] - positions[zero]\n",
    "    z = np.cross(x, positions[two] - positions[zero])\n",
    "    y = np.cross(z, x)\n",
    "    x /= np.linalg.norm(x)\n",
    "    y /= np.linalg.norm(y)\n",
    "    z /= np.linalg.norm(z)\n",
    "    print(i, one, two, positions[one], positions[two])\n",
    "    others = np.vstack((test_mol[:i], test_mol[i+1:]))\n",
    "    ch_b_others = change_base(others[:, 1:], x, y, z, positions[zero])\n",
    "    sph_others = get_spherical(ch_b_others)\n",
    "    sph_others = sph_others[sph_others[:, 0].argsort()]\n",
    "    others = others[sph_others[:, 0].argsort()]\n",
    "    sph_others = sph_others[others[:, 0].argsort()]\n",
    "    results[i] = sph_others.reshape(72)"
   ]
  },
  {
   "cell_type": "code",
   "execution_count": null,
   "metadata": {
    "collapsed": true
   },
   "outputs": [],
   "source": [
    "val_result = results[:10]"
   ]
  },
  {
   "cell_type": "code",
   "execution_count": null,
   "metadata": {
    "collapsed": true
   },
   "outputs": [],
   "source": [
    "nearest = cdist(positions[np.newaxis, 0], positions[10:])#.argsort().reshape(9) + 10"
   ]
  },
  {
   "cell_type": "code",
   "execution_count": null,
   "metadata": {},
   "outputs": [],
   "source": [
    "nearest"
   ]
  },
  {
   "cell_type": "code",
   "execution_count": null,
   "metadata": {},
   "outputs": [],
   "source": [
    "test_result = np.array(get_input_data(test_mol[np.newaxis])).reshape(19, 72)[:10]"
   ]
  },
  {
   "cell_type": "code",
   "execution_count": null,
   "metadata": {},
   "outputs": [],
   "source": [
    "test_result.sum(axis=1)"
   ]
  },
  {
   "cell_type": "code",
   "execution_count": null,
   "metadata": {},
   "outputs": [],
   "source": [
    "val_result.sum(axis=1)"
   ]
  },
  {
   "cell_type": "code",
   "execution_count": null,
   "metadata": {},
   "outputs": [],
   "source": [
    "test_result[0]"
   ]
  },
  {
   "cell_type": "code",
   "execution_count": null,
   "metadata": {},
   "outputs": [],
   "source": [
    "val_result[0]"
   ]
  },
  {
   "cell_type": "code",
   "execution_count": null,
   "metadata": {},
   "outputs": [],
   "source": [
    "assert_array_almost_equal(test_result, val_result)"
   ]
  },
  {
   "cell_type": "code",
   "execution_count": null,
   "metadata": {},
   "outputs": [],
   "source": [
    "test = np.array([[1, 2, 3, 4], [5, 6, 7, 8]])\n",
    "test.reshape(8)"
   ]
  },
  {
   "cell_type": "code",
   "execution_count": null,
   "metadata": {
    "collapsed": true
   },
   "outputs": [],
   "source": [
    "test_result.sum()"
   ]
  },
  {
   "cell_type": "code",
   "execution_count": null,
   "metadata": {
    "collapsed": true
   },
   "outputs": [],
   "source": [
    "np.isnan(test_result)"
   ]
  },
  {
   "cell_type": "code",
   "execution_count": null,
   "metadata": {
    "collapsed": true
   },
   "outputs": [],
   "source": [
    "val_result.sum()"
   ]
  },
  {
   "cell_type": "code",
   "execution_count": null,
   "metadata": {
    "collapsed": true
   },
   "outputs": [],
   "source": [
    "diff = test_result-val_result"
   ]
  },
  {
   "cell_type": "code",
   "execution_count": null,
   "metadata": {
    "collapsed": true
   },
   "outputs": [],
   "source": [
    "for i in range(10):\n",
    "    for j in range(72):\n",
    "        if np.abs(diff[i, j]) <= 0.00001:\n",
    "            print(i, j)"
   ]
  },
  {
   "cell_type": "code",
   "execution_count": null,
   "metadata": {
    "collapsed": true
   },
   "outputs": [],
   "source": [
    "test_result[:, 1]"
   ]
  },
  {
   "cell_type": "code",
   "execution_count": null,
   "metadata": {
    "collapsed": true
   },
   "outputs": [],
   "source": [
    "val_result[:, 1]"
   ]
  },
  {
   "cell_type": "code",
   "execution_count": null,
   "metadata": {
    "collapsed": true
   },
   "outputs": [],
   "source": []
  },
  {
   "cell_type": "code",
   "execution_count": null,
   "metadata": {
    "collapsed": true
   },
   "outputs": [],
   "source": [
    "test_get_spherical()"
   ]
  },
  {
   "cell_type": "code",
   "execution_count": null,
   "metadata": {
    "collapsed": true
   },
   "outputs": [],
   "source": [
    "test_change_base()"
   ]
  },
  {
   "cell_type": "code",
   "execution_count": null,
   "metadata": {
    "collapsed": true
   },
   "outputs": [],
   "source": [
    "test_get_input_data()"
   ]
  },
  {
   "cell_type": "code",
   "execution_count": null,
   "metadata": {
    "collapsed": true
   },
   "outputs": [],
   "source": [
    "np.cross(np.array([-1, 2, -1]), np.array([0, -1, -1]))"
   ]
  },
  {
   "cell_type": "code",
   "execution_count": null,
   "metadata": {
    "collapsed": true
   },
   "outputs": [],
   "source": [
    "x = np.array([[1, 1, 1], [1, 0, 0], [0, 3, 0], [0, 2, 0]])"
   ]
  },
  {
   "cell_type": "code",
   "execution_count": null,
   "metadata": {
    "collapsed": true
   },
   "outputs": [],
   "source": [
    "cdist(x, x)#.argsort()"
   ]
  },
  {
   "cell_type": "code",
   "execution_count": null,
   "metadata": {
    "collapsed": true
   },
   "outputs": [],
   "source": [
    "test_mol = mol"
   ]
  }
 ],
 "metadata": {
  "kernelspec": {
   "display_name": "Python (fproj)",
   "language": "python",
   "name": "fproj"
  },
  "language_info": {
   "codemirror_mode": {
    "name": "ipython",
    "version": 3
   },
   "file_extension": ".py",
   "mimetype": "text/x-python",
   "name": "python",
   "nbconvert_exporter": "python",
   "pygments_lexer": "ipython3",
   "version": "3.6.3"
  }
 },
 "nbformat": 4,
 "nbformat_minor": 2
}
