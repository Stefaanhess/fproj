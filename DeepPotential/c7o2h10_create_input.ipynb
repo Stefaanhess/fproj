{
 "cells": [
  {
   "cell_type": "markdown",
   "metadata": {},
   "source": [
    "# Imports and Settings"
   ]
  },
  {
   "cell_type": "code",
   "execution_count": 1,
   "metadata": {
    "collapsed": true
   },
   "outputs": [],
   "source": [
    "# -*- coding: utf-8 -*-\n",
    "import pandas as pd\n",
    "import numpy as np\n",
    "import os\n",
    "from scipy.spatial.distance import squareform, cdist\n",
    "import time\n",
    "from numpy.testing import *"
   ]
  },
  {
   "cell_type": "code",
   "execution_count": 2,
   "metadata": {
    "collapsed": true
   },
   "outputs": [],
   "source": [
    "from Code.DataGeneration.printer import ProgressTimer\n",
    "from Code.DataGeneration.saver import create_path\n",
    "from Code.DataGeneration.transform import get_spherical, change_base, get_input_data"
   ]
  },
  {
   "cell_type": "code",
   "execution_count": 3,
   "metadata": {
    "collapsed": true
   },
   "outputs": [],
   "source": [
    "path_to_db = \"./Dataset/iso17/reference.db\""
   ]
  },
  {
   "cell_type": "code",
   "execution_count": 4,
   "metadata": {
    "collapsed": true
   },
   "outputs": [],
   "source": [
    "from ase.db import connect\n",
    "\n",
    "molecules = []\n",
    "energies = []\n",
    "with connect(path_to_db) as conn:\n",
    "    for row in conn.select():\n",
    "        molecules.append(np.hstack((row['numbers'].reshape((19, 1)), row['positions'])))\n",
    "        energies.append(row['total_energy'])"
   ]
  },
  {
   "cell_type": "code",
   "execution_count": 5,
   "metadata": {},
   "outputs": [
    {
     "data": {
      "text/plain": [
       "(404000, 19, 4)"
      ]
     },
     "execution_count": 5,
     "metadata": {},
     "output_type": "execute_result"
    }
   ],
   "source": [
    "np.array(molecules).shape"
   ]
  },
  {
   "cell_type": "markdown",
   "metadata": {},
   "source": [
    "# Run Calculations"
   ]
  },
  {
   "cell_type": "code",
   "execution_count": null,
   "metadata": {
    "scrolled": true
   },
   "outputs": [
    {
     "name": "stdout",
     "output_type": "stream",
     "text": [
      "0.0  % ---  70.7\n",
      "0.0  % ---  73.2\n",
      "0.1  % ---  79.9\n",
      "0.1  % ---  76.8\n",
      "0.1  % ---  74.3\n",
      "0.1  % ---  70.9\n",
      "0.2  % ---  69.4\n",
      "0.2  % ---  67.5\n",
      "0.2  % ---  66.1\n",
      "0.2  % ---  64.9\n",
      "0.3  % ---  64.2\n",
      "0.3  % ---  64.7\n",
      "0.3  % ---  63.8\n",
      "0.3  % ---  63.6\n",
      "0.4  % ---  62.9\n",
      "0.4  % ---  63.2\n",
      "0.4  % ---  62.7\n",
      "0.4  % ---  62.0\n",
      "0.5  % ---  61.7\n",
      "0.5  % ---  61.5\n",
      "0.5  % ---  61.7\n",
      "0.5  % ---  61.2\n",
      "0.6  % ---  61.0\n",
      "0.6  % ---  60.8\n",
      "0.6  % ---  60.6\n",
      "0.6  % ---  60.8\n",
      "0.7  % ---  60.8\n",
      "0.7  % ---  60.4\n",
      "0.7  % ---  60.4\n",
      "0.7  % ---  60.6\n",
      "0.8  % ---  60.5\n",
      "0.8  % ---  60.5\n",
      "0.8  % ---  60.5\n",
      "0.8  % ---  60.5\n",
      "0.9  % ---  60.6\n",
      "0.9  % ---  60.3\n",
      "0.9  % ---  60.1\n",
      "0.9  % ---  60.0\n",
      "1.0  % ---  60.0\n",
      "1.0  % ---  60.2\n",
      "1.0  % ---  60.1\n",
      "1.0  % ---  59.9\n",
      "1.1  % ---  59.6\n",
      "1.1  % ---  59.6\n",
      "1.1  % ---  59.4\n",
      "1.1  % ---  59.4\n",
      "1.2  % ---  59.3\n",
      "1.2  % ---  59.4\n",
      "1.2  % ---  59.5\n",
      "1.2  % ---  59.7\n",
      "1.3  % ---  60.1\n",
      "1.3  % ---  60.2\n",
      "1.3  % ---  60.1\n",
      "1.3  % ---  60.0\n",
      "1.4  % ---  59.9\n",
      "1.4  % ---  59.8\n",
      "1.4  % ---  59.8\n",
      "1.4  % ---  59.9\n",
      "1.5  % ---  59.7\n",
      "1.5  % ---  59.7\n",
      "1.5  % ---  59.8\n",
      "1.5  % ---  59.7\n",
      "1.6  % ---  59.6\n",
      "1.6  % ---  59.6\n",
      "1.6  % ---  59.6\n",
      "1.6  % ---  59.7\n",
      "1.7  % ---  59.7\n",
      "1.7  % ---  59.6\n",
      "1.7  % ---  59.5\n",
      "1.7  % ---  59.5\n",
      "1.8  % ---  59.5\n",
      "1.8  % ---  59.4\n",
      "1.8  % ---  59.3\n",
      "1.8  % ---  59.2\n",
      "1.9  % ---  59.2\n",
      "1.9  % ---  59.1\n",
      "1.9  % ---  59.1\n",
      "1.9  % ---  59.1\n",
      "2.0  % ---  59.1\n",
      "2.0  % ---  59.1\n",
      "2.0  % ---  59.1\n",
      "2.0  % ---  59.0\n",
      "2.1  % ---  59.0\n",
      "2.1  % ---  59.0\n",
      "2.1  % ---  59.0\n",
      "2.1  % ---  59.0\n",
      "2.2  % ---  58.9\n",
      "2.2  % ---  58.9\n",
      "2.2  % ---  58.9\n",
      "2.2  % ---  58.9\n",
      "2.3  % ---  58.8\n",
      "2.3  % ---  58.8\n",
      "2.3  % ---  58.9\n",
      "2.3  % ---  58.9\n",
      "2.4  % ---  58.8\n",
      "2.4  % ---  58.9\n",
      "2.4  % ---  59.0\n",
      "2.4  % ---  59.1\n",
      "2.5  % ---  59.1\n",
      "2.5  % ---  59.2\n",
      "2.5  % ---  59.3\n",
      "2.5  % ---  59.3\n",
      "2.5  % ---  59.3\n",
      "2.6  % ---  59.3\n",
      "2.6  % ---  59.3\n",
      "2.6  % ---  59.4\n",
      "2.6  % ---  59.6\n",
      "2.7  % ---  59.6\n",
      "2.7  % ---  59.6\n",
      "2.7  % ---  59.7\n",
      "2.7  % ---  59.9\n",
      "2.8  % ---  59.9\n",
      "2.8  % ---  60.0\n",
      "2.8  % ---  60.0\n",
      "2.8  % ---  60.0\n",
      "2.9  % ---  60.0\n",
      "2.9  % ---  60.0\n",
      "2.9  % ---  60.1\n",
      "2.9  % ---  60.2\n",
      "3.0  % ---  61.2\n",
      "3.0  % ---  61.4\n",
      "3.0  % ---  61.5\n",
      "3.0  % ---  61.5\n",
      "3.1  % ---  61.6\n",
      "3.1  % ---  61.6\n",
      "3.1  % ---  61.7\n",
      "3.1  % ---  61.7\n",
      "3.2  % ---  61.8\n",
      "3.2  % ---  61.9\n",
      "3.2  % ---  61.9\n",
      "3.2  % ---  62.0\n",
      "3.3  % ---  62.0\n",
      "3.3  % ---  62.1\n",
      "3.3  % ---  62.2\n",
      "3.3  % ---  62.2\n",
      "3.4  % ---  62.2\n",
      "3.4  % ---  62.2\n",
      "3.4  % ---  62.2\n",
      "3.4  % ---  62.1\n",
      "3.5  % ---  62.0\n",
      "3.5  % ---  61.9\n",
      "3.5  % ---  61.8\n",
      "3.5  % ---  61.8\n",
      "3.6  % ---  61.7\n",
      "3.6  % ---  61.6\n",
      "3.6  % ---  61.6\n",
      "3.6  % ---  61.5\n",
      "3.7  % ---  61.6\n",
      "3.7  % ---  61.6\n",
      "3.7  % ---  61.5\n",
      "3.7  % ---  61.6\n"
     ]
    }
   ],
   "source": [
    "start = time.time()\n",
    "network_in = np.array(get_input_data(molecules))\n",
    "print('time: {}'.format(time.time()-start))"
   ]
  },
  {
   "cell_type": "code",
   "execution_count": null,
   "metadata": {},
   "outputs": [],
   "source": [
    "network_in.shape"
   ]
  },
  {
   "cell_type": "code",
   "execution_count": null,
   "metadata": {},
   "outputs": [],
   "source": [
    "len(energies)"
   ]
  },
  {
   "cell_type": "markdown",
   "metadata": {},
   "source": [
    "## Save arrays to file"
   ]
  },
  {
   "cell_type": "code",
   "execution_count": null,
   "metadata": {
    "collapsed": true
   },
   "outputs": [],
   "source": [
    "data_path = './Dataset/c702h10_X'\n",
    "label_path = './Dataset/c702h10_Y'"
   ]
  },
  {
   "cell_type": "code",
   "execution_count": null,
   "metadata": {
    "collapsed": true
   },
   "outputs": [],
   "source": [
    "np.save(data_path, network_in)\n",
    "np.save(label_path, energies)"
   ]
  },
  {
   "cell_type": "markdown",
   "metadata": {},
   "source": [
    "# Testing"
   ]
  },
  {
   "cell_type": "markdown",
   "metadata": {},
   "source": [
    "## Test Functions"
   ]
  },
  {
   "cell_type": "code",
   "execution_count": null,
   "metadata": {
    "collapsed": true
   },
   "outputs": [],
   "source": [
    "def test_get_spherical():\n",
    "    test_positions = np.array([[0, 1, 2],\n",
    "                               [1, 1, 1],\n",
    "                               [-1, 2, 1]])\n",
    "    val_result = np.array([[1/np.sqrt(5), np.cos(np.arccos(2/np.sqrt(5))),\n",
    "                            np.cos(np.pi/2), np.sin(np.pi/2)],\n",
    "                           [1/np.sqrt(3), np.cos(np.arccos(1/np.sqrt(3))),\n",
    "                            np.cos(np.arctan(1)), np.sin(np.arctan(1))],\n",
    "                           [1/np.sqrt(6), np.cos(np.arccos(1/np.sqrt(6))),\n",
    "                            np.cos(np.arctan(-2) + np.pi), np.sin(np.arctan(-2) + np.pi)]])\n",
    "    assert_array_almost_equal(val_result, get_spherical(test_positions)) \n",
    "    print('pass!')"
   ]
  },
  {
   "cell_type": "code",
   "execution_count": null,
   "metadata": {
    "collapsed": true
   },
   "outputs": [],
   "source": [
    "def test_change_base():\n",
    "    test_positions = np.array([[0, 1, 2],\n",
    "                               [1, 1, 1],\n",
    "                               [-1, 2, 1]])\n",
    "    x = np.array([1, 1, 0])\n",
    "    y = np.array([0, 0, 1])\n",
    "    z = np.array([2, 1, 3])\n",
    "    val_result = np.array([[-7.,-13.,4.],\n",
    "                           [-8.,-17.,5.],\n",
    "                           [-4., -8.,2.]])\n",
    "    o = np.array([-1, 4, 3])\n",
    "    assert_array_almost_equal(val_result, change_base(test_positions, x, y, z, o))\n",
    "    print('pass!')"
   ]
  },
  {
   "cell_type": "code",
   "execution_count": null,
   "metadata": {
    "collapsed": true
   },
   "outputs": [],
   "source": [
    "def test_input_data():\n",
    "    # load molecule and sort\n",
    "    test_mol = molecules[0]\n",
    "    test_mol = test_mol[test_mol[:,0].argsort(kind='mergesort')]\n",
    "    results = np.zeros((19, 72))\n",
    "    positions = test_mol[:, 1:]\n",
    "    # H-part\n",
    "    for i in range(10):\n",
    "        dists = cdist(positions[np.newaxis, i], positions[10:])\n",
    "        one, two = dists.argsort().reshape(9)[:2] + 10\n",
    "        zero = i\n",
    "        x = positions[one] - positions[zero]\n",
    "        z = np.cross(x, positions[two] - positions[zero])\n",
    "        y = np.cross(z, x)\n",
    "        x /= np.linalg.norm(x)\n",
    "        y /= np.linalg.norm(y)\n",
    "        z /= np.linalg.norm(z)\n",
    "        others = np.vstack((test_mol[:i], test_mol[i+1:]))\n",
    "        ch_b_others = change_base(others[:, 1:], x, y, z, positions[zero])\n",
    "        sph_others = get_spherical(ch_b_others)\n",
    "        ids = sph_others[:, 0].argsort(kind='mergesort')\n",
    "        sph_others = sph_others[ids]\n",
    "        others = others[ids]\n",
    "        sph_others = sph_others[others[:, 0].argsort(kind='mergesort')]\n",
    "        results[i] = sph_others.reshape(72)\n",
    "    # C-part\n",
    "    for i in range(10, 17):\n",
    "        others = np.vstack((test_mol[:i], test_mol[i+1:]))\n",
    "        neighs = others[10:]\n",
    "        dists = cdist(positions[np.newaxis, i], neighs[:, 1:])\n",
    "        one_id, two_id = dists.argsort().reshape(8)[:2]\n",
    "        one, two = neighs[one_id, 1:], neighs[two_id, 1:]\n",
    "        zero =test_mol[i, 1:]\n",
    "        x = one - zero\n",
    "        z = np.cross(x, two - zero)\n",
    "        y = np.cross(z, x)\n",
    "        x /= np.linalg.norm(x)\n",
    "        y /= np.linalg.norm(y)\n",
    "        z /= np.linalg.norm(z)\n",
    "        ch_b_others = change_base(others[:, 1:], x, y, z, zero)\n",
    "        sph_others = get_spherical(ch_b_others)\n",
    "        ids = sph_others[:, 0].argsort(kind='mergesort')\n",
    "        sph_others = sph_others[ids]\n",
    "        others = others[ids]\n",
    "        sph_others = sph_others[others[:, 0].argsort(kind='mergesort')]\n",
    "        results[i] = sph_others.reshape(72)\n",
    "    # O-part\n",
    "    for i in range(17, 19):\n",
    "        others = np.vstack((test_mol[:i], test_mol[i+1:]))\n",
    "        neighs = others[10:]\n",
    "        dists = cdist(positions[np.newaxis, i], neighs[:, 1:])\n",
    "        one_id, two_id = dists.argsort().reshape(8)[:2]\n",
    "        one, two = neighs[one_id, 1:], neighs[two_id, 1:]\n",
    "        zero =test_mol[i, 1:]\n",
    "        x = one - zero\n",
    "        z = np.cross(x, two - zero)\n",
    "        y = np.cross(z, x)\n",
    "        x /= np.linalg.norm(x)\n",
    "        y /= np.linalg.norm(y)\n",
    "        z /= np.linalg.norm(z)\n",
    "        ch_b_others = change_base(others[:, 1:], x, y, z, zero)\n",
    "        sph_others = get_spherical(ch_b_others)\n",
    "        ids = sph_others[:, 0].argsort(kind='mergesort')\n",
    "        sph_others = sph_others[ids]\n",
    "        others = others[ids]\n",
    "        sph_others = sph_others[others[:, 0].argsort(kind='mergesort')]\n",
    "        results[i] = sph_others.reshape(72)\n",
    "    test_result = np.array(get_input_data(test_mol[np.newaxis])).reshape(19, 72)\n",
    "    \n",
    "    assert_array_almost_equal(test_result, results)\n",
    "    print('pass!')"
   ]
  },
  {
   "cell_type": "markdown",
   "metadata": {},
   "source": [
    "## Run Tests"
   ]
  },
  {
   "cell_type": "code",
   "execution_count": null,
   "metadata": {},
   "outputs": [],
   "source": [
    "test_get_spherical()"
   ]
  },
  {
   "cell_type": "code",
   "execution_count": null,
   "metadata": {},
   "outputs": [],
   "source": [
    "test_change_base()"
   ]
  },
  {
   "cell_type": "code",
   "execution_count": null,
   "metadata": {},
   "outputs": [],
   "source": [
    "test_input_data()"
   ]
  }
 ],
 "metadata": {
  "kernelspec": {
   "display_name": "Python 3",
   "language": "python",
   "name": "python3"
  },
  "language_info": {
   "codemirror_mode": {
    "name": "ipython",
    "version": 3
   },
   "file_extension": ".py",
   "mimetype": "text/x-python",
   "name": "python",
   "nbconvert_exporter": "python",
   "pygments_lexer": "ipython3",
   "version": "3.6.5"
  }
 },
 "nbformat": 4,
 "nbformat_minor": 2
}
