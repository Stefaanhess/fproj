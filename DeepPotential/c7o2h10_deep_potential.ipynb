{
 "cells": [
  {
   "cell_type": "markdown",
   "metadata": {},
   "source": [
    "# Imports,  Settings and Paths"
   ]
  },
  {
   "cell_type": "code",
   "execution_count": 1,
   "metadata": {},
   "outputs": [],
   "source": [
    "comment = 'bn_shuffle_adam_abc'"
   ]
  },
  {
   "cell_type": "code",
   "execution_count": 2,
   "metadata": {
    "scrolled": true
   },
   "outputs": [],
   "source": [
    "import numpy as np\n",
    "from matplotlib import pyplot as plt\n",
    "import pandas as pd#\n",
    "%matplotlib inline\n",
    "import torch\n",
    "from torch.autograd import Variable\n",
    "import torch.nn as nn\n",
    "import torch.nn.functional as F\n",
    "import time"
   ]
  },
  {
   "cell_type": "code",
   "execution_count": 3,
   "metadata": {},
   "outputs": [],
   "source": [
    "from Code.Models.c7o2h10_model import DeepPotential, train, normalize, backtransform\n",
    "from Code.DataGeneration.saver import create_path\n",
    "from Code.Models.nn_extentions import AbcExponentialLR"
   ]
  },
  {
   "cell_type": "code",
   "execution_count": 4,
   "metadata": {},
   "outputs": [],
   "source": [
    "data_path = './Dataset/c7o2h10_X.npy'\n",
    "label_path = './Dataset/c7o2h10_Y.npy'\n",
    "train_ids_path = './Dataset/iso17/train_ids.txt'\n",
    "test_ids_path = './Dataset/iso17/validation_ids.txt'\n",
    "model_path = './ModelCheckpoints/c7o2h10/{}/'.format(comment)\n",
    "create_path(model_path)"
   ]
  },
  {
   "cell_type": "code",
   "execution_count": 5,
   "metadata": {},
   "outputs": [],
   "source": [
    "train_ids = (np.loadtxt(train_ids_path) - 1).astype(int).tolist()\n",
    "test_ids = (np.loadtxt(test_ids_path) - 1).astype(int).tolist()"
   ]
  },
  {
   "cell_type": "code",
   "execution_count": 6,
   "metadata": {},
   "outputs": [
    {
     "name": "stdout",
     "output_type": "stream",
     "text": [
      "use cuda:   True\n"
     ]
    }
   ],
   "source": [
    "use_cuda = torch.cuda.is_available()\n",
    "print('use cuda:  ', use_cuda)"
   ]
  },
  {
   "cell_type": "markdown",
   "metadata": {},
   "source": [
    "# Read the Data"
   ]
  },
  {
   "cell_type": "code",
   "execution_count": 7,
   "metadata": {
    "scrolled": true
   },
   "outputs": [
    {
     "data": {
      "text/plain": [
       "(404000, 19, 72)"
      ]
     },
     "execution_count": 7,
     "metadata": {},
     "output_type": "execute_result"
    }
   ],
   "source": [
    "X_npy = np.load(data_path)\n",
    "Y_npy = np.load(label_path) * -1\n",
    "Y_npy, Y_min, Y_max = normalize(Y_npy)\n",
    "X_npy.shape"
   ]
  },
  {
   "cell_type": "markdown",
   "metadata": {},
   "source": [
    "### Check for NaN values"
   ]
  },
  {
   "cell_type": "code",
   "execution_count": 8,
   "metadata": {
    "scrolled": true
   },
   "outputs": [
    {
     "name": "stdout",
     "output_type": "stream",
     "text": [
      "0 Datapoints with NaN values found.\n"
     ]
    }
   ],
   "source": [
    "use_ids = np.where(np.isnan(X_npy).sum(axis=2).sum(axis=1)==0)\n",
    "print('{} Datapoints with NaN values found.'.format(X_npy.shape[0] - len(use_ids[0])))"
   ]
  },
  {
   "cell_type": "code",
   "execution_count": 9,
   "metadata": {
    "scrolled": true
   },
   "outputs": [
    {
     "data": {
      "text/plain": [
       "(404000, 19, 72)"
      ]
     },
     "execution_count": 9,
     "metadata": {},
     "output_type": "execute_result"
    }
   ],
   "source": [
    "X_npy = X_npy[use_ids]\n",
    "Y_npy = Y_npy[use_ids]\n",
    "X_npy.shape"
   ]
  },
  {
   "cell_type": "code",
   "execution_count": 10,
   "metadata": {},
   "outputs": [],
   "source": [
    "X_npy = X_npy\n",
    "Y_npy = Y_npy"
   ]
  },
  {
   "cell_type": "markdown",
   "metadata": {},
   "source": [
    "### Split into test and train"
   ]
  },
  {
   "cell_type": "code",
   "execution_count": 11,
   "metadata": {},
   "outputs": [
    {
     "name": "stdout",
     "output_type": "stream",
     "text": [
      "X Train shape: (400000, 19, 72)\tX Test shape: (4000, 19, 72)\n",
      "Y Train shape: (400000,)\tY Test shape: (4000,)\n"
     ]
    }
   ],
   "source": [
    "X_train_npy, X_test_npy = X_npy[train_ids], X_npy[test_ids]\n",
    "Y_train_npy, Y_test_npy = Y_npy[train_ids], Y_npy[test_ids]\n",
    "print('X Train shape: {}\\tX Test shape: {}\\nY Train shape: {}\\tY Test shape: {}'.format(X_train_npy.shape,\n",
    "                                                                                        X_test_npy.shape,\n",
    "                                                                                        Y_train_npy.shape,\n",
    "                                                                                        Y_test_npy.shape))"
   ]
  },
  {
   "cell_type": "markdown",
   "metadata": {},
   "source": [
    "### Shuffle the Dataset"
   ]
  },
  {
   "cell_type": "code",
   "execution_count": 12,
   "metadata": {},
   "outputs": [],
   "source": [
    "#shuffle = np.arange(X_train_npy.shape[0])\n",
    "#np.random.shuffle(shuffle)\n",
    "#X_train_npy = X_train_npy[shuffle]\n",
    "#Y_train_npy = Y_train_npy[shuffle]"
   ]
  },
  {
   "cell_type": "markdown",
   "metadata": {},
   "source": [
    "### Create Pytorch Variables"
   ]
  },
  {
   "cell_type": "code",
   "execution_count": 13,
   "metadata": {
    "scrolled": true
   },
   "outputs": [
    {
     "name": "stderr",
     "output_type": "stream",
     "text": [
      "/home/mi/stefaah94/miniconda3/lib/python3.6/site-packages/torch/cuda/__init__.py:116: UserWarning: \n",
      "    Found GPU1 NVS 310 which is of cuda capability 2.1.\n",
      "    PyTorch no longer supports this GPU because it is too old.\n",
      "    \n",
      "  warnings.warn(old_gpu_warn % (d, name, major, capability[1]))\n"
     ]
    }
   ],
   "source": [
    "if use_cuda:\n",
    "    X_train = Variable(torch.Tensor(X_train_npy).cuda())\n",
    "    Y_train = Variable(torch.Tensor(Y_train_npy).cuda(), requires_grad=False)\n",
    "    X_test = Variable(torch.Tensor(X_test_npy).cuda())\n",
    "    Y_test = Variable(torch.Tensor(Y_test_npy).cuda(), requires_grad=False)\n",
    "else:\n",
    "    X_train = Variable(torch.Tensor(X_train_npy))\n",
    "    Y_train = Variable(torch.Tensor(Y_train_npy), requires_grad=False)\n",
    "    X_test = Variable(torch.Tensor(X_test_npy))\n",
    "    Y_test = Variable(torch.Tensor(Y_test_npy), requires_grad=False)"
   ]
  },
  {
   "cell_type": "markdown",
   "metadata": {},
   "source": [
    "# Train Model"
   ]
  },
  {
   "cell_type": "markdown",
   "metadata": {},
   "source": [
    "## Do the learning"
   ]
  },
  {
   "cell_type": "code",
   "execution_count": null,
   "metadata": {
    "scrolled": true
   },
   "outputs": [
    {
     "name": "stdout",
     "output_type": "stream",
     "text": [
      "total: 0.0 %\tcurrent epoch: 3.2 %\tloss: 0.011185\ttime estimate: 621.6 min\n",
      "total: 0.0 %\tcurrent epoch: 6.4 %\tloss: 0.014692\ttime estimate: 537.4 min\n",
      "total: 0.0 %\tcurrent epoch: 9.6 %\tloss: 0.006766\ttime estimate: 593.7 min\n",
      "total: 0.0 %\tcurrent epoch: 12.8 %\tloss: 0.008277\ttime estimate: 613.3 min\n",
      "total: 0.1 %\tcurrent epoch: 16.0 %\tloss: 0.007032\ttime estimate: 628.0 min\n",
      "total: 0.1 %\tcurrent epoch: 19.2 %\tloss: 0.00571\ttime estimate: 612.5 min\n",
      "total: 0.1 %\tcurrent epoch: 22.4 %\tloss: 0.007796\ttime estimate: 601.3 min\n",
      "total: 0.1 %\tcurrent epoch: 25.6 %\tloss: 0.007497\ttime estimate: 591.3 min\n",
      "total: 0.1 %\tcurrent epoch: 28.8 %\tloss: 0.008774\ttime estimate: 590.3 min\n",
      "total: 0.1 %\tcurrent epoch: 32.0 %\tloss: 0.004917\ttime estimate: 602.6 min\n",
      "total: 0.1 %\tcurrent epoch: 35.2 %\tloss: 0.007235\ttime estimate: 609.8 min\n",
      "total: 0.1 %\tcurrent epoch: 38.4 %\tloss: 0.004587\ttime estimate: 601.8 min\n",
      "total: 0.1 %\tcurrent epoch: 41.6 %\tloss: 0.00314\ttime estimate: 595.0 min\n",
      "total: 0.1 %\tcurrent epoch: 44.8 %\tloss: 0.0029\ttime estimate: 596.3 min\n",
      "total: 0.2 %\tcurrent epoch: 48.0 %\tloss: 0.002958\ttime estimate: 597.2 min\n",
      "total: 0.2 %\tcurrent epoch: 51.2 %\tloss: 0.003385\ttime estimate: 595.7 min\n",
      "total: 0.2 %\tcurrent epoch: 54.4 %\tloss: 0.003664\ttime estimate: 596.3 min\n",
      "total: 0.2 %\tcurrent epoch: 57.6 %\tloss: 0.002941\ttime estimate: 592.6 min\n",
      "total: 0.2 %\tcurrent epoch: 60.8 %\tloss: 0.005596\ttime estimate: 587.2 min\n",
      "total: 0.2 %\tcurrent epoch: 64.0 %\tloss: 0.003399\ttime estimate: 580.7 min\n",
      "total: 0.2 %\tcurrent epoch: 67.2 %\tloss: 0.002182\ttime estimate: 574.0 min\n",
      "total: 0.2 %\tcurrent epoch: 70.4 %\tloss: 0.004662\ttime estimate: 580.9 min\n",
      "total: 0.2 %\tcurrent epoch: 73.6 %\tloss: 0.0052\ttime estimate: 586.0 min\n",
      "total: 0.3 %\tcurrent epoch: 76.8 %\tloss: 0.003255\ttime estimate: 589.8 min\n",
      "total: 0.3 %\tcurrent epoch: 80.0 %\tloss: 0.007279\ttime estimate: 595.1 min\n",
      "total: 0.3 %\tcurrent epoch: 83.2 %\tloss: 0.010432\ttime estimate: 601.2 min\n",
      "total: 0.3 %\tcurrent epoch: 86.4 %\tloss: 0.008402\ttime estimate: 597.0 min\n",
      "total: 0.3 %\tcurrent epoch: 89.6 %\tloss: 0.004751\ttime estimate: 599.5 min\n",
      "total: 0.3 %\tcurrent epoch: 92.8 %\tloss: 0.00298\ttime estimate: 596.9 min\n",
      "total: 0.3 %\tcurrent epoch: 96.0 %\tloss: 0.002886\ttime estimate: 593.3 min\n",
      "total: 0.3 %\tcurrent epoch: 99.2 %\tloss: 0.002506\ttime estimate: 588.7 min\n",
      "saved checkpoint at: ./ModelCheckpoints/c7o2h10/bn_no_shuffle_adam_abc/epoch_0\n",
      "\n",
      "total: 0.3 %\tcurrent epoch: 3.2 %\tloss: 0.005796\ttime estimate: 583.9 min\n",
      "total: 0.4 %\tcurrent epoch: 6.4 %\tloss: 0.009652\ttime estimate: 582.9 min\n",
      "total: 0.4 %\tcurrent epoch: 9.6 %\tloss: 0.004852\ttime estimate: 583.7 min\n"
     ]
    }
   ],
   "source": [
    "if use_cuda:\n",
    "    init_deep_pot = DeepPotential().cuda()\n",
    "else:\n",
    "    init_deep_pot = DeepPotential()\n",
    "init_optim = torch.optim.Adam(init_deep_pot.parameters(), lr=0.01)\n",
    "lr_scheduler = AbcExponentialLR(init_optim, 0.96, 1.5)\n",
    "deep_pot, optim = train(init_deep_pot, init_optim, lr_scheduler, X_train, Y_train,\n",
    "                        X_test, Y_test,\n",
    "                        300, 128,\n",
    "                        checkpoint_path=model_path, print_every=100, shuffle=False)"
   ]
  },
  {
   "cell_type": "code",
   "execution_count": null,
   "metadata": {},
   "outputs": [],
   "source": [
    "#deep_pot = DeepPotential().cuda()\n",
    "#deep_pot.load_state_dict(torch.load('./ModelCheckpoints/epoch_13'))\n",
    "Y_result = deep_pot.forward(X_test)"
   ]
  },
  {
   "cell_type": "code",
   "execution_count": null,
   "metadata": {},
   "outputs": [],
   "source": [
    "result = backtransform(np.array(Y_result.data.tolist()), Y_min, Y_max)"
   ]
  },
  {
   "cell_type": "code",
   "execution_count": null,
   "metadata": {},
   "outputs": [],
   "source": [
    "test_labels = backtransform(np.array(Y_test), Y_min, Y_max)"
   ]
  },
  {
   "cell_type": "code",
   "execution_count": null,
   "metadata": {},
   "outputs": [],
   "source": [
    "np.mean(np.abs(test_labels - result))"
   ]
  },
  {
   "cell_type": "code",
   "execution_count": null,
   "metadata": {},
   "outputs": [],
   "source": [
    "test_labels[:10]"
   ]
  },
  {
   "cell_type": "code",
   "execution_count": null,
   "metadata": {},
   "outputs": [],
   "source": [
    "result[:10]"
   ]
  },
  {
   "cell_type": "markdown",
   "metadata": {},
   "source": [
    "## Load Model"
   ]
  },
  {
   "cell_type": "code",
   "execution_count": null,
   "metadata": {},
   "outputs": [],
   "source": [
    "test_model = DeepPotential().cuda()\n",
    "test_model.load_state_dict(torch.load('ModelCheckpoints/c7o2h10/epoch_280'))"
   ]
  },
  {
   "cell_type": "code",
   "execution_count": null,
   "metadata": {},
   "outputs": [],
   "source": [
    "test_result = np.squeeze(backtransform(test_model(X_test), Y_min, Y_max).detach().cpu().numpy())"
   ]
  },
  {
   "cell_type": "code",
   "execution_count": null,
   "metadata": {},
   "outputs": [],
   "source": [
    "val_result = np.squeeze(backtransform(Y_test, Y_min, Y_max).detach().cpu().numpy())"
   ]
  },
  {
   "cell_type": "code",
   "execution_count": null,
   "metadata": {},
   "outputs": [],
   "source": [
    "np.mean(np.abs(test_result - val_result))"
   ]
  },
  {
   "cell_type": "code",
   "execution_count": null,
   "metadata": {},
   "outputs": [],
   "source": [
    "val_result[:10]"
   ]
  },
  {
   "cell_type": "markdown",
   "metadata": {},
   "source": [
    "## Test the model\n",
    "### Mean Absolute Error\n",
    "The desired accuracy is about 0.04 eV"
   ]
  },
  {
   "cell_type": "code",
   "execution_count": null,
   "metadata": {},
   "outputs": [],
   "source": [
    "mae = np.abs(deep_pot.forward(X_data[-500:]).data.numpy().reshape(500) - Y_data[-500:].data.numpy().reshape(500)).mean()\n",
    "print('The nural network reaches a mean absolute error of {} eV'.format(mae))"
   ]
  },
  {
   "cell_type": "markdown",
   "metadata": {},
   "source": [
    "### Small test sample"
   ]
  },
  {
   "cell_type": "code",
   "execution_count": null,
   "metadata": {},
   "outputs": [],
   "source": [
    "deep_pot.forward(X_data[-10:])"
   ]
  },
  {
   "cell_type": "code",
   "execution_count": null,
   "metadata": {},
   "outputs": [],
   "source": [
    "Y_data[-10:]"
   ]
  },
  {
   "cell_type": "markdown",
   "metadata": {},
   "source": [
    "## Save the Model Parameters"
   ]
  },
  {
   "cell_type": "code",
   "execution_count": null,
   "metadata": {},
   "outputs": [],
   "source": [
    "torch.save(deep_pot.state_dict(), model_path)"
   ]
  },
  {
   "cell_type": "markdown",
   "metadata": {},
   "source": [
    "## Continue learning"
   ]
  },
  {
   "cell_type": "code",
   "execution_count": null,
   "metadata": {},
   "outputs": [],
   "source": [
    "deep_pot = DeepPotential()\n",
    "deep_pot.load_state_dict(torch.load(model_path))\n",
    "optim = torch.optim.Adam(deep_pot.parameters(), lr=1e-2)"
   ]
  },
  {
   "cell_type": "code",
   "execution_count": null,
   "metadata": {},
   "outputs": [],
   "source": [
    "deep_pot, optim = train(deep_pot, optim, X_data, Y_data, 1000, 512, (0.001, 0.96, 1.5), use_for_train=0.9, print_every=10)"
   ]
  },
  {
   "cell_type": "code",
   "execution_count": null,
   "metadata": {},
   "outputs": [],
   "source": []
  }
 ],
 "metadata": {
  "kernelspec": {
   "display_name": "Python 3",
   "language": "python",
   "name": "python3"
  },
  "language_info": {
   "codemirror_mode": {
    "name": "ipython",
    "version": 3
   },
   "file_extension": ".py",
   "mimetype": "text/x-python",
   "name": "python",
   "nbconvert_exporter": "python",
   "pygments_lexer": "ipython3",
   "version": "3.6.5"
  }
 },
 "nbformat": 4,
 "nbformat_minor": 2
}
