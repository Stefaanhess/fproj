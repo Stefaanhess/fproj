{
 "cells": [
  {
   "cell_type": "markdown",
   "metadata": {},
   "source": [
    "# Imports,  Settings and Paths"
   ]
  },
  {
   "cell_type": "code",
   "execution_count": 1,
   "metadata": {
    "collapsed": true
   },
   "outputs": [],
   "source": [
    "import numpy as np\n",
    "from matplotlib import pyplot as plt\n",
    "import pandas as pd\n",
    "%matplotlib inline\n",
    "import torch\n",
    "from torch.autograd import Variable\n",
    "import torch.nn as nn\n",
    "import torch.nn.functional as F\n",
    "import time"
   ]
  },
  {
   "cell_type": "code",
   "execution_count": 2,
   "metadata": {
    "collapsed": true
   },
   "outputs": [],
   "source": [
    "from DeepPotentialModel import SubNetwork, DeepPotential, train"
   ]
  },
  {
   "cell_type": "code",
   "execution_count": 3,
   "metadata": {
    "collapsed": true
   },
   "outputs": [],
   "source": [
    "data_path = '../Dataset/network_inputs.npy'\n",
    "label_path = '../Dataset/network_labels.npy'\n",
    "model_path = '../Dataset/model_c7o2h10'"
   ]
  },
  {
   "cell_type": "markdown",
   "metadata": {},
   "source": [
    "# Read the Data"
   ]
  },
  {
   "cell_type": "code",
   "execution_count": 4,
   "metadata": {},
   "outputs": [
    {
     "data": {
      "text/plain": [
       "(404000, 19, 72)"
      ]
     },
     "execution_count": 4,
     "metadata": {},
     "output_type": "execute_result"
    }
   ],
   "source": [
    "X_train_npy = np.load(data_path)\n",
    "Y_train_npy = np.load(label_path) * -1\n",
    "X_train_npy.shape"
   ]
  },
  {
   "cell_type": "markdown",
   "metadata": {},
   "source": [
    "### Check for NaN values"
   ]
  },
  {
   "cell_type": "code",
   "execution_count": 5,
   "metadata": {},
   "outputs": [
    {
     "name": "stdout",
     "output_type": "stream",
     "text": [
      "403999 Datapoints with NaN values found.\n"
     ]
    }
   ],
   "source": [
    "use_ids = np.where(np.isnan(X_train_npy).sum(axis=2).sum(axis=1)==0)\n",
    "print('{} Datapoints with NaN values found.'.format(X_train_npy.shape[0] - len(use_ids)))"
   ]
  },
  {
   "cell_type": "code",
   "execution_count": 6,
   "metadata": {},
   "outputs": [
    {
     "data": {
      "text/plain": [
       "(404000, 19, 72)"
      ]
     },
     "execution_count": 6,
     "metadata": {},
     "output_type": "execute_result"
    }
   ],
   "source": [
    "X_train_npy = X_train_npy[use_ids]\n",
    "Y_train_npy = Y_train_npy[use_ids]\n",
    "X_train_npy.shape"
   ]
  },
  {
   "cell_type": "markdown",
   "metadata": {},
   "source": [
    "### Shuffle the Dataset"
   ]
  },
  {
   "cell_type": "code",
   "execution_count": 7,
   "metadata": {},
   "outputs": [],
   "source": [
    "shuffle = np.arange(X_train_npy.shape[0])\n",
    "np.random.shuffle(shuffle)\n",
    "X_train_npy = X_train_npy[shuffle]\n",
    "Y_train_npy = Y_train_npy[shuffle]"
   ]
  },
  {
   "cell_type": "markdown",
   "metadata": {},
   "source": [
    "### Create Pytorch Variables"
   ]
  },
  {
   "cell_type": "code",
   "execution_count": 8,
   "metadata": {
    "collapsed": true
   },
   "outputs": [],
   "source": [
    "X_data = Variable(torch.Tensor(X_train_npy))\n",
    "Y_data = Variable(torch.Tensor(Y_train_npy), requires_grad=False) - 11500"
   ]
  },
  {
   "cell_type": "markdown",
   "metadata": {},
   "source": [
    "# Train Model"
   ]
  },
  {
   "cell_type": "markdown",
   "metadata": {},
   "source": [
    "## Do the learning"
   ]
  },
  {
   "cell_type": "code",
   "execution_count": null,
   "metadata": {},
   "outputs": [],
   "source": [
    "init_deep_pot = DeepPotential()\n",
    "init_optim = torch.optim.Adam(init_deep_pot.parameters(), lr=1e-2)\n",
    "deep_pot, optim = train(init_deep_pot, init_optim, X_data, Y_data, 100, 0, (0.01, 0.96, 1.5), print_every=1)"
   ]
  },
  {
   "cell_type": "markdown",
   "metadata": {},
   "source": [
    "## Test the model\n",
    "### Mean Absolute Error\n",
    "The desired accuracy is about 0.04 eV"
   ]
  },
  {
   "cell_type": "code",
   "execution_count": 27,
   "metadata": {},
   "outputs": [
    {
     "name": "stdout",
     "output_type": "stream",
     "text": [
      "The nural network reaches a mean absolute error of 0.6296752095222473 eV\n"
     ]
    }
   ],
   "source": [
    "mae = np.abs(deep_pot.forward(X_data[-500:]).data.numpy().reshape(500) - Y_data[-500:].data.numpy().reshape(500)).mean()\n",
    "print('The nural network reaches a mean absolute error of {} eV'.format(mae))"
   ]
  },
  {
   "cell_type": "markdown",
   "metadata": {},
   "source": [
    "### Small test sample"
   ]
  },
  {
   "cell_type": "code",
   "execution_count": 37,
   "metadata": {},
   "outputs": [
    {
     "data": {
      "text/plain": [
       "Variable containing:\n",
       " 3.9502\n",
       " 1.8198\n",
       " 3.5014\n",
       " 2.9695\n",
       " 4.4703\n",
       " 4.2956\n",
       " 3.1812\n",
       " 3.9311\n",
       " 3.3639\n",
       " 4.4968\n",
       "[torch.FloatTensor of size 10x1]"
      ]
     },
     "execution_count": 37,
     "metadata": {},
     "output_type": "execute_result"
    }
   ],
   "source": [
    "deep_pot.forward(X_data[-10:])"
   ]
  },
  {
   "cell_type": "code",
   "execution_count": 35,
   "metadata": {},
   "outputs": [
    {
     "data": {
      "text/plain": [
       "Variable containing:\n",
       " 4.2441\n",
       " 2.0049\n",
       " 3.6494\n",
       " 3.1289\n",
       " 5.0332\n",
       " 4.0723\n",
       " 3.6084\n",
       " 3.6260\n",
       " 3.7363\n",
       " 4.1455\n",
       "[torch.FloatTensor of size 10]"
      ]
     },
     "execution_count": 35,
     "metadata": {},
     "output_type": "execute_result"
    }
   ],
   "source": [
    "Y_data[-10:]"
   ]
  },
  {
   "cell_type": "markdown",
   "metadata": {},
   "source": [
    "## Save the Model Parameters"
   ]
  },
  {
   "cell_type": "code",
   "execution_count": 30,
   "metadata": {},
   "outputs": [],
   "source": [
    "torch.save(deep_pot.state_dict(), model_path)"
   ]
  },
  {
   "cell_type": "markdown",
   "metadata": {},
   "source": [
    "## Continue learning"
   ]
  },
  {
   "cell_type": "code",
   "execution_count": 32,
   "metadata": {
    "collapsed": true
   },
   "outputs": [],
   "source": [
    "deep_pot = DeepPotential()\n",
    "deep_pot.load_state_dict(torch.load(model_path))\n",
    "optim = torch.optim.Adam(deep_pot.parameters(), lr=1e-2)"
   ]
  },
  {
   "cell_type": "code",
   "execution_count": 36,
   "metadata": {},
   "outputs": [
    {
     "name": "stdout",
     "output_type": "stream",
     "text": [
      "1.0%: 0.390155 --- time estimate: 18.5 min\n",
      "2.0%: 0.38101 --- time estimate: 17.5 min\n",
      "3.0%: 0.329078 --- time estimate: 17.1 min\n",
      "4.0%: 0.332424 --- time estimate: 16.8 min\n",
      "5.0%: 0.300478 --- time estimate: 16.5 min\n",
      "6.0%: 0.292925 --- time estimate: 16.3 min\n",
      "7.0%: 0.275463 --- time estimate: 16.1 min\n",
      "8.0%: 0.359195 --- time estimate: 15.9 min\n",
      "9.0%: 0.260465 --- time estimate: 15.7 min\n",
      "10.0%: 0.256881 --- time estimate: 15.5 min\n",
      "11.0%: 0.249245 --- time estimate: 15.3 min\n",
      "12.0%: 0.261372 --- time estimate: 15.1 min\n",
      "13.0%: 0.239019 --- time estimate: 15.2 min\n",
      "14.0%: 0.260359 --- time estimate: 15.0 min\n",
      "15.0%: 0.241714 --- time estimate: 14.9 min\n",
      "16.0%: 0.258149 --- time estimate: 14.7 min\n",
      "17.0%: 0.222244 --- time estimate: 14.5 min\n",
      "18.0%: 0.222244 --- time estimate: 14.3 min\n",
      "19.0%: 0.199517 --- time estimate: 14.1 min\n",
      "20.0%: 0.238565 --- time estimate: 14.0 min\n",
      "21.0%: 0.23263 --- time estimate: 13.8 min\n",
      "22.0%: 0.245734 --- time estimate: 13.6 min\n",
      "23.0%: 0.229795 --- time estimate: 13.4 min\n",
      "24.0%: 0.209962 --- time estimate: 13.2 min\n",
      "25.0%: 0.227639 --- time estimate: 13.1 min\n",
      "26.0%: 0.212913 --- time estimate: 12.9 min\n",
      "27.0%: 0.211779 --- time estimate: 12.7 min\n",
      "28.0%: 0.238263 --- time estimate: 12.5 min\n",
      "29.0%: 0.164339 --- time estimate: 12.4 min\n",
      "30.0%: 0.195071 --- time estimate: 12.2 min\n",
      "31.0%: 0.299266 --- time estimate: 12.0 min\n",
      "32.0%: 0.178223 --- time estimate: 11.8 min\n",
      "33.0%: 0.215245 --- time estimate: 11.6 min\n",
      "34.0%: 0.189811 --- time estimate: 11.5 min\n",
      "35.0%: 0.18923 --- time estimate: 11.3 min\n",
      "36.0%: 0.182297 --- time estimate: 11.1 min\n",
      "37.0%: 0.220776 --- time estimate: 11.0 min\n",
      "38.0%: 0.213405 --- time estimate: 10.8 min\n",
      "39.0%: 0.177337 --- time estimate: 10.6 min\n",
      "40.0%: 0.173292 --- time estimate: 10.5 min\n",
      "41.0%: 0.155216 --- time estimate: 10.3 min\n",
      "42.0%: 0.161134 --- time estimate: 10.2 min\n",
      "43.0%: 0.151145 --- time estimate: 10.0 min\n",
      "44.0%: 0.182712 --- time estimate: 9.8 min\n",
      "45.0%: 0.180986 --- time estimate: 9.6 min\n",
      "46.0%: 0.207024 --- time estimate: 9.5 min\n",
      "47.0%: 0.154561 --- time estimate: 9.3 min\n",
      "48.0%: 0.166283 --- time estimate: 9.1 min\n",
      "49.0%: 0.163563 --- time estimate: 8.9 min\n",
      "50.0%: 0.148842 --- time estimate: 8.8 min\n",
      "51.0%: 0.161367 --- time estimate: 8.6 min\n",
      "52.0%: 0.138212 --- time estimate: 8.4 min\n",
      "53.0%: 0.155561 --- time estimate: 8.2 min\n",
      "54.0%: 0.149255 --- time estimate: 8.1 min\n",
      "55.0%: 0.150294 --- time estimate: 7.9 min\n",
      "56.0%: 0.142722 --- time estimate: 7.8 min\n",
      "57.0%: 0.131733 --- time estimate: 7.6 min\n",
      "58.0%: 0.17474 --- time estimate: 7.4 min\n",
      "59.0%: 0.159253 --- time estimate: 7.3 min\n",
      "60.0%: 0.135538 --- time estimate: 7.1 min\n",
      "61.0%: 0.140695 --- time estimate: 6.9 min\n",
      "62.0%: 0.131217 --- time estimate: 6.7 min\n",
      "63.0%: 0.1241 --- time estimate: 6.5 min\n",
      "64.0%: 0.150256 --- time estimate: 6.4 min\n",
      "65.0%: 0.132654 --- time estimate: 6.2 min\n",
      "66.0%: 0.126992 --- time estimate: 6.0 min\n",
      "67.0%: 0.144212 --- time estimate: 5.8 min\n",
      "68.0%: 0.138901 --- time estimate: 5.7 min\n",
      "69.0%: 0.142133 --- time estimate: 5.5 min\n",
      "70.0%: 0.133323 --- time estimate: 5.4 min\n",
      "71.0%: 0.162275 --- time estimate: 5.2 min\n",
      "72.0%: 0.123605 --- time estimate: 5.0 min\n",
      "73.0%: 0.12972 --- time estimate: 4.9 min\n",
      "74.0%: 0.149661 --- time estimate: 4.7 min\n",
      "75.0%: 0.134793 --- time estimate: 4.5 min\n",
      "76.0%: 0.138628 --- time estimate: 4.3 min\n",
      "77.0%: 0.118161 --- time estimate: 4.2 min\n",
      "78.0%: 0.123339 --- time estimate: 4.0 min\n",
      "79.0%: 0.149804 --- time estimate: 3.8 min\n",
      "80.0%: 0.121805 --- time estimate: 3.6 min\n",
      "81.0%: 0.116306 --- time estimate: 3.4 min\n",
      "82.0%: 0.118812 --- time estimate: 3.3 min\n",
      "83.0%: 0.127508 --- time estimate: 3.1 min\n",
      "84.0%: 0.124887 --- time estimate: 2.9 min\n",
      "85.0%: 0.126585 --- time estimate: 2.7 min\n",
      "86.0%: 0.126707 --- time estimate: 2.5 min\n",
      "87.0%: 0.11612 --- time estimate: 2.4 min\n",
      "88.0%: 0.129195 --- time estimate: 2.2 min\n",
      "89.0%: 0.129252 --- time estimate: 2.0 min\n",
      "90.0%: 0.137217 --- time estimate: 1.8 min\n",
      "91.0%: 0.132719 --- time estimate: 1.6 min\n",
      "92.0%: 0.116886 --- time estimate: 1.4 min\n",
      "93.0%: 0.124409 --- time estimate: 1.3 min\n",
      "94.0%: 0.138946 --- time estimate: 1.1 min\n",
      "95.0%: 0.125542 --- time estimate: 0.9 min\n",
      "96.0%: 0.13012 --- time estimate: 0.7 min\n",
      "97.0%: 0.132555 --- time estimate: 0.5 min\n",
      "98.0%: 0.120946 --- time estimate: 0.4 min\n",
      "99.0%: 0.122306 --- time estimate: 0.2 min\n"
     ]
    },
    {
     "data": {
      "image/png": "[encoded data removed]",
      "text/plain": [
       "<Figure size 432x288 with 1 Axes>"
      ]
     },
     "metadata": {},
     "output_type": "display_data"
    },
    {
     "data": {
      "image/png": "[encoded data removed]",
      "text/plain": [
       "<Figure size 432x288 with 1 Axes>"
      ]
     },
     "metadata": {},
     "output_type": "display_data"
    }
   ],
   "source": [
    "deep_pot, optim = train(deep_pot, optim, X_data, Y_data, 1000, 512, (0.001, 0.96, 1.5), use_for_train=0.9, print_every=10)"
   ]
  },
  {
   "cell_type": "code",
   "execution_count": null,
   "metadata": {
    "collapsed": true
   },
   "outputs": [],
   "source": []
  }
 ],
 "metadata": {
  "kernelspec": {
   "display_name": "Python (fproj)",
   "language": "python",
   "name": "fproj"
  },
  "language_info": {
   "codemirror_mode": {
    "name": "ipython",
    "version": 3
   },
   "file_extension": ".py",
   "mimetype": "text/x-python",
   "name": "python",
   "nbconvert_exporter": "python",
   "pygments_lexer": "ipython3",
   "version": "3.6.3"
  }
 },
 "nbformat": 4,
 "nbformat_minor": 2
}
