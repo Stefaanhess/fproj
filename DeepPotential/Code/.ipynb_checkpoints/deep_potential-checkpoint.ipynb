{
 "cells": [
  {
   "cell_type": "markdown",
   "metadata": {},
   "source": [
    "# Imports,  Settings and Paths"
   ]
  },
  {
   "cell_type": "code",
   "execution_count": 1,
   "metadata": {
    "collapsed": true
   },
   "outputs": [],
   "source": [
    "import numpy as np\n",
    "from matplotlib import pyplot as plt\n",
    "import pandas as pd\n",
    "%matplotlib inline\n",
    "import torch\n",
    "from torch.autograd import Variable\n",
    "import torch.nn as nn\n",
    "import torch.nn.functional as F\n",
    "import time"
   ]
  },
  {
   "cell_type": "code",
   "execution_count": 2,
   "metadata": {
    "collapsed": true
   },
   "outputs": [],
   "source": [
    "from DeepPotentialModel import SubNetwork, DeepPotential, train"
   ]
  },
  {
   "cell_type": "code",
   "execution_count": 3,
   "metadata": {
    "collapsed": true
   },
   "outputs": [],
   "source": [
    "data_path = '../Dataset/network_inputs.npy'\n",
    "label_path = '../Dataset/network_labels.npy'"
   ]
  },
  {
   "cell_type": "markdown",
   "metadata": {},
   "source": [
    "# Read the Data"
   ]
  },
  {
   "cell_type": "code",
   "execution_count": 4,
   "metadata": {
    "collapsed": true
   },
   "outputs": [],
   "source": [
    "X_train_npy = np.load(data_path)\n",
    "Y_train_npy = np.load(label_path) * -1\n",
    "#X_train_npy = X_train_npy.reshape(X_train_npy.shape[0]//19, 19, X_train_npy.shape[1])"
   ]
  },
  {
   "cell_type": "code",
   "execution_count": 5,
   "metadata": {},
   "outputs": [
    {
     "data": {
      "text/plain": [
       "(100000, 19, 72)"
      ]
     },
     "execution_count": 5,
     "metadata": {},
     "output_type": "execute_result"
    }
   ],
   "source": [
    "X_train_npy.shape"
   ]
  },
  {
   "cell_type": "code",
   "execution_count": 6,
   "metadata": {},
   "outputs": [
    {
     "data": {
      "text/plain": [
       "array([[[ 0.98428251, -0.43573534,  0.89678201, ...,  0.54631672,\n",
       "          0.94735855,  0.3201746 ],\n",
       "        [ 0.25743376, -0.47514891,  0.96245338, ...,  0.86870339,\n",
       "          0.68942316, -0.72435882],\n",
       "        [ 0.40851593, -0.95220471,  0.78530783, ...,  0.84405572,\n",
       "          0.7298331 , -0.68362538],\n",
       "        ..., \n",
       "        [ 0.64920273, -0.97724382, -0.23175926, ...,  0.69398684,\n",
       "         -0.79177114,  0.61081786],\n",
       "        [ 0.29801453, -0.61337625,  0.9858909 , ...,  0.79760327,\n",
       "         -0.51331737, -0.85819886],\n",
       "        [ 0.31411019, -0.64647249,  0.99529744, ...,  0.62066757,\n",
       "          0.95473082,  0.29747111]],\n",
       "\n",
       "       [[ 0.21848204, -0.5609247 ,  0.97333811, ...,  0.39208275,\n",
       "          0.9582126 ,  0.28605702],\n",
       "        [ 0.244668  , -0.4142121 ,  0.97578724, ...,  0.89504158,\n",
       "          0.62884931, -0.7775272 ],\n",
       "        [ 0.37931909, -0.8948808 ,  0.97095955, ...,  0.89801404,\n",
       "          0.66296726, -0.74864839],\n",
       "        ..., \n",
       "        [ 0.29759032, -0.98564471,  0.96214343, ...,  0.44313836,\n",
       "          0.64566645, -0.76361956],\n",
       "        [ 0.34315498, -0.75641314,  0.91749344, ...,  0.80377169,\n",
       "          0.9918207 ,  0.1276389 ],\n",
       "        [ 0.3906424 , -0.76689647,  0.93897591, ...,  0.77821725,\n",
       "          0.99495576, -0.10031465]],\n",
       "\n",
       "       [[ 0.96011169, -0.59193574,  0.99754336, ...,  0.48625983,\n",
       "          0.95348613, -0.30143688],\n",
       "        [ 0.4384082 , -0.46511501,  0.18243362, ...,  0.89870016,\n",
       "          0.60890026, -0.79324679],\n",
       "        [ 0.39528448, -0.95048657,  0.97784818, ...,  0.8452661 ,\n",
       "          0.71620515, -0.69788981],\n",
       "        ..., \n",
       "        [ 0.37208589, -0.5316632 ,  0.65733909, ...,  0.97825769,\n",
       "          0.50248533, -0.86458573],\n",
       "        [ 0.33687197, -0.78236453,  0.94067863, ...,  0.66947506,\n",
       "          0.88962443,  0.45669287],\n",
       "        [ 0.33978511, -0.72393955,  0.99503816, ...,  0.82417437,\n",
       "          0.90994683, -0.41472493]],\n",
       "\n",
       "       ..., \n",
       "       [[ 0.31571368, -0.71769007,  0.91346605, ...,  0.36689946,\n",
       "          0.89332766, -0.44940593],\n",
       "        [ 0.59911852, -0.87950964,  0.60028222, ...,  0.48562244,\n",
       "          0.64232994, -0.76642824],\n",
       "        [ 0.59911852, -0.87235025,  0.64502691, ...,  0.91706607,\n",
       "          0.35412108, -0.93519958],\n",
       "        ..., \n",
       "        [ 0.30233982, -0.97856893,  0.37735295, ...,  0.6794754 ,\n",
       "          0.99981379, -0.01929712],\n",
       "        [ 0.33829573, -0.67933896,  0.83915254, ...,  0.71853861,\n",
       "          0.99504022,  0.09947345],\n",
       "        [ 0.31141851, -0.69312623,  0.97725046, ...,  0.49026972,\n",
       "          0.86408006,  0.5033544 ]],\n",
       "\n",
       "       [[ 0.99705354, -0.68719451,  0.99401958, ...,  0.64419439,\n",
       "          0.89435215,  0.44736364],\n",
       "        [ 0.25430063, -0.44015378,  0.98629871, ...,  0.88075254,\n",
       "          0.81446365, -0.58021459],\n",
       "        [ 0.56731835, -0.87749691,  0.88506847, ...,  0.90705061,\n",
       "          0.60117897, -0.79911441],\n",
       "        ..., \n",
       "        [ 0.91872058, -0.78784428, -0.8057657 , ...,  0.97330264,\n",
       "         -0.49600556, -0.86831935],\n",
       "        [ 0.316828  , -0.78528102,  0.95596858, ...,  0.69092643,\n",
       "          0.9670647 ,  0.25453068],\n",
       "        [ 0.27106109, -0.72522429,  0.99988174, ...,  0.93983003,\n",
       "         -0.87553207,  0.48316001]],\n",
       "\n",
       "       [[ 0.23201689, -0.43432406,  0.99239136, ...,  0.60440061,\n",
       "          0.9968865 ,  0.07884986],\n",
       "        [ 0.44235301, -0.47124206,  0.24260004, ...,  0.84995134,\n",
       "          0.82615704, -0.56343992],\n",
       "        [ 0.35084228, -0.9570106 ,  0.9801314 , ...,  0.87519461,\n",
       "          0.81712277, -0.57646368],\n",
       "        ..., \n",
       "        [ 0.89821459, -0.46673943, -0.80865664, ...,  0.99371319,\n",
       "         -0.44937128, -0.89334509],\n",
       "        [ 0.37160738, -0.78381964,  0.98914314, ...,  0.80443938,\n",
       "          0.99946293, -0.03276975],\n",
       "        [ 0.26301221, -0.56165566,  0.99021105, ...,  0.61385132,\n",
       "          0.93792579,  0.346836  ]]])"
      ]
     },
     "execution_count": 6,
     "metadata": {},
     "output_type": "execute_result"
    }
   ],
   "source": [
    "X_train_npy[:10]"
   ]
  },
  {
   "cell_type": "code",
   "execution_count": 7,
   "metadata": {
    "collapsed": true
   },
   "outputs": [],
   "source": [
    "use_ids = np.where(np.isnan(X_train_npy).sum(axis=2).sum(axis=1)==0)"
   ]
  },
  {
   "cell_type": "code",
   "execution_count": 8,
   "metadata": {},
   "outputs": [
    {
     "data": {
      "text/plain": [
       "(array([    0,     1,     2, ..., 99997, 99998, 99999]),)"
      ]
     },
     "execution_count": 8,
     "metadata": {},
     "output_type": "execute_result"
    }
   ],
   "source": [
    "use_ids"
   ]
  },
  {
   "cell_type": "code",
   "execution_count": 9,
   "metadata": {
    "collapsed": true
   },
   "outputs": [],
   "source": [
    "X_train_npy = X_train_npy[use_ids]\n",
    "Y_train_npy = Y_train_npy[use_ids]"
   ]
  },
  {
   "cell_type": "code",
   "execution_count": 10,
   "metadata": {},
   "outputs": [
    {
     "data": {
      "text/plain": [
       "(100000, 19, 72)"
      ]
     },
     "execution_count": 10,
     "metadata": {},
     "output_type": "execute_result"
    }
   ],
   "source": [
    "X_train_npy.shape"
   ]
  },
  {
   "cell_type": "code",
   "execution_count": 11,
   "metadata": {},
   "outputs": [
    {
     "name": "stdout",
     "output_type": "stream",
     "text": [
      "[26028 89242 86003 48846 85495 75581 17021 84847 72536 64287]\n"
     ]
    }
   ],
   "source": [
    "shuffle = np.arange(X_train_npy.shape[0])\n",
    "np.random.shuffle(shuffle)\n",
    "print(shuffle[:10])\n",
    "X_train_npy = X_train_npy[shuffle]\n",
    "Y_train_npy = Y_train_npy[shuffle]"
   ]
  },
  {
   "cell_type": "markdown",
   "metadata": {},
   "source": [
    "# Train Model"
   ]
  },
  {
   "cell_type": "markdown",
   "metadata": {},
   "source": [
    "## Try to learn random Data\n"
   ]
  },
  {
   "cell_type": "code",
   "execution_count": 12,
   "metadata": {},
   "outputs": [
    {
     "data": {
      "text/plain": [
       "\"batchsize = 20\\nsub_dim = 18*4\\natoms = 4\\nX_train = Variable(torch.randn(batchsize, atoms, sub_dim))\\nY_train = Variable(torch.randn(batchsize, 1), requires_grad=False)\\n\\ndeepPot = DeepPotential()\\nloss_fn = nn.MSELoss()\\noptim = torch.optim.Adam(deepPot.parameters(), lr=1e-4)\\n\\nfor step in range(10000):\\n    Y_pred = deepPot.forward(X_train)\\n    loss = loss_fn(Y_pred, Y_train)\\n    \\n    print('{}: {}'.format(step, loss.data[0]))\\n    \\n    optim.zero_grad()\\n    loss.backward()\\n    optim.step()\\n\""
      ]
     },
     "execution_count": 12,
     "metadata": {},
     "output_type": "execute_result"
    }
   ],
   "source": [
    "\"\"\"batchsize = 20\n",
    "sub_dim = 18*4\n",
    "atoms = 4\n",
    "X_train = Variable(torch.randn(batchsize, atoms, sub_dim))\n",
    "Y_train = Variable(torch.randn(batchsize, 1), requires_grad=False)\n",
    "\n",
    "deepPot = DeepPotential()\n",
    "loss_fn = nn.MSELoss()\n",
    "optim = torch.optim.Adam(deepPot.parameters(), lr=1e-4)\n",
    "\n",
    "for step in range(10000):\n",
    "    Y_pred = deepPot.forward(X_train)\n",
    "    loss = loss_fn(Y_pred, Y_train)\n",
    "    \n",
    "    print('{}: {}'.format(step, loss.data[0]))\n",
    "    \n",
    "    optim.zero_grad()\n",
    "    loss.backward()\n",
    "    optim.step()\n",
    "\"\"\""
   ]
  },
  {
   "cell_type": "markdown",
   "metadata": {},
   "source": [
    "## Try on Real Data"
   ]
  },
  {
   "cell_type": "code",
   "execution_count": 13,
   "metadata": {},
   "outputs": [],
   "source": [
    "X_data = Variable(torch.Tensor(X_train_npy))\n",
    "Y_data = Variable(torch.Tensor(Y_train_npy), requires_grad=False) - 11500"
   ]
  },
  {
   "cell_type": "code",
   "execution_count": 14,
   "metadata": {},
   "outputs": [
    {
     "name": "stdout",
     "output_type": "stream",
     "text": [
      "1.2%: 6.933081 --- time estimate: 5.3 min\n",
      "2.5%: 1.959732 --- time estimate: 5.0 min\n",
      "3.8%: 1.108756 --- time estimate: 4.8 min\n",
      "5.0%: 0.755132 --- time estimate: 4.7 min\n",
      "6.2%: 0.618971 --- time estimate: 4.7 min\n",
      "7.5%: 0.668805 --- time estimate: 4.6 min\n",
      "8.8%: 0.71077 --- time estimate: 4.5 min\n",
      "10.0%: 0.698757 --- time estimate: 4.4 min\n",
      "11.2%: 0.729521 --- time estimate: 4.4 min\n",
      "12.5%: 0.674376 --- time estimate: 4.3 min\n",
      "13.8%: 0.584148 --- time estimate: 4.2 min\n",
      "15.0%: 0.734056 --- time estimate: 4.2 min\n",
      "16.2%: 0.688994 --- time estimate: 4.1 min\n",
      "17.5%: 0.65507 --- time estimate: 4.1 min\n",
      "18.8%: 0.60463 --- time estimate: 4.0 min\n",
      "20.0%: 0.545799 --- time estimate: 3.9 min\n",
      "21.2%: 0.491714 --- time estimate: 3.9 min\n",
      "22.5%: 0.496537 --- time estimate: 3.8 min\n",
      "23.8%: 0.424057 --- time estimate: 3.7 min\n",
      "25.0%: 0.359628 --- time estimate: 3.7 min\n",
      "26.2%: 0.333602 --- time estimate: 3.6 min\n",
      "27.5%: 0.302529 --- time estimate: 3.6 min\n",
      "28.7%: 0.347434 --- time estimate: 3.5 min\n",
      "30.0%: 0.321956 --- time estimate: 3.4 min\n",
      "31.2%: 0.314024 --- time estimate: 3.4 min\n",
      "32.5%: 0.257181 --- time estimate: 3.3 min\n",
      "33.8%: 0.298988 --- time estimate: 3.3 min\n",
      "35.0%: 0.29357 --- time estimate: 3.2 min\n",
      "36.2%: 0.341968 --- time estimate: 3.1 min\n",
      "37.5%: 0.291701 --- time estimate: 3.1 min\n",
      "38.8%: 0.245134 --- time estimate: 3.0 min\n",
      "40.0%: 0.217509 --- time estimate: 2.9 min\n",
      "41.2%: 0.28571 --- time estimate: 2.9 min\n",
      "42.5%: 0.308613 --- time estimate: 2.8 min\n",
      "43.8%: 0.23548 --- time estimate: 2.8 min\n",
      "45.0%: 0.252822 --- time estimate: 2.7 min\n",
      "46.2%: 0.304088 --- time estimate: 2.6 min\n",
      "47.5%: 0.30499 --- time estimate: 2.6 min\n",
      "48.8%: 0.302509 --- time estimate: 2.5 min\n",
      "50.0%: 0.239442 --- time estimate: 2.5 min\n",
      "51.2%: 0.217427 --- time estimate: 2.4 min\n",
      "52.5%: 0.255149 --- time estimate: 2.3 min\n",
      "53.8%: 0.329683 --- time estimate: 2.3 min\n",
      "55.0%: 0.252031 --- time estimate: 2.2 min\n",
      "56.2%: 0.292418 --- time estimate: 2.1 min\n",
      "57.5%: 0.272517 --- time estimate: 2.1 min\n",
      "58.8%: 0.284405 --- time estimate: 2.0 min\n",
      "60.0%: 0.252845 --- time estimate: 2.0 min\n",
      "61.3%: 0.179283 --- time estimate: 1.9 min\n",
      "62.5%: 0.223485 --- time estimate: 1.8 min\n",
      "63.7%: 0.321988 --- time estimate: 1.8 min\n",
      "65.0%: 0.290688 --- time estimate: 1.7 min\n",
      "66.2%: 0.309303 --- time estimate: 1.7 min\n",
      "67.5%: 0.201125 --- time estimate: 1.6 min\n",
      "68.8%: 0.201908 --- time estimate: 1.5 min\n",
      "70.0%: 0.225807 --- time estimate: 1.5 min\n",
      "71.2%: 0.236778 --- time estimate: 1.4 min\n",
      "72.5%: 0.259811 --- time estimate: 1.3 min\n",
      "73.8%: 0.264787 --- time estimate: 1.3 min\n",
      "75.0%: 0.288004 --- time estimate: 1.2 min\n",
      "76.2%: 0.246546 --- time estimate: 1.2 min\n",
      "77.5%: 0.211262 --- time estimate: 1.1 min\n",
      "78.8%: 0.212871 --- time estimate: 1.0 min\n",
      "80.0%: 0.250822 --- time estimate: 1.0 min\n",
      "81.2%: 0.245878 --- time estimate: 0.9 min\n",
      "82.5%: 0.254044 --- time estimate: 0.9 min\n",
      "83.8%: 0.226665 --- time estimate: 0.8 min\n",
      "85.0%: 0.338303 --- time estimate: 0.7 min\n",
      "86.2%: 0.190162 --- time estimate: 0.7 min\n",
      "87.5%: 0.235556 --- time estimate: 0.6 min\n",
      "88.8%: 0.220277 --- time estimate: 0.6 min\n",
      "90.0%: 0.188611 --- time estimate: 0.5 min\n",
      "91.2%: 0.263703 --- time estimate: 0.4 min\n",
      "92.5%: 0.287904 --- time estimate: 0.4 min\n",
      "93.8%: 0.174247 --- time estimate: 0.3 min\n",
      "95.0%: 0.150867 --- time estimate: 0.2 min\n",
      "96.2%: 0.342284 --- time estimate: 0.2 min\n",
      "97.5%: 0.2244 --- time estimate: 0.1 min\n",
      "98.8%: 0.18655 --- time estimate: 0.1 min\n"
     ]
    },
    {
     "data": {
      "image/png": "[encoded data removed]",
      "text/plain": [
       "<Figure size 432x288 with 1 Axes>"
      ]
     },
     "metadata": {},
     "output_type": "display_data"
    },
    {
     "data": {
      "image/png": "[encoded data removed]",
      "text/plain": [
       "<Figure size 432x288 with 1 Axes>"
      ]
     },
     "metadata": {},
     "output_type": "display_data"
    }
   ],
   "source": [
    "deep_pot = DeepPotential()\n",
    "optim = torch.optim.Adam(deep_pot.parameters(), lr=1e-2)\n",
    "test_deep, optim_deep = train(deep_pot, optim, X_data, Y_data, 800, 128, (0.1, 0.98, 1.5), print_every=10)"
   ]
  },
  {
   "cell_type": "code",
   "execution_count": 18,
   "metadata": {},
   "outputs": [
    {
     "data": {
      "text/plain": [
       "0.2897577"
      ]
     },
     "execution_count": 18,
     "metadata": {},
     "output_type": "execute_result"
    }
   ],
   "source": [
    "np.abs(deep_pot.forward(X_data[-500:]).data.numpy().reshape(500) - Y_data[-500:].data.numpy().reshape(500)).mean()"
   ]
  },
  {
   "cell_type": "code",
   "execution_count": 20,
   "metadata": {},
   "outputs": [
    {
     "data": {
      "text/plain": [
       "Variable containing:\n",
       " 3.2249\n",
       " 3.3548\n",
       " 4.5668\n",
       " 3.9102\n",
       " 4.6868\n",
       " 2.8623\n",
       " 2.6490\n",
       " 4.3969\n",
       " 4.7651\n",
       " 4.1259\n",
       "[torch.FloatTensor of size 10x1]"
      ]
     },
     "execution_count": 20,
     "metadata": {},
     "output_type": "execute_result"
    }
   ],
   "source": [
    "deep_pot.forward(X_data[-10:])"
   ]
  },
  {
   "cell_type": "code",
   "execution_count": 22,
   "metadata": {},
   "outputs": [
    {
     "data": {
      "text/plain": [
       "Variable containing:\n",
       " 3.5186\n",
       " 3.3047\n",
       " 4.0225\n",
       " 4.0488\n",
       " 4.2432\n",
       " 3.3682\n",
       " 2.6348\n",
       " 4.0361\n",
       " 4.9121\n",
       " 3.6816\n",
       "[torch.FloatTensor of size 10]"
      ]
     },
     "execution_count": 22,
     "metadata": {},
     "output_type": "execute_result"
    }
   ],
   "source": [
    "Y_data[-10:]"
   ]
  },
  {
   "cell_type": "code",
   "execution_count": 17,
   "metadata": {},
   "outputs": [
    {
     "name": "stdout",
     "output_type": "stream",
     "text": [
      "1.0%: 0.157585 --- time estimate: 6.8 min\n",
      "2.0%: 0.153385 --- time estimate: 6.6 min\n",
      "3.0%: 0.114213 --- time estimate: 6.5 min\n",
      "4.0%: 0.135551 --- time estimate: 6.4 min\n",
      "5.0%: 0.141831 --- time estimate: 6.3 min\n",
      "6.0%: 0.166112 --- time estimate: 6.2 min\n",
      "7.0%: 0.150155 --- time estimate: 6.1 min\n",
      "8.0%: 0.144616 --- time estimate: 6.0 min\n",
      "9.0%: 0.127441 --- time estimate: 5.9 min\n",
      "10.0%: 0.223941 --- time estimate: 5.8 min\n",
      "11.0%: 0.149378 --- time estimate: 5.8 min\n",
      "12.0%: 0.184424 --- time estimate: 5.7 min\n",
      "13.0%: 0.156317 --- time estimate: 5.6 min\n",
      "14.0%: 0.161891 --- time estimate: 5.5 min\n",
      "15.0%: 0.158851 --- time estimate: 5.5 min\n",
      "16.0%: 0.13376 --- time estimate: 5.4 min\n",
      "17.0%: 0.149858 --- time estimate: 5.4 min\n",
      "18.0%: 0.134363 --- time estimate: 5.3 min\n",
      "19.0%: 0.155022 --- time estimate: 5.2 min\n",
      "20.0%: 0.154878 --- time estimate: 5.2 min\n",
      "21.0%: 0.168661 --- time estimate: 5.1 min\n",
      "22.0%: 0.140469 --- time estimate: 5.0 min\n",
      "23.0%: 0.143598 --- time estimate: 5.0 min\n",
      "24.0%: 0.164838 --- time estimate: 4.9 min\n",
      "25.0%: 0.137399 --- time estimate: 4.9 min\n",
      "26.0%: 0.15393 --- time estimate: 4.8 min\n",
      "27.0%: 0.146589 --- time estimate: 4.7 min\n",
      "28.0%: 0.165623 --- time estimate: 4.7 min\n",
      "29.0%: 0.142587 --- time estimate: 4.6 min\n",
      "30.0%: 0.12857 --- time estimate: 4.5 min\n",
      "31.0%: 0.116881 --- time estimate: 4.5 min\n",
      "32.0%: 0.146446 --- time estimate: 4.4 min\n",
      "33.0%: 0.127745 --- time estimate: 4.3 min\n",
      "34.0%: 0.123832 --- time estimate: 4.3 min\n",
      "35.0%: 0.150374 --- time estimate: 4.2 min\n",
      "36.0%: 0.143038 --- time estimate: 4.1 min\n",
      "37.0%: 0.142166 --- time estimate: 4.1 min\n",
      "38.0%: 0.157193 --- time estimate: 4.0 min\n",
      "39.0%: 0.160322 --- time estimate: 3.9 min\n",
      "40.0%: 0.202289 --- time estimate: 3.9 min\n",
      "41.0%: 0.120268 --- time estimate: 3.8 min\n",
      "42.0%: 0.153504 --- time estimate: 3.8 min\n",
      "43.0%: 0.158515 --- time estimate: 3.7 min\n",
      "44.0%: 0.162561 --- time estimate: 3.6 min\n",
      "45.0%: 0.148941 --- time estimate: 3.6 min\n",
      "46.0%: 0.141353 --- time estimate: 3.5 min\n",
      "47.0%: 0.133427 --- time estimate: 3.5 min\n",
      "48.0%: 0.152396 --- time estimate: 3.4 min\n",
      "49.0%: 0.119798 --- time estimate: 3.4 min\n",
      "50.0%: 0.127983 --- time estimate: 3.3 min\n",
      "51.0%: 0.13115 --- time estimate: 3.2 min\n",
      "52.0%: 0.142384 --- time estimate: 3.2 min\n",
      "53.0%: 0.141913 --- time estimate: 3.1 min\n",
      "54.0%: 0.18065 --- time estimate: 3.0 min\n",
      "55.0%: 0.1 --- time estimate: 3.0 min\n",
      "56.0%: 0.153447 --- time estimate: 2.9 min\n",
      "57.0%: 0.179649 --- time estimate: 2.8 min\n",
      "58.0%: 0.115517 --- time estimate: 2.8 min\n",
      "59.0%: 0.156234 --- time estimate: 2.7 min\n",
      "60.0%: 0.14737 --- time estimate: 2.6 min\n",
      "61.0%: 0.105244 --- time estimate: 2.6 min\n",
      "62.0%: 0.139663 --- time estimate: 2.5 min\n",
      "63.0%: 0.174088 --- time estimate: 2.4 min\n",
      "64.0%: 0.13611 --- time estimate: 2.4 min\n",
      "65.0%: 0.13799 --- time estimate: 2.3 min\n",
      "66.0%: 0.174295 --- time estimate: 2.2 min\n",
      "67.0%: 0.145588 --- time estimate: 2.2 min\n",
      "68.0%: 0.194438 --- time estimate: 2.1 min\n",
      "69.0%: 0.181785 --- time estimate: 2.0 min\n",
      "70.0%: 0.170395 --- time estimate: 2.0 min\n",
      "71.0%: 0.13252 --- time estimate: 1.9 min\n",
      "72.0%: 0.139673 --- time estimate: 1.8 min\n",
      "73.0%: 0.137473 --- time estimate: 1.8 min\n",
      "74.0%: 0.128437 --- time estimate: 1.7 min\n",
      "75.0%: 0.150486 --- time estimate: 1.6 min\n",
      "76.0%: 0.096697 --- time estimate: 1.6 min\n",
      "77.0%: 0.122826 --- time estimate: 1.5 min\n",
      "78.0%: 0.16005 --- time estimate: 1.4 min\n",
      "79.0%: 0.123399 --- time estimate: 1.4 min\n",
      "80.0%: 0.134716 --- time estimate: 1.3 min\n",
      "81.0%: 0.13931 --- time estimate: 1.2 min\n",
      "82.0%: 0.131915 --- time estimate: 1.2 min\n",
      "83.0%: 0.158063 --- time estimate: 1.1 min\n",
      "84.0%: 0.168785 --- time estimate: 1.0 min\n",
      "85.0%: 0.141478 --- time estimate: 1.0 min\n",
      "86.0%: 0.139084 --- time estimate: 0.9 min\n",
      "87.0%: 0.161543 --- time estimate: 0.8 min\n",
      "88.0%: 0.1367 --- time estimate: 0.8 min\n",
      "89.0%: 0.138405 --- time estimate: 0.7 min\n",
      "90.0%: 0.124035 --- time estimate: 0.7 min\n",
      "91.0%: 0.140934 --- time estimate: 0.6 min\n",
      "92.0%: 0.120411 --- time estimate: 0.5 min\n",
      "93.0%: 0.143032 --- time estimate: 0.5 min\n",
      "94.0%: 0.100818 --- time estimate: 0.4 min\n",
      "95.0%: 0.129783 --- time estimate: 0.3 min\n",
      "96.0%: 0.117743 --- time estimate: 0.3 min\n",
      "97.0%: 0.162496 --- time estimate: 0.2 min\n",
      "98.0%: 0.134188 --- time estimate: 0.1 min\n",
      "99.0%: 0.175529 --- time estimate: 0.1 min\n"
     ]
    },
    {
     "data": {
      "image/png": "[encoded data removed]",
      "text/plain": [
       "<Figure size 432x288 with 1 Axes>"
      ]
     },
     "metadata": {},
     "output_type": "display_data"
    },
    {
     "data": {
      "image/png": "[encoded data removed]",
      "text/plain": [
       "<Figure size 432x288 with 1 Axes>"
      ]
     },
     "metadata": {},
     "output_type": "display_data"
    }
   ],
   "source": [
    "test_deep, optim_deep = train(deep_pot, optim_deep, X_data, Y_data, 1000, 128, (0.005, 0.98, 1.5), use_for_train=0.9, print_every=10)"
   ]
  },
  {
   "cell_type": "code",
   "execution_count": null,
   "metadata": {
    "collapsed": true
   },
   "outputs": [],
   "source": [
    "test_deep2, optim_deep2 = train(deep_pot, optim_deep, X_data, Y_data, 10000, 128, 0.0001, print_every=10)"
   ]
  },
  {
   "cell_type": "code",
   "execution_count": null,
   "metadata": {
    "collapsed": true
   },
   "outputs": [],
   "source": [
    "test_deep2.forward(X[-15:])"
   ]
  },
  {
   "cell_type": "code",
   "execution_count": null,
   "metadata": {
    "collapsed": true
   },
   "outputs": [],
   "source": [
    "Y_data = Y_data - 11500"
   ]
  },
  {
   "cell_type": "code",
   "execution_count": null,
   "metadata": {
    "collapsed": true,
    "scrolled": false
   },
   "outputs": [],
   "source": [
    "batchsize = 1\n",
    "\n",
    "X_data = Variable(torch.Tensor(X_train_npy))\n",
    "Y_data = Variable(torch.Tensor(Y_train_npy), requires_grad=False)\n",
    "Y_data = Y_data - Y_data.mean()\n",
    "\n",
    "X_train = X_data[:5000]\n",
    "Y_train = Y_data[:5000]\n",
    "X_test = X_data[5000:]\n",
    "Y_test = Y_data[5000:]\n",
    "\n",
    "deepPot = DeepPotential()\n",
    "loss_fn = nn.MSELoss()\n",
    "optim = torch.optim.Adam(deepPot.parameters(), lr=0.9)\n",
    "\n",
    "steps = []\n",
    "losses = []\n",
    "total_steps = 20000\n",
    "for step in range(total_steps):\n",
    "    if step == 1000:\n",
    "        optim.lr = 1e-3\n",
    "    if step == 10000:\n",
    "        optim.lr = 1e-6\n",
    "        #print(list(deepPot.parameters())[0])\n",
    "    ids = np.random.randint(0, 5000, batchsize).tolist()\n",
    "    Y_pred = deepPot.forward(X_train[ids])\n",
    "    loss = loss_fn(Y_pred, Y_train[ids])\n",
    "    if step % 10 == 0:\n",
    "        print('{}%: {} -- {}'.format(step/total_steps, Y_pred.data[0][0], loss.data[0]))\n",
    "    steps.append(step)\n",
    "    losses.append(loss.data[0])\n",
    "    \n",
    "    optim.zero_grad()\n",
    "    loss.backward()\n",
    "    optim.step()\n",
    "\n",
    "plt.plot(steps, losses)"
   ]
  },
  {
   "cell_type": "markdown",
   "metadata": {},
   "source": [
    "## Test Subnetwork on learning the norm of "
   ]
  },
  {
   "cell_type": "code",
   "execution_count": null,
   "metadata": {
    "collapsed": true
   },
   "outputs": [],
   "source": [
    "X_dummy = np.random.random((1000, 19, 72))\n",
    "Y_dummy = np.linalg.norm(X_dummy, axis=1)\n",
    "Y_dummy -= min(Y_dummy)\n",
    "Y_dummy /= max(Y_dummy)\n",
    "\n",
    "X = Variable(torch.Tensor(X_dummy))\n",
    "Y = Variable(torch.Tensor(Y_dummy), requires_grad=False)\n",
    "\n",
    "sub_model = train(DeepPotential, X, Y, 1000, 10, 1e-4)"
   ]
  },
  {
   "cell_type": "markdown",
   "metadata": {
    "collapsed": true
   },
   "source": [
    "## Test DeepPotential on Sum of 19 Norms of dim 72"
   ]
  },
  {
   "cell_type": "markdown",
   "metadata": {},
   "source": [
    "### Create Data"
   ]
  },
  {
   "cell_type": "code",
   "execution_count": null,
   "metadata": {
    "collapsed": true
   },
   "outputs": [],
   "source": [
    "X_dummy = np.sort(np.random.random((6000, 19, 72)), axis=2)\n",
    "Y_dummy = np.linalg.norm(X_dummy, axis=2).sum(axis=1)\n",
    "#Y_dummy -= min(Y_dummy)\n",
    "#Y_dummy /= max(Y_dummy)\n",
    "\n",
    "X = Variable(torch.Tensor(X_dummy))\n",
    "Y = Variable(torch.Tensor(Y_dummy), requires_grad=False)"
   ]
  },
  {
   "cell_type": "markdown",
   "metadata": {},
   "source": [
    "### Initial"
   ]
  },
  {
   "cell_type": "code",
   "execution_count": null,
   "metadata": {
    "collapsed": true
   },
   "outputs": [],
   "source": [
    "test_deep = DeepPotential()\n",
    "list(test_deep.parameters())"
   ]
  },
  {
   "cell_type": "code",
   "execution_count": null,
   "metadata": {
    "collapsed": true
   },
   "outputs": [],
   "source": [
    "list(test_deep.parameters())"
   ]
  },
  {
   "cell_type": "code",
   "execution_count": null,
   "metadata": {
    "collapsed": true
   },
   "outputs": [],
   "source": [
    "optim = torch.optim.Adam(test_deep.parameters(), lr=1e-2)\n",
    "test_deep, optim_deep = train(test_deep, optim, X, Y, 100, 128, 1, print_every=10)"
   ]
  },
  {
   "cell_type": "code",
   "execution_count": null,
   "metadata": {
    "collapsed": true
   },
   "outputs": [],
   "source": [
    "test_deep, optim_deep = train(test_deep, optim_deep, X, Y, 500, 128, 0.1, print_every=10)"
   ]
  },
  {
   "cell_type": "code",
   "execution_count": null,
   "metadata": {
    "collapsed": true
   },
   "outputs": [],
   "source": [
    "from DeepPotentialModel import SubNetwork, DeepPotential, train"
   ]
  },
  {
   "cell_type": "code",
   "execution_count": null,
   "metadata": {
    "collapsed": true
   },
   "outputs": [],
   "source": [
    "list(test_deep.parameters())"
   ]
  },
  {
   "cell_type": "code",
   "execution_count": null,
   "metadata": {
    "collapsed": true,
    "scrolled": false
   },
   "outputs": [],
   "source": [
    "test_deep.forward(X[-15:])"
   ]
  },
  {
   "cell_type": "code",
   "execution_count": null,
   "metadata": {
    "collapsed": true
   },
   "outputs": [],
   "source": [
    "Y[-15:]"
   ]
  },
  {
   "cell_type": "code",
   "execution_count": null,
   "metadata": {
    "collapsed": true
   },
   "outputs": [],
   "source": [
    "np.round(0.002, 3)"
   ]
  },
  {
   "cell_type": "code",
   "execution_count": null,
   "metadata": {
    "collapsed": true
   },
   "outputs": [],
   "source": [
    "test_deep.forward(X[-30:-10])"
   ]
  },
  {
   "cell_type": "code",
   "execution_count": null,
   "metadata": {
    "collapsed": true
   },
   "outputs": [],
   "source": [
    "Y[-30:-10]"
   ]
  },
  {
   "cell_type": "code",
   "execution_count": null,
   "metadata": {
    "collapsed": true
   },
   "outputs": [],
   "source": [
    "list(test_deep.parameters())"
   ]
  },
  {
   "cell_type": "code",
   "execution_count": null,
   "metadata": {
    "collapsed": true
   },
   "outputs": [],
   "source": [
    "epochs = np.arange(1, 1000)\n",
    "losses = np.arange(1001, 2000)\n",
    "tests = np.arange(1, 1000)\n",
    "\n",
    "f_loss, ax_loss = plt.subplots()\n",
    "ax_loss.semilogy(epochs, losses, label='train')\n",
    "ax_loss.set_title(\"Loss\")\n",
    "ax_loss.semilogy(epochs, tests, label='test')"
   ]
  }
 ],
 "metadata": {
  "kernelspec": {
   "display_name": "Python (fproj)",
   "language": "python",
   "name": "fproj"
  },
  "language_info": {
   "codemirror_mode": {
    "name": "ipython",
    "version": 3
   },
   "file_extension": ".py",
   "mimetype": "text/x-python",
   "name": "python",
   "nbconvert_exporter": "python",
   "pygments_lexer": "ipython3",
   "version": "3.6.3"
  }
 },
 "nbformat": 4,
 "nbformat_minor": 2
}
