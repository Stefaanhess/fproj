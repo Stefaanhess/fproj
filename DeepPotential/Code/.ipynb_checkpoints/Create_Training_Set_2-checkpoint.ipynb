{
 "cells": [
  {
   "cell_type": "markdown",
   "metadata": {},
   "source": [
    "## Imports and Settings"
   ]
  },
  {
   "cell_type": "code",
   "execution_count": 1,
   "metadata": {
    "collapsed": true
   },
   "outputs": [],
   "source": [
    "# -*- coding: utf-8 -*-\n",
    "import pandas as pd\n",
    "import numpy as np\n",
    "import os\n",
    "from scipy.spatial.distance import squareform, cdist\n",
    "import time"
   ]
  },
  {
   "cell_type": "code",
   "execution_count": 2,
   "metadata": {},
   "outputs": [
    {
     "name": "stdout",
     "output_type": "stream",
     "text": [
      "number of files: 6095\n"
     ]
    }
   ],
   "source": [
    "path_to_files = \"./../Dataset/dsC7O2H10nsd.xyz/\"\n",
    "filenames = os.listdir(path_to_files)\n",
    "print('number of files: {}'.format(len(filenames)))"
   ]
  },
  {
   "cell_type": "markdown",
   "metadata": {},
   "source": [
    "## Create a Dataframe from Input files"
   ]
  },
  {
   "cell_type": "code",
   "execution_count": null,
   "metadata": {},
   "outputs": [
    {
     "name": "stderr",
     "output_type": "stream",
     "text": [
      "/Users/stfn/anaconda3/envs/fproj/lib/python3.6/site-packages/ipykernel_launcher.py:8: ParserWarning: Falling back to the 'python' engine because the 'c' engine does not support skipfooter; you can avoid this warning by specifying engine='python'.\n",
      "  \n"
     ]
    },
    {
     "name": "stdout",
     "output_type": "stream",
     "text": [
      "dsC7O2H10nsd_0249.xyz\n",
      "dsC7O2H10nsd_2258.xyz\n",
      "dsC7O2H10nsd_2556.xyz\n"
     ]
    }
   ],
   "source": [
    "list_ = []\n",
    "for file in filenames:\n",
    "    filepath = os.path.join(path_to_files, file)\n",
    "    try:\n",
    "        df_single = pd.read_csv(filepath, skiprows=2,\n",
    "                               skipfooter=3, delimiter='\\t',\n",
    "                               names=['atomtype', 'x', 'y', 'z', 'charge'], \n",
    "                               dtype=dict(atomtype=str, x=float, y=float, z=float, charge=float))\n",
    "    except:\n",
    "        print(file)\n",
    "    df_single['file'] = file\n",
    "    list_.append(df_single)\n",
    "df_all = pd.concat(list_)\n",
    "df_all.head(5)"
   ]
  },
  {
   "cell_type": "markdown",
   "metadata": {},
   "source": [
    "## Prepare raw Data for Transformation"
   ]
  },
  {
   "cell_type": "code",
   "execution_count": null,
   "metadata": {
    "collapsed": true
   },
   "outputs": [],
   "source": [
    "n_atoms = 19\n",
    "# sort by file and atomtype\n",
    "df_all = df_all.sort_values(['file', 'atomtype']).reset_index(drop=True)\n",
    "# create file id column\n",
    "df_all['file_id'] = (df_all.index) // n_atoms + 1"
   ]
  },
  {
   "cell_type": "code",
   "execution_count": null,
   "metadata": {},
   "outputs": [],
   "source": [
    "df_all.head(5)"
   ]
  },
  {
   "cell_type": "markdown",
   "metadata": {},
   "source": [
    "## Transform Dataframe to Numpy Array for faster Calculations"
   ]
  },
  {
   "cell_type": "code",
   "execution_count": null,
   "metadata": {
    "collapsed": true
   },
   "outputs": [],
   "source": [
    "raw_matrix = df_all[['file_id', 'atomtype', 'x', 'y', 'z', 'charge']].values"
   ]
  },
  {
   "cell_type": "markdown",
   "metadata": {},
   "source": [
    "## Transformation Functions"
   ]
  },
  {
   "cell_type": "code",
   "execution_count": null,
   "metadata": {
    "collapsed": true
   },
   "outputs": [],
   "source": [
    "def get_spherical(positions):\n",
    "    \"\"\"\n",
    "    Transform 3D cartesian coordinates to spherical coordinates that can\n",
    "    be used for the nural network input.\n",
    "    \n",
    "    Parameters\n",
    "    ----------\n",
    "    positions : ndarray\n",
    "        Array of shape (N, 3) where N is the number of coordinates that\n",
    "        needs to be transformed.\n",
    "    \n",
    "    Returns\n",
    "    -------\n",
    "    ndarray\n",
    "        Array of shape (N, 4) where N is the number of transformed coordinates.\n",
    "        Transformed coordinates for one position: (1/r, cos(theta), cos(phi), sin(phi)).\n",
    "        \n",
    "    \"\"\"            \n",
    "    positions = positions.astype(float)\n",
    "    r = np.linalg.norm(positions, axis=1)\n",
    "    theta = np.arcsin(positions[:, 2]/r)\n",
    "    phi = np.arctan2(positions[:, 0], positions[:, 1])\n",
    "    return np.append(1/r, np.cos(theta), np.cos(phi), np.sin(phi), axis=0)"
   ]
  },
  {
   "cell_type": "code",
   "execution_count": null,
   "metadata": {
    "collapsed": true
   },
   "outputs": [],
   "source": [
    "def change_base(positions, x, y, z, o):\n",
    "    \"\"\"\n",
    "    Calculate the base transformation from the standard basis to the new axes x, y, z.\n",
    "    \n",
    "    Parameters\n",
    "    ----------\n",
    "    positions : np.array\n",
    "        3D atom position in the standard basis\n",
    "    x : np.array\n",
    "        new x-axis\n",
    "    y : np.array\n",
    "        new y-axis\n",
    "    z : np.array\n",
    "        new z-axis    \n",
    "    o : np.array\n",
    "        new origin\n",
    "    \n",
    "    Returns\n",
    "    -------\n",
    "    new_positions : np.array\n",
    "        3D atom position in the new basis.\n",
    "        Same shape as positions.\n",
    "\n",
    "    \"\"\"\n",
    "    positions -= o\n",
    "    basis = np.vstack((x, y, z))\n",
    "    basis_inv = np.linalg.inv(basis)\n",
    "    new_positions = basis_inv.dot(positions.T).T\n",
    "    return new_positions\n"
   ]
  },
  {
   "cell_type": "code",
   "execution_count": null,
   "metadata": {
    "collapsed": true
   },
   "outputs": [],
   "source": [
    "def get_input_data(raw_matrix):\n",
    "    \"\"\"\n",
    "    Calculate the training input for the sub-networks from a given molecular configuration.\n",
    "\n",
    "    Parameters\n",
    "    ----------\n",
    "    raw_matrix : np.array\n",
    "        Matrix of the raw input data for all files and all atoms\n",
    "    raw_matrix_cols : list\n",
    "        Column names for the raw_matrix\n",
    "    \n",
    "    Returns\n",
    "    -------\n",
    "    X : np.array\n",
    "        Training data with 'atomtype' and 'relative position-vector' for all other atoms.\n",
    "    Y : np.array\n",
    "        Training labels (Mullikan Charge)\n",
    "\n",
    "    \"\"\"\n",
    "    file_id = 0\n",
    "    atomtype = 1\n",
    "    x = 2\n",
    "    y = 3\n",
    "    z = 4\n",
    "    charge = 5\n",
    "    # make a copy\n",
    "    network_inputs = []\n",
    "    # create a column for the pos vector\n",
    "    start = 0\n",
    "    for i in np.unique(raw_matrix[:, 0]):\n",
    "        stop = i*19\n",
    "        molecule = raw_matrix[start:stop]\n",
    "        start = stop\n",
    "        dist_matrix = cdist(molecule[:, 2:5], molecule[:, 2:5])\n",
    "        for atom in range(len(molecule)):\n",
    "            zero = molecule[atom, 2:5].astype(float)\n",
    "            one_id, two_id = dist_matrix[atom].argsort()[1:3]\n",
    "            one = molecule[one_id, 2:5].astype(float)\n",
    "            two = molecule[two_id, 2:5].astype(float)\n",
    "            new_x = one - zero\n",
    "            new_z = np.cross(new_x, two-zero)\n",
    "            new_y = np.cross(new_x, new_z)\n",
    "            new_x /= np.linalg.norm(new_x)\n",
    "            new_y /= np.linalg.norm(new_y)\n",
    "            new_z /= np.linalg.norm(new_z)\n",
    "            transformed_positions = change_base(molecule[:, 2:5],\n",
    "                                        new_x, new_y, new_z,\n",
    "                                        zero)\n",
    "            transformed_positions = np.delete(transformed_positions,\n",
    "                                              (atom), axis=0)\n",
    "            transformed_positions_sph = get_spherical(transformed_positions)\n",
    "            network_inputs.append((molecule[atom, 1], transformed_positions_sph, molecule[atom, 5]))\n",
    "            \n",
    "    return network_inputs"
   ]
  },
  {
   "cell_type": "markdown",
   "metadata": {},
   "source": [
    "## Run Calculations"
   ]
  },
  {
   "cell_type": "code",
   "execution_count": null,
   "metadata": {},
   "outputs": [],
   "source": [
    "start = time.time()\n",
    "network_in = get_input_data(raw_matrix)\n",
    "print('time: {}'.format(time.time()-start))"
   ]
  },
  {
   "cell_type": "code",
   "execution_count": null,
   "metadata": {},
   "outputs": [],
   "source": [
    "network_in"
   ]
  },
  {
   "cell_type": "markdown",
   "metadata": {},
   "source": [
    "## Use Pandas to Save the network inputs to hdf5"
   ]
  },
  {
   "cell_type": "code",
   "execution_count": null,
   "metadata": {
    "collapsed": true
   },
   "outputs": [],
   "source": [
    "df_input = pd.DataFrame(network_in, columns=['atomtype', 'coordinates', 'charge'])\n",
    "df_c = df_input.loc[df_input.atomtype=='C']\n",
    "df_o = df_input.loc[df_input.atomtype=='O']\n",
    "df_h = df_input.loc[df_input.atomtype=='H']"
   ]
  },
  {
   "cell_type": "code",
   "execution_count": null,
   "metadata": {},
   "outputs": [],
   "source": [
    "df_c.to_hdf('../Dataset/network_inputs.h5', 'ctype')\n",
    "df_o.to_hdf('../Dataset/network_inputs.h5', 'otype')\n",
    "df_h.to_hdf('../Dataset/network_inputs.h5', 'htype')"
   ]
  }
 ],
 "metadata": {
  "kernelspec": {
   "display_name": "Python (fproj)",
   "language": "python",
   "name": "fproj"
  },
  "language_info": {
   "codemirror_mode": {
    "name": "ipython",
    "version": 3
   },
   "file_extension": ".py",
   "mimetype": "text/x-python",
   "name": "python",
   "nbconvert_exporter": "python",
   "pygments_lexer": "ipython3",
   "version": "3.6.3"
  }
 },
 "nbformat": 4,
 "nbformat_minor": 2
}
