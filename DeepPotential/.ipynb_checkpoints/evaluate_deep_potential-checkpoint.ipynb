{
 "cells": [
  {
   "cell_type": "code",
   "execution_count": 15,
   "metadata": {},
   "outputs": [],
   "source": [
    "comment = 'bn_all_shuffle_sgd_lrd_095'"
   ]
  },
  {
   "cell_type": "code",
   "execution_count": 16,
   "metadata": {
    "scrolled": true
   },
   "outputs": [],
   "source": [
    "import numpy as np\n",
    "from matplotlib import pyplot as plt\n",
    "import pandas as pd#\n",
    "%matplotlib inline\n",
    "import torch\n",
    "from torch.autograd import Variable\n",
    "import torch.nn as nn\n",
    "import torch.nn.functional as F\n",
    "import time"
   ]
  },
  {
   "cell_type": "code",
   "execution_count": 17,
   "metadata": {},
   "outputs": [],
   "source": [
    "from Code.Models.c7o2h10_model import DeepPotential, train, normalize, backtransform\n",
    "from Code.DataGeneration.saver import create_path"
   ]
  },
  {
   "cell_type": "code",
   "execution_count": 18,
   "metadata": {},
   "outputs": [],
   "source": [
    "data_path = './Dataset/c7o2h10_X.npy'\n",
    "label_path = './Dataset/c7o2h10_Y.npy'\n",
    "train_ids_path = './Dataset/iso17/train_ids.txt'\n",
    "test_ids_path = './Dataset/iso17/validation_ids.txt'\n",
    "model_path = './ModelCheckpoints/c7o2h10/'\n",
    "model_path = './ModelCheckpoints/c7o2h10/{}/'.format(comment)"
   ]
  },
  {
   "cell_type": "code",
   "execution_count": 19,
   "metadata": {},
   "outputs": [
    {
     "name": "stdout",
     "output_type": "stream",
     "text": [
      "use cuda:   True\n"
     ]
    }
   ],
   "source": [
    "use_cuda = torch.cuda.is_available()\n",
    "print('use cuda:  ', use_cuda)"
   ]
  },
  {
   "cell_type": "markdown",
   "metadata": {},
   "source": [
    "# Read the Data"
   ]
  },
  {
   "cell_type": "code",
   "execution_count": 20,
   "metadata": {},
   "outputs": [],
   "source": [
    "train_ids = (np.loadtxt(train_ids_path) - 1).astype(int).tolist()\n",
    "test_ids = (np.loadtxt(test_ids_path) - 1).astype(int).tolist()"
   ]
  },
  {
   "cell_type": "code",
   "execution_count": 21,
   "metadata": {
    "scrolled": true
   },
   "outputs": [
    {
     "data": {
      "text/plain": [
       "(404000, 19, 72)"
      ]
     },
     "execution_count": 21,
     "metadata": {},
     "output_type": "execute_result"
    }
   ],
   "source": [
    "X_npy = np.load(data_path)\n",
    "Y_npy = np.load(label_path) * -1\n",
    "Y_npy, Y_min, Y_max = normalize(Y_npy)\n",
    "X_npy.shape"
   ]
  },
  {
   "cell_type": "markdown",
   "metadata": {},
   "source": [
    "### Split into test and train"
   ]
  },
  {
   "cell_type": "code",
   "execution_count": 22,
   "metadata": {},
   "outputs": [],
   "source": [
    "X_train_npy, X_test_npy = X_npy[train_ids], X_npy[test_ids]\n",
    "Y_train_npy, Y_test_npy = Y_npy[train_ids], Y_npy[test_ids]"
   ]
  },
  {
   "cell_type": "code",
   "execution_count": 23,
   "metadata": {},
   "outputs": [],
   "source": [
    "X_train = Variable(torch.Tensor(X_train_npy))\n",
    "Y_train = Variable(torch.Tensor(Y_train_npy), requires_grad=False)\n",
    "X_test = Variable(torch.Tensor(X_test_npy))\n",
    "Y_test = Variable(torch.Tensor(Y_test_npy), requires_grad=False)"
   ]
  },
  {
   "cell_type": "markdown",
   "metadata": {},
   "source": [
    "## Test Model"
   ]
  },
  {
   "cell_type": "code",
   "execution_count": null,
   "metadata": {},
   "outputs": [
    {
     "name": "stdout",
     "output_type": "stream",
     "text": [
      "0:\ttest scoore:     0.2140\t\ttrain scoore:     0.7710\n",
      "1:\ttest scoore:     0.1939\t\ttrain scoore:     0.8729\n",
      "2:\ttest scoore:     0.1886\t\ttrain scoore:     0.8674\n",
      "3:\ttest scoore:     0.2192\t\ttrain scoore:     1.0210\n",
      "4:\ttest scoore:     0.1717\t\ttrain scoore:     0.8770\n",
      "5:\ttest scoore:     0.1795\t\ttrain scoore:     0.8131\n",
      "6:\ttest scoore:     0.1915\t\ttrain scoore:     0.7173\n",
      "7:\ttest scoore:     0.1641\t\ttrain scoore:     0.8885\n",
      "8:\ttest scoore:     0.1778\t\ttrain scoore:     0.7189\n",
      "9:\ttest scoore:     0.1672\t\ttrain scoore:     0.7577\n",
      "10:\ttest scoore:     0.1536\t\ttrain scoore:     0.7694\n",
      "11:\ttest scoore:     0.1554\t\ttrain scoore:     0.8683\n",
      "12:\ttest scoore:     0.1387\t\ttrain scoore:     0.8488\n",
      "13:\ttest scoore:     0.1436\t\ttrain scoore:     0.8002\n",
      "14:\ttest scoore:     0.1552\t\ttrain scoore:     0.7108\n",
      "15:\ttest scoore:     0.1509\t\ttrain scoore:     0.7484\n",
      "16:\ttest scoore:     0.1333\t\ttrain scoore:     0.8505\n",
      "17:\ttest scoore:     0.1385\t\ttrain scoore:     0.7755\n",
      "18:\ttest scoore:     0.1503\t\ttrain scoore:     0.8878\n",
      "19:\ttest scoore:     0.1303\t\ttrain scoore:     0.7295\n",
      "20:\ttest scoore:     0.1310\t\ttrain scoore:     0.7744\n",
      "21:\ttest scoore:     0.1480\t\ttrain scoore:     0.6852\n",
      "22:\ttest scoore:     0.1388\t\ttrain scoore:     0.7145\n",
      "23:\ttest scoore:     0.1216\t\ttrain scoore:     0.8016\n",
      "24:\ttest scoore:     0.1201\t\ttrain scoore:     0.8092\n",
      "25:\ttest scoore:     0.1195\t\ttrain scoore:     0.8017\n",
      "26:\ttest scoore:     0.1220\t\ttrain scoore:     0.7207\n",
      "27:\ttest scoore:     0.1186\t\ttrain scoore:     0.7271\n",
      "28:\ttest scoore:     0.1176\t\ttrain scoore:     0.7545\n",
      "29:\ttest scoore:     0.1161\t\ttrain scoore:     0.7823\n",
      "30:\ttest scoore:     0.1163\t\ttrain scoore:     0.7465\n",
      "31:\ttest scoore:     0.1453\t\ttrain scoore:     0.6764\n",
      "32:\ttest scoore:     0.1139\t\ttrain scoore:     0.6625\n",
      "33:\ttest scoore:     0.1146\t\ttrain scoore:     0.7244\n",
      "34:\ttest scoore:     0.1149\t\ttrain scoore:     0.7161\n",
      "35:\ttest scoore:     0.1123\t\ttrain scoore:     0.7489\n",
      "36:\ttest scoore:     0.1125\t\ttrain scoore:     0.7206\n",
      "37:\ttest scoore:     0.1255\t\ttrain scoore:     0.8203\n",
      "38:\ttest scoore:     0.1131\t\ttrain scoore:     0.7178\n",
      "39:\ttest scoore:     0.1103\t\ttrain scoore:     0.7890\n",
      "40:\ttest scoore:     0.1102\t\ttrain scoore:     0.7266\n",
      "41:\ttest scoore:     0.1111\t\ttrain scoore:     0.7441\n",
      "42:\ttest scoore:     0.1064\t\ttrain scoore:     0.7868\n",
      "43:\ttest scoore:     0.1088\t\ttrain scoore:     0.7935\n",
      "44:\ttest scoore:     0.1083\t\ttrain scoore:     0.7418\n",
      "45:\ttest scoore:     0.1077\t\ttrain scoore:     0.7444\n",
      "46:\ttest scoore:     0.1080\t\ttrain scoore:     0.7260\n",
      "47:\ttest scoore:     0.1041\t\ttrain scoore:     0.7852\n",
      "48:\ttest scoore:     0.1109\t\ttrain scoore:     0.7047\n",
      "49:\ttest scoore:     0.1047\t\ttrain scoore:     0.7669\n",
      "50:\ttest scoore:     0.1099\t\ttrain scoore:     0.7829\n",
      "51:\ttest scoore:     0.1098\t\ttrain scoore:     0.7076\n",
      "52:\ttest scoore:     0.1128\t\ttrain scoore:     0.8329\n",
      "53:\ttest scoore:     0.1062\t\ttrain scoore:     0.7550\n",
      "54:\ttest scoore:     0.1276\t\ttrain scoore:     0.8372\n",
      "55:\ttest scoore:     0.1024\t\ttrain scoore:     0.7671\n",
      "56:\ttest scoore:     0.1398\t\ttrain scoore:     0.6644\n",
      "57:\ttest scoore:     0.1037\t\ttrain scoore:     0.7987\n",
      "58:\ttest scoore:     0.1105\t\ttrain scoore:     0.7213\n",
      "59:\ttest scoore:     0.1067\t\ttrain scoore:     0.7461\n",
      "60:\ttest scoore:     0.1012\t\ttrain scoore:     0.7941\n",
      "61:\ttest scoore:     0.1021\t\ttrain scoore:     0.7889\n",
      "62:\ttest scoore:     0.1018\t\ttrain scoore:     0.7674\n",
      "63:\ttest scoore:     0.1007\t\ttrain scoore:     0.8077\n",
      "64:\ttest scoore:     0.1012\t\ttrain scoore:     0.7750\n",
      "65:\ttest scoore:     0.1012\t\ttrain scoore:     0.7466\n",
      "66:\ttest scoore:     0.1035\t\ttrain scoore:     0.7471\n",
      "67:\ttest scoore:     0.0997\t\ttrain scoore:     0.8035\n",
      "68:\ttest scoore:     0.1035\t\ttrain scoore:     0.8159\n",
      "69:\ttest scoore:     0.1052\t\ttrain scoore:     0.8368\n",
      "70:\ttest scoore:     0.1047\t\ttrain scoore:     0.8004\n",
      "71:\ttest scoore:     0.1106\t\ttrain scoore:     0.7267\n",
      "72:\ttest scoore:     0.0997\t\ttrain scoore:     0.7571\n",
      "73:\ttest scoore:     0.1014\t\ttrain scoore:     0.7440\n",
      "74:\ttest scoore:     0.1045\t\ttrain scoore:     0.7664\n",
      "75:\ttest scoore:     0.0980\t\ttrain scoore:     0.7691\n",
      "76:\ttest scoore:     0.1000\t\ttrain scoore:     0.7331\n",
      "77:\ttest scoore:     0.1001\t\ttrain scoore:     0.7598\n",
      "78:\ttest scoore:     0.0986\t\ttrain scoore:     0.7691\n",
      "79:\ttest scoore:     0.0961\t\ttrain scoore:     0.7924\n",
      "80:\ttest scoore:     0.0957\t\ttrain scoore:     0.7806\n",
      "81:\ttest scoore:     0.0980\t\ttrain scoore:     0.8160\n",
      "82:\ttest scoore:     0.0954\t\ttrain scoore:     0.7676\n",
      "83:\ttest scoore:     0.0953\t\ttrain scoore:     0.7955\n",
      "84:\ttest scoore:     0.0970\t\ttrain scoore:     0.7674\n",
      "85:\ttest scoore:     0.0983\t\ttrain scoore:     0.7767\n",
      "86:\ttest scoore:     0.1201\t\ttrain scoore:     0.7019\n",
      "87:\ttest scoore:     0.0964\t\ttrain scoore:     0.7718\n",
      "88:\ttest scoore:     0.0955\t\ttrain scoore:     0.7466\n",
      "89:\ttest scoore:     0.0979\t\ttrain scoore:     0.7771\n",
      "90:\ttest scoore:     0.0948\t\ttrain scoore:     0.7685\n",
      "91:\ttest scoore:     0.0953\t\ttrain scoore:     0.7573\n",
      "92:\ttest scoore:     0.0954\t\ttrain scoore:     0.7468\n",
      "93:\ttest scoore:     0.0949\t\ttrain scoore:     0.7465\n",
      "94:\ttest scoore:     0.0940\t\ttrain scoore:     0.7764\n",
      "95:\ttest scoore:     0.0943\t\ttrain scoore:     0.7760\n",
      "96:\ttest scoore:     0.0942\t\ttrain scoore:     0.7696\n",
      "97:\ttest scoore:     0.0984\t\ttrain scoore:     0.8394\n",
      "98:\ttest scoore:     0.0990\t\ttrain scoore:     0.7434\n",
      "99:\ttest scoore:     0.0982\t\ttrain scoore:     0.7813\n",
      "100:\ttest scoore:     0.0945\t\ttrain scoore:     0.7853\n",
      "101:\ttest scoore:     0.0935\t\ttrain scoore:     0.8048\n",
      "102:\ttest scoore:     0.0942\t\ttrain scoore:     0.7912\n",
      "103:\ttest scoore:     0.0937\t\ttrain scoore:     0.8122\n",
      "104:\ttest scoore:     0.0955\t\ttrain scoore:     0.8257\n",
      "105:\ttest scoore:     0.0964\t\ttrain scoore:     0.7683\n",
      "106:\ttest scoore:     0.0929\t\ttrain scoore:     0.7903\n",
      "107:\ttest scoore:     0.0965\t\ttrain scoore:     0.8162\n",
      "108:\ttest scoore:     0.0956\t\ttrain scoore:     0.7651\n",
      "109:\ttest scoore:     0.0942\t\ttrain scoore:     0.8037\n",
      "110:\ttest scoore:     0.1011\t\ttrain scoore:     0.7361\n",
      "111:\ttest scoore:     0.0939\t\ttrain scoore:     0.7903\n",
      "112:\ttest scoore:     0.0959\t\ttrain scoore:     0.7219\n",
      "113:\ttest scoore:     0.0947\t\ttrain scoore:     0.7801\n",
      "114:\ttest scoore:     0.0928\t\ttrain scoore:     0.7758\n",
      "115:\ttest scoore:     0.1020\t\ttrain scoore:     0.7257\n",
      "116:\ttest scoore:     0.0924\t\ttrain scoore:     0.7439\n",
      "117:\ttest scoore:     0.0930\t\ttrain scoore:     0.7796\n",
      "118:\ttest scoore:     0.1006\t\ttrain scoore:     0.7415\n",
      "119:\ttest scoore:     0.0974\t\ttrain scoore:     0.8183\n",
      "120:\ttest scoore:     0.0920\t\ttrain scoore:     0.7955\n",
      "121:\ttest scoore:     0.0944\t\ttrain scoore:     0.7514\n",
      "122:\ttest scoore:     0.0926\t\ttrain scoore:     0.7466\n",
      "123:\ttest scoore:     0.0959\t\ttrain scoore:     0.7371\n",
      "124:\ttest scoore:     0.0936\t\ttrain scoore:     0.7996\n",
      "125:\ttest scoore:     0.0916\t\ttrain scoore:     0.7817\n",
      "126:\ttest scoore:     0.0989\t\ttrain scoore:     0.8206\n",
      "127:\ttest scoore:     0.0912\t\ttrain scoore:     0.7962\n",
      "128:\ttest scoore:     0.0943\t\ttrain scoore:     0.7575\n",
      "129:\ttest scoore:     0.0913\t\ttrain scoore:     0.7936\n",
      "130:\ttest scoore:     0.0911\t\ttrain scoore:     0.7927\n",
      "131:\ttest scoore:     0.0921\t\ttrain scoore:     0.7951\n",
      "132:\ttest scoore:     0.0906\t\ttrain scoore:     0.7794\n",
      "133:\ttest scoore:     0.0931\t\ttrain scoore:     0.7578\n",
      "134:\ttest scoore:     0.0920\t\ttrain scoore:     0.7853\n",
      "135:\ttest scoore:     0.0908\t\ttrain scoore:     0.7888\n",
      "136:\ttest scoore:     0.0910\t\ttrain scoore:     0.7882\n",
      "137:\ttest scoore:     0.0919\t\ttrain scoore:     0.7995\n",
      "138:\ttest scoore:     0.0914\t\ttrain scoore:     0.7941\n",
      "139:\ttest scoore:     0.0910\t\ttrain scoore:     0.7978\n",
      "140:\ttest scoore:     0.0909\t\ttrain scoore:     0.7911\n",
      "141:\ttest scoore:     0.0903\t\ttrain scoore:     0.7786\n",
      "142:\ttest scoore:     0.0915\t\ttrain scoore:     0.7682\n",
      "143:\ttest scoore:     0.0911\t\ttrain scoore:     0.7933\n",
      "144:\ttest scoore:     0.0958\t\ttrain scoore:     0.7646\n",
      "145:\ttest scoore:     0.0912\t\ttrain scoore:     0.7938\n",
      "146:\ttest scoore:     0.0902\t\ttrain scoore:     0.7742\n",
      "147:\ttest scoore:     0.0925\t\ttrain scoore:     0.7460\n",
      "148:\ttest scoore:     0.0923\t\ttrain scoore:     0.7596\n",
      "149:\ttest scoore:     0.0933\t\ttrain scoore:     0.7724\n",
      "150:\ttest scoore:     0.0922\t\ttrain scoore:     0.7682\n"
     ]
    },
    {
     "name": "stdout",
     "output_type": "stream",
     "text": [
      "151:\ttest scoore:     0.0923\t\ttrain scoore:     0.7905\n",
      "152:\ttest scoore:     0.0901\t\ttrain scoore:     0.7860\n",
      "153:\ttest scoore:     0.0908\t\ttrain scoore:     0.7782\n",
      "154:\ttest scoore:     0.0937\t\ttrain scoore:     0.7532\n",
      "155:\ttest scoore:     0.0908\t\ttrain scoore:     0.7771\n",
      "156:\ttest scoore:     0.0904\t\ttrain scoore:     0.7857\n",
      "157:\ttest scoore:     0.0900\t\ttrain scoore:     0.7489\n",
      "158:\ttest scoore:     0.0903\t\ttrain scoore:     0.7742\n",
      "159:\ttest scoore:     0.0904\t\ttrain scoore:     0.7515\n",
      "160:\ttest scoore:     0.0922\t\ttrain scoore:     0.7472\n",
      "161:\ttest scoore:     0.0901\t\ttrain scoore:     0.7564\n",
      "162:\ttest scoore:     0.0915\t\ttrain scoore:     0.7990\n",
      "163:\ttest scoore:     0.0922\t\ttrain scoore:     0.7394\n",
      "164:\ttest scoore:     0.0899\t\ttrain scoore:     0.7723\n",
      "165:\ttest scoore:     0.0904\t\ttrain scoore:     0.7810\n",
      "166:\ttest scoore:     0.0897\t\ttrain scoore:     0.7609\n",
      "167:\ttest scoore:     0.0904\t\ttrain scoore:     0.7944\n",
      "168:\ttest scoore:     0.0907\t\ttrain scoore:     0.7945\n",
      "169:\ttest scoore:     0.0902\t\ttrain scoore:     0.7877\n",
      "170:\ttest scoore:     0.0896\t\ttrain scoore:     0.7711\n",
      "171:\ttest scoore:     0.0898\t\ttrain scoore:     0.7735\n",
      "172:\ttest scoore:     0.0932\t\ttrain scoore:     0.7340\n",
      "173:\ttest scoore:     0.0907\t\ttrain scoore:     0.7364\n",
      "174:\ttest scoore:     0.0898\t\ttrain scoore:     0.7761\n",
      "175:\ttest scoore:     0.0897\t\ttrain scoore:     0.7830\n",
      "176:\ttest scoore:     0.0899\t\ttrain scoore:     0.7536\n",
      "177:\ttest scoore:     0.0901\t\ttrain scoore:     0.7807\n",
      "178:\ttest scoore:     0.0931\t\ttrain scoore:     0.7938\n",
      "179:\ttest scoore:     0.0901\t\ttrain scoore:     0.7550\n",
      "180:\ttest scoore:     0.0915\t\ttrain scoore:     0.7384\n",
      "181:\ttest scoore:     0.0890\t\ttrain scoore:     0.7528\n",
      "182:\ttest scoore:     0.0895\t\ttrain scoore:     0.7568\n",
      "183:\ttest scoore:     0.0918\t\ttrain scoore:     0.7296\n",
      "184:\ttest scoore:     0.0898\t\ttrain scoore:     0.7505\n",
      "185:\ttest scoore:     0.0893\t\ttrain scoore:     0.7657\n",
      "186:\ttest scoore:     0.0900\t\ttrain scoore:     0.7515\n",
      "187:\ttest scoore:     0.0890\t\ttrain scoore:     0.7580\n",
      "188:\ttest scoore:     0.0900\t\ttrain scoore:     0.7460\n",
      "189:\ttest scoore:     0.0937\t\ttrain scoore:     0.7765\n",
      "190:\ttest scoore:     0.0919\t\ttrain scoore:     0.7337\n",
      "191:\ttest scoore:     0.0892\t\ttrain scoore:     0.7659\n",
      "192:\ttest scoore:     0.0907\t\ttrain scoore:     0.7729\n",
      "193:\ttest scoore:     0.0891\t\ttrain scoore:     0.7575\n",
      "194:\ttest scoore:     0.0921\t\ttrain scoore:     0.7880\n",
      "195:\ttest scoore:     0.0897\t\ttrain scoore:     0.7599\n",
      "196:\ttest scoore:     0.0901\t\ttrain scoore:     0.7560\n",
      "197:\ttest scoore:     0.0904\t\ttrain scoore:     0.7810\n",
      "198:\ttest scoore:     0.0891\t\ttrain scoore:     0.7640\n",
      "199:\ttest scoore:     0.0935\t\ttrain scoore:     0.7907\n",
      "200:\ttest scoore:     0.0927\t\ttrain scoore:     0.7908\n",
      "201:\ttest scoore:     0.0895\t\ttrain scoore:     0.7560\n",
      "202:\ttest scoore:     0.0894\t\ttrain scoore:     0.7731\n",
      "203:\ttest scoore:     0.0923\t\ttrain scoore:     0.7882\n",
      "204:\ttest scoore:     0.0886\t\ttrain scoore:     0.7618\n",
      "205:\ttest scoore:     0.0891\t\ttrain scoore:     0.7779\n",
      "206:\ttest scoore:     0.0890\t\ttrain scoore:     0.7528\n",
      "207:\ttest scoore:     0.0895\t\ttrain scoore:     0.7791\n",
      "208:\ttest scoore:     0.0888\t\ttrain scoore:     0.7640\n",
      "209:\ttest scoore:     0.0886\t\ttrain scoore:     0.7614\n",
      "210:\ttest scoore:     0.0888\t\ttrain scoore:     0.7572\n",
      "211:\ttest scoore:     0.0888\t\ttrain scoore:     0.7668\n",
      "212:\ttest scoore:     0.0885\t\ttrain scoore:     0.7607\n",
      "213:\ttest scoore:     0.0888\t\ttrain scoore:     0.7740\n",
      "214:\ttest scoore:     0.0897\t\ttrain scoore:     0.7797\n",
      "215:\ttest scoore:     0.0890\t\ttrain scoore:     0.7590\n",
      "216:\ttest scoore:     0.0888\t\ttrain scoore:     0.7627\n",
      "217:\ttest scoore:     0.0885\t\ttrain scoore:     0.7615\n",
      "218:\ttest scoore:     0.0916\t\ttrain scoore:     0.7967\n",
      "219:\ttest scoore:     0.0897\t\ttrain scoore:     0.7726\n",
      "220:\ttest scoore:     0.0899\t\ttrain scoore:     0.7771\n",
      "221:\ttest scoore:     0.0897\t\ttrain scoore:     0.7519\n",
      "222:\ttest scoore:     0.0892\t\ttrain scoore:     0.7543\n",
      "223:\ttest scoore:     0.0890\t\ttrain scoore:     0.7684\n",
      "224:\ttest scoore:     0.0900\t\ttrain scoore:     0.7745\n",
      "225:\ttest scoore:     0.0903\t\ttrain scoore:     0.7775\n",
      "226:\ttest scoore:     0.0913\t\ttrain scoore:     0.7353\n",
      "227:\ttest scoore:     0.0886\t\ttrain scoore:     0.7547\n",
      "228:\ttest scoore:     0.0883\t\ttrain scoore:     0.7604\n",
      "229:\ttest scoore:     0.0903\t\ttrain scoore:     0.7796\n",
      "230:\ttest scoore:     0.0882\t\ttrain scoore:     0.7627\n",
      "231:\ttest scoore:     0.0892\t\ttrain scoore:     0.7433\n"
     ]
    }
   ],
   "source": [
    "test_scoores = []\n",
    "train_scoores = []\n",
    "train_rand_scoores = []\n",
    "create_path('./error_plots/{}'.format(comment))\n",
    "for i in range(300):\n",
    "    ids_rand = np.random.randint(0, 400000, 1064)\n",
    "    ids = np.arange(0, 1064)*-1\n",
    "    test_model = DeepPotential()\n",
    "    test_model.load_state_dict(torch.load(f'{model_path}epoch_{i}', map_location=lambda storage, loc: storage))\n",
    "    test_result = np.squeeze(backtransform(test_model(X_test), Y_min, Y_max).detach().numpy())\n",
    "    val_result = np.squeeze(backtransform(Y_test, Y_min, Y_max).detach().numpy())\n",
    "    test_scoore = np.round(np.mean(np.abs(test_result - val_result)), 4)\n",
    "    test_result = np.squeeze(backtransform(test_model(X_train[ids]), Y_min, Y_max).detach().numpy())\n",
    "    val_result = np.squeeze(backtransform(Y_train[ids], Y_min, Y_max).detach().numpy())\n",
    "    train_scoore = np.round(np.mean(np.abs(test_result - val_result)), 4)\n",
    "    test_result = np.squeeze(backtransform(test_model(X_train[ids_rand]), Y_min, Y_max).detach().numpy())\n",
    "    val_result = np.squeeze(backtransform(Y_train[ids_rand], Y_min, Y_max).detach().numpy())\n",
    "    train_rand_scoore = np.round(np.mean(np.abs(test_result - val_result)), 4)\n",
    "    print('{}:\\ttest scoore: {:10.4f}\\t\\ttrain scoore: {:10.4f}'.format(i, test_scoore, train_scoore))\n",
    "    test_scoores.append(test_scoore)\n",
    "    train_scoores.append(train_scoore)\n",
    "    train_rand_scoores.append(train_rand_scoore)\n",
    "\n",
    "plt.plot(train_scoores, label='train-traj')\n",
    "plt.plot(train__rand_scoores, label='train-rand')\n",
    "plt.plot(test_scoores, label='test')\n",
    "plt.hlines(0.04, 0, len(train_scoores))\n",
    "plt.legend()\n",
    "plt.ylim([0, 1])\n",
    "plt.savefig('./error_plots/{}/abs_error_{}'.format(comment, int(time.time())))"
   ]
  },
  {
   "cell_type": "code",
   "execution_count": null,
   "metadata": {},
   "outputs": [],
   "source": [
    "plt.plot(train_scoores, label='train')\n",
    "plt.plot(test_scoores, label='test')\n",
    "plt.hlines(0.04, 0, len(train_scoores))\n",
    "plt.legend()\n",
    "plt.ylim([0, 1])\n",
    "plt.savefig('./error_plots/{}/abs_error_{}'.format(comment, int(time.time())))"
   ]
  },
  {
   "cell_type": "code",
   "execution_count": null,
   "metadata": {},
   "outputs": [],
   "source": [
    "model_path[:-1]"
   ]
  },
  {
   "cell_type": "code",
   "execution_count": null,
   "metadata": {},
   "outputs": [],
   "source": [
    "test_model = DeepPotential()\n",
    "test_model.load_state_dict(torch.load(f'ModelCheckpoints/c7o2h10/epoch_{i-1}', map_location=lambda storage, loc: storage))    \n",
    "single_scoores = []\n",
    "for data_point in range(X_train.shape[0]):\n",
    "    test_result = np.squeeze(backtransform(test_model(X_train[data_point].reshape(1, 19, 72)), Y_min, Y_max).detach().numpy())\n",
    "    val_result = np.squeeze(backtransform(Y_train[data_point].reshape(1, 19, 72), Y_min, Y_max).detach().numpy())\n",
    "    train_scoore = np.round(np.mean(np.abs(test_result - val_result)), 4)\n",
    "    single_scoores.append(train_scoore)\n",
    "    print(data_point/X_train.shape, )"
   ]
  },
  {
   "cell_type": "code",
   "execution_count": null,
   "metadata": {},
   "outputs": [],
   "source": [
    "X_train[0].reshape(1, 19, 72).shape"
   ]
  },
  {
   "cell_type": "code",
   "execution_count": null,
   "metadata": {},
   "outputs": [],
   "source": [
    "test_result = np.squeeze(backtransform(test_model(X_train[:100]), Y_min, Y_max).detach().numpy())\n",
    "val_result = np.squeeze(backtransform(Y_train[:100], Y_min, Y_max).detach().numpy())\n",
    "scoore = np.mean(np.abs(test_result - val_result))"
   ]
  },
  {
   "cell_type": "code",
   "execution_count": null,
   "metadata": {},
   "outputs": [],
   "source": [
    "test_result[:15]"
   ]
  },
  {
   "cell_type": "code",
   "execution_count": null,
   "metadata": {},
   "outputs": [],
   "source": [
    "val_result[:15]"
   ]
  },
  {
   "cell_type": "code",
   "execution_count": null,
   "metadata": {},
   "outputs": [],
   "source": [
    "scoore"
   ]
  },
  {
   "cell_type": "code",
   "execution_count": null,
   "metadata": {},
   "outputs": [],
   "source": [
    "test_model.load_state_dict(torch.load(f'ModelCheckpoints/c7o2h10/epoch_{270}', map_location=lambda storage, loc: storage))\n",
    "test_result = np.squeeze(backtransform(test_model(X_test), Y_min, Y_max).detach().numpy())\n",
    "val_result = np.squeeze(backtransform(Y_test, Y_min, Y_max).detach().numpy())"
   ]
  },
  {
   "cell_type": "code",
   "execution_count": null,
   "metadata": {},
   "outputs": [],
   "source": [
    "test_result[:100]"
   ]
  },
  {
   "cell_type": "code",
   "execution_count": null,
   "metadata": {},
   "outputs": [],
   "source": [
    "val_result[:100]"
   ]
  },
  {
   "cell_type": "markdown",
   "metadata": {},
   "source": [
    "# Testing"
   ]
  },
  {
   "cell_type": "markdown",
   "metadata": {},
   "source": [
    "## Test normalize function:"
   ]
  },
  {
   "cell_type": "code",
   "execution_count": null,
   "metadata": {},
   "outputs": [],
   "source": [
    "Y_load = np.load(label_path) * -1\n",
    "Y_normed, Y_min, Y_max = normalize(Y_load)\n",
    "Y_back = backtransform(Y_normed, Y_min, Y_max)\n",
    "np.testing.assert_array_almost_equal(Y_back, Y_load)"
   ]
  },
  {
   "cell_type": "code",
   "execution_count": null,
   "metadata": {},
   "outputs": [],
   "source": [
    "x = np.arange(0, 9).reshape(3, 3)"
   ]
  },
  {
   "cell_type": "code",
   "execution_count": null,
   "metadata": {},
   "outputs": [],
   "source": [
    "x"
   ]
  },
  {
   "cell_type": "code",
   "execution_count": null,
   "metadata": {},
   "outputs": [],
   "source": [
    "shuffle = np.arange(0, 3)\n",
    "np.random.shuffle(shuffle)\n",
    "shuffle"
   ]
  },
  {
   "cell_type": "code",
   "execution_count": null,
   "metadata": {},
   "outputs": [],
   "source": [
    "x[shuffle]"
   ]
  },
  {
   "cell_type": "code",
   "execution_count": null,
   "metadata": {},
   "outputs": [],
   "source": []
  }
 ],
 "metadata": {
  "kernelspec": {
   "display_name": "Python 3",
   "language": "python",
   "name": "python3"
  },
  "language_info": {
   "codemirror_mode": {
    "name": "ipython",
    "version": 3
   },
   "file_extension": ".py",
   "mimetype": "text/x-python",
   "name": "python",
   "nbconvert_exporter": "python",
   "pygments_lexer": "ipython3",
   "version": "3.6.5"
  }
 },
 "nbformat": 4,
 "nbformat_minor": 2
}
