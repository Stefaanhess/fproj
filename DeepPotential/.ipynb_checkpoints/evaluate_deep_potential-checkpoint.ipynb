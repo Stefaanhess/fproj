{
 "cells": [
  {
   "cell_type": "code",
   "execution_count": 1,
   "metadata": {
    "scrolled": true
   },
   "outputs": [],
   "source": [
    "import numpy as np\n",
    "from matplotlib import pyplot as plt\n",
    "import pandas as pd#\n",
    "%matplotlib inline\n",
    "import torch\n",
    "from torch.autograd import Variable\n",
    "import torch.nn as nn\n",
    "import torch.nn.functional as F\n",
    "import time"
   ]
  },
  {
   "cell_type": "code",
   "execution_count": 2,
   "metadata": {},
   "outputs": [],
   "source": [
    "from Code.Models.c7o2h10_model import DeepPotential, train, normalize, backtransform"
   ]
  },
  {
   "cell_type": "code",
   "execution_count": 3,
   "metadata": {},
   "outputs": [],
   "source": [
    "data_path = './Dataset/c7o2h10_X.npy'\n",
    "label_path = './Dataset/c7o2h10_Y.npy'\n",
    "train_ids_path = './Dataset/iso17/train_ids.txt'\n",
    "test_ids_path = './Dataset/iso17/validation_ids.txt'\n",
    "model_path = './ModelCheckpoints/c7o2h10/'"
   ]
  },
  {
   "cell_type": "markdown",
   "metadata": {},
   "source": [
    "# Read the Data"
   ]
  },
  {
   "cell_type": "code",
   "execution_count": 4,
   "metadata": {},
   "outputs": [],
   "source": [
    "train_ids = (np.loadtxt(train_ids_path) - 1).astype(int).tolist()\n",
    "test_ids = (np.loadtxt(test_ids_path) - 1).astype(int).tolist()"
   ]
  },
  {
   "cell_type": "code",
   "execution_count": 5,
   "metadata": {
    "scrolled": true
   },
   "outputs": [
    {
     "data": {
      "text/plain": [
       "(404000, 19, 72)"
      ]
     },
     "execution_count": 5,
     "metadata": {},
     "output_type": "execute_result"
    }
   ],
   "source": [
    "X_npy = np.load(data_path)\n",
    "Y_npy = np.load(label_path) * -1\n",
    "Y_npy, Y_min, Y_max = normalize(Y_npy)\n",
    "X_npy.shape"
   ]
  },
  {
   "cell_type": "markdown",
   "metadata": {},
   "source": [
    "### Split into test and train"
   ]
  },
  {
   "cell_type": "code",
   "execution_count": 6,
   "metadata": {},
   "outputs": [],
   "source": [
    "X_train_npy, X_test_npy = X_npy[train_ids], X_npy[test_ids]\n",
    "Y_train_npy, Y_test_npy = Y_npy[train_ids], Y_npy[test_ids]"
   ]
  },
  {
   "cell_type": "code",
   "execution_count": 7,
   "metadata": {},
   "outputs": [],
   "source": [
    "X_train = Variable(torch.Tensor(X_train_npy))\n",
    "Y_train = Variable(torch.Tensor(Y_train_npy), requires_grad=False)\n",
    "X_test = Variable(torch.Tensor(X_test_npy))\n",
    "Y_test = Variable(torch.Tensor(Y_test_npy), requires_grad=False)"
   ]
  },
  {
   "cell_type": "markdown",
   "metadata": {},
   "source": [
    "## Test Model"
   ]
  },
  {
   "cell_type": "code",
   "execution_count": 9,
   "metadata": {},
   "outputs": [
    {
     "name": "stdout",
     "output_type": "stream",
     "text": [
      "test scoore: 0.24719999730587006\t\ttrain scoore: 0.24690000712871552\n",
      "test scoore: 0.22050000727176666\t\ttrain scoore: 0.21629999577999115\n",
      "test scoore: 0.20080000162124634\t\ttrain scoore: 0.1996999979019165\n",
      "test scoore: 0.186599999666214\t\ttrain scoore: 0.18310000002384186\n",
      "test scoore: 0.17339999973773956\t\ttrain scoore: 0.1696999967098236\n",
      "test scoore: 0.15440000593662262\t\ttrain scoore: 0.14959999918937683\n",
      "test scoore: 0.14399999380111694\t\ttrain scoore: 0.1429000049829483\n",
      "test scoore: 0.13860000669956207\t\ttrain scoore: 0.13490000367164612\n",
      "test scoore: 0.13429999351501465\t\ttrain scoore: 0.12780000269412994\n",
      "test scoore: 0.1264999955892563\t\ttrain scoore: 0.11739999800920486\n",
      "test scoore: 0.12489999830722809\t\ttrain scoore: 0.1143999993801117\n",
      "test scoore: 0.12280000001192093\t\ttrain scoore: 0.11339999735355377\n",
      "test scoore: 0.12080000340938568\t\ttrain scoore: 0.10830000042915344\n",
      "test scoore: 0.11829999834299088\t\ttrain scoore: 0.10570000112056732\n",
      "test scoore: 0.12200000137090683\t\ttrain scoore: 0.10830000042915344\n",
      "test scoore: 0.12080000340938568\t\ttrain scoore: 0.10729999840259552\n",
      "test scoore: 0.11640000343322754\t\ttrain scoore: 0.10130000114440918\n",
      "test scoore: 0.1145000010728836\t\ttrain scoore: 0.10010000318288803\n",
      "test scoore: 0.11330000311136246\t\ttrain scoore: 0.09809999912977219\n",
      "test scoore: 0.1103999987244606\t\ttrain scoore: 0.0949999988079071\n",
      "test scoore: 0.11410000175237656\t\ttrain scoore: 0.09809999912977219\n",
      "test scoore: 0.11069999635219574\t\ttrain scoore: 0.09290000051259995\n",
      "test scoore: 0.11729999631643295\t\ttrain scoore: 0.09969999641180038\n",
      "test scoore: 0.1193000003695488\t\ttrain scoore: 0.0989999994635582\n",
      "test scoore: 0.11379999667406082\t\ttrain scoore: 0.09470000118017197\n",
      "test scoore: 0.11180000007152557\t\ttrain scoore: 0.09210000187158585\n",
      "test scoore: 0.11069999635219574\t\ttrain scoore: 0.08839999884366989\n",
      "test scoore: 0.10869999974966049\t\ttrain scoore: 0.08900000154972076\n",
      "test scoore: 0.10329999774694443\t\ttrain scoore: 0.08460000157356262\n",
      "test scoore: 0.1046999990940094\t\ttrain scoore: 0.08669999986886978\n",
      "test scoore: 0.10639999806880951\t\ttrain scoore: 0.08590000122785568\n",
      "test scoore: 0.10729999840259552\t\ttrain scoore: 0.08869999647140503\n",
      "test scoore: 0.10220000147819519\t\ttrain scoore: 0.08380000293254852\n",
      "test scoore: 0.10289999842643738\t\ttrain scoore: 0.0851999968290329\n",
      "test scoore: 0.10239999741315842\t\ttrain scoore: 0.08250000327825546\n",
      "test scoore: 0.1031000018119812\t\ttrain scoore: 0.08479999750852585\n",
      "test scoore: 0.10719999670982361\t\ttrain scoore: 0.08990000188350677\n",
      "test scoore: 0.1160999983549118\t\ttrain scoore: 0.09880000352859497\n",
      "test scoore: 0.12240000069141388\t\ttrain scoore: 0.10719999670982361\n",
      "test scoore: 0.1412000060081482\t\ttrain scoore: 0.12639999389648438\n",
      "test scoore: 0.1266999989748001\t\ttrain scoore: 0.1111999973654747\n",
      "test scoore: 0.1151999980211258\t\ttrain scoore: 0.09669999778270721\n",
      "test scoore: 0.11050000041723251\t\ttrain scoore: 0.09200000017881393\n",
      "test scoore: 0.11479999870061874\t\ttrain scoore: 0.09830000251531601\n",
      "test scoore: 0.10140000283718109\t\ttrain scoore: 0.07930000126361847\n",
      "test scoore: 0.10050000250339508\t\ttrain scoore: 0.0812000036239624\n",
      "test scoore: 0.09860000014305115\t\ttrain scoore: 0.07850000262260437\n",
      "test scoore: 0.09839999675750732\t\ttrain scoore: 0.07859999686479568\n",
      "test scoore: 0.09969999641180038\t\ttrain scoore: 0.07980000227689743\n",
      "test scoore: 0.11270000040531158\t\ttrain scoore: 0.09910000115633011\n",
      "test scoore: 0.11860000342130661\t\ttrain scoore: 0.09960000216960907\n",
      "test scoore: 0.11270000040531158\t\ttrain scoore: 0.08889999985694885\n",
      "test scoore: 0.11330000311136246\t\ttrain scoore: 0.09669999778270721\n",
      "test scoore: 0.14509999752044678\t\ttrain scoore: 0.13130000233650208\n",
      "test scoore: 0.13699999451637268\t\ttrain scoore: 0.12520000338554382\n",
      "test scoore: 0.1298000067472458\t\ttrain scoore: 0.11829999834299088\n",
      "test scoore: 0.10859999805688858\t\ttrain scoore: 0.09669999778270721\n",
      "test scoore: 0.1014999970793724\t\ttrain scoore: 0.08569999784231186\n",
      "test scoore: 0.09950000047683716\t\ttrain scoore: 0.07970000058412552\n",
      "test scoore: 0.12479999661445618\t\ttrain scoore: 0.11249999701976776\n",
      "test scoore: 0.13650000095367432\t\ttrain scoore: 0.13349999487400055\n",
      "test scoore: 0.13979999721050262\t\ttrain scoore: 0.13670000433921814\n",
      "test scoore: 0.12639999389648438\t\ttrain scoore: 0.11909999698400497\n",
      "test scoore: 0.12939999997615814\t\ttrain scoore: 0.12200000137090683\n",
      "test scoore: 0.13349999487400055\t\ttrain scoore: 0.12129999697208405\n",
      "test scoore: 0.11259999871253967\t\ttrain scoore: 0.10300000011920929\n",
      "test scoore: 0.09950000047683716\t\ttrain scoore: 0.08160000294446945\n",
      "test scoore: 0.09870000183582306\t\ttrain scoore: 0.08079999685287476\n",
      "test scoore: 0.09860000014305115\t\ttrain scoore: 0.07649999856948853\n",
      "test scoore: 0.09690000116825104\t\ttrain scoore: 0.07649999856948853\n",
      "test scoore: 0.10140000283718109\t\ttrain scoore: 0.07720000296831131\n",
      "test scoore: 0.09650000184774399\t\ttrain scoore: 0.07720000296831131\n",
      "test scoore: 0.10270000249147415\t\ttrain scoore: 0.08190000057220459\n",
      "test scoore: 0.09749999642372131\t\ttrain scoore: 0.07670000195503235\n",
      "test scoore: 0.10830000042915344\t\ttrain scoore: 0.08619999885559082\n",
      "test scoore: 0.11699999868869781\t\ttrain scoore: 0.1006999984383583\n",
      "test scoore: 0.10429999977350235\t\ttrain scoore: 0.08699999749660492\n",
      "test scoore: 0.10379999876022339\t\ttrain scoore: 0.08479999750852585\n",
      "test scoore: 0.0989999994635582\t\ttrain scoore: 0.07680000364780426\n",
      "test scoore: 0.09939999878406525\t\ttrain scoore: 0.07980000227689743\n",
      "test scoore: 0.09889999777078629\t\ttrain scoore: 0.08160000294446945\n",
      "test scoore: 0.10140000283718109\t\ttrain scoore: 0.09019999951124191\n",
      "test scoore: 0.09700000286102295\t\ttrain scoore: 0.07999999821186066\n",
      "test scoore: 0.10480000078678131\t\ttrain scoore: 0.09529999643564224\n",
      "test scoore: 0.1031000018119812\t\ttrain scoore: 0.08609999716281891\n",
      "test scoore: 0.10119999945163727\t\ttrain scoore: 0.08240000158548355\n",
      "test scoore: 0.09839999675750732\t\ttrain scoore: 0.07909999787807465\n",
      "test scoore: 0.09629999846220016\t\ttrain scoore: 0.07729999721050262\n",
      "test scoore: 0.09600000083446503\t\ttrain scoore: 0.0763000026345253\n",
      "test scoore: 0.10480000078678131\t\ttrain scoore: 0.0908999964594841\n",
      "test scoore: 0.10170000046491623\t\ttrain scoore: 0.08229999989271164\n",
      "test scoore: 0.1005999967455864\t\ttrain scoore: 0.08219999819993973\n",
      "test scoore: 0.0949999988079071\t\ttrain scoore: 0.07440000027418137\n",
      "test scoore: 0.10109999775886536\t\ttrain scoore: 0.08169999718666077\n",
      "test scoore: 0.09679999947547913\t\ttrain scoore: 0.07620000094175339\n",
      "test scoore: 0.09849999845027924\t\ttrain scoore: 0.07779999822378159\n",
      "test scoore: 0.09939999878406525\t\ttrain scoore: 0.07959999889135361\n",
      "test scoore: 0.10459999740123749\t\ttrain scoore: 0.08749999850988388\n",
      "test scoore: 0.11069999635219574\t\ttrain scoore: 0.0949999988079071\n",
      "test scoore: 0.09759999811649323\t\ttrain scoore: 0.08240000158548355\n",
      "test scoore: 0.10100000351667404\t\ttrain scoore: 0.08410000056028366\n",
      "test scoore: 0.15139999985694885\t\ttrain scoore: 0.13660000264644623\n",
      "test scoore: 0.19939999282360077\t\ttrain scoore: 0.195700004696846\n",
      "test scoore: 0.19760000705718994\t\ttrain scoore: 0.2053000032901764\n",
      "test scoore: 0.1770000010728836\t\ttrain scoore: 0.17030000686645508\n",
      "test scoore: 0.11460000276565552\t\ttrain scoore: 0.09080000221729279\n",
      "test scoore: 0.09700000286102295\t\ttrain scoore: 0.07620000094175339\n",
      "test scoore: 0.12129999697208405\t\ttrain scoore: 0.1062999963760376\n",
      "test scoore: 0.1469999998807907\t\ttrain scoore: 0.13580000400543213\n",
      "test scoore: 0.15790000557899475\t\ttrain scoore: 0.15160000324249268\n",
      "test scoore: 0.15060000121593475\t\ttrain scoore: 0.1256999969482422\n",
      "test scoore: 0.10480000078678131\t\ttrain scoore: 0.08709999918937683\n",
      "test scoore: 0.09549999982118607\t\ttrain scoore: 0.07580000162124634\n",
      "test scoore: 0.13539999723434448\t\ttrain scoore: 0.12809999287128448\n",
      "test scoore: 0.15309999883174896\t\ttrain scoore: 0.1420000046491623\n",
      "test scoore: 0.10289999842643738\t\ttrain scoore: 0.08619999885559082\n",
      "test scoore: 0.09480000287294388\t\ttrain scoore: 0.07349999994039536\n",
      "test scoore: 0.10320000350475311\t\ttrain scoore: 0.08609999716281891\n",
      "test scoore: 0.09220000356435776\t\ttrain scoore: 0.0729999989271164\n",
      "test scoore: 0.09309999644756317\t\ttrain scoore: 0.0731000006198883\n",
      "test scoore: 0.09690000116825104\t\ttrain scoore: 0.07810000330209732\n",
      "test scoore: 0.09380000084638596\t\ttrain scoore: 0.07280000299215317\n"
     ]
    },
    {
     "name": "stdout",
     "output_type": "stream",
     "text": [
      "test scoore: 0.10140000283718109\t\ttrain scoore: 0.09080000221729279\n",
      "test scoore: 0.10869999974966049\t\ttrain scoore: 0.09440000355243683\n",
      "test scoore: 0.11509999632835388\t\ttrain scoore: 0.09480000287294388\n",
      "test scoore: 0.13199999928474426\t\ttrain scoore: 0.11980000138282776\n",
      "test scoore: 0.14399999380111694\t\ttrain scoore: 0.14300000667572021\n",
      "test scoore: 0.11249999701976776\t\ttrain scoore: 0.10019999742507935\n",
      "test scoore: 0.12300000339746475\t\ttrain scoore: 0.10679999738931656\n",
      "test scoore: 0.12839999794960022\t\ttrain scoore: 0.10949999839067459\n",
      "test scoore: 0.13770000636577606\t\ttrain scoore: 0.1282999962568283\n",
      "test scoore: 0.1298000067472458\t\ttrain scoore: 0.1145000010728836\n",
      "test scoore: 0.1412000060081482\t\ttrain scoore: 0.12359999865293503\n",
      "test scoore: 0.15240000188350677\t\ttrain scoore: 0.13179999589920044\n",
      "test scoore: 0.13840000331401825\t\ttrain scoore: 0.12070000171661377\n",
      "test scoore: 0.15379999577999115\t\ttrain scoore: 0.1428000032901764\n",
      "test scoore: 0.19820000231266022\t\ttrain scoore: 0.18860000371932983\n",
      "test scoore: 0.16859999299049377\t\ttrain scoore: 0.1615000069141388\n",
      "test scoore: 0.11659999936819077\t\ttrain scoore: 0.1006999984383583\n",
      "test scoore: 0.10859999805688858\t\ttrain scoore: 0.08529999852180481\n",
      "test scoore: 0.10949999839067459\t\ttrain scoore: 0.09130000323057175\n",
      "test scoore: 0.11469999700784683\t\ttrain scoore: 0.09629999846220016\n",
      "test scoore: 0.1590999960899353\t\ttrain scoore: 0.14920000731945038\n",
      "test scoore: 0.1687999963760376\t\ttrain scoore: 0.1582999974489212\n",
      "test scoore: 0.14900000393390656\t\ttrain scoore: 0.14010000228881836\n",
      "test scoore: 0.13619999587535858\t\ttrain scoore: 0.11829999834299088\n",
      "test scoore: 0.10379999876022339\t\ttrain scoore: 0.08789999783039093\n",
      "test scoore: 0.09759999811649323\t\ttrain scoore: 0.07280000299215317\n",
      "test scoore: 0.094200000166893\t\ttrain scoore: 0.07079999893903732\n",
      "test scoore: 0.09160000085830688\t\ttrain scoore: 0.06849999725818634\n",
      "test scoore: 0.09570000320672989\t\ttrain scoore: 0.07819999754428864\n",
      "test scoore: 0.10279999673366547\t\ttrain scoore: 0.0843999981880188\n",
      "test scoore: 0.09239999949932098\t\ttrain scoore: 0.07079999893903732\n",
      "test scoore: 0.1395999938249588\t\ttrain scoore: 0.12929999828338623\n",
      "test scoore: 0.15129999816417694\t\ttrain scoore: 0.13339999318122864\n",
      "test scoore: 0.15389999747276306\t\ttrain scoore: 0.12680000066757202\n",
      "test scoore: 0.16249999403953552\t\ttrain scoore: 0.163100004196167\n",
      "test scoore: 0.131400004029274\t\ttrain scoore: 0.12520000338554382\n",
      "test scoore: 0.1485999971628189\t\ttrain scoore: 0.13459999859333038\n",
      "test scoore: 0.12790000438690186\t\ttrain scoore: 0.1143999993801117\n",
      "test scoore: 0.09989999979734421\t\ttrain scoore: 0.08259999752044678\n",
      "test scoore: 0.09640000015497208\t\ttrain scoore: 0.07859999686479568\n",
      "test scoore: 0.09459999948740005\t\ttrain scoore: 0.07479999959468842\n",
      "test scoore: 0.11079999804496765\t\ttrain scoore: 0.09229999780654907\n",
      "test scoore: 0.09470000118017197\t\ttrain scoore: 0.07410000264644623\n",
      "test scoore: 0.09539999812841415\t\ttrain scoore: 0.0754999965429306\n",
      "test scoore: 0.11559999734163284\t\ttrain scoore: 0.10010000318288803\n",
      "test scoore: 0.12150000035762787\t\ttrain scoore: 0.1054999977350235\n",
      "test scoore: 0.1257999986410141\t\ttrain scoore: 0.11789999902248383\n",
      "test scoore: 0.12309999763965607\t\ttrain scoore: 0.11029999703168869\n",
      "test scoore: 0.10580000281333923\t\ttrain scoore: 0.08659999817609787\n",
      "test scoore: 0.11580000072717667\t\ttrain scoore: 0.10050000250339508\n",
      "test scoore: 0.10000000149011612\t\ttrain scoore: 0.08089999854564667\n",
      "test scoore: 0.09529999643564224\t\ttrain scoore: 0.07259999960660934\n",
      "test scoore: 0.09929999709129333\t\ttrain scoore: 0.08030000329017639\n",
      "test scoore: 0.1151999980211258\t\ttrain scoore: 0.10729999840259552\n",
      "test scoore: 0.11389999836683273\t\ttrain scoore: 0.09690000116825104\n",
      "test scoore: 0.11410000175237656\t\ttrain scoore: 0.10750000178813934\n",
      "test scoore: 0.1348000019788742\t\ttrain scoore: 0.1177000030875206\n",
      "test scoore: 0.14730000495910645\t\ttrain scoore: 0.1469999998807907\n",
      "test scoore: 0.1876000016927719\t\ttrain scoore: 0.19210000336170197\n",
      "test scoore: 0.18050000071525574\t\ttrain scoore: 0.17560000717639923\n",
      "test scoore: 0.16830000281333923\t\ttrain scoore: 0.17470000684261322\n",
      "test scoore: 0.17820000648498535\t\ttrain scoore: 0.17509999871253967\n",
      "test scoore: 0.1606999933719635\t\ttrain scoore: 0.15729999542236328\n",
      "test scoore: 0.14030000567436218\t\ttrain scoore: 0.1386999934911728\n",
      "test scoore: 0.10270000249147415\t\ttrain scoore: 0.08590000122785568\n",
      "test scoore: 0.09889999777078629\t\ttrain scoore: 0.08609999716281891\n",
      "test scoore: 0.0997999981045723\t\ttrain scoore: 0.07620000094175339\n",
      "test scoore: 0.09769999980926514\t\ttrain scoore: 0.0763000026345253\n",
      "test scoore: 0.09950000047683716\t\ttrain scoore: 0.07890000194311142\n",
      "test scoore: 0.11720000207424164\t\ttrain scoore: 0.10379999876022339\n",
      "test scoore: 0.14409999549388885\t\ttrain scoore: 0.1306000053882599\n",
      "test scoore: 0.12639999389648438\t\ttrain scoore: 0.11720000207424164\n",
      "test scoore: 0.10559999942779541\t\ttrain scoore: 0.09260000288486481\n",
      "test scoore: 0.0940999984741211\t\ttrain scoore: 0.07410000264644623\n",
      "test scoore: 0.12229999899864197\t\ttrain scoore: 0.10559999942779541\n",
      "test scoore: 0.1673000007867813\t\ttrain scoore: 0.15880000591278076\n",
      "test scoore: 0.18299999833106995\t\ttrain scoore: 0.17409999668598175\n",
      "test scoore: 0.12530000507831573\t\ttrain scoore: 0.10700000077486038\n",
      "test scoore: 0.0982000008225441\t\ttrain scoore: 0.07959999889135361\n",
      "test scoore: 0.10080000013113022\t\ttrain scoore: 0.08429999649524689\n",
      "test scoore: 0.10239999741315842\t\ttrain scoore: 0.09560000151395798\n",
      "test scoore: 0.10019999742507935\t\ttrain scoore: 0.08229999989271164\n",
      "test scoore: 0.12359999865293503\t\ttrain scoore: 0.12110000103712082\n",
      "test scoore: 0.15610000491142273\t\ttrain scoore: 0.1460999995470047\n",
      "test scoore: 0.23240000009536743\t\ttrain scoore: 0.25189998745918274\n",
      "test scoore: 0.2410999983549118\t\ttrain scoore: 0.24369999766349792\n",
      "test scoore: 0.2379000037908554\t\ttrain scoore: 0.23600000143051147\n",
      "test scoore: 0.13950000703334808\t\ttrain scoore: 0.13439999520778656\n",
      "test scoore: 0.0957999974489212\t\ttrain scoore: 0.07540000230073929\n",
      "test scoore: 0.12129999697208405\t\ttrain scoore: 0.10429999977350235\n",
      "test scoore: 0.1632000058889389\t\ttrain scoore: 0.1428000032901764\n",
      "test scoore: 0.14110000431537628\t\ttrain scoore: 0.12950000166893005\n",
      "test scoore: 0.09709999710321426\t\ttrain scoore: 0.07639999687671661\n",
      "test scoore: 0.1274999976158142\t\ttrain scoore: 0.1242000013589859\n",
      "test scoore: 0.1444000005722046\t\ttrain scoore: 0.13680000603199005\n",
      "test scoore: 0.1923000067472458\t\ttrain scoore: 0.18359999358654022\n",
      "test scoore: 0.23989999294281006\t\ttrain scoore: 0.25110000371932983\n",
      "test scoore: 0.2583000063896179\t\ttrain scoore: 0.2743000090122223\n",
      "test scoore: 0.42160001397132874\t\ttrain scoore: 0.42739999294281006\n",
      "test scoore: 0.4239000082015991\t\ttrain scoore: 0.4375\n",
      "test scoore: 0.3043000102043152\t\ttrain scoore: 0.2874999940395355\n",
      "test scoore: 0.16120000183582306\t\ttrain scoore: 0.14890000224113464\n",
      "test scoore: 0.14959999918937683\t\ttrain scoore: 0.13130000233650208\n",
      "test scoore: 0.12240000069141388\t\ttrain scoore: 0.1128000020980835\n",
      "test scoore: 0.11379999667406082\t\ttrain scoore: 0.10400000214576721\n",
      "test scoore: 0.0982000008225441\t\ttrain scoore: 0.08179999887943268\n",
      "test scoore: 0.09939999878406525\t\ttrain scoore: 0.0812000036239624\n",
      "test scoore: 0.09160000085830688\t\ttrain scoore: 0.06790000200271606\n",
      "test scoore: 0.08940000087022781\t\ttrain scoore: 0.06589999794960022\n",
      "test scoore: 0.08910000324249268\t\ttrain scoore: 0.06589999794960022\n",
      "test scoore: 0.09520000219345093\t\ttrain scoore: 0.07419999688863754\n",
      "test scoore: 0.09539999812841415\t\ttrain scoore: 0.0746999979019165\n",
      "test scoore: 0.09269999712705612\t\ttrain scoore: 0.07259999960660934\n",
      "test scoore: 0.1031000018119812\t\ttrain scoore: 0.08449999988079071\n",
      "test scoore: 0.10700000077486038\t\ttrain scoore: 0.09099999815225601\n",
      "test scoore: 0.10409999638795853\t\ttrain scoore: 0.09319999814033508\n",
      "test scoore: 0.10580000281333923\t\ttrain scoore: 0.09120000153779984\n",
      "test scoore: 0.10119999945163727\t\ttrain scoore: 0.08079999685287476\n",
      "test scoore: 0.09740000218153\t\ttrain scoore: 0.07840000092983246\n",
      "test scoore: 0.13030000030994415\t\ttrain scoore: 0.11620000004768372\n",
      "test scoore: 0.16439999639987946\t\ttrain scoore: 0.16269999742507935\n",
      "test scoore: 0.15399999916553497\t\ttrain scoore: 0.1477999985218048\n"
     ]
    },
    {
     "name": "stdout",
     "output_type": "stream",
     "text": [
      "test scoore: 0.19689999520778656\t\ttrain scoore: 0.17730000615119934\n",
      "test scoore: 0.2084999978542328\t\ttrain scoore: 0.21559999883174896\n",
      "test scoore: 0.16599999368190765\t\ttrain scoore: 0.16259999573230743\n",
      "test scoore: 0.1348000019788742\t\ttrain scoore: 0.11379999667406082\n",
      "test scoore: 0.09889999777078629\t\ttrain scoore: 0.08429999649524689\n",
      "test scoore: 0.09309999644756317\t\ttrain scoore: 0.07129999995231628\n",
      "test scoore: 0.1088000014424324\t\ttrain scoore: 0.09640000015497208\n",
      "test scoore: 0.16189999878406525\t\ttrain scoore: 0.1671999990940094\n",
      "test scoore: 0.15719999372959137\t\ttrain scoore: 0.15690000355243683\n",
      "test scoore: 0.14180000126361847\t\ttrain scoore: 0.1290999948978424\n",
      "test scoore: 0.15080000460147858\t\ttrain scoore: 0.1468999981880188\n",
      "test scoore: 0.12849999964237213\t\ttrain scoore: 0.11219999939203262\n",
      "test scoore: 0.11869999766349792\t\ttrain scoore: 0.10379999876022339\n",
      "test scoore: 0.11980000138282776\t\ttrain scoore: 0.10859999805688858\n",
      "test scoore: 0.09149999916553497\t\ttrain scoore: 0.06870000064373016\n",
      "test scoore: 0.09799999743700027\t\ttrain scoore: 0.07859999686479568\n",
      "test scoore: 0.12479999661445618\t\ttrain scoore: 0.11469999700784683\n",
      "test scoore: 0.10989999771118164\t\ttrain scoore: 0.09470000118017197\n",
      "test scoore: 0.10130000114440918\t\ttrain scoore: 0.0778999999165535\n",
      "test scoore: 0.09629999846220016\t\ttrain scoore: 0.07429999858140945\n",
      "test scoore: 0.09600000083446503\t\ttrain scoore: 0.07680000364780426\n",
      "test scoore: 0.09139999747276306\t\ttrain scoore: 0.07119999825954437\n",
      "test scoore: 0.09139999747276306\t\ttrain scoore: 0.0689999982714653\n",
      "test scoore: 0.09070000052452087\t\ttrain scoore: 0.06809999793767929\n",
      "test scoore: 0.08910000324249268\t\ttrain scoore: 0.06669999659061432\n",
      "test scoore: 0.10000000149011612\t\ttrain scoore: 0.0746999979019165\n",
      "test scoore: 0.0957999974489212\t\ttrain scoore: 0.07840000092983246\n",
      "test scoore: 0.10369999706745148\t\ttrain scoore: 0.08470000326633453\n",
      "test scoore: 0.0989999994635582\t\ttrain scoore: 0.07750000059604645\n",
      "test scoore: 0.09740000218153\t\ttrain scoore: 0.07670000195503235\n",
      "test scoore: 0.13220000267028809\t\ttrain scoore: 0.11069999635219574\n",
      "test scoore: 0.1062999963760376\t\ttrain scoore: 0.08330000191926956\n",
      "test scoore: 0.09440000355243683\t\ttrain scoore: 0.0786999985575676\n",
      "test scoore: 0.09799999743700027\t\ttrain scoore: 0.07750000059604645\n",
      "test scoore: 0.09380000084638596\t\ttrain scoore: 0.07320000231266022\n",
      "test scoore: 0.094200000166893\t\ttrain scoore: 0.07050000131130219\n",
      "test scoore: 0.09300000220537186\t\ttrain scoore: 0.07159999758005142\n",
      "test scoore: 0.10980000346899033\t\ttrain scoore: 0.08669999986886978\n",
      "test scoore: 0.10899999737739563\t\ttrain scoore: 0.08789999783039093\n",
      "test scoore: 0.1468999981880188\t\ttrain scoore: 0.13519999384880066\n",
      "test scoore: 0.17990000545978546\t\ttrain scoore: 0.16820000112056732\n",
      "test scoore: 0.17599999904632568\t\ttrain scoore: 0.15880000591278076\n",
      "test scoore: 0.14550000429153442\t\ttrain scoore: 0.13210000097751617\n",
      "test scoore: 0.10970000177621841\t\ttrain scoore: 0.08609999716281891\n",
      "test scoore: 0.15449999272823334\t\ttrain scoore: 0.13519999384880066\n",
      "test scoore: 0.14219999313354492\t\ttrain scoore: 0.12919999659061432\n",
      "test scoore: 0.12110000103712082\t\ttrain scoore: 0.10100000351667404\n",
      "test scoore: 0.11050000041723251\t\ttrain scoore: 0.0957999974489212\n",
      "test scoore: 0.11550000309944153\t\ttrain scoore: 0.09650000184774399\n",
      "test scoore: 0.09629999846220016\t\ttrain scoore: 0.07620000094175339\n",
      "test scoore: 0.1111999973654747\t\ttrain scoore: 0.09640000015497208\n",
      "test scoore: 0.10050000250339508\t\ttrain scoore: 0.08049999922513962\n",
      "test scoore: 0.09009999781847\t\ttrain scoore: 0.06710000336170197\n",
      "test scoore: 0.09040000289678574\t\ttrain scoore: 0.06769999861717224\n",
      "test scoore: 0.09849999845027924\t\ttrain scoore: 0.07880000025033951\n",
      "test scoore: 0.10029999911785126\t\ttrain scoore: 0.07829999923706055\n"
     ]
    }
   ],
   "source": [
    "test_scoores = []\n",
    "train_scoores = []\n",
    "for i in range(300):\n",
    "    test_model = DeepPotential()\n",
    "    test_model.load_state_dict(torch.load(f'ModelCheckpoints/c7o2h10/epoch_{i}', map_location=lambda storage, loc: storage))\n",
    "    test_result = np.squeeze(backtransform(test_model(X_test), Y_min, Y_max).detach().numpy())\n",
    "    val_result = np.squeeze(backtransform(Y_test, Y_min, Y_max).detach().numpy())\n",
    "    test_scoore = np.mean(np.abs(test_result - val_result))\n",
    "    ids = np.random.randint(0, 400000, 10000)\n",
    "    test_result = np.squeeze(backtransform(test_model(X_train[ids]), Y_min, Y_max).detach().numpy())\n",
    "    val_result = np.squeeze(backtransform(Y_train[ids], Y_min, Y_max).detach().numpy())\n",
    "    train_scoore = np.mean(np.abs(test_result - val_result))\n",
    "    print('test scoore: {}\\t\\ttrain scoore: {}'.format(np.round(test_scoore, 4), np.round(train_scoore, 4)))\n",
    "    test_scoores.append(test_scoore)\n",
    "    train_scoores.append(train_scoore)"
   ]
  },
  {
   "cell_type": "code",
   "execution_count": 10,
   "metadata": {},
   "outputs": [
    {
     "data": {
      "text/plain": [
       "<matplotlib.legend.Legend at 0x7f43376ec128>"
      ]
     },
     "execution_count": 10,
     "metadata": {},
     "output_type": "execute_result"
    },
    {
     "data": {
      "image/png": "[encoded data removed]",
      "text/plain": [
       "<Figure size 432x288 with 1 Axes>"
      ]
     },
     "metadata": {},
     "output_type": "display_data"
    }
   ],
   "source": [
    "plt.plot(train_scoores, label='train')\n",
    "plt.plot(test_scoores, label='test')\n",
    "plt.legend()"
   ]
  },
  {
   "cell_type": "code",
   "execution_count": null,
   "metadata": {},
   "outputs": [],
   "source": [
    "test_result = np.squeeze(backtransform(test_model(X_train[-10000:]), Y_min, Y_max).detach().numpy())\n",
    "val_result = np.squeeze(backtransform(Y_train[-10000:], Y_min, Y_max).detach().numpy())\n",
    "scoore = np.mean(np.abs(test_result - val_result))"
   ]
  },
  {
   "cell_type": "code",
   "execution_count": null,
   "metadata": {},
   "outputs": [],
   "source": [
    "scoore"
   ]
  },
  {
   "cell_type": "code",
   "execution_count": null,
   "metadata": {},
   "outputs": [],
   "source": [
    "test_model.load_state_dict(torch.load(f'ModelCheckpoints/c7o2h10/epoch_{270}', map_location=lambda storage, loc: storage))\n",
    "test_result = np.squeeze(backtransform(test_model(X_test), Y_min, Y_max).detach().numpy())\n",
    "val_result = np.squeeze(backtransform(Y_test, Y_min, Y_max).detach().numpy())"
   ]
  },
  {
   "cell_type": "code",
   "execution_count": null,
   "metadata": {},
   "outputs": [],
   "source": [
    "test_result[:100]"
   ]
  },
  {
   "cell_type": "code",
   "execution_count": null,
   "metadata": {},
   "outputs": [],
   "source": [
    "val_result[:100]"
   ]
  },
  {
   "cell_type": "markdown",
   "metadata": {},
   "source": [
    "# Testing"
   ]
  },
  {
   "cell_type": "markdown",
   "metadata": {},
   "source": [
    "## Test normalize function:"
   ]
  },
  {
   "cell_type": "code",
   "execution_count": null,
   "metadata": {},
   "outputs": [],
   "source": [
    "Y_load = np.load(label_path) * -1\n",
    "Y_normed, Y_min, Y_max = normalize(Y_load)\n",
    "Y_back = backtransform(Y_normed, Y_min, Y_max)\n",
    "np.testing.assert_array_almost_equal(Y_back, Y_load)"
   ]
  }
 ],
 "metadata": {
  "kernelspec": {
   "display_name": "Python 3",
   "language": "python",
   "name": "python3"
  },
  "language_info": {
   "codemirror_mode": {
    "name": "ipython",
    "version": 3
   },
   "file_extension": ".py",
   "mimetype": "text/x-python",
   "name": "python",
   "nbconvert_exporter": "python",
   "pygments_lexer": "ipython3",
   "version": "3.6.5"
  }
 },
 "nbformat": 4,
 "nbformat_minor": 2
}
