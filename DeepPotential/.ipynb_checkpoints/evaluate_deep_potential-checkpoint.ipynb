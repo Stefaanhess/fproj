{
 "cells": [
  {
   "cell_type": "code",
   "execution_count": 1,
   "metadata": {
    "scrolled": true
   },
   "outputs": [],
   "source": [
    "import numpy as np\n",
    "from matplotlib import pyplot as plt\n",
    "import pandas as pd#\n",
    "%matplotlib inline\n",
    "import torch\n",
    "from torch.autograd import Variable\n",
    "import torch.nn as nn\n",
    "import torch.nn.functional as F\n",
    "import time"
   ]
  },
  {
   "cell_type": "code",
   "execution_count": 2,
   "metadata": {},
   "outputs": [],
   "source": [
    "from Code.Models.c7o2h10_model import DeepPotential, train, normalize, backtransform"
   ]
  },
  {
   "cell_type": "code",
   "execution_count": 3,
   "metadata": {},
   "outputs": [],
   "source": [
    "data_path = './Dataset/c7o2h10_X.npy'\n",
    "label_path = './Dataset/c7o2h10_Y.npy'\n",
    "train_ids_path = './Dataset/iso17/train_ids.txt'\n",
    "test_ids_path = './Dataset/iso17/validation_ids.txt'\n",
    "model_path = './ModelCheckpoints/c7o2h10/'"
   ]
  },
  {
   "cell_type": "code",
   "execution_count": 4,
   "metadata": {},
   "outputs": [
    {
     "name": "stdout",
     "output_type": "stream",
     "text": [
      "use cuda:   True\n"
     ]
    }
   ],
   "source": [
    "use_cuda = torch.cuda.is_available()\n",
    "print('use cuda:  ', use_cuda)"
   ]
  },
  {
   "cell_type": "markdown",
   "metadata": {},
   "source": [
    "# Read the Data"
   ]
  },
  {
   "cell_type": "code",
   "execution_count": 5,
   "metadata": {},
   "outputs": [],
   "source": [
    "train_ids = (np.loadtxt(train_ids_path) - 1).astype(int).tolist()\n",
    "test_ids = (np.loadtxt(test_ids_path) - 1).astype(int).tolist()"
   ]
  },
  {
   "cell_type": "code",
   "execution_count": 6,
   "metadata": {
    "scrolled": true
   },
   "outputs": [
    {
     "data": {
      "text/plain": [
       "(404000, 19, 72)"
      ]
     },
     "execution_count": 6,
     "metadata": {},
     "output_type": "execute_result"
    }
   ],
   "source": [
    "X_npy = np.load(data_path)\n",
    "Y_npy = np.load(label_path) * -1\n",
    "Y_npy, Y_min, Y_max = normalize(Y_npy)\n",
    "X_npy.shape"
   ]
  },
  {
   "cell_type": "markdown",
   "metadata": {},
   "source": [
    "### Split into test and train"
   ]
  },
  {
   "cell_type": "code",
   "execution_count": 7,
   "metadata": {},
   "outputs": [],
   "source": [
    "X_train_npy, X_test_npy = X_npy[train_ids], X_npy[test_ids]\n",
    "Y_train_npy, Y_test_npy = Y_npy[train_ids], Y_npy[test_ids]"
   ]
  },
  {
   "cell_type": "code",
   "execution_count": 8,
   "metadata": {},
   "outputs": [],
   "source": [
    "X_train = Variable(torch.Tensor(X_train_npy))\n",
    "Y_train = Variable(torch.Tensor(Y_train_npy), requires_grad=False)\n",
    "X_test = Variable(torch.Tensor(X_test_npy))\n",
    "Y_test = Variable(torch.Tensor(Y_test_npy), requires_grad=False)"
   ]
  },
  {
   "cell_type": "markdown",
   "metadata": {},
   "source": [
    "## Test Model"
   ]
  },
  {
   "cell_type": "code",
   "execution_count": 39,
   "metadata": {},
   "outputs": [
    {
     "name": "stdout",
     "output_type": "stream",
     "text": [
      "0:\ttest scoore:     0.2223\t\ttrain scoore:     0.2179\n",
      "1:\ttest scoore:     0.2067\t\ttrain scoore:     0.2076\n",
      "2:\ttest scoore:     0.1875\t\ttrain scoore:     0.1843\n",
      "3:\ttest scoore:     0.1786\t\ttrain scoore:     0.1788\n",
      "4:\ttest scoore:     0.1707\t\ttrain scoore:     0.1623\n",
      "5:\ttest scoore:     0.1654\t\ttrain scoore:     0.1569\n",
      "6:\ttest scoore:     0.1587\t\ttrain scoore:     0.1498\n",
      "7:\ttest scoore:     0.1501\t\ttrain scoore:     0.1405\n",
      "8:\ttest scoore:     0.1457\t\ttrain scoore:     0.1359\n",
      "9:\ttest scoore:     0.1443\t\ttrain scoore:     0.1316\n",
      "10:\ttest scoore:     0.1422\t\ttrain scoore:     0.1288\n",
      "11:\ttest scoore:     0.1349\t\ttrain scoore:     0.1228\n",
      "12:\ttest scoore:     0.1302\t\ttrain scoore:     0.1162\n",
      "13:\ttest scoore:     0.1284\t\ttrain scoore:     0.1128\n",
      "14:\ttest scoore:     0.1261\t\ttrain scoore:     0.1105\n",
      "15:\ttest scoore:     0.1334\t\ttrain scoore:     0.1152\n",
      "16:\ttest scoore:     0.1328\t\ttrain scoore:     0.1158\n",
      "17:\ttest scoore:     0.1429\t\ttrain scoore:     0.1252\n",
      "18:\ttest scoore:     0.1405\t\ttrain scoore:     0.1198\n",
      "19:\ttest scoore:     0.1370\t\ttrain scoore:     0.1197\n",
      "20:\ttest scoore:     0.1315\t\ttrain scoore:     0.1156\n",
      "21:\ttest scoore:     0.1271\t\ttrain scoore:     0.1100\n",
      "22:\ttest scoore:     0.1202\t\ttrain scoore:     0.1008\n",
      "23:\ttest scoore:     0.1171\t\ttrain scoore:     0.0980\n",
      "24:\ttest scoore:     0.1162\t\ttrain scoore:     0.0959\n",
      "25:\ttest scoore:     0.1165\t\ttrain scoore:     0.0957\n",
      "26:\ttest scoore:     0.1158\t\ttrain scoore:     0.0933\n",
      "27:\ttest scoore:     0.1154\t\ttrain scoore:     0.0935\n",
      "28:\ttest scoore:     0.1147\t\ttrain scoore:     0.0902\n",
      "29:\ttest scoore:     0.1153\t\ttrain scoore:     0.0916\n",
      "30:\ttest scoore:     0.1169\t\ttrain scoore:     0.0939\n",
      "31:\ttest scoore:     0.1178\t\ttrain scoore:     0.0913\n",
      "32:\ttest scoore:     0.1194\t\ttrain scoore:     0.0946\n",
      "33:\ttest scoore:     0.1207\t\ttrain scoore:     0.0961\n",
      "34:\ttest scoore:     0.1206\t\ttrain scoore:     0.0969\n",
      "35:\ttest scoore:     0.1223\t\ttrain scoore:     0.0965\n",
      "36:\ttest scoore:     0.1223\t\ttrain scoore:     0.0971\n",
      "not all files available\n"
     ]
    },
    {
     "data": {
      "text/plain": [
       "<matplotlib.legend.Legend at 0x7f9c5825cf60>"
      ]
     },
     "execution_count": 39,
     "metadata": {},
     "output_type": "execute_result"
    },
    {
     "data": {
      "image/png": "[encoded data removed]",
      "text/plain": [
       "<Figure size 432x288 with 1 Axes>"
      ]
     },
     "metadata": {},
     "output_type": "display_data"
    }
   ],
   "source": [
    "test_scoores = []\n",
    "train_scoores = []\n",
    "for i in range(300):\n",
    "    try:\n",
    "        test_model = DeepPotential()\n",
    "        test_model.load_state_dict(torch.load(f'ModelCheckpoints/c7o2h10/epoch_{i}', map_location=lambda storage, loc: storage))\n",
    "        test_result = np.squeeze(backtransform(test_model(X_test), Y_min, Y_max).detach().numpy())\n",
    "        val_result = np.squeeze(backtransform(Y_test, Y_min, Y_max).detach().numpy())\n",
    "        test_scoore = np.round(np.mean(np.abs(test_result - val_result)), 4)\n",
    "        ids = np.random.randint(0, 400000, 10000)\n",
    "        #ids = np.arange(0, 10000)*-1\n",
    "        test_result = np.squeeze(backtransform(test_model(X_train[ids]), Y_min, Y_max).detach().numpy())\n",
    "        val_result = np.squeeze(backtransform(Y_train[ids], Y_min, Y_max).detach().numpy())\n",
    "        train_scoore = np.round(np.mean(np.abs(test_result - val_result)), 4)\n",
    "        print('{}:\\ttest scoore: {:10.4f}\\t\\ttrain scoore: {:10.4f}'.format(i, test_scoore, train_scoore))\n",
    "        test_scoores.append(test_scoore)\n",
    "        train_scoores.append(train_scoore)\n",
    "    except:\n",
    "        print('not all files available')\n",
    "        break\n",
    "plt.plot(train_scoores, label='train')\n",
    "plt.plot(test_scoores, label='test')\n",
    "plt.legend()"
   ]
  },
  {
   "cell_type": "code",
   "execution_count": 35,
   "metadata": {},
   "outputs": [],
   "source": [
    "test_result = np.squeeze(backtransform(test_model(X_train[-10000:-128]), Y_min, Y_max).detach().numpy())\n",
    "val_result = np.squeeze(backtransform(Y_train[-10000:-128], Y_min, Y_max).detach().numpy())\n",
    "scoore = np.mean(np.abs(test_result - val_result))"
   ]
  },
  {
   "cell_type": "code",
   "execution_count": 31,
   "metadata": {},
   "outputs": [
    {
     "data": {
      "text/plain": [
       "5.50033"
      ]
     },
     "execution_count": 31,
     "metadata": {},
     "output_type": "execute_result"
    }
   ],
   "source": [
    "scoore"
   ]
  },
  {
   "cell_type": "code",
   "execution_count": null,
   "metadata": {},
   "outputs": [],
   "source": [
    "test_model.load_state_dict(torch.load(f'ModelCheckpoints/c7o2h10/epoch_{270}', map_location=lambda storage, loc: storage))\n",
    "test_result = np.squeeze(backtransform(test_model(X_test), Y_min, Y_max).detach().numpy())\n",
    "val_result = np.squeeze(backtransform(Y_test, Y_min, Y_max).detach().numpy())"
   ]
  },
  {
   "cell_type": "code",
   "execution_count": null,
   "metadata": {},
   "outputs": [],
   "source": [
    "test_result[:100]"
   ]
  },
  {
   "cell_type": "code",
   "execution_count": null,
   "metadata": {},
   "outputs": [],
   "source": [
    "val_result[:100]"
   ]
  },
  {
   "cell_type": "markdown",
   "metadata": {},
   "source": [
    "# Testing"
   ]
  },
  {
   "cell_type": "markdown",
   "metadata": {},
   "source": [
    "## Test normalize function:"
   ]
  },
  {
   "cell_type": "code",
   "execution_count": null,
   "metadata": {},
   "outputs": [],
   "source": [
    "Y_load = np.load(label_path) * -1\n",
    "Y_normed, Y_min, Y_max = normalize(Y_load)\n",
    "Y_back = backtransform(Y_normed, Y_min, Y_max)\n",
    "np.testing.assert_array_almost_equal(Y_back, Y_load)"
   ]
  },
  {
   "cell_type": "code",
   "execution_count": 10,
   "metadata": {},
   "outputs": [],
   "source": [
    "x = np.arange(0, 9).reshape(3, 3)"
   ]
  },
  {
   "cell_type": "code",
   "execution_count": 11,
   "metadata": {},
   "outputs": [
    {
     "data": {
      "text/plain": [
       "array([[0, 1, 2],\n",
       "       [3, 4, 5],\n",
       "       [6, 7, 8]])"
      ]
     },
     "execution_count": 11,
     "metadata": {},
     "output_type": "execute_result"
    }
   ],
   "source": [
    "x"
   ]
  },
  {
   "cell_type": "code",
   "execution_count": 12,
   "metadata": {},
   "outputs": [
    {
     "data": {
      "text/plain": [
       "array([1, 2, 0])"
      ]
     },
     "execution_count": 12,
     "metadata": {},
     "output_type": "execute_result"
    }
   ],
   "source": [
    "shuffle = np.arange(0, 3)\n",
    "np.random.shuffle(shuffle)\n",
    "shuffle"
   ]
  },
  {
   "cell_type": "code",
   "execution_count": 13,
   "metadata": {},
   "outputs": [
    {
     "data": {
      "text/plain": [
       "array([[3, 4, 5],\n",
       "       [6, 7, 8],\n",
       "       [0, 1, 2]])"
      ]
     },
     "execution_count": 13,
     "metadata": {},
     "output_type": "execute_result"
    }
   ],
   "source": [
    "x[shuffle]"
   ]
  },
  {
   "cell_type": "code",
   "execution_count": null,
   "metadata": {},
   "outputs": [],
   "source": []
  }
 ],
 "metadata": {
  "kernelspec": {
   "display_name": "Python 3",
   "language": "python",
   "name": "python3"
  },
  "language_info": {
   "codemirror_mode": {
    "name": "ipython",
    "version": 3
   },
   "file_extension": ".py",
   "mimetype": "text/x-python",
   "name": "python",
   "nbconvert_exporter": "python",
   "pygments_lexer": "ipython3",
   "version": "3.6.5"
  }
 },
 "nbformat": 4,
 "nbformat_minor": 2
}
