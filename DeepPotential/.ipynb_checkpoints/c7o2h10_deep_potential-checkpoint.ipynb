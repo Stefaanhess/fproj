{
 "cells": [
  {
   "cell_type": "markdown",
   "metadata": {},
   "source": [
    "# Imports,  Settings and Paths"
   ]
  },
  {
   "cell_type": "code",
   "execution_count": 1,
   "metadata": {},
   "outputs": [],
   "source": [
    "comment = 'new_arch'"
   ]
  },
  {
   "cell_type": "code",
   "execution_count": 2,
   "metadata": {
    "scrolled": true
   },
   "outputs": [],
   "source": [
    "import numpy as np\n",
    "from matplotlib import pyplot as plt\n",
    "%matplotlib inline\n",
    "import torch"
   ]
  },
  {
   "cell_type": "code",
   "execution_count": 3,
   "metadata": {},
   "outputs": [],
   "source": [
    "from Code.Models.nn_extentions import AbcExponentialLR"
   ]
  },
  {
   "cell_type": "code",
   "execution_count": 4,
   "metadata": {},
   "outputs": [],
   "source": [
    "data_path = './Dataset/c7o2h10_X.npy'\n",
    "label_path = './Dataset/c7o2h10_Y.npy'\n",
    "train_ids_path = './Dataset/iso17/train_ids.txt'\n",
    "test_ids_path = './Dataset/iso17/validation_ids.txt'\n",
    "model_path = './ModelCheckpoints/c7o2h10/{}/'.format(comment)"
   ]
  },
  {
   "cell_type": "code",
   "execution_count": 5,
   "metadata": {},
   "outputs": [],
   "source": [
    "train_ids = (np.loadtxt(train_ids_path) - 1).astype(int).tolist()\n",
    "test_ids = (np.loadtxt(test_ids_path) - 1).astype(int).tolist()"
   ]
  },
  {
   "cell_type": "code",
   "execution_count": 6,
   "metadata": {},
   "outputs": [
    {
     "name": "stdout",
     "output_type": "stream",
     "text": [
      "use cuda:   True\n"
     ]
    }
   ],
   "source": [
    "use_cuda = torch.cuda.is_available()\n",
    "print('use cuda:  ', use_cuda)"
   ]
  },
  {
   "cell_type": "markdown",
   "metadata": {},
   "source": [
    "# Read the Data"
   ]
  },
  {
   "cell_type": "code",
   "execution_count": 7,
   "metadata": {},
   "outputs": [],
   "source": [
    "X_npy = np.load(data_path)\n",
    "Y_npy = np.load(label_path) * -1"
   ]
  },
  {
   "cell_type": "markdown",
   "metadata": {},
   "source": [
    "### Normalize Y Data"
   ]
  },
  {
   "cell_type": "code",
   "execution_count": 8,
   "metadata": {
    "scrolled": true
   },
   "outputs": [
    {
     "data": {
      "text/plain": [
       "(404000, 19, 72)"
      ]
     },
     "execution_count": 8,
     "metadata": {},
     "output_type": "execute_result"
    }
   ],
   "source": [
    "Y_npy, Y_min, Y_max = normalize(Y_npy)\n",
    "X_npy.shape"
   ]
  },
  {
   "cell_type": "markdown",
   "metadata": {},
   "source": [
    "### Standardize X Data"
   ]
  },
  {
   "cell_type": "code",
   "execution_count": 9,
   "metadata": {},
   "outputs": [],
   "source": [
    "for column in range(X_npy.shape[-1]):\n",
    "    col_mean = X_npy[:, :, column].mean()\n",
    "    col_std = X_npy[:, :, column].std()\n",
    "    X_npy[:, :, column] = (X_npy[:, :, column] - col_mean) / col_std"
   ]
  },
  {
   "cell_type": "markdown",
   "metadata": {},
   "source": [
    "**test if mean is small:**"
   ]
  },
  {
   "cell_type": "code",
   "execution_count": 10,
   "metadata": {},
   "outputs": [
    {
     "data": {
      "text/plain": [
       "-8.620739233346562e-15"
      ]
     },
     "execution_count": 10,
     "metadata": {},
     "output_type": "execute_result"
    }
   ],
   "source": [
    "X_npy[:, :, 0].mean()#, X_npy.std(axis=2)"
   ]
  },
  {
   "cell_type": "markdown",
   "metadata": {},
   "source": [
    "**test if std is nearly 1:**"
   ]
  },
  {
   "cell_type": "code",
   "execution_count": 20,
   "metadata": {},
   "outputs": [
    {
     "data": {
      "text/plain": [
       "0.9999999999999996"
      ]
     },
     "execution_count": 20,
     "metadata": {},
     "output_type": "execute_result"
    }
   ],
   "source": [
    "X_npy[:, :, 0].std()"
   ]
  },
  {
   "cell_type": "markdown",
   "metadata": {},
   "source": [
    "### Check for NaN values"
   ]
  },
  {
   "cell_type": "code",
   "execution_count": 11,
   "metadata": {
    "scrolled": true
   },
   "outputs": [
    {
     "name": "stdout",
     "output_type": "stream",
     "text": [
      "0 Datapoints with NaN values found.\n"
     ]
    }
   ],
   "source": [
    "use_ids = np.where(np.isnan(X_npy).sum(axis=2).sum(axis=1)==0)\n",
    "print('{} Datapoints with NaN values found.'.format(X_npy.shape[0] - len(use_ids[0])))"
   ]
  },
  {
   "cell_type": "code",
   "execution_count": 12,
   "metadata": {
    "scrolled": true
   },
   "outputs": [
    {
     "data": {
      "text/plain": [
       "(404000, 19, 72)"
      ]
     },
     "execution_count": 12,
     "metadata": {},
     "output_type": "execute_result"
    }
   ],
   "source": [
    "X_npy = X_npy[use_ids]\n",
    "Y_npy = Y_npy[use_ids]\n",
    "X_npy.shape"
   ]
  },
  {
   "cell_type": "code",
   "execution_count": 13,
   "metadata": {},
   "outputs": [],
   "source": [
    "X_npy = X_npy\n",
    "Y_npy = Y_npy"
   ]
  },
  {
   "cell_type": "markdown",
   "metadata": {},
   "source": [
    "### Split into test and train"
   ]
  },
  {
   "cell_type": "code",
   "execution_count": 14,
   "metadata": {},
   "outputs": [
    {
     "name": "stdout",
     "output_type": "stream",
     "text": [
      "X Train shape: (400000, 19, 72)\tX Test shape: (4000, 19, 72)\n",
      "Y Train shape: (400000,)\tY Test shape: (4000,)\n"
     ]
    }
   ],
   "source": [
    "X_train_npy, X_test_npy = X_npy[train_ids], X_npy[test_ids]\n",
    "Y_train_npy, Y_test_npy = Y_npy[train_ids], Y_npy[test_ids]\n",
    "print('X Train shape: {}\\tX Test shape: {}\\nY Train shape: {}\\tY Test shape: {}'.format(X_train_npy.shape,\n",
    "                                                                                        X_test_npy.shape,\n",
    "                                                                                        Y_train_npy.shape,\n",
    "                                                                                        Y_test_npy.shape))"
   ]
  },
  {
   "cell_type": "markdown",
   "metadata": {},
   "source": [
    "### Shuffle the Dataset"
   ]
  },
  {
   "cell_type": "code",
   "execution_count": 15,
   "metadata": {},
   "outputs": [],
   "source": [
    "#shuffle = np.arange(X_train_npy.shape[0])\n",
    "#np.random.shuffle(shuffle)\n",
    "#X_train_npy = X_train_npy[shuffle]\n",
    "#Y_train_npy = Y_train_npy[shuffle]"
   ]
  },
  {
   "cell_type": "markdown",
   "metadata": {},
   "source": [
    "### Create Pytorch Variables"
   ]
  },
  {
   "cell_type": "code",
   "execution_count": 16,
   "metadata": {
    "scrolled": true
   },
   "outputs": [
    {
     "name": "stderr",
     "output_type": "stream",
     "text": [
      "/home/mi/stefaah94/miniconda3/lib/python3.6/site-packages/torch/cuda/__init__.py:116: UserWarning: \n",
      "    Found GPU1 NVS 310 which is of cuda capability 2.1.\n",
      "    PyTorch no longer supports this GPU because it is too old.\n",
      "    \n",
      "  warnings.warn(old_gpu_warn % (d, name, major, capability[1]))\n"
     ]
    }
   ],
   "source": [
    "if use_cuda:\n",
    "    X_train = Variable(torch.Tensor(X_train_npy).cuda())\n",
    "    Y_train = Variable(torch.Tensor(Y_train_npy).cuda(), requires_grad=False)\n",
    "    X_test = Variable(torch.Tensor(X_test_npy).cuda())\n",
    "    Y_test = Variable(torch.Tensor(Y_test_npy).cuda(), requires_grad=False)\n",
    "else:\n",
    "    X_train = Variable(torch.Tensor(X_train_npy))\n",
    "    Y_train = Variable(torch.Tensor(Y_train_npy), requires_grad=False)\n",
    "    X_test = Variable(torch.Tensor(X_test_npy))\n",
    "    Y_test = Variable(torch.Tensor(Y_test_npy), requires_grad=False)"
   ]
  },
  {
   "cell_type": "markdown",
   "metadata": {},
   "source": [
    "# Train Model"
   ]
  },
  {
   "cell_type": "markdown",
   "metadata": {},
   "source": [
    "## Do the learning"
   ]
  },
  {
   "cell_type": "code",
   "execution_count": null,
   "metadata": {
    "scrolled": true
   },
   "outputs": [
    {
     "name": "stdout",
     "output_type": "stream",
     "text": [
      "total: 0.0 %\tcurrent epoch: 3.2 %\tloss: 0.017313\ttime estimate: 436.9 min\n",
      "total: 0.0 %\tcurrent epoch: 6.4 %\tloss: 0.004776\ttime estimate: 433.2 min\n",
      "total: 0.0 %\tcurrent epoch: 9.6 %\tloss: 0.00379\ttime estimate: 432.2 min\n",
      "total: 0.0 %\tcurrent epoch: 12.8 %\tloss: 0.003314\ttime estimate: 431.5 min\n",
      "total: 0.1 %\tcurrent epoch: 16.0 %\tloss: 0.002891\ttime estimate: 431.0 min\n",
      "total: 0.1 %\tcurrent epoch: 19.2 %\tloss: 0.00258\ttime estimate: 431.0 min\n",
      "total: 0.1 %\tcurrent epoch: 22.4 %\tloss: 0.002535\ttime estimate: 430.8 min\n",
      "total: 0.1 %\tcurrent epoch: 25.6 %\tloss: 0.002463\ttime estimate: 430.8 min\n",
      "total: 0.1 %\tcurrent epoch: 28.8 %\tloss: 0.002284\ttime estimate: 431.0 min\n",
      "total: 0.1 %\tcurrent epoch: 32.0 %\tloss: 0.002205\ttime estimate: 430.8 min\n",
      "total: 0.1 %\tcurrent epoch: 35.2 %\tloss: 0.002059\ttime estimate: 430.8 min\n",
      "total: 0.1 %\tcurrent epoch: 38.4 %\tloss: 0.002218\ttime estimate: 430.6 min\n",
      "total: 0.1 %\tcurrent epoch: 41.6 %\tloss: 0.002075\ttime estimate: 430.6 min\n",
      "total: 0.1 %\tcurrent epoch: 44.8 %\tloss: 0.002108\ttime estimate: 430.7 min\n",
      "total: 0.2 %\tcurrent epoch: 48.0 %\tloss: 0.001874\ttime estimate: 430.8 min\n",
      "total: 0.2 %\tcurrent epoch: 51.2 %\tloss: 0.00203\ttime estimate: 437.3 min\n",
      "total: 0.2 %\tcurrent epoch: 54.4 %\tloss: 0.002117\ttime estimate: 450.5 min\n",
      "total: 0.2 %\tcurrent epoch: 57.6 %\tloss: 0.001845\ttime estimate: 461.7 min\n",
      "total: 0.2 %\tcurrent epoch: 60.8 %\tloss: 0.001901\ttime estimate: 473.2 min\n",
      "total: 0.2 %\tcurrent epoch: 64.0 %\tloss: 0.00167\ttime estimate: 483.1 min\n",
      "total: 0.2 %\tcurrent epoch: 67.2 %\tloss: 0.001726\ttime estimate: 491.6 min\n",
      "total: 0.2 %\tcurrent epoch: 70.4 %\tloss: 0.001786\ttime estimate: 499.2 min\n",
      "total: 0.2 %\tcurrent epoch: 73.6 %\tloss: 0.001644\ttime estimate: 506.1 min\n",
      "total: 0.3 %\tcurrent epoch: 76.8 %\tloss: 0.001668\ttime estimate: 512.7 min\n",
      "total: 0.3 %\tcurrent epoch: 80.0 %\tloss: 0.001893\ttime estimate: 518.9 min\n",
      "total: 0.3 %\tcurrent epoch: 83.2 %\tloss: 0.002644\ttime estimate: 516.6 min\n",
      "total: 0.3 %\tcurrent epoch: 86.4 %\tloss: 0.002238\ttime estimate: 519.0 min\n",
      "total: 0.3 %\tcurrent epoch: 89.6 %\tloss: 0.001823\ttime estimate: 523.9 min\n",
      "total: 0.3 %\tcurrent epoch: 92.8 %\tloss: 0.001629\ttime estimate: 528.1 min\n",
      "total: 0.3 %\tcurrent epoch: 96.0 %\tloss: 0.001738\ttime estimate: 532.7 min\n",
      "total: 0.3 %\tcurrent epoch: 99.2 %\tloss: 0.001583\ttime estimate: 536.8 min\n",
      "saved checkpoint at: ./ModelCheckpoints/c7o2h10/stdX_bn_shuffle_adam_abc/epoch_0\n",
      "\n",
      "total: 0.3 %\tcurrent epoch: 3.2 %\tloss: 0.001864\ttime estimate: 549.2 min\n",
      "total: 0.4 %\tcurrent epoch: 6.4 %\tloss: 0.001553\ttime estimate: 552.5 min\n",
      "total: 0.4 %\tcurrent epoch: 9.6 %\tloss: 0.001934\ttime estimate: 555.9 min\n",
      "total: 0.4 %\tcurrent epoch: 12.8 %\tloss: 0.001803\ttime estimate: 558.6 min\n",
      "total: 0.4 %\tcurrent epoch: 16.0 %\tloss: 0.001717\ttime estimate: 561.2 min\n",
      "total: 0.4 %\tcurrent epoch: 19.2 %\tloss: 0.001464\ttime estimate: 564.0 min\n",
      "total: 0.4 %\tcurrent epoch: 22.4 %\tloss: 0.001432\ttime estimate: 566.5 min\n",
      "total: 0.4 %\tcurrent epoch: 25.6 %\tloss: 0.001408\ttime estimate: 568.8 min\n",
      "total: 0.4 %\tcurrent epoch: 28.8 %\tloss: 0.001442\ttime estimate: 570.9 min\n",
      "total: 0.4 %\tcurrent epoch: 32.0 %\tloss: 0.001488\ttime estimate: 572.7 min\n",
      "total: 0.5 %\tcurrent epoch: 35.2 %\tloss: 0.001473\ttime estimate: 574.8 min\n",
      "total: 0.5 %\tcurrent epoch: 38.4 %\tloss: 0.001367\ttime estimate: 571.5 min\n",
      "total: 0.5 %\tcurrent epoch: 41.6 %\tloss: 0.001776\ttime estimate: 568.3 min\n",
      "total: 0.5 %\tcurrent epoch: 44.8 %\tloss: 0.001415\ttime estimate: 565.2 min\n",
      "total: 0.5 %\tcurrent epoch: 48.0 %\tloss: 0.001385\ttime estimate: 562.3 min\n",
      "total: 0.5 %\tcurrent epoch: 51.2 %\tloss: 0.001736\ttime estimate: 559.5 min\n",
      "total: 0.5 %\tcurrent epoch: 54.4 %\tloss: 0.001699\ttime estimate: 556.8 min\n",
      "total: 0.5 %\tcurrent epoch: 57.6 %\tloss: 0.001434\ttime estimate: 554.2 min\n",
      "total: 0.5 %\tcurrent epoch: 60.8 %\tloss: 0.001573\ttime estimate: 551.7 min\n",
      "total: 0.5 %\tcurrent epoch: 64.0 %\tloss: 0.001642\ttime estimate: 549.3 min\n",
      "total: 0.6 %\tcurrent epoch: 67.2 %\tloss: 0.001494\ttime estimate: 547.0 min\n",
      "total: 0.6 %\tcurrent epoch: 70.4 %\tloss: 0.001465\ttime estimate: 544.8 min\n",
      "total: 0.6 %\tcurrent epoch: 73.6 %\tloss: 0.001374\ttime estimate: 542.7 min\n",
      "total: 0.6 %\tcurrent epoch: 76.8 %\tloss: 0.001773\ttime estimate: 540.6 min\n",
      "total: 0.6 %\tcurrent epoch: 80.0 %\tloss: 0.001458\ttime estimate: 538.6 min\n",
      "total: 0.6 %\tcurrent epoch: 83.2 %\tloss: 0.001384\ttime estimate: 536.7 min\n",
      "total: 0.6 %\tcurrent epoch: 86.4 %\tloss: 0.001457\ttime estimate: 534.9 min\n",
      "total: 0.6 %\tcurrent epoch: 89.6 %\tloss: 0.001703\ttime estimate: 533.1 min\n",
      "total: 0.6 %\tcurrent epoch: 92.8 %\tloss: 0.001628\ttime estimate: 531.3 min\n",
      "total: 0.7 %\tcurrent epoch: 96.0 %\tloss: 0.001588\ttime estimate: 529.7 min\n",
      "total: 0.7 %\tcurrent epoch: 99.2 %\tloss: 0.001389\ttime estimate: 528.0 min\n",
      "saved checkpoint at: ./ModelCheckpoints/c7o2h10/stdX_bn_shuffle_adam_abc/epoch_1\n",
      "\n",
      "total: 0.7 %\tcurrent epoch: 3.2 %\tloss: 0.00157\ttime estimate: 526.2 min\n",
      "total: 0.7 %\tcurrent epoch: 6.4 %\tloss: 0.001346\ttime estimate: 524.7 min\n",
      "total: 0.7 %\tcurrent epoch: 9.6 %\tloss: 0.001463\ttime estimate: 523.2 min\n",
      "total: 0.7 %\tcurrent epoch: 12.8 %\tloss: 0.00124\ttime estimate: 524.4 min\n",
      "total: 0.7 %\tcurrent epoch: 16.0 %\tloss: 0.001392\ttime estimate: 526.3 min\n",
      "total: 0.7 %\tcurrent epoch: 19.2 %\tloss: 0.00132\ttime estimate: 528.2 min\n",
      "total: 0.7 %\tcurrent epoch: 22.4 %\tloss: 0.001445\ttime estimate: 529.9 min\n",
      "total: 0.8 %\tcurrent epoch: 25.6 %\tloss: 0.001263\ttime estimate: 531.7 min\n",
      "total: 0.8 %\tcurrent epoch: 28.8 %\tloss: 0.00132\ttime estimate: 533.5 min\n",
      "total: 0.8 %\tcurrent epoch: 32.0 %\tloss: 0.001317\ttime estimate: 535.1 min\n",
      "total: 0.8 %\tcurrent epoch: 35.2 %\tloss: 0.00132\ttime estimate: 536.9 min\n",
      "total: 0.8 %\tcurrent epoch: 38.4 %\tloss: 0.001453\ttime estimate: 538.4 min\n",
      "total: 0.8 %\tcurrent epoch: 41.6 %\tloss: 0.001245\ttime estimate: 540.3 min\n",
      "total: 0.8 %\tcurrent epoch: 44.8 %\tloss: 0.00132\ttime estimate: 541.9 min\n",
      "total: 0.8 %\tcurrent epoch: 48.0 %\tloss: 0.00165\ttime estimate: 543.4 min\n",
      "total: 0.8 %\tcurrent epoch: 51.2 %\tloss: 0.001374\ttime estimate: 544.8 min\n",
      "total: 0.8 %\tcurrent epoch: 54.4 %\tloss: 0.001436\ttime estimate: 546.0 min\n",
      "total: 0.9 %\tcurrent epoch: 57.6 %\tloss: 0.001313\ttime estimate: 547.5 min\n",
      "total: 0.9 %\tcurrent epoch: 60.8 %\tloss: 0.001395\ttime estimate: 548.8 min\n",
      "total: 0.9 %\tcurrent epoch: 64.0 %\tloss: 0.00153\ttime estimate: 550.1 min\n",
      "total: 0.9 %\tcurrent epoch: 67.2 %\tloss: 0.001373\ttime estimate: 551.3 min\n",
      "total: 0.9 %\tcurrent epoch: 70.4 %\tloss: 0.001381\ttime estimate: 552.5 min\n",
      "total: 0.9 %\tcurrent epoch: 73.6 %\tloss: 0.001367\ttime estimate: 553.4 min\n",
      "total: 0.9 %\tcurrent epoch: 76.8 %\tloss: 0.001494\ttime estimate: 554.8 min\n",
      "total: 0.9 %\tcurrent epoch: 80.0 %\tloss: 0.001329\ttime estimate: 555.9 min\n",
      "total: 0.9 %\tcurrent epoch: 83.2 %\tloss: 0.001231\ttime estimate: 556.9 min\n",
      "total: 1.0 %\tcurrent epoch: 86.4 %\tloss: 0.001492\ttime estimate: 558.0 min\n",
      "total: 1.0 %\tcurrent epoch: 89.6 %\tloss: 0.001371\ttime estimate: 559.0 min\n",
      "total: 1.0 %\tcurrent epoch: 92.8 %\tloss: 0.001159\ttime estimate: 560.0 min\n",
      "total: 1.0 %\tcurrent epoch: 96.0 %\tloss: 0.001153\ttime estimate: 561.0 min\n",
      "total: 1.0 %\tcurrent epoch: 99.2 %\tloss: 0.001193\ttime estimate: 562.0 min\n",
      "saved checkpoint at: ./ModelCheckpoints/c7o2h10/stdX_bn_shuffle_adam_abc/epoch_2\n",
      "\n",
      "total: 1.0 %\tcurrent epoch: 3.2 %\tloss: 0.001345\ttime estimate: 563.3 min\n",
      "total: 1.0 %\tcurrent epoch: 6.4 %\tloss: 0.001329\ttime estimate: 564.1 min\n",
      "total: 1.0 %\tcurrent epoch: 9.6 %\tloss: 0.001441\ttime estimate: 565.0 min\n",
      "total: 1.0 %\tcurrent epoch: 12.8 %\tloss: 0.001281\ttime estimate: 565.8 min\n",
      "total: 1.1 %\tcurrent epoch: 16.0 %\tloss: 0.001447\ttime estimate: 566.7 min\n",
      "total: 1.1 %\tcurrent epoch: 19.2 %\tloss: 0.001192\ttime estimate: 567.6 min\n",
      "total: 1.1 %\tcurrent epoch: 22.4 %\tloss: 0.0014\ttime estimate: 568.5 min\n",
      "total: 1.1 %\tcurrent epoch: 25.6 %\tloss: 0.001276\ttime estimate: 569.5 min\n",
      "total: 1.1 %\tcurrent epoch: 28.8 %\tloss: 0.001479\ttime estimate: 570.2 min\n",
      "total: 1.1 %\tcurrent epoch: 32.0 %\tloss: 0.001117\ttime estimate: 571.0 min\n",
      "total: 1.1 %\tcurrent epoch: 35.2 %\tloss: 0.00127\ttime estimate: 571.8 min\n",
      "total: 1.1 %\tcurrent epoch: 38.4 %\tloss: 0.001342\ttime estimate: 572.4 min\n",
      "total: 1.1 %\tcurrent epoch: 41.6 %\tloss: 0.001454\ttime estimate: 573.0 min\n",
      "total: 1.1 %\tcurrent epoch: 44.8 %\tloss: 0.00116\ttime estimate: 573.7 min\n"
     ]
    },
    {
     "name": "stdout",
     "output_type": "stream",
     "text": [
      "total: 1.2 %\tcurrent epoch: 48.0 %\tloss: 0.001363\ttime estimate: 574.5 min\n",
      "total: 1.2 %\tcurrent epoch: 51.2 %\tloss: 0.001102\ttime estimate: 575.2 min\n",
      "total: 1.2 %\tcurrent epoch: 54.4 %\tloss: 0.001217\ttime estimate: 575.9 min\n",
      "total: 1.2 %\tcurrent epoch: 57.6 %\tloss: 0.001188\ttime estimate: 576.5 min\n",
      "total: 1.2 %\tcurrent epoch: 60.8 %\tloss: 0.001399\ttime estimate: 577.2 min\n",
      "total: 1.2 %\tcurrent epoch: 64.0 %\tloss: 0.001138\ttime estimate: 577.7 min\n",
      "total: 1.2 %\tcurrent epoch: 67.2 %\tloss: 0.001093\ttime estimate: 578.4 min\n",
      "total: 1.2 %\tcurrent epoch: 70.4 %\tloss: 0.001197\ttime estimate: 579.1 min\n",
      "total: 1.2 %\tcurrent epoch: 73.6 %\tloss: 0.001099\ttime estimate: 579.7 min\n",
      "total: 1.3 %\tcurrent epoch: 76.8 %\tloss: 0.001222\ttime estimate: 580.2 min\n",
      "total: 1.3 %\tcurrent epoch: 80.0 %\tloss: 0.001365\ttime estimate: 580.7 min\n",
      "total: 1.3 %\tcurrent epoch: 83.2 %\tloss: 0.001271\ttime estimate: 581.2 min\n",
      "total: 1.3 %\tcurrent epoch: 86.4 %\tloss: 0.001192\ttime estimate: 581.7 min\n",
      "total: 1.3 %\tcurrent epoch: 89.6 %\tloss: 0.001393\ttime estimate: 582.2 min\n",
      "total: 1.3 %\tcurrent epoch: 92.8 %\tloss: 0.001298\ttime estimate: 582.8 min\n",
      "total: 1.3 %\tcurrent epoch: 96.0 %\tloss: 0.001128\ttime estimate: 583.3 min\n",
      "total: 1.3 %\tcurrent epoch: 99.2 %\tloss: 0.001262\ttime estimate: 583.8 min\n",
      "saved checkpoint at: ./ModelCheckpoints/c7o2h10/stdX_bn_shuffle_adam_abc/epoch_3\n",
      "\n",
      "total: 1.3 %\tcurrent epoch: 3.2 %\tloss: 0.0012\ttime estimate: 584.4 min\n",
      "total: 1.4 %\tcurrent epoch: 6.4 %\tloss: 0.001109\ttime estimate: 584.8 min\n",
      "total: 1.4 %\tcurrent epoch: 9.6 %\tloss: 0.001191\ttime estimate: 585.1 min\n",
      "total: 1.4 %\tcurrent epoch: 12.8 %\tloss: 0.00115\ttime estimate: 585.7 min\n",
      "total: 1.4 %\tcurrent epoch: 16.0 %\tloss: 0.001142\ttime estimate: 586.2 min\n",
      "total: 1.4 %\tcurrent epoch: 19.2 %\tloss: 0.00145\ttime estimate: 586.6 min\n",
      "total: 1.4 %\tcurrent epoch: 22.4 %\tloss: 0.001064\ttime estimate: 587.1 min\n",
      "total: 1.4 %\tcurrent epoch: 25.6 %\tloss: 0.001021\ttime estimate: 587.6 min\n",
      "total: 1.4 %\tcurrent epoch: 28.8 %\tloss: 0.001254\ttime estimate: 588.0 min\n",
      "total: 1.4 %\tcurrent epoch: 32.0 %\tloss: 0.00128\ttime estimate: 588.3 min\n",
      "total: 1.5 %\tcurrent epoch: 35.2 %\tloss: 0.001132\ttime estimate: 588.8 min\n",
      "total: 1.5 %\tcurrent epoch: 38.4 %\tloss: 0.001199\ttime estimate: 589.1 min\n",
      "total: 1.5 %\tcurrent epoch: 41.6 %\tloss: 0.001101\ttime estimate: 589.5 min\n",
      "total: 1.5 %\tcurrent epoch: 44.8 %\tloss: 0.001233\ttime estimate: 590.0 min\n",
      "total: 1.5 %\tcurrent epoch: 48.0 %\tloss: 0.001128\ttime estimate: 590.3 min\n",
      "total: 1.5 %\tcurrent epoch: 51.2 %\tloss: 0.001196\ttime estimate: 590.7 min\n",
      "total: 1.5 %\tcurrent epoch: 54.4 %\tloss: 0.001026\ttime estimate: 591.1 min\n",
      "total: 1.5 %\tcurrent epoch: 57.6 %\tloss: 0.001188\ttime estimate: 591.5 min\n",
      "total: 1.5 %\tcurrent epoch: 60.8 %\tloss: 0.001347\ttime estimate: 591.9 min\n",
      "total: 1.5 %\tcurrent epoch: 64.0 %\tloss: 0.001106\ttime estimate: 592.3 min\n",
      "total: 1.6 %\tcurrent epoch: 67.2 %\tloss: 0.001115\ttime estimate: 592.6 min\n",
      "total: 1.6 %\tcurrent epoch: 70.4 %\tloss: 0.001004\ttime estimate: 593.0 min\n",
      "total: 1.6 %\tcurrent epoch: 73.6 %\tloss: 0.001151\ttime estimate: 593.4 min\n",
      "total: 1.6 %\tcurrent epoch: 76.8 %\tloss: 0.00114\ttime estimate: 593.9 min\n",
      "total: 1.6 %\tcurrent epoch: 80.0 %\tloss: 0.001222\ttime estimate: 594.2 min\n",
      "total: 1.6 %\tcurrent epoch: 83.2 %\tloss: 0.001268\ttime estimate: 594.5 min\n",
      "total: 1.6 %\tcurrent epoch: 86.4 %\tloss: 0.001145\ttime estimate: 594.8 min\n",
      "total: 1.6 %\tcurrent epoch: 89.6 %\tloss: 0.001197\ttime estimate: 595.2 min\n",
      "total: 1.6 %\tcurrent epoch: 92.8 %\tloss: 0.001198\ttime estimate: 595.5 min\n",
      "total: 1.7 %\tcurrent epoch: 96.0 %\tloss: 0.001494\ttime estimate: 595.8 min\n",
      "total: 1.7 %\tcurrent epoch: 99.2 %\tloss: 0.00125\ttime estimate: 595.9 min\n",
      "saved checkpoint at: ./ModelCheckpoints/c7o2h10/stdX_bn_shuffle_adam_abc/epoch_4\n",
      "\n",
      "total: 1.7 %\tcurrent epoch: 3.2 %\tloss: 0.001117\ttime estimate: 596.3 min\n",
      "total: 1.7 %\tcurrent epoch: 6.4 %\tloss: 0.001149\ttime estimate: 596.5 min\n",
      "total: 1.7 %\tcurrent epoch: 9.6 %\tloss: 0.001067\ttime estimate: 596.7 min\n",
      "total: 1.7 %\tcurrent epoch: 12.8 %\tloss: 0.001002\ttime estimate: 596.9 min\n",
      "total: 1.7 %\tcurrent epoch: 16.0 %\tloss: 0.001001\ttime estimate: 597.1 min\n",
      "total: 1.7 %\tcurrent epoch: 19.2 %\tloss: 0.001274\ttime estimate: 597.2 min\n",
      "total: 1.7 %\tcurrent epoch: 22.4 %\tloss: 0.001057\ttime estimate: 597.4 min\n",
      "total: 1.8 %\tcurrent epoch: 25.6 %\tloss: 0.001088\ttime estimate: 597.6 min\n",
      "total: 1.8 %\tcurrent epoch: 28.8 %\tloss: 0.000936\ttime estimate: 597.8 min\n",
      "total: 1.8 %\tcurrent epoch: 32.0 %\tloss: 0.001076\ttime estimate: 598.0 min\n",
      "total: 1.8 %\tcurrent epoch: 35.2 %\tloss: 0.001079\ttime estimate: 598.1 min\n",
      "total: 1.8 %\tcurrent epoch: 38.4 %\tloss: 0.001063\ttime estimate: 598.2 min\n",
      "total: 1.8 %\tcurrent epoch: 41.6 %\tloss: 0.001222\ttime estimate: 598.4 min\n",
      "total: 1.8 %\tcurrent epoch: 44.8 %\tloss: 0.00101\ttime estimate: 598.5 min\n",
      "total: 1.8 %\tcurrent epoch: 48.0 %\tloss: 0.000939\ttime estimate: 598.7 min\n",
      "total: 1.8 %\tcurrent epoch: 51.2 %\tloss: 0.001056\ttime estimate: 598.9 min\n",
      "total: 1.8 %\tcurrent epoch: 54.4 %\tloss: 0.001038\ttime estimate: 599.0 min\n",
      "total: 1.9 %\tcurrent epoch: 57.6 %\tloss: 0.001041\ttime estimate: 599.1 min\n",
      "total: 1.9 %\tcurrent epoch: 60.8 %\tloss: 0.001229\ttime estimate: 599.3 min\n",
      "total: 1.9 %\tcurrent epoch: 64.0 %\tloss: 0.001156\ttime estimate: 599.4 min\n",
      "total: 1.9 %\tcurrent epoch: 67.2 %\tloss: 0.000965\ttime estimate: 599.6 min\n",
      "total: 1.9 %\tcurrent epoch: 70.4 %\tloss: 0.000954\ttime estimate: 599.7 min\n",
      "total: 1.9 %\tcurrent epoch: 73.6 %\tloss: 0.001033\ttime estimate: 599.8 min\n",
      "total: 1.9 %\tcurrent epoch: 76.8 %\tloss: 0.001119\ttime estimate: 599.9 min\n",
      "total: 1.9 %\tcurrent epoch: 80.0 %\tloss: 0.001031\ttime estimate: 600.1 min\n",
      "total: 1.9 %\tcurrent epoch: 83.2 %\tloss: 0.001002\ttime estimate: 600.2 min\n",
      "total: 2.0 %\tcurrent epoch: 86.4 %\tloss: 0.001024\ttime estimate: 600.3 min\n",
      "total: 2.0 %\tcurrent epoch: 89.6 %\tloss: 0.001051\ttime estimate: 600.4 min\n",
      "total: 2.0 %\tcurrent epoch: 92.8 %\tloss: 0.001143\ttime estimate: 600.5 min\n",
      "total: 2.0 %\tcurrent epoch: 96.0 %\tloss: 0.001264\ttime estimate: 600.6 min\n",
      "total: 2.0 %\tcurrent epoch: 99.2 %\tloss: 0.001099\ttime estimate: 600.7 min\n",
      "saved checkpoint at: ./ModelCheckpoints/c7o2h10/stdX_bn_shuffle_adam_abc/epoch_5\n",
      "\n",
      "total: 2.0 %\tcurrent epoch: 3.2 %\tloss: 0.001244\ttime estimate: 600.9 min\n",
      "total: 2.0 %\tcurrent epoch: 6.4 %\tloss: 0.000968\ttime estimate: 601.0 min\n",
      "total: 2.0 %\tcurrent epoch: 9.6 %\tloss: 0.000867\ttime estimate: 601.1 min\n",
      "total: 2.0 %\tcurrent epoch: 12.8 %\tloss: 0.000917\ttime estimate: 601.1 min\n",
      "total: 2.1 %\tcurrent epoch: 16.0 %\tloss: 0.000867\ttime estimate: 601.3 min\n",
      "total: 2.1 %\tcurrent epoch: 19.2 %\tloss: 0.00105\ttime estimate: 601.4 min\n",
      "total: 2.1 %\tcurrent epoch: 22.4 %\tloss: 0.001151\ttime estimate: 601.4 min\n",
      "total: 2.1 %\tcurrent epoch: 25.6 %\tloss: 0.001002\ttime estimate: 601.5 min\n",
      "total: 2.1 %\tcurrent epoch: 28.8 %\tloss: 0.000952\ttime estimate: 601.7 min\n",
      "total: 2.1 %\tcurrent epoch: 32.0 %\tloss: 0.001072\ttime estimate: 601.7 min\n",
      "total: 2.1 %\tcurrent epoch: 35.2 %\tloss: 0.001117\ttime estimate: 601.8 min\n",
      "total: 2.1 %\tcurrent epoch: 38.4 %\tloss: 0.001055\ttime estimate: 601.9 min\n",
      "total: 2.1 %\tcurrent epoch: 41.6 %\tloss: 0.000916\ttime estimate: 602.0 min\n",
      "total: 2.1 %\tcurrent epoch: 44.8 %\tloss: 0.001044\ttime estimate: 602.1 min\n",
      "total: 2.2 %\tcurrent epoch: 48.0 %\tloss: 0.000898\ttime estimate: 602.2 min\n",
      "total: 2.2 %\tcurrent epoch: 51.2 %\tloss: 0.000889\ttime estimate: 602.3 min\n",
      "total: 2.2 %\tcurrent epoch: 54.4 %\tloss: 0.000992\ttime estimate: 602.4 min\n",
      "total: 2.2 %\tcurrent epoch: 57.6 %\tloss: 0.000945\ttime estimate: 602.4 min\n",
      "total: 2.2 %\tcurrent epoch: 60.8 %\tloss: 0.000961\ttime estimate: 602.5 min\n",
      "total: 2.2 %\tcurrent epoch: 64.0 %\tloss: 0.001003\ttime estimate: 602.6 min\n",
      "total: 2.2 %\tcurrent epoch: 67.2 %\tloss: 0.000972\ttime estimate: 602.8 min\n",
      "total: 2.2 %\tcurrent epoch: 70.4 %\tloss: 0.001109\ttime estimate: 602.9 min\n",
      "total: 2.2 %\tcurrent epoch: 73.6 %\tloss: 0.000923\ttime estimate: 603.0 min\n",
      "total: 2.3 %\tcurrent epoch: 76.8 %\tloss: 0.000882\ttime estimate: 603.2 min\n",
      "total: 2.3 %\tcurrent epoch: 80.0 %\tloss: 0.000954\ttime estimate: 603.3 min\n",
      "total: 2.3 %\tcurrent epoch: 83.2 %\tloss: 0.000875\ttime estimate: 603.4 min\n",
      "total: 2.3 %\tcurrent epoch: 86.4 %\tloss: 0.000881\ttime estimate: 603.6 min\n",
      "total: 2.3 %\tcurrent epoch: 89.6 %\tloss: 0.000904\ttime estimate: 603.7 min\n"
     ]
    },
    {
     "name": "stdout",
     "output_type": "stream",
     "text": [
      "total: 2.3 %\tcurrent epoch: 92.8 %\tloss: 0.000909\ttime estimate: 603.8 min\n",
      "total: 2.3 %\tcurrent epoch: 96.0 %\tloss: 0.000989\ttime estimate: 603.9 min\n",
      "total: 2.3 %\tcurrent epoch: 99.2 %\tloss: 0.000923\ttime estimate: 604.0 min\n",
      "saved checkpoint at: ./ModelCheckpoints/c7o2h10/stdX_bn_shuffle_adam_abc/epoch_6\n",
      "\n",
      "total: 2.3 %\tcurrent epoch: 3.2 %\tloss: 0.000911\ttime estimate: 604.2 min\n",
      "total: 2.4 %\tcurrent epoch: 6.4 %\tloss: 0.000848\ttime estimate: 604.3 min\n",
      "total: 2.4 %\tcurrent epoch: 9.6 %\tloss: 0.000947\ttime estimate: 604.4 min\n",
      "total: 2.4 %\tcurrent epoch: 12.8 %\tloss: 0.00107\ttime estimate: 604.6 min\n",
      "total: 2.4 %\tcurrent epoch: 16.0 %\tloss: 0.000997\ttime estimate: 604.7 min\n",
      "total: 2.4 %\tcurrent epoch: 19.2 %\tloss: 0.001033\ttime estimate: 604.9 min\n",
      "total: 2.4 %\tcurrent epoch: 22.4 %\tloss: 0.000924\ttime estimate: 605.0 min\n",
      "total: 2.4 %\tcurrent epoch: 25.6 %\tloss: 0.000945\ttime estimate: 605.2 min\n",
      "total: 2.4 %\tcurrent epoch: 28.8 %\tloss: 0.000911\ttime estimate: 605.4 min\n",
      "total: 2.4 %\tcurrent epoch: 32.0 %\tloss: 0.00092\ttime estimate: 605.5 min\n",
      "total: 2.5 %\tcurrent epoch: 35.2 %\tloss: 0.000904\ttime estimate: 605.7 min\n",
      "total: 2.5 %\tcurrent epoch: 38.4 %\tloss: 0.000871\ttime estimate: 605.9 min\n",
      "total: 2.5 %\tcurrent epoch: 41.6 %\tloss: 0.000892\ttime estimate: 605.9 min\n",
      "total: 2.5 %\tcurrent epoch: 44.8 %\tloss: 0.000815\ttime estimate: 606.0 min\n",
      "total: 2.5 %\tcurrent epoch: 48.0 %\tloss: 0.000852\ttime estimate: 606.1 min\n",
      "total: 2.5 %\tcurrent epoch: 51.2 %\tloss: 0.000854\ttime estimate: 606.1 min\n",
      "total: 2.5 %\tcurrent epoch: 54.4 %\tloss: 0.000864\ttime estimate: 606.1 min\n",
      "total: 2.5 %\tcurrent epoch: 57.6 %\tloss: 0.000898\ttime estimate: 606.2 min\n",
      "total: 2.5 %\tcurrent epoch: 60.8 %\tloss: 0.001095\ttime estimate: 606.2 min\n",
      "total: 2.5 %\tcurrent epoch: 64.0 %\tloss: 0.000888\ttime estimate: 606.3 min\n",
      "total: 2.6 %\tcurrent epoch: 67.2 %\tloss: 0.000872\ttime estimate: 606.3 min\n",
      "total: 2.6 %\tcurrent epoch: 70.4 %\tloss: 0.001101\ttime estimate: 606.3 min\n",
      "total: 2.6 %\tcurrent epoch: 73.6 %\tloss: 0.000844\ttime estimate: 606.4 min\n",
      "total: 2.6 %\tcurrent epoch: 76.8 %\tloss: 0.000877\ttime estimate: 606.4 min\n",
      "total: 2.6 %\tcurrent epoch: 80.0 %\tloss: 0.000812\ttime estimate: 606.4 min\n",
      "total: 2.6 %\tcurrent epoch: 83.2 %\tloss: 0.000875\ttime estimate: 606.4 min\n",
      "total: 2.6 %\tcurrent epoch: 86.4 %\tloss: 0.000949\ttime estimate: 606.5 min\n",
      "total: 2.6 %\tcurrent epoch: 89.6 %\tloss: 0.001002\ttime estimate: 606.5 min\n",
      "total: 2.6 %\tcurrent epoch: 92.8 %\tloss: 0.000948\ttime estimate: 606.5 min\n",
      "total: 2.7 %\tcurrent epoch: 96.0 %\tloss: 0.00097\ttime estimate: 606.5 min\n",
      "total: 2.7 %\tcurrent epoch: 99.2 %\tloss: 0.00086\ttime estimate: 606.5 min\n",
      "saved checkpoint at: ./ModelCheckpoints/c7o2h10/stdX_bn_shuffle_adam_abc/epoch_7\n",
      "\n",
      "total: 2.7 %\tcurrent epoch: 3.2 %\tloss: 0.000776\ttime estimate: 606.7 min\n",
      "total: 2.7 %\tcurrent epoch: 6.4 %\tloss: 0.000835\ttime estimate: 606.6 min\n",
      "total: 2.7 %\tcurrent epoch: 9.6 %\tloss: 0.000862\ttime estimate: 606.6 min\n",
      "total: 2.7 %\tcurrent epoch: 12.8 %\tloss: 0.000901\ttime estimate: 606.6 min\n",
      "total: 2.7 %\tcurrent epoch: 16.0 %\tloss: 0.000823\ttime estimate: 606.7 min\n",
      "total: 2.7 %\tcurrent epoch: 19.2 %\tloss: 0.000741\ttime estimate: 606.7 min\n",
      "total: 2.7 %\tcurrent epoch: 22.4 %\tloss: 0.00084\ttime estimate: 606.8 min\n",
      "total: 2.8 %\tcurrent epoch: 25.6 %\tloss: 0.000916\ttime estimate: 606.8 min\n",
      "total: 2.8 %\tcurrent epoch: 28.8 %\tloss: 0.001125\ttime estimate: 607.0 min\n",
      "total: 2.8 %\tcurrent epoch: 32.0 %\tloss: 0.000868\ttime estimate: 607.1 min\n",
      "total: 2.8 %\tcurrent epoch: 35.2 %\tloss: 0.000796\ttime estimate: 607.0 min\n",
      "total: 2.8 %\tcurrent epoch: 38.4 %\tloss: 0.000834\ttime estimate: 606.9 min\n",
      "total: 2.8 %\tcurrent epoch: 41.6 %\tloss: 0.000962\ttime estimate: 606.8 min\n",
      "total: 2.8 %\tcurrent epoch: 44.8 %\tloss: 0.000921\ttime estimate: 606.8 min\n",
      "total: 2.8 %\tcurrent epoch: 48.0 %\tloss: 0.000943\ttime estimate: 606.7 min\n",
      "total: 2.8 %\tcurrent epoch: 51.2 %\tloss: 0.000825\ttime estimate: 606.7 min\n",
      "total: 2.8 %\tcurrent epoch: 54.4 %\tloss: 0.000802\ttime estimate: 606.9 min\n",
      "total: 2.9 %\tcurrent epoch: 57.6 %\tloss: 0.000827\ttime estimate: 607.4 min\n",
      "total: 2.9 %\tcurrent epoch: 60.8 %\tloss: 0.000798\ttime estimate: 607.9 min\n",
      "total: 2.9 %\tcurrent epoch: 64.0 %\tloss: 0.000823\ttime estimate: 608.4 min\n",
      "total: 2.9 %\tcurrent epoch: 67.2 %\tloss: 0.000737\ttime estimate: 608.9 min\n",
      "total: 2.9 %\tcurrent epoch: 70.4 %\tloss: 0.000809\ttime estimate: 609.4 min\n",
      "total: 2.9 %\tcurrent epoch: 73.6 %\tloss: 0.000761\ttime estimate: 609.9 min\n",
      "total: 2.9 %\tcurrent epoch: 76.8 %\tloss: 0.000835\ttime estimate: 610.3 min\n",
      "total: 2.9 %\tcurrent epoch: 80.0 %\tloss: 0.000756\ttime estimate: 610.8 min\n",
      "total: 2.9 %\tcurrent epoch: 83.2 %\tloss: 0.000844\ttime estimate: 611.3 min\n",
      "total: 3.0 %\tcurrent epoch: 86.4 %\tloss: 0.000871\ttime estimate: 611.7 min\n",
      "total: 3.0 %\tcurrent epoch: 89.6 %\tloss: 0.000804\ttime estimate: 612.2 min\n",
      "total: 3.0 %\tcurrent epoch: 92.8 %\tloss: 0.000783\ttime estimate: 612.7 min\n",
      "total: 3.0 %\tcurrent epoch: 96.0 %\tloss: 0.000789\ttime estimate: 613.1 min\n",
      "total: 3.0 %\tcurrent epoch: 99.2 %\tloss: 0.000772\ttime estimate: 613.6 min\n",
      "saved checkpoint at: ./ModelCheckpoints/c7o2h10/stdX_bn_shuffle_adam_abc/epoch_8\n",
      "\n",
      "total: 3.0 %\tcurrent epoch: 3.2 %\tloss: 0.000822\ttime estimate: 614.2 min\n",
      "total: 3.0 %\tcurrent epoch: 6.4 %\tloss: 0.000704\ttime estimate: 614.6 min\n",
      "total: 3.0 %\tcurrent epoch: 9.6 %\tloss: 0.000737\ttime estimate: 615.1 min\n",
      "total: 3.0 %\tcurrent epoch: 12.8 %\tloss: 0.000736\ttime estimate: 615.5 min\n",
      "total: 3.1 %\tcurrent epoch: 16.0 %\tloss: 0.000719\ttime estimate: 615.9 min\n",
      "total: 3.1 %\tcurrent epoch: 19.2 %\tloss: 0.000768\ttime estimate: 616.3 min\n",
      "total: 3.1 %\tcurrent epoch: 22.4 %\tloss: 0.000766\ttime estimate: 616.8 min\n",
      "total: 3.1 %\tcurrent epoch: 25.6 %\tloss: 0.000676\ttime estimate: 617.2 min\n",
      "total: 3.1 %\tcurrent epoch: 28.8 %\tloss: 0.000842\ttime estimate: 617.6 min\n",
      "total: 3.1 %\tcurrent epoch: 32.0 %\tloss: 0.000775\ttime estimate: 618.0 min\n",
      "total: 3.1 %\tcurrent epoch: 35.2 %\tloss: 0.000789\ttime estimate: 618.4 min\n",
      "total: 3.1 %\tcurrent epoch: 38.4 %\tloss: 0.000772\ttime estimate: 618.8 min\n",
      "total: 3.1 %\tcurrent epoch: 41.6 %\tloss: 0.00078\ttime estimate: 619.2 min\n",
      "total: 3.1 %\tcurrent epoch: 44.8 %\tloss: 0.000778\ttime estimate: 619.6 min\n",
      "total: 3.2 %\tcurrent epoch: 48.0 %\tloss: 0.000727\ttime estimate: 620.0 min\n",
      "total: 3.2 %\tcurrent epoch: 51.2 %\tloss: 0.000824\ttime estimate: 620.4 min\n",
      "total: 3.2 %\tcurrent epoch: 54.4 %\tloss: 0.000725\ttime estimate: 620.8 min\n",
      "total: 3.2 %\tcurrent epoch: 57.6 %\tloss: 0.000756\ttime estimate: 621.2 min\n",
      "total: 3.2 %\tcurrent epoch: 60.8 %\tloss: 0.00076\ttime estimate: 621.6 min\n",
      "total: 3.2 %\tcurrent epoch: 64.0 %\tloss: 0.000824\ttime estimate: 622.0 min\n",
      "total: 3.2 %\tcurrent epoch: 67.2 %\tloss: 0.000786\ttime estimate: 622.3 min\n",
      "total: 3.2 %\tcurrent epoch: 70.4 %\tloss: 0.000677\ttime estimate: 622.7 min\n",
      "total: 3.2 %\tcurrent epoch: 73.6 %\tloss: 0.000811\ttime estimate: 623.1 min\n",
      "total: 3.3 %\tcurrent epoch: 76.8 %\tloss: 0.000761\ttime estimate: 623.5 min\n",
      "total: 3.3 %\tcurrent epoch: 80.0 %\tloss: 0.000699\ttime estimate: 623.5 min\n",
      "total: 3.3 %\tcurrent epoch: 83.2 %\tloss: 0.000743\ttime estimate: 623.4 min\n",
      "total: 3.3 %\tcurrent epoch: 86.4 %\tloss: 0.000742\ttime estimate: 623.3 min\n",
      "total: 3.3 %\tcurrent epoch: 89.6 %\tloss: 0.000745\ttime estimate: 623.1 min\n",
      "total: 3.3 %\tcurrent epoch: 92.8 %\tloss: 0.000791\ttime estimate: 623.1 min\n",
      "total: 3.3 %\tcurrent epoch: 96.0 %\tloss: 0.000737\ttime estimate: 623.0 min\n",
      "total: 3.3 %\tcurrent epoch: 99.2 %\tloss: 0.000774\ttime estimate: 623.0 min\n",
      "saved checkpoint at: ./ModelCheckpoints/c7o2h10/stdX_bn_shuffle_adam_abc/epoch_9\n",
      "\n",
      "total: 3.3 %\tcurrent epoch: 3.2 %\tloss: 0.000817\ttime estimate: 623.1 min\n",
      "total: 3.4 %\tcurrent epoch: 6.4 %\tloss: 0.000753\ttime estimate: 623.4 min\n",
      "total: 3.4 %\tcurrent epoch: 9.6 %\tloss: 0.000651\ttime estimate: 623.8 min\n",
      "total: 3.4 %\tcurrent epoch: 12.8 %\tloss: 0.000666\ttime estimate: 623.8 min\n",
      "total: 3.4 %\tcurrent epoch: 16.0 %\tloss: 0.000715\ttime estimate: 623.8 min\n",
      "total: 3.4 %\tcurrent epoch: 19.2 %\tloss: 0.000658\ttime estimate: 623.8 min\n",
      "total: 3.4 %\tcurrent epoch: 22.4 %\tloss: 0.000665\ttime estimate: 623.8 min\n",
      "total: 3.4 %\tcurrent epoch: 25.6 %\tloss: 0.000737\ttime estimate: 623.8 min\n",
      "total: 3.4 %\tcurrent epoch: 28.8 %\tloss: 0.000717\ttime estimate: 623.7 min\n",
      "total: 3.4 %\tcurrent epoch: 32.0 %\tloss: 0.000702\ttime estimate: 623.0 min\n"
     ]
    },
    {
     "name": "stdout",
     "output_type": "stream",
     "text": [
      "total: 3.5 %\tcurrent epoch: 35.2 %\tloss: 0.00072\ttime estimate: 622.3 min\n",
      "total: 3.5 %\tcurrent epoch: 38.4 %\tloss: 0.000717\ttime estimate: 621.6 min\n",
      "total: 3.5 %\tcurrent epoch: 41.6 %\tloss: 0.000706\ttime estimate: 620.9 min\n",
      "total: 3.5 %\tcurrent epoch: 44.8 %\tloss: 0.000709\ttime estimate: 620.2 min\n",
      "total: 3.5 %\tcurrent epoch: 48.0 %\tloss: 0.000662\ttime estimate: 619.5 min\n",
      "total: 3.5 %\tcurrent epoch: 51.2 %\tloss: 0.000688\ttime estimate: 618.8 min\n",
      "total: 3.5 %\tcurrent epoch: 54.4 %\tloss: 0.000866\ttime estimate: 618.2 min\n",
      "total: 3.5 %\tcurrent epoch: 57.6 %\tloss: 0.000741\ttime estimate: 617.5 min\n",
      "total: 3.5 %\tcurrent epoch: 60.8 %\tloss: 0.000654\ttime estimate: 616.8 min\n",
      "total: 3.5 %\tcurrent epoch: 64.0 %\tloss: 0.00061\ttime estimate: 616.2 min\n",
      "total: 3.6 %\tcurrent epoch: 67.2 %\tloss: 0.000699\ttime estimate: 615.5 min\n",
      "total: 3.6 %\tcurrent epoch: 70.4 %\tloss: 0.000685\ttime estimate: 614.9 min\n",
      "total: 3.6 %\tcurrent epoch: 73.6 %\tloss: 0.00074\ttime estimate: 614.2 min\n",
      "total: 3.6 %\tcurrent epoch: 76.8 %\tloss: 0.000674\ttime estimate: 613.6 min\n",
      "total: 3.6 %\tcurrent epoch: 80.0 %\tloss: 0.000708\ttime estimate: 612.9 min\n",
      "total: 3.6 %\tcurrent epoch: 83.2 %\tloss: 0.000689\ttime estimate: 612.3 min\n",
      "total: 3.6 %\tcurrent epoch: 86.4 %\tloss: 0.000661\ttime estimate: 611.7 min\n",
      "total: 3.6 %\tcurrent epoch: 89.6 %\tloss: 0.000666\ttime estimate: 611.0 min\n",
      "total: 3.6 %\tcurrent epoch: 92.8 %\tloss: 0.000805\ttime estimate: 610.4 min\n",
      "total: 3.7 %\tcurrent epoch: 96.0 %\tloss: 0.000725\ttime estimate: 609.8 min\n",
      "total: 3.7 %\tcurrent epoch: 99.2 %\tloss: 0.0007\ttime estimate: 609.2 min\n",
      "saved checkpoint at: ./ModelCheckpoints/c7o2h10/stdX_bn_shuffle_adam_abc/epoch_10\n",
      "\n",
      "total: 3.7 %\tcurrent epoch: 3.2 %\tloss: 0.000692\ttime estimate: 608.4 min\n",
      "total: 3.7 %\tcurrent epoch: 6.4 %\tloss: 0.000805\ttime estimate: 607.8 min\n",
      "total: 3.7 %\tcurrent epoch: 9.6 %\tloss: 0.000692\ttime estimate: 607.2 min\n",
      "total: 3.7 %\tcurrent epoch: 12.8 %\tloss: 0.000654\ttime estimate: 606.6 min\n",
      "total: 3.7 %\tcurrent epoch: 16.0 %\tloss: 0.000658\ttime estimate: 606.0 min\n",
      "total: 3.7 %\tcurrent epoch: 19.2 %\tloss: 0.000719\ttime estimate: 605.4 min\n",
      "total: 3.7 %\tcurrent epoch: 22.4 %\tloss: 0.000912\ttime estimate: 604.8 min\n",
      "total: 3.8 %\tcurrent epoch: 25.6 %\tloss: 0.000695\ttime estimate: 604.2 min\n",
      "total: 3.8 %\tcurrent epoch: 28.8 %\tloss: 0.000687\ttime estimate: 603.6 min\n",
      "total: 3.8 %\tcurrent epoch: 32.0 %\tloss: 0.000737\ttime estimate: 603.0 min\n",
      "total: 3.8 %\tcurrent epoch: 35.2 %\tloss: 0.000683\ttime estimate: 602.4 min\n",
      "total: 3.8 %\tcurrent epoch: 38.4 %\tloss: 0.000731\ttime estimate: 601.9 min\n",
      "total: 3.8 %\tcurrent epoch: 41.6 %\tloss: 0.000683\ttime estimate: 601.3 min\n",
      "total: 3.8 %\tcurrent epoch: 44.8 %\tloss: 0.000706\ttime estimate: 600.7 min\n",
      "total: 3.8 %\tcurrent epoch: 48.0 %\tloss: 0.000639\ttime estimate: 600.1 min\n",
      "total: 3.8 %\tcurrent epoch: 51.2 %\tloss: 0.000685\ttime estimate: 599.6 min\n",
      "total: 3.8 %\tcurrent epoch: 54.4 %\tloss: 0.000699\ttime estimate: 599.0 min\n",
      "total: 3.9 %\tcurrent epoch: 57.6 %\tloss: 0.000676\ttime estimate: 598.4 min\n",
      "total: 3.9 %\tcurrent epoch: 60.8 %\tloss: 0.000628\ttime estimate: 597.9 min\n",
      "total: 3.9 %\tcurrent epoch: 64.0 %\tloss: 0.000638\ttime estimate: 597.3 min\n",
      "total: 3.9 %\tcurrent epoch: 67.2 %\tloss: 0.000634\ttime estimate: 596.8 min\n",
      "total: 3.9 %\tcurrent epoch: 70.4 %\tloss: 0.000699\ttime estimate: 596.2 min\n",
      "total: 3.9 %\tcurrent epoch: 73.6 %\tloss: 0.000726\ttime estimate: 595.7 min\n",
      "total: 3.9 %\tcurrent epoch: 76.8 %\tloss: 0.000702\ttime estimate: 595.1 min\n",
      "total: 3.9 %\tcurrent epoch: 80.0 %\tloss: 0.000673\ttime estimate: 594.6 min\n",
      "total: 3.9 %\tcurrent epoch: 83.2 %\tloss: 0.00062\ttime estimate: 594.0 min\n",
      "total: 4.0 %\tcurrent epoch: 86.4 %\tloss: 0.000718\ttime estimate: 593.5 min\n",
      "total: 4.0 %\tcurrent epoch: 89.6 %\tloss: 0.000669\ttime estimate: 593.0 min\n",
      "total: 4.0 %\tcurrent epoch: 92.8 %\tloss: 0.000676\ttime estimate: 592.4 min\n",
      "total: 4.0 %\tcurrent epoch: 96.0 %\tloss: 0.000668\ttime estimate: 591.9 min\n",
      "total: 4.0 %\tcurrent epoch: 99.2 %\tloss: 0.000635\ttime estimate: 591.4 min\n",
      "saved checkpoint at: ./ModelCheckpoints/c7o2h10/stdX_bn_shuffle_adam_abc/epoch_11\n",
      "\n",
      "total: 4.0 %\tcurrent epoch: 3.2 %\tloss: 0.00063\ttime estimate: 590.7 min\n",
      "total: 4.0 %\tcurrent epoch: 6.4 %\tloss: 0.000646\ttime estimate: 590.2 min\n",
      "total: 4.0 %\tcurrent epoch: 9.6 %\tloss: 0.000612\ttime estimate: 589.7 min\n",
      "total: 4.0 %\tcurrent epoch: 12.8 %\tloss: 0.000593\ttime estimate: 589.2 min\n",
      "total: 4.1 %\tcurrent epoch: 16.0 %\tloss: 0.000613\ttime estimate: 588.6 min\n",
      "total: 4.1 %\tcurrent epoch: 19.2 %\tloss: 0.000699\ttime estimate: 588.1 min\n",
      "total: 4.1 %\tcurrent epoch: 22.4 %\tloss: 0.000663\ttime estimate: 587.6 min\n",
      "total: 4.1 %\tcurrent epoch: 25.6 %\tloss: 0.000724\ttime estimate: 587.1 min\n",
      "total: 4.1 %\tcurrent epoch: 28.8 %\tloss: 0.000625\ttime estimate: 586.6 min\n",
      "total: 4.1 %\tcurrent epoch: 32.0 %\tloss: 0.00066\ttime estimate: 586.1 min\n",
      "total: 4.1 %\tcurrent epoch: 35.2 %\tloss: 0.000669\ttime estimate: 585.6 min\n",
      "total: 4.1 %\tcurrent epoch: 38.4 %\tloss: 0.000756\ttime estimate: 585.1 min\n",
      "total: 4.1 %\tcurrent epoch: 41.6 %\tloss: 0.000675\ttime estimate: 584.6 min\n",
      "total: 4.1 %\tcurrent epoch: 44.8 %\tloss: 0.000627\ttime estimate: 584.1 min\n",
      "total: 4.2 %\tcurrent epoch: 48.0 %\tloss: 0.000654\ttime estimate: 583.6 min\n",
      "total: 4.2 %\tcurrent epoch: 51.2 %\tloss: 0.000684\ttime estimate: 583.1 min\n",
      "total: 4.2 %\tcurrent epoch: 54.4 %\tloss: 0.000655\ttime estimate: 582.6 min\n",
      "total: 4.2 %\tcurrent epoch: 57.6 %\tloss: 0.000695\ttime estimate: 582.2 min\n",
      "total: 4.2 %\tcurrent epoch: 60.8 %\tloss: 0.000628\ttime estimate: 581.7 min\n",
      "total: 4.2 %\tcurrent epoch: 64.0 %\tloss: 0.000623\ttime estimate: 581.2 min\n",
      "total: 4.2 %\tcurrent epoch: 67.2 %\tloss: 0.000598\ttime estimate: 580.7 min\n",
      "total: 4.2 %\tcurrent epoch: 70.4 %\tloss: 0.000597\ttime estimate: 580.2 min\n",
      "total: 4.2 %\tcurrent epoch: 73.6 %\tloss: 0.000619\ttime estimate: 579.8 min\n",
      "total: 4.3 %\tcurrent epoch: 76.8 %\tloss: 0.000634\ttime estimate: 579.3 min\n",
      "total: 4.3 %\tcurrent epoch: 80.0 %\tloss: 0.000632\ttime estimate: 578.8 min\n",
      "total: 4.3 %\tcurrent epoch: 83.2 %\tloss: 0.000656\ttime estimate: 578.4 min\n",
      "total: 4.3 %\tcurrent epoch: 86.4 %\tloss: 0.000612\ttime estimate: 577.9 min\n",
      "total: 4.3 %\tcurrent epoch: 89.6 %\tloss: 0.000585\ttime estimate: 577.4 min\n",
      "total: 4.3 %\tcurrent epoch: 92.8 %\tloss: 0.000631\ttime estimate: 577.0 min\n",
      "total: 4.3 %\tcurrent epoch: 96.0 %\tloss: 0.000622\ttime estimate: 576.5 min\n",
      "total: 4.3 %\tcurrent epoch: 99.2 %\tloss: 0.000586\ttime estimate: 576.1 min\n",
      "saved checkpoint at: ./ModelCheckpoints/c7o2h10/stdX_bn_shuffle_adam_abc/epoch_12\n",
      "\n",
      "total: 4.3 %\tcurrent epoch: 3.2 %\tloss: 0.000546\ttime estimate: 576.5 min\n",
      "total: 4.4 %\tcurrent epoch: 6.4 %\tloss: 0.000629\ttime estimate: 576.9 min\n",
      "total: 4.4 %\tcurrent epoch: 9.6 %\tloss: 0.000583\ttime estimate: 577.1 min\n",
      "total: 4.4 %\tcurrent epoch: 12.8 %\tloss: 0.000583\ttime estimate: 577.1 min\n",
      "total: 4.4 %\tcurrent epoch: 16.0 %\tloss: 0.000624\ttime estimate: 577.2 min\n",
      "total: 4.4 %\tcurrent epoch: 19.2 %\tloss: 0.000596\ttime estimate: 577.2 min\n",
      "total: 4.4 %\tcurrent epoch: 22.4 %\tloss: 0.000681\ttime estimate: 577.3 min\n",
      "total: 4.4 %\tcurrent epoch: 25.6 %\tloss: 0.000638\ttime estimate: 577.3 min\n",
      "total: 4.4 %\tcurrent epoch: 28.8 %\tloss: 0.00059\ttime estimate: 577.4 min\n",
      "total: 4.4 %\tcurrent epoch: 32.0 %\tloss: 0.000618\ttime estimate: 577.4 min\n",
      "total: 4.5 %\tcurrent epoch: 35.2 %\tloss: 0.000564\ttime estimate: 577.5 min\n",
      "total: 4.5 %\tcurrent epoch: 38.4 %\tloss: 0.000576\ttime estimate: 577.5 min\n",
      "total: 4.5 %\tcurrent epoch: 41.6 %\tloss: 0.000539\ttime estimate: 577.5 min\n",
      "total: 4.5 %\tcurrent epoch: 44.8 %\tloss: 0.000576\ttime estimate: 577.6 min\n",
      "total: 4.5 %\tcurrent epoch: 48.0 %\tloss: 0.000588\ttime estimate: 577.6 min\n",
      "total: 4.5 %\tcurrent epoch: 51.2 %\tloss: 0.00061\ttime estimate: 577.7 min\n",
      "total: 4.5 %\tcurrent epoch: 54.4 %\tloss: 0.000563\ttime estimate: 577.7 min\n"
     ]
    }
   ],
   "source": [
    "if use_cuda:\n",
    "    init_deep_pot = DeepPotential().cuda()\n",
    "else:\n",
    "    init_deep_pot = DeepPotential()\n",
    "init_optim = torch.optim.Adam(init_deep_pot.parameters(), lr=0.01)\n",
    "lr_scheduler = AbcExponentialLR(init_optim, 0.96, 1.5)\n",
    "deep_pot, optim = train(init_deep_pot, init_optim, lr_scheduler, X_train, Y_train,\n",
    "                        X_test, Y_test,\n",
    "                        300, 128,\n",
    "                        checkpoint_path=model_path, print_every=100, shuffle=True)"
   ]
  },
  {
   "cell_type": "code",
   "execution_count": null,
   "metadata": {},
   "outputs": [],
   "source": [
    "#deep_pot = DeepPotential().cuda()\n",
    "#deep_pot.load_state_dict(torch.load('./ModelCheckpoints/epoch_13'))\n",
    "Y_result = deep_pot.forward(X_test)"
   ]
  },
  {
   "cell_type": "code",
   "execution_count": null,
   "metadata": {},
   "outputs": [],
   "source": [
    "result = backtransform(np.array(Y_result.data.tolist()), Y_min, Y_max)"
   ]
  },
  {
   "cell_type": "code",
   "execution_count": null,
   "metadata": {},
   "outputs": [],
   "source": [
    "test_labels = backtransform(np.array(Y_test), Y_min, Y_max)"
   ]
  },
  {
   "cell_type": "code",
   "execution_count": null,
   "metadata": {},
   "outputs": [],
   "source": [
    "np.mean(np.abs(test_labels - result))"
   ]
  },
  {
   "cell_type": "code",
   "execution_count": null,
   "metadata": {},
   "outputs": [],
   "source": [
    "test_labels[:10]"
   ]
  },
  {
   "cell_type": "code",
   "execution_count": null,
   "metadata": {},
   "outputs": [],
   "source": [
    "result[:10]"
   ]
  },
  {
   "cell_type": "markdown",
   "metadata": {},
   "source": [
    "## Load Model"
   ]
  },
  {
   "cell_type": "code",
   "execution_count": null,
   "metadata": {},
   "outputs": [],
   "source": [
    "test_model = DeepPotential().cuda()\n",
    "test_model.load_state_dict(torch.load('ModelCheckpoints/c7o2h10/epoch_280'))"
   ]
  },
  {
   "cell_type": "code",
   "execution_count": null,
   "metadata": {},
   "outputs": [],
   "source": [
    "test_result = np.squeeze(backtransform(test_model(X_test), Y_min, Y_max).detach().cpu().numpy())"
   ]
  },
  {
   "cell_type": "code",
   "execution_count": null,
   "metadata": {},
   "outputs": [],
   "source": [
    "val_result = np.squeeze(backtransform(Y_test, Y_min, Y_max).detach().cpu().numpy())"
   ]
  },
  {
   "cell_type": "code",
   "execution_count": null,
   "metadata": {},
   "outputs": [],
   "source": [
    "np.mean(np.abs(test_result - val_result))"
   ]
  },
  {
   "cell_type": "code",
   "execution_count": null,
   "metadata": {},
   "outputs": [],
   "source": [
    "val_result[:10]"
   ]
  },
  {
   "cell_type": "markdown",
   "metadata": {},
   "source": [
    "## Test the model\n",
    "### Mean Absolute Error\n",
    "The desired accuracy is about 0.04 eV"
   ]
  },
  {
   "cell_type": "code",
   "execution_count": null,
   "metadata": {},
   "outputs": [],
   "source": [
    "mae = np.abs(deep_pot.forward(X_data[-500:]).data.numpy().reshape(500) - Y_data[-500:].data.numpy().reshape(500)).mean()\n",
    "print('The nural network reaches a mean absolute error of {} eV'.format(mae))"
   ]
  },
  {
   "cell_type": "markdown",
   "metadata": {},
   "source": [
    "### Small test sample"
   ]
  },
  {
   "cell_type": "code",
   "execution_count": null,
   "metadata": {},
   "outputs": [],
   "source": [
    "deep_pot.forward(X_data[-10:])"
   ]
  },
  {
   "cell_type": "code",
   "execution_count": null,
   "metadata": {},
   "outputs": [],
   "source": [
    "Y_data[-10:]"
   ]
  },
  {
   "cell_type": "markdown",
   "metadata": {},
   "source": [
    "## Save the Model Parameters"
   ]
  },
  {
   "cell_type": "code",
   "execution_count": null,
   "metadata": {},
   "outputs": [],
   "source": [
    "torch.save(deep_pot.state_dict(), model_path)"
   ]
  },
  {
   "cell_type": "markdown",
   "metadata": {},
   "source": [
    "## Continue learning"
   ]
  },
  {
   "cell_type": "code",
   "execution_count": null,
   "metadata": {},
   "outputs": [],
   "source": [
    "deep_pot = DeepPotential()\n",
    "deep_pot.load_state_dict(torch.load(model_path))\n",
    "optim = torch.optim.Adam(deep_pot.parameters(), lr=1e-2)"
   ]
  },
  {
   "cell_type": "code",
   "execution_count": null,
   "metadata": {},
   "outputs": [],
   "source": [
    "deep_pot, optim = train(deep_pot, optim, X_data, Y_data, 1000, 512, (0.001, 0.96, 1.5), use_for_train=0.9, print_every=10)"
   ]
  },
  {
   "cell_type": "code",
   "execution_count": null,
   "metadata": {},
   "outputs": [],
   "source": []
  }
 ],
 "metadata": {
  "kernelspec": {
   "display_name": "Python 3",
   "language": "python",
   "name": "python3"
  },
  "language_info": {
   "codemirror_mode": {
    "name": "ipython",
    "version": 3
   },
   "file_extension": ".py",
   "mimetype": "text/x-python",
   "name": "python",
   "nbconvert_exporter": "python",
   "pygments_lexer": "ipython3",
   "version": "3.6.5"
  }
 },
 "nbformat": 4,
 "nbformat_minor": 2
}
