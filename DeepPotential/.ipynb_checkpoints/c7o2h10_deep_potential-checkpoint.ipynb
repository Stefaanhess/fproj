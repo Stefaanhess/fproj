{
 "cells": [
  {
   "cell_type": "markdown",
   "metadata": {},
   "source": [
    "# Imports,  Settings and Paths"
   ]
  },
  {
   "cell_type": "code",
   "execution_count": 1,
   "metadata": {
    "scrolled": true
   },
   "outputs": [],
   "source": [
    "import numpy as np\n",
    "from matplotlib import pyplot as plt\n",
    "import pandas as pd#\n",
    "%matplotlib inline\n",
    "import torch\n",
    "from torch.autograd import Variable\n",
    "import torch.nn as nn\n",
    "import torch.nn.functional as F\n",
    "import time"
   ]
  },
  {
   "cell_type": "code",
   "execution_count": 2,
   "metadata": {},
   "outputs": [],
   "source": [
    "from Code.Models.c7o2h10_model import DeepPotential, train, normalize, backtransform"
   ]
  },
  {
   "cell_type": "code",
   "execution_count": 3,
   "metadata": {},
   "outputs": [],
   "source": [
    "data_path = './Dataset/c7o2h10_X.npy'\n",
    "label_path = './Dataset/c7o2h10_Y.npy'\n",
    "train_ids_path = './Dataset/iso17/train_ids.txt'\n",
    "test_ids_path = './Dataset/iso17/validation_ids.txt'\n",
    "model_path = './ModelCheckpoints/c7o2h10/'"
   ]
  },
  {
   "cell_type": "code",
   "execution_count": 4,
   "metadata": {},
   "outputs": [],
   "source": [
    "train_ids = (np.loadtxt(train_ids_path) - 1).astype(int).tolist()\n",
    "test_ids = (np.loadtxt(test_ids_path) - 1).astype(int).tolist()"
   ]
  },
  {
   "cell_type": "code",
   "execution_count": 5,
   "metadata": {},
   "outputs": [
    {
     "name": "stdout",
     "output_type": "stream",
     "text": [
      "use cuda:   True\n"
     ]
    }
   ],
   "source": [
    "use_cuda = torch.cuda.is_available()\n",
    "print('use cuda:  ', use_cuda)"
   ]
  },
  {
   "cell_type": "markdown",
   "metadata": {},
   "source": [
    "# Read the Data"
   ]
  },
  {
   "cell_type": "code",
   "execution_count": 6,
   "metadata": {
    "scrolled": true
   },
   "outputs": [
    {
     "data": {
      "text/plain": [
       "(404000, 19, 72)"
      ]
     },
     "execution_count": 6,
     "metadata": {},
     "output_type": "execute_result"
    }
   ],
   "source": [
    "X_npy = np.load(data_path)\n",
    "Y_npy = np.load(label_path) * -1\n",
    "Y_npy, Y_min, Y_max = normalize(Y_npy)\n",
    "X_npy.shape"
   ]
  },
  {
   "cell_type": "markdown",
   "metadata": {},
   "source": [
    "### Check for NaN values"
   ]
  },
  {
   "cell_type": "code",
   "execution_count": 7,
   "metadata": {
    "scrolled": true
   },
   "outputs": [
    {
     "name": "stdout",
     "output_type": "stream",
     "text": [
      "0 Datapoints with NaN values found.\n"
     ]
    }
   ],
   "source": [
    "use_ids = np.where(np.isnan(X_npy).sum(axis=2).sum(axis=1)==0)\n",
    "print('{} Datapoints with NaN values found.'.format(X_npy.shape[0] - len(use_ids[0])))"
   ]
  },
  {
   "cell_type": "code",
   "execution_count": 8,
   "metadata": {
    "scrolled": true
   },
   "outputs": [
    {
     "data": {
      "text/plain": [
       "(404000, 19, 72)"
      ]
     },
     "execution_count": 8,
     "metadata": {},
     "output_type": "execute_result"
    }
   ],
   "source": [
    "X_npy = X_npy[use_ids]\n",
    "Y_npy = Y_npy[use_ids]\n",
    "X_npy.shape"
   ]
  },
  {
   "cell_type": "code",
   "execution_count": 9,
   "metadata": {},
   "outputs": [],
   "source": [
    "X_npy = X_npy\n",
    "Y_npy = Y_npy"
   ]
  },
  {
   "cell_type": "markdown",
   "metadata": {},
   "source": [
    "### Split into test and train"
   ]
  },
  {
   "cell_type": "code",
   "execution_count": 10,
   "metadata": {},
   "outputs": [],
   "source": [
    "X_train_npy, X_test_npy = X_npy[train_ids], X_npy[test_ids]\n",
    "Y_train_npy, Y_test_npy = Y_npy[train_ids], Y_npy[test_ids]"
   ]
  },
  {
   "cell_type": "markdown",
   "metadata": {},
   "source": [
    "### Shuffle the Dataset"
   ]
  },
  {
   "cell_type": "code",
   "execution_count": 11,
   "metadata": {},
   "outputs": [],
   "source": [
    "shuffle = np.arange(X_train_npy.shape[0])\n",
    "np.random.shuffle(shuffle)\n",
    "X_train_npy = X_train_npy[shuffle]\n",
    "Y_train_npy = Y_train_npy[shuffle]"
   ]
  },
  {
   "cell_type": "markdown",
   "metadata": {},
   "source": [
    "### Create Pytorch Variables"
   ]
  },
  {
   "cell_type": "code",
   "execution_count": 12,
   "metadata": {},
   "outputs": [],
   "source": [
    "if use_cuda:\n",
    "    X_train = Variable(torch.Tensor(X_train_npy).cuda())\n",
    "    Y_train = Variable(torch.Tensor(Y_train_npy).cuda(), requires_grad=False)\n",
    "    X_test = Variable(torch.Tensor(X_test_npy).cuda())\n",
    "    Y_test = Variable(torch.Tensor(Y_test_npy).cuda(), requires_grad=False)\n",
    "else:\n",
    "    X_train = Variable(torch.Tensor(X_train_npy))\n",
    "    Y_train = Variable(torch.Tensor(Y_train_npy), requires_grad=False)\n",
    "    X_test = Variable(torch.Tensor(X_test_npy))\n",
    "    Y_test = Variable(torch.Tensor(Y_test_npy), requires_grad=False)"
   ]
  },
  {
   "cell_type": "markdown",
   "metadata": {},
   "source": [
    "# Train Model"
   ]
  },
  {
   "cell_type": "markdown",
   "metadata": {},
   "source": [
    "## Do the learning"
   ]
  },
  {
   "cell_type": "code",
   "execution_count": 13,
   "metadata": {
    "scrolled": true
   },
   "outputs": [
    {
     "name": "stdout",
     "output_type": "stream",
     "text": [
      "\n",
      "Epoch: 0\tlearning rate: 0.01\n",
      "---\n",
      "total: 0.5 %\tcurrent epoch: 3.2 %\tloss: 0.016136\ttime estimate: 20.5 min\n",
      "total: 1.1 %\tcurrent epoch: 6.4 %\tloss: 0.005433\ttime estimate: 17.6 min\n",
      "total: 1.6 %\tcurrent epoch: 9.6 %\tloss: 0.004261\ttime estimate: 16.6 min\n",
      "total: 2.1 %\tcurrent epoch: 12.8 %\tloss: 0.003717\ttime estimate: 16.0 min\n",
      "total: 2.7 %\tcurrent epoch: 16.0 %\tloss: 0.003534\ttime estimate: 15.6 min\n",
      "total: 3.2 %\tcurrent epoch: 19.2 %\tloss: 0.003206\ttime estimate: 15.4 min\n",
      "total: 3.7 %\tcurrent epoch: 22.4 %\tloss: 0.002891\ttime estimate: 15.1 min\n",
      "total: 4.3 %\tcurrent epoch: 25.6 %\tloss: 0.002812\ttime estimate: 14.9 min\n",
      "total: 4.8 %\tcurrent epoch: 28.8 %\tloss: 0.00277\ttime estimate: 14.8 min\n",
      "total: 5.3 %\tcurrent epoch: 32.0 %\tloss: 0.002544\ttime estimate: 14.6 min\n",
      "total: 5.9 %\tcurrent epoch: 35.2 %\tloss: 0.002398\ttime estimate: 14.5 min\n",
      "total: 6.4 %\tcurrent epoch: 38.4 %\tloss: 0.00242\ttime estimate: 14.4 min\n",
      "total: 6.9 %\tcurrent epoch: 41.6 %\tloss: 0.002479\ttime estimate: 14.3 min\n",
      "total: 7.5 %\tcurrent epoch: 44.8 %\tloss: 0.002297\ttime estimate: 14.1 min\n",
      "total: 8.0 %\tcurrent epoch: 48.0 %\tloss: 0.002265\ttime estimate: 14.0 min\n",
      "total: 8.5 %\tcurrent epoch: 51.2 %\tloss: 0.002221\ttime estimate: 13.9 min\n",
      "total: 9.1 %\tcurrent epoch: 54.4 %\tloss: 0.002264\ttime estimate: 13.8 min\n",
      "total: 9.6 %\tcurrent epoch: 57.6 %\tloss: 0.00222\ttime estimate: 13.7 min\n",
      "total: 10.1 %\tcurrent epoch: 60.8 %\tloss: 0.002135\ttime estimate: 13.6 min\n",
      "total: 10.7 %\tcurrent epoch: 64.0 %\tloss: 0.002152\ttime estimate: 13.5 min\n",
      "total: 11.2 %\tcurrent epoch: 67.2 %\tloss: 0.002017\ttime estimate: 13.5 min\n",
      "total: 11.7 %\tcurrent epoch: 70.4 %\tloss: 0.002054\ttime estimate: 13.4 min\n",
      "total: 12.3 %\tcurrent epoch: 73.6 %\tloss: 0.002071\ttime estimate: 13.3 min\n",
      "total: 12.8 %\tcurrent epoch: 76.8 %\tloss: 0.001948\ttime estimate: 13.2 min\n",
      "total: 13.3 %\tcurrent epoch: 80.0 %\tloss: 0.001921\ttime estimate: 13.1 min\n",
      "total: 13.9 %\tcurrent epoch: 83.2 %\tloss: 0.001933\ttime estimate: 13.0 min\n",
      "total: 14.4 %\tcurrent epoch: 86.4 %\tloss: 0.001863\ttime estimate: 12.9 min\n",
      "total: 14.9 %\tcurrent epoch: 89.6 %\tloss: 0.002043\ttime estimate: 12.8 min\n",
      "total: 15.5 %\tcurrent epoch: 92.8 %\tloss: 0.00185\ttime estimate: 12.8 min\n",
      "total: 16.0 %\tcurrent epoch: 96.0 %\tloss: 0.001805\ttime estimate: 12.7 min\n",
      "total: 16.5 %\tcurrent epoch: 99.2 %\tloss: 0.001811\ttime estimate: 12.6 min\n",
      "saved checkpoint at: ./ModelCheckpoints/c7o2h10/epoch_0\n",
      "\n",
      "\n",
      "Epoch: 1\tlearning rate: 0.01\n",
      "---\n",
      "total: 17.2 %\tcurrent epoch: 3.2 %\tloss: 0.001743\ttime estimate: 12.5 min\n",
      "total: 17.7 %\tcurrent epoch: 6.4 %\tloss: 0.00176\ttime estimate: 12.4 min\n",
      "total: 18.3 %\tcurrent epoch: 9.6 %\tloss: 0.00178\ttime estimate: 12.3 min\n",
      "total: 18.8 %\tcurrent epoch: 12.8 %\tloss: 0.001787\ttime estimate: 12.2 min\n",
      "total: 19.3 %\tcurrent epoch: 16.0 %\tloss: 0.001849\ttime estimate: 12.1 min\n",
      "total: 19.9 %\tcurrent epoch: 19.2 %\tloss: 0.001724\ttime estimate: 12.1 min\n",
      "total: 20.4 %\tcurrent epoch: 22.4 %\tloss: 0.001733\ttime estimate: 12.0 min\n",
      "total: 20.9 %\tcurrent epoch: 25.6 %\tloss: 0.001689\ttime estimate: 11.9 min\n",
      "total: 21.5 %\tcurrent epoch: 28.8 %\tloss: 0.001734\ttime estimate: 11.8 min\n",
      "total: 22.0 %\tcurrent epoch: 32.0 %\tloss: 0.001674\ttime estimate: 11.7 min\n",
      "total: 22.5 %\tcurrent epoch: 35.2 %\tloss: 0.001657\ttime estimate: 11.6 min\n",
      "total: 23.1 %\tcurrent epoch: 38.4 %\tloss: 0.001654\ttime estimate: 11.6 min\n",
      "total: 23.6 %\tcurrent epoch: 41.6 %\tloss: 0.001769\ttime estimate: 11.5 min\n",
      "total: 24.1 %\tcurrent epoch: 44.8 %\tloss: 0.001675\ttime estimate: 11.4 min\n",
      "total: 24.7 %\tcurrent epoch: 48.0 %\tloss: 0.001654\ttime estimate: 11.3 min\n",
      "total: 25.2 %\tcurrent epoch: 51.2 %\tloss: 0.001639\ttime estimate: 11.2 min\n",
      "total: 25.7 %\tcurrent epoch: 54.4 %\tloss: 0.00167\ttime estimate: 11.1 min\n",
      "total: 26.3 %\tcurrent epoch: 57.6 %\tloss: 0.001677\ttime estimate: 11.1 min\n",
      "total: 26.8 %\tcurrent epoch: 60.8 %\tloss: 0.00163\ttime estimate: 11.0 min\n",
      "total: 27.3 %\tcurrent epoch: 64.0 %\tloss: 0.001674\ttime estimate: 10.9 min\n",
      "total: 27.9 %\tcurrent epoch: 67.2 %\tloss: 0.001589\ttime estimate: 10.8 min\n",
      "total: 28.4 %\tcurrent epoch: 70.4 %\tloss: 0.001624\ttime estimate: 10.7 min\n",
      "total: 28.9 %\tcurrent epoch: 73.6 %\tloss: 0.001656\ttime estimate: 10.7 min\n",
      "total: 29.5 %\tcurrent epoch: 76.8 %\tloss: 0.001516\ttime estimate: 10.6 min\n",
      "total: 30.0 %\tcurrent epoch: 80.0 %\tloss: 0.001622\ttime estimate: 10.5 min\n",
      "total: 30.5 %\tcurrent epoch: 83.2 %\tloss: 0.001616\ttime estimate: 10.4 min\n",
      "total: 31.1 %\tcurrent epoch: 86.4 %\tloss: 0.001497\ttime estimate: 10.3 min\n",
      "total: 31.6 %\tcurrent epoch: 89.6 %\tloss: 0.001591\ttime estimate: 10.2 min\n",
      "total: 32.1 %\tcurrent epoch: 92.8 %\tloss: 0.00154\ttime estimate: 10.2 min\n",
      "total: 32.7 %\tcurrent epoch: 96.0 %\tloss: 0.0015\ttime estimate: 10.1 min\n",
      "total: 33.2 %\tcurrent epoch: 99.2 %\tloss: 0.001471\ttime estimate: 10.0 min\n",
      "saved checkpoint at: ./ModelCheckpoints/c7o2h10/epoch_1\n",
      "\n",
      "\n",
      "Epoch: 2\tlearning rate: 0.01\n",
      "---\n",
      "total: 33.9 %\tcurrent epoch: 3.2 %\tloss: 0.001444\ttime estimate: 9.9 min\n",
      "total: 34.4 %\tcurrent epoch: 6.4 %\tloss: 0.001441\ttime estimate: 9.8 min\n",
      "total: 34.9 %\tcurrent epoch: 9.6 %\tloss: 0.001451\ttime estimate: 9.7 min\n",
      "total: 35.5 %\tcurrent epoch: 12.8 %\tloss: 0.001478\ttime estimate: 9.7 min\n",
      "total: 36.0 %\tcurrent epoch: 16.0 %\tloss: 0.00149\ttime estimate: 9.6 min\n",
      "total: 36.5 %\tcurrent epoch: 19.2 %\tloss: 0.001469\ttime estimate: 9.5 min\n",
      "total: 37.1 %\tcurrent epoch: 22.4 %\tloss: 0.001476\ttime estimate: 9.4 min\n",
      "total: 37.6 %\tcurrent epoch: 25.6 %\tloss: 0.00142\ttime estimate: 9.3 min\n",
      "total: 38.1 %\tcurrent epoch: 28.8 %\tloss: 0.001479\ttime estimate: 9.3 min\n",
      "total: 38.7 %\tcurrent epoch: 32.0 %\tloss: 0.001408\ttime estimate: 9.2 min\n",
      "total: 39.2 %\tcurrent epoch: 35.2 %\tloss: 0.001393\ttime estimate: 9.1 min\n",
      "total: 39.7 %\tcurrent epoch: 38.4 %\tloss: 0.0014\ttime estimate: 9.0 min\n",
      "total: 40.3 %\tcurrent epoch: 41.6 %\tloss: 0.001481\ttime estimate: 9.0 min\n",
      "total: 40.8 %\tcurrent epoch: 44.8 %\tloss: 0.001419\ttime estimate: 8.9 min\n",
      "total: 41.3 %\tcurrent epoch: 48.0 %\tloss: 0.00141\ttime estimate: 8.8 min\n",
      "total: 41.9 %\tcurrent epoch: 51.2 %\tloss: 0.001367\ttime estimate: 8.7 min\n",
      "total: 42.4 %\tcurrent epoch: 54.4 %\tloss: 0.001398\ttime estimate: 8.6 min\n",
      "total: 42.9 %\tcurrent epoch: 57.6 %\tloss: 0.001366\ttime estimate: 8.5 min\n",
      "total: 43.5 %\tcurrent epoch: 60.8 %\tloss: 0.001359\ttime estimate: 8.5 min\n",
      "total: 44.0 %\tcurrent epoch: 64.0 %\tloss: 0.001389\ttime estimate: 8.4 min\n",
      "total: 44.5 %\tcurrent epoch: 67.2 %\tloss: 0.001318\ttime estimate: 8.3 min\n",
      "total: 45.1 %\tcurrent epoch: 70.4 %\tloss: 0.001358\ttime estimate: 8.4 min\n",
      "total: 45.6 %\tcurrent epoch: 73.6 %\tloss: 0.00138\ttime estimate: 8.5 min\n",
      "total: 46.1 %\tcurrent epoch: 76.8 %\tloss: 0.001274\ttime estimate: 8.5 min\n",
      "total: 46.7 %\tcurrent epoch: 80.0 %\tloss: 0.001352\ttime estimate: 8.6 min\n",
      "total: 47.2 %\tcurrent epoch: 83.2 %\tloss: 0.001348\ttime estimate: 8.6 min\n",
      "total: 47.7 %\tcurrent epoch: 86.4 %\tloss: 0.001256\ttime estimate: 8.7 min\n",
      "total: 48.3 %\tcurrent epoch: 89.6 %\tloss: 0.001378\ttime estimate: 8.7 min\n",
      "total: 48.8 %\tcurrent epoch: 92.8 %\tloss: 0.001299\ttime estimate: 8.8 min\n",
      "total: 49.3 %\tcurrent epoch: 96.0 %\tloss: 0.001243\ttime estimate: 8.8 min\n",
      "total: 49.9 %\tcurrent epoch: 99.2 %\tloss: 0.001243\ttime estimate: 8.8 min\n",
      "saved checkpoint at: ./ModelCheckpoints/c7o2h10/epoch_2\n",
      "\n",
      "\n",
      "Epoch: 3\tlearning rate: 0.01\n",
      "---\n",
      "total: 50.5 %\tcurrent epoch: 3.2 %\tloss: 0.001213\ttime estimate: 8.8 min\n",
      "total: 51.1 %\tcurrent epoch: 6.4 %\tloss: 0.001226\ttime estimate: 8.8 min\n",
      "total: 51.6 %\tcurrent epoch: 9.6 %\tloss: 0.001212\ttime estimate: 8.9 min\n",
      "total: 52.1 %\tcurrent epoch: 12.8 %\tloss: 0.00122\ttime estimate: 8.9 min\n",
      "total: 52.7 %\tcurrent epoch: 16.0 %\tloss: 0.001229\ttime estimate: 8.9 min\n",
      "total: 53.2 %\tcurrent epoch: 19.2 %\tloss: 0.001203\ttime estimate: 8.9 min\n",
      "total: 53.7 %\tcurrent epoch: 22.4 %\tloss: 0.001222\ttime estimate: 8.8 min\n",
      "total: 54.3 %\tcurrent epoch: 25.6 %\tloss: 0.0012\ttime estimate: 8.8 min\n",
      "total: 54.8 %\tcurrent epoch: 28.8 %\tloss: 0.001238\ttime estimate: 8.8 min\n",
      "total: 55.3 %\tcurrent epoch: 32.0 %\tloss: 0.001208\ttime estimate: 8.8 min\n",
      "total: 55.9 %\tcurrent epoch: 35.2 %\tloss: 0.001168\ttime estimate: 8.8 min\n",
      "total: 56.4 %\tcurrent epoch: 38.4 %\tloss: 0.001173\ttime estimate: 8.8 min\n",
      "total: 56.9 %\tcurrent epoch: 41.6 %\tloss: 0.001234\ttime estimate: 8.7 min\n",
      "total: 57.5 %\tcurrent epoch: 44.8 %\tloss: 0.001201\ttime estimate: 8.7 min\n"
     ]
    },
    {
     "name": "stdout",
     "output_type": "stream",
     "text": [
      "total: 58.0 %\tcurrent epoch: 48.0 %\tloss: 0.001166\ttime estimate: 8.7 min\n",
      "total: 58.5 %\tcurrent epoch: 51.2 %\tloss: 0.001141\ttime estimate: 8.6 min\n",
      "total: 59.1 %\tcurrent epoch: 54.4 %\tloss: 0.001158\ttime estimate: 8.6 min\n",
      "total: 59.6 %\tcurrent epoch: 57.6 %\tloss: 0.001148\ttime estimate: 8.5 min\n",
      "total: 60.1 %\tcurrent epoch: 60.8 %\tloss: 0.001133\ttime estimate: 8.5 min\n",
      "total: 60.7 %\tcurrent epoch: 64.0 %\tloss: 0.001192\ttime estimate: 8.4 min\n",
      "total: 61.2 %\tcurrent epoch: 67.2 %\tloss: 0.001118\ttime estimate: 8.4 min\n",
      "total: 61.7 %\tcurrent epoch: 70.4 %\tloss: 0.001147\ttime estimate: 8.3 min\n",
      "total: 62.3 %\tcurrent epoch: 73.6 %\tloss: 0.001163\ttime estimate: 8.3 min\n",
      "total: 62.8 %\tcurrent epoch: 76.8 %\tloss: 0.001068\ttime estimate: 8.2 min\n",
      "total: 63.3 %\tcurrent epoch: 80.0 %\tloss: 0.001159\ttime estimate: 8.1 min\n",
      "total: 63.9 %\tcurrent epoch: 83.2 %\tloss: 0.001124\ttime estimate: 8.1 min\n",
      "total: 64.4 %\tcurrent epoch: 86.4 %\tloss: 0.001041\ttime estimate: 8.0 min\n",
      "total: 64.9 %\tcurrent epoch: 89.6 %\tloss: 0.001136\ttime estimate: 7.9 min\n",
      "total: 65.5 %\tcurrent epoch: 92.8 %\tloss: 0.0011\ttime estimate: 7.8 min\n",
      "total: 66.0 %\tcurrent epoch: 96.0 %\tloss: 0.001067\ttime estimate: 7.8 min\n",
      "total: 66.5 %\tcurrent epoch: 99.2 %\tloss: 0.001034\ttime estimate: 7.7 min\n",
      "saved checkpoint at: ./ModelCheckpoints/c7o2h10/epoch_3\n",
      "\n",
      "\n",
      "Epoch: 4\tlearning rate: 0.01\n",
      "---\n",
      "total: 67.2 %\tcurrent epoch: 3.2 %\tloss: 0.001025\ttime estimate: 7.6 min\n",
      "total: 67.7 %\tcurrent epoch: 6.4 %\tloss: 0.001022\ttime estimate: 7.5 min\n",
      "total: 68.3 %\tcurrent epoch: 9.6 %\tloss: 0.001031\ttime estimate: 7.4 min\n",
      "total: 68.8 %\tcurrent epoch: 12.8 %\tloss: 0.001034\ttime estimate: 7.3 min\n",
      "total: 69.3 %\tcurrent epoch: 16.0 %\tloss: 0.001045\ttime estimate: 7.2 min\n",
      "total: 69.9 %\tcurrent epoch: 19.2 %\tloss: 0.001003\ttime estimate: 7.2 min\n",
      "total: 70.4 %\tcurrent epoch: 22.4 %\tloss: 0.001023\ttime estimate: 7.1 min\n",
      "total: 70.9 %\tcurrent epoch: 25.6 %\tloss: 0.000992\ttime estimate: 7.0 min\n",
      "total: 71.5 %\tcurrent epoch: 28.8 %\tloss: 0.001041\ttime estimate: 6.9 min\n",
      "total: 72.0 %\tcurrent epoch: 32.0 %\tloss: 0.001005\ttime estimate: 6.8 min\n",
      "total: 72.5 %\tcurrent epoch: 35.2 %\tloss: 0.000996\ttime estimate: 6.7 min\n",
      "total: 73.1 %\tcurrent epoch: 38.4 %\tloss: 0.000999\ttime estimate: 6.6 min\n",
      "total: 73.6 %\tcurrent epoch: 41.6 %\tloss: 0.001039\ttime estimate: 6.5 min\n",
      "total: 74.1 %\tcurrent epoch: 44.8 %\tloss: 0.001011\ttime estimate: 6.4 min\n",
      "total: 74.7 %\tcurrent epoch: 48.0 %\tloss: 0.000978\ttime estimate: 6.3 min\n",
      "total: 75.2 %\tcurrent epoch: 51.2 %\tloss: 0.00096\ttime estimate: 6.2 min\n",
      "total: 75.7 %\tcurrent epoch: 54.4 %\tloss: 0.000969\ttime estimate: 6.0 min\n",
      "total: 76.3 %\tcurrent epoch: 57.6 %\tloss: 0.000962\ttime estimate: 5.9 min\n",
      "total: 76.8 %\tcurrent epoch: 60.8 %\tloss: 0.000955\ttime estimate: 5.8 min\n",
      "total: 77.3 %\tcurrent epoch: 64.0 %\tloss: 0.000994\ttime estimate: 5.7 min\n",
      "total: 77.9 %\tcurrent epoch: 67.2 %\tloss: 0.000942\ttime estimate: 5.6 min\n",
      "total: 78.4 %\tcurrent epoch: 70.4 %\tloss: 0.000954\ttime estimate: 5.5 min\n",
      "total: 78.9 %\tcurrent epoch: 73.6 %\tloss: 0.000957\ttime estimate: 5.4 min\n",
      "total: 79.5 %\tcurrent epoch: 76.8 %\tloss: 0.000905\ttime estimate: 5.2 min\n",
      "total: 80.0 %\tcurrent epoch: 80.0 %\tloss: 0.000964\ttime estimate: 5.1 min\n",
      "total: 80.5 %\tcurrent epoch: 83.2 %\tloss: 0.000946\ttime estimate: 4.9 min\n",
      "total: 81.1 %\tcurrent epoch: 86.4 %\tloss: 0.000869\ttime estimate: 4.8 min\n",
      "total: 81.6 %\tcurrent epoch: 89.6 %\tloss: 0.000977\ttime estimate: 4.6 min\n",
      "total: 82.1 %\tcurrent epoch: 92.8 %\tloss: 0.000902\ttime estimate: 4.5 min\n",
      "total: 82.7 %\tcurrent epoch: 96.0 %\tloss: 0.000883\ttime estimate: 4.3 min\n",
      "total: 83.2 %\tcurrent epoch: 99.2 %\tloss: 0.00088\ttime estimate: 4.2 min\n",
      "saved checkpoint at: ./ModelCheckpoints/c7o2h10/epoch_4\n",
      "\n",
      "\n",
      "Epoch: 5\tlearning rate: 0.01\n",
      "---\n",
      "total: 83.9 %\tcurrent epoch: 3.2 %\tloss: 0.000862\ttime estimate: 4.0 min\n",
      "total: 84.4 %\tcurrent epoch: 6.4 %\tloss: 0.000861\ttime estimate: 3.9 min\n",
      "total: 84.9 %\tcurrent epoch: 9.6 %\tloss: 0.000861\ttime estimate: 3.7 min\n",
      "total: 85.5 %\tcurrent epoch: 12.8 %\tloss: 0.000865\ttime estimate: 3.6 min\n",
      "total: 86.0 %\tcurrent epoch: 16.0 %\tloss: 0.000868\ttime estimate: 3.5 min\n",
      "total: 86.5 %\tcurrent epoch: 19.2 %\tloss: 0.000855\ttime estimate: 3.3 min\n",
      "total: 87.1 %\tcurrent epoch: 22.4 %\tloss: 0.000864\ttime estimate: 3.2 min\n",
      "total: 87.6 %\tcurrent epoch: 25.6 %\tloss: 0.000847\ttime estimate: 3.0 min\n",
      "total: 88.1 %\tcurrent epoch: 28.8 %\tloss: 0.00088\ttime estimate: 2.9 min\n",
      "total: 88.7 %\tcurrent epoch: 32.0 %\tloss: 0.000855\ttime estimate: 2.8 min\n",
      "total: 89.2 %\tcurrent epoch: 35.2 %\tloss: 0.000852\ttime estimate: 2.6 min\n",
      "total: 89.7 %\tcurrent epoch: 38.4 %\tloss: 0.000849\ttime estimate: 2.5 min\n",
      "total: 90.3 %\tcurrent epoch: 41.6 %\tloss: 0.000882\ttime estimate: 2.4 min\n",
      "total: 90.8 %\tcurrent epoch: 44.8 %\tloss: 0.000864\ttime estimate: 2.2 min\n",
      "total: 91.3 %\tcurrent epoch: 48.0 %\tloss: 0.000837\ttime estimate: 2.1 min\n",
      "total: 91.9 %\tcurrent epoch: 51.2 %\tloss: 0.0008\ttime estimate: 2.0 min\n",
      "total: 92.4 %\tcurrent epoch: 54.4 %\tloss: 0.000817\ttime estimate: 1.8 min\n",
      "total: 92.9 %\tcurrent epoch: 57.6 %\tloss: 0.000816\ttime estimate: 1.7 min\n",
      "total: 93.5 %\tcurrent epoch: 60.8 %\tloss: 0.000827\ttime estimate: 1.6 min\n",
      "total: 94.0 %\tcurrent epoch: 64.0 %\tloss: 0.000848\ttime estimate: 1.5 min\n",
      "total: 94.5 %\tcurrent epoch: 67.2 %\tloss: 0.000816\ttime estimate: 1.3 min\n",
      "total: 95.1 %\tcurrent epoch: 70.4 %\tloss: 0.000825\ttime estimate: 1.2 min\n",
      "total: 95.6 %\tcurrent epoch: 73.6 %\tloss: 0.000827\ttime estimate: 1.1 min\n",
      "total: 96.1 %\tcurrent epoch: 76.8 %\tloss: 0.000777\ttime estimate: 0.9 min\n",
      "total: 96.7 %\tcurrent epoch: 80.0 %\tloss: 0.000834\ttime estimate: 0.8 min\n",
      "total: 97.2 %\tcurrent epoch: 83.2 %\tloss: 0.000821\ttime estimate: 0.7 min\n",
      "total: 97.7 %\tcurrent epoch: 86.4 %\tloss: 0.000744\ttime estimate: 0.6 min\n",
      "total: 98.3 %\tcurrent epoch: 89.6 %\tloss: 0.000837\ttime estimate: 0.4 min\n",
      "total: 98.8 %\tcurrent epoch: 92.8 %\tloss: 0.000791\ttime estimate: 0.3 min\n",
      "total: 99.3 %\tcurrent epoch: 96.0 %\tloss: 0.000774\ttime estimate: 0.2 min\n",
      "total: 99.9 %\tcurrent epoch: 99.2 %\tloss: 0.000772\ttime estimate: 0.0 min\n",
      "saved checkpoint at: ./ModelCheckpoints/c7o2h10/epoch_5\n",
      "\n"
     ]
    },
    {
     "data": {
      "image/png": "[encoded data removed]",
      "text/plain": [
       "<Figure size 432x288 with 1 Axes>"
      ]
     },
     "metadata": {},
     "output_type": "display_data"
    },
    {
     "data": {
      "image/png": "[encoded data removed]",
      "text/plain": [
       "<Figure size 432x288 with 1 Axes>"
      ]
     },
     "metadata": {},
     "output_type": "display_data"
    }
   ],
   "source": [
    "if use_cuda:\n",
    "    init_deep_pot = DeepPotential().cuda()\n",
    "else:\n",
    "    init_deep_pot = DeepPotential()\n",
    "init_optim = torch.optim.Adam(init_deep_pot.parameters())\n",
    "deep_pot, optim = train(init_deep_pot, init_optim, X_train, Y_train,\n",
    "                        X_test, Y_test,\n",
    "                        6, 128, (0.01, 0.96, 1.5),\n",
    "                        checkpoint_path=model_path, print_every=100)"
   ]
  },
  {
   "cell_type": "code",
   "execution_count": 18,
   "metadata": {},
   "outputs": [],
   "source": [
    "#deep_pot = DeepPotential().cuda()\n",
    "#deep_pot.load_state_dict(torch.load('./ModelCheckpoints/epoch_13'))\n",
    "Y_result = deep_pot.forward(X_test)"
   ]
  },
  {
   "cell_type": "code",
   "execution_count": 24,
   "metadata": {},
   "outputs": [],
   "source": [
    "result = backtransform(np.array(Y_result.data.tolist()), Y_min, Y_max)"
   ]
  },
  {
   "cell_type": "code",
   "execution_count": 25,
   "metadata": {},
   "outputs": [],
   "source": [
    "test_labels = backtransform(np.array(Y_test), Y_min, Y_max)"
   ]
  },
  {
   "cell_type": "code",
   "execution_count": 31,
   "metadata": {},
   "outputs": [
    {
     "data": {
      "text/plain": [
       "array([[-0.16871614,  0.48460418, -0.13355989,  0.33909636,  0.28440886,\n",
       "        -0.02613801,  0.02757293,  0.27854949, -0.15113801, -0.14527864],\n",
       "       [-0.66175984, -0.00843952, -0.62660359, -0.15394734, -0.20863484,\n",
       "        -0.51918171, -0.46547077, -0.21449421, -0.64418171, -0.63832234],\n",
       "       [-0.05777775,  0.59554256, -0.0226215 ,  0.45003475,  0.39534725,\n",
       "         0.08480037,  0.13851131,  0.38948787, -0.04019963, -0.03434025],\n",
       "       [-0.63961755,  0.01370276, -0.6044613 , -0.13180505, -0.18649255,\n",
       "        -0.49703943, -0.44332849, -0.19235193, -0.62203943, -0.61618005],\n",
       "       [-0.2374878 ,  0.41583252, -0.20233155,  0.2703247 ,  0.2156372 ,\n",
       "        -0.09490967, -0.04119873,  0.20977783, -0.21990967, -0.2140503 ],\n",
       "       [-0.24397317,  0.40934714, -0.20881692,  0.26383933,  0.20915183,\n",
       "        -0.10139505, -0.04768411,  0.20329245, -0.22639505, -0.22053567],\n",
       "       [-0.05472288,  0.59859744, -0.01956663,  0.45308962,  0.39840212,\n",
       "         0.08785525,  0.14156619,  0.39254275, -0.03714475, -0.03128538],\n",
       "       [-0.40353546,  0.24978485, -0.36837921,  0.10427704,  0.04958954,\n",
       "        -0.26095734, -0.2072464 ,  0.04373016, -0.38595734, -0.38009796],\n",
       "       [-0.2326479 ,  0.42067242, -0.19749165,  0.2751646 ,  0.2204771 ,\n",
       "        -0.09006977, -0.03635883,  0.21461773, -0.21506977, -0.2092104 ],\n",
       "       [-0.30599356,  0.34732675, -0.27083731,  0.20181894,  0.14713144,\n",
       "        -0.16341543, -0.1097045 ,  0.14127207, -0.28841543, -0.28255606]])"
      ]
     },
     "execution_count": 31,
     "metadata": {},
     "output_type": "execute_result"
    }
   ],
   "source": [
    "test_labels[:10] - result[:10]"
   ]
  },
  {
   "cell_type": "code",
   "execution_count": 30,
   "metadata": {},
   "outputs": [
    {
     "data": {
      "text/plain": [
       "array([[11503.8571927 ],\n",
       "       [11504.3502364 ],\n",
       "       [11503.74625432],\n",
       "       [11504.32809411],\n",
       "       [11503.92596436],\n",
       "       [11503.93244974],\n",
       "       [11503.74319944],\n",
       "       [11504.09201203],\n",
       "       [11503.92112446],\n",
       "       [11503.99447012]])"
      ]
     },
     "execution_count": 30,
     "metadata": {},
     "output_type": "execute_result"
    }
   ],
   "source": []
  },
  {
   "cell_type": "code",
   "execution_count": 26,
   "metadata": {},
   "outputs": [
    {
     "data": {
      "text/plain": [
       "0.8954290940146867"
      ]
     },
     "execution_count": 26,
     "metadata": {},
     "output_type": "execute_result"
    }
   ],
   "source": [
    "np.mean(np.abs(test_labels - result))"
   ]
  },
  {
   "cell_type": "markdown",
   "metadata": {},
   "source": [
    "## Test the model\n",
    "### Mean Absolute Error\n",
    "The desired accuracy is about 0.04 eV"
   ]
  },
  {
   "cell_type": "code",
   "execution_count": null,
   "metadata": {},
   "outputs": [],
   "source": [
    "mae = np.abs(deep_pot.forward(X_data[-500:]).data.numpy().reshape(500) - Y_data[-500:].data.numpy().reshape(500)).mean()\n",
    "print('The nural network reaches a mean absolute error of {} eV'.format(mae))"
   ]
  },
  {
   "cell_type": "markdown",
   "metadata": {},
   "source": [
    "### Small test sample"
   ]
  },
  {
   "cell_type": "code",
   "execution_count": null,
   "metadata": {},
   "outputs": [],
   "source": [
    "deep_pot.forward(X_data[-10:])"
   ]
  },
  {
   "cell_type": "code",
   "execution_count": null,
   "metadata": {},
   "outputs": [],
   "source": [
    "Y_data[-10:]"
   ]
  },
  {
   "cell_type": "markdown",
   "metadata": {},
   "source": [
    "## Save the Model Parameters"
   ]
  },
  {
   "cell_type": "code",
   "execution_count": null,
   "metadata": {},
   "outputs": [],
   "source": [
    "torch.save(deep_pot.state_dict(), model_path)"
   ]
  },
  {
   "cell_type": "markdown",
   "metadata": {},
   "source": [
    "## Continue learning"
   ]
  },
  {
   "cell_type": "code",
   "execution_count": null,
   "metadata": {},
   "outputs": [],
   "source": [
    "deep_pot = DeepPotential()\n",
    "deep_pot.load_state_dict(torch.load(model_path))\n",
    "optim = torch.optim.Adam(deep_pot.parameters(), lr=1e-2)"
   ]
  },
  {
   "cell_type": "code",
   "execution_count": null,
   "metadata": {},
   "outputs": [],
   "source": [
    "deep_pot, optim = train(deep_pot, optim, X_data, Y_data, 1000, 512, (0.001, 0.96, 1.5), use_for_train=0.9, print_every=10)"
   ]
  },
  {
   "cell_type": "code",
   "execution_count": null,
   "metadata": {},
   "outputs": [],
   "source": []
  }
 ],
 "metadata": {
  "kernelspec": {
   "display_name": "Python 3",
   "language": "python",
   "name": "python3"
  },
  "language_info": {
   "codemirror_mode": {
    "name": "ipython",
    "version": 3
   },
   "file_extension": ".py",
   "mimetype": "text/x-python",
   "name": "python",
   "nbconvert_exporter": "python",
   "pygments_lexer": "ipython3",
   "version": "3.6.5"
  }
 },
 "nbformat": 4,
 "nbformat_minor": 2
}
