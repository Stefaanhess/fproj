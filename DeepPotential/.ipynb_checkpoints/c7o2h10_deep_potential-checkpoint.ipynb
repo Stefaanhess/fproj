{
 "cells": [
  {
   "cell_type": "markdown",
   "metadata": {},
   "source": [
    "# Imports,  Settings and Paths"
   ]
  },
  {
   "cell_type": "code",
   "execution_count": 1,
   "metadata": {},
   "outputs": [],
   "source": [
    "import numpy as np\n",
    "from matplotlib import pyplot as plt\n",
    "import pandas as pd\n",
    "%matplotlib inline\n",
    "import torch\n",
    "from torch.autograd import Variable\n",
    "import torch.nn as nn\n",
    "import torch.nn.functional as F\n",
    "import time"
   ]
  },
  {
   "cell_type": "code",
   "execution_count": 19,
   "metadata": {},
   "outputs": [],
   "source": [
    "from Code.Models.c7o2h10_model import DeepPotential, train, normalize, backtransform"
   ]
  },
  {
   "cell_type": "code",
   "execution_count": 3,
   "metadata": {},
   "outputs": [],
   "source": [
    "data_path = './Dataset/c7o2h10_X.npy'\n",
    "label_path = './Dataset/c7o2h10_Y.npy'\n",
    "model_path = './ModelCheckpoints/c7o2h10/ '"
   ]
  },
  {
   "cell_type": "markdown",
   "metadata": {},
   "source": [
    "# Read the Data"
   ]
  },
  {
   "cell_type": "code",
   "execution_count": 4,
   "metadata": {
    "scrolled": true
   },
   "outputs": [
    {
     "data": {
      "text/plain": [
       "(404000, 19, 72)"
      ]
     },
     "execution_count": 4,
     "metadata": {},
     "output_type": "execute_result"
    }
   ],
   "source": [
    "X_train_npy = np.load(data_path)\n",
    "Y_train_npy = np.load(label_path) * -1\n",
    "X_train_npy.shape"
   ]
  },
  {
   "cell_type": "code",
   "execution_count": 5,
   "metadata": {},
   "outputs": [
    {
     "data": {
      "text/plain": [
       "array([11504.47279925, 11503.90459319, 11503.87676487, 11503.74995889,\n",
       "       11503.70252929, 11504.1727455 , 11503.6886774 , 11504.1181435 ,\n",
       "       11504.30685716, 11504.02239435])"
      ]
     },
     "execution_count": 5,
     "metadata": {},
     "output_type": "execute_result"
    }
   ],
   "source": [
    "Y_train_npy[:10]"
   ]
  },
  {
   "cell_type": "markdown",
   "metadata": {},
   "source": [
    "### Check for NaN values"
   ]
  },
  {
   "cell_type": "code",
   "execution_count": 6,
   "metadata": {
    "scrolled": true
   },
   "outputs": [
    {
     "name": "stdout",
     "output_type": "stream",
     "text": [
      "0 Datapoints with NaN values found.\n"
     ]
    }
   ],
   "source": [
    "use_ids = np.where(np.isnan(X_train_npy).sum(axis=2).sum(axis=1)==0)\n",
    "print('{} Datapoints with NaN values found.'.format(X_train_npy.shape[0] - len(use_ids[0])))"
   ]
  },
  {
   "cell_type": "code",
   "execution_count": 7,
   "metadata": {
    "scrolled": true
   },
   "outputs": [
    {
     "data": {
      "text/plain": [
       "(404000, 19, 72)"
      ]
     },
     "execution_count": 7,
     "metadata": {},
     "output_type": "execute_result"
    }
   ],
   "source": [
    "X_train_npy = X_train_npy[use_ids]\n",
    "Y_train_npy = Y_train_npy[use_ids]\n",
    "X_train_npy.shape"
   ]
  },
  {
   "cell_type": "markdown",
   "metadata": {},
   "source": [
    "### Shuffle the Dataset"
   ]
  },
  {
   "cell_type": "code",
   "execution_count": 8,
   "metadata": {},
   "outputs": [],
   "source": [
    "shuffle = np.arange(X_train_npy.shape[0])\n",
    "np.random.shuffle(shuffle)\n",
    "X_train_npy = X_train_npy[shuffle]\n",
    "Y_train_npy = Y_train_npy[shuffle]"
   ]
  },
  {
   "cell_type": "markdown",
   "metadata": {},
   "source": [
    "### Normalize Dataset"
   ]
  },
  {
   "cell_type": "code",
   "execution_count": 9,
   "metadata": {},
   "outputs": [],
   "source": [
    "#Y_min = Y_train_npy.min()\n",
    "#Y_train_npy -= Y_min\n",
    "#Y_max = Y_train_npy.max()\n",
    "#Y_train_npy /= Y_max"
   ]
  },
  {
   "cell_type": "code",
   "execution_count": 10,
   "metadata": {},
   "outputs": [],
   "source": [
    "#print('Mean: {}\\nVariance: {}'.format(Y_train_npy.mean(), Y_train_npy.var()))"
   ]
  },
  {
   "cell_type": "markdown",
   "metadata": {},
   "source": [
    "### Create Pytorch Variables"
   ]
  },
  {
   "cell_type": "code",
   "execution_count": 11,
   "metadata": {},
   "outputs": [],
   "source": [
    "X_data = Variable(torch.Tensor(X_train_npy).cuda())\n",
    "Y_data = Variable(torch.Tensor(Y_train_npy).cuda(), requires_grad=False)"
   ]
  },
  {
   "cell_type": "code",
   "execution_count": null,
   "metadata": {},
   "outputs": [],
   "source": []
  },
  {
   "cell_type": "markdown",
   "metadata": {},
   "source": [
    "# Train Model"
   ]
  },
  {
   "cell_type": "markdown",
   "metadata": {},
   "source": [
    "## Do the learning"
   ]
  },
  {
   "cell_type": "code",
   "execution_count": 12,
   "metadata": {},
   "outputs": [
    {
     "name": "stdout",
     "output_type": "stream",
     "text": [
      "\n",
      "Epoch: 0\tlearning rate: 0.01\n",
      "---\n",
      "total: 0.0 %\tcurrent epoch: 4.0 %\tloss: 0.379397\ttime estimate: 878.7 min\n",
      "total: 0.0 %\tcurrent epoch: 7.9 %\tloss: 0.013509\ttime estimate: 892.8 min\n",
      "total: 0.0 %\tcurrent epoch: 11.9 %\tloss: 0.013235\ttime estimate: 886.0 min\n",
      "total: 0.1 %\tcurrent epoch: 15.8 %\tloss: 0.012725\ttime estimate: 886.3 min\n",
      "total: 0.1 %\tcurrent epoch: 19.8 %\tloss: 0.012234\ttime estimate: 883.2 min\n",
      "total: 0.1 %\tcurrent epoch: 23.8 %\tloss: 0.011485\ttime estimate: 881.9 min\n",
      "total: 0.1 %\tcurrent epoch: 27.7 %\tloss: 0.010689\ttime estimate: 882.8 min\n",
      "total: 0.1 %\tcurrent epoch: 31.7 %\tloss: 0.009495\ttime estimate: 883.8 min\n",
      "total: 0.1 %\tcurrent epoch: 35.7 %\tloss: 0.007964\ttime estimate: 885.4 min\n",
      "total: 0.1 %\tcurrent epoch: 39.6 %\tloss: 0.006758\ttime estimate: 887.0 min\n",
      "total: 0.1 %\tcurrent epoch: 43.6 %\tloss: 0.005891\ttime estimate: 888.1 min\n",
      "total: 0.2 %\tcurrent epoch: 47.5 %\tloss: 0.005391\ttime estimate: 889.1 min\n",
      "total: 0.2 %\tcurrent epoch: 51.5 %\tloss: 0.004762\ttime estimate: 890.2 min\n",
      "total: 0.2 %\tcurrent epoch: 55.5 %\tloss: 0.004574\ttime estimate: 890.8 min\n",
      "total: 0.2 %\tcurrent epoch: 59.4 %\tloss: 0.004197\ttime estimate: 891.0 min\n",
      "total: 0.2 %\tcurrent epoch: 63.4 %\tloss: 0.004135\ttime estimate: 891.6 min\n",
      "total: 0.2 %\tcurrent epoch: 67.4 %\tloss: 0.00403\ttime estimate: 892.1 min\n",
      "total: 0.2 %\tcurrent epoch: 71.3 %\tloss: 0.003785\ttime estimate: 892.7 min\n",
      "total: 0.3 %\tcurrent epoch: 75.3 %\tloss: 0.003633\ttime estimate: 893.3 min\n",
      "total: 0.3 %\tcurrent epoch: 79.2 %\tloss: 0.003587\ttime estimate: 886.0 min\n",
      "total: 0.3 %\tcurrent epoch: 83.2 %\tloss: 0.003384\ttime estimate: 860.5 min\n",
      "total: 0.3 %\tcurrent epoch: 87.2 %\tloss: 0.003468\ttime estimate: 836.4 min\n",
      "total: 0.3 %\tcurrent epoch: 91.1 %\tloss: 0.003251\ttime estimate: 814.2 min\n",
      "total: 0.3 %\tcurrent epoch: 95.1 %\tloss: 0.003377\ttime estimate: 805.3 min\n",
      "total: 0.3 %\tcurrent epoch: 99.0 %\tloss: 0.003264\ttime estimate: 808.8 min\n",
      "saved checkpoint at: ModelCheckpoints/epoch_0\n",
      "\n",
      "\n",
      "Epoch: 1\tlearning rate: 0.00973\n",
      "---\n",
      "total: 0.3 %\tcurrent epoch: 4.0 %\tloss: 0.003014\ttime estimate: 807.5 min\n",
      "total: 0.4 %\tcurrent epoch: 7.9 %\tloss: 0.003126\ttime estimate: 789.7 min\n",
      "total: 0.4 %\tcurrent epoch: 11.9 %\tloss: 0.00305\ttime estimate: 773.0 min\n",
      "total: 0.4 %\tcurrent epoch: 15.8 %\tloss: 0.003007\ttime estimate: 757.4 min\n",
      "total: 0.4 %\tcurrent epoch: 19.8 %\tloss: 0.002937\ttime estimate: 742.8 min\n",
      "total: 0.4 %\tcurrent epoch: 23.8 %\tloss: 0.002907\ttime estimate: 729.2 min\n",
      "total: 0.4 %\tcurrent epoch: 27.7 %\tloss: 0.002906\ttime estimate: 716.4 min\n",
      "total: 0.4 %\tcurrent epoch: 31.7 %\tloss: 0.002826\ttime estimate: 704.4 min\n",
      "total: 0.5 %\tcurrent epoch: 35.7 %\tloss: 0.002772\ttime estimate: 693.0 min\n",
      "total: 0.5 %\tcurrent epoch: 39.6 %\tloss: 0.002809\ttime estimate: 682.4 min\n",
      "total: 0.5 %\tcurrent epoch: 43.6 %\tloss: 0.00272\ttime estimate: 672.3 min\n",
      "total: 0.5 %\tcurrent epoch: 47.5 %\tloss: 0.002727\ttime estimate: 662.7 min\n",
      "total: 0.5 %\tcurrent epoch: 51.5 %\tloss: 0.002619\ttime estimate: 653.6 min\n",
      "total: 0.5 %\tcurrent epoch: 55.5 %\tloss: 0.00271\ttime estimate: 645.0 min\n",
      "total: 0.5 %\tcurrent epoch: 59.4 %\tloss: 0.002594\ttime estimate: 636.9 min\n",
      "total: 0.5 %\tcurrent epoch: 63.4 %\tloss: 0.002572\ttime estimate: 629.1 min\n",
      "total: 0.6 %\tcurrent epoch: 67.4 %\tloss: 0.002571\ttime estimate: 621.7 min\n",
      "total: 0.6 %\tcurrent epoch: 71.3 %\tloss: 0.0025\ttime estimate: 614.6 min\n",
      "total: 0.6 %\tcurrent epoch: 75.3 %\tloss: 0.002477\ttime estimate: 607.8 min\n",
      "total: 0.6 %\tcurrent epoch: 79.2 %\tloss: 0.002399\ttime estimate: 601.4 min\n",
      "total: 0.6 %\tcurrent epoch: 83.2 %\tloss: 0.002516\ttime estimate: 595.2 min\n",
      "total: 0.6 %\tcurrent epoch: 87.2 %\tloss: 0.002466\ttime estimate: 589.3 min\n",
      "total: 0.6 %\tcurrent epoch: 91.1 %\tloss: 0.002395\ttime estimate: 583.6 min\n",
      "total: 0.7 %\tcurrent epoch: 95.1 %\tloss: 0.002458\ttime estimate: 578.1 min\n",
      "total: 0.7 %\tcurrent epoch: 99.0 %\tloss: 0.002411\ttime estimate: 572.9 min\n",
      "saved checkpoint at: ModelCheckpoints/epoch_1\n",
      "\n",
      "\n",
      "Epoch: 2\tlearning rate: 0.00947\n",
      "---\n",
      "total: 0.7 %\tcurrent epoch: 4.0 %\tloss: 0.0023\ttime estimate: 566.8 min\n",
      "total: 0.7 %\tcurrent epoch: 7.9 %\tloss: 0.002388\ttime estimate: 562.0 min\n",
      "total: 0.7 %\tcurrent epoch: 11.9 %\tloss: 0.00238\ttime estimate: 557.4 min\n",
      "total: 0.7 %\tcurrent epoch: 15.8 %\tloss: 0.00235\ttime estimate: 552.9 min\n",
      "total: 0.7 %\tcurrent epoch: 19.8 %\tloss: 0.002288\ttime estimate: 548.6 min\n",
      "total: 0.7 %\tcurrent epoch: 23.8 %\tloss: 0.002263\ttime estimate: 544.5 min\n",
      "total: 0.8 %\tcurrent epoch: 27.7 %\tloss: 0.002325\ttime estimate: 540.5 min\n",
      "total: 0.8 %\tcurrent epoch: 31.7 %\tloss: 0.002226\ttime estimate: 536.6 min\n",
      "total: 0.8 %\tcurrent epoch: 35.7 %\tloss: 0.002199\ttime estimate: 532.9 min\n",
      "total: 0.8 %\tcurrent epoch: 39.6 %\tloss: 0.002229\ttime estimate: 529.3 min\n",
      "total: 0.8 %\tcurrent epoch: 43.6 %\tloss: 0.002202\ttime estimate: 525.8 min\n",
      "total: 0.8 %\tcurrent epoch: 47.5 %\tloss: 0.002193\ttime estimate: 522.4 min\n",
      "total: 0.8 %\tcurrent epoch: 51.5 %\tloss: 0.002137\ttime estimate: 519.2 min\n",
      "total: 0.9 %\tcurrent epoch: 55.5 %\tloss: 0.00223\ttime estimate: 516.0 min\n",
      "total: 0.9 %\tcurrent epoch: 59.4 %\tloss: 0.002117\ttime estimate: 512.9 min\n",
      "total: 0.9 %\tcurrent epoch: 63.4 %\tloss: 0.002131\ttime estimate: 509.9 min\n",
      "total: 0.9 %\tcurrent epoch: 67.4 %\tloss: 0.00212\ttime estimate: 507.0 min\n",
      "total: 0.9 %\tcurrent epoch: 71.3 %\tloss: 0.002132\ttime estimate: 504.2 min\n",
      "total: 0.9 %\tcurrent epoch: 75.3 %\tloss: 0.002094\ttime estimate: 501.4 min\n",
      "total: 0.9 %\tcurrent epoch: 79.2 %\tloss: 0.002029\ttime estimate: 498.8 min\n",
      "total: 0.9 %\tcurrent epoch: 83.2 %\tloss: 0.002115\ttime estimate: 496.2 min\n",
      "total: 1.0 %\tcurrent epoch: 87.2 %\tloss: 0.002088\ttime estimate: 493.7 min\n",
      "total: 1.0 %\tcurrent epoch: 91.1 %\tloss: 0.002075\ttime estimate: 491.2 min\n",
      "total: 1.0 %\tcurrent epoch: 95.1 %\tloss: 0.002051\ttime estimate: 488.8 min\n",
      "total: 1.0 %\tcurrent epoch: 99.0 %\tloss: 0.002058\ttime estimate: 486.5 min\n",
      "saved checkpoint at: ModelCheckpoints/epoch_2\n",
      "\n",
      "\n",
      "Epoch: 3\tlearning rate: 0.00922\n",
      "---\n",
      "total: 1.0 %\tcurrent epoch: 4.0 %\tloss: 0.001991\ttime estimate: 483.8 min\n",
      "total: 1.0 %\tcurrent epoch: 7.9 %\tloss: 0.002043\ttime estimate: 481.6 min\n",
      "total: 1.0 %\tcurrent epoch: 11.9 %\tloss: 0.002051\ttime estimate: 479.5 min\n",
      "total: 1.1 %\tcurrent epoch: 15.8 %\tloss: 0.002003\ttime estimate: 477.4 min\n",
      "total: 1.1 %\tcurrent epoch: 19.8 %\tloss: 0.001964\ttime estimate: 475.4 min\n",
      "total: 1.1 %\tcurrent epoch: 23.8 %\tloss: 0.001935\ttime estimate: 473.4 min\n",
      "total: 1.1 %\tcurrent epoch: 27.7 %\tloss: 0.001997\ttime estimate: 471.4 min\n",
      "total: 1.1 %\tcurrent epoch: 31.7 %\tloss: 0.001933\ttime estimate: 469.5 min\n",
      "total: 1.1 %\tcurrent epoch: 35.7 %\tloss: 0.00192\ttime estimate: 467.7 min\n",
      "total: 1.1 %\tcurrent epoch: 39.6 %\tloss: 0.001954\ttime estimate: 465.9 min\n",
      "total: 1.1 %\tcurrent epoch: 43.6 %\tloss: 0.001907\ttime estimate: 464.1 min\n",
      "total: 1.2 %\tcurrent epoch: 47.5 %\tloss: 0.001938\ttime estimate: 462.4 min\n",
      "total: 1.2 %\tcurrent epoch: 51.5 %\tloss: 0.001888\ttime estimate: 460.7 min\n",
      "total: 1.2 %\tcurrent epoch: 55.5 %\tloss: 0.001971\ttime estimate: 459.0 min\n",
      "total: 1.2 %\tcurrent epoch: 59.4 %\tloss: 0.001869\ttime estimate: 457.4 min\n",
      "total: 1.2 %\tcurrent epoch: 63.4 %\tloss: 0.001893\ttime estimate: 455.8 min\n",
      "total: 1.2 %\tcurrent epoch: 67.4 %\tloss: 0.001875\ttime estimate: 454.3 min\n",
      "total: 1.2 %\tcurrent epoch: 71.3 %\tloss: 0.001924\ttime estimate: 452.7 min\n",
      "total: 1.3 %\tcurrent epoch: 75.3 %\tloss: 0.001885\ttime estimate: 451.2 min\n",
      "total: 1.3 %\tcurrent epoch: 79.2 %\tloss: 0.001844\ttime estimate: 449.8 min\n",
      "total: 1.3 %\tcurrent epoch: 83.2 %\tloss: 0.001854\ttime estimate: 448.3 min\n",
      "total: 1.3 %\tcurrent epoch: 87.2 %\tloss: 0.001867\ttime estimate: 446.9 min\n",
      "total: 1.3 %\tcurrent epoch: 91.1 %\tloss: 0.001869\ttime estimate: 445.6 min\n",
      "total: 1.3 %\tcurrent epoch: 95.1 %\tloss: 0.001827\ttime estimate: 447.1 min\n",
      "total: 1.3 %\tcurrent epoch: 99.0 %\tloss: 0.001856\ttime estimate: 451.5 min\n",
      "saved checkpoint at: ModelCheckpoints/epoch_3\n",
      "\n",
      "\n",
      "Epoch: 4\tlearning rate: 0.00897\n",
      "---\n",
      "total: 1.3 %\tcurrent epoch: 4.0 %\tloss: 0.001806\ttime estimate: 456.8 min\n",
      "total: 1.4 %\tcurrent epoch: 7.9 %\tloss: 0.001839\ttime estimate: 458.0 min\n",
      "total: 1.4 %\tcurrent epoch: 11.9 %\tloss: 0.001824\ttime estimate: 456.6 min\n",
      "total: 1.4 %\tcurrent epoch: 15.8 %\tloss: 0.001788\ttime estimate: 455.2 min\n",
      "total: 1.4 %\tcurrent epoch: 19.8 %\tloss: 0.001764\ttime estimate: 453.9 min\n"
     ]
    },
    {
     "name": "stdout",
     "output_type": "stream",
     "text": [
      "total: 1.4 %\tcurrent epoch: 23.8 %\tloss: 0.001735\ttime estimate: 452.5 min\n",
      "total: 1.4 %\tcurrent epoch: 27.7 %\tloss: 0.001788\ttime estimate: 451.2 min\n",
      "total: 1.4 %\tcurrent epoch: 31.7 %\tloss: 0.001742\ttime estimate: 449.9 min\n",
      "total: 1.5 %\tcurrent epoch: 35.7 %\tloss: 0.001746\ttime estimate: 448.6 min\n",
      "total: 1.5 %\tcurrent epoch: 39.6 %\tloss: 0.001778\ttime estimate: 447.4 min\n",
      "total: 1.5 %\tcurrent epoch: 43.6 %\tloss: 0.001719\ttime estimate: 446.2 min\n",
      "total: 1.5 %\tcurrent epoch: 47.5 %\tloss: 0.00177\ttime estimate: 445.0 min\n",
      "total: 1.5 %\tcurrent epoch: 51.5 %\tloss: 0.001727\ttime estimate: 443.8 min\n",
      "total: 1.5 %\tcurrent epoch: 55.5 %\tloss: 0.001769\ttime estimate: 442.6 min\n",
      "total: 1.5 %\tcurrent epoch: 59.4 %\tloss: 0.001704\ttime estimate: 441.5 min\n",
      "total: 1.5 %\tcurrent epoch: 63.4 %\tloss: 0.00172\ttime estimate: 440.3 min\n",
      "total: 1.6 %\tcurrent epoch: 67.4 %\tloss: 0.001717\ttime estimate: 439.2 min\n",
      "total: 1.6 %\tcurrent epoch: 71.3 %\tloss: 0.001759\ttime estimate: 438.1 min\n",
      "total: 1.6 %\tcurrent epoch: 75.3 %\tloss: 0.00173\ttime estimate: 437.0 min\n",
      "total: 1.6 %\tcurrent epoch: 79.2 %\tloss: 0.001706\ttime estimate: 436.0 min\n",
      "total: 1.6 %\tcurrent epoch: 83.2 %\tloss: 0.001695\ttime estimate: 434.9 min\n",
      "total: 1.6 %\tcurrent epoch: 87.2 %\tloss: 0.001709\ttime estimate: 433.9 min\n",
      "total: 1.6 %\tcurrent epoch: 91.1 %\tloss: 0.001704\ttime estimate: 432.9 min\n",
      "total: 1.7 %\tcurrent epoch: 95.1 %\tloss: 0.001666\ttime estimate: 431.9 min\n",
      "total: 1.7 %\tcurrent epoch: 99.0 %\tloss: 0.001697\ttime estimate: 430.9 min\n",
      "saved checkpoint at: ModelCheckpoints/epoch_4\n",
      "\n",
      "\n",
      "Epoch: 5\tlearning rate: 0.00873\n",
      "---\n",
      "total: 1.7 %\tcurrent epoch: 4.0 %\tloss: 0.001657\ttime estimate: 429.8 min\n",
      "total: 1.7 %\tcurrent epoch: 7.9 %\tloss: 0.001695\ttime estimate: 428.9 min\n",
      "total: 1.7 %\tcurrent epoch: 11.9 %\tloss: 0.001669\ttime estimate: 428.0 min\n",
      "total: 1.7 %\tcurrent epoch: 15.8 %\tloss: 0.001648\ttime estimate: 427.0 min\n",
      "total: 1.7 %\tcurrent epoch: 19.8 %\tloss: 0.001627\ttime estimate: 426.1 min\n",
      "total: 1.7 %\tcurrent epoch: 23.8 %\tloss: 0.001583\ttime estimate: 425.2 min\n",
      "total: 1.8 %\tcurrent epoch: 27.7 %\tloss: 0.001628\ttime estimate: 424.4 min\n",
      "total: 1.8 %\tcurrent epoch: 31.7 %\tloss: 0.001604\ttime estimate: 423.5 min\n",
      "total: 1.8 %\tcurrent epoch: 35.7 %\tloss: 0.001629\ttime estimate: 422.6 min\n",
      "total: 1.8 %\tcurrent epoch: 39.6 %\tloss: 0.001639\ttime estimate: 421.8 min\n",
      "total: 1.8 %\tcurrent epoch: 43.6 %\tloss: 0.001573\ttime estimate: 421.0 min\n",
      "total: 1.8 %\tcurrent epoch: 47.5 %\tloss: 0.001637\ttime estimate: 420.2 min\n",
      "total: 1.8 %\tcurrent epoch: 51.5 %\tloss: 0.001599\ttime estimate: 419.3 min\n",
      "total: 1.9 %\tcurrent epoch: 55.5 %\tloss: 0.001622\ttime estimate: 418.5 min\n",
      "total: 1.9 %\tcurrent epoch: 59.4 %\tloss: 0.001584\ttime estimate: 417.8 min\n",
      "total: 1.9 %\tcurrent epoch: 63.4 %\tloss: 0.001593\ttime estimate: 417.0 min\n",
      "total: 1.9 %\tcurrent epoch: 67.4 %\tloss: 0.001599\ttime estimate: 416.2 min\n",
      "total: 1.9 %\tcurrent epoch: 71.3 %\tloss: 0.001657\ttime estimate: 415.5 min\n",
      "total: 1.9 %\tcurrent epoch: 75.3 %\tloss: 0.001611\ttime estimate: 414.7 min\n",
      "total: 1.9 %\tcurrent epoch: 79.2 %\tloss: 0.001587\ttime estimate: 414.0 min\n",
      "total: 1.9 %\tcurrent epoch: 83.2 %\tloss: 0.001567\ttime estimate: 413.3 min\n",
      "total: 2.0 %\tcurrent epoch: 87.2 %\tloss: 0.001581\ttime estimate: 412.5 min\n",
      "total: 2.0 %\tcurrent epoch: 91.1 %\tloss: 0.001571\ttime estimate: 411.8 min\n",
      "total: 2.0 %\tcurrent epoch: 95.1 %\tloss: 0.001557\ttime estimate: 411.1 min\n",
      "total: 2.0 %\tcurrent epoch: 99.0 %\tloss: 0.001579\ttime estimate: 410.4 min\n",
      "saved checkpoint at: ModelCheckpoints/epoch_5\n",
      "\n",
      "\n",
      "Epoch: 6\tlearning rate: 0.00849\n",
      "---\n",
      "total: 2.0 %\tcurrent epoch: 4.0 %\tloss: 0.001533\ttime estimate: 409.7 min\n",
      "total: 2.0 %\tcurrent epoch: 7.9 %\tloss: 0.001568\ttime estimate: 409.0 min\n",
      "total: 2.0 %\tcurrent epoch: 11.9 %\tloss: 0.001551\ttime estimate: 408.3 min\n",
      "total: 2.1 %\tcurrent epoch: 15.8 %\tloss: 0.001529\ttime estimate: 407.7 min\n",
      "total: 2.1 %\tcurrent epoch: 19.8 %\tloss: 0.001529\ttime estimate: 407.0 min\n",
      "total: 2.1 %\tcurrent epoch: 23.8 %\tloss: 0.001475\ttime estimate: 406.5 min\n",
      "total: 2.1 %\tcurrent epoch: 27.7 %\tloss: 0.001507\ttime estimate: 405.8 min\n",
      "total: 2.1 %\tcurrent epoch: 31.7 %\tloss: 0.001484\ttime estimate: 405.2 min\n",
      "total: 2.1 %\tcurrent epoch: 35.7 %\tloss: 0.001513\ttime estimate: 404.6 min\n",
      "total: 2.1 %\tcurrent epoch: 39.6 %\tloss: 0.001549\ttime estimate: 404.8 min\n",
      "total: 2.1 %\tcurrent epoch: 43.6 %\tloss: 0.001458\ttime estimate: 407.7 min\n",
      "total: 2.2 %\tcurrent epoch: 47.5 %\tloss: 0.001532\ttime estimate: 410.5 min\n",
      "total: 2.2 %\tcurrent epoch: 51.5 %\tloss: 0.001494\ttime estimate: 413.4 min\n",
      "total: 2.2 %\tcurrent epoch: 55.5 %\tloss: 0.001504\ttime estimate: 416.2 min\n",
      "total: 2.2 %\tcurrent epoch: 59.4 %\tloss: 0.00149\ttime estimate: 419.1 min\n",
      "total: 2.2 %\tcurrent epoch: 63.4 %\tloss: 0.001493\ttime estimate: 421.8 min\n",
      "total: 2.2 %\tcurrent epoch: 67.4 %\tloss: 0.0015\ttime estimate: 424.5 min\n",
      "total: 2.2 %\tcurrent epoch: 71.3 %\tloss: 0.001591\ttime estimate: 427.1 min\n",
      "total: 2.3 %\tcurrent epoch: 75.3 %\tloss: 0.001507\ttime estimate: 429.8 min\n",
      "total: 2.3 %\tcurrent epoch: 79.2 %\tloss: 0.001482\ttime estimate: 432.4 min\n",
      "total: 2.3 %\tcurrent epoch: 83.2 %\tloss: 0.001472\ttime estimate: 435.0 min\n",
      "total: 2.3 %\tcurrent epoch: 87.2 %\tloss: 0.001465\ttime estimate: 437.6 min\n",
      "total: 2.3 %\tcurrent epoch: 91.1 %\tloss: 0.00146\ttime estimate: 440.1 min\n",
      "total: 2.3 %\tcurrent epoch: 95.1 %\tloss: 0.001462\ttime estimate: 442.6 min\n",
      "total: 2.3 %\tcurrent epoch: 99.0 %\tloss: 0.001486\ttime estimate: 445.0 min\n",
      "saved checkpoint at: ModelCheckpoints/epoch_6\n",
      "\n",
      "\n",
      "Epoch: 7\tlearning rate: 0.00827\n",
      "---\n",
      "total: 2.3 %\tcurrent epoch: 4.0 %\tloss: 0.001431\ttime estimate: 447.9 min\n",
      "total: 2.4 %\tcurrent epoch: 7.9 %\tloss: 0.001471\ttime estimate: 450.2 min\n",
      "total: 2.4 %\tcurrent epoch: 11.9 %\tloss: 0.001453\ttime estimate: 452.6 min\n",
      "total: 2.4 %\tcurrent epoch: 15.8 %\tloss: 0.001435\ttime estimate: 454.8 min\n",
      "total: 2.4 %\tcurrent epoch: 19.8 %\tloss: 0.001448\ttime estimate: 457.1 min\n",
      "total: 2.4 %\tcurrent epoch: 23.8 %\tloss: 0.001399\ttime estimate: 459.3 min\n",
      "total: 2.4 %\tcurrent epoch: 27.7 %\tloss: 0.001404\ttime estimate: 461.4 min\n",
      "total: 2.4 %\tcurrent epoch: 31.7 %\tloss: 0.00139\ttime estimate: 463.5 min\n",
      "total: 2.5 %\tcurrent epoch: 35.7 %\tloss: 0.001416\ttime estimate: 465.6 min\n",
      "total: 2.5 %\tcurrent epoch: 39.6 %\tloss: 0.001475\ttime estimate: 467.8 min\n",
      "total: 2.5 %\tcurrent epoch: 43.6 %\tloss: 0.001367\ttime estimate: 469.9 min\n",
      "total: 2.5 %\tcurrent epoch: 47.5 %\tloss: 0.00143\ttime estimate: 472.0 min\n",
      "total: 2.5 %\tcurrent epoch: 51.5 %\tloss: 0.001397\ttime estimate: 474.1 min\n",
      "total: 2.5 %\tcurrent epoch: 55.5 %\tloss: 0.001409\ttime estimate: 476.2 min\n",
      "total: 2.5 %\tcurrent epoch: 59.4 %\tloss: 0.001403\ttime estimate: 478.2 min\n",
      "total: 2.5 %\tcurrent epoch: 63.4 %\tloss: 0.001404\ttime estimate: 480.2 min\n",
      "total: 2.6 %\tcurrent epoch: 67.4 %\tloss: 0.001414\ttime estimate: 482.3 min\n",
      "total: 2.6 %\tcurrent epoch: 71.3 %\tloss: 0.001509\ttime estimate: 484.2 min\n",
      "total: 2.6 %\tcurrent epoch: 75.3 %\tloss: 0.00141\ttime estimate: 486.2 min\n",
      "total: 2.6 %\tcurrent epoch: 79.2 %\tloss: 0.001406\ttime estimate: 488.1 min\n",
      "total: 2.6 %\tcurrent epoch: 83.2 %\tloss: 0.001394\ttime estimate: 490.0 min\n",
      "total: 2.6 %\tcurrent epoch: 87.2 %\tloss: 0.001367\ttime estimate: 491.9 min\n",
      "total: 2.6 %\tcurrent epoch: 91.1 %\tloss: 0.001355\ttime estimate: 493.8 min\n",
      "total: 2.7 %\tcurrent epoch: 95.1 %\tloss: 0.001388\ttime estimate: 495.6 min\n",
      "total: 2.7 %\tcurrent epoch: 99.0 %\tloss: 0.001399\ttime estimate: 497.4 min\n",
      "saved checkpoint at: ModelCheckpoints/epoch_7\n",
      "\n",
      "\n",
      "Epoch: 8\tlearning rate: 0.00804\n",
      "---\n",
      "total: 2.7 %\tcurrent epoch: 4.0 %\tloss: 0.001339\ttime estimate: 499.6 min\n",
      "total: 2.7 %\tcurrent epoch: 7.9 %\tloss: 0.001382\ttime estimate: 500.7 min\n",
      "total: 2.7 %\tcurrent epoch: 11.9 %\tloss: 0.001368\ttime estimate: 501.8 min\n",
      "total: 2.7 %\tcurrent epoch: 15.8 %\tloss: 0.001367\ttime estimate: 503.6 min\n",
      "total: 2.7 %\tcurrent epoch: 19.8 %\tloss: 0.001368\ttime estimate: 505.3 min\n",
      "total: 2.7 %\tcurrent epoch: 23.8 %\tloss: 0.001328\ttime estimate: 507.0 min\n",
      "total: 2.8 %\tcurrent epoch: 27.7 %\tloss: 0.001323\ttime estimate: 508.3 min\n",
      "total: 2.8 %\tcurrent epoch: 31.7 %\tloss: 0.001307\ttime estimate: 507.4 min\n",
      "total: 2.8 %\tcurrent epoch: 35.7 %\tloss: 0.001347\ttime estimate: 506.5 min\n",
      "total: 2.8 %\tcurrent epoch: 39.6 %\tloss: 0.001389\ttime estimate: 507.5 min\n"
     ]
    },
    {
     "name": "stdout",
     "output_type": "stream",
     "text": [
      "total: 2.8 %\tcurrent epoch: 43.6 %\tloss: 0.001296\ttime estimate: 509.1 min\n",
      "total: 2.8 %\tcurrent epoch: 47.5 %\tloss: 0.001358\ttime estimate: 510.8 min\n",
      "total: 2.8 %\tcurrent epoch: 51.5 %\tloss: 0.001322\ttime estimate: 512.5 min\n",
      "total: 2.9 %\tcurrent epoch: 55.5 %\tloss: 0.001319\ttime estimate: 514.1 min\n",
      "total: 2.9 %\tcurrent epoch: 59.4 %\tloss: 0.001315\ttime estimate: 515.7 min\n",
      "total: 2.9 %\tcurrent epoch: 63.4 %\tloss: 0.001334\ttime estimate: 517.2 min\n",
      "total: 2.9 %\tcurrent epoch: 67.4 %\tloss: 0.001356\ttime estimate: 518.8 min\n",
      "total: 2.9 %\tcurrent epoch: 71.3 %\tloss: 0.001469\ttime estimate: 518.2 min\n",
      "total: 2.9 %\tcurrent epoch: 75.3 %\tloss: 0.001329\ttime estimate: 517.3 min\n",
      "total: 2.9 %\tcurrent epoch: 79.2 %\tloss: 0.001345\ttime estimate: 516.3 min\n",
      "total: 2.9 %\tcurrent epoch: 83.2 %\tloss: 0.001368\ttime estimate: 515.4 min\n",
      "total: 3.0 %\tcurrent epoch: 87.2 %\tloss: 0.001298\ttime estimate: 514.5 min\n",
      "total: 3.0 %\tcurrent epoch: 91.1 %\tloss: 0.001288\ttime estimate: 513.6 min\n",
      "total: 3.0 %\tcurrent epoch: 95.1 %\tloss: 0.001386\ttime estimate: 512.6 min\n",
      "total: 3.0 %\tcurrent epoch: 99.0 %\tloss: 0.001322\ttime estimate: 511.7 min\n",
      "saved checkpoint at: ModelCheckpoints/epoch_8\n",
      "\n",
      "\n",
      "Epoch: 9\tlearning rate: 0.00783\n",
      "---\n",
      "total: 3.0 %\tcurrent epoch: 4.0 %\tloss: 0.001257\ttime estimate: 510.7 min\n",
      "total: 3.0 %\tcurrent epoch: 7.9 %\tloss: 0.001307\ttime estimate: 509.8 min\n",
      "total: 3.0 %\tcurrent epoch: 11.9 %\tloss: 0.001294\ttime estimate: 508.9 min\n",
      "total: 3.1 %\tcurrent epoch: 15.8 %\tloss: 0.001306\ttime estimate: 508.0 min\n",
      "total: 3.1 %\tcurrent epoch: 19.8 %\tloss: 0.001314\ttime estimate: 507.2 min\n",
      "total: 3.1 %\tcurrent epoch: 23.8 %\tloss: 0.00125\ttime estimate: 506.3 min\n",
      "total: 3.1 %\tcurrent epoch: 27.7 %\tloss: 0.001265\ttime estimate: 505.5 min\n",
      "total: 3.1 %\tcurrent epoch: 31.7 %\tloss: 0.001235\ttime estimate: 504.6 min\n",
      "total: 3.1 %\tcurrent epoch: 35.7 %\tloss: 0.001296\ttime estimate: 503.8 min\n",
      "total: 3.1 %\tcurrent epoch: 39.6 %\tloss: 0.001343\ttime estimate: 503.0 min\n",
      "total: 3.1 %\tcurrent epoch: 43.6 %\tloss: 0.001241\ttime estimate: 502.2 min\n",
      "total: 3.2 %\tcurrent epoch: 47.5 %\tloss: 0.001283\ttime estimate: 501.4 min\n",
      "total: 3.2 %\tcurrent epoch: 51.5 %\tloss: 0.001244\ttime estimate: 500.5 min\n",
      "total: 3.2 %\tcurrent epoch: 55.5 %\tloss: 0.001237\ttime estimate: 500.2 min\n",
      "total: 3.2 %\tcurrent epoch: 59.4 %\tloss: 0.001227\ttime estimate: 501.6 min\n",
      "total: 3.2 %\tcurrent epoch: 63.4 %\tloss: 0.001268\ttime estimate: 502.9 min\n",
      "total: 3.2 %\tcurrent epoch: 67.4 %\tloss: 0.001307\ttime estimate: 504.3 min\n",
      "total: 3.2 %\tcurrent epoch: 71.3 %\tloss: 0.001404\ttime estimate: 505.5 min\n",
      "total: 3.3 %\tcurrent epoch: 75.3 %\tloss: 0.001261\ttime estimate: 506.9 min\n",
      "total: 3.3 %\tcurrent epoch: 79.2 %\tloss: 0.001293\ttime estimate: 506.2 min\n",
      "total: 3.3 %\tcurrent epoch: 83.2 %\tloss: 0.001323\ttime estimate: 505.4 min\n",
      "total: 3.3 %\tcurrent epoch: 87.2 %\tloss: 0.001254\ttime estimate: 504.6 min\n",
      "total: 3.3 %\tcurrent epoch: 91.1 %\tloss: 0.001252\ttime estimate: 503.8 min\n",
      "total: 3.3 %\tcurrent epoch: 95.1 %\tloss: 0.001306\ttime estimate: 503.1 min\n",
      "total: 3.3 %\tcurrent epoch: 99.0 %\tloss: 0.001241\ttime estimate: 502.4 min\n",
      "saved checkpoint at: ModelCheckpoints/epoch_9\n",
      "\n",
      "\n",
      "Epoch: 10\tlearning rate: 0.00762\n",
      "---\n",
      "total: 3.3 %\tcurrent epoch: 4.0 %\tloss: 0.001193\ttime estimate: 502.0 min\n",
      "total: 3.4 %\tcurrent epoch: 7.9 %\tloss: 0.001247\ttime estimate: 501.8 min\n",
      "total: 3.4 %\tcurrent epoch: 11.9 %\tloss: 0.001229\ttime estimate: 501.2 min\n",
      "total: 3.4 %\tcurrent epoch: 15.8 %\tloss: 0.001243\ttime estimate: 500.5 min\n",
      "total: 3.4 %\tcurrent epoch: 19.8 %\tloss: 0.001249\ttime estimate: 499.7 min\n",
      "total: 3.4 %\tcurrent epoch: 23.8 %\tloss: 0.00118\ttime estimate: 498.9 min\n",
      "total: 3.4 %\tcurrent epoch: 27.7 %\tloss: 0.001215\ttime estimate: 498.2 min\n",
      "total: 3.4 %\tcurrent epoch: 31.7 %\tloss: 0.001181\ttime estimate: 497.4 min\n",
      "total: 3.5 %\tcurrent epoch: 35.7 %\tloss: 0.001219\ttime estimate: 496.6 min\n",
      "total: 3.5 %\tcurrent epoch: 39.6 %\tloss: 0.001276\ttime estimate: 495.9 min\n",
      "total: 3.5 %\tcurrent epoch: 43.6 %\tloss: 0.001184\ttime estimate: 495.1 min\n",
      "total: 3.5 %\tcurrent epoch: 47.5 %\tloss: 0.001226\ttime estimate: 494.3 min\n",
      "total: 3.5 %\tcurrent epoch: 51.5 %\tloss: 0.001179\ttime estimate: 494.8 min\n",
      "total: 3.5 %\tcurrent epoch: 55.5 %\tloss: 0.001167\ttime estimate: 496.1 min\n",
      "total: 3.5 %\tcurrent epoch: 59.4 %\tloss: 0.001159\ttime estimate: 497.5 min\n",
      "total: 3.5 %\tcurrent epoch: 63.4 %\tloss: 0.00121\ttime estimate: 498.8 min\n",
      "total: 3.6 %\tcurrent epoch: 67.4 %\tloss: 0.001228\ttime estimate: 499.6 min\n",
      "total: 3.6 %\tcurrent epoch: 71.3 %\tloss: 0.001315\ttime estimate: 499.0 min\n",
      "total: 3.6 %\tcurrent epoch: 75.3 %\tloss: 0.001204\ttime estimate: 498.2 min\n",
      "total: 3.6 %\tcurrent epoch: 79.2 %\tloss: 0.001237\ttime estimate: 497.5 min\n",
      "total: 3.6 %\tcurrent epoch: 83.2 %\tloss: 0.001256\ttime estimate: 496.7 min\n",
      "total: 3.6 %\tcurrent epoch: 87.2 %\tloss: 0.001187\ttime estimate: 496.0 min\n",
      "total: 3.6 %\tcurrent epoch: 91.1 %\tloss: 0.001187\ttime estimate: 495.2 min\n",
      "total: 3.7 %\tcurrent epoch: 95.1 %\tloss: 0.001221\ttime estimate: 494.5 min\n",
      "total: 3.7 %\tcurrent epoch: 99.0 %\tloss: 0.001166\ttime estimate: 493.8 min\n",
      "saved checkpoint at: ModelCheckpoints/epoch_10\n",
      "\n",
      "\n",
      "Epoch: 11\tlearning rate: 0.00741\n",
      "---\n",
      "total: 3.7 %\tcurrent epoch: 4.0 %\tloss: 0.001141\ttime estimate: 494.5 min\n",
      "total: 3.7 %\tcurrent epoch: 7.9 %\tloss: 0.001188\ttime estimate: 494.8 min\n",
      "total: 3.7 %\tcurrent epoch: 11.9 %\tloss: 0.001167\ttime estimate: 494.5 min\n",
      "total: 3.7 %\tcurrent epoch: 15.8 %\tloss: 0.001179\ttime estimate: 494.4 min\n",
      "total: 3.7 %\tcurrent epoch: 19.8 %\tloss: 0.001176\ttime estimate: 493.8 min\n",
      "total: 3.7 %\tcurrent epoch: 23.8 %\tloss: 0.001126\ttime estimate: 493.3 min\n",
      "total: 3.8 %\tcurrent epoch: 27.7 %\tloss: 0.001163\ttime estimate: 492.6 min\n",
      "total: 3.8 %\tcurrent epoch: 31.7 %\tloss: 0.001129\ttime estimate: 491.9 min\n",
      "total: 3.8 %\tcurrent epoch: 35.7 %\tloss: 0.001154\ttime estimate: 491.2 min\n",
      "total: 3.8 %\tcurrent epoch: 39.6 %\tloss: 0.001207\ttime estimate: 490.5 min\n",
      "total: 3.8 %\tcurrent epoch: 43.6 %\tloss: 0.00114\ttime estimate: 489.8 min\n",
      "total: 3.8 %\tcurrent epoch: 47.5 %\tloss: 0.001169\ttime estimate: 489.1 min\n",
      "total: 3.8 %\tcurrent epoch: 51.5 %\tloss: 0.001118\ttime estimate: 488.4 min\n",
      "total: 3.9 %\tcurrent epoch: 55.5 %\tloss: 0.001106\ttime estimate: 487.7 min\n",
      "total: 3.9 %\tcurrent epoch: 59.4 %\tloss: 0.001098\ttime estimate: 487.1 min\n",
      "total: 3.9 %\tcurrent epoch: 63.4 %\tloss: 0.001152\ttime estimate: 486.4 min\n",
      "total: 3.9 %\tcurrent epoch: 67.4 %\tloss: 0.001158\ttime estimate: 485.7 min\n",
      "total: 3.9 %\tcurrent epoch: 71.3 %\tloss: 0.001247\ttime estimate: 485.1 min\n",
      "total: 3.9 %\tcurrent epoch: 75.3 %\tloss: 0.00114\ttime estimate: 484.4 min\n",
      "total: 3.9 %\tcurrent epoch: 79.2 %\tloss: 0.001173\ttime estimate: 483.8 min\n",
      "total: 3.9 %\tcurrent epoch: 83.2 %\tloss: 0.001193\ttime estimate: 483.2 min\n",
      "total: 4.0 %\tcurrent epoch: 87.2 %\tloss: 0.001129\ttime estimate: 482.6 min\n",
      "total: 4.0 %\tcurrent epoch: 91.1 %\tloss: 0.00112\ttime estimate: 481.9 min\n",
      "total: 4.0 %\tcurrent epoch: 95.1 %\tloss: 0.001155\ttime estimate: 481.4 min\n",
      "total: 4.0 %\tcurrent epoch: 99.0 %\tloss: 0.001114\ttime estimate: 480.7 min\n",
      "saved checkpoint at: ModelCheckpoints/epoch_11\n",
      "\n",
      "\n",
      "Epoch: 12\tlearning rate: 0.00721\n",
      "---\n",
      "total: 4.0 %\tcurrent epoch: 4.0 %\tloss: 0.001094\ttime estimate: 481.8 min\n",
      "total: 4.0 %\tcurrent epoch: 7.9 %\tloss: 0.001127\ttime estimate: 482.9 min\n",
      "total: 4.0 %\tcurrent epoch: 11.9 %\tloss: 0.001115\ttime estimate: 484.1 min\n",
      "total: 4.1 %\tcurrent epoch: 15.8 %\tloss: 0.001117\ttime estimate: 485.2 min\n",
      "total: 4.1 %\tcurrent epoch: 19.8 %\tloss: 0.001123\ttime estimate: 486.3 min\n",
      "total: 4.1 %\tcurrent epoch: 23.8 %\tloss: 0.001078\ttime estimate: 487.5 min\n",
      "total: 4.1 %\tcurrent epoch: 27.7 %\tloss: 0.001116\ttime estimate: 488.5 min\n",
      "total: 4.1 %\tcurrent epoch: 31.7 %\tloss: 0.001081\ttime estimate: 488.8 min\n",
      "total: 4.1 %\tcurrent epoch: 35.7 %\tloss: 0.001105\ttime estimate: 488.2 min\n",
      "total: 4.1 %\tcurrent epoch: 39.6 %\tloss: 0.001153\ttime estimate: 487.7 min\n",
      "total: 4.1 %\tcurrent epoch: 43.6 %\tloss: 0.001091\ttime estimate: 487.7 min\n",
      "total: 4.2 %\tcurrent epoch: 47.5 %\tloss: 0.001116\ttime estimate: 487.1 min\n",
      "total: 4.2 %\tcurrent epoch: 51.5 %\tloss: 0.001056\ttime estimate: 486.5 min\n",
      "total: 4.2 %\tcurrent epoch: 55.5 %\tloss: 0.001055\ttime estimate: 485.9 min\n",
      "total: 4.2 %\tcurrent epoch: 59.4 %\tloss: 0.001047\ttime estimate: 485.4 min\n"
     ]
    },
    {
     "name": "stdout",
     "output_type": "stream",
     "text": [
      "total: 4.2 %\tcurrent epoch: 63.4 %\tloss: 0.001097\ttime estimate: 484.8 min\n",
      "total: 4.2 %\tcurrent epoch: 67.4 %\tloss: 0.001098\ttime estimate: 484.2 min\n",
      "total: 4.2 %\tcurrent epoch: 71.3 %\tloss: 0.001167\ttime estimate: 483.6 min\n",
      "total: 4.3 %\tcurrent epoch: 75.3 %\tloss: 0.001086\ttime estimate: 483.0 min\n",
      "total: 4.3 %\tcurrent epoch: 79.2 %\tloss: 0.001107\ttime estimate: 482.5 min\n",
      "total: 4.3 %\tcurrent epoch: 83.2 %\tloss: 0.001133\ttime estimate: 481.9 min\n",
      "total: 4.3 %\tcurrent epoch: 87.2 %\tloss: 0.001069\ttime estimate: 481.3 min\n",
      "total: 4.3 %\tcurrent epoch: 91.1 %\tloss: 0.00106\ttime estimate: 480.8 min\n",
      "total: 4.3 %\tcurrent epoch: 95.1 %\tloss: 0.001099\ttime estimate: 480.2 min\n",
      "total: 4.3 %\tcurrent epoch: 99.0 %\tloss: 0.00106\ttime estimate: 479.7 min\n",
      "saved checkpoint at: ModelCheckpoints/epoch_12\n",
      "\n",
      "\n",
      "Epoch: 13\tlearning rate: 0.00702\n",
      "---\n",
      "total: 4.3 %\tcurrent epoch: 4.0 %\tloss: 0.001045\ttime estimate: 480.6 min\n",
      "total: 4.4 %\tcurrent epoch: 7.9 %\tloss: 0.001075\ttime estimate: 481.7 min\n",
      "total: 4.4 %\tcurrent epoch: 11.9 %\tloss: 0.001059\ttime estimate: 482.7 min\n",
      "total: 4.4 %\tcurrent epoch: 15.8 %\tloss: 0.001056\ttime estimate: 483.8 min\n",
      "total: 4.4 %\tcurrent epoch: 19.8 %\tloss: 0.00106\ttime estimate: 484.9 min\n",
      "total: 4.4 %\tcurrent epoch: 23.8 %\tloss: 0.001028\ttime estimate: 485.9 min\n",
      "total: 4.4 %\tcurrent epoch: 27.7 %\tloss: 0.001058\ttime estimate: 486.9 min\n",
      "total: 4.4 %\tcurrent epoch: 31.7 %\tloss: 0.00103\ttime estimate: 487.9 min\n",
      "total: 4.5 %\tcurrent epoch: 35.7 %\tloss: 0.001049\ttime estimate: 488.9 min\n",
      "total: 4.5 %\tcurrent epoch: 39.6 %\tloss: 0.001078\ttime estimate: 489.9 min\n",
      "total: 4.5 %\tcurrent epoch: 43.6 %\tloss: 0.001047\ttime estimate: 490.9 min\n",
      "total: 4.5 %\tcurrent epoch: 47.5 %\tloss: 0.001055\ttime estimate: 491.9 min\n",
      "total: 4.5 %\tcurrent epoch: 51.5 %\tloss: 0.001005\ttime estimate: 492.9 min\n",
      "total: 4.5 %\tcurrent epoch: 55.5 %\tloss: 0.001004\ttime estimate: 493.8 min\n",
      "total: 4.5 %\tcurrent epoch: 59.4 %\tloss: 0.001\ttime estimate: 494.8 min\n",
      "total: 4.5 %\tcurrent epoch: 63.4 %\tloss: 0.001045\ttime estimate: 495.8 min\n",
      "total: 4.6 %\tcurrent epoch: 67.4 %\tloss: 0.001036\ttime estimate: 496.9 min\n",
      "total: 4.6 %\tcurrent epoch: 71.3 %\tloss: 0.001094\ttime estimate: 497.8 min\n",
      "total: 4.6 %\tcurrent epoch: 75.3 %\tloss: 0.001037\ttime estimate: 498.8 min\n",
      "total: 4.6 %\tcurrent epoch: 79.2 %\tloss: 0.001055\ttime estimate: 499.8 min\n",
      "total: 4.6 %\tcurrent epoch: 83.2 %\tloss: 0.001082\ttime estimate: 500.8 min\n",
      "total: 4.6 %\tcurrent epoch: 87.2 %\tloss: 0.001007\ttime estimate: 501.7 min\n",
      "total: 4.6 %\tcurrent epoch: 91.1 %\tloss: 0.001004\ttime estimate: 502.7 min\n",
      "total: 4.7 %\tcurrent epoch: 95.1 %\tloss: 0.00104\ttime estimate: 503.6 min\n",
      "total: 4.7 %\tcurrent epoch: 99.0 %\tloss: 0.001014\ttime estimate: 504.6 min\n",
      "saved checkpoint at: ModelCheckpoints/epoch_13\n",
      "\n",
      "\n",
      "Epoch: 14\tlearning rate: 0.00683\n",
      "---\n",
      "total: 4.7 %\tcurrent epoch: 4.0 %\tloss: 0.000998\ttime estimate: 505.7 min\n",
      "total: 4.7 %\tcurrent epoch: 7.9 %\tloss: 0.001022\ttime estimate: 506.7 min\n",
      "total: 4.7 %\tcurrent epoch: 11.9 %\tloss: 0.001004\ttime estimate: 507.6 min\n",
      "total: 4.7 %\tcurrent epoch: 15.8 %\tloss: 0.000999\ttime estimate: 508.6 min\n"
     ]
    },
    {
     "ename": "KeyboardInterrupt",
     "evalue": "",
     "output_type": "error",
     "traceback": [
      "\u001b[0;31m---------------------------------------------------------------------------\u001b[0m",
      "\u001b[0;31mKeyboardInterrupt\u001b[0m                         Traceback (most recent call last)",
      "\u001b[0;32m<ipython-input-12-87ee060ce251>\u001b[0m in \u001b[0;36m<module>\u001b[0;34m()\u001b[0m\n\u001b[1;32m      1\u001b[0m \u001b[0minit_deep_pot\u001b[0m \u001b[0;34m=\u001b[0m \u001b[0mDeepPotential\u001b[0m\u001b[0;34m(\u001b[0m\u001b[0;34m)\u001b[0m\u001b[0;34m.\u001b[0m\u001b[0mcuda\u001b[0m\u001b[0;34m(\u001b[0m\u001b[0;34m)\u001b[0m\u001b[0;34m\u001b[0m\u001b[0m\n\u001b[1;32m      2\u001b[0m \u001b[0minit_optim\u001b[0m \u001b[0;34m=\u001b[0m \u001b[0mtorch\u001b[0m\u001b[0;34m.\u001b[0m\u001b[0moptim\u001b[0m\u001b[0;34m.\u001b[0m\u001b[0mAdam\u001b[0m\u001b[0;34m(\u001b[0m\u001b[0minit_deep_pot\u001b[0m\u001b[0;34m.\u001b[0m\u001b[0mparameters\u001b[0m\u001b[0;34m(\u001b[0m\u001b[0;34m)\u001b[0m\u001b[0;34m,\u001b[0m \u001b[0mlr\u001b[0m\u001b[0;34m=\u001b[0m\u001b[0;36m1e-4\u001b[0m\u001b[0;34m)\u001b[0m\u001b[0;34m\u001b[0m\u001b[0m\n\u001b[0;32m----> 3\u001b[0;31m \u001b[0mdeep_pot\u001b[0m\u001b[0;34m,\u001b[0m \u001b[0moptim\u001b[0m \u001b[0;34m=\u001b[0m \u001b[0mtrain\u001b[0m\u001b[0;34m(\u001b[0m\u001b[0minit_deep_pot\u001b[0m\u001b[0;34m,\u001b[0m \u001b[0minit_optim\u001b[0m\u001b[0;34m,\u001b[0m \u001b[0mX_data\u001b[0m\u001b[0;34m,\u001b[0m \u001b[0mY_data\u001b[0m\u001b[0;34m,\u001b[0m \u001b[0;36m300\u001b[0m\u001b[0;34m,\u001b[0m \u001b[0;36m128\u001b[0m\u001b[0;34m,\u001b[0m \u001b[0;34m(\u001b[0m\u001b[0;36m0.01\u001b[0m\u001b[0;34m,\u001b[0m \u001b[0;36m0.96\u001b[0m\u001b[0;34m,\u001b[0m \u001b[0;36m1.5\u001b[0m\u001b[0;34m)\u001b[0m\u001b[0;34m,\u001b[0m \u001b[0mprint_every\u001b[0m\u001b[0;34m=\u001b[0m\u001b[0;36m100\u001b[0m\u001b[0;34m)\u001b[0m\u001b[0;34m\u001b[0m\u001b[0m\n\u001b[0m",
      "\u001b[0;32m/storage/mi/stefaah94/fproj/DeepPotential/Code/Models/c7o2h10_model.py\u001b[0m in \u001b[0;36mtrain\u001b[0;34m(Model, optim, X_data, Y_data, n_epochs, batchsize, abc, use_for_train, print_every, n_calc_test, checkpoint_path)\u001b[0m\n\u001b[1;32m    111\u001b[0m             \u001b[0mX_batch\u001b[0m \u001b[0;34m=\u001b[0m \u001b[0mX_train\u001b[0m\u001b[0;34m[\u001b[0m\u001b[0mbatch_id\u001b[0m \u001b[0;34m*\u001b[0m \u001b[0mbatchsize\u001b[0m\u001b[0;34m:\u001b[0m\u001b[0;34m(\u001b[0m\u001b[0mbatch_id\u001b[0m \u001b[0;34m+\u001b[0m \u001b[0;36m1\u001b[0m\u001b[0;34m)\u001b[0m \u001b[0;34m*\u001b[0m \u001b[0mbatchsize\u001b[0m\u001b[0;34m]\u001b[0m\u001b[0;34m\u001b[0m\u001b[0m\n\u001b[1;32m    112\u001b[0m             \u001b[0mY_batch\u001b[0m \u001b[0;34m=\u001b[0m \u001b[0mY_train\u001b[0m\u001b[0;34m[\u001b[0m\u001b[0mbatch_id\u001b[0m \u001b[0;34m*\u001b[0m \u001b[0mbatchsize\u001b[0m\u001b[0;34m:\u001b[0m\u001b[0;34m(\u001b[0m\u001b[0mbatch_id\u001b[0m \u001b[0;34m+\u001b[0m \u001b[0;36m1\u001b[0m\u001b[0;34m)\u001b[0m \u001b[0;34m*\u001b[0m \u001b[0mbatchsize\u001b[0m\u001b[0;34m]\u001b[0m\u001b[0;34m\u001b[0m\u001b[0m\n\u001b[0;32m--> 113\u001b[0;31m             \u001b[0mY_pred\u001b[0m \u001b[0;34m=\u001b[0m \u001b[0mmodel\u001b[0m\u001b[0;34m.\u001b[0m\u001b[0mforward\u001b[0m\u001b[0;34m(\u001b[0m\u001b[0mX_batch\u001b[0m\u001b[0;34m)\u001b[0m\u001b[0;34m\u001b[0m\u001b[0m\n\u001b[0m\u001b[1;32m    114\u001b[0m             \u001b[0mY_pred\u001b[0m \u001b[0;34m=\u001b[0m \u001b[0mY_pred\u001b[0m\u001b[0;34m.\u001b[0m\u001b[0mreshape\u001b[0m\u001b[0;34m(\u001b[0m\u001b[0mY_pred\u001b[0m\u001b[0;34m.\u001b[0m\u001b[0mshape\u001b[0m\u001b[0;34m[\u001b[0m\u001b[0;36m0\u001b[0m\u001b[0;34m]\u001b[0m\u001b[0;34m)\u001b[0m\u001b[0;34m\u001b[0m\u001b[0m\n\u001b[1;32m    115\u001b[0m             \u001b[0mloss\u001b[0m \u001b[0;34m=\u001b[0m \u001b[0mloss_fn\u001b[0m\u001b[0;34m(\u001b[0m\u001b[0mY_pred\u001b[0m\u001b[0;34m,\u001b[0m \u001b[0mY_batch\u001b[0m\u001b[0;34m)\u001b[0m\u001b[0;34m\u001b[0m\u001b[0m\n",
      "\u001b[0;32m/storage/mi/stefaah94/fproj/DeepPotential/Code/Models/c7o2h10_model.py\u001b[0m in \u001b[0;36mforward\u001b[0;34m(self, X)\u001b[0m\n\u001b[1;32m     59\u001b[0m         \u001b[0ma13\u001b[0m \u001b[0;34m=\u001b[0m \u001b[0mF\u001b[0m\u001b[0;34m.\u001b[0m\u001b[0mrelu\u001b[0m\u001b[0;34m(\u001b[0m\u001b[0mself\u001b[0m\u001b[0;34m.\u001b[0m\u001b[0mc_net\u001b[0m\u001b[0;34m.\u001b[0m\u001b[0mforward\u001b[0m\u001b[0;34m(\u001b[0m\u001b[0mX\u001b[0m\u001b[0;34m[\u001b[0m\u001b[0;34m:\u001b[0m\u001b[0;34m,\u001b[0m \u001b[0;36m12\u001b[0m\u001b[0;34m]\u001b[0m\u001b[0;34m)\u001b[0m\u001b[0;34m)\u001b[0m\u001b[0;34m\u001b[0m\u001b[0m\n\u001b[1;32m     60\u001b[0m         \u001b[0ma14\u001b[0m \u001b[0;34m=\u001b[0m \u001b[0mF\u001b[0m\u001b[0;34m.\u001b[0m\u001b[0mrelu\u001b[0m\u001b[0;34m(\u001b[0m\u001b[0mself\u001b[0m\u001b[0;34m.\u001b[0m\u001b[0mc_net\u001b[0m\u001b[0;34m.\u001b[0m\u001b[0mforward\u001b[0m\u001b[0;34m(\u001b[0m\u001b[0mX\u001b[0m\u001b[0;34m[\u001b[0m\u001b[0;34m:\u001b[0m\u001b[0;34m,\u001b[0m \u001b[0;36m13\u001b[0m\u001b[0;34m]\u001b[0m\u001b[0;34m)\u001b[0m\u001b[0;34m)\u001b[0m\u001b[0;34m\u001b[0m\u001b[0m\n\u001b[0;32m---> 61\u001b[0;31m         \u001b[0ma15\u001b[0m \u001b[0;34m=\u001b[0m \u001b[0mF\u001b[0m\u001b[0;34m.\u001b[0m\u001b[0mrelu\u001b[0m\u001b[0;34m(\u001b[0m\u001b[0mself\u001b[0m\u001b[0;34m.\u001b[0m\u001b[0mc_net\u001b[0m\u001b[0;34m.\u001b[0m\u001b[0mforward\u001b[0m\u001b[0;34m(\u001b[0m\u001b[0mX\u001b[0m\u001b[0;34m[\u001b[0m\u001b[0;34m:\u001b[0m\u001b[0;34m,\u001b[0m \u001b[0;36m14\u001b[0m\u001b[0;34m]\u001b[0m\u001b[0;34m)\u001b[0m\u001b[0;34m)\u001b[0m\u001b[0;34m\u001b[0m\u001b[0m\n\u001b[0m\u001b[1;32m     62\u001b[0m         \u001b[0ma16\u001b[0m \u001b[0;34m=\u001b[0m \u001b[0mF\u001b[0m\u001b[0;34m.\u001b[0m\u001b[0mrelu\u001b[0m\u001b[0;34m(\u001b[0m\u001b[0mself\u001b[0m\u001b[0;34m.\u001b[0m\u001b[0mc_net\u001b[0m\u001b[0;34m.\u001b[0m\u001b[0mforward\u001b[0m\u001b[0;34m(\u001b[0m\u001b[0mX\u001b[0m\u001b[0;34m[\u001b[0m\u001b[0;34m:\u001b[0m\u001b[0;34m,\u001b[0m \u001b[0;36m15\u001b[0m\u001b[0;34m]\u001b[0m\u001b[0;34m)\u001b[0m\u001b[0;34m)\u001b[0m\u001b[0;34m\u001b[0m\u001b[0m\n\u001b[1;32m     63\u001b[0m         \u001b[0ma17\u001b[0m \u001b[0;34m=\u001b[0m \u001b[0mF\u001b[0m\u001b[0;34m.\u001b[0m\u001b[0mrelu\u001b[0m\u001b[0;34m(\u001b[0m\u001b[0mself\u001b[0m\u001b[0;34m.\u001b[0m\u001b[0mc_net\u001b[0m\u001b[0;34m.\u001b[0m\u001b[0mforward\u001b[0m\u001b[0;34m(\u001b[0m\u001b[0mX\u001b[0m\u001b[0;34m[\u001b[0m\u001b[0;34m:\u001b[0m\u001b[0;34m,\u001b[0m \u001b[0;36m16\u001b[0m\u001b[0;34m]\u001b[0m\u001b[0;34m)\u001b[0m\u001b[0;34m)\u001b[0m\u001b[0;34m\u001b[0m\u001b[0m\n",
      "\u001b[0;32m/storage/mi/stefaah94/fproj/DeepPotential/Code/Models/c7o2h10_model.py\u001b[0m in \u001b[0;36mforward\u001b[0;34m(self, X)\u001b[0m\n\u001b[1;32m     30\u001b[0m         \u001b[0ma5\u001b[0m \u001b[0;34m=\u001b[0m \u001b[0mF\u001b[0m\u001b[0;34m.\u001b[0m\u001b[0mrelu\u001b[0m\u001b[0;34m(\u001b[0m\u001b[0mself\u001b[0m\u001b[0;34m.\u001b[0m\u001b[0mh5\u001b[0m\u001b[0;34m(\u001b[0m\u001b[0ma4\u001b[0m\u001b[0;34m)\u001b[0m\u001b[0;34m)\u001b[0m\u001b[0;34m\u001b[0m\u001b[0m\n\u001b[1;32m     31\u001b[0m         \u001b[0ma6\u001b[0m \u001b[0;34m=\u001b[0m \u001b[0mF\u001b[0m\u001b[0;34m.\u001b[0m\u001b[0mrelu\u001b[0m\u001b[0;34m(\u001b[0m\u001b[0mself\u001b[0m\u001b[0;34m.\u001b[0m\u001b[0mh6\u001b[0m\u001b[0;34m(\u001b[0m\u001b[0ma5\u001b[0m\u001b[0;34m)\u001b[0m\u001b[0;34m)\u001b[0m\u001b[0;34m\u001b[0m\u001b[0m\n\u001b[0;32m---> 32\u001b[0;31m         \u001b[0ma7\u001b[0m \u001b[0;34m=\u001b[0m \u001b[0mF\u001b[0m\u001b[0;34m.\u001b[0m\u001b[0mrelu\u001b[0m\u001b[0;34m(\u001b[0m\u001b[0mself\u001b[0m\u001b[0;34m.\u001b[0m\u001b[0mh7\u001b[0m\u001b[0;34m(\u001b[0m\u001b[0ma6\u001b[0m\u001b[0;34m)\u001b[0m\u001b[0;34m)\u001b[0m\u001b[0;34m\u001b[0m\u001b[0m\n\u001b[0m\u001b[1;32m     33\u001b[0m         \u001b[0mout\u001b[0m \u001b[0;34m=\u001b[0m \u001b[0mself\u001b[0m\u001b[0;34m.\u001b[0m\u001b[0mh8\u001b[0m\u001b[0;34m(\u001b[0m\u001b[0ma7\u001b[0m\u001b[0;34m)\u001b[0m\u001b[0;34m\u001b[0m\u001b[0m\n\u001b[1;32m     34\u001b[0m         \u001b[0;32mreturn\u001b[0m \u001b[0mout\u001b[0m\u001b[0;34m\u001b[0m\u001b[0m\n",
      "\u001b[0;32m~/miniconda3/lib/python3.6/site-packages/torch/nn/modules/module.py\u001b[0m in \u001b[0;36m__call__\u001b[0;34m(self, *input, **kwargs)\u001b[0m\n\u001b[1;32m    489\u001b[0m             \u001b[0mresult\u001b[0m \u001b[0;34m=\u001b[0m \u001b[0mself\u001b[0m\u001b[0;34m.\u001b[0m\u001b[0m_slow_forward\u001b[0m\u001b[0;34m(\u001b[0m\u001b[0;34m*\u001b[0m\u001b[0minput\u001b[0m\u001b[0;34m,\u001b[0m \u001b[0;34m**\u001b[0m\u001b[0mkwargs\u001b[0m\u001b[0;34m)\u001b[0m\u001b[0;34m\u001b[0m\u001b[0m\n\u001b[1;32m    490\u001b[0m         \u001b[0;32melse\u001b[0m\u001b[0;34m:\u001b[0m\u001b[0;34m\u001b[0m\u001b[0m\n\u001b[0;32m--> 491\u001b[0;31m             \u001b[0mresult\u001b[0m \u001b[0;34m=\u001b[0m \u001b[0mself\u001b[0m\u001b[0;34m.\u001b[0m\u001b[0mforward\u001b[0m\u001b[0;34m(\u001b[0m\u001b[0;34m*\u001b[0m\u001b[0minput\u001b[0m\u001b[0;34m,\u001b[0m \u001b[0;34m**\u001b[0m\u001b[0mkwargs\u001b[0m\u001b[0;34m)\u001b[0m\u001b[0;34m\u001b[0m\u001b[0m\n\u001b[0m\u001b[1;32m    492\u001b[0m         \u001b[0;32mfor\u001b[0m \u001b[0mhook\u001b[0m \u001b[0;32min\u001b[0m \u001b[0mself\u001b[0m\u001b[0;34m.\u001b[0m\u001b[0m_forward_hooks\u001b[0m\u001b[0;34m.\u001b[0m\u001b[0mvalues\u001b[0m\u001b[0;34m(\u001b[0m\u001b[0;34m)\u001b[0m\u001b[0;34m:\u001b[0m\u001b[0;34m\u001b[0m\u001b[0m\n\u001b[1;32m    493\u001b[0m             \u001b[0mhook_result\u001b[0m \u001b[0;34m=\u001b[0m \u001b[0mhook\u001b[0m\u001b[0;34m(\u001b[0m\u001b[0mself\u001b[0m\u001b[0;34m,\u001b[0m \u001b[0minput\u001b[0m\u001b[0;34m,\u001b[0m \u001b[0mresult\u001b[0m\u001b[0;34m)\u001b[0m\u001b[0;34m\u001b[0m\u001b[0m\n",
      "\u001b[0;32m~/miniconda3/lib/python3.6/site-packages/torch/nn/modules/linear.py\u001b[0m in \u001b[0;36mforward\u001b[0;34m(self, input)\u001b[0m\n\u001b[1;32m     53\u001b[0m \u001b[0;34m\u001b[0m\u001b[0m\n\u001b[1;32m     54\u001b[0m     \u001b[0;32mdef\u001b[0m \u001b[0mforward\u001b[0m\u001b[0;34m(\u001b[0m\u001b[0mself\u001b[0m\u001b[0;34m,\u001b[0m \u001b[0minput\u001b[0m\u001b[0;34m)\u001b[0m\u001b[0;34m:\u001b[0m\u001b[0;34m\u001b[0m\u001b[0m\n\u001b[0;32m---> 55\u001b[0;31m         \u001b[0;32mreturn\u001b[0m \u001b[0mF\u001b[0m\u001b[0;34m.\u001b[0m\u001b[0mlinear\u001b[0m\u001b[0;34m(\u001b[0m\u001b[0minput\u001b[0m\u001b[0;34m,\u001b[0m \u001b[0mself\u001b[0m\u001b[0;34m.\u001b[0m\u001b[0mweight\u001b[0m\u001b[0;34m,\u001b[0m \u001b[0mself\u001b[0m\u001b[0;34m.\u001b[0m\u001b[0mbias\u001b[0m\u001b[0;34m)\u001b[0m\u001b[0;34m\u001b[0m\u001b[0m\n\u001b[0m\u001b[1;32m     56\u001b[0m \u001b[0;34m\u001b[0m\u001b[0m\n\u001b[1;32m     57\u001b[0m     \u001b[0;32mdef\u001b[0m \u001b[0mextra_repr\u001b[0m\u001b[0;34m(\u001b[0m\u001b[0mself\u001b[0m\u001b[0;34m)\u001b[0m\u001b[0;34m:\u001b[0m\u001b[0;34m\u001b[0m\u001b[0m\n",
      "\u001b[0;32m~/miniconda3/lib/python3.6/site-packages/torch/nn/functional.py\u001b[0m in \u001b[0;36mlinear\u001b[0;34m(input, weight, bias)\u001b[0m\n\u001b[1;32m    990\u001b[0m     \u001b[0;32mif\u001b[0m \u001b[0minput\u001b[0m\u001b[0;34m.\u001b[0m\u001b[0mdim\u001b[0m\u001b[0;34m(\u001b[0m\u001b[0;34m)\u001b[0m \u001b[0;34m==\u001b[0m \u001b[0;36m2\u001b[0m \u001b[0;32mand\u001b[0m \u001b[0mbias\u001b[0m \u001b[0;32mis\u001b[0m \u001b[0;32mnot\u001b[0m \u001b[0;32mNone\u001b[0m\u001b[0;34m:\u001b[0m\u001b[0;34m\u001b[0m\u001b[0m\n\u001b[1;32m    991\u001b[0m         \u001b[0;31m# fused op is marginally faster\u001b[0m\u001b[0;34m\u001b[0m\u001b[0;34m\u001b[0m\u001b[0m\n\u001b[0;32m--> 992\u001b[0;31m         \u001b[0;32mreturn\u001b[0m \u001b[0mtorch\u001b[0m\u001b[0;34m.\u001b[0m\u001b[0maddmm\u001b[0m\u001b[0;34m(\u001b[0m\u001b[0mbias\u001b[0m\u001b[0;34m,\u001b[0m \u001b[0minput\u001b[0m\u001b[0;34m,\u001b[0m \u001b[0mweight\u001b[0m\u001b[0;34m.\u001b[0m\u001b[0mt\u001b[0m\u001b[0;34m(\u001b[0m\u001b[0;34m)\u001b[0m\u001b[0;34m)\u001b[0m\u001b[0;34m\u001b[0m\u001b[0m\n\u001b[0m\u001b[1;32m    993\u001b[0m \u001b[0;34m\u001b[0m\u001b[0m\n\u001b[1;32m    994\u001b[0m     \u001b[0moutput\u001b[0m \u001b[0;34m=\u001b[0m \u001b[0minput\u001b[0m\u001b[0;34m.\u001b[0m\u001b[0mmatmul\u001b[0m\u001b[0;34m(\u001b[0m\u001b[0mweight\u001b[0m\u001b[0;34m.\u001b[0m\u001b[0mt\u001b[0m\u001b[0;34m(\u001b[0m\u001b[0;34m)\u001b[0m\u001b[0;34m)\u001b[0m\u001b[0;34m\u001b[0m\u001b[0m\n",
      "\u001b[0;31mKeyboardInterrupt\u001b[0m: "
     ]
    }
   ],
   "source": [
    "init_deep_pot = DeepPotential().cuda()\n",
    "init_optim = torch.optim.Adam(init_deep_pot.parameters())\n",
    "deep_pot, optim = train(init_deep_pot, init_optim, X_data, Y_data, 300, 128, (0.01, 0.96, 1.5), print_every=100)"
   ]
  },
  {
   "cell_type": "code",
   "execution_count": 47,
   "metadata": {},
   "outputs": [],
   "source": [
    "test_size = 10000"
   ]
  },
  {
   "cell_type": "code",
   "execution_count": 48,
   "metadata": {},
   "outputs": [],
   "source": [
    "deep_pot = DeepPotential().cuda()\n",
    "deep_pot.load_state_dict(torch.load('./ModelCheckpoints/epoch_13'))\n",
    "Y_result = deep_pot.forward(X_data[-test_size:])"
   ]
  },
  {
   "cell_type": "code",
   "execution_count": 49,
   "metadata": {},
   "outputs": [],
   "source": [
    "result = backtransform(np.array(Y_result.data.tolist()).reshape(test_size), Y_data.min().item(), Y_data.max().item())"
   ]
  },
  {
   "cell_type": "code",
   "execution_count": 50,
   "metadata": {},
   "outputs": [],
   "source": [
    "test = np.array(Y_data[-test_size:].data.tolist()).reshape(test_size)"
   ]
  },
  {
   "cell_type": "code",
   "execution_count": 51,
   "metadata": {},
   "outputs": [
    {
     "data": {
      "text/plain": [
       "0.1838300871248677"
      ]
     },
     "execution_count": 51,
     "metadata": {},
     "output_type": "execute_result"
    }
   ],
   "source": [
    "np.mean(np.abs(test - result))"
   ]
  },
  {
   "cell_type": "markdown",
   "metadata": {},
   "source": [
    "## Test the model\n",
    "### Mean Absolute Error\n",
    "The desired accuracy is about 0.04 eV"
   ]
  },
  {
   "cell_type": "code",
   "execution_count": null,
   "metadata": {},
   "outputs": [],
   "source": [
    "mae = np.abs(deep_pot.forward(X_data[-500:]).data.numpy().reshape(500) - Y_data[-500:].data.numpy().reshape(500)).mean()\n",
    "print('The nural network reaches a mean absolute error of {} eV'.format(mae))"
   ]
  },
  {
   "cell_type": "markdown",
   "metadata": {},
   "source": [
    "### Small test sample"
   ]
  },
  {
   "cell_type": "code",
   "execution_count": null,
   "metadata": {},
   "outputs": [],
   "source": [
    "deep_pot.forward(X_data[-10:])"
   ]
  },
  {
   "cell_type": "code",
   "execution_count": null,
   "metadata": {},
   "outputs": [],
   "source": [
    "Y_data[-10:]"
   ]
  },
  {
   "cell_type": "markdown",
   "metadata": {},
   "source": [
    "## Save the Model Parameters"
   ]
  },
  {
   "cell_type": "code",
   "execution_count": null,
   "metadata": {},
   "outputs": [],
   "source": [
    "torch.save(deep_pot.state_dict(), model_path)"
   ]
  },
  {
   "cell_type": "markdown",
   "metadata": {},
   "source": [
    "## Continue learning"
   ]
  },
  {
   "cell_type": "code",
   "execution_count": null,
   "metadata": {},
   "outputs": [],
   "source": [
    "deep_pot = DeepPotential()\n",
    "deep_pot.load_state_dict(torch.load(model_path))\n",
    "optim = torch.optim.Adam(deep_pot.parameters(), lr=1e-2)"
   ]
  },
  {
   "cell_type": "code",
   "execution_count": null,
   "metadata": {},
   "outputs": [],
   "source": [
    "deep_pot, optim = train(deep_pot, optim, X_data, Y_data, 1000, 512, (0.001, 0.96, 1.5), use_for_train=0.9, print_every=10)"
   ]
  },
  {
   "cell_type": "code",
   "execution_count": null,
   "metadata": {},
   "outputs": [],
   "source": []
  }
 ],
 "metadata": {
  "kernelspec": {
   "display_name": "Python 3",
   "language": "python",
   "name": "python3"
  },
  "language_info": {
   "codemirror_mode": {
    "name": "ipython",
    "version": 3
   },
   "file_extension": ".py",
   "mimetype": "text/x-python",
   "name": "python",
   "nbconvert_exporter": "python",
   "pygments_lexer": "ipython3",
   "version": "3.6.5"
  }
 },
 "nbformat": 4,
 "nbformat_minor": 2
}
