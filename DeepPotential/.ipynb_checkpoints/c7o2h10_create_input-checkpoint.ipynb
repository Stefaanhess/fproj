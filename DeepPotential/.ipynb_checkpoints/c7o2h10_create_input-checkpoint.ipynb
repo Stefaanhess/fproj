{
 "cells": [
  {
   "cell_type": "markdown",
   "metadata": {},
   "source": [
    "# Imports and Settings"
   ]
  },
  {
   "cell_type": "code",
   "execution_count": 1,
   "metadata": {
    "collapsed": true
   },
   "outputs": [],
   "source": [
    "# -*- coding: utf-8 -*-\n",
    "import pandas as pd\n",
    "import numpy as np\n",
    "import os\n",
    "from scipy.spatial.distance import squareform, cdist\n",
    "import time\n",
    "from numpy.testing import *"
   ]
  },
  {
   "cell_type": "code",
   "execution_count": 2,
   "metadata": {
    "collapsed": true
   },
   "outputs": [],
   "source": [
    "from Code.DataGeneration.printer import ProgressTimer\n",
    "from Code.DataGeneration.saver import create_path\n",
    "from Code.DataGeneration.transform import get_spherical, change_base, get_input_data"
   ]
  },
  {
   "cell_type": "code",
   "execution_count": 3,
   "metadata": {
    "collapsed": true
   },
   "outputs": [],
   "source": [
    "path_to_db = \"./Dataset/iso17/reference.db\""
   ]
  },
  {
   "cell_type": "code",
   "execution_count": 4,
   "metadata": {
    "collapsed": true
   },
   "outputs": [],
   "source": [
    "from ase.db import connect\n",
    "\n",
    "molecules = []\n",
    "energies = []\n",
    "with connect(path_to_db) as conn:\n",
    "    for row in conn.select(5):\n",
    "        molecules.append(np.hstack((row['numbers'].reshape((19, 1)), row['positions'])))\n",
    "        energies.append(row['total_energy'])"
   ]
  },
  {
   "cell_type": "code",
   "execution_count": 5,
   "metadata": {},
   "outputs": [
    {
     "data": {
      "text/plain": [
       "(1, 19, 4)"
      ]
     },
     "execution_count": 5,
     "metadata": {},
     "output_type": "execute_result"
    }
   ],
   "source": [
    "np.array(molecules).shape"
   ]
  },
  {
   "cell_type": "code",
   "execution_count": 6,
   "metadata": {},
   "outputs": [
    {
     "data": {
      "text/plain": [
       "[array([[ 8.        , -3.13311987,  1.88354817,  3.12766679],\n",
       "        [ 6.        , -2.24705161,  1.93852065,  1.97802995],\n",
       "        [ 6.        , -0.782912  ,  1.58546259,  2.15014356],\n",
       "        [ 6.        , -0.65984825,  1.29204325,  0.51449211],\n",
       "        [ 8.        , -0.27095204,  0.04593806, -0.04992813],\n",
       "        [ 6.        , -0.11965932,  2.44181756, -0.23724109],\n",
       "        [ 6.        , -1.08130266,  3.68052005,  0.27874998],\n",
       "        [ 6.        , -2.31743849,  2.80620132,  0.86798379],\n",
       "        [ 6.        , -2.21857731,  1.35554898,  0.55055286],\n",
       "        [ 1.        , -2.96925792,  2.73661176,  3.54130577],\n",
       "        [ 1.        , -0.27153608,  2.40714079,  2.58637797],\n",
       "        [ 1.        , -0.64130634,  0.66409026,  2.81151566],\n",
       "        [ 1.        ,  0.17818655,  0.27267158, -0.90326441],\n",
       "        [ 1.        ,  0.93555285,  2.60279125, -0.05197857],\n",
       "        [ 1.        , -0.35827703,  2.41891948, -1.26786949],\n",
       "        [ 1.        , -0.57402327,  4.26807961,  1.08342976],\n",
       "        [ 1.        , -1.21071896,  4.38205601, -0.58218731],\n",
       "        [ 1.        , -3.20449363,  3.40855218,  0.69438356],\n",
       "        [ 1.        , -2.88269789,  0.63231745, -0.02013569]])]"
      ]
     },
     "execution_count": 6,
     "metadata": {},
     "output_type": "execute_result"
    }
   ],
   "source": [
    "molecules"
   ]
  },
  {
   "cell_type": "markdown",
   "metadata": {},
   "source": [
    "## Create a Dataframe from Input files"
   ]
  },
  {
   "cell_type": "code",
   "execution_count": 7,
   "metadata": {
    "collapsed": true
   },
   "outputs": [],
   "source": [
    "#list_ = []\n",
    "#for file in filenames:\n",
    "#    filepath = os.path.join(path_to_files, file)\n",
    "#    try:\n",
    "#        df_single = pd.read_csv(filepath, skiprows=2,\n",
    "#                               skipfooter=3, delimiter='\\t',\n",
    "#                               names=['atomtype', 'x', 'y', 'z', 'charge'], \n",
    "#                               dtype=dict(atomtype=str, x=float, y=float, z=float, charge=float))\n",
    "#    except:\n",
    "#        print(file)\n",
    "#    df_single['file'] = file\n",
    "#    list_.append(df_single)\n",
    "#df_all = pd.concat(list_)\n",
    "#df_all.head(5)"
   ]
  },
  {
   "cell_type": "markdown",
   "metadata": {},
   "source": [
    "## Prepare raw Data for Transformation"
   ]
  },
  {
   "cell_type": "code",
   "execution_count": 8,
   "metadata": {
    "collapsed": true
   },
   "outputs": [],
   "source": [
    "#n_atoms = 19\n",
    "#h_atoms = 10\n",
    "#mask_H = dict(H='ZZZ_H')\n",
    "#df_all = df_all.replace(dict(atomtype=mask_H))\n",
    "## sort by file and atomtype\n",
    "#df_all = df_all.sort_values(['file', 'atomtype']).reset_index(drop=True)\n",
    "## create file id column\n",
    "#df_all['file_id'] = (df_all.index) // n_atoms + 1"
   ]
  },
  {
   "cell_type": "code",
   "execution_count": 9,
   "metadata": {
    "collapsed": true
   },
   "outputs": [],
   "source": [
    "#df_all.head(25)"
   ]
  },
  {
   "cell_type": "markdown",
   "metadata": {},
   "source": [
    "## Transform Dataframe to Numpy Array for faster Calculations"
   ]
  },
  {
   "cell_type": "code",
   "execution_count": 10,
   "metadata": {
    "collapsed": true
   },
   "outputs": [],
   "source": [
    "#raw_matrix = df_all[['file_id', 'atomtype', 'x', 'y', 'z', 'charge']].values"
   ]
  },
  {
   "cell_type": "markdown",
   "metadata": {},
   "source": [
    "# Transformation Functions"
   ]
  },
  {
   "cell_type": "markdown",
   "metadata": {},
   "source": [
    "# Run Calculations"
   ]
  },
  {
   "cell_type": "code",
   "execution_count": 11,
   "metadata": {
    "scrolled": true
   },
   "outputs": [
    {
     "name": "stdout",
     "output_type": "stream",
     "text": [
      "0.962115083042 1.31659759833 1.36844086694\n",
      "1.11808510373 1.97031049532 1.7622187155\n",
      "1.11806447238 1.88928192066 1.68977904882\n",
      "1.05813875861 1.81499136066 1.71526781897\n",
      "1.08337779833 1.59890234777 1.47584928382\n",
      "0.990614137232 1.3455923376 1.35834154493\n",
      "1.14297514763 1.83736603674 1.60752929804\n",
      "1.06158412591 1.61168170039 1.51818556915\n",
      "1.0861999907 1.43400504548 1.32020351478\n",
      "1.13569600328 1.68539172882 1.48401660651\n",
      "1.41068300312 2.66676984611 1.89041041836\n",
      "1.62470351593 4.30660332967 2.65070105864\n",
      "1.47610563579 3.51522703191 2.38141969428\n",
      "1.42217742002 2.76122288957 1.94154600594\n",
      "1.51590827099 3.82914630694 2.52597494204\n",
      "1.41068300312 2.27781905463 1.61469235086\n",
      "1.4882634645 2.81342875857 1.89041041836\n",
      "1.42217742002 2.76122288957 1.94154600594\n",
      "1.45251636783 2.7870803989 1.91879448702\n",
      "time: 0.18556904792785645\n"
     ]
    }
   ],
   "source": [
    "start = time.time()\n",
    "network_in = np.array(get_input_data(molecules))\n",
    "print('time: {}'.format(time.time()-start))"
   ]
  },
  {
   "cell_type": "code",
   "execution_count": 12,
   "metadata": {},
   "outputs": [
    {
     "data": {
      "text/plain": [
       "(1, 19, 72)"
      ]
     },
     "execution_count": 12,
     "metadata": {},
     "output_type": "execute_result"
    }
   ],
   "source": [
    "network_in.shape"
   ]
  },
  {
   "cell_type": "markdown",
   "metadata": {},
   "source": [
    "## Get Y-labels"
   ]
  },
  {
   "cell_type": "code",
   "execution_count": 13,
   "metadata": {},
   "outputs": [
    {
     "data": {
      "text/plain": [
       "1"
      ]
     },
     "execution_count": 13,
     "metadata": {},
     "output_type": "execute_result"
    }
   ],
   "source": [
    "len(energies)"
   ]
  },
  {
   "cell_type": "markdown",
   "metadata": {},
   "source": [
    "## Save arrays to file"
   ]
  },
  {
   "cell_type": "code",
   "execution_count": 14,
   "metadata": {
    "collapsed": true
   },
   "outputs": [],
   "source": [
    "data_path = './Dataset/c702h10_X'\n",
    "label_path = './Dataset/c702h10_Y'"
   ]
  },
  {
   "cell_type": "code",
   "execution_count": 15,
   "metadata": {
    "collapsed": true
   },
   "outputs": [],
   "source": [
    "np.save(data_path, network_in)\n",
    "np.save(label_path, energies)"
   ]
  },
  {
   "cell_type": "markdown",
   "metadata": {},
   "source": [
    "# Testing"
   ]
  },
  {
   "cell_type": "markdown",
   "metadata": {},
   "source": [
    "## Test Functions"
   ]
  },
  {
   "cell_type": "code",
   "execution_count": 16,
   "metadata": {
    "collapsed": true
   },
   "outputs": [],
   "source": [
    "def test_get_spherical():\n",
    "    test_positions = np.array([[0, 1, 2],\n",
    "                               [1, 1, 1],\n",
    "                               [-1, 2, 1]])\n",
    "    val_result = np.array([[1/np.sqrt(5), np.cos(np.arccos(2/np.sqrt(5))),\n",
    "                            np.cos(np.pi/2), np.sin(np.pi/2)],\n",
    "                           [1/np.sqrt(3), np.cos(np.arccos(1/np.sqrt(3))),\n",
    "                            np.cos(np.arctan(1)), np.sin(np.arctan(1))],\n",
    "                           [1/np.sqrt(6), np.cos(np.arccos(1/np.sqrt(6))),\n",
    "                            np.cos(np.arctan(-2) + np.pi), np.sin(np.arctan(-2) + np.pi)]])\n",
    "    assert_array_almost_equal(val_result, get_spherical(test_positions)) "
   ]
  },
  {
   "cell_type": "code",
   "execution_count": 17,
   "metadata": {
    "collapsed": true
   },
   "outputs": [],
   "source": [
    "def test_change_base():\n",
    "    test_positions = np.array([[0, 1, 2],\n",
    "                               [1, 1, 1],\n",
    "                               [-1, 2, 1]])\n",
    "    x = np.array([1, 1, 0])\n",
    "    y = np.array([0, 0, 1])\n",
    "    z = np.array([2, 1, 3])\n",
    "    val_result = np.array([[-7.,-13.,4.],\n",
    "                           [-8.,-17.,5.],\n",
    "                           [-4., -8.,2.]])\n",
    "    o = np.array([-1, 4, 3])\n",
    "    assert_array_almost_equal(val_result, change_base(test_positions, x, y, z, o))"
   ]
  },
  {
   "cell_type": "code",
   "execution_count": 18,
   "metadata": {
    "collapsed": true
   },
   "outputs": [],
   "source": [
    "def test_get_input_data():\n",
    "    test_mol = np.array([['C', 1, 1, 1],\n",
    "                         ['O', 1, 0, 0],\n",
    "                         ['O', 0, 3, 0],\n",
    "                         ['ZZZ_H', 0, 2, 0]])\n",
    "    return get_input_data(test_mol, 4)"
   ]
  },
  {
   "cell_type": "markdown",
   "metadata": {},
   "source": [
    "## Run Tests"
   ]
  },
  {
   "cell_type": "code",
   "execution_count": 19,
   "metadata": {
    "collapsed": true
   },
   "outputs": [],
   "source": [
    "test_mol = molecules[0]"
   ]
  },
  {
   "cell_type": "code",
   "execution_count": 20,
   "metadata": {
    "collapsed": true
   },
   "outputs": [],
   "source": [
    "test_mol = test_mol[test_mol[:,0].argsort()]"
   ]
  },
  {
   "cell_type": "code",
   "execution_count": 21,
   "metadata": {
    "collapsed": true
   },
   "outputs": [],
   "source": [
    "results = np.zeros((19, 72))"
   ]
  },
  {
   "cell_type": "code",
   "execution_count": 22,
   "metadata": {},
   "outputs": [
    {
     "name": "stdout",
     "output_type": "stream",
     "text": [
      "0 18 15 [-3.13311987  1.88354817  3.12766679] [-2.24705161  1.93852065  1.97802995]\n",
      "1 11 12 [-1.08130266  3.68052005  0.27874998] [-0.11965932  2.44181756 -0.23724109]\n",
      "2 11 10 [-1.08130266  3.68052005  0.27874998] [-2.31743849  2.80620132  0.86798379]\n",
      "3 12 11 [-0.11965932  2.44181756 -0.23724109] [-1.08130266  3.68052005  0.27874998]\n",
      "4 12 13 [-0.11965932  2.44181756 -0.23724109] [-0.65984825  1.29204325  0.51449211]\n",
      "5 17 13 [-0.27095204  0.04593806 -0.04992813] [-0.65984825  1.29204325  0.51449211]\n",
      "6 14 15 [-0.782912    1.58546259  2.15014356] [-2.24705161  1.93852065  1.97802995]\n",
      "7 14 15 [-0.782912    1.58546259  2.15014356] [-2.24705161  1.93852065  1.97802995]\n",
      "8 10 15 [-2.31743849  2.80620132  0.86798379] [-2.24705161  1.93852065  1.97802995]\n",
      "9 16 13 [-2.21857731  1.35554898  0.55055286] [-0.65984825  1.29204325  0.51449211]\n"
     ]
    }
   ],
   "source": [
    "positions = test_mol[:, 1:]\n",
    "for i in range(10):\n",
    "    dists = cdist(positions[np.newaxis, i], positions[10:])\n",
    "    one, two = dists.argsort().reshape(9)[:2] + 10\n",
    "    zero = i\n",
    "    x = positions[one] - positions[zero]\n",
    "    z = np.cross(x, positions[two] - positions[zero])\n",
    "    y = np.cross(z, x)\n",
    "    x /= np.linalg.norm(x)\n",
    "    y /= np.linalg.norm(y)\n",
    "    z /= np.linalg.norm(z)\n",
    "    print(i, one, two, positions[one], positions[two])\n",
    "    others = np.vstack((test_mol[:i], test_mol[i+1:]))\n",
    "    ch_b_others = change_base(others[:, 1:], x, y, z, positions[zero])\n",
    "    sph_others = get_spherical(ch_b_others)\n",
    "    sph_others = sph_others[sph_others[:, 0].argsort()]\n",
    "    others = others[sph_others[:, 0].argsort()]\n",
    "    sph_others = sph_others[others[:, 0].argsort()]\n",
    "    results[i] = sph_others.reshape(72)"
   ]
  },
  {
   "cell_type": "code",
   "execution_count": 23,
   "metadata": {
    "collapsed": true
   },
   "outputs": [],
   "source": [
    "val_result = results[:10]"
   ]
  },
  {
   "cell_type": "code",
   "execution_count": 24,
   "metadata": {
    "collapsed": true
   },
   "outputs": [],
   "source": [
    "nearest = cdist(positions[np.newaxis, 0], positions[10:])#.argsort().reshape(9) + 10"
   ]
  },
  {
   "cell_type": "code",
   "execution_count": 25,
   "metadata": {},
   "outputs": [
    {
     "data": {
      "text/plain": [
       "array([[ 2.75251915,  3.88582143,  4.74178576,  4.07206976,  2.83559256,\n",
       "         1.89798911,  3.37867707,  5.23617613,  0.96211508]])"
      ]
     },
     "execution_count": 25,
     "metadata": {},
     "output_type": "execute_result"
    }
   ],
   "source": [
    "nearest"
   ]
  },
  {
   "cell_type": "code",
   "execution_count": 26,
   "metadata": {},
   "outputs": [
    {
     "name": "stdout",
     "output_type": "stream",
     "text": [
      "0.962115083042 1.31659759833 1.36844086694\n",
      "1.0861999907 1.43400504548 1.32020351478\n",
      "1.06158412591 1.61168170039 1.51818556915\n",
      "1.14297514763 1.83736603674 1.60752929804\n",
      "0.990614137232 1.3455923376 1.35834154493\n",
      "1.13569600328 1.68539172882 1.48401660651\n",
      "1.05813875861 1.81499136066 1.71526781897\n",
      "1.11806447238 1.88928192066 1.68977904882\n",
      "1.11808510373 1.97031049532 1.7622187155\n",
      "1.08337779833 1.59890234777 1.47584928382\n",
      "1.41068300312 2.66676984611 1.89041041836\n",
      "1.62470351593 4.30660332967 2.65070105864\n",
      "1.47610563579 3.51522703191 2.38141969428\n",
      "1.42217742002 2.76122288957 1.94154600594\n",
      "1.51590827099 3.82914630694 2.52597494204\n",
      "1.41068300312 2.27781905463 1.61469235086\n",
      "1.4882634645 2.81342875857 1.89041041836\n",
      "1.42217742002 2.76122288957 1.94154600594\n",
      "1.45251636783 2.7870803989 1.91879448702\n"
     ]
    }
   ],
   "source": [
    "test_result = np.array(get_input_data(test_mol[np.newaxis])).reshape(19, 72)[:10]"
   ]
  },
  {
   "cell_type": "code",
   "execution_count": 27,
   "metadata": {},
   "outputs": [
    {
     "data": {
      "text/plain": [
       "array([ 28.40736695,  20.35913868,  30.53797926,  19.76962284,\n",
       "        29.59129429,  24.21324893,  30.96789707,  18.54641092,\n",
       "        20.56990474,  30.68651161])"
      ]
     },
     "execution_count": 27,
     "metadata": {},
     "output_type": "execute_result"
    }
   ],
   "source": [
    "test_result.sum(axis=1)"
   ]
  },
  {
   "cell_type": "code",
   "execution_count": 28,
   "metadata": {},
   "outputs": [
    {
     "data": {
      "text/plain": [
       "array([ 28.40736695,  20.56990474,  18.54641092,  30.96789707,\n",
       "        30.68651161,  29.59129429,  19.76962284,  30.53797926,\n",
       "        20.35913868,  24.21324893])"
      ]
     },
     "execution_count": 28,
     "metadata": {},
     "output_type": "execute_result"
    }
   ],
   "source": [
    "val_result.sum(axis=1)"
   ]
  },
  {
   "cell_type": "code",
   "execution_count": 29,
   "metadata": {},
   "outputs": [
    {
     "data": {
      "text/plain": [
       "array([  1.67291431e-01,   1.47438366e-01,   6.02044772e-01,\n",
       "         7.98462330e-01,   1.82433413e-01,  -1.06055026e-01,\n",
       "         3.49431343e-01,   9.36961972e-01,   1.88387242e-01,\n",
       "         1.80183575e-01,   1.91226248e-01,   9.81545986e-01,\n",
       "         2.09412529e-01,  -3.40970623e-01,   3.19776996e-03,\n",
       "         9.99994887e-01,   2.41688270e-01,  -2.48215034e-01,\n",
       "         8.43845839e-01,   5.36585687e-01,   2.66088313e-01,\n",
       "        -5.48338724e-02,  -1.88972553e-01,   9.81982370e-01,\n",
       "         3.12388708e-01,   6.71365330e-01,   7.39692399e-01,\n",
       "         6.72945135e-01,   3.40763355e-01,  -6.81100254e-01,\n",
       "         3.11006809e-01,   9.50407683e-01,   3.47143938e-01,\n",
       "         5.52170252e-01,   1.01268480e-01,   9.94859133e-01,\n",
       "         2.10891013e-01,   3.09688104e-02,   2.95505454e-01,\n",
       "         9.55341052e-01,   2.45575361e-01,   1.54035312e-01,\n",
       "         5.44011784e-01,   8.39077576e-01,   2.57345845e-01,\n",
       "        -2.00466531e-01,   6.41443237e-02,   9.97940632e-01,\n",
       "         2.95973832e-01,  -1.54443390e-01,   7.13714657e-01,\n",
       "         7.00436570e-01,   3.52659974e-01,   4.62240169e-01,\n",
       "         4.95691238e-01,   8.68498818e-01,   3.63303557e-01,\n",
       "        -3.66679001e-01,   3.81371731e-01,   9.24421767e-01,\n",
       "         5.26873413e-01,   2.83276945e-16,   6.62133933e-01,\n",
       "         7.49385518e-01,   1.90979061e-01,   2.11920405e-01,\n",
       "         6.78119586e-01,   7.34951582e-01,   1.03937670e+00,\n",
       "         6.12323400e-17,   1.00000000e+00,   0.00000000e+00])"
      ]
     },
     "execution_count": 29,
     "metadata": {},
     "output_type": "execute_result"
    }
   ],
   "source": [
    "test_result[0]"
   ]
  },
  {
   "cell_type": "code",
   "execution_count": 30,
   "metadata": {},
   "outputs": [
    {
     "data": {
      "text/plain": [
       "array([  1.67291431e-01,   1.47438366e-01,   6.02044772e-01,\n",
       "         7.98462330e-01,   2.45575361e-01,   1.54035312e-01,\n",
       "         5.44011784e-01,   8.39077576e-01,   2.41688270e-01,\n",
       "        -2.48215034e-01,   8.43845839e-01,   5.36585687e-01,\n",
       "         2.10891013e-01,   3.09688104e-02,   2.95505454e-01,\n",
       "         9.55341052e-01,   2.57345845e-01,  -2.00466531e-01,\n",
       "         6.41443237e-02,   9.97940632e-01,   1.90979061e-01,\n",
       "         2.11920405e-01,   6.78119586e-01,   7.34951582e-01,\n",
       "         1.88387242e-01,   1.80183575e-01,   1.91226248e-01,\n",
       "         9.81545986e-01,   1.82433413e-01,  -1.06055026e-01,\n",
       "         3.49431343e-01,   9.36961972e-01,   2.09412529e-01,\n",
       "        -3.40970623e-01,   3.19776996e-03,   9.99994887e-01,\n",
       "         2.66088313e-01,  -5.48338724e-02,  -1.88972553e-01,\n",
       "         9.81982370e-01,   2.95973832e-01,  -1.54443390e-01,\n",
       "         7.13714657e-01,   7.00436570e-01,   3.12388708e-01,\n",
       "         6.71365330e-01,   7.39692399e-01,   6.72945135e-01,\n",
       "         3.40763355e-01,  -6.81100254e-01,   3.11006809e-01,\n",
       "         9.50407683e-01,   3.47143938e-01,   5.52170252e-01,\n",
       "         1.01268480e-01,   9.94859133e-01,   3.52659974e-01,\n",
       "         4.62240169e-01,   4.95691238e-01,   8.68498818e-01,\n",
       "         3.63303557e-01,  -3.66679001e-01,   3.81371731e-01,\n",
       "         9.24421767e-01,   5.26873413e-01,   2.83276945e-16,\n",
       "         6.62133933e-01,   7.49385518e-01,   1.03937670e+00,\n",
       "         6.12323400e-17,   1.00000000e+00,   0.00000000e+00])"
      ]
     },
     "execution_count": 30,
     "metadata": {},
     "output_type": "execute_result"
    }
   ],
   "source": [
    "val_result[0]"
   ]
  },
  {
   "cell_type": "code",
   "execution_count": 31,
   "metadata": {},
   "outputs": [
    {
     "ename": "AssertionError",
     "evalue": "\nArrays are not almost equal to 6 decimals\n\n(mismatch 97.63888888888889%)\n x: array([[  1.672914e-01,   1.474384e-01,   6.020448e-01,   7.984623e-01,\n          1.824334e-01,  -1.060550e-01,   3.494313e-01,   9.369620e-01,\n          1.883872e-01,   1.801836e-01,   1.912262e-01,   9.815460e-01,...\n y: array([[  1.672914e-01,   1.474384e-01,   6.020448e-01,   7.984623e-01,\n          2.455754e-01,   1.540353e-01,   5.440118e-01,   8.390776e-01,\n          2.416883e-01,  -2.482150e-01,   8.438458e-01,   5.365857e-01,...",
     "output_type": "error",
     "traceback": [
      "\u001b[0;31m---------------------------------------------------------------------------\u001b[0m",
      "\u001b[0;31mAssertionError\u001b[0m                            Traceback (most recent call last)",
      "\u001b[0;32m<ipython-input-31-6018095feb8c>\u001b[0m in \u001b[0;36m<module>\u001b[0;34m()\u001b[0m\n\u001b[0;32m----> 1\u001b[0;31m \u001b[0massert_array_almost_equal\u001b[0m\u001b[0;34m(\u001b[0m\u001b[0mtest_result\u001b[0m\u001b[0;34m,\u001b[0m \u001b[0mval_result\u001b[0m\u001b[0;34m)\u001b[0m\u001b[0;34m\u001b[0m\u001b[0m\n\u001b[0m",
      "\u001b[0;32m~/anaconda3/envs/fproj/lib/python3.6/site-packages/numpy/testing/utils.py\u001b[0m in \u001b[0;36massert_array_almost_equal\u001b[0;34m(x, y, decimal, err_msg, verbose)\u001b[0m\n\u001b[1;32m    977\u001b[0m     assert_array_compare(compare, x, y, err_msg=err_msg, verbose=verbose,\n\u001b[1;32m    978\u001b[0m              \u001b[0mheader\u001b[0m\u001b[0;34m=\u001b[0m\u001b[0;34m(\u001b[0m\u001b[0;34m'Arrays are not almost equal to %d decimals'\u001b[0m \u001b[0;34m%\u001b[0m \u001b[0mdecimal\u001b[0m\u001b[0;34m)\u001b[0m\u001b[0;34m,\u001b[0m\u001b[0;34m\u001b[0m\u001b[0m\n\u001b[0;32m--> 979\u001b[0;31m              precision=decimal)\n\u001b[0m\u001b[1;32m    980\u001b[0m \u001b[0;34m\u001b[0m\u001b[0m\n\u001b[1;32m    981\u001b[0m \u001b[0;34m\u001b[0m\u001b[0m\n",
      "\u001b[0;32m~/anaconda3/envs/fproj/lib/python3.6/site-packages/numpy/testing/utils.py\u001b[0m in \u001b[0;36massert_array_compare\u001b[0;34m(comparison, x, y, err_msg, verbose, header, precision, equal_nan)\u001b[0m\n\u001b[1;32m    794\u001b[0m                                 names=('x', 'y'), precision=precision)\n\u001b[1;32m    795\u001b[0m             \u001b[0;32mif\u001b[0m \u001b[0;32mnot\u001b[0m \u001b[0mcond\u001b[0m\u001b[0;34m:\u001b[0m\u001b[0;34m\u001b[0m\u001b[0m\n\u001b[0;32m--> 796\u001b[0;31m                 \u001b[0;32mraise\u001b[0m \u001b[0mAssertionError\u001b[0m\u001b[0;34m(\u001b[0m\u001b[0mmsg\u001b[0m\u001b[0;34m)\u001b[0m\u001b[0;34m\u001b[0m\u001b[0m\n\u001b[0m\u001b[1;32m    797\u001b[0m     \u001b[0;32mexcept\u001b[0m \u001b[0mValueError\u001b[0m\u001b[0;34m:\u001b[0m\u001b[0;34m\u001b[0m\u001b[0m\n\u001b[1;32m    798\u001b[0m         \u001b[0;32mimport\u001b[0m \u001b[0mtraceback\u001b[0m\u001b[0;34m\u001b[0m\u001b[0m\n",
      "\u001b[0;31mAssertionError\u001b[0m: \nArrays are not almost equal to 6 decimals\n\n(mismatch 97.63888888888889%)\n x: array([[  1.672914e-01,   1.474384e-01,   6.020448e-01,   7.984623e-01,\n          1.824334e-01,  -1.060550e-01,   3.494313e-01,   9.369620e-01,\n          1.883872e-01,   1.801836e-01,   1.912262e-01,   9.815460e-01,...\n y: array([[  1.672914e-01,   1.474384e-01,   6.020448e-01,   7.984623e-01,\n          2.455754e-01,   1.540353e-01,   5.440118e-01,   8.390776e-01,\n          2.416883e-01,  -2.482150e-01,   8.438458e-01,   5.365857e-01,..."
     ]
    }
   ],
   "source": [
    "assert_array_almost_equal(test_result, val_result)"
   ]
  },
  {
   "cell_type": "code",
   "execution_count": null,
   "metadata": {},
   "outputs": [],
   "source": [
    "test = np.array([[1, 2, 3, 4], [5, 6, 7, 8]])\n",
    "test.reshape(8)"
   ]
  },
  {
   "cell_type": "code",
   "execution_count": null,
   "metadata": {
    "collapsed": true
   },
   "outputs": [],
   "source": [
    "test_result.sum()"
   ]
  },
  {
   "cell_type": "code",
   "execution_count": null,
   "metadata": {
    "collapsed": true
   },
   "outputs": [],
   "source": [
    "np.isnan(test_result)"
   ]
  },
  {
   "cell_type": "code",
   "execution_count": null,
   "metadata": {
    "collapsed": true
   },
   "outputs": [],
   "source": [
    "val_result.sum()"
   ]
  },
  {
   "cell_type": "code",
   "execution_count": null,
   "metadata": {
    "collapsed": true
   },
   "outputs": [],
   "source": [
    "diff = test_result-val_result"
   ]
  },
  {
   "cell_type": "code",
   "execution_count": null,
   "metadata": {
    "collapsed": true
   },
   "outputs": [],
   "source": [
    "for i in range(10):\n",
    "    for j in range(72):\n",
    "        if np.abs(diff[i, j]) <= 0.00001:\n",
    "            print(i, j)"
   ]
  },
  {
   "cell_type": "code",
   "execution_count": null,
   "metadata": {
    "collapsed": true
   },
   "outputs": [],
   "source": [
    "test_result[:, 1]"
   ]
  },
  {
   "cell_type": "code",
   "execution_count": null,
   "metadata": {
    "collapsed": true
   },
   "outputs": [],
   "source": [
    "val_result[:, 1]"
   ]
  },
  {
   "cell_type": "code",
   "execution_count": null,
   "metadata": {
    "collapsed": true
   },
   "outputs": [],
   "source": []
  },
  {
   "cell_type": "code",
   "execution_count": null,
   "metadata": {
    "collapsed": true
   },
   "outputs": [],
   "source": [
    "test_get_spherical()"
   ]
  },
  {
   "cell_type": "code",
   "execution_count": null,
   "metadata": {
    "collapsed": true
   },
   "outputs": [],
   "source": [
    "test_change_base()"
   ]
  },
  {
   "cell_type": "code",
   "execution_count": null,
   "metadata": {
    "collapsed": true
   },
   "outputs": [],
   "source": [
    "test_get_input_data()"
   ]
  },
  {
   "cell_type": "code",
   "execution_count": null,
   "metadata": {
    "collapsed": true
   },
   "outputs": [],
   "source": [
    "np.cross(np.array([-1, 2, -1]), np.array([0, -1, -1]))"
   ]
  },
  {
   "cell_type": "code",
   "execution_count": null,
   "metadata": {
    "collapsed": true
   },
   "outputs": [],
   "source": [
    "x = np.array([[1, 1, 1], [1, 0, 0], [0, 3, 0], [0, 2, 0]])"
   ]
  },
  {
   "cell_type": "code",
   "execution_count": null,
   "metadata": {
    "collapsed": true
   },
   "outputs": [],
   "source": [
    "cdist(x, x)#.argsort()"
   ]
  },
  {
   "cell_type": "code",
   "execution_count": null,
   "metadata": {
    "collapsed": true
   },
   "outputs": [],
   "source": [
    "test_mol = mol"
   ]
  },
  {
   "cell_type": "code",
   "execution_count": null,
   "metadata": {
    "collapsed": true
   },
   "outputs": [],
   "source": [
    "x = np.array([2, 2, 3, 3, 1, 1, 1])\n",
    "y = np.array([1, 2, 3, 4, 5, 6, 7])\n",
    "ids = np.lexsort((y, x))"
   ]
  },
  {
   "cell_type": "code",
   "execution_count": null,
   "metadata": {},
   "outputs": [],
   "source": [
    "y[ids]"
   ]
  },
  {
   "cell_type": "code",
   "execution_count": null,
   "metadata": {
    "collapsed": true
   },
   "outputs": [],
   "source": []
  }
 ],
 "metadata": {
  "kernelspec": {
   "display_name": "Python (fproj)",
   "language": "python",
   "name": "fproj"
  },
  "language_info": {
   "codemirror_mode": {
    "name": "ipython",
    "version": 3
   },
   "file_extension": ".py",
   "mimetype": "text/x-python",
   "name": "python",
   "nbconvert_exporter": "python",
   "pygments_lexer": "ipython3",
   "version": "3.6.3"
  }
 },
 "nbformat": 4,
 "nbformat_minor": 2
}
