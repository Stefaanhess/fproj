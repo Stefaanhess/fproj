{
 "cells": [
  {
   "cell_type": "code",
   "execution_count": 1,
   "metadata": {},
   "outputs": [],
   "source": [
    "comment = 'bn_all_shuffle_lrd_098'"
   ]
  },
  {
   "cell_type": "code",
   "execution_count": 2,
   "metadata": {
    "scrolled": true
   },
   "outputs": [],
   "source": [
    "import numpy as np\n",
    "from matplotlib import pyplot as plt\n",
    "import pandas as pd#\n",
    "%matplotlib inline\n",
    "import torch\n",
    "from torch.autograd import Variable\n",
    "import torch.nn as nn\n",
    "import torch.nn.functional as F\n",
    "import time"
   ]
  },
  {
   "cell_type": "code",
   "execution_count": 3,
   "metadata": {},
   "outputs": [],
   "source": [
    "from Code.Models.c7o2h10_model import DeepPotential, train, normalize, backtransform\n",
    "from Code.DataGeneration.saver import create_path"
   ]
  },
  {
   "cell_type": "code",
   "execution_count": 4,
   "metadata": {},
   "outputs": [],
   "source": [
    "data_path = './Dataset/c7o2h10_X.npy'\n",
    "label_path = './Dataset/c7o2h10_Y.npy'\n",
    "train_ids_path = './Dataset/iso17/train_ids.txt'\n",
    "test_ids_path = './Dataset/iso17/validation_ids.txt'\n",
    "model_path = './ModelCheckpoints/c7o2h10/'\n",
    "model_path = './ModelCheckpoints/c7o2h10/{}/'.format(comment)"
   ]
  },
  {
   "cell_type": "code",
   "execution_count": 5,
   "metadata": {},
   "outputs": [
    {
     "name": "stdout",
     "output_type": "stream",
     "text": [
      "use cuda:   True\n"
     ]
    }
   ],
   "source": [
    "use_cuda = torch.cuda.is_available()\n",
    "print('use cuda:  ', use_cuda)"
   ]
  },
  {
   "cell_type": "markdown",
   "metadata": {},
   "source": [
    "# Read the Data"
   ]
  },
  {
   "cell_type": "code",
   "execution_count": 6,
   "metadata": {},
   "outputs": [],
   "source": [
    "train_ids = (np.loadtxt(train_ids_path) - 1).astype(int).tolist()\n",
    "test_ids = (np.loadtxt(test_ids_path) - 1).astype(int).tolist()"
   ]
  },
  {
   "cell_type": "code",
   "execution_count": 7,
   "metadata": {
    "scrolled": true
   },
   "outputs": [
    {
     "data": {
      "text/plain": [
       "(404000, 19, 72)"
      ]
     },
     "execution_count": 7,
     "metadata": {},
     "output_type": "execute_result"
    }
   ],
   "source": [
    "X_npy = np.load(data_path)\n",
    "Y_npy = np.load(label_path) * -1\n",
    "Y_npy, Y_min, Y_max = normalize(Y_npy)\n",
    "X_npy.shape"
   ]
  },
  {
   "cell_type": "markdown",
   "metadata": {},
   "source": [
    "### Split into test and train"
   ]
  },
  {
   "cell_type": "code",
   "execution_count": 8,
   "metadata": {},
   "outputs": [],
   "source": [
    "X_train_npy, X_test_npy = X_npy[train_ids], X_npy[test_ids]\n",
    "Y_train_npy, Y_test_npy = Y_npy[train_ids], Y_npy[test_ids]"
   ]
  },
  {
   "cell_type": "code",
   "execution_count": 9,
   "metadata": {},
   "outputs": [],
   "source": [
    "X_train = Variable(torch.Tensor(X_train_npy))\n",
    "Y_train = Variable(torch.Tensor(Y_train_npy), requires_grad=False)\n",
    "X_test = Variable(torch.Tensor(X_test_npy))\n",
    "Y_test = Variable(torch.Tensor(Y_test_npy), requires_grad=False)"
   ]
  },
  {
   "cell_type": "markdown",
   "metadata": {},
   "source": [
    "## Test Model"
   ]
  },
  {
   "cell_type": "code",
   "execution_count": 13,
   "metadata": {},
   "outputs": [
    {
     "name": "stdout",
     "output_type": "stream",
     "text": [
      "0:\ttest scoore:     0.2259\t\ttrain scoore:     0.4843\n",
      "1:\ttest scoore:     0.2169\t\ttrain scoore:     0.5432\n",
      "2:\ttest scoore:     0.1974\t\ttrain scoore:     0.4803\n",
      "3:\ttest scoore:     0.1960\t\ttrain scoore:     0.4928\n",
      "4:\ttest scoore:     0.1833\t\ttrain scoore:     0.5637\n",
      "5:\ttest scoore:     0.1834\t\ttrain scoore:     0.4754\n",
      "6:\ttest scoore:     0.1638\t\ttrain scoore:     0.4008\n",
      "7:\ttest scoore:     0.1588\t\ttrain scoore:     0.4805\n",
      "8:\ttest scoore:     0.1494\t\ttrain scoore:     0.4420\n",
      "9:\ttest scoore:     0.1484\t\ttrain scoore:     0.4775\n",
      "10:\ttest scoore:     0.1445\t\ttrain scoore:     0.3362\n",
      "11:\ttest scoore:     0.1462\t\ttrain scoore:     0.3249\n",
      "12:\ttest scoore:     0.1367\t\ttrain scoore:     0.4003\n",
      "13:\ttest scoore:     0.1341\t\ttrain scoore:     0.3465\n",
      "14:\ttest scoore:     0.1377\t\ttrain scoore:     0.3210\n",
      "15:\ttest scoore:     0.1264\t\ttrain scoore:     0.3694\n",
      "16:\ttest scoore:     0.1276\t\ttrain scoore:     0.3606\n",
      "17:\ttest scoore:     0.1254\t\ttrain scoore:     0.3766\n",
      "18:\ttest scoore:     0.1210\t\ttrain scoore:     0.3583\n",
      "19:\ttest scoore:     0.1185\t\ttrain scoore:     0.3734\n",
      "20:\ttest scoore:     0.1174\t\ttrain scoore:     0.3773\n",
      "21:\ttest scoore:     0.1185\t\ttrain scoore:     0.4006\n",
      "22:\ttest scoore:     0.1143\t\ttrain scoore:     0.3674\n",
      "23:\ttest scoore:     0.1110\t\ttrain scoore:     0.3973\n",
      "24:\ttest scoore:     0.1129\t\ttrain scoore:     0.4001\n",
      "25:\ttest scoore:     0.1087\t\ttrain scoore:     0.4752\n",
      "26:\ttest scoore:     0.1054\t\ttrain scoore:     0.3967\n",
      "27:\ttest scoore:     0.1058\t\ttrain scoore:     0.3887\n",
      "28:\ttest scoore:     0.1049\t\ttrain scoore:     0.4228\n",
      "29:\ttest scoore:     0.1049\t\ttrain scoore:     0.4279\n",
      "30:\ttest scoore:     0.1040\t\ttrain scoore:     0.3924\n",
      "31:\ttest scoore:     0.1022\t\ttrain scoore:     0.4042\n",
      "32:\ttest scoore:     0.1095\t\ttrain scoore:     0.4129\n",
      "33:\ttest scoore:     0.1035\t\ttrain scoore:     0.3922\n",
      "34:\ttest scoore:     0.1012\t\ttrain scoore:     0.4387\n",
      "35:\ttest scoore:     0.1014\t\ttrain scoore:     0.4188\n",
      "36:\ttest scoore:     0.1004\t\ttrain scoore:     0.4354\n",
      "37:\ttest scoore:     0.0996\t\ttrain scoore:     0.4016\n",
      "38:\ttest scoore:     0.0969\t\ttrain scoore:     0.4068\n",
      "39:\ttest scoore:     0.0962\t\ttrain scoore:     0.4472\n",
      "40:\ttest scoore:     0.0976\t\ttrain scoore:     0.4100\n",
      "41:\ttest scoore:     0.0962\t\ttrain scoore:     0.4445\n",
      "42:\ttest scoore:     0.1009\t\ttrain scoore:     0.4219\n",
      "43:\ttest scoore:     0.0980\t\ttrain scoore:     0.4163\n",
      "44:\ttest scoore:     0.0933\t\ttrain scoore:     0.4405\n",
      "45:\ttest scoore:     0.0978\t\ttrain scoore:     0.4218\n",
      "46:\ttest scoore:     0.0928\t\ttrain scoore:     0.4263\n",
      "47:\ttest scoore:     0.0934\t\ttrain scoore:     0.4254\n",
      "48:\ttest scoore:     0.0942\t\ttrain scoore:     0.4229\n",
      "49:\ttest scoore:     0.0958\t\ttrain scoore:     0.4252\n",
      "50:\ttest scoore:     0.0917\t\ttrain scoore:     0.4537\n",
      "51:\ttest scoore:     0.0909\t\ttrain scoore:     0.4524\n",
      "52:\ttest scoore:     0.0927\t\ttrain scoore:     0.4282\n",
      "53:\ttest scoore:     0.0944\t\ttrain scoore:     0.4206\n",
      "54:\ttest scoore:     0.0960\t\ttrain scoore:     0.4404\n",
      "55:\ttest scoore:     0.0898\t\ttrain scoore:     0.4416\n",
      "56:\ttest scoore:     0.0899\t\ttrain scoore:     0.4240\n",
      "57:\ttest scoore:     0.0912\t\ttrain scoore:     0.4567\n",
      "58:\ttest scoore:     0.0901\t\ttrain scoore:     0.4508\n",
      "59:\ttest scoore:     0.0911\t\ttrain scoore:     0.4572\n",
      "60:\ttest scoore:     0.0881\t\ttrain scoore:     0.4770\n",
      "61:\ttest scoore:     0.0886\t\ttrain scoore:     0.4355\n",
      "62:\ttest scoore:     0.0858\t\ttrain scoore:     0.4262\n",
      "63:\ttest scoore:     0.0860\t\ttrain scoore:     0.4305\n",
      "64:\ttest scoore:     0.0866\t\ttrain scoore:     0.4446\n",
      "65:\ttest scoore:     0.0935\t\ttrain scoore:     0.4293\n",
      "66:\ttest scoore:     0.0870\t\ttrain scoore:     0.4574\n",
      "67:\ttest scoore:     0.0892\t\ttrain scoore:     0.4240\n",
      "68:\ttest scoore:     0.0882\t\ttrain scoore:     0.4347\n",
      "69:\ttest scoore:     0.0849\t\ttrain scoore:     0.4436\n",
      "70:\ttest scoore:     0.0849\t\ttrain scoore:     0.4338\n",
      "71:\ttest scoore:     0.0846\t\ttrain scoore:     0.4306\n",
      "72:\ttest scoore:     0.0855\t\ttrain scoore:     0.4414\n",
      "73:\ttest scoore:     0.0841\t\ttrain scoore:     0.4611\n",
      "74:\ttest scoore:     0.0869\t\ttrain scoore:     0.4487\n",
      "75:\ttest scoore:     0.0847\t\ttrain scoore:     0.4407\n",
      "76:\ttest scoore:     0.0830\t\ttrain scoore:     0.4616\n",
      "77:\ttest scoore:     0.0869\t\ttrain scoore:     0.4477\n",
      "78:\ttest scoore:     0.0857\t\ttrain scoore:     0.4613\n",
      "79:\ttest scoore:     0.0835\t\ttrain scoore:     0.4469\n",
      "80:\ttest scoore:     0.0857\t\ttrain scoore:     0.4665\n",
      "81:\ttest scoore:     0.0828\t\ttrain scoore:     0.4678\n",
      "82:\ttest scoore:     0.0829\t\ttrain scoore:     0.4329\n",
      "83:\ttest scoore:     0.0840\t\ttrain scoore:     0.4498\n",
      "84:\ttest scoore:     0.0821\t\ttrain scoore:     0.4390\n",
      "85:\ttest scoore:     0.0836\t\ttrain scoore:     0.4526\n",
      "86:\ttest scoore:     0.0824\t\ttrain scoore:     0.4468\n",
      "87:\ttest scoore:     0.0842\t\ttrain scoore:     0.4313\n",
      "88:\ttest scoore:     0.0821\t\ttrain scoore:     0.4546\n",
      "89:\ttest scoore:     0.0823\t\ttrain scoore:     0.4429\n",
      "90:\ttest scoore:     0.0834\t\ttrain scoore:     0.4451\n",
      "91:\ttest scoore:     0.0819\t\ttrain scoore:     0.4511\n",
      "92:\ttest scoore:     0.0809\t\ttrain scoore:     0.4494\n",
      "93:\ttest scoore:     0.0809\t\ttrain scoore:     0.4323\n",
      "94:\ttest scoore:     0.0810\t\ttrain scoore:     0.4418\n",
      "95:\ttest scoore:     0.0826\t\ttrain scoore:     0.4349\n",
      "96:\ttest scoore:     0.0820\t\ttrain scoore:     0.4386\n",
      "97:\ttest scoore:     0.0809\t\ttrain scoore:     0.4472\n",
      "98:\ttest scoore:     0.0816\t\ttrain scoore:     0.4468\n",
      "99:\ttest scoore:     0.0816\t\ttrain scoore:     0.4480\n",
      "100:\ttest scoore:     0.0813\t\ttrain scoore:     0.4285\n",
      "101:\ttest scoore:     0.0801\t\ttrain scoore:     0.4337\n",
      "102:\ttest scoore:     0.0803\t\ttrain scoore:     0.4340\n",
      "103:\ttest scoore:     0.0802\t\ttrain scoore:     0.4438\n",
      "104:\ttest scoore:     0.0802\t\ttrain scoore:     0.4667\n",
      "105:\ttest scoore:     0.0797\t\ttrain scoore:     0.4499\n",
      "106:\ttest scoore:     0.0798\t\ttrain scoore:     0.4368\n",
      "107:\ttest scoore:     0.0795\t\ttrain scoore:     0.4501\n",
      "108:\ttest scoore:     0.0791\t\ttrain scoore:     0.4598\n",
      "109:\ttest scoore:     0.0795\t\ttrain scoore:     0.4478\n",
      "110:\ttest scoore:     0.0806\t\ttrain scoore:     0.4411\n",
      "111:\ttest scoore:     0.0804\t\ttrain scoore:     0.4426\n",
      "112:\ttest scoore:     0.0815\t\ttrain scoore:     0.4343\n",
      "113:\ttest scoore:     0.0802\t\ttrain scoore:     0.4370\n",
      "114:\ttest scoore:     0.0802\t\ttrain scoore:     0.4365\n",
      "115:\ttest scoore:     0.0792\t\ttrain scoore:     0.4345\n",
      "116:\ttest scoore:     0.0802\t\ttrain scoore:     0.4309\n",
      "117:\ttest scoore:     0.0790\t\ttrain scoore:     0.4366\n",
      "118:\ttest scoore:     0.0814\t\ttrain scoore:     0.4462\n",
      "119:\ttest scoore:     0.0787\t\ttrain scoore:     0.4502\n",
      "120:\ttest scoore:     0.0809\t\ttrain scoore:     0.4327\n",
      "121:\ttest scoore:     0.0785\t\ttrain scoore:     0.4356\n",
      "122:\ttest scoore:     0.0781\t\ttrain scoore:     0.4500\n",
      "123:\ttest scoore:     0.0789\t\ttrain scoore:     0.4465\n",
      "124:\ttest scoore:     0.0783\t\ttrain scoore:     0.4424\n",
      "125:\ttest scoore:     0.0806\t\ttrain scoore:     0.4419\n",
      "126:\ttest scoore:     0.0779\t\ttrain scoore:     0.4326\n",
      "127:\ttest scoore:     0.0780\t\ttrain scoore:     0.4374\n",
      "128:\ttest scoore:     0.0788\t\ttrain scoore:     0.4285\n",
      "129:\ttest scoore:     0.0786\t\ttrain scoore:     0.4312\n",
      "130:\ttest scoore:     0.0779\t\ttrain scoore:     0.4345\n",
      "131:\ttest scoore:     0.0779\t\ttrain scoore:     0.4305\n",
      "132:\ttest scoore:     0.0789\t\ttrain scoore:     0.4272\n",
      "133:\ttest scoore:     0.0779\t\ttrain scoore:     0.4284\n",
      "134:\ttest scoore:     0.0787\t\ttrain scoore:     0.4280\n",
      "135:\ttest scoore:     0.0776\t\ttrain scoore:     0.4388\n",
      "136:\ttest scoore:     0.0776\t\ttrain scoore:     0.4374\n",
      "137:\ttest scoore:     0.0775\t\ttrain scoore:     0.4362\n",
      "138:\ttest scoore:     0.0776\t\ttrain scoore:     0.4309\n",
      "139:\ttest scoore:     0.0777\t\ttrain scoore:     0.4316\n",
      "140:\ttest scoore:     0.0773\t\ttrain scoore:     0.4399\n",
      "141:\ttest scoore:     0.0777\t\ttrain scoore:     0.4402\n",
      "142:\ttest scoore:     0.0774\t\ttrain scoore:     0.4350\n",
      "143:\ttest scoore:     0.0776\t\ttrain scoore:     0.4335\n",
      "144:\ttest scoore:     0.0779\t\ttrain scoore:     0.4327\n",
      "145:\ttest scoore:     0.0777\t\ttrain scoore:     0.4355\n",
      "146:\ttest scoore:     0.0777\t\ttrain scoore:     0.4414\n",
      "147:\ttest scoore:     0.0772\t\ttrain scoore:     0.4401\n",
      "148:\ttest scoore:     0.0767\t\ttrain scoore:     0.4406\n",
      "149:\ttest scoore:     0.0770\t\ttrain scoore:     0.4332\n",
      "150:\ttest scoore:     0.0775\t\ttrain scoore:     0.4437\n"
     ]
    },
    {
     "name": "stdout",
     "output_type": "stream",
     "text": [
      "151:\ttest scoore:     0.0778\t\ttrain scoore:     0.4419\n",
      "152:\ttest scoore:     0.0769\t\ttrain scoore:     0.4445\n",
      "153:\ttest scoore:     0.0774\t\ttrain scoore:     0.4423\n",
      "154:\ttest scoore:     0.0770\t\ttrain scoore:     0.4436\n",
      "155:\ttest scoore:     0.0773\t\ttrain scoore:     0.4433\n",
      "156:\ttest scoore:     0.0776\t\ttrain scoore:     0.4474\n",
      "157:\ttest scoore:     0.0772\t\ttrain scoore:     0.4501\n",
      "158:\ttest scoore:     0.0766\t\ttrain scoore:     0.4506\n",
      "159:\ttest scoore:     0.0770\t\ttrain scoore:     0.4529\n",
      "160:\ttest scoore:     0.0775\t\ttrain scoore:     0.4489\n",
      "161:\ttest scoore:     0.0768\t\ttrain scoore:     0.4482\n",
      "162:\ttest scoore:     0.0774\t\ttrain scoore:     0.4519\n",
      "163:\ttest scoore:     0.0773\t\ttrain scoore:     0.4480\n",
      "164:\ttest scoore:     0.0769\t\ttrain scoore:     0.4481\n",
      "165:\ttest scoore:     0.0773\t\ttrain scoore:     0.4470\n",
      "166:\ttest scoore:     0.0777\t\ttrain scoore:     0.4472\n",
      "167:\ttest scoore:     0.0770\t\ttrain scoore:     0.4415\n",
      "168:\ttest scoore:     0.0768\t\ttrain scoore:     0.4424\n",
      "169:\ttest scoore:     0.0766\t\ttrain scoore:     0.4440\n",
      "170:\ttest scoore:     0.0767\t\ttrain scoore:     0.4440\n",
      "171:\ttest scoore:     0.0765\t\ttrain scoore:     0.4443\n",
      "172:\ttest scoore:     0.0775\t\ttrain scoore:     0.4415\n",
      "173:\ttest scoore:     0.0765\t\ttrain scoore:     0.4431\n",
      "174:\ttest scoore:     0.0762\t\ttrain scoore:     0.4423\n",
      "175:\ttest scoore:     0.0771\t\ttrain scoore:     0.4420\n",
      "176:\ttest scoore:     0.0765\t\ttrain scoore:     0.4496\n",
      "177:\ttest scoore:     0.0764\t\ttrain scoore:     0.4533\n",
      "178:\ttest scoore:     0.0766\t\ttrain scoore:     0.4528\n",
      "179:\ttest scoore:     0.0764\t\ttrain scoore:     0.4495\n",
      "180:\ttest scoore:     0.0763\t\ttrain scoore:     0.4502\n",
      "181:\ttest scoore:     0.0766\t\ttrain scoore:     0.4479\n",
      "182:\ttest scoore:     0.0771\t\ttrain scoore:     0.4502\n",
      "183:\ttest scoore:     0.0768\t\ttrain scoore:     0.4507\n",
      "184:\ttest scoore:     0.0769\t\ttrain scoore:     0.4517\n",
      "185:\ttest scoore:     0.0767\t\ttrain scoore:     0.4527\n",
      "186:\ttest scoore:     0.0768\t\ttrain scoore:     0.4502\n",
      "187:\ttest scoore:     0.0764\t\ttrain scoore:     0.4526\n",
      "188:\ttest scoore:     0.0775\t\ttrain scoore:     0.4482\n",
      "189:\ttest scoore:     0.0764\t\ttrain scoore:     0.4492\n",
      "190:\ttest scoore:     0.0767\t\ttrain scoore:     0.4491\n",
      "191:\ttest scoore:     0.0760\t\ttrain scoore:     0.4484\n",
      "192:\ttest scoore:     0.0761\t\ttrain scoore:     0.4528\n",
      "193:\ttest scoore:     0.0760\t\ttrain scoore:     0.4537\n",
      "194:\ttest scoore:     0.0767\t\ttrain scoore:     0.4561\n",
      "195:\ttest scoore:     0.0763\t\ttrain scoore:     0.4517\n",
      "196:\ttest scoore:     0.0761\t\ttrain scoore:     0.4518\n",
      "197:\ttest scoore:     0.0763\t\ttrain scoore:     0.4501\n",
      "198:\ttest scoore:     0.0761\t\ttrain scoore:     0.4514\n",
      "199:\ttest scoore:     0.0761\t\ttrain scoore:     0.4486\n",
      "200:\ttest scoore:     0.0761\t\ttrain scoore:     0.4476\n",
      "201:\ttest scoore:     0.0764\t\ttrain scoore:     0.4456\n",
      "202:\ttest scoore:     0.0762\t\ttrain scoore:     0.4462\n",
      "203:\ttest scoore:     0.0760\t\ttrain scoore:     0.4492\n",
      "204:\ttest scoore:     0.0759\t\ttrain scoore:     0.4483\n",
      "205:\ttest scoore:     0.0763\t\ttrain scoore:     0.4478\n",
      "206:\ttest scoore:     0.0760\t\ttrain scoore:     0.4486\n",
      "207:\ttest scoore:     0.0761\t\ttrain scoore:     0.4471\n",
      "208:\ttest scoore:     0.0763\t\ttrain scoore:     0.4471\n",
      "209:\ttest scoore:     0.0765\t\ttrain scoore:     0.4478\n",
      "210:\ttest scoore:     0.0764\t\ttrain scoore:     0.4482\n",
      "211:\ttest scoore:     0.0760\t\ttrain scoore:     0.4472\n",
      "212:\ttest scoore:     0.0768\t\ttrain scoore:     0.4468\n",
      "213:\ttest scoore:     0.0762\t\ttrain scoore:     0.4496\n",
      "214:\ttest scoore:     0.0765\t\ttrain scoore:     0.4473\n",
      "215:\ttest scoore:     0.0758\t\ttrain scoore:     0.4479\n",
      "216:\ttest scoore:     0.0759\t\ttrain scoore:     0.4473\n",
      "217:\ttest scoore:     0.0760\t\ttrain scoore:     0.4467\n",
      "218:\ttest scoore:     0.0758\t\ttrain scoore:     0.4470\n",
      "219:\ttest scoore:     0.0758\t\ttrain scoore:     0.4496\n",
      "220:\ttest scoore:     0.0764\t\ttrain scoore:     0.4497\n",
      "221:\ttest scoore:     0.0766\t\ttrain scoore:     0.4504\n",
      "222:\ttest scoore:     0.0758\t\ttrain scoore:     0.4509\n",
      "223:\ttest scoore:     0.0761\t\ttrain scoore:     0.4508\n",
      "224:\ttest scoore:     0.0758\t\ttrain scoore:     0.4523\n",
      "225:\ttest scoore:     0.0766\t\ttrain scoore:     0.4515\n",
      "226:\ttest scoore:     0.0759\t\ttrain scoore:     0.4503\n",
      "227:\ttest scoore:     0.0758\t\ttrain scoore:     0.4506\n",
      "228:\ttest scoore:     0.0758\t\ttrain scoore:     0.4517\n",
      "229:\ttest scoore:     0.0762\t\ttrain scoore:     0.4517\n",
      "230:\ttest scoore:     0.0759\t\ttrain scoore:     0.4529\n",
      "231:\ttest scoore:     0.0760\t\ttrain scoore:     0.4527\n",
      "232:\ttest scoore:     0.0758\t\ttrain scoore:     0.4515\n",
      "233:\ttest scoore:     0.0759\t\ttrain scoore:     0.4502\n",
      "234:\ttest scoore:     0.0760\t\ttrain scoore:     0.4497\n",
      "235:\ttest scoore:     0.0761\t\ttrain scoore:     0.4508\n",
      "236:\ttest scoore:     0.0760\t\ttrain scoore:     0.4508\n",
      "237:\ttest scoore:     0.0759\t\ttrain scoore:     0.4523\n",
      "238:\ttest scoore:     0.0760\t\ttrain scoore:     0.4519\n",
      "239:\ttest scoore:     0.0759\t\ttrain scoore:     0.4515\n",
      "240:\ttest scoore:     0.0759\t\ttrain scoore:     0.4534\n",
      "241:\ttest scoore:     0.0762\t\ttrain scoore:     0.4524\n",
      "242:\ttest scoore:     0.0759\t\ttrain scoore:     0.4529\n",
      "243:\ttest scoore:     0.0763\t\ttrain scoore:     0.4517\n",
      "244:\ttest scoore:     0.0760\t\ttrain scoore:     0.4515\n",
      "245:\ttest scoore:     0.0758\t\ttrain scoore:     0.4521\n",
      "246:\ttest scoore:     0.0759\t\ttrain scoore:     0.4523\n",
      "247:\ttest scoore:     0.0760\t\ttrain scoore:     0.4517\n",
      "248:\ttest scoore:     0.0760\t\ttrain scoore:     0.4529\n",
      "249:\ttest scoore:     0.0759\t\ttrain scoore:     0.4524\n",
      "250:\ttest scoore:     0.0757\t\ttrain scoore:     0.4524\n",
      "251:\ttest scoore:     0.0758\t\ttrain scoore:     0.4517\n",
      "252:\ttest scoore:     0.0758\t\ttrain scoore:     0.4517\n",
      "253:\ttest scoore:     0.0757\t\ttrain scoore:     0.4507\n",
      "254:\ttest scoore:     0.0756\t\ttrain scoore:     0.4504\n",
      "255:\ttest scoore:     0.0757\t\ttrain scoore:     0.4495\n",
      "256:\ttest scoore:     0.0757\t\ttrain scoore:     0.4502\n",
      "257:\ttest scoore:     0.0757\t\ttrain scoore:     0.4502\n",
      "258:\ttest scoore:     0.0757\t\ttrain scoore:     0.4506\n",
      "259:\ttest scoore:     0.0758\t\ttrain scoore:     0.4510\n",
      "260:\ttest scoore:     0.0758\t\ttrain scoore:     0.4520\n",
      "261:\ttest scoore:     0.0758\t\ttrain scoore:     0.4525\n",
      "262:\ttest scoore:     0.0757\t\ttrain scoore:     0.4517\n",
      "263:\ttest scoore:     0.0757\t\ttrain scoore:     0.4520\n",
      "264:\ttest scoore:     0.0757\t\ttrain scoore:     0.4527\n",
      "265:\ttest scoore:     0.0757\t\ttrain scoore:     0.4525\n",
      "266:\ttest scoore:     0.0760\t\ttrain scoore:     0.4526\n",
      "267:\ttest scoore:     0.0757\t\ttrain scoore:     0.4533\n",
      "268:\ttest scoore:     0.0757\t\ttrain scoore:     0.4524\n",
      "269:\ttest scoore:     0.0757\t\ttrain scoore:     0.4523\n",
      "270:\ttest scoore:     0.0762\t\ttrain scoore:     0.4519\n",
      "271:\ttest scoore:     0.0758\t\ttrain scoore:     0.4526\n",
      "272:\ttest scoore:     0.0758\t\ttrain scoore:     0.4526\n",
      "273:\ttest scoore:     0.0757\t\ttrain scoore:     0.4525\n",
      "274:\ttest scoore:     0.0756\t\ttrain scoore:     0.4524\n",
      "275:\ttest scoore:     0.0757\t\ttrain scoore:     0.4524\n",
      "276:\ttest scoore:     0.0758\t\ttrain scoore:     0.4522\n",
      "277:\ttest scoore:     0.0756\t\ttrain scoore:     0.4526\n",
      "278:\ttest scoore:     0.0757\t\ttrain scoore:     0.4527\n",
      "279:\ttest scoore:     0.0759\t\ttrain scoore:     0.4516\n",
      "280:\ttest scoore:     0.0756\t\ttrain scoore:     0.4521\n",
      "281:\ttest scoore:     0.0756\t\ttrain scoore:     0.4525\n",
      "282:\ttest scoore:     0.0758\t\ttrain scoore:     0.4521\n",
      "283:\ttest scoore:     0.0755\t\ttrain scoore:     0.4527\n",
      "284:\ttest scoore:     0.0757\t\ttrain scoore:     0.4532\n",
      "285:\ttest scoore:     0.0755\t\ttrain scoore:     0.4528\n",
      "286:\ttest scoore:     0.0757\t\ttrain scoore:     0.4527\n",
      "287:\ttest scoore:     0.0761\t\ttrain scoore:     0.4522\n",
      "288:\ttest scoore:     0.0756\t\ttrain scoore:     0.4527\n",
      "289:\ttest scoore:     0.0756\t\ttrain scoore:     0.4529\n",
      "290:\ttest scoore:     0.0757\t\ttrain scoore:     0.4535\n",
      "291:\ttest scoore:     0.0756\t\ttrain scoore:     0.4531\n",
      "292:\ttest scoore:     0.0756\t\ttrain scoore:     0.4527\n",
      "293:\ttest scoore:     0.0756\t\ttrain scoore:     0.4536\n",
      "294:\ttest scoore:     0.0755\t\ttrain scoore:     0.4540\n",
      "295:\ttest scoore:     0.0755\t\ttrain scoore:     0.4534\n",
      "296:\ttest scoore:     0.0757\t\ttrain scoore:     0.4532\n",
      "297:\ttest scoore:     0.0758\t\ttrain scoore:     0.4532\n",
      "298:\ttest scoore:     0.0757\t\ttrain scoore:     0.4528\n",
      "299:\ttest scoore:     0.0759\t\ttrain scoore:     0.4527\n"
     ]
    },
    {
     "data": {
      "image/png": "[encoded data removed]",
      "text/plain": [
       "<Figure size 432x288 with 1 Axes>"
      ]
     },
     "metadata": {},
     "output_type": "display_data"
    }
   ],
   "source": [
    "test_scoores = []\n",
    "train_scoores = []\n",
    "train_rand_scoores = []\n",
    "create_path('./error_plots/{}'.format(comment))\n",
    "for i in range(300):\n",
    "    ids_rand = np.random.randint(0, 400000, 1064)\n",
    "    ids = np.arange(0, 1064)*-1\n",
    "    test_model = DeepPotential()\n",
    "    test_model.load_state_dict(torch.load(f'{model_path}epoch_{i}', map_location=lambda storage, loc: storage))\n",
    "    test_result = np.squeeze(backtransform(test_model(X_test), Y_min, Y_max).detach().numpy())\n",
    "    val_result = np.squeeze(backtransform(Y_test, Y_min, Y_max).detach().numpy())\n",
    "    test_scoore = np.round(np.mean(np.abs(test_result - val_result)), 4)\n",
    "    test_result = np.squeeze(backtransform(test_model(X_train[ids]), Y_min, Y_max).detach().numpy())\n",
    "    val_result = np.squeeze(backtransform(Y_train[ids], Y_min, Y_max).detach().numpy())\n",
    "    train_scoore = np.round(np.mean(np.abs(test_result - val_result)), 4)\n",
    "    test_result = np.squeeze(backtransform(test_model(X_train[ids_rand]), Y_min, Y_max).detach().numpy())\n",
    "    val_result = np.squeeze(backtransform(Y_train[ids_rand], Y_min, Y_max).detach().numpy())\n",
    "    train_rand_scoore = np.round(np.mean(np.abs(test_result - val_result)), 4)\n",
    "    print('{}:\\ttest scoore: {:10.4f}\\t\\ttrain scoore: {:10.4f}'.format(i, test_scoore, train_scoore))\n",
    "    test_scoores.append(test_scoore)\n",
    "    train_scoores.append(train_scoore)\n",
    "    train_rand_scoores.append(train_rand_scoore)\n",
    "\n",
    "print('Done')\n",
    "plt.plot(train_scoores, label='train-traj')\n",
    "plt.plot(train_rand_scoores, label='train-rand')\n",
    "plt.plot(test_scoores, label='test')\n",
    "plt.hlines(0.04, 0, len(train_scoores))\n",
    "plt.legend()\n",
    "plt.ylim([0, 1])\n",
    "plt.savefig('./error_plots/{}/abs_error_{}'.format(comment, int(time.time())))"
   ]
  },
  {
   "cell_type": "code",
   "execution_count": null,
   "metadata": {},
   "outputs": [],
   "source": [
    "test_model = DeepPotential()\n",
    "test_model.load_state_dict(torch.load(f'ModelCheckpoints/c7o2h10/epoch_{i-1}', map_location=lambda storage, loc: storage))    \n",
    "single_scoores = []\n",
    "for data_point in range(X_train.shape[0]):\n",
    "    test_result = np.squeeze(backtransform(test_model(X_train[data_point].reshape(1, 19, 72)), Y_min, Y_max).detach().numpy())\n",
    "    val_result = np.squeeze(backtransform(Y_train[data_point].reshape(1, 19, 72), Y_min, Y_max).detach().numpy())\n",
    "    train_scoore = np.round(np.mean(np.abs(test_result - val_result)), 4)\n",
    "    single_scoores.append(train_scoore)\n",
    "    print(data_point/X_train.shape, )"
   ]
  },
  {
   "cell_type": "code",
   "execution_count": null,
   "metadata": {},
   "outputs": [],
   "source": [
    "X_train[0].reshape(1, 19, 72).shape"
   ]
  },
  {
   "cell_type": "code",
   "execution_count": 17,
   "metadata": {},
   "outputs": [],
   "source": [
    "test_result = np.squeeze(backtransform(test_model(X_train[ids_rand]), Y_min, Y_max).detach().numpy())\n",
    "val_result = np.squeeze(backtransform(Y_train[ids_rand], Y_min, Y_max).detach().numpy())\n",
    "scoore = np.mean(np.abs(test_result - val_result))"
   ]
  },
  {
   "cell_type": "code",
   "execution_count": 18,
   "metadata": {},
   "outputs": [
    {
     "data": {
      "text/plain": [
       "array([11502.95 , 11502.713, 11504.378, 11503.955, 11502.715, 11504.99 ,\n",
       "       11503.388, 11505.568, 11503.333, 11503.893, 11503.283, 11504.239,\n",
       "       11505.013, 11502.357, 11504.359], dtype=float32)"
      ]
     },
     "execution_count": 18,
     "metadata": {},
     "output_type": "execute_result"
    }
   ],
   "source": [
    "test_result[:15]"
   ]
  },
  {
   "cell_type": "code",
   "execution_count": 19,
   "metadata": {},
   "outputs": [
    {
     "data": {
      "text/plain": [
       "array([11502.927, 11502.725, 11504.4  , 11503.99 , 11502.724, 11504.96 ,\n",
       "       11503.386, 11505.575, 11503.521, 11503.944, 11503.272, 11504.272,\n",
       "       11505.014, 11502.385, 11504.315], dtype=float32)"
      ]
     },
     "execution_count": 19,
     "metadata": {},
     "output_type": "execute_result"
    }
   ],
   "source": [
    "val_result[:15]"
   ]
  },
  {
   "cell_type": "code",
   "execution_count": null,
   "metadata": {},
   "outputs": [],
   "source": [
    "scoore"
   ]
  },
  {
   "cell_type": "code",
   "execution_count": 22,
   "metadata": {},
   "outputs": [],
   "source": [
    "test_result = np.squeeze(backtransform(test_model(X_test), Y_min, Y_max).detach().numpy())\n",
    "val_result = np.squeeze(backtransform(Y_test, Y_min, Y_max).detach().numpy())"
   ]
  },
  {
   "cell_type": "code",
   "execution_count": 28,
   "metadata": {},
   "outputs": [],
   "source": [
    "test_diff = np.abs(test_result - val_result)"
   ]
  },
  {
   "cell_type": "code",
   "execution_count": 29,
   "metadata": {},
   "outputs": [],
   "source": [
    "sort = val_result.argsort()"
   ]
  },
  {
   "cell_type": "code",
   "execution_count": 36,
   "metadata": {},
   "outputs": [
    {
     "data": {
      "text/plain": [
       "[<matplotlib.lines.Line2D at 0x7eff38ac12b0>]"
      ]
     },
     "execution_count": 36,
     "metadata": {},
     "output_type": "execute_result"
    },
    {
     "data": {
      "image/png": "[encoded data removed]",
      "text/plain": [
       "<Figure size 432x288 with 1 Axes>"
      ]
     },
     "metadata": {},
     "output_type": "display_data"
    }
   ],
   "source": [
    "plt.plot(test_diff[sort], '.',markevery=20)"
   ]
  },
  {
   "cell_type": "code",
   "execution_count": 23,
   "metadata": {},
   "outputs": [
    {
     "data": {
      "text/plain": [
       "array([11503.739 , 11504.257 , 11503.785 , 11504.209 , 11504.19  ,\n",
       "       11503.956 , 11503.8955, 11504.202 , 11503.817 , 11503.663 ,\n",
       "       11504.18  , 11504.101 , 11504.135 , 11504.202 , 11504.173 ,\n",
       "       11503.963 , 11503.749 , 11504.233 , 11504.006 , 11504.045 ,\n",
       "       11503.996 , 11503.992 , 11504.061 , 11503.967 , 11503.94  ,\n",
       "       11504.312 , 11503.826 , 11503.817 , 11504.011 , 11503.715 ,\n",
       "       11504.202 , 11503.742 , 11503.921 , 11503.581 , 11503.391 ,\n",
       "       11503.43  , 11503.524 , 11503.556 , 11503.718 , 11503.508 ,\n",
       "       11502.898 , 11503.224 , 11502.977 , 11503.242 , 11504.079 ,\n",
       "       11503.815 , 11503.552 , 11503.519 , 11503.718 , 11503.197 ,\n",
       "       11503.6875, 11503.486 , 11503.283 , 11503.611 , 11503.289 ,\n",
       "       11503.825 , 11503.797 , 11503.519 , 11503.525 , 11503.676 ,\n",
       "       11503.599 , 11503.346 , 11503.616 , 11503.365 , 11503.926 ,\n",
       "       11503.5   , 11503.676 , 11503.63  , 11502.669 , 11502.743 ,\n",
       "       11502.126 , 11502.081 , 11502.216 , 11502.539 , 11502.766 ,\n",
       "       11502.681 , 11502.015 , 11502.3955, 11501.912 , 11501.926 ,\n",
       "       11501.95  , 11502.448 , 11502.42  , 11502.122 , 11502.54  ,\n",
       "       11502.517 , 11502.312 , 11502.57  , 11502.233 , 11502.584 ,\n",
       "       11502.56  , 11502.44  , 11502.527 , 11502.605 , 11502.196 ,\n",
       "       11502.211 , 11502.737 , 11502.286 , 11502.82  , 11502.575 ],\n",
       "      dtype=float32)"
      ]
     },
     "execution_count": 23,
     "metadata": {},
     "output_type": "execute_result"
    }
   ],
   "source": [
    "test_result[:100]"
   ]
  },
  {
   "cell_type": "code",
   "execution_count": 24,
   "metadata": {},
   "outputs": [
    {
     "data": {
      "text/plain": [
       "array([11503.688 , 11504.342 , 11503.724 , 11504.196 , 11504.142 ,\n",
       "       11503.831 , 11503.885 , 11504.136 , 11503.706 , 11503.712 ,\n",
       "       11504.175 , 11504.101 , 11504.279 , 11504.198 , 11504.148 ,\n",
       "       11503.883 , 11503.714 , 11504.116 , 11503.9795, 11504.258 ,\n",
       "       11503.987 , 11503.907 , 11504.168 , 11504.013 , 11503.939 ,\n",
       "       11504.332 , 11503.896 , 11503.76  , 11504.126 , 11503.83  ,\n",
       "       11504.289 , 11503.731 , 11503.883 , 11503.516 , 11503.4   ,\n",
       "       11503.444 , 11503.458 , 11503.566 , 11503.685 , 11503.447 ,\n",
       "       11502.862 , 11503.181 , 11502.981 , 11503.211 , 11504.017 ,\n",
       "       11503.683 , 11503.534 , 11503.603 , 11503.761 , 11503.174 ,\n",
       "       11503.66  , 11503.43  , 11503.341 , 11503.527 , 11503.381 ,\n",
       "       11503.733 , 11503.859 , 11503.406 , 11503.479 , 11503.617 ,\n",
       "       11503.765 , 11503.41  , 11503.776 , 11503.428 , 11503.794 ,\n",
       "       11503.525 , 11503.773 , 11503.782 , 11502.608 , 11502.796 ,\n",
       "       11502.147 , 11502.081 , 11502.261 , 11502.59  , 11502.807 ,\n",
       "       11502.696 , 11502.065 , 11502.365 , 11501.944 , 11501.925 ,\n",
       "       11501.901 , 11502.593 , 11502.429 , 11502.161 , 11502.468 ,\n",
       "       11502.464 , 11502.381 , 11502.421 , 11502.201 , 11502.561 ,\n",
       "       11502.593 , 11502.3545, 11502.633 , 11502.568 , 11502.052 ,\n",
       "       11502.203 , 11502.774 , 11502.366 , 11502.726 , 11502.602 ],\n",
       "      dtype=float32)"
      ]
     },
     "execution_count": 24,
     "metadata": {},
     "output_type": "execute_result"
    }
   ],
   "source": [
    "val_result[:100]"
   ]
  },
  {
   "cell_type": "markdown",
   "metadata": {},
   "source": [
    "# Testing"
   ]
  },
  {
   "cell_type": "markdown",
   "metadata": {},
   "source": [
    "## Test normalize function:"
   ]
  },
  {
   "cell_type": "code",
   "execution_count": null,
   "metadata": {},
   "outputs": [],
   "source": [
    "Y_load = np.load(label_path) * -1\n",
    "Y_normed, Y_min, Y_max = normalize(Y_load)\n",
    "Y_back = backtransform(Y_normed, Y_min, Y_max)\n",
    "np.testing.assert_array_almost_equal(Y_back, Y_load)"
   ]
  },
  {
   "cell_type": "code",
   "execution_count": null,
   "metadata": {},
   "outputs": [],
   "source": [
    "x = np.arange(0, 9).reshape(3, 3)"
   ]
  },
  {
   "cell_type": "code",
   "execution_count": null,
   "metadata": {},
   "outputs": [],
   "source": [
    "x"
   ]
  },
  {
   "cell_type": "code",
   "execution_count": null,
   "metadata": {},
   "outputs": [],
   "source": [
    "shuffle = np.arange(0, 3)\n",
    "np.random.shuffle(shuffle)\n",
    "shuffle"
   ]
  },
  {
   "cell_type": "code",
   "execution_count": null,
   "metadata": {},
   "outputs": [],
   "source": [
    "x[shuffle]"
   ]
  },
  {
   "cell_type": "code",
   "execution_count": null,
   "metadata": {},
   "outputs": [],
   "source": []
  }
 ],
 "metadata": {
  "kernelspec": {
   "display_name": "Python 3",
   "language": "python",
   "name": "python3"
  },
  "language_info": {
   "codemirror_mode": {
    "name": "ipython",
    "version": 3
   },
   "file_extension": ".py",
   "mimetype": "text/x-python",
   "name": "python",
   "nbconvert_exporter": "python",
   "pygments_lexer": "ipython3",
   "version": "3.6.5"
  }
 },
 "nbformat": 4,
 "nbformat_minor": 2
}
