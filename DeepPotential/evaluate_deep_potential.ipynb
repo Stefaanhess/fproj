{
 "cells": [
  {
   "cell_type": "code",
   "execution_count": 35,
   "metadata": {},
   "outputs": [],
   "source": [
    "comment = 'bn_all_shuffle_sgd_lrd_095'"
   ]
  },
  {
   "cell_type": "code",
   "execution_count": 36,
   "metadata": {
    "scrolled": true
   },
   "outputs": [],
   "source": [
    "import numpy as np\n",
    "from matplotlib import pyplot as plt\n",
    "import pandas as pd#\n",
    "%matplotlib inline\n",
    "import torch\n",
    "from torch.autograd import Variable\n",
    "import torch.nn as nn\n",
    "import torch.nn.functional as F\n",
    "import time"
   ]
  },
  {
   "cell_type": "code",
   "execution_count": 37,
   "metadata": {},
   "outputs": [],
   "source": [
    "from Code.Models.c7o2h10_model import DeepPotential, train, normalize, backtransform\n",
    "from Code.DataGeneration.saver import create_path"
   ]
  },
  {
   "cell_type": "code",
   "execution_count": 38,
   "metadata": {},
   "outputs": [],
   "source": [
    "data_path = './Dataset/c7o2h10_X.npy'\n",
    "label_path = './Dataset/c7o2h10_Y.npy'\n",
    "train_ids_path = './Dataset/iso17/train_ids.txt'\n",
    "test_ids_path = './Dataset/iso17/validation_ids.txt'\n",
    "model_path = './ModelCheckpoints/c7o2h10/'\n",
    "model_path = './ModelCheckpoints/c7o2h10/{}/'.format(comment)"
   ]
  },
  {
   "cell_type": "code",
   "execution_count": 39,
   "metadata": {},
   "outputs": [
    {
     "name": "stdout",
     "output_type": "stream",
     "text": [
      "use cuda:   True\n"
     ]
    }
   ],
   "source": [
    "use_cuda = torch.cuda.is_available()\n",
    "print('use cuda:  ', use_cuda)"
   ]
  },
  {
   "cell_type": "markdown",
   "metadata": {},
   "source": [
    "# Read the Data"
   ]
  },
  {
   "cell_type": "code",
   "execution_count": 40,
   "metadata": {},
   "outputs": [],
   "source": [
    "train_ids = (np.loadtxt(train_ids_path) - 1).astype(int).tolist()\n",
    "test_ids = (np.loadtxt(test_ids_path) - 1).astype(int).tolist()"
   ]
  },
  {
   "cell_type": "code",
   "execution_count": 41,
   "metadata": {
    "scrolled": true
   },
   "outputs": [
    {
     "data": {
      "text/plain": [
       "(404000, 19, 72)"
      ]
     },
     "execution_count": 41,
     "metadata": {},
     "output_type": "execute_result"
    }
   ],
   "source": [
    "X_npy = np.load(data_path)\n",
    "Y_npy = np.load(label_path) * -1\n",
    "Y_npy, Y_min, Y_max = normalize(Y_npy)\n",
    "X_npy.shape"
   ]
  },
  {
   "cell_type": "markdown",
   "metadata": {},
   "source": [
    "### Split into test and train"
   ]
  },
  {
   "cell_type": "code",
   "execution_count": 42,
   "metadata": {},
   "outputs": [],
   "source": [
    "X_train_npy, X_test_npy = X_npy[train_ids], X_npy[test_ids]\n",
    "Y_train_npy, Y_test_npy = Y_npy[train_ids], Y_npy[test_ids]"
   ]
  },
  {
   "cell_type": "code",
   "execution_count": 43,
   "metadata": {},
   "outputs": [],
   "source": [
    "X_train = Variable(torch.Tensor(X_train_npy))\n",
    "Y_train = Variable(torch.Tensor(Y_train_npy), requires_grad=False)\n",
    "X_test = Variable(torch.Tensor(X_test_npy))\n",
    "Y_test = Variable(torch.Tensor(Y_test_npy), requires_grad=False)"
   ]
  },
  {
   "cell_type": "markdown",
   "metadata": {},
   "source": [
    "## Test Model"
   ]
  },
  {
   "cell_type": "code",
   "execution_count": 44,
   "metadata": {},
   "outputs": [
    {
     "name": "stdout",
     "output_type": "stream",
     "text": [
      "0:\ttest scoore:     0.3478\t\ttrain scoore:     0.3422\n",
      "1:\ttest scoore:     0.3080\t\ttrain scoore:     0.3159\n",
      "2:\ttest scoore:     0.2863\t\ttrain scoore:     0.2868\n",
      "3:\ttest scoore:     0.2811\t\ttrain scoore:     0.2782\n",
      "4:\ttest scoore:     0.2723\t\ttrain scoore:     0.2623\n",
      "5:\ttest scoore:     0.2666\t\ttrain scoore:     0.2577\n",
      "6:\ttest scoore:     0.2618\t\ttrain scoore:     0.2708\n",
      "7:\ttest scoore:     0.2609\t\ttrain scoore:     0.2644\n",
      "8:\ttest scoore:     0.2555\t\ttrain scoore:     0.2470\n",
      "9:\ttest scoore:     0.2513\t\ttrain scoore:     0.2441\n",
      "10:\ttest scoore:     0.2517\t\ttrain scoore:     0.2442\n",
      "11:\ttest scoore:     0.2484\t\ttrain scoore:     0.2489\n",
      "12:\ttest scoore:     0.2478\t\ttrain scoore:     0.2364\n",
      "13:\ttest scoore:     0.2495\t\ttrain scoore:     0.2320\n",
      "14:\ttest scoore:     0.2435\t\ttrain scoore:     0.2405\n",
      "15:\ttest scoore:     0.2424\t\ttrain scoore:     0.2436\n",
      "16:\ttest scoore:     0.2463\t\ttrain scoore:     0.2293\n",
      "17:\ttest scoore:     0.2404\t\ttrain scoore:     0.2299\n",
      "18:\ttest scoore:     0.2423\t\ttrain scoore:     0.2293\n",
      "19:\ttest scoore:     0.2390\t\ttrain scoore:     0.2310\n",
      "20:\ttest scoore:     0.2382\t\ttrain scoore:     0.2394\n",
      "21:\ttest scoore:     0.2374\t\ttrain scoore:     0.2290\n",
      "22:\ttest scoore:     0.2367\t\ttrain scoore:     0.2272\n",
      "23:\ttest scoore:     0.2360\t\ttrain scoore:     0.2290\n",
      "24:\ttest scoore:     0.2367\t\ttrain scoore:     0.2409\n",
      "25:\ttest scoore:     0.2363\t\ttrain scoore:     0.2282\n",
      "26:\ttest scoore:     0.2345\t\ttrain scoore:     0.2237\n",
      "27:\ttest scoore:     0.2341\t\ttrain scoore:     0.2273\n",
      "28:\ttest scoore:     0.2358\t\ttrain scoore:     0.2246\n",
      "29:\ttest scoore:     0.2336\t\ttrain scoore:     0.2260\n",
      "30:\ttest scoore:     0.2332\t\ttrain scoore:     0.2406\n",
      "31:\ttest scoore:     0.2328\t\ttrain scoore:     0.2218\n",
      "32:\ttest scoore:     0.2324\t\ttrain scoore:     0.2201\n",
      "33:\ttest scoore:     0.2323\t\ttrain scoore:     0.2218\n",
      "34:\ttest scoore:     0.2321\t\ttrain scoore:     0.2280\n",
      "35:\ttest scoore:     0.2316\t\ttrain scoore:     0.2316\n",
      "36:\ttest scoore:     0.2313\t\ttrain scoore:     0.2185\n",
      "37:\ttest scoore:     0.2313\t\ttrain scoore:     0.2275\n",
      "38:\ttest scoore:     0.2308\t\ttrain scoore:     0.2212\n",
      "39:\ttest scoore:     0.2311\t\ttrain scoore:     0.2296\n",
      "40:\ttest scoore:     0.2308\t\ttrain scoore:     0.2207\n",
      "41:\ttest scoore:     0.2306\t\ttrain scoore:     0.2278\n",
      "42:\ttest scoore:     0.2307\t\ttrain scoore:     0.2161\n",
      "43:\ttest scoore:     0.2302\t\ttrain scoore:     0.2254\n",
      "44:\ttest scoore:     0.2304\t\ttrain scoore:     0.2207\n",
      "45:\ttest scoore:     0.2301\t\ttrain scoore:     0.2254\n",
      "46:\ttest scoore:     0.2296\t\ttrain scoore:     0.2254\n",
      "47:\ttest scoore:     0.2295\t\ttrain scoore:     0.2261\n",
      "48:\ttest scoore:     0.2294\t\ttrain scoore:     0.2242\n",
      "49:\ttest scoore:     0.2294\t\ttrain scoore:     0.2263\n",
      "50:\ttest scoore:     0.2293\t\ttrain scoore:     0.2204\n",
      "51:\ttest scoore:     0.2291\t\ttrain scoore:     0.2154\n",
      "52:\ttest scoore:     0.2292\t\ttrain scoore:     0.2249\n",
      "53:\ttest scoore:     0.2291\t\ttrain scoore:     0.2240\n",
      "54:\ttest scoore:     0.2289\t\ttrain scoore:     0.2291\n",
      "55:\ttest scoore:     0.2289\t\ttrain scoore:     0.2226\n",
      "56:\ttest scoore:     0.2288\t\ttrain scoore:     0.2225\n",
      "57:\ttest scoore:     0.2290\t\ttrain scoore:     0.2122\n",
      "58:\ttest scoore:     0.2286\t\ttrain scoore:     0.2232\n",
      "59:\ttest scoore:     0.2287\t\ttrain scoore:     0.2168\n",
      "60:\ttest scoore:     0.2287\t\ttrain scoore:     0.2198\n",
      "61:\ttest scoore:     0.2285\t\ttrain scoore:     0.2201\n",
      "62:\ttest scoore:     0.2284\t\ttrain scoore:     0.2210\n",
      "63:\ttest scoore:     0.2287\t\ttrain scoore:     0.2304\n",
      "64:\ttest scoore:     0.2284\t\ttrain scoore:     0.2236\n",
      "65:\ttest scoore:     0.2286\t\ttrain scoore:     0.2247\n",
      "66:\ttest scoore:     0.2283\t\ttrain scoore:     0.2175\n",
      "67:\ttest scoore:     0.2283\t\ttrain scoore:     0.2246\n",
      "68:\ttest scoore:     0.2282\t\ttrain scoore:     0.2124\n",
      "69:\ttest scoore:     0.2282\t\ttrain scoore:     0.2257\n",
      "70:\ttest scoore:     0.2282\t\ttrain scoore:     0.2106\n",
      "71:\ttest scoore:     0.2281\t\ttrain scoore:     0.2270\n",
      "72:\ttest scoore:     0.2281\t\ttrain scoore:     0.2197\n",
      "73:\ttest scoore:     0.2281\t\ttrain scoore:     0.2175\n",
      "74:\ttest scoore:     0.2281\t\ttrain scoore:     0.2155\n",
      "75:\ttest scoore:     0.2280\t\ttrain scoore:     0.2277\n",
      "76:\ttest scoore:     0.2280\t\ttrain scoore:     0.2197\n",
      "77:\ttest scoore:     0.2279\t\ttrain scoore:     0.2137\n",
      "78:\ttest scoore:     0.2279\t\ttrain scoore:     0.2157\n",
      "79:\ttest scoore:     0.2280\t\ttrain scoore:     0.2128\n",
      "80:\ttest scoore:     0.2279\t\ttrain scoore:     0.2264\n",
      "81:\ttest scoore:     0.2279\t\ttrain scoore:     0.2242\n",
      "82:\ttest scoore:     0.2278\t\ttrain scoore:     0.2203\n",
      "83:\ttest scoore:     0.2278\t\ttrain scoore:     0.2206\n",
      "84:\ttest scoore:     0.2278\t\ttrain scoore:     0.2205\n",
      "85:\ttest scoore:     0.2279\t\ttrain scoore:     0.2122\n",
      "86:\ttest scoore:     0.2279\t\ttrain scoore:     0.2192\n",
      "87:\ttest scoore:     0.2278\t\ttrain scoore:     0.2172\n",
      "88:\ttest scoore:     0.2279\t\ttrain scoore:     0.2195\n",
      "89:\ttest scoore:     0.2278\t\ttrain scoore:     0.2202\n",
      "90:\ttest scoore:     0.2278\t\ttrain scoore:     0.2131\n",
      "91:\ttest scoore:     0.2277\t\ttrain scoore:     0.2196\n",
      "92:\ttest scoore:     0.2278\t\ttrain scoore:     0.2163\n",
      "93:\ttest scoore:     0.2278\t\ttrain scoore:     0.2105\n",
      "94:\ttest scoore:     0.2277\t\ttrain scoore:     0.2244\n",
      "95:\ttest scoore:     0.2277\t\ttrain scoore:     0.2231\n",
      "96:\ttest scoore:     0.2278\t\ttrain scoore:     0.2198\n",
      "97:\ttest scoore:     0.2277\t\ttrain scoore:     0.2185\n",
      "98:\ttest scoore:     0.2277\t\ttrain scoore:     0.2169\n",
      "99:\ttest scoore:     0.2277\t\ttrain scoore:     0.2285\n",
      "100:\ttest scoore:     0.2277\t\ttrain scoore:     0.2199\n",
      "101:\ttest scoore:     0.2277\t\ttrain scoore:     0.2174\n",
      "102:\ttest scoore:     0.2277\t\ttrain scoore:     0.2198\n",
      "103:\ttest scoore:     0.2277\t\ttrain scoore:     0.2108\n",
      "104:\ttest scoore:     0.2277\t\ttrain scoore:     0.2175\n",
      "105:\ttest scoore:     0.2277\t\ttrain scoore:     0.2324\n",
      "106:\ttest scoore:     0.2277\t\ttrain scoore:     0.2232\n",
      "107:\ttest scoore:     0.2277\t\ttrain scoore:     0.2194\n",
      "108:\ttest scoore:     0.2276\t\ttrain scoore:     0.2173\n",
      "109:\ttest scoore:     0.2276\t\ttrain scoore:     0.2270\n",
      "110:\ttest scoore:     0.2276\t\ttrain scoore:     0.2151\n",
      "111:\ttest scoore:     0.2277\t\ttrain scoore:     0.2186\n",
      "112:\ttest scoore:     0.2276\t\ttrain scoore:     0.2223\n",
      "113:\ttest scoore:     0.2276\t\ttrain scoore:     0.2176\n",
      "114:\ttest scoore:     0.2276\t\ttrain scoore:     0.2219\n",
      "115:\ttest scoore:     0.2276\t\ttrain scoore:     0.2243\n",
      "116:\ttest scoore:     0.2276\t\ttrain scoore:     0.2220\n",
      "117:\ttest scoore:     0.2276\t\ttrain scoore:     0.2250\n",
      "118:\ttest scoore:     0.2276\t\ttrain scoore:     0.2240\n",
      "119:\ttest scoore:     0.2276\t\ttrain scoore:     0.2210\n",
      "120:\ttest scoore:     0.2276\t\ttrain scoore:     0.2296\n",
      "121:\ttest scoore:     0.2276\t\ttrain scoore:     0.2152\n",
      "122:\ttest scoore:     0.2276\t\ttrain scoore:     0.2150\n",
      "123:\ttest scoore:     0.2276\t\ttrain scoore:     0.2220\n",
      "124:\ttest scoore:     0.2276\t\ttrain scoore:     0.2062\n",
      "125:\ttest scoore:     0.2276\t\ttrain scoore:     0.2153\n",
      "126:\ttest scoore:     0.2276\t\ttrain scoore:     0.2203\n",
      "127:\ttest scoore:     0.2276\t\ttrain scoore:     0.2213\n",
      "128:\ttest scoore:     0.2276\t\ttrain scoore:     0.2207\n",
      "129:\ttest scoore:     0.2276\t\ttrain scoore:     0.2170\n",
      "130:\ttest scoore:     0.2276\t\ttrain scoore:     0.2150\n",
      "131:\ttest scoore:     0.2276\t\ttrain scoore:     0.2065\n",
      "not all files available\n"
     ]
    },
    {
     "ename": "FileNotFoundError",
     "evalue": "[Errno 2] No such file or directory: './error_plots/bn_all_shuffle_sgd_lrd_095/abs_error_1529176516.png'",
     "output_type": "error",
     "traceback": [
      "\u001b[0;31m---------------------------------------------------------------------------\u001b[0m",
      "\u001b[0;31mFileNotFoundError\u001b[0m                         Traceback (most recent call last)",
      "\u001b[0;32m<ipython-input-44-eaff0305871b>\u001b[0m in \u001b[0;36m<module>\u001b[0;34m()\u001b[0m\n\u001b[1;32m     24\u001b[0m \u001b[0mplt\u001b[0m\u001b[0;34m.\u001b[0m\u001b[0mlegend\u001b[0m\u001b[0;34m(\u001b[0m\u001b[0;34m)\u001b[0m\u001b[0;34m\u001b[0m\u001b[0m\n\u001b[1;32m     25\u001b[0m \u001b[0mplt\u001b[0m\u001b[0;34m.\u001b[0m\u001b[0mylim\u001b[0m\u001b[0;34m(\u001b[0m\u001b[0;34m[\u001b[0m\u001b[0;36m0\u001b[0m\u001b[0;34m,\u001b[0m \u001b[0;36m0.5\u001b[0m\u001b[0;34m]\u001b[0m\u001b[0;34m)\u001b[0m\u001b[0;34m\u001b[0m\u001b[0m\n\u001b[0;32m---> 26\u001b[0;31m \u001b[0mplt\u001b[0m\u001b[0;34m.\u001b[0m\u001b[0msavefig\u001b[0m\u001b[0;34m(\u001b[0m\u001b[0;34m'./error_plots/{}/abs_error_{}'\u001b[0m\u001b[0;34m.\u001b[0m\u001b[0mformat\u001b[0m\u001b[0;34m(\u001b[0m\u001b[0mcomment\u001b[0m\u001b[0;34m,\u001b[0m \u001b[0mint\u001b[0m\u001b[0;34m(\u001b[0m\u001b[0mtime\u001b[0m\u001b[0;34m.\u001b[0m\u001b[0mtime\u001b[0m\u001b[0;34m(\u001b[0m\u001b[0;34m)\u001b[0m\u001b[0;34m)\u001b[0m\u001b[0;34m)\u001b[0m\u001b[0;34m)\u001b[0m\u001b[0;34m\u001b[0m\u001b[0m\n\u001b[0m",
      "\u001b[0;32m~/miniconda3/lib/python3.6/site-packages/matplotlib/pyplot.py\u001b[0m in \u001b[0;36msavefig\u001b[0;34m(*args, **kwargs)\u001b[0m\n\u001b[1;32m    708\u001b[0m \u001b[0;32mdef\u001b[0m \u001b[0msavefig\u001b[0m\u001b[0;34m(\u001b[0m\u001b[0;34m*\u001b[0m\u001b[0margs\u001b[0m\u001b[0;34m,\u001b[0m \u001b[0;34m**\u001b[0m\u001b[0mkwargs\u001b[0m\u001b[0;34m)\u001b[0m\u001b[0;34m:\u001b[0m\u001b[0;34m\u001b[0m\u001b[0m\n\u001b[1;32m    709\u001b[0m     \u001b[0mfig\u001b[0m \u001b[0;34m=\u001b[0m \u001b[0mgcf\u001b[0m\u001b[0;34m(\u001b[0m\u001b[0;34m)\u001b[0m\u001b[0;34m\u001b[0m\u001b[0m\n\u001b[0;32m--> 710\u001b[0;31m     \u001b[0mres\u001b[0m \u001b[0;34m=\u001b[0m \u001b[0mfig\u001b[0m\u001b[0;34m.\u001b[0m\u001b[0msavefig\u001b[0m\u001b[0;34m(\u001b[0m\u001b[0;34m*\u001b[0m\u001b[0margs\u001b[0m\u001b[0;34m,\u001b[0m \u001b[0;34m**\u001b[0m\u001b[0mkwargs\u001b[0m\u001b[0;34m)\u001b[0m\u001b[0;34m\u001b[0m\u001b[0m\n\u001b[0m\u001b[1;32m    711\u001b[0m     \u001b[0mfig\u001b[0m\u001b[0;34m.\u001b[0m\u001b[0mcanvas\u001b[0m\u001b[0;34m.\u001b[0m\u001b[0mdraw_idle\u001b[0m\u001b[0;34m(\u001b[0m\u001b[0;34m)\u001b[0m   \u001b[0;31m# need this if 'transparent=True' to reset colors\u001b[0m\u001b[0;34m\u001b[0m\u001b[0m\n\u001b[1;32m    712\u001b[0m     \u001b[0;32mreturn\u001b[0m \u001b[0mres\u001b[0m\u001b[0;34m\u001b[0m\u001b[0m\n",
      "\u001b[0;32m~/miniconda3/lib/python3.6/site-packages/matplotlib/figure.py\u001b[0m in \u001b[0;36msavefig\u001b[0;34m(self, fname, **kwargs)\u001b[0m\n\u001b[1;32m   2033\u001b[0m             \u001b[0mself\u001b[0m\u001b[0;34m.\u001b[0m\u001b[0mset_frameon\u001b[0m\u001b[0;34m(\u001b[0m\u001b[0mframeon\u001b[0m\u001b[0;34m)\u001b[0m\u001b[0;34m\u001b[0m\u001b[0m\n\u001b[1;32m   2034\u001b[0m \u001b[0;34m\u001b[0m\u001b[0m\n\u001b[0;32m-> 2035\u001b[0;31m         \u001b[0mself\u001b[0m\u001b[0;34m.\u001b[0m\u001b[0mcanvas\u001b[0m\u001b[0;34m.\u001b[0m\u001b[0mprint_figure\u001b[0m\u001b[0;34m(\u001b[0m\u001b[0mfname\u001b[0m\u001b[0;34m,\u001b[0m \u001b[0;34m**\u001b[0m\u001b[0mkwargs\u001b[0m\u001b[0;34m)\u001b[0m\u001b[0;34m\u001b[0m\u001b[0m\n\u001b[0m\u001b[1;32m   2036\u001b[0m \u001b[0;34m\u001b[0m\u001b[0m\n\u001b[1;32m   2037\u001b[0m         \u001b[0;32mif\u001b[0m \u001b[0mframeon\u001b[0m\u001b[0;34m:\u001b[0m\u001b[0;34m\u001b[0m\u001b[0m\n",
      "\u001b[0;32m~/miniconda3/lib/python3.6/site-packages/matplotlib/backend_bases.py\u001b[0m in \u001b[0;36mprint_figure\u001b[0;34m(self, filename, dpi, facecolor, edgecolor, orientation, format, **kwargs)\u001b[0m\n\u001b[1;32m   2261\u001b[0m                 \u001b[0morientation\u001b[0m\u001b[0;34m=\u001b[0m\u001b[0morientation\u001b[0m\u001b[0;34m,\u001b[0m\u001b[0;34m\u001b[0m\u001b[0m\n\u001b[1;32m   2262\u001b[0m                 \u001b[0mbbox_inches_restore\u001b[0m\u001b[0;34m=\u001b[0m\u001b[0m_bbox_inches_restore\u001b[0m\u001b[0;34m,\u001b[0m\u001b[0;34m\u001b[0m\u001b[0m\n\u001b[0;32m-> 2263\u001b[0;31m                 **kwargs)\n\u001b[0m\u001b[1;32m   2264\u001b[0m         \u001b[0;32mfinally\u001b[0m\u001b[0;34m:\u001b[0m\u001b[0;34m\u001b[0m\u001b[0m\n\u001b[1;32m   2265\u001b[0m             \u001b[0;32mif\u001b[0m \u001b[0mbbox_inches\u001b[0m \u001b[0;32mand\u001b[0m \u001b[0mrestore_bbox\u001b[0m\u001b[0;34m:\u001b[0m\u001b[0;34m\u001b[0m\u001b[0m\n",
      "\u001b[0;32m~/miniconda3/lib/python3.6/site-packages/matplotlib/backends/backend_agg.py\u001b[0m in \u001b[0;36mprint_png\u001b[0;34m(self, filename_or_obj, *args, **kwargs)\u001b[0m\n\u001b[1;32m    524\u001b[0m \u001b[0;34m\u001b[0m\u001b[0m\n\u001b[1;32m    525\u001b[0m         \u001b[0;32mtry\u001b[0m\u001b[0;34m:\u001b[0m\u001b[0;34m\u001b[0m\u001b[0m\n\u001b[0;32m--> 526\u001b[0;31m             \u001b[0;32mwith\u001b[0m \u001b[0mcbook\u001b[0m\u001b[0;34m.\u001b[0m\u001b[0mopen_file_cm\u001b[0m\u001b[0;34m(\u001b[0m\u001b[0mfilename_or_obj\u001b[0m\u001b[0;34m,\u001b[0m \u001b[0;34m\"wb\"\u001b[0m\u001b[0;34m)\u001b[0m \u001b[0;32mas\u001b[0m \u001b[0mfh\u001b[0m\u001b[0;34m:\u001b[0m\u001b[0;34m\u001b[0m\u001b[0m\n\u001b[0m\u001b[1;32m    527\u001b[0m                 _png.write_png(renderer._renderer, fh,\n\u001b[1;32m    528\u001b[0m                                self.figure.dpi, metadata=metadata)\n",
      "\u001b[0;32m~/miniconda3/lib/python3.6/contextlib.py\u001b[0m in \u001b[0;36m__enter__\u001b[0;34m(self)\u001b[0m\n\u001b[1;32m     79\u001b[0m     \u001b[0;32mdef\u001b[0m \u001b[0m__enter__\u001b[0m\u001b[0;34m(\u001b[0m\u001b[0mself\u001b[0m\u001b[0;34m)\u001b[0m\u001b[0;34m:\u001b[0m\u001b[0;34m\u001b[0m\u001b[0m\n\u001b[1;32m     80\u001b[0m         \u001b[0;32mtry\u001b[0m\u001b[0;34m:\u001b[0m\u001b[0;34m\u001b[0m\u001b[0m\n\u001b[0;32m---> 81\u001b[0;31m             \u001b[0;32mreturn\u001b[0m \u001b[0mnext\u001b[0m\u001b[0;34m(\u001b[0m\u001b[0mself\u001b[0m\u001b[0;34m.\u001b[0m\u001b[0mgen\u001b[0m\u001b[0;34m)\u001b[0m\u001b[0;34m\u001b[0m\u001b[0m\n\u001b[0m\u001b[1;32m     82\u001b[0m         \u001b[0;32mexcept\u001b[0m \u001b[0mStopIteration\u001b[0m\u001b[0;34m:\u001b[0m\u001b[0;34m\u001b[0m\u001b[0m\n\u001b[1;32m     83\u001b[0m             \u001b[0;32mraise\u001b[0m \u001b[0mRuntimeError\u001b[0m\u001b[0;34m(\u001b[0m\u001b[0;34m\"generator didn't yield\"\u001b[0m\u001b[0;34m)\u001b[0m \u001b[0;32mfrom\u001b[0m \u001b[0;32mNone\u001b[0m\u001b[0;34m\u001b[0m\u001b[0m\n",
      "\u001b[0;32m~/miniconda3/lib/python3.6/site-packages/matplotlib/cbook/__init__.py\u001b[0m in \u001b[0;36mopen_file_cm\u001b[0;34m(path_or_file, mode, encoding)\u001b[0m\n\u001b[1;32m    622\u001b[0m \u001b[0;32mdef\u001b[0m \u001b[0mopen_file_cm\u001b[0m\u001b[0;34m(\u001b[0m\u001b[0mpath_or_file\u001b[0m\u001b[0;34m,\u001b[0m \u001b[0mmode\u001b[0m\u001b[0;34m=\u001b[0m\u001b[0;34m\"r\"\u001b[0m\u001b[0;34m,\u001b[0m \u001b[0mencoding\u001b[0m\u001b[0;34m=\u001b[0m\u001b[0;32mNone\u001b[0m\u001b[0;34m)\u001b[0m\u001b[0;34m:\u001b[0m\u001b[0;34m\u001b[0m\u001b[0m\n\u001b[1;32m    623\u001b[0m     \u001b[0;34mr\"\"\"Pass through file objects and context-manage `.PathLike`\\s.\"\"\"\u001b[0m\u001b[0;34m\u001b[0m\u001b[0m\n\u001b[0;32m--> 624\u001b[0;31m     \u001b[0mfh\u001b[0m\u001b[0;34m,\u001b[0m \u001b[0mopened\u001b[0m \u001b[0;34m=\u001b[0m \u001b[0mto_filehandle\u001b[0m\u001b[0;34m(\u001b[0m\u001b[0mpath_or_file\u001b[0m\u001b[0;34m,\u001b[0m \u001b[0mmode\u001b[0m\u001b[0;34m,\u001b[0m \u001b[0;32mTrue\u001b[0m\u001b[0;34m,\u001b[0m \u001b[0mencoding\u001b[0m\u001b[0;34m)\u001b[0m\u001b[0;34m\u001b[0m\u001b[0m\n\u001b[0m\u001b[1;32m    625\u001b[0m     \u001b[0;32mif\u001b[0m \u001b[0mopened\u001b[0m\u001b[0;34m:\u001b[0m\u001b[0;34m\u001b[0m\u001b[0m\n\u001b[1;32m    626\u001b[0m         \u001b[0;32mwith\u001b[0m \u001b[0mfh\u001b[0m\u001b[0;34m:\u001b[0m\u001b[0;34m\u001b[0m\u001b[0m\n",
      "\u001b[0;32m~/miniconda3/lib/python3.6/site-packages/matplotlib/cbook/__init__.py\u001b[0m in \u001b[0;36mto_filehandle\u001b[0;34m(fname, flag, return_opened, encoding)\u001b[0m\n\u001b[1;32m    607\u001b[0m             \u001b[0mfh\u001b[0m \u001b[0;34m=\u001b[0m \u001b[0mbz2\u001b[0m\u001b[0;34m.\u001b[0m\u001b[0mBZ2File\u001b[0m\u001b[0;34m(\u001b[0m\u001b[0mfname\u001b[0m\u001b[0;34m,\u001b[0m \u001b[0mflag\u001b[0m\u001b[0;34m)\u001b[0m\u001b[0;34m\u001b[0m\u001b[0m\n\u001b[1;32m    608\u001b[0m         \u001b[0;32melse\u001b[0m\u001b[0;34m:\u001b[0m\u001b[0;34m\u001b[0m\u001b[0m\n\u001b[0;32m--> 609\u001b[0;31m             \u001b[0mfh\u001b[0m \u001b[0;34m=\u001b[0m \u001b[0mio\u001b[0m\u001b[0;34m.\u001b[0m\u001b[0mopen\u001b[0m\u001b[0;34m(\u001b[0m\u001b[0mfname\u001b[0m\u001b[0;34m,\u001b[0m \u001b[0mflag\u001b[0m\u001b[0;34m,\u001b[0m \u001b[0mencoding\u001b[0m\u001b[0;34m=\u001b[0m\u001b[0mencoding\u001b[0m\u001b[0;34m)\u001b[0m\u001b[0;34m\u001b[0m\u001b[0m\n\u001b[0m\u001b[1;32m    610\u001b[0m         \u001b[0mopened\u001b[0m \u001b[0;34m=\u001b[0m \u001b[0;32mTrue\u001b[0m\u001b[0;34m\u001b[0m\u001b[0m\n\u001b[1;32m    611\u001b[0m     \u001b[0;32melif\u001b[0m \u001b[0mhasattr\u001b[0m\u001b[0;34m(\u001b[0m\u001b[0mfname\u001b[0m\u001b[0;34m,\u001b[0m \u001b[0;34m'seek'\u001b[0m\u001b[0;34m)\u001b[0m\u001b[0;34m:\u001b[0m\u001b[0;34m\u001b[0m\u001b[0m\n",
      "\u001b[0;31mFileNotFoundError\u001b[0m: [Errno 2] No such file or directory: './error_plots/bn_all_shuffle_sgd_lrd_095/abs_error_1529176516.png'"
     ]
    },
    {
     "data": {
      "image/png": "[encoded data removed]",
      "text/plain": [
       "<Figure size 432x288 with 1 Axes>"
      ]
     },
     "metadata": {},
     "output_type": "display_data"
    }
   ],
   "source": [
    "test_scoores = []\n",
    "train_scoores = []\n",
    "for i in range(300):\n",
    "    try:\n",
    "        test_model = DeepPotential()\n",
    "        test_model.load_state_dict(torch.load(f'{model_path}epoch_{i}', map_location=lambda storage, loc: storage))\n",
    "        test_result = np.squeeze(backtransform(test_model(X_test), Y_min, Y_max).detach().numpy())\n",
    "        val_result = np.squeeze(backtransform(Y_test, Y_min, Y_max).detach().numpy())\n",
    "        test_scoore = np.round(np.mean(np.abs(test_result - val_result)), 4)\n",
    "        ids = np.random.randint(0, 400000, 1064)\n",
    "        #ids = np.arange(0, 10640)\n",
    "        test_result = np.squeeze(backtransform(test_model(X_train[ids]), Y_min, Y_max).detach().numpy())\n",
    "        val_result = np.squeeze(backtransform(Y_train[ids], Y_min, Y_max).detach().numpy())\n",
    "        train_scoore = np.round(np.mean(np.abs(test_result - val_result)), 4)\n",
    "        print('{}:\\ttest scoore: {:10.4f}\\t\\ttrain scoore: {:10.4f}'.format(i, test_scoore, train_scoore))\n",
    "        test_scoores.append(test_scoore)\n",
    "        train_scoores.append(train_scoore)\n",
    "    except:\n",
    "        print('not all files available')\n",
    "        break\n",
    "plt.plot(train_scoores, label='train')\n",
    "plt.plot(test_scoores, label='test')\n",
    "plt.hlines(0.04, 0, len(train_scoores))\n",
    "plt.legend()\n",
    "plt.ylim([0, 0.5])\n",
    "plt.savefig('./error_plots/{}/abs_error_{}'.format(comment, int(time.time())))"
   ]
  },
  {
   "cell_type": "code",
   "execution_count": null,
   "metadata": {},
   "outputs": [],
   "source": [
    "test_model = DeepPotential()\n",
    "test_model.load_state_dict(torch.load(f'ModelCheckpoints/c7o2h10/epoch_{i-1}', map_location=lambda storage, loc: storage))    \n",
    "single_scoores = []\n",
    "for data_point in range(X_train.shape[0]):\n",
    "    test_result = np.squeeze(backtransform(test_model(X_train[data_point].reshape(1, 19, 72)), Y_min, Y_max).detach().numpy())\n",
    "    val_result = np.squeeze(backtransform(Y_train[data_point].reshape(1, 19, 72), Y_min, Y_max).detach().numpy())\n",
    "    train_scoore = np.round(np.mean(np.abs(test_result - val_result)), 4)\n",
    "    single_scoores.append(train_scoore)\n",
    "    print(data_point/X_train.shape, )"
   ]
  },
  {
   "cell_type": "code",
   "execution_count": null,
   "metadata": {},
   "outputs": [],
   "source": [
    "X_train[0].reshape(1, 19, 72).shape"
   ]
  },
  {
   "cell_type": "code",
   "execution_count": 32,
   "metadata": {},
   "outputs": [],
   "source": [
    "test_result = np.squeeze(backtransform(test_model(X_train[:100]), Y_min, Y_max).detach().numpy())\n",
    "val_result = np.squeeze(backtransform(Y_train[:100], Y_min, Y_max).detach().numpy())\n",
    "scoore = np.mean(np.abs(test_result - val_result))"
   ]
  },
  {
   "cell_type": "code",
   "execution_count": 33,
   "metadata": {},
   "outputs": [
    {
     "data": {
      "text/plain": [
       "array([11502.016, 11502.575, 11501.767, 11502.003, 11502.35 , 11501.663,\n",
       "       11502.635, 11501.526, 11501.991, 11501.933, 11502.364, 11501.679,\n",
       "       11502.417, 11502.456, 11501.469], dtype=float32)"
      ]
     },
     "execution_count": 33,
     "metadata": {},
     "output_type": "execute_result"
    }
   ],
   "source": [
    "test_result[:15]"
   ]
  },
  {
   "cell_type": "code",
   "execution_count": 34,
   "metadata": {},
   "outputs": [
    {
     "data": {
      "text/plain": [
       "array([11504.473, 11503.904, 11503.876, 11503.75 , 11503.702, 11504.173,\n",
       "       11504.118, 11504.307, 11504.022, 11504.65 , 11504.383, 11503.74 ,\n",
       "       11503.798, 11503.842, 11503.797], dtype=float32)"
      ]
     },
     "execution_count": 34,
     "metadata": {},
     "output_type": "execute_result"
    }
   ],
   "source": [
    "val_result[:15]"
   ]
  },
  {
   "cell_type": "code",
   "execution_count": null,
   "metadata": {},
   "outputs": [],
   "source": [
    "scoore"
   ]
  },
  {
   "cell_type": "code",
   "execution_count": null,
   "metadata": {},
   "outputs": [],
   "source": [
    "test_model.load_state_dict(torch.load(f'ModelCheckpoints/c7o2h10/epoch_{270}', map_location=lambda storage, loc: storage))\n",
    "test_result = np.squeeze(backtransform(test_model(X_test), Y_min, Y_max).detach().numpy())\n",
    "val_result = np.squeeze(backtransform(Y_test, Y_min, Y_max).detach().numpy())"
   ]
  },
  {
   "cell_type": "code",
   "execution_count": null,
   "metadata": {},
   "outputs": [],
   "source": [
    "test_result[:100]"
   ]
  },
  {
   "cell_type": "code",
   "execution_count": null,
   "metadata": {},
   "outputs": [],
   "source": [
    "val_result[:100]"
   ]
  },
  {
   "cell_type": "markdown",
   "metadata": {},
   "source": [
    "# Testing"
   ]
  },
  {
   "cell_type": "markdown",
   "metadata": {},
   "source": [
    "## Test normalize function:"
   ]
  },
  {
   "cell_type": "code",
   "execution_count": null,
   "metadata": {},
   "outputs": [],
   "source": [
    "Y_load = np.load(label_path) * -1\n",
    "Y_normed, Y_min, Y_max = normalize(Y_load)\n",
    "Y_back = backtransform(Y_normed, Y_min, Y_max)\n",
    "np.testing.assert_array_almost_equal(Y_back, Y_load)"
   ]
  },
  {
   "cell_type": "code",
   "execution_count": null,
   "metadata": {},
   "outputs": [],
   "source": [
    "x = np.arange(0, 9).reshape(3, 3)"
   ]
  },
  {
   "cell_type": "code",
   "execution_count": null,
   "metadata": {},
   "outputs": [],
   "source": [
    "x"
   ]
  },
  {
   "cell_type": "code",
   "execution_count": null,
   "metadata": {},
   "outputs": [],
   "source": [
    "shuffle = np.arange(0, 3)\n",
    "np.random.shuffle(shuffle)\n",
    "shuffle"
   ]
  },
  {
   "cell_type": "code",
   "execution_count": null,
   "metadata": {},
   "outputs": [],
   "source": [
    "x[shuffle]"
   ]
  },
  {
   "cell_type": "code",
   "execution_count": null,
   "metadata": {},
   "outputs": [],
   "source": []
  }
 ],
 "metadata": {
  "kernelspec": {
   "display_name": "Python 3",
   "language": "python",
   "name": "python3"
  },
  "language_info": {
   "codemirror_mode": {
    "name": "ipython",
    "version": 3
   },
   "file_extension": ".py",
   "mimetype": "text/x-python",
   "name": "python",
   "nbconvert_exporter": "python",
   "pygments_lexer": "ipython3",
   "version": "3.6.5"
  }
 },
 "nbformat": 4,
 "nbformat_minor": 2
}
