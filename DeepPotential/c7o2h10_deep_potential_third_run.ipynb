{
 "cells": [
  {
   "cell_type": "markdown",
   "metadata": {},
   "source": [
    "# Imports,  Settings and Paths"
   ]
  },
  {
   "cell_type": "code",
   "execution_count": 1,
   "metadata": {
    "scrolled": true
   },
   "outputs": [],
   "source": [
    "import numpy as np\n",
    "from matplotlib import pyplot as plt\n",
    "import pandas as pd#\n",
    "%matplotlib inline\n",
    "import torch\n",
    "from torch.autograd import Variable\n",
    "import torch.nn as nn\n",
    "import torch.nn.functional as F\n",
    "import time"
   ]
  },
  {
   "cell_type": "code",
   "execution_count": 2,
   "metadata": {},
   "outputs": [],
   "source": [
    "from Code.Models.c7o2h10_model import DeepPotential, train, normalize, backtransform"
   ]
  },
  {
   "cell_type": "code",
   "execution_count": 3,
   "metadata": {},
   "outputs": [],
   "source": [
    "data_path = './Dataset/c7o2h10_X.npy'\n",
    "label_path = './Dataset/c7o2h10_Y.npy'\n",
    "train_ids_path = './Dataset/iso17/train_ids.txt'\n",
    "test_ids_path = './Dataset/iso17/validation_ids.txt'\n",
    "model_path = './ModelCheckpoints/c7o2h10/'"
   ]
  },
  {
   "cell_type": "code",
   "execution_count": 4,
   "metadata": {},
   "outputs": [],
   "source": [
    "train_ids = (np.loadtxt(train_ids_path) - 1).astype(int).tolist()\n",
    "test_ids = (np.loadtxt(test_ids_path) - 1).astype(int).tolist()"
   ]
  },
  {
   "cell_type": "code",
   "execution_count": 5,
   "metadata": {},
   "outputs": [
    {
     "name": "stdout",
     "output_type": "stream",
     "text": [
      "use cuda:   True\n"
     ]
    }
   ],
   "source": [
    "use_cuda = torch.cuda.is_available()\n",
    "print('use cuda:  ', use_cuda)"
   ]
  },
  {
   "cell_type": "markdown",
   "metadata": {},
   "source": [
    "# Read the Data"
   ]
  },
  {
   "cell_type": "code",
   "execution_count": 6,
   "metadata": {
    "scrolled": true
   },
   "outputs": [
    {
     "data": {
      "text/plain": [
       "(404000, 19, 72)"
      ]
     },
     "execution_count": 6,
     "metadata": {},
     "output_type": "execute_result"
    }
   ],
   "source": [
    "X_npy = np.load(data_path)\n",
    "Y_npy = np.load(label_path) * -1\n",
    "Y_npy, Y_min, Y_max = normalize(Y_npy)\n",
    "X_npy.shape"
   ]
  },
  {
   "cell_type": "markdown",
   "metadata": {},
   "source": [
    "### Check for NaN values"
   ]
  },
  {
   "cell_type": "code",
   "execution_count": 7,
   "metadata": {
    "scrolled": true
   },
   "outputs": [
    {
     "name": "stdout",
     "output_type": "stream",
     "text": [
      "0 Datapoints with NaN values found.\n"
     ]
    }
   ],
   "source": [
    "use_ids = np.where(np.isnan(X_npy).sum(axis=2).sum(axis=1)==0)\n",
    "print('{} Datapoints with NaN values found.'.format(X_npy.shape[0] - len(use_ids[0])))"
   ]
  },
  {
   "cell_type": "code",
   "execution_count": 8,
   "metadata": {
    "scrolled": true
   },
   "outputs": [
    {
     "data": {
      "text/plain": [
       "(404000, 19, 72)"
      ]
     },
     "execution_count": 8,
     "metadata": {},
     "output_type": "execute_result"
    }
   ],
   "source": [
    "X_npy = X_npy[use_ids]\n",
    "Y_npy = Y_npy[use_ids]\n",
    "X_npy.shape"
   ]
  },
  {
   "cell_type": "code",
   "execution_count": 9,
   "metadata": {},
   "outputs": [],
   "source": [
    "X_npy = X_npy\n",
    "Y_npy = Y_npy"
   ]
  },
  {
   "cell_type": "markdown",
   "metadata": {},
   "source": [
    "### Split into test and train"
   ]
  },
  {
   "cell_type": "code",
   "execution_count": 10,
   "metadata": {},
   "outputs": [
    {
     "name": "stdout",
     "output_type": "stream",
     "text": [
      "X Train shape: (400000, 19, 72)\tX Test shape: (4000, 19, 72)\n",
      "Y Train shape: (400000,)\tY Test shape: (4000,)\n"
     ]
    }
   ],
   "source": [
    "X_train_npy, X_test_npy = X_npy[train_ids], X_npy[test_ids]\n",
    "Y_train_npy, Y_test_npy = Y_npy[train_ids], Y_npy[test_ids]\n",
    "print('X Train shape: {}\\tX Test shape: {}\\nY Train shape: {}\\tY Test shape: {}'.format(X_train_npy.shape,\n",
    "                                                                                        X_test_npy.shape,\n",
    "                                                                                        Y_train_npy.shape,\n",
    "                                                                                        Y_test_npy.shape))"
   ]
  },
  {
   "cell_type": "markdown",
   "metadata": {},
   "source": [
    "### Shuffle the Dataset"
   ]
  },
  {
   "cell_type": "code",
   "execution_count": 11,
   "metadata": {},
   "outputs": [],
   "source": [
    "shuffle = np.arange(X_train_npy.shape[0])\n",
    "np.random.shuffle(shuffle)\n",
    "X_train_npy = X_train_npy[shuffle]\n",
    "Y_train_npy = Y_train_npy[shuffle]"
   ]
  },
  {
   "cell_type": "code",
   "execution_count": 12,
   "metadata": {},
   "outputs": [
    {
     "data": {
      "text/plain": [
       "array([[ 2.10233263e-01,  3.49171333e-01,  9.97571883e-01, ...,\n",
       "         6.12323400e-17,  7.85524974e-01,  6.18829957e-01],\n",
       "       [ 2.93159804e-01,  4.86902015e-01,  3.18215446e-01, ...,\n",
       "         6.12323400e-17,  1.00000000e+00, -3.82212013e-17],\n",
       "       [ 2.40715223e-01,  6.62701965e-01,  9.57767296e-01, ...,\n",
       "         5.61260652e-01, -1.84688302e-02,  9.99829437e-01],\n",
       "       ...,\n",
       "       [ 1.92179425e-01, -4.63619570e-01,  9.81894146e-01, ...,\n",
       "         6.12323400e-17,  7.68310079e-01,  6.40077826e-01],\n",
       "       [ 1.95178508e-01,  3.91669819e-01,  8.24680127e-01, ...,\n",
       "         6.12323400e-17,  7.97912431e-01,  6.02773384e-01],\n",
       "       [ 2.33265249e-01, -5.62286930e-01,  7.89416049e-01, ...,\n",
       "         3.31413248e-01,  9.01617992e-01,  4.32533232e-01]])"
      ]
     },
     "execution_count": 12,
     "metadata": {},
     "output_type": "execute_result"
    }
   ],
   "source": [
    "X_train_npy[0]"
   ]
  },
  {
   "cell_type": "code",
   "execution_count": 13,
   "metadata": {},
   "outputs": [
    {
     "data": {
      "text/plain": [
       "array([[ 1.85009448e-01, -2.08366548e-01,  9.81626252e-01, ...,\n",
       "         2.99388022e-02,  4.53053455e-01,  8.91483352e-01],\n",
       "       [ 2.55418609e-01, -1.78658433e-01,  1.46413822e-01, ...,\n",
       "        -9.73142243e-01, -9.93068812e-01, -1.17534401e-01],\n",
       "       [ 2.50558060e-01, -4.78492845e-01,  9.95265229e-01, ...,\n",
       "         5.78364764e-01,  7.56811133e-01,  6.53633620e-01],\n",
       "       ...,\n",
       "       [ 2.30767898e-01, -3.91629229e-01,  9.75996164e-01, ...,\n",
       "        -7.20451711e-01,  9.00514629e-01, -4.34825716e-01],\n",
       "       [ 1.96973693e-01, -1.59680979e-01,  9.33796448e-01, ...,\n",
       "         3.36103348e-01,  5.98502756e-01,  8.01120747e-01],\n",
       "       [ 1.93931417e-01,  2.91288135e-01,  7.40085814e-01, ...,\n",
       "         6.12323400e-17,  1.00000000e+00,  0.00000000e+00]])"
      ]
     },
     "execution_count": 13,
     "metadata": {},
     "output_type": "execute_result"
    }
   ],
   "source": [
    "X_train_npy[shuffle][0]"
   ]
  },
  {
   "cell_type": "markdown",
   "metadata": {},
   "source": [
    "### Create Pytorch Variables"
   ]
  },
  {
   "cell_type": "code",
   "execution_count": 14,
   "metadata": {},
   "outputs": [
    {
     "name": "stderr",
     "output_type": "stream",
     "text": [
      "/home/mi/stefaah94/miniconda3/lib/python3.6/site-packages/torch/cuda/__init__.py:116: UserWarning: \n",
      "    Found GPU1 NVS 310 which is of cuda capability 2.1.\n",
      "    PyTorch no longer supports this GPU because it is too old.\n",
      "    \n",
      "  warnings.warn(old_gpu_warn % (d, name, major, capability[1]))\n"
     ]
    }
   ],
   "source": [
    "if use_cuda:\n",
    "    X_train = Variable(torch.Tensor(X_train_npy).cuda())\n",
    "    Y_train = Variable(torch.Tensor(Y_train_npy).cuda(), requires_grad=False)\n",
    "    X_test = Variable(torch.Tensor(X_test_npy).cuda())\n",
    "    Y_test = Variable(torch.Tensor(Y_test_npy).cuda(), requires_grad=False)\n",
    "else:\n",
    "    X_train = Variable(torch.Tensor(X_train_npy))\n",
    "    Y_train = Variable(torch.Tensor(Y_train_npy), requires_grad=False)\n",
    "    X_test = Variable(torch.Tensor(X_test_npy))\n",
    "    Y_test = Variable(torch.Tensor(Y_test_npy), requires_grad=False)"
   ]
  },
  {
   "cell_type": "markdown",
   "metadata": {},
   "source": [
    "# Train Model"
   ]
  },
  {
   "cell_type": "markdown",
   "metadata": {},
   "source": [
    "## Do the learning"
   ]
  },
  {
   "cell_type": "code",
   "execution_count": null,
   "metadata": {
    "scrolled": true
   },
   "outputs": [
    {
     "name": "stdout",
     "output_type": "stream",
     "text": [
      "total: 0.0 %\tcurrent epoch: 3.2 %\tloss: 0.035514\ttime estimate: 668.5 min\n",
      "total: 0.0 %\tcurrent epoch: 6.4 %\tloss: 0.010216\ttime estimate: 765.8 min\n",
      "total: 0.0 %\tcurrent epoch: 9.6 %\tloss: 0.007503\ttime estimate: 747.0 min\n",
      "total: 0.0 %\tcurrent epoch: 12.8 %\tloss: 0.006186\ttime estimate: 714.2 min\n",
      "total: 0.1 %\tcurrent epoch: 16.0 %\tloss: 0.005237\ttime estimate: 710.9 min\n",
      "total: 0.1 %\tcurrent epoch: 19.2 %\tloss: 0.004629\ttime estimate: 740.5 min\n",
      "total: 0.1 %\tcurrent epoch: 22.4 %\tloss: 0.004179\ttime estimate: 759.2 min\n",
      "total: 0.1 %\tcurrent epoch: 25.6 %\tloss: 0.004309\ttime estimate: 749.8 min\n",
      "total: 0.1 %\tcurrent epoch: 28.8 %\tloss: 0.003748\ttime estimate: 734.6 min\n",
      "total: 0.1 %\tcurrent epoch: 32.0 %\tloss: 0.003721\ttime estimate: 730.1 min\n",
      "total: 0.1 %\tcurrent epoch: 35.2 %\tloss: 0.003329\ttime estimate: 722.2 min\n",
      "total: 0.1 %\tcurrent epoch: 38.4 %\tloss: 0.003193\ttime estimate: 712.9 min\n",
      "total: 0.1 %\tcurrent epoch: 41.6 %\tloss: 0.002985\ttime estimate: 712.1 min\n",
      "total: 0.1 %\tcurrent epoch: 44.8 %\tloss: 0.002926\ttime estimate: 719.6 min\n",
      "total: 0.2 %\tcurrent epoch: 48.0 %\tloss: 0.002688\ttime estimate: 727.9 min\n",
      "total: 0.2 %\tcurrent epoch: 51.2 %\tloss: 0.002719\ttime estimate: 741.0 min\n",
      "total: 0.2 %\tcurrent epoch: 54.4 %\tloss: 0.002561\ttime estimate: 752.6 min\n",
      "total: 0.2 %\tcurrent epoch: 57.6 %\tloss: 0.00254\ttime estimate: 755.2 min\n",
      "total: 0.2 %\tcurrent epoch: 60.8 %\tloss: 0.002494\ttime estimate: 757.4 min\n",
      "total: 0.2 %\tcurrent epoch: 64.0 %\tloss: 0.002356\ttime estimate: 760.2 min\n",
      "total: 0.2 %\tcurrent epoch: 67.2 %\tloss: 0.002345\ttime estimate: 755.4 min\n",
      "total: 0.2 %\tcurrent epoch: 70.4 %\tloss: 0.00225\ttime estimate: 748.6 min\n",
      "total: 0.2 %\tcurrent epoch: 73.6 %\tloss: 0.002369\ttime estimate: 754.1 min\n",
      "total: 0.3 %\tcurrent epoch: 76.8 %\tloss: 0.002318\ttime estimate: 749.0 min\n",
      "total: 0.3 %\tcurrent epoch: 80.0 %\tloss: 0.002354\ttime estimate: 747.0 min\n",
      "total: 0.3 %\tcurrent epoch: 83.2 %\tloss: 0.002132\ttime estimate: 741.9 min\n",
      "total: 0.3 %\tcurrent epoch: 86.4 %\tloss: 0.002136\ttime estimate: 736.5 min\n",
      "total: 0.3 %\tcurrent epoch: 89.6 %\tloss: 0.002107\ttime estimate: 734.3 min\n",
      "total: 0.3 %\tcurrent epoch: 92.8 %\tloss: 0.002023\ttime estimate: 736.1 min\n",
      "total: 0.3 %\tcurrent epoch: 96.0 %\tloss: 0.002192\ttime estimate: 738.3 min\n",
      "total: 0.3 %\tcurrent epoch: 99.2 %\tloss: 0.002072\ttime estimate: 737.8 min\n",
      "saved checkpoint at: ./ModelCheckpoints/c7o2h10/epoch_0\n",
      "\n",
      "total: 0.3 %\tcurrent epoch: 3.2 %\tloss: 0.001936\ttime estimate: 733.3 min\n",
      "total: 0.4 %\tcurrent epoch: 6.4 %\tloss: 0.002022\ttime estimate: 732.4 min\n",
      "total: 0.4 %\tcurrent epoch: 9.6 %\tloss: 0.001983\ttime estimate: 734.9 min\n",
      "total: 0.4 %\tcurrent epoch: 12.8 %\tloss: 0.001956\ttime estimate: 737.3 min\n",
      "total: 0.4 %\tcurrent epoch: 16.0 %\tloss: 0.002069\ttime estimate: 738.3 min\n",
      "total: 0.4 %\tcurrent epoch: 19.2 %\tloss: 0.002064\ttime estimate: 743.1 min\n",
      "total: 0.4 %\tcurrent epoch: 22.4 %\tloss: 0.00188\ttime estimate: 744.3 min\n",
      "total: 0.4 %\tcurrent epoch: 25.6 %\tloss: 0.002067\ttime estimate: 740.7 min\n",
      "total: 0.4 %\tcurrent epoch: 28.8 %\tloss: 0.001939\ttime estimate: 737.4 min\n",
      "total: 0.4 %\tcurrent epoch: 32.0 %\tloss: 0.001877\ttime estimate: 737.0 min\n",
      "total: 0.5 %\tcurrent epoch: 35.2 %\tloss: 0.00191\ttime estimate: 733.9 min\n",
      "total: 0.5 %\tcurrent epoch: 38.4 %\tloss: 0.001947\ttime estimate: 730.9 min\n",
      "total: 0.5 %\tcurrent epoch: 41.6 %\tloss: 0.001843\ttime estimate: 730.6 min\n",
      "total: 0.5 %\tcurrent epoch: 44.8 %\tloss: 0.001845\ttime estimate: 727.9 min\n",
      "total: 0.5 %\tcurrent epoch: 48.0 %\tloss: 0.001765\ttime estimate: 725.4 min\n",
      "total: 0.5 %\tcurrent epoch: 51.2 %\tloss: 0.00192\ttime estimate: 726.3 min\n",
      "total: 0.5 %\tcurrent epoch: 54.4 %\tloss: 0.001815\ttime estimate: 723.8 min\n",
      "total: 0.5 %\tcurrent epoch: 57.6 %\tloss: 0.001816\ttime estimate: 722.3 min\n",
      "total: 0.5 %\tcurrent epoch: 60.8 %\tloss: 0.001863\ttime estimate: 724.3 min\n",
      "total: 0.5 %\tcurrent epoch: 64.0 %\tloss: 0.001761\ttime estimate: 727.1 min\n",
      "total: 0.6 %\tcurrent epoch: 67.2 %\tloss: 0.001831\ttime estimate: 726.3 min\n",
      "total: 0.6 %\tcurrent epoch: 70.4 %\tloss: 0.001775\ttime estimate: 729.2 min\n",
      "total: 0.6 %\tcurrent epoch: 73.6 %\tloss: 0.0019\ttime estimate: 730.8 min\n",
      "total: 0.6 %\tcurrent epoch: 76.8 %\tloss: 0.001836\ttime estimate: 728.5 min\n",
      "total: 0.6 %\tcurrent epoch: 80.0 %\tloss: 0.001761\ttime estimate: 726.2 min\n",
      "total: 0.6 %\tcurrent epoch: 83.2 %\tloss: 0.001714\ttime estimate: 724.5 min\n",
      "total: 0.6 %\tcurrent epoch: 86.4 %\tloss: 0.001739\ttime estimate: 722.4 min\n",
      "total: 0.6 %\tcurrent epoch: 89.6 %\tloss: 0.001707\ttime estimate: 720.4 min\n",
      "total: 0.6 %\tcurrent epoch: 92.8 %\tloss: 0.00169\ttime estimate: 719.7 min\n",
      "total: 0.7 %\tcurrent epoch: 96.0 %\tloss: 0.001844\ttime estimate: 722.7 min\n",
      "total: 0.7 %\tcurrent epoch: 99.2 %\tloss: 0.001752\ttime estimate: 725.2 min\n",
      "saved checkpoint at: ./ModelCheckpoints/c7o2h10/epoch_1\n",
      "\n",
      "total: 0.7 %\tcurrent epoch: 3.2 %\tloss: 0.001662\ttime estimate: 726.9 min\n",
      "total: 0.7 %\tcurrent epoch: 6.4 %\tloss: 0.001627\ttime estimate: 726.3 min\n",
      "total: 0.7 %\tcurrent epoch: 9.6 %\tloss: 0.001639\ttime estimate: 726.5 min\n",
      "total: 0.7 %\tcurrent epoch: 12.8 %\tloss: 0.001621\ttime estimate: 729.0 min\n",
      "total: 0.7 %\tcurrent epoch: 16.0 %\tloss: 0.001653\ttime estimate: 730.0 min\n",
      "total: 0.7 %\tcurrent epoch: 19.2 %\tloss: 0.001621\ttime estimate: 732.3 min\n",
      "total: 0.7 %\tcurrent epoch: 22.4 %\tloss: 0.00156\ttime estimate: 732.3 min\n",
      "total: 0.8 %\tcurrent epoch: 25.6 %\tloss: 0.001674\ttime estimate: 733.2 min\n",
      "total: 0.8 %\tcurrent epoch: 28.8 %\tloss: 0.001659\ttime estimate: 733.8 min\n",
      "total: 0.8 %\tcurrent epoch: 32.0 %\tloss: 0.001564\ttime estimate: 732.7 min\n",
      "total: 0.8 %\tcurrent epoch: 35.2 %\tloss: 0.001545\ttime estimate: 730.9 min\n",
      "total: 0.8 %\tcurrent epoch: 38.4 %\tloss: 0.001612\ttime estimate: 730.4 min\n",
      "total: 0.8 %\tcurrent epoch: 41.6 %\tloss: 0.001528\ttime estimate: 732.4 min\n",
      "total: 0.8 %\tcurrent epoch: 44.8 %\tloss: 0.001587\ttime estimate: 735.0 min\n",
      "total: 0.8 %\tcurrent epoch: 48.0 %\tloss: 0.001468\ttime estimate: 733.7 min\n",
      "total: 0.8 %\tcurrent epoch: 51.2 %\tloss: 0.001598\ttime estimate: 732.0 min\n",
      "total: 0.8 %\tcurrent epoch: 54.4 %\tloss: 0.001563\ttime estimate: 730.4 min\n",
      "total: 0.9 %\tcurrent epoch: 57.6 %\tloss: 0.001564\ttime estimate: 731.1 min\n",
      "total: 0.9 %\tcurrent epoch: 60.8 %\tloss: 0.001608\ttime estimate: 729.6 min\n",
      "total: 0.9 %\tcurrent epoch: 64.0 %\tloss: 0.001499\ttime estimate: 729.5 min\n",
      "total: 0.9 %\tcurrent epoch: 67.2 %\tloss: 0.0015\ttime estimate: 731.8 min\n",
      "total: 0.9 %\tcurrent epoch: 70.4 %\tloss: 0.001417\ttime estimate: 733.4 min\n",
      "total: 0.9 %\tcurrent epoch: 73.6 %\tloss: 0.001499\ttime estimate: 731.8 min\n",
      "total: 0.9 %\tcurrent epoch: 76.8 %\tloss: 0.001448\ttime estimate: 730.2 min\n",
      "total: 0.9 %\tcurrent epoch: 80.0 %\tloss: 0.001471\ttime estimate: 728.7 min\n",
      "total: 0.9 %\tcurrent epoch: 83.2 %\tloss: 0.001368\ttime estimate: 729.6 min\n",
      "total: 1.0 %\tcurrent epoch: 86.4 %\tloss: 0.00151\ttime estimate: 730.4 min\n",
      "total: 1.0 %\tcurrent epoch: 89.6 %\tloss: 0.001479\ttime estimate: 732.0 min\n",
      "total: 1.0 %\tcurrent epoch: 92.8 %\tloss: 0.001482\ttime estimate: 733.0 min\n",
      "total: 1.0 %\tcurrent epoch: 96.0 %\tloss: 0.001518\ttime estimate: 734.8 min\n",
      "total: 1.0 %\tcurrent epoch: 99.2 %\tloss: 0.001386\ttime estimate: 736.8 min\n",
      "saved checkpoint at: ./ModelCheckpoints/c7o2h10/epoch_2\n",
      "\n",
      "total: 1.0 %\tcurrent epoch: 3.2 %\tloss: 0.001355\ttime estimate: 738.5 min\n",
      "total: 1.0 %\tcurrent epoch: 6.4 %\tloss: 0.001292\ttime estimate: 739.9 min\n",
      "total: 1.0 %\tcurrent epoch: 9.6 %\tloss: 0.001309\ttime estimate: 741.4 min\n",
      "total: 1.0 %\tcurrent epoch: 12.8 %\tloss: 0.001319\ttime estimate: 742.4 min\n",
      "total: 1.1 %\tcurrent epoch: 16.0 %\tloss: 0.001353\ttime estimate: 742.6 min\n",
      "total: 1.1 %\tcurrent epoch: 19.2 %\tloss: 0.001295\ttime estimate: 741.2 min\n",
      "total: 1.1 %\tcurrent epoch: 22.4 %\tloss: 0.001295\ttime estimate: 740.8 min\n",
      "total: 1.1 %\tcurrent epoch: 25.6 %\tloss: 0.001386\ttime estimate: 740.3 min\n",
      "total: 1.1 %\tcurrent epoch: 28.8 %\tloss: 0.001307\ttime estimate: 740.8 min\n",
      "total: 1.1 %\tcurrent epoch: 32.0 %\tloss: 0.001305\ttime estimate: 740.8 min\n",
      "total: 1.1 %\tcurrent epoch: 35.2 %\tloss: 0.001304\ttime estimate: 739.6 min\n",
      "total: 1.1 %\tcurrent epoch: 38.4 %\tloss: 0.001357\ttime estimate: 738.2 min\n",
      "total: 1.1 %\tcurrent epoch: 41.6 %\tloss: 0.001288\ttime estimate: 737.9 min\n",
      "total: 1.1 %\tcurrent epoch: 44.8 %\tloss: 0.001252\ttime estimate: 736.6 min\n",
      "total: 1.2 %\tcurrent epoch: 48.0 %\tloss: 0.001179\ttime estimate: 735.3 min\n"
     ]
    },
    {
     "name": "stdout",
     "output_type": "stream",
     "text": [
      "total: 1.2 %\tcurrent epoch: 51.2 %\tloss: 0.001259\ttime estimate: 734.5 min\n",
      "total: 1.2 %\tcurrent epoch: 54.4 %\tloss: 0.001271\ttime estimate: 733.3 min\n",
      "total: 1.2 %\tcurrent epoch: 57.6 %\tloss: 0.001298\ttime estimate: 732.0 min\n",
      "total: 1.2 %\tcurrent epoch: 60.8 %\tloss: 0.001254\ttime estimate: 731.5 min\n",
      "total: 1.2 %\tcurrent epoch: 64.0 %\tloss: 0.00122\ttime estimate: 732.0 min\n",
      "total: 1.2 %\tcurrent epoch: 67.2 %\tloss: 0.001252\ttime estimate: 732.7 min\n",
      "total: 1.2 %\tcurrent epoch: 70.4 %\tloss: 0.00118\ttime estimate: 733.6 min\n",
      "total: 1.2 %\tcurrent epoch: 73.6 %\tloss: 0.001269\ttime estimate: 734.2 min\n",
      "total: 1.3 %\tcurrent epoch: 76.8 %\tloss: 0.00122\ttime estimate: 734.6 min\n",
      "total: 1.3 %\tcurrent epoch: 80.0 %\tloss: 0.001249\ttime estimate: 735.5 min\n",
      "total: 1.3 %\tcurrent epoch: 83.2 %\tloss: 0.001164\ttime estimate: 735.8 min\n",
      "total: 1.3 %\tcurrent epoch: 86.4 %\tloss: 0.001229\ttime estimate: 734.6 min\n",
      "total: 1.3 %\tcurrent epoch: 89.6 %\tloss: 0.001185\ttime estimate: 733.4 min\n",
      "total: 1.3 %\tcurrent epoch: 92.8 %\tloss: 0.001176\ttime estimate: 732.4 min\n",
      "total: 1.3 %\tcurrent epoch: 96.0 %\tloss: 0.001233\ttime estimate: 731.3 min\n",
      "total: 1.3 %\tcurrent epoch: 99.2 %\tloss: 0.001207\ttime estimate: 730.2 min\n",
      "saved checkpoint at: ./ModelCheckpoints/c7o2h10/epoch_3\n",
      "\n",
      "total: 1.3 %\tcurrent epoch: 3.2 %\tloss: 0.001173\ttime estimate: 730.8 min\n",
      "total: 1.4 %\tcurrent epoch: 6.4 %\tloss: 0.001147\ttime estimate: 732.3 min\n",
      "total: 1.4 %\tcurrent epoch: 9.6 %\tloss: 0.00113\ttime estimate: 732.3 min\n",
      "total: 1.4 %\tcurrent epoch: 12.8 %\tloss: 0.001123\ttime estimate: 731.1 min\n",
      "total: 1.4 %\tcurrent epoch: 16.0 %\tloss: 0.001167\ttime estimate: 730.0 min\n",
      "total: 1.4 %\tcurrent epoch: 19.2 %\tloss: 0.001176\ttime estimate: 729.9 min\n",
      "total: 1.4 %\tcurrent epoch: 22.4 %\tloss: 0.001198\ttime estimate: 730.4 min\n",
      "total: 1.4 %\tcurrent epoch: 25.6 %\tloss: 0.001253\ttime estimate: 730.7 min\n",
      "total: 1.4 %\tcurrent epoch: 28.8 %\tloss: 0.00115\ttime estimate: 729.7 min\n",
      "total: 1.4 %\tcurrent epoch: 32.0 %\tloss: 0.001127\ttime estimate: 728.6 min\n",
      "total: 1.5 %\tcurrent epoch: 35.2 %\tloss: 0.001112\ttime estimate: 728.7 min\n",
      "total: 1.5 %\tcurrent epoch: 38.4 %\tloss: 0.001129\ttime estimate: 730.0 min\n",
      "total: 1.5 %\tcurrent epoch: 41.6 %\tloss: 0.001103\ttime estimate: 731.3 min\n",
      "total: 1.5 %\tcurrent epoch: 44.8 %\tloss: 0.001105\ttime estimate: 732.1 min\n",
      "total: 1.5 %\tcurrent epoch: 48.0 %\tloss: 0.001047\ttime estimate: 732.3 min\n",
      "total: 1.5 %\tcurrent epoch: 51.2 %\tloss: 0.001094\ttime estimate: 731.3 min\n",
      "total: 1.5 %\tcurrent epoch: 54.4 %\tloss: 0.001178\ttime estimate: 730.3 min\n",
      "total: 1.5 %\tcurrent epoch: 57.6 %\tloss: 0.001099\ttime estimate: 729.4 min\n",
      "total: 1.5 %\tcurrent epoch: 60.8 %\tloss: 0.001127\ttime estimate: 728.6 min\n",
      "total: 1.5 %\tcurrent epoch: 64.0 %\tloss: 0.001091\ttime estimate: 727.7 min\n",
      "total: 1.6 %\tcurrent epoch: 67.2 %\tloss: 0.001113\ttime estimate: 727.0 min\n",
      "total: 1.6 %\tcurrent epoch: 70.4 %\tloss: 0.001062\ttime estimate: 726.2 min\n",
      "total: 1.6 %\tcurrent epoch: 73.6 %\tloss: 0.001073\ttime estimate: 725.2 min\n",
      "total: 1.6 %\tcurrent epoch: 76.8 %\tloss: 0.001048\ttime estimate: 724.4 min\n",
      "total: 1.6 %\tcurrent epoch: 80.0 %\tloss: 0.001103\ttime estimate: 723.5 min\n",
      "total: 1.6 %\tcurrent epoch: 83.2 %\tloss: 0.001001\ttime estimate: 722.7 min\n",
      "total: 1.6 %\tcurrent epoch: 86.4 %\tloss: 0.001125\ttime estimate: 722.1 min\n",
      "total: 1.6 %\tcurrent epoch: 89.6 %\tloss: 0.001073\ttime estimate: 721.6 min\n",
      "total: 1.6 %\tcurrent epoch: 92.8 %\tloss: 0.001037\ttime estimate: 722.0 min\n",
      "total: 1.7 %\tcurrent epoch: 96.0 %\tloss: 0.001065\ttime estimate: 721.8 min\n",
      "total: 1.7 %\tcurrent epoch: 99.2 %\tloss: 0.001058\ttime estimate: 722.4 min\n",
      "saved checkpoint at: ./ModelCheckpoints/c7o2h10/epoch_4\n",
      "\n",
      "total: 1.7 %\tcurrent epoch: 3.2 %\tloss: 0.001023\ttime estimate: 724.8 min\n",
      "total: 1.7 %\tcurrent epoch: 6.4 %\tloss: 0.000998\ttime estimate: 726.8 min\n",
      "total: 1.7 %\tcurrent epoch: 9.6 %\tloss: 0.000987\ttime estimate: 728.6 min\n",
      "total: 1.7 %\tcurrent epoch: 12.8 %\tloss: 0.000986\ttime estimate: 730.5 min\n",
      "total: 1.7 %\tcurrent epoch: 16.0 %\tloss: 0.00104\ttime estimate: 731.6 min\n",
      "total: 1.7 %\tcurrent epoch: 19.2 %\tloss: 0.000994\ttime estimate: 732.4 min\n",
      "total: 1.7 %\tcurrent epoch: 22.4 %\tloss: 0.001016\ttime estimate: 731.7 min\n",
      "total: 1.8 %\tcurrent epoch: 25.6 %\tloss: 0.00107\ttime estimate: 732.2 min\n",
      "total: 1.8 %\tcurrent epoch: 28.8 %\tloss: 0.00101\ttime estimate: 731.6 min\n",
      "total: 1.8 %\tcurrent epoch: 32.0 %\tloss: 0.001001\ttime estimate: 731.9 min\n",
      "total: 1.8 %\tcurrent epoch: 35.2 %\tloss: 0.000982\ttime estimate: 732.2 min\n",
      "total: 1.8 %\tcurrent epoch: 38.4 %\tloss: 0.000964\ttime estimate: 732.5 min\n",
      "total: 1.8 %\tcurrent epoch: 41.6 %\tloss: 0.000977\ttime estimate: 732.9 min\n",
      "total: 1.8 %\tcurrent epoch: 44.8 %\tloss: 0.00094\ttime estimate: 733.5 min\n",
      "total: 1.8 %\tcurrent epoch: 48.0 %\tloss: 0.000908\ttime estimate: 733.0 min\n",
      "total: 1.8 %\tcurrent epoch: 51.2 %\tloss: 0.000974\ttime estimate: 732.8 min\n",
      "total: 1.8 %\tcurrent epoch: 54.4 %\tloss: 0.001059\ttime estimate: 733.6 min\n",
      "total: 1.9 %\tcurrent epoch: 57.6 %\tloss: 0.000968\ttime estimate: 734.4 min\n",
      "total: 1.9 %\tcurrent epoch: 60.8 %\tloss: 0.000992\ttime estimate: 733.7 min\n",
      "total: 1.9 %\tcurrent epoch: 64.0 %\tloss: 0.001017\ttime estimate: 732.8 min\n",
      "total: 1.9 %\tcurrent epoch: 67.2 %\tloss: 0.000991\ttime estimate: 732.3 min\n",
      "total: 1.9 %\tcurrent epoch: 70.4 %\tloss: 0.000959\ttime estimate: 731.4 min\n",
      "total: 1.9 %\tcurrent epoch: 73.6 %\tloss: 0.000972\ttime estimate: 730.9 min\n",
      "total: 1.9 %\tcurrent epoch: 76.8 %\tloss: 0.000943\ttime estimate: 731.2 min\n",
      "total: 1.9 %\tcurrent epoch: 80.0 %\tloss: 0.000947\ttime estimate: 730.4 min\n",
      "total: 1.9 %\tcurrent epoch: 83.2 %\tloss: 0.000896\ttime estimate: 729.6 min\n",
      "total: 2.0 %\tcurrent epoch: 86.4 %\tloss: 0.000951\ttime estimate: 729.8 min\n",
      "total: 2.0 %\tcurrent epoch: 89.6 %\tloss: 0.000935\ttime estimate: 730.0 min\n",
      "total: 2.0 %\tcurrent epoch: 92.8 %\tloss: 0.000906\ttime estimate: 730.5 min\n",
      "total: 2.0 %\tcurrent epoch: 96.0 %\tloss: 0.000936\ttime estimate: 729.8 min\n",
      "total: 2.0 %\tcurrent epoch: 99.2 %\tloss: 0.000921\ttime estimate: 729.0 min\n",
      "saved checkpoint at: ./ModelCheckpoints/c7o2h10/epoch_5\n",
      "\n",
      "total: 2.0 %\tcurrent epoch: 3.2 %\tloss: 0.000928\ttime estimate: 728.7 min\n",
      "total: 2.0 %\tcurrent epoch: 6.4 %\tloss: 0.000925\ttime estimate: 728.0 min\n",
      "total: 2.0 %\tcurrent epoch: 9.6 %\tloss: 0.000912\ttime estimate: 727.2 min\n",
      "total: 2.0 %\tcurrent epoch: 12.8 %\tloss: 0.000897\ttime estimate: 726.6 min\n",
      "total: 2.1 %\tcurrent epoch: 16.0 %\tloss: 0.000926\ttime estimate: 726.9 min\n",
      "total: 2.1 %\tcurrent epoch: 19.2 %\tloss: 0.00091\ttime estimate: 727.4 min\n",
      "total: 2.1 %\tcurrent epoch: 22.4 %\tloss: 0.000885\ttime estimate: 729.0 min\n",
      "total: 2.1 %\tcurrent epoch: 25.6 %\tloss: 0.00095\ttime estimate: 730.4 min\n",
      "total: 2.1 %\tcurrent epoch: 28.8 %\tloss: 0.000907\ttime estimate: 731.9 min\n",
      "total: 2.1 %\tcurrent epoch: 32.0 %\tloss: 0.000878\ttime estimate: 733.3 min\n",
      "total: 2.1 %\tcurrent epoch: 35.2 %\tloss: 0.000911\ttime estimate: 734.1 min\n",
      "total: 2.1 %\tcurrent epoch: 38.4 %\tloss: 0.000889\ttime estimate: 733.4 min\n",
      "total: 2.1 %\tcurrent epoch: 41.6 %\tloss: 0.000881\ttime estimate: 732.7 min\n",
      "total: 2.1 %\tcurrent epoch: 44.8 %\tloss: 0.000874\ttime estimate: 732.3 min\n",
      "total: 2.2 %\tcurrent epoch: 48.0 %\tloss: 0.00083\ttime estimate: 731.7 min\n",
      "total: 2.2 %\tcurrent epoch: 51.2 %\tloss: 0.000867\ttime estimate: 730.9 min\n",
      "total: 2.2 %\tcurrent epoch: 54.4 %\tloss: 0.00094\ttime estimate: 730.5 min\n",
      "total: 2.2 %\tcurrent epoch: 57.6 %\tloss: 0.000869\ttime estimate: 731.3 min\n",
      "total: 2.2 %\tcurrent epoch: 60.8 %\tloss: 0.00089\ttime estimate: 731.5 min\n",
      "total: 2.2 %\tcurrent epoch: 64.0 %\tloss: 0.000907\ttime estimate: 731.7 min\n",
      "total: 2.2 %\tcurrent epoch: 67.2 %\tloss: 0.000867\ttime estimate: 732.0 min\n",
      "total: 2.2 %\tcurrent epoch: 70.4 %\tloss: 0.000847\ttime estimate: 731.8 min\n",
      "total: 2.2 %\tcurrent epoch: 73.6 %\tloss: 0.000862\ttime estimate: 731.1 min\n",
      "total: 2.3 %\tcurrent epoch: 76.8 %\tloss: 0.000843\ttime estimate: 730.4 min\n",
      "total: 2.3 %\tcurrent epoch: 80.0 %\tloss: 0.000866\ttime estimate: 729.8 min\n",
      "total: 2.3 %\tcurrent epoch: 83.2 %\tloss: 0.000815\ttime estimate: 730.1 min\n",
      "total: 2.3 %\tcurrent epoch: 86.4 %\tloss: 0.000855\ttime estimate: 730.3 min\n",
      "total: 2.3 %\tcurrent epoch: 89.6 %\tloss: 0.000867\ttime estimate: 730.3 min\n",
      "total: 2.3 %\tcurrent epoch: 92.8 %\tloss: 0.000828\ttime estimate: 729.8 min\n",
      "total: 2.3 %\tcurrent epoch: 96.0 %\tloss: 0.000823\ttime estimate: 730.5 min\n"
     ]
    },
    {
     "name": "stdout",
     "output_type": "stream",
     "text": [
      "total: 2.3 %\tcurrent epoch: 99.2 %\tloss: 0.000831\ttime estimate: 731.0 min\n",
      "saved checkpoint at: ./ModelCheckpoints/c7o2h10/epoch_6\n",
      "\n",
      "total: 2.3 %\tcurrent epoch: 3.2 %\tloss: 0.000829\ttime estimate: 731.5 min\n",
      "total: 2.4 %\tcurrent epoch: 6.4 %\tloss: 0.00082\ttime estimate: 730.8 min\n",
      "total: 2.4 %\tcurrent epoch: 9.6 %\tloss: 0.000813\ttime estimate: 730.2 min\n",
      "total: 2.4 %\tcurrent epoch: 12.8 %\tloss: 0.000817\ttime estimate: 730.3 min\n",
      "total: 2.4 %\tcurrent epoch: 16.0 %\tloss: 0.000848\ttime estimate: 730.5 min\n",
      "total: 2.4 %\tcurrent epoch: 19.2 %\tloss: 0.000808\ttime estimate: 730.8 min\n",
      "total: 2.4 %\tcurrent epoch: 22.4 %\tloss: 0.000807\ttime estimate: 730.7 min\n",
      "total: 2.4 %\tcurrent epoch: 25.6 %\tloss: 0.000859\ttime estimate: 730.8 min\n",
      "total: 2.4 %\tcurrent epoch: 28.8 %\tloss: 0.000866\ttime estimate: 731.2 min\n",
      "total: 2.4 %\tcurrent epoch: 32.0 %\tloss: 0.000819\ttime estimate: 731.5 min\n",
      "total: 2.5 %\tcurrent epoch: 35.2 %\tloss: 0.000805\ttime estimate: 732.0 min\n",
      "total: 2.5 %\tcurrent epoch: 38.4 %\tloss: 0.000803\ttime estimate: 732.2 min\n",
      "total: 2.5 %\tcurrent epoch: 41.6 %\tloss: 0.000775\ttime estimate: 732.6 min\n",
      "total: 2.5 %\tcurrent epoch: 44.8 %\tloss: 0.000759\ttime estimate: 732.7 min\n",
      "total: 2.5 %\tcurrent epoch: 48.0 %\tloss: 0.000739\ttime estimate: 732.8 min\n",
      "total: 2.5 %\tcurrent epoch: 51.2 %\tloss: 0.000776\ttime estimate: 733.2 min\n",
      "total: 2.5 %\tcurrent epoch: 54.4 %\tloss: 0.000841\ttime estimate: 733.4 min\n",
      "total: 2.5 %\tcurrent epoch: 57.6 %\tloss: 0.000773\ttime estimate: 732.8 min\n",
      "total: 2.5 %\tcurrent epoch: 60.8 %\tloss: 0.000813\ttime estimate: 732.2 min\n",
      "total: 2.5 %\tcurrent epoch: 64.0 %\tloss: 0.000809\ttime estimate: 731.5 min\n",
      "total: 2.6 %\tcurrent epoch: 67.2 %\tloss: 0.000755\ttime estimate: 731.2 min\n",
      "total: 2.6 %\tcurrent epoch: 70.4 %\tloss: 0.000765\ttime estimate: 730.6 min\n",
      "total: 2.6 %\tcurrent epoch: 73.6 %\tloss: 0.000768\ttime estimate: 729.9 min\n",
      "total: 2.6 %\tcurrent epoch: 76.8 %\tloss: 0.000755\ttime estimate: 729.5 min\n",
      "total: 2.6 %\tcurrent epoch: 80.0 %\tloss: 0.000766\ttime estimate: 728.8 min\n",
      "total: 2.6 %\tcurrent epoch: 83.2 %\tloss: 0.000722\ttime estimate: 728.2 min\n",
      "total: 2.6 %\tcurrent epoch: 86.4 %\tloss: 0.000749\ttime estimate: 727.8 min\n",
      "total: 2.6 %\tcurrent epoch: 89.6 %\tloss: 0.000751\ttime estimate: 727.9 min\n",
      "total: 2.6 %\tcurrent epoch: 92.8 %\tloss: 0.000737\ttime estimate: 728.0 min\n",
      "total: 2.7 %\tcurrent epoch: 96.0 %\tloss: 0.000728\ttime estimate: 727.4 min\n",
      "total: 2.7 %\tcurrent epoch: 99.2 %\tloss: 0.000727\ttime estimate: 726.8 min\n",
      "saved checkpoint at: ./ModelCheckpoints/c7o2h10/epoch_7\n",
      "\n",
      "total: 2.7 %\tcurrent epoch: 3.2 %\tloss: 0.000735\ttime estimate: 726.3 min\n",
      "total: 2.7 %\tcurrent epoch: 6.4 %\tloss: 0.000738\ttime estimate: 726.8 min\n",
      "total: 2.7 %\tcurrent epoch: 9.6 %\tloss: 0.000731\ttime estimate: 727.0 min\n",
      "total: 2.7 %\tcurrent epoch: 12.8 %\tloss: 0.000751\ttime estimate: 726.6 min\n",
      "total: 2.7 %\tcurrent epoch: 16.0 %\tloss: 0.000752\ttime estimate: 726.0 min\n",
      "total: 2.7 %\tcurrent epoch: 19.2 %\tloss: 0.000721\ttime estimate: 725.7 min\n",
      "total: 2.7 %\tcurrent epoch: 22.4 %\tloss: 0.000744\ttime estimate: 725.4 min\n",
      "total: 2.8 %\tcurrent epoch: 25.6 %\tloss: 0.000804\ttime estimate: 724.8 min\n",
      "total: 2.8 %\tcurrent epoch: 28.8 %\tloss: 0.000804\ttime estimate: 724.4 min\n",
      "total: 2.8 %\tcurrent epoch: 32.0 %\tloss: 0.000733\ttime estimate: 725.1 min\n",
      "total: 2.8 %\tcurrent epoch: 35.2 %\tloss: 0.000741\ttime estimate: 725.5 min\n",
      "total: 2.8 %\tcurrent epoch: 38.4 %\tloss: 0.000742\ttime estimate: 726.3 min\n",
      "total: 2.8 %\tcurrent epoch: 41.6 %\tloss: 0.000725\ttime estimate: 726.6 min\n",
      "total: 2.8 %\tcurrent epoch: 44.8 %\tloss: 0.00073\ttime estimate: 727.2 min\n",
      "total: 2.8 %\tcurrent epoch: 48.0 %\tloss: 0.000681\ttime estimate: 727.4 min\n",
      "total: 2.8 %\tcurrent epoch: 51.2 %\tloss: 0.000727\ttime estimate: 727.9 min\n",
      "total: 2.8 %\tcurrent epoch: 54.4 %\tloss: 0.000755\ttime estimate: 728.5 min\n",
      "total: 2.9 %\tcurrent epoch: 57.6 %\tloss: 0.000685\ttime estimate: 728.5 min\n",
      "total: 2.9 %\tcurrent epoch: 60.8 %\tloss: 0.000724\ttime estimate: 729.2 min\n",
      "total: 2.9 %\tcurrent epoch: 64.0 %\tloss: 0.00072\ttime estimate: 730.2 min\n",
      "total: 2.9 %\tcurrent epoch: 67.2 %\tloss: 0.000686\ttime estimate: 731.2 min\n",
      "total: 2.9 %\tcurrent epoch: 70.4 %\tloss: 0.000689\ttime estimate: 732.2 min\n",
      "total: 2.9 %\tcurrent epoch: 73.6 %\tloss: 0.000702\ttime estimate: 733.1 min\n",
      "total: 2.9 %\tcurrent epoch: 76.8 %\tloss: 0.000678\ttime estimate: 733.7 min\n",
      "total: 2.9 %\tcurrent epoch: 80.0 %\tloss: 0.000683\ttime estimate: 733.8 min\n",
      "total: 2.9 %\tcurrent epoch: 83.2 %\tloss: 0.000653\ttime estimate: 734.0 min\n",
      "total: 3.0 %\tcurrent epoch: 86.4 %\tloss: 0.000677\ttime estimate: 734.7 min\n",
      "total: 3.0 %\tcurrent epoch: 89.6 %\tloss: 0.000679\ttime estimate: 735.7 min\n",
      "total: 3.0 %\tcurrent epoch: 92.8 %\tloss: 0.000671\ttime estimate: 736.6 min\n",
      "total: 3.0 %\tcurrent epoch: 96.0 %\tloss: 0.000674\ttime estimate: 737.6 min\n",
      "total: 3.0 %\tcurrent epoch: 99.2 %\tloss: 0.00067\ttime estimate: 738.5 min\n",
      "saved checkpoint at: ./ModelCheckpoints/c7o2h10/epoch_8\n",
      "\n",
      "total: 3.0 %\tcurrent epoch: 3.2 %\tloss: 0.000678\ttime estimate: 738.2 min\n",
      "total: 3.0 %\tcurrent epoch: 6.4 %\tloss: 0.000672\ttime estimate: 738.4 min\n",
      "total: 3.0 %\tcurrent epoch: 9.6 %\tloss: 0.000662\ttime estimate: 738.1 min\n",
      "total: 3.0 %\tcurrent epoch: 12.8 %\tloss: 0.000649\ttime estimate: 738.3 min\n",
      "total: 3.1 %\tcurrent epoch: 16.0 %\tloss: 0.000672\ttime estimate: 739.0 min\n",
      "total: 3.1 %\tcurrent epoch: 19.2 %\tloss: 0.000649\ttime estimate: 739.7 min\n",
      "total: 3.1 %\tcurrent epoch: 22.4 %\tloss: 0.000644\ttime estimate: 740.2 min\n",
      "total: 3.1 %\tcurrent epoch: 25.6 %\tloss: 0.000684\ttime estimate: 741.1 min\n",
      "total: 3.1 %\tcurrent epoch: 28.8 %\tloss: 0.000684\ttime estimate: 741.9 min\n",
      "total: 3.1 %\tcurrent epoch: 32.0 %\tloss: 0.000642\ttime estimate: 742.5 min\n",
      "total: 3.1 %\tcurrent epoch: 35.2 %\tloss: 0.000659\ttime estimate: 743.4 min\n",
      "total: 3.1 %\tcurrent epoch: 38.4 %\tloss: 0.000643\ttime estimate: 744.2 min\n",
      "total: 3.1 %\tcurrent epoch: 41.6 %\tloss: 0.00063\ttime estimate: 745.1 min\n",
      "total: 3.1 %\tcurrent epoch: 44.8 %\tloss: 0.00063\ttime estimate: 745.9 min\n",
      "total: 3.2 %\tcurrent epoch: 48.0 %\tloss: 0.00063\ttime estimate: 746.1 min\n",
      "total: 3.2 %\tcurrent epoch: 51.2 %\tloss: 0.000663\ttime estimate: 746.1 min\n",
      "total: 3.2 %\tcurrent epoch: 54.4 %\tloss: 0.000685\ttime estimate: 746.3 min\n",
      "total: 3.2 %\tcurrent epoch: 57.6 %\tloss: 0.000629\ttime estimate: 746.4 min\n",
      "total: 3.2 %\tcurrent epoch: 60.8 %\tloss: 0.000657\ttime estimate: 746.5 min\n",
      "total: 3.2 %\tcurrent epoch: 64.0 %\tloss: 0.000657\ttime estimate: 747.3 min\n",
      "total: 3.2 %\tcurrent epoch: 67.2 %\tloss: 0.000624\ttime estimate: 748.1 min\n",
      "total: 3.2 %\tcurrent epoch: 70.4 %\tloss: 0.000636\ttime estimate: 749.0 min\n",
      "total: 3.2 %\tcurrent epoch: 73.6 %\tloss: 0.000636\ttime estimate: 749.8 min\n",
      "total: 3.3 %\tcurrent epoch: 76.8 %\tloss: 0.000627\ttime estimate: 750.3 min\n",
      "total: 3.3 %\tcurrent epoch: 80.0 %\tloss: 0.000628\ttime estimate: 750.5 min\n",
      "total: 3.3 %\tcurrent epoch: 83.2 %\tloss: 0.000617\ttime estimate: 750.6 min\n",
      "total: 3.3 %\tcurrent epoch: 86.4 %\tloss: 0.000614\ttime estimate: 750.4 min\n",
      "total: 3.3 %\tcurrent epoch: 89.6 %\tloss: 0.000623\ttime estimate: 749.9 min\n",
      "total: 3.3 %\tcurrent epoch: 92.8 %\tloss: 0.000616\ttime estimate: 750.1 min\n",
      "total: 3.3 %\tcurrent epoch: 96.0 %\tloss: 0.000609\ttime estimate: 750.1 min\n",
      "total: 3.3 %\tcurrent epoch: 99.2 %\tloss: 0.000607\ttime estimate: 750.1 min\n",
      "saved checkpoint at: ./ModelCheckpoints/c7o2h10/epoch_9\n",
      "\n",
      "total: 3.3 %\tcurrent epoch: 3.2 %\tloss: 0.00062\ttime estimate: 750.4 min\n",
      "total: 3.4 %\tcurrent epoch: 6.4 %\tloss: 0.000628\ttime estimate: 750.6 min\n",
      "total: 3.4 %\tcurrent epoch: 9.6 %\tloss: 0.0006\ttime estimate: 750.0 min\n",
      "total: 3.4 %\tcurrent epoch: 12.8 %\tloss: 0.000597\ttime estimate: 749.5 min\n",
      "total: 3.4 %\tcurrent epoch: 16.0 %\tloss: 0.000625\ttime estimate: 748.9 min\n",
      "total: 3.4 %\tcurrent epoch: 19.2 %\tloss: 0.000597\ttime estimate: 748.6 min\n",
      "total: 3.4 %\tcurrent epoch: 22.4 %\tloss: 0.000593\ttime estimate: 748.0 min\n",
      "total: 3.4 %\tcurrent epoch: 25.6 %\tloss: 0.000643\ttime estimate: 747.6 min\n",
      "total: 3.4 %\tcurrent epoch: 28.8 %\tloss: 0.000623\ttime estimate: 747.1 min\n",
      "total: 3.4 %\tcurrent epoch: 32.0 %\tloss: 0.000582\ttime estimate: 746.5 min\n",
      "total: 3.5 %\tcurrent epoch: 35.2 %\tloss: 0.0006\ttime estimate: 746.0 min\n",
      "total: 3.5 %\tcurrent epoch: 38.4 %\tloss: 0.000596\ttime estimate: 745.6 min\n",
      "total: 3.5 %\tcurrent epoch: 41.6 %\tloss: 0.000598\ttime estimate: 745.0 min\n"
     ]
    },
    {
     "name": "stdout",
     "output_type": "stream",
     "text": [
      "total: 3.5 %\tcurrent epoch: 44.8 %\tloss: 0.000588\ttime estimate: 744.5 min\n",
      "total: 3.5 %\tcurrent epoch: 48.0 %\tloss: 0.000573\ttime estimate: 744.2 min\n",
      "total: 3.5 %\tcurrent epoch: 51.2 %\tloss: 0.000588\ttime estimate: 744.3 min\n",
      "total: 3.5 %\tcurrent epoch: 54.4 %\tloss: 0.000636\ttime estimate: 744.3 min\n",
      "total: 3.5 %\tcurrent epoch: 57.6 %\tloss: 0.000583\ttime estimate: 744.6 min\n",
      "total: 3.5 %\tcurrent epoch: 60.8 %\tloss: 0.000603\ttime estimate: 744.9 min\n",
      "total: 3.5 %\tcurrent epoch: 64.0 %\tloss: 0.000592\ttime estimate: 744.5 min\n",
      "total: 3.6 %\tcurrent epoch: 67.2 %\tloss: 0.000567\ttime estimate: 744.7 min\n",
      "total: 3.6 %\tcurrent epoch: 70.4 %\tloss: 0.00057\ttime estimate: 744.4 min\n",
      "total: 3.6 %\tcurrent epoch: 73.6 %\tloss: 0.000576\ttime estimate: 743.9 min\n",
      "total: 3.6 %\tcurrent epoch: 76.8 %\tloss: 0.000567\ttime estimate: 743.5 min\n",
      "total: 3.6 %\tcurrent epoch: 80.0 %\tloss: 0.000569\ttime estimate: 743.7 min\n",
      "total: 3.6 %\tcurrent epoch: 83.2 %\tloss: 0.000573\ttime estimate: 743.7 min\n",
      "total: 3.6 %\tcurrent epoch: 86.4 %\tloss: 0.000579\ttime estimate: 743.3 min\n",
      "total: 3.6 %\tcurrent epoch: 89.6 %\tloss: 0.000573\ttime estimate: 742.8 min\n",
      "total: 3.6 %\tcurrent epoch: 92.8 %\tloss: 0.000582\ttime estimate: 742.9 min\n",
      "total: 3.7 %\tcurrent epoch: 96.0 %\tloss: 0.000559\ttime estimate: 743.3 min\n",
      "total: 3.7 %\tcurrent epoch: 99.2 %\tloss: 0.000562\ttime estimate: 742.9 min\n",
      "saved checkpoint at: ./ModelCheckpoints/c7o2h10/epoch_10\n",
      "\n",
      "total: 3.7 %\tcurrent epoch: 3.2 %\tloss: 0.000571\ttime estimate: 742.3 min\n",
      "total: 3.7 %\tcurrent epoch: 6.4 %\tloss: 0.000577\ttime estimate: 741.8 min\n",
      "total: 3.7 %\tcurrent epoch: 9.6 %\tloss: 0.000555\ttime estimate: 741.2 min\n",
      "total: 3.7 %\tcurrent epoch: 12.8 %\tloss: 0.000559\ttime estimate: 741.3 min\n",
      "total: 3.7 %\tcurrent epoch: 16.0 %\tloss: 0.000577\ttime estimate: 741.4 min\n",
      "total: 3.7 %\tcurrent epoch: 19.2 %\tloss: 0.000569\ttime estimate: 741.6 min\n",
      "total: 3.7 %\tcurrent epoch: 22.4 %\tloss: 0.000553\ttime estimate: 741.8 min\n",
      "total: 3.8 %\tcurrent epoch: 25.6 %\tloss: 0.000591\ttime estimate: 742.0 min\n",
      "total: 3.8 %\tcurrent epoch: 28.8 %\tloss: 0.000576\ttime estimate: 742.1 min\n",
      "total: 3.8 %\tcurrent epoch: 32.0 %\tloss: 0.00054\ttime estimate: 742.2 min\n",
      "total: 3.8 %\tcurrent epoch: 35.2 %\tloss: 0.000555\ttime estimate: 741.7 min\n",
      "total: 3.8 %\tcurrent epoch: 38.4 %\tloss: 0.000558\ttime estimate: 741.2 min\n",
      "total: 3.8 %\tcurrent epoch: 41.6 %\tloss: 0.000537\ttime estimate: 740.9 min\n",
      "total: 3.8 %\tcurrent epoch: 44.8 %\tloss: 0.000545\ttime estimate: 740.5 min\n",
      "total: 3.8 %\tcurrent epoch: 48.0 %\tloss: 0.000528\ttime estimate: 740.0 min\n",
      "total: 3.8 %\tcurrent epoch: 51.2 %\tloss: 0.000544\ttime estimate: 739.8 min\n",
      "total: 3.8 %\tcurrent epoch: 54.4 %\tloss: 0.000613\ttime estimate: 739.8 min\n",
      "total: 3.9 %\tcurrent epoch: 57.6 %\tloss: 0.000547\ttime estimate: 739.8 min\n",
      "total: 3.9 %\tcurrent epoch: 60.8 %\tloss: 0.000553\ttime estimate: 739.9 min\n",
      "total: 3.9 %\tcurrent epoch: 64.0 %\tloss: 0.000542\ttime estimate: 740.1 min\n",
      "total: 3.9 %\tcurrent epoch: 67.2 %\tloss: 0.000527\ttime estimate: 739.9 min\n",
      "total: 3.9 %\tcurrent epoch: 70.4 %\tloss: 0.000549\ttime estimate: 739.4 min\n",
      "total: 3.9 %\tcurrent epoch: 73.6 %\tloss: 0.000566\ttime estimate: 738.9 min\n",
      "total: 3.9 %\tcurrent epoch: 76.8 %\tloss: 0.000539\ttime estimate: 739.0 min\n",
      "total: 3.9 %\tcurrent epoch: 80.0 %\tloss: 0.000527\ttime estimate: 739.3 min\n",
      "total: 3.9 %\tcurrent epoch: 83.2 %\tloss: 0.000522\ttime estimate: 739.1 min\n",
      "total: 4.0 %\tcurrent epoch: 86.4 %\tloss: 0.000528\ttime estimate: 738.6 min\n",
      "total: 4.0 %\tcurrent epoch: 89.6 %\tloss: 0.000529\ttime estimate: 738.1 min\n",
      "total: 4.0 %\tcurrent epoch: 92.8 %\tloss: 0.000528\ttime estimate: 738.2 min\n",
      "total: 4.0 %\tcurrent epoch: 96.0 %\tloss: 0.000513\ttime estimate: 738.2 min\n",
      "total: 4.0 %\tcurrent epoch: 99.2 %\tloss: 0.000512\ttime estimate: 738.0 min\n",
      "saved checkpoint at: ./ModelCheckpoints/c7o2h10/epoch_11\n",
      "\n",
      "total: 4.0 %\tcurrent epoch: 3.2 %\tloss: 0.000513\ttime estimate: 738.1 min\n",
      "total: 4.0 %\tcurrent epoch: 6.4 %\tloss: 0.000528\ttime estimate: 738.1 min\n",
      "total: 4.0 %\tcurrent epoch: 9.6 %\tloss: 0.00051\ttime estimate: 738.4 min\n",
      "total: 4.0 %\tcurrent epoch: 12.8 %\tloss: 0.000512\ttime estimate: 738.8 min\n",
      "total: 4.1 %\tcurrent epoch: 16.0 %\tloss: 0.000525\ttime estimate: 739.0 min\n",
      "total: 4.1 %\tcurrent epoch: 19.2 %\tloss: 0.000508\ttime estimate: 739.2 min\n",
      "total: 4.1 %\tcurrent epoch: 22.4 %\tloss: 0.000493\ttime estimate: 738.7 min\n",
      "total: 4.1 %\tcurrent epoch: 25.6 %\tloss: 0.000527\ttime estimate: 738.2 min\n",
      "total: 4.1 %\tcurrent epoch: 28.8 %\tloss: 0.000517\ttime estimate: 737.8 min\n",
      "total: 4.1 %\tcurrent epoch: 32.0 %\tloss: 0.000493\ttime estimate: 737.3 min\n",
      "total: 4.1 %\tcurrent epoch: 35.2 %\tloss: 0.000499\ttime estimate: 736.9 min\n",
      "total: 4.1 %\tcurrent epoch: 38.4 %\tloss: 0.000506\ttime estimate: 736.4 min\n",
      "total: 4.1 %\tcurrent epoch: 41.6 %\tloss: 0.000491\ttime estimate: 736.2 min\n",
      "total: 4.1 %\tcurrent epoch: 44.8 %\tloss: 0.000495\ttime estimate: 735.7 min\n",
      "total: 4.2 %\tcurrent epoch: 48.0 %\tloss: 0.000486\ttime estimate: 735.3 min\n",
      "total: 4.2 %\tcurrent epoch: 51.2 %\tloss: 0.000495\ttime estimate: 734.9 min\n",
      "total: 4.2 %\tcurrent epoch: 54.4 %\tloss: 0.000537\ttime estimate: 734.5 min\n",
      "total: 4.2 %\tcurrent epoch: 57.6 %\tloss: 0.000504\ttime estimate: 734.1 min\n",
      "total: 4.2 %\tcurrent epoch: 60.8 %\tloss: 0.000504\ttime estimate: 734.3 min\n",
      "total: 4.2 %\tcurrent epoch: 64.0 %\tloss: 0.0005\ttime estimate: 734.6 min\n",
      "total: 4.2 %\tcurrent epoch: 67.2 %\tloss: 0.000484\ttime estimate: 734.7 min\n",
      "total: 4.2 %\tcurrent epoch: 70.4 %\tloss: 0.000489\ttime estimate: 734.9 min\n",
      "total: 4.2 %\tcurrent epoch: 73.6 %\tloss: 0.000499\ttime estimate: 735.0 min\n",
      "total: 4.3 %\tcurrent epoch: 76.8 %\tloss: 0.00049\ttime estimate: 735.1 min\n",
      "total: 4.3 %\tcurrent epoch: 80.0 %\tloss: 0.000482\ttime estimate: 735.1 min\n",
      "total: 4.3 %\tcurrent epoch: 83.2 %\tloss: 0.000472\ttime estimate: 735.3 min\n",
      "total: 4.3 %\tcurrent epoch: 86.4 %\tloss: 0.000489\ttime estimate: 735.4 min\n",
      "total: 4.3 %\tcurrent epoch: 89.6 %\tloss: 0.000487\ttime estimate: 735.0 min\n",
      "total: 4.3 %\tcurrent epoch: 92.8 %\tloss: 0.000488\ttime estimate: 734.5 min\n",
      "total: 4.3 %\tcurrent epoch: 96.0 %\tloss: 0.000475\ttime estimate: 734.1 min\n",
      "total: 4.3 %\tcurrent epoch: 99.2 %\tloss: 0.000474\ttime estimate: 733.8 min\n",
      "saved checkpoint at: ./ModelCheckpoints/c7o2h10/epoch_12\n",
      "\n",
      "total: 4.3 %\tcurrent epoch: 3.2 %\tloss: 0.000476\ttime estimate: 733.2 min\n",
      "total: 4.4 %\tcurrent epoch: 6.4 %\tloss: 0.000493\ttime estimate: 732.9 min\n",
      "total: 4.4 %\tcurrent epoch: 9.6 %\tloss: 0.000501\ttime estimate: 732.4 min\n",
      "total: 4.4 %\tcurrent epoch: 12.8 %\tloss: 0.000476\ttime estimate: 732.0 min\n",
      "total: 4.4 %\tcurrent epoch: 16.0 %\tloss: 0.000492\ttime estimate: 732.0 min\n",
      "total: 4.4 %\tcurrent epoch: 19.2 %\tloss: 0.000474\ttime estimate: 732.0 min\n",
      "total: 4.4 %\tcurrent epoch: 22.4 %\tloss: 0.000463\ttime estimate: 732.0 min\n",
      "total: 4.4 %\tcurrent epoch: 25.6 %\tloss: 0.000484\ttime estimate: 732.3 min\n",
      "total: 4.4 %\tcurrent epoch: 28.8 %\tloss: 0.000475\ttime estimate: 732.5 min\n",
      "total: 4.4 %\tcurrent epoch: 32.0 %\tloss: 0.000454\ttime estimate: 732.1 min\n",
      "total: 4.5 %\tcurrent epoch: 35.2 %\tloss: 0.000465\ttime estimate: 731.7 min\n",
      "total: 4.5 %\tcurrent epoch: 38.4 %\tloss: 0.000465\ttime estimate: 731.3 min\n",
      "total: 4.5 %\tcurrent epoch: 41.6 %\tloss: 0.00047\ttime estimate: 730.9 min\n",
      "total: 4.5 %\tcurrent epoch: 44.8 %\tloss: 0.000463\ttime estimate: 730.5 min\n",
      "total: 4.5 %\tcurrent epoch: 48.0 %\tloss: 0.000448\ttime estimate: 730.8 min\n",
      "total: 4.5 %\tcurrent epoch: 51.2 %\tloss: 0.000455\ttime estimate: 730.3 min\n",
      "total: 4.5 %\tcurrent epoch: 54.4 %\tloss: 0.000496\ttime estimate: 729.9 min\n",
      "total: 4.5 %\tcurrent epoch: 57.6 %\tloss: 0.000469\ttime estimate: 729.7 min\n",
      "total: 4.5 %\tcurrent epoch: 60.8 %\tloss: 0.000459\ttime estimate: 729.9 min\n",
      "total: 4.5 %\tcurrent epoch: 64.0 %\tloss: 0.000463\ttime estimate: 730.0 min\n",
      "total: 4.6 %\tcurrent epoch: 67.2 %\tloss: 0.000446\ttime estimate: 729.7 min\n",
      "total: 4.6 %\tcurrent epoch: 70.4 %\tloss: 0.000451\ttime estimate: 729.3 min\n",
      "total: 4.6 %\tcurrent epoch: 73.6 %\tloss: 0.000446\ttime estimate: 728.9 min\n",
      "total: 4.6 %\tcurrent epoch: 76.8 %\tloss: 0.000445\ttime estimate: 729.0 min\n",
      "total: 4.6 %\tcurrent epoch: 80.0 %\tloss: 0.000445\ttime estimate: 729.1 min\n",
      "total: 4.6 %\tcurrent epoch: 83.2 %\tloss: 0.000432\ttime estimate: 728.8 min\n",
      "total: 4.6 %\tcurrent epoch: 86.4 %\tloss: 0.00045\ttime estimate: 729.0 min\n",
      "total: 4.6 %\tcurrent epoch: 89.6 %\tloss: 0.000442\ttime estimate: 728.9 min\n"
     ]
    },
    {
     "name": "stdout",
     "output_type": "stream",
     "text": [
      "total: 4.6 %\tcurrent epoch: 92.8 %\tloss: 0.000447\ttime estimate: 728.4 min\n",
      "total: 4.7 %\tcurrent epoch: 96.0 %\tloss: 0.000439\ttime estimate: 728.0 min\n",
      "total: 4.7 %\tcurrent epoch: 99.2 %\tloss: 0.000437\ttime estimate: 728.1 min\n",
      "saved checkpoint at: ./ModelCheckpoints/c7o2h10/epoch_13\n",
      "\n",
      "total: 4.7 %\tcurrent epoch: 3.2 %\tloss: 0.000437\ttime estimate: 728.4 min\n",
      "total: 4.7 %\tcurrent epoch: 6.4 %\tloss: 0.000457\ttime estimate: 728.0 min\n",
      "total: 4.7 %\tcurrent epoch: 9.6 %\tloss: 0.000449\ttime estimate: 727.6 min\n",
      "total: 4.7 %\tcurrent epoch: 12.8 %\tloss: 0.000443\ttime estimate: 727.2 min\n",
      "total: 4.7 %\tcurrent epoch: 16.0 %\tloss: 0.000456\ttime estimate: 727.0 min\n",
      "total: 4.7 %\tcurrent epoch: 19.2 %\tloss: 0.000438\ttime estimate: 726.5 min\n",
      "total: 4.7 %\tcurrent epoch: 22.4 %\tloss: 0.000421\ttime estimate: 726.1 min\n",
      "total: 4.8 %\tcurrent epoch: 25.6 %\tloss: 0.000445\ttime estimate: 726.0 min\n",
      "total: 4.8 %\tcurrent epoch: 28.8 %\tloss: 0.000436\ttime estimate: 725.6 min\n",
      "total: 4.8 %\tcurrent epoch: 32.0 %\tloss: 0.000417\ttime estimate: 725.2 min\n",
      "total: 4.8 %\tcurrent epoch: 35.2 %\tloss: 0.000436\ttime estimate: 725.1 min\n",
      "total: 4.8 %\tcurrent epoch: 38.4 %\tloss: 0.000439\ttime estimate: 725.4 min\n",
      "total: 4.8 %\tcurrent epoch: 41.6 %\tloss: 0.000432\ttime estimate: 725.4 min\n",
      "total: 4.8 %\tcurrent epoch: 44.8 %\tloss: 0.000421\ttime estimate: 725.2 min\n",
      "total: 4.8 %\tcurrent epoch: 48.0 %\tloss: 0.000409\ttime estimate: 724.8 min\n",
      "total: 4.8 %\tcurrent epoch: 51.2 %\tloss: 0.000426\ttime estimate: 724.7 min\n",
      "total: 4.8 %\tcurrent epoch: 54.4 %\tloss: 0.000458\ttime estimate: 724.7 min\n",
      "total: 4.9 %\tcurrent epoch: 57.6 %\tloss: 0.000453\ttime estimate: 724.6 min\n",
      "total: 4.9 %\tcurrent epoch: 60.8 %\tloss: 0.000427\ttime estimate: 724.9 min\n",
      "total: 4.9 %\tcurrent epoch: 64.0 %\tloss: 0.000416\ttime estimate: 725.2 min\n",
      "total: 4.9 %\tcurrent epoch: 67.2 %\tloss: 0.000409\ttime estimate: 725.4 min\n",
      "total: 4.9 %\tcurrent epoch: 70.4 %\tloss: 0.000426\ttime estimate: 725.4 min\n",
      "total: 4.9 %\tcurrent epoch: 73.6 %\tloss: 0.000425\ttime estimate: 725.9 min\n",
      "total: 4.9 %\tcurrent epoch: 76.8 %\tloss: 0.000417\ttime estimate: 726.2 min\n",
      "total: 4.9 %\tcurrent epoch: 80.0 %\tloss: 0.000406\ttime estimate: 726.6 min\n",
      "total: 4.9 %\tcurrent epoch: 83.2 %\tloss: 0.000406\ttime estimate: 727.1 min\n",
      "total: 5.0 %\tcurrent epoch: 86.4 %\tloss: 0.000418\ttime estimate: 727.3 min\n",
      "total: 5.0 %\tcurrent epoch: 89.6 %\tloss: 0.000416\ttime estimate: 727.8 min\n",
      "total: 5.0 %\tcurrent epoch: 92.8 %\tloss: 0.000426\ttime estimate: 728.3 min\n",
      "total: 5.0 %\tcurrent epoch: 96.0 %\tloss: 0.000413\ttime estimate: 728.8 min\n",
      "total: 5.0 %\tcurrent epoch: 99.2 %\tloss: 0.000423\ttime estimate: 729.3 min\n",
      "saved checkpoint at: ./ModelCheckpoints/c7o2h10/epoch_14\n",
      "\n",
      "total: 5.0 %\tcurrent epoch: 3.2 %\tloss: 0.00041\ttime estimate: 729.9 min\n",
      "total: 5.0 %\tcurrent epoch: 6.4 %\tloss: 0.000432\ttime estimate: 730.4 min\n",
      "total: 5.0 %\tcurrent epoch: 9.6 %\tloss: 0.000424\ttime estimate: 730.9 min\n",
      "total: 5.0 %\tcurrent epoch: 12.8 %\tloss: 0.000413\ttime estimate: 731.4 min\n",
      "total: 5.1 %\tcurrent epoch: 16.0 %\tloss: 0.00042\ttime estimate: 731.7 min\n",
      "total: 5.1 %\tcurrent epoch: 19.2 %\tloss: 0.000414\ttime estimate: 731.9 min\n",
      "total: 5.1 %\tcurrent epoch: 22.4 %\tloss: 0.000395\ttime estimate: 731.9 min\n",
      "total: 5.1 %\tcurrent epoch: 25.6 %\tloss: 0.000411\ttime estimate: 731.9 min\n",
      "total: 5.1 %\tcurrent epoch: 28.8 %\tloss: 0.000409\ttime estimate: 731.9 min\n",
      "total: 5.1 %\tcurrent epoch: 32.0 %\tloss: 0.000396\ttime estimate: 732.0 min\n",
      "total: 5.1 %\tcurrent epoch: 35.2 %\tloss: 0.000415\ttime estimate: 732.0 min\n",
      "total: 5.1 %\tcurrent epoch: 38.4 %\tloss: 0.000418\ttime estimate: 731.8 min\n",
      "total: 5.1 %\tcurrent epoch: 41.6 %\tloss: 0.000413\ttime estimate: 731.4 min\n",
      "total: 5.1 %\tcurrent epoch: 44.8 %\tloss: 0.0004\ttime estimate: 731.0 min\n",
      "total: 5.2 %\tcurrent epoch: 48.0 %\tloss: 0.00039\ttime estimate: 731.1 min\n",
      "total: 5.2 %\tcurrent epoch: 51.2 %\tloss: 0.000413\ttime estimate: 731.1 min\n",
      "total: 5.2 %\tcurrent epoch: 54.4 %\tloss: 0.00042\ttime estimate: 731.3 min\n",
      "total: 5.2 %\tcurrent epoch: 57.6 %\tloss: 0.000454\ttime estimate: 731.6 min\n",
      "total: 5.2 %\tcurrent epoch: 60.8 %\tloss: 0.000431\ttime estimate: 731.7 min\n",
      "total: 5.2 %\tcurrent epoch: 64.0 %\tloss: 0.000403\ttime estimate: 731.7 min\n",
      "total: 5.2 %\tcurrent epoch: 67.2 %\tloss: 0.000399\ttime estimate: 731.8 min\n",
      "total: 5.2 %\tcurrent epoch: 70.4 %\tloss: 0.000417\ttime estimate: 732.0 min\n",
      "total: 5.2 %\tcurrent epoch: 73.6 %\tloss: 0.000404\ttime estimate: 732.2 min\n",
      "total: 5.3 %\tcurrent epoch: 76.8 %\tloss: 0.000395\ttime estimate: 731.9 min\n",
      "total: 5.3 %\tcurrent epoch: 80.0 %\tloss: 0.000385\ttime estimate: 731.5 min\n",
      "total: 5.3 %\tcurrent epoch: 83.2 %\tloss: 0.000378\ttime estimate: 731.4 min\n",
      "total: 5.3 %\tcurrent epoch: 86.4 %\tloss: 0.000395\ttime estimate: 731.6 min\n",
      "total: 5.3 %\tcurrent epoch: 89.6 %\tloss: 0.000394\ttime estimate: 731.8 min\n",
      "total: 5.3 %\tcurrent epoch: 92.8 %\tloss: 0.000402\ttime estimate: 731.6 min\n",
      "total: 5.3 %\tcurrent epoch: 96.0 %\tloss: 0.000414\ttime estimate: 731.2 min\n",
      "total: 5.3 %\tcurrent epoch: 99.2 %\tloss: 0.000409\ttime estimate: 731.0 min\n",
      "saved checkpoint at: ./ModelCheckpoints/c7o2h10/epoch_15\n",
      "\n",
      "total: 5.3 %\tcurrent epoch: 3.2 %\tloss: 0.000398\ttime estimate: 731.2 min\n",
      "total: 5.4 %\tcurrent epoch: 6.4 %\tloss: 0.000417\ttime estimate: 731.1 min\n",
      "total: 5.4 %\tcurrent epoch: 9.6 %\tloss: 0.000396\ttime estimate: 730.8 min\n",
      "total: 5.4 %\tcurrent epoch: 12.8 %\tloss: 0.000386\ttime estimate: 730.4 min\n",
      "total: 5.4 %\tcurrent epoch: 16.0 %\tloss: 0.00039\ttime estimate: 730.2 min\n",
      "total: 5.4 %\tcurrent epoch: 19.2 %\tloss: 0.00038\ttime estimate: 729.8 min\n",
      "total: 5.4 %\tcurrent epoch: 22.4 %\tloss: 0.000378\ttime estimate: 729.4 min\n"
     ]
    }
   ],
   "source": [
    "if use_cuda:\n",
    "    init_deep_pot = DeepPotential().cuda()\n",
    "else:\n",
    "    init_deep_pot = DeepPotential()\n",
    "init_optim = torch.optim.Adam(init_deep_pot.parameters())\n",
    "deep_pot, optim = train(init_deep_pot, init_optim, X_train, Y_train,\n",
    "                        X_test, Y_test,\n",
    "                        300, 128, (0.01, 0.96, 1.5),\n",
    "                        checkpoint_path=model_path, print_every=100)"
   ]
  },
  {
   "cell_type": "code",
   "execution_count": null,
   "metadata": {},
   "outputs": [],
   "source": [
    "#deep_pot = DeepPotential().cuda()\n",
    "#deep_pot.load_state_dict(torch.load('./ModelCheckpoints/epoch_13'))\n",
    "Y_result = deep_pot.forward(X_test)"
   ]
  },
  {
   "cell_type": "code",
   "execution_count": null,
   "metadata": {},
   "outputs": [],
   "source": [
    "result = backtransform(np.array(Y_result.data.tolist()), Y_min, Y_max)"
   ]
  },
  {
   "cell_type": "code",
   "execution_count": null,
   "metadata": {},
   "outputs": [],
   "source": [
    "test_labels = backtransform(np.array(Y_test), Y_min, Y_max)"
   ]
  },
  {
   "cell_type": "code",
   "execution_count": null,
   "metadata": {},
   "outputs": [],
   "source": [
    "np.mean(np.abs(test_labels - result))"
   ]
  },
  {
   "cell_type": "code",
   "execution_count": null,
   "metadata": {},
   "outputs": [],
   "source": [
    "test_labels[:10]"
   ]
  },
  {
   "cell_type": "code",
   "execution_count": null,
   "metadata": {},
   "outputs": [],
   "source": [
    "result[:10]"
   ]
  },
  {
   "cell_type": "markdown",
   "metadata": {},
   "source": [
    "## Load Model"
   ]
  },
  {
   "cell_type": "code",
   "execution_count": null,
   "metadata": {},
   "outputs": [],
   "source": [
    "test_model = DeepPotential().cuda()\n",
    "test_model.load_state_dict(torch.load('ModelCheckpoints/c7o2h10/epoch_280'))"
   ]
  },
  {
   "cell_type": "code",
   "execution_count": null,
   "metadata": {},
   "outputs": [],
   "source": [
    "test_result = np.squeeze(backtransform(test_model(X_test), Y_min, Y_max).detach().cpu().numpy())"
   ]
  },
  {
   "cell_type": "code",
   "execution_count": null,
   "metadata": {},
   "outputs": [],
   "source": [
    "val_result = np.squeeze(backtransform(Y_test, Y_min, Y_max).detach().cpu().numpy())"
   ]
  },
  {
   "cell_type": "code",
   "execution_count": null,
   "metadata": {},
   "outputs": [],
   "source": [
    "np.mean(np.abs(test_result - val_result))"
   ]
  },
  {
   "cell_type": "code",
   "execution_count": null,
   "metadata": {},
   "outputs": [],
   "source": [
    "val_result[:10]"
   ]
  },
  {
   "cell_type": "markdown",
   "metadata": {},
   "source": [
    "## Test the model\n",
    "### Mean Absolute Error\n",
    "The desired accuracy is about 0.04 eV"
   ]
  },
  {
   "cell_type": "code",
   "execution_count": null,
   "metadata": {},
   "outputs": [],
   "source": [
    "mae = np.abs(deep_pot.forward(X_data[-500:]).data.numpy().reshape(500) - Y_data[-500:].data.numpy().reshape(500)).mean()\n",
    "print('The nural network reaches a mean absolute error of {} eV'.format(mae))"
   ]
  },
  {
   "cell_type": "markdown",
   "metadata": {},
   "source": [
    "### Small test sample"
   ]
  },
  {
   "cell_type": "code",
   "execution_count": null,
   "metadata": {},
   "outputs": [],
   "source": [
    "deep_pot.forward(X_data[-10:])"
   ]
  },
  {
   "cell_type": "code",
   "execution_count": null,
   "metadata": {},
   "outputs": [],
   "source": [
    "Y_data[-10:]"
   ]
  },
  {
   "cell_type": "markdown",
   "metadata": {},
   "source": [
    "## Save the Model Parameters"
   ]
  },
  {
   "cell_type": "code",
   "execution_count": null,
   "metadata": {},
   "outputs": [],
   "source": [
    "torch.save(deep_pot.state_dict(), model_path)"
   ]
  },
  {
   "cell_type": "markdown",
   "metadata": {},
   "source": [
    "## Continue learning"
   ]
  },
  {
   "cell_type": "code",
   "execution_count": null,
   "metadata": {},
   "outputs": [],
   "source": [
    "deep_pot = DeepPotential()\n",
    "deep_pot.load_state_dict(torch.load(model_path))\n",
    "optim = torch.optim.Adam(deep_pot.parameters(), lr=1e-2)"
   ]
  },
  {
   "cell_type": "code",
   "execution_count": null,
   "metadata": {},
   "outputs": [],
   "source": [
    "deep_pot, optim = train(deep_pot, optim, X_data, Y_data, 1000, 512, (0.001, 0.96, 1.5), use_for_train=0.9, print_every=10)"
   ]
  }
 ],
 "metadata": {
  "kernelspec": {
   "display_name": "Python 3",
   "language": "python",
   "name": "python3"
  },
  "language_info": {
   "codemirror_mode": {
    "name": "ipython",
    "version": 3
   },
   "file_extension": ".py",
   "mimetype": "text/x-python",
   "name": "python",
   "nbconvert_exporter": "python",
   "pygments_lexer": "ipython3",
   "version": "3.6.5"
  }
 },
 "nbformat": 4,
 "nbformat_minor": 2
}
