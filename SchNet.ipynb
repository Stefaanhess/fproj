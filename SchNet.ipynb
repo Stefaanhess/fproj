{
 "cells": [
  {
   "cell_type": "markdown",
   "metadata": {},
   "source": [
    "# Imports and Settings"
   ]
  },
  {
   "cell_type": "code",
   "execution_count": 1,
   "metadata": {},
   "outputs": [],
   "source": [
    "import numpy as np\n",
    "import torch\n",
    "import torch.nn as nn\n",
    "from Code.Models.SchNet.schnet import SchNet\n",
    "from Code.Train.trainer import Trainer\n",
    "from Code.Tools.Network.lr_scheduler import AbcExponentialLR\n",
    "import matplotlib\n",
    "%matplotlib inline"
   ]
  },
  {
   "cell_type": "code",
   "execution_count": 2,
   "metadata": {},
   "outputs": [],
   "source": [
    "debug = False\n",
    "use_cuda = True"
   ]
  },
  {
   "cell_type": "code",
   "execution_count": 3,
   "metadata": {},
   "outputs": [],
   "source": [
    "data_path_train = './Dataset/SchNet/iso17_train_X.npy'\n",
    "label_path_train = './Dataset/SchNet/iso17_train_Y.npy'\n",
    "data_path_within = './Dataset/SchNet/iso17_within_X.npy'\n",
    "label_path_within = './Dataset/SchNet/iso17_within_Y.npy'\n",
    "comment = 'SchNet_5_cutoff'\n",
    "eval_path = './evaluation/SchNet'"
   ]
  },
  {
   "cell_type": "markdown",
   "metadata": {},
   "source": [
    "# Load Data"
   ]
  },
  {
   "cell_type": "code",
   "execution_count": 4,
   "metadata": {},
   "outputs": [],
   "source": [
    "X_train = np.load(data_path_train)\n",
    "Y_train = np.load(label_path_train) * -1\n",
    "X_within = np.load(data_path_within)\n",
    "Y_within = np.load(label_path_within) * -1"
   ]
  },
  {
   "cell_type": "code",
   "execution_count": 5,
   "metadata": {},
   "outputs": [
    {
     "data": {
      "text/plain": [
       "(404000, 19, 19)"
      ]
     },
     "execution_count": 5,
     "metadata": {},
     "output_type": "execute_result"
    }
   ],
   "source": [
    "X_train.shape"
   ]
  },
  {
   "cell_type": "code",
   "execution_count": 6,
   "metadata": {},
   "outputs": [],
   "source": [
    "if debug:\n",
    "    n_data = 4000\n",
    "    X_train = X_train[:n_data]\n",
    "    Y_train = Y_train[:n_data]\n",
    "    X_within = X_within[:n_data]\n",
    "    Y_within = Y_within[:n_data]"
   ]
  },
  {
   "cell_type": "markdown",
   "metadata": {},
   "source": [
    "# Initialize Network"
   ]
  },
  {
   "cell_type": "code",
   "execution_count": 7,
   "metadata": {},
   "outputs": [],
   "source": [
    "optimizer = torch.optim.Adam\n",
    "loss_fn = torch.nn.MSELoss\n",
    "lr_scheduler = AbcExponentialLR\n",
    "lr_schedule = (0.001, 0.96, 1)\n",
    "schnet = SchNet()\n",
    "trainer = Trainer(model=schnet, optimizer=optimizer, loss_fn=loss_fn, eval_path=eval_path,\n",
    "                  comment=comment, lr_scheduler=lr_scheduler, abc_schedule=lr_schedule,\n",
    "                  use_cuda=use_cuda, lr_step='s100000', single_test_batch=True)"
   ]
  },
  {
   "cell_type": "code",
   "execution_count": 8,
   "metadata": {},
   "outputs": [],
   "source": [
    "trainer.create_dataloaders(X_train, Y_train, X_within, Y_within, 32, num_workers=2)"
   ]
  },
  {
   "cell_type": "markdown",
   "metadata": {},
   "source": [
    "# Train"
   ]
  },
  {
   "cell_type": "code",
   "execution_count": 9,
   "metadata": {},
   "outputs": [
    {
     "name": "stdout",
     "output_type": "stream",
     "text": [
      "epoch: 1\tprogress: 0.0\ttime estimate: 2464.19\ttrain loss: 0.013531\ttest loss: 0.000906\n",
      "epoch: 2\tprogress: 0.01\ttime estimate: 2447.62\ttrain loss: 0.001434\ttest loss: 0.001336\n",
      "epoch: 3\tprogress: 0.01\ttime estimate: 2437.82\ttrain loss: 0.000988\ttest loss: 0.000502\n",
      "epoch: 4\tprogress: 0.01\ttime estimate: 2427.77\ttrain loss: 0.000811\ttest loss: 0.001182\n",
      "epoch: 5\tprogress: 0.02\ttime estimate: 2418.28\ttrain loss: 0.00071\ttest loss: 0.000532\n",
      "epoch: 6\tprogress: 0.02\ttime estimate: 2409.29\ttrain loss: 0.000643\ttest loss: 0.000606\n",
      "epoch: 7\tprogress: 0.02\ttime estimate: 2400.46\ttrain loss: 0.000585\ttest loss: 0.000487\n",
      "epoch: 8\tprogress: 0.03\ttime estimate: 2391.92\ttrain loss: 0.000543\ttest loss: 0.000665\n",
      "epoch: 9\tprogress: 0.03\ttime estimate: 2383.42\ttrain loss: 0.000516\ttest loss: 0.000629\n",
      "epoch: 10\tprogress: 0.03\ttime estimate: 2375.2\ttrain loss: 0.000487\ttest loss: 0.000304\n",
      "epoch: 11\tprogress: 0.04\ttime estimate: 2366.97\ttrain loss: 0.000465\ttest loss: 0.00032\n",
      "epoch: 12\tprogress: 0.04\ttime estimate: 2358.86\ttrain loss: 0.000448\ttest loss: 0.000432\n",
      "epoch: 13\tprogress: 0.04\ttime estimate: 2350.58\ttrain loss: 0.00043\ttest loss: 0.00037\n",
      "epoch: 14\tprogress: 0.05\ttime estimate: 2342.49\ttrain loss: 0.000418\ttest loss: 0.000339\n",
      "epoch: 15\tprogress: 0.05\ttime estimate: 2334.38\ttrain loss: 0.000403\ttest loss: 0.000578\n",
      "epoch: 16\tprogress: 0.05\ttime estimate: 2326.22\ttrain loss: 0.000391\ttest loss: 0.000447\n",
      "epoch: 17\tprogress: 0.06\ttime estimate: 2318.07\ttrain loss: 0.000382\ttest loss: 0.000274\n",
      "epoch: 18\tprogress: 0.06\ttime estimate: 2309.82\ttrain loss: 0.000371\ttest loss: 0.000394\n",
      "epoch: 19\tprogress: 0.06\ttime estimate: 2301.67\ttrain loss: 0.000361\ttest loss: 0.00031\n",
      "epoch: 20\tprogress: 0.07\ttime estimate: 2293.54\ttrain loss: 0.000353\ttest loss: 0.000296\n",
      "epoch: 21\tprogress: 0.07\ttime estimate: 2285.38\ttrain loss: 0.000345\ttest loss: 0.000304\n",
      "epoch: 22\tprogress: 0.07\ttime estimate: 2277.2\ttrain loss: 0.000336\ttest loss: 0.000348\n",
      "epoch: 23\tprogress: 0.08\ttime estimate: 2269.05\ttrain loss: 0.00033\ttest loss: 0.000322\n",
      "epoch: 24\tprogress: 0.08\ttime estimate: 2260.91\ttrain loss: 0.000322\ttest loss: 0.000601\n",
      "epoch: 25\tprogress: 0.08\ttime estimate: 2252.78\ttrain loss: 0.000316\ttest loss: 0.000354\n",
      "epoch: 26\tprogress: 0.09\ttime estimate: 2244.66\ttrain loss: 0.00031\ttest loss: 0.000286\n",
      "epoch: 27\tprogress: 0.09\ttime estimate: 2236.55\ttrain loss: 0.000304\ttest loss: 0.000329\n",
      "epoch: 28\tprogress: 0.09\ttime estimate: 2228.43\ttrain loss: 0.0003\ttest loss: 0.00031\n",
      "epoch: 29\tprogress: 0.1\ttime estimate: 2220.27\ttrain loss: 0.000294\ttest loss: 0.000271\n",
      "epoch: 30\tprogress: 0.1\ttime estimate: 2212.17\ttrain loss: 0.000288\ttest loss: 0.000295\n",
      "epoch: 31\tprogress: 0.1\ttime estimate: 2204.1\ttrain loss: 0.000284\ttest loss: 0.000344\n",
      "epoch: 32\tprogress: 0.11\ttime estimate: 2195.96\ttrain loss: 0.000279\ttest loss: 0.000286\n",
      "epoch: 33\tprogress: 0.11\ttime estimate: 2187.81\ttrain loss: 0.000274\ttest loss: 0.000258\n",
      "epoch: 34\tprogress: 0.11\ttime estimate: 2179.71\ttrain loss: 0.000271\ttest loss: 0.000416\n",
      "epoch: 35\tprogress: 0.12\ttime estimate: 2171.5\ttrain loss: 0.000267\ttest loss: 0.000324\n",
      "epoch: 36\tprogress: 0.12\ttime estimate: 2163.38\ttrain loss: 0.000262\ttest loss: 0.000268\n",
      "epoch: 37\tprogress: 0.12\ttime estimate: 2155.25\ttrain loss: 0.000259\ttest loss: 0.000288\n",
      "epoch: 38\tprogress: 0.13\ttime estimate: 2147.13\ttrain loss: 0.000256\ttest loss: 0.000305\n",
      "epoch: 39\tprogress: 0.13\ttime estimate: 2138.97\ttrain loss: 0.000253\ttest loss: 0.000317\n",
      "epoch: 40\tprogress: 0.13\ttime estimate: 2130.82\ttrain loss: 0.000249\ttest loss: 0.00028\n",
      "epoch: 41\tprogress: 0.14\ttime estimate: 2122.63\ttrain loss: 0.000246\ttest loss: 0.00027\n",
      "epoch: 42\tprogress: 0.14\ttime estimate: 2114.52\ttrain loss: 0.000242\ttest loss: 0.000273\n",
      "epoch: 43\tprogress: 0.14\ttime estimate: 2106.36\ttrain loss: 0.000239\ttest loss: 0.000268\n",
      "epoch: 44\tprogress: 0.15\ttime estimate: 2098.16\ttrain loss: 0.000236\ttest loss: 0.000302\n",
      "epoch: 45\tprogress: 0.15\ttime estimate: 2089.97\ttrain loss: 0.000234\ttest loss: 0.000299\n",
      "epoch: 46\tprogress: 0.15\ttime estimate: 2081.83\ttrain loss: 0.000231\ttest loss: 0.000251\n",
      "epoch: 47\tprogress: 0.16\ttime estimate: 2073.67\ttrain loss: 0.000228\ttest loss: 0.000243\n",
      "epoch: 48\tprogress: 0.16\ttime estimate: 2065.49\ttrain loss: 0.000226\ttest loss: 0.000315\n",
      "epoch: 49\tprogress: 0.16\ttime estimate: 2057.36\ttrain loss: 0.000224\ttest loss: 0.000277\n",
      "epoch: 50\tprogress: 0.17\ttime estimate: 2049.19\ttrain loss: 0.000222\ttest loss: 0.000277\n",
      "epoch: 51\tprogress: 0.17\ttime estimate: 2041.01\ttrain loss: 0.000219\ttest loss: 0.000241\n",
      "epoch: 52\tprogress: 0.17\ttime estimate: 2032.84\ttrain loss: 0.000217\ttest loss: 0.000235\n",
      "epoch: 53\tprogress: 0.18\ttime estimate: 2024.66\ttrain loss: 0.000215\ttest loss: 0.00023\n",
      "epoch: 54\tprogress: 0.18\ttime estimate: 2016.49\ttrain loss: 0.000213\ttest loss: 0.000249\n",
      "epoch: 55\tprogress: 0.18\ttime estimate: 2008.3\ttrain loss: 0.000212\ttest loss: 0.000206\n",
      "epoch: 56\tprogress: 0.19\ttime estimate: 2000.11\ttrain loss: 0.00021\ttest loss: 0.000221\n",
      "epoch: 57\tprogress: 0.19\ttime estimate: 1991.93\ttrain loss: 0.000208\ttest loss: 0.000186\n",
      "epoch: 58\tprogress: 0.19\ttime estimate: 1983.76\ttrain loss: 0.000207\ttest loss: 0.000235\n",
      "epoch: 59\tprogress: 0.2\ttime estimate: 1975.57\ttrain loss: 0.000205\ttest loss: 0.000234\n",
      "epoch: 60\tprogress: 0.2\ttime estimate: 1967.39\ttrain loss: 0.000204\ttest loss: 0.000337\n",
      "epoch: 61\tprogress: 0.2\ttime estimate: 1959.2\ttrain loss: 0.000202\ttest loss: 0.000241\n",
      "epoch: 62\tprogress: 0.21\ttime estimate: 1951.03\ttrain loss: 0.000201\ttest loss: 0.000212\n",
      "epoch: 63\tprogress: 0.21\ttime estimate: 1942.88\ttrain loss: 0.000199\ttest loss: 0.000244\n",
      "epoch: 64\tprogress: 0.21\ttime estimate: 1934.69\ttrain loss: 0.000198\ttest loss: 0.000247\n",
      "epoch: 65\tprogress: 0.22\ttime estimate: 1926.53\ttrain loss: 0.000197\ttest loss: 0.000216\n",
      "epoch: 66\tprogress: 0.22\ttime estimate: 1918.34\ttrain loss: 0.000195\ttest loss: 0.000243\n",
      "epoch: 67\tprogress: 0.22\ttime estimate: 1910.18\ttrain loss: 0.000194\ttest loss: 0.000216\n",
      "epoch: 68\tprogress: 0.23\ttime estimate: 1902.0\ttrain loss: 0.000193\ttest loss: 0.000206\n",
      "epoch: 69\tprogress: 0.23\ttime estimate: 1893.8\ttrain loss: 0.000192\ttest loss: 0.000209\n",
      "epoch: 70\tprogress: 0.23\ttime estimate: 1885.62\ttrain loss: 0.000191\ttest loss: 0.000208\n",
      "epoch: 71\tprogress: 0.24\ttime estimate: 1877.43\ttrain loss: 0.00019\ttest loss: 0.000198\n",
      "epoch: 72\tprogress: 0.24\ttime estimate: 1869.23\ttrain loss: 0.000189\ttest loss: 0.000196\n",
      "epoch: 73\tprogress: 0.24\ttime estimate: 1861.06\ttrain loss: 0.000188\ttest loss: 0.000191\n",
      "epoch: 74\tprogress: 0.25\ttime estimate: 1852.97\ttrain loss: 0.000187\ttest loss: 0.000188\n",
      "epoch: 75\tprogress: 0.25\ttime estimate: 1844.82\ttrain loss: 0.000186\ttest loss: 0.00019\n",
      "epoch: 76\tprogress: 0.25\ttime estimate: 1836.62\ttrain loss: 0.000186\ttest loss: 0.000207\n",
      "epoch: 77\tprogress: 0.26\ttime estimate: 1828.43\ttrain loss: 0.000185\ttest loss: 0.000201\n",
      "epoch: 78\tprogress: 0.26\ttime estimate: 1820.25\ttrain loss: 0.000184\ttest loss: 0.000205\n",
      "epoch: 79\tprogress: 0.26\ttime estimate: 1812.06\ttrain loss: 0.000184\ttest loss: 0.00019\n",
      "epoch: 80\tprogress: 0.27\ttime estimate: 1803.87\ttrain loss: 0.000183\ttest loss: 0.000202\n",
      "epoch: 81\tprogress: 0.27\ttime estimate: 1795.67\ttrain loss: 0.000182\ttest loss: 0.00019\n",
      "epoch: 82\tprogress: 0.27\ttime estimate: 1787.48\ttrain loss: 0.000181\ttest loss: 0.000204\n",
      "epoch: 83\tprogress: 0.28\ttime estimate: 1779.29\ttrain loss: 0.000181\ttest loss: 0.000189\n",
      "epoch: 84\tprogress: 0.28\ttime estimate: 1771.1\ttrain loss: 0.00018\ttest loss: 0.000182\n",
      "epoch: 85\tprogress: 0.28\ttime estimate: 1762.93\ttrain loss: 0.00018\ttest loss: 0.000181\n",
      "epoch: 86\tprogress: 0.29\ttime estimate: 1754.74\ttrain loss: 0.000179\ttest loss: 0.000186\n",
      "epoch: 87\tprogress: 0.29\ttime estimate: 1746.53\ttrain loss: 0.000178\ttest loss: 0.000183\n",
      "epoch: 88\tprogress: 0.29\ttime estimate: 1738.33\ttrain loss: 0.000178\ttest loss: 0.00017\n",
      "epoch: 89\tprogress: 0.3\ttime estimate: 1730.13\ttrain loss: 0.000177\ttest loss: 0.000172\n",
      "epoch: 90\tprogress: 0.3\ttime estimate: 1721.94\ttrain loss: 0.000177\ttest loss: 0.000169\n",
      "epoch: 91\tprogress: 0.3\ttime estimate: 1713.74\ttrain loss: 0.000176\ttest loss: 0.000171\n",
      "epoch: 92\tprogress: 0.31\ttime estimate: 1705.55\ttrain loss: 0.000176\ttest loss: 0.000178\n",
      "epoch: 93\tprogress: 0.31\ttime estimate: 1697.35\ttrain loss: 0.000175\ttest loss: 0.000179\n"
     ]
    },
    {
     "name": "stdout",
     "output_type": "stream",
     "text": [
      "epoch: 94\tprogress: 0.31\ttime estimate: 1689.15\ttrain loss: 0.000175\ttest loss: 0.000182\n",
      "epoch: 95\tprogress: 0.32\ttime estimate: 1680.96\ttrain loss: 0.000174\ttest loss: 0.000169\n",
      "epoch: 96\tprogress: 0.32\ttime estimate: 1672.91\ttrain loss: 0.000174\ttest loss: 0.000173\n",
      "epoch: 97\tprogress: 0.32\ttime estimate: 1664.75\ttrain loss: 0.000174\ttest loss: 0.000174\n",
      "epoch: 98\tprogress: 0.33\ttime estimate: 1656.57\ttrain loss: 0.000173\ttest loss: 0.000169\n",
      "epoch: 99\tprogress: 0.33\ttime estimate: 1648.42\ttrain loss: 0.000173\ttest loss: 0.000162\n",
      "epoch: 100\tprogress: 0.33\ttime estimate: 1640.24\ttrain loss: 0.000173\ttest loss: 0.000174\n",
      "epoch: 101\tprogress: 0.34\ttime estimate: 1632.06\ttrain loss: 0.000172\ttest loss: 0.000176\n",
      "epoch: 102\tprogress: 0.34\ttime estimate: 1623.86\ttrain loss: 0.000172\ttest loss: 0.000169\n",
      "epoch: 103\tprogress: 0.34\ttime estimate: 1615.66\ttrain loss: 0.000171\ttest loss: 0.000171\n",
      "epoch: 104\tprogress: 0.35\ttime estimate: 1607.48\ttrain loss: 0.000171\ttest loss: 0.000168\n",
      "epoch: 105\tprogress: 0.35\ttime estimate: 1599.28\ttrain loss: 0.000171\ttest loss: 0.000167\n",
      "epoch: 106\tprogress: 0.35\ttime estimate: 1591.09\ttrain loss: 0.000171\ttest loss: 0.000165\n",
      "epoch: 107\tprogress: 0.36\ttime estimate: 1582.88\ttrain loss: 0.00017\ttest loss: 0.000173\n",
      "epoch: 108\tprogress: 0.36\ttime estimate: 1574.68\ttrain loss: 0.00017\ttest loss: 0.000174\n",
      "epoch: 109\tprogress: 0.36\ttime estimate: 1566.48\ttrain loss: 0.00017\ttest loss: 0.000167\n",
      "epoch: 110\tprogress: 0.37\ttime estimate: 1558.28\ttrain loss: 0.00017\ttest loss: 0.000171\n",
      "epoch: 111\tprogress: 0.37\ttime estimate: 1550.09\ttrain loss: 0.000169\ttest loss: 0.000169\n",
      "epoch: 112\tprogress: 0.37\ttime estimate: 1541.9\ttrain loss: 0.000169\ttest loss: 0.000169\n",
      "epoch: 113\tprogress: 0.38\ttime estimate: 1533.7\ttrain loss: 0.000169\ttest loss: 0.00016\n",
      "epoch: 114\tprogress: 0.38\ttime estimate: 1525.49\ttrain loss: 0.000169\ttest loss: 0.000167\n",
      "epoch: 115\tprogress: 0.38\ttime estimate: 1517.29\ttrain loss: 0.000169\ttest loss: 0.000165\n",
      "epoch: 116\tprogress: 0.39\ttime estimate: 1509.08\ttrain loss: 0.000168\ttest loss: 0.000161\n",
      "epoch: 117\tprogress: 0.39\ttime estimate: 1500.89\ttrain loss: 0.000168\ttest loss: 0.000162\n",
      "epoch: 118\tprogress: 0.39\ttime estimate: 1492.68\ttrain loss: 0.000168\ttest loss: 0.000161\n",
      "epoch: 119\tprogress: 0.4\ttime estimate: 1484.47\ttrain loss: 0.000168\ttest loss: 0.000173\n",
      "epoch: 120\tprogress: 0.4\ttime estimate: 1476.31\ttrain loss: 0.000168\ttest loss: 0.000163\n",
      "epoch: 121\tprogress: 0.4\ttime estimate: 1468.11\ttrain loss: 0.000167\ttest loss: 0.000165\n",
      "epoch: 122\tprogress: 0.41\ttime estimate: 1459.91\ttrain loss: 0.000167\ttest loss: 0.000169\n",
      "epoch: 123\tprogress: 0.41\ttime estimate: 1451.71\ttrain loss: 0.000167\ttest loss: 0.000163\n",
      "epoch: 124\tprogress: 0.41\ttime estimate: 1443.51\ttrain loss: 0.000167\ttest loss: 0.000163\n",
      "epoch: 125\tprogress: 0.42\ttime estimate: 1435.31\ttrain loss: 0.000167\ttest loss: 0.00016\n",
      "epoch: 126\tprogress: 0.42\ttime estimate: 1427.1\ttrain loss: 0.000167\ttest loss: 0.000159\n",
      "epoch: 127\tprogress: 0.42\ttime estimate: 1418.9\ttrain loss: 0.000167\ttest loss: 0.000162\n",
      "epoch: 128\tprogress: 0.43\ttime estimate: 1410.69\ttrain loss: 0.000166\ttest loss: 0.000165\n",
      "epoch: 129\tprogress: 0.43\ttime estimate: 1402.49\ttrain loss: 0.000166\ttest loss: 0.000161\n",
      "epoch: 130\tprogress: 0.43\ttime estimate: 1394.29\ttrain loss: 0.000166\ttest loss: 0.000166\n",
      "epoch: 131\tprogress: 0.44\ttime estimate: 1386.09\ttrain loss: 0.000166\ttest loss: 0.000162\n",
      "epoch: 132\tprogress: 0.44\ttime estimate: 1377.9\ttrain loss: 0.000166\ttest loss: 0.000161\n",
      "epoch: 133\tprogress: 0.44\ttime estimate: 1369.7\ttrain loss: 0.000166\ttest loss: 0.000164\n",
      "epoch: 134\tprogress: 0.45\ttime estimate: 1361.51\ttrain loss: 0.000166\ttest loss: 0.000164\n",
      "epoch: 135\tprogress: 0.45\ttime estimate: 1353.31\ttrain loss: 0.000166\ttest loss: 0.000159\n",
      "epoch: 136\tprogress: 0.45\ttime estimate: 1345.11\ttrain loss: 0.000166\ttest loss: 0.000162\n",
      "epoch: 137\tprogress: 0.46\ttime estimate: 1336.9\ttrain loss: 0.000165\ttest loss: 0.000159\n",
      "epoch: 138\tprogress: 0.46\ttime estimate: 1328.7\ttrain loss: 0.000165\ttest loss: 0.000163\n",
      "epoch: 139\tprogress: 0.46\ttime estimate: 1320.5\ttrain loss: 0.000165\ttest loss: 0.000158\n",
      "epoch: 140\tprogress: 0.47\ttime estimate: 1312.3\ttrain loss: 0.000165\ttest loss: 0.000161\n",
      "epoch: 141\tprogress: 0.47\ttime estimate: 1304.1\ttrain loss: 0.000165\ttest loss: 0.00016\n",
      "epoch: 142\tprogress: 0.47\ttime estimate: 1295.9\ttrain loss: 0.000165\ttest loss: 0.00016\n",
      "epoch: 143\tprogress: 0.48\ttime estimate: 1287.71\ttrain loss: 0.000165\ttest loss: 0.000156\n",
      "epoch: 144\tprogress: 0.48\ttime estimate: 1279.5\ttrain loss: 0.000165\ttest loss: 0.00016\n",
      "epoch: 145\tprogress: 0.48\ttime estimate: 1271.3\ttrain loss: 0.000165\ttest loss: 0.00016\n",
      "epoch: 146\tprogress: 0.49\ttime estimate: 1263.1\ttrain loss: 0.000165\ttest loss: 0.000158\n",
      "epoch: 147\tprogress: 0.49\ttime estimate: 1254.9\ttrain loss: 0.000165\ttest loss: 0.00016\n",
      "epoch: 148\tprogress: 0.49\ttime estimate: 1246.7\ttrain loss: 0.000165\ttest loss: 0.000161\n",
      "epoch: 149\tprogress: 0.5\ttime estimate: 1238.5\ttrain loss: 0.000165\ttest loss: 0.000162\n",
      "epoch: 150\tprogress: 0.5\ttime estimate: 1230.3\ttrain loss: 0.000165\ttest loss: 0.00016\n",
      "epoch: 151\tprogress: 0.5\ttime estimate: 1222.09\ttrain loss: 0.000164\ttest loss: 0.00016\n",
      "epoch: 152\tprogress: 0.51\ttime estimate: 1213.89\ttrain loss: 0.000164\ttest loss: 0.00016\n",
      "epoch: 153\tprogress: 0.51\ttime estimate: 1205.69\ttrain loss: 0.000164\ttest loss: 0.00016\n",
      "epoch: 154\tprogress: 0.51\ttime estimate: 1197.5\ttrain loss: 0.000164\ttest loss: 0.000161\n",
      "epoch: 155\tprogress: 0.52\ttime estimate: 1189.3\ttrain loss: 0.000164\ttest loss: 0.000158\n",
      "epoch: 156\tprogress: 0.52\ttime estimate: 1181.1\ttrain loss: 0.000164\ttest loss: 0.000155\n",
      "epoch: 157\tprogress: 0.52\ttime estimate: 1172.89\ttrain loss: 0.000164\ttest loss: 0.000158\n",
      "epoch: 158\tprogress: 0.53\ttime estimate: 1164.7\ttrain loss: 0.000164\ttest loss: 0.000159\n",
      "epoch: 159\tprogress: 0.53\ttime estimate: 1156.49\ttrain loss: 0.000164\ttest loss: 0.00016\n",
      "epoch: 160\tprogress: 0.53\ttime estimate: 1148.29\ttrain loss: 0.000164\ttest loss: 0.00016\n",
      "epoch: 161\tprogress: 0.54\ttime estimate: 1140.09\ttrain loss: 0.000164\ttest loss: 0.000158\n",
      "epoch: 162\tprogress: 0.54\ttime estimate: 1131.9\ttrain loss: 0.000164\ttest loss: 0.000157\n",
      "epoch: 163\tprogress: 0.54\ttime estimate: 1123.7\ttrain loss: 0.000164\ttest loss: 0.00016\n",
      "epoch: 164\tprogress: 0.55\ttime estimate: 1115.5\ttrain loss: 0.000164\ttest loss: 0.000158\n",
      "epoch: 165\tprogress: 0.55\ttime estimate: 1107.3\ttrain loss: 0.000164\ttest loss: 0.000156\n",
      "epoch: 166\tprogress: 0.55\ttime estimate: 1099.1\ttrain loss: 0.000164\ttest loss: 0.000158\n",
      "epoch: 167\tprogress: 0.56\ttime estimate: 1090.89\ttrain loss: 0.000164\ttest loss: 0.000159\n",
      "epoch: 168\tprogress: 0.56\ttime estimate: 1082.69\ttrain loss: 0.000164\ttest loss: 0.000157\n",
      "epoch: 169\tprogress: 0.56\ttime estimate: 1074.49\ttrain loss: 0.000164\ttest loss: 0.000159\n",
      "epoch: 170\tprogress: 0.57\ttime estimate: 1066.28\ttrain loss: 0.000164\ttest loss: 0.000158\n",
      "epoch: 171\tprogress: 0.57\ttime estimate: 1058.09\ttrain loss: 0.000164\ttest loss: 0.000158\n",
      "epoch: 172\tprogress: 0.57\ttime estimate: 1049.9\ttrain loss: 0.000164\ttest loss: 0.000158\n",
      "epoch: 173\tprogress: 0.58\ttime estimate: 1041.69\ttrain loss: 0.000164\ttest loss: 0.000158\n",
      "epoch: 174\tprogress: 0.58\ttime estimate: 1033.49\ttrain loss: 0.000164\ttest loss: 0.000159\n",
      "epoch: 175\tprogress: 0.58\ttime estimate: 1025.29\ttrain loss: 0.000164\ttest loss: 0.000157\n",
      "epoch: 176\tprogress: 0.59\ttime estimate: 1017.09\ttrain loss: 0.000164\ttest loss: 0.000159\n",
      "epoch: 177\tprogress: 0.59\ttime estimate: 1008.89\ttrain loss: 0.000164\ttest loss: 0.000158\n",
      "epoch: 178\tprogress: 0.59\ttime estimate: 1000.68\ttrain loss: 0.000164\ttest loss: 0.000157\n",
      "epoch: 179\tprogress: 0.6\ttime estimate: 992.48\ttrain loss: 0.000164\ttest loss: 0.000157\n"
     ]
    },
    {
     "name": "stderr",
     "output_type": "stream",
     "text": [
      "Process Process-718:\n",
      "Process Process-717:\n"
     ]
    },
    {
     "ename": "KeyboardInterrupt",
     "evalue": "",
     "output_type": "error",
     "traceback": [
      "\u001b[0;31m---------------------------------------------------------------------------\u001b[0m",
      "\u001b[0;31mKeyboardInterrupt\u001b[0m                         Traceback (most recent call last)",
      "\u001b[0;32m<ipython-input-9-0cc38cf19082>\u001b[0m in \u001b[0;36m<module>\u001b[0;34m()\u001b[0m\n\u001b[0;32m----> 1\u001b[0;31m \u001b[0mtrainer\u001b[0m\u001b[0;34m.\u001b[0m\u001b[0mfit\u001b[0m\u001b[0;34m(\u001b[0m\u001b[0;36m300\u001b[0m\u001b[0;34m)\u001b[0m\u001b[0;34m\u001b[0m\u001b[0m\n\u001b[0m",
      "\u001b[0;32m~/Documents/fproj/Code/Train/trainer.py\u001b[0m in \u001b[0;36mfit\u001b[0;34m(self, n_epochs)\u001b[0m\n\u001b[1;32m    114\u001b[0m         \u001b[0;32mwhile\u001b[0m \u001b[0mself\u001b[0m\u001b[0;34m.\u001b[0m\u001b[0mepoch\u001b[0m \u001b[0;34m<\u001b[0m \u001b[0mn_epochs\u001b[0m\u001b[0;34m:\u001b[0m\u001b[0;34m\u001b[0m\u001b[0m\n\u001b[1;32m    115\u001b[0m             self.train_losses.append(\n\u001b[0;32m--> 116\u001b[0;31m                 self.train_step(self.train_loader))\n\u001b[0m\u001b[1;32m    117\u001b[0m             \u001b[0;32mif\u001b[0m \u001b[0mself\u001b[0m\u001b[0;34m.\u001b[0m\u001b[0mtest_loader\u001b[0m\u001b[0;34m:\u001b[0m\u001b[0;34m\u001b[0m\u001b[0m\n\u001b[1;32m    118\u001b[0m                 \u001b[0;32mwith\u001b[0m \u001b[0mno_grad\u001b[0m\u001b[0;34m(\u001b[0m\u001b[0;34m)\u001b[0m\u001b[0;34m:\u001b[0m\u001b[0;34m\u001b[0m\u001b[0m\n",
      "\u001b[0;32m~/Documents/fproj/Code/Train/trainer.py\u001b[0m in \u001b[0;36mtrain_step\u001b[0;34m(self, loader)\u001b[0m\n\u001b[1;32m    144\u001b[0m             \u001b[0mloss\u001b[0m \u001b[0;34m=\u001b[0m \u001b[0mself\u001b[0m\u001b[0;34m.\u001b[0m\u001b[0mforward_and_apply_loss_function\u001b[0m\u001b[0;34m(\u001b[0m\u001b[0mx\u001b[0m\u001b[0;34m,\u001b[0m \u001b[0my\u001b[0m\u001b[0;34m)\u001b[0m\u001b[0;34m\u001b[0m\u001b[0m\n\u001b[1;32m    145\u001b[0m             \u001b[0mloss\u001b[0m\u001b[0;34m.\u001b[0m\u001b[0mbackward\u001b[0m\u001b[0;34m(\u001b[0m\u001b[0;34m)\u001b[0m\u001b[0;34m\u001b[0m\u001b[0m\n\u001b[0;32m--> 146\u001b[0;31m             \u001b[0mtrain_loss\u001b[0m \u001b[0;34m+=\u001b[0m \u001b[0mloss\u001b[0m\u001b[0;34m.\u001b[0m\u001b[0mitem\u001b[0m\u001b[0;34m(\u001b[0m\u001b[0;34m)\u001b[0m\u001b[0;34m\u001b[0m\u001b[0m\n\u001b[0m\u001b[1;32m    147\u001b[0m             \u001b[0mself\u001b[0m\u001b[0;34m.\u001b[0m\u001b[0moptim\u001b[0m\u001b[0;34m.\u001b[0m\u001b[0mstep\u001b[0m\u001b[0;34m(\u001b[0m\u001b[0;34m)\u001b[0m\u001b[0;34m\u001b[0m\u001b[0m\n\u001b[1;32m    148\u001b[0m             \u001b[0mself\u001b[0m\u001b[0;34m.\u001b[0m\u001b[0mn_steps\u001b[0m \u001b[0;34m+=\u001b[0m \u001b[0;36m1\u001b[0m\u001b[0;34m\u001b[0m\u001b[0m\n",
      "\u001b[0;31mKeyboardInterrupt\u001b[0m: "
     ]
    },
    {
     "name": "stderr",
     "output_type": "stream",
     "text": [
      "Traceback (most recent call last):\n",
      "Traceback (most recent call last):\n",
      "  File \"/home/stfn/anaconda3/lib/python3.6/multiprocessing/process.py\", line 258, in _bootstrap\n",
      "    self.run()\n",
      "  File \"/home/stfn/anaconda3/lib/python3.6/multiprocessing/process.py\", line 258, in _bootstrap\n",
      "    self.run()\n",
      "  File \"/home/stfn/anaconda3/lib/python3.6/multiprocessing/process.py\", line 93, in run\n",
      "    self._target(*self._args, **self._kwargs)\n",
      "  File \"/home/stfn/anaconda3/lib/python3.6/multiprocessing/process.py\", line 93, in run\n",
      "    self._target(*self._args, **self._kwargs)\n",
      "  File \"/home/stfn/anaconda3/lib/python3.6/site-packages/torch/utils/data/dataloader.py\", line 96, in _worker_loop\n",
      "    r = index_queue.get(timeout=MANAGER_STATUS_CHECK_INTERVAL)\n",
      "  File \"/home/stfn/anaconda3/lib/python3.6/multiprocessing/queues.py\", line 104, in get\n",
      "    if not self._poll(timeout):\n",
      "  File \"/home/stfn/anaconda3/lib/python3.6/site-packages/torch/utils/data/dataloader.py\", line 96, in _worker_loop\n",
      "    r = index_queue.get(timeout=MANAGER_STATUS_CHECK_INTERVAL)\n",
      "  File \"/home/stfn/anaconda3/lib/python3.6/multiprocessing/connection.py\", line 257, in poll\n",
      "    return self._poll(timeout)\n",
      "  File \"/home/stfn/anaconda3/lib/python3.6/multiprocessing/queues.py\", line 104, in get\n",
      "    if not self._poll(timeout):\n",
      "  File \"/home/stfn/anaconda3/lib/python3.6/multiprocessing/connection.py\", line 414, in _poll\n",
      "    r = wait([self], timeout)\n",
      "  File \"/home/stfn/anaconda3/lib/python3.6/multiprocessing/connection.py\", line 257, in poll\n",
      "    return self._poll(timeout)\n",
      "  File \"/home/stfn/anaconda3/lib/python3.6/multiprocessing/connection.py\", line 911, in wait\n",
      "    ready = selector.select(timeout)\n",
      "  File \"/home/stfn/anaconda3/lib/python3.6/multiprocessing/connection.py\", line 414, in _poll\n",
      "    r = wait([self], timeout)\n",
      "  File \"/home/stfn/anaconda3/lib/python3.6/selectors.py\", line 376, in select\n",
      "    fd_event_list = self._poll.poll(timeout)\n",
      "KeyboardInterrupt\n",
      "  File \"/home/stfn/anaconda3/lib/python3.6/multiprocessing/connection.py\", line 911, in wait\n",
      "    ready = selector.select(timeout)\n",
      "  File \"/home/stfn/anaconda3/lib/python3.6/selectors.py\", line 376, in select\n",
      "    fd_event_list = self._poll.poll(timeout)\n",
      "KeyboardInterrupt\n"
     ]
    }
   ],
   "source": [
    "trainer.fit(300)"
   ]
  },
  {
   "cell_type": "markdown",
   "metadata": {},
   "source": [
    "# Evaluate"
   ]
  },
  {
   "cell_type": "code",
   "execution_count": 10,
   "metadata": {},
   "outputs": [
    {
     "data": {
      "text/plain": [
       "0.07458171248435974"
      ]
     },
     "execution_count": 10,
     "metadata": {},
     "output_type": "execute_result"
    }
   ],
   "source": [
    "trainer.calculate_mae()"
   ]
  },
  {
   "cell_type": "code",
   "execution_count": 11,
   "metadata": {},
   "outputs": [
    {
     "data": {
      "image/png": "[encoded data removed]",
      "text/plain": [
       "<Figure size 432x288 with 1 Axes>"
      ]
     },
     "metadata": {},
     "output_type": "display_data"
    }
   ],
   "source": [
    "trainer.create_loss_plot()"
   ]
  },
  {
   "cell_type": "code",
   "execution_count": 12,
   "metadata": {},
   "outputs": [
    {
     "name": "stderr",
     "output_type": "stream",
     "text": [
      "/home/stfn/anaconda3/lib/python3.6/site-packages/matplotlib/figure.py:459: UserWarning: matplotlib is currently using a non-GUI backend, so cannot show the figure\n",
      "  \"matplotlib is currently using a non-GUI backend, \"\n"
     ]
    }
   ],
   "source": [
    "trainer.show_loss_plot()"
   ]
  },
  {
   "cell_type": "code",
   "execution_count": 13,
   "metadata": {},
   "outputs": [],
   "source": [
    "trainer.save_loss_plot()"
   ]
  },
  {
   "cell_type": "code",
   "execution_count": null,
   "metadata": {},
   "outputs": [],
   "source": []
  }
 ],
 "metadata": {
  "kernelspec": {
   "display_name": "Python 3",
   "language": "python",
   "name": "python3"
  },
  "language_info": {
   "codemirror_mode": {
    "name": "ipython",
    "version": 3
   },
   "file_extension": ".py",
   "mimetype": "text/x-python",
   "name": "python",
   "nbconvert_exporter": "python",
   "pygments_lexer": "ipython3",
   "version": "3.6.5"
  }
 },
 "nbformat": 4,
 "nbformat_minor": 2
}
