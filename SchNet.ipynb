{
 "cells": [
  {
   "cell_type": "markdown",
   "metadata": {},
   "source": [
    "# Imports and Settings"
   ]
  },
  {
   "cell_type": "code",
   "execution_count": 1,
   "metadata": {},
   "outputs": [],
   "source": [
    "import numpy as np\n",
    "import torch\n",
    "import torch.nn as nn\n",
    "from Code.Models.SchNet.schnet import SchNet\n",
    "from Code.Train.trainer import Trainer\n",
    "from Code.Tools.Network.lr_scheduler import AbcExponentialLR\n",
    "import matplotlib\n",
    "%matplotlib inline"
   ]
  },
  {
   "cell_type": "code",
   "execution_count": 2,
   "metadata": {},
   "outputs": [],
   "source": [
    "debug = False\n",
    "use_cuda = True"
   ]
  },
  {
   "cell_type": "code",
   "execution_count": 17,
   "metadata": {},
   "outputs": [],
   "source": [
    "data_path_train = './Dataset/SchNet/iso17_train_X.npy'\n",
    "label_path_train = './Dataset/SchNet/iso17_train_Y.npy'\n",
    "data_path_within = './Dataset/SchNet/iso17_within_X.npy'\n",
    "label_path_within = './Dataset/SchNet/iso17_within_Y.npy'\n",
    "data_path_other = './Dataset/SchNet/iso17_other_X.npy'\n",
    "label_path_other = './Dataset/SchNet/iso17_other_Y.npy'\n",
    "comment = 'schnet_30_s100000_ema2'\n",
    "eval_path = './evaluation/SchNet'"
   ]
  },
  {
   "cell_type": "markdown",
   "metadata": {},
   "source": [
    "# Load Data"
   ]
  },
  {
   "cell_type": "code",
   "execution_count": 18,
   "metadata": {},
   "outputs": [],
   "source": [
    "X_train = np.load(data_path_train)\n",
    "Y_train = np.load(label_path_train) * -1\n",
    "X_within = np.load(data_path_within)\n",
    "Y_within = np.load(label_path_within) * -1\n",
    "X_other = np.load(data_path_other)\n",
    "Y_other = np.load(label_path_other) * -1"
   ]
  },
  {
   "cell_type": "code",
   "execution_count": 5,
   "metadata": {},
   "outputs": [
    {
     "data": {
      "text/plain": [
       "(404000, 19, 19)"
      ]
     },
     "execution_count": 5,
     "metadata": {},
     "output_type": "execute_result"
    }
   ],
   "source": [
    "X_train.shape"
   ]
  },
  {
   "cell_type": "code",
   "execution_count": 6,
   "metadata": {},
   "outputs": [],
   "source": [
    "if debug:\n",
    "    n_data = 4000\n",
    "    X_train = X_train[:n_data]\n",
    "    Y_train = Y_train[:n_data]\n",
    "    X_within = X_within[:n_data]\n",
    "    Y_within = Y_within[:n_data]"
   ]
  },
  {
   "cell_type": "markdown",
   "metadata": {},
   "source": [
    "# Initialize Network"
   ]
  },
  {
   "cell_type": "code",
   "execution_count": 7,
   "metadata": {},
   "outputs": [],
   "source": [
    "optimizer = torch.optim.Adam\n",
    "loss_fn = torch.nn.MSELoss\n",
    "lr_scheduler = AbcExponentialLR\n",
    "lr_schedule = (0.001, 0.96, 1)\n",
    "schnet = SchNet()\n",
    "trainer = Trainer(model=schnet, optimizer=optimizer, loss_fn=loss_fn, eval_path=eval_path,\n",
    "                  comment=comment, lr_scheduler=lr_scheduler, abc_schedule=lr_schedule,\n",
    "                  use_cuda=use_cuda, lr_step='s100000', single_test_batch=True, use_ema=True)"
   ]
  },
  {
   "cell_type": "code",
   "execution_count": 19,
   "metadata": {},
   "outputs": [],
   "source": [
    "trainer.create_dataloaders(X_train, Y_train, X_other, Y_other, 32, num_workers=2)"
   ]
  },
  {
   "cell_type": "markdown",
   "metadata": {},
   "source": [
    "# Train"
   ]
  },
  {
   "cell_type": "code",
   "execution_count": 9,
   "metadata": {
    "scrolled": true
   },
   "outputs": [
    {
     "name": "stdout",
     "output_type": "stream",
     "text": [
      "epoch: 1\tprogress: 0.0\ttime estimate: 2575.4\ttrain loss: 0.005196\ttest loss: 0.001896\n",
      "epoch: 2\tprogress: 0.01\ttime estimate: 2565.66\ttrain loss: 0.001445\ttest loss: 0.000663\n",
      "epoch: 3\tprogress: 0.01\ttime estimate: 2557.48\ttrain loss: 0.000996\ttest loss: 0.000531\n",
      "epoch: 4\tprogress: 0.01\ttime estimate: 2549.26\ttrain loss: 0.000811\ttest loss: 0.000484\n",
      "epoch: 5\tprogress: 0.02\ttime estimate: 2540.05\ttrain loss: 0.000714\ttest loss: 0.000372\n",
      "epoch: 6\tprogress: 0.02\ttime estimate: 2531.35\ttrain loss: 0.000649\ttest loss: 0.000498\n",
      "epoch: 7\tprogress: 0.02\ttime estimate: 2522.34\ttrain loss: 0.000595\ttest loss: 0.000331\n",
      "epoch: 8\tprogress: 0.03\ttime estimate: 2513.34\ttrain loss: 0.000556\ttest loss: 0.000557\n",
      "epoch: 9\tprogress: 0.03\ttime estimate: 2504.32\ttrain loss: 0.000526\ttest loss: 0.00041\n",
      "epoch: 10\tprogress: 0.03\ttime estimate: 2495.41\ttrain loss: 0.000499\ttest loss: 0.000335\n",
      "epoch: 11\tprogress: 0.04\ttime estimate: 2486.5\ttrain loss: 0.000476\ttest loss: 0.000381\n",
      "epoch: 12\tprogress: 0.04\ttime estimate: 2477.74\ttrain loss: 0.000455\ttest loss: 0.000243\n",
      "epoch: 13\tprogress: 0.04\ttime estimate: 2469.03\ttrain loss: 0.000438\ttest loss: 0.000426\n",
      "epoch: 14\tprogress: 0.05\ttime estimate: 2460.31\ttrain loss: 0.000422\ttest loss: 0.000257\n",
      "epoch: 15\tprogress: 0.05\ttime estimate: 2451.61\ttrain loss: 0.000408\ttest loss: 0.000257\n",
      "epoch: 16\tprogress: 0.05\ttime estimate: 2443.0\ttrain loss: 0.000394\ttest loss: 0.000222\n",
      "epoch: 17\tprogress: 0.06\ttime estimate: 2434.38\ttrain loss: 0.000382\ttest loss: 0.000252\n",
      "epoch: 18\tprogress: 0.06\ttime estimate: 2425.69\ttrain loss: 0.000372\ttest loss: 0.000373\n",
      "epoch: 19\tprogress: 0.06\ttime estimate: 2417.02\ttrain loss: 0.00036\ttest loss: 0.000478\n",
      "epoch: 20\tprogress: 0.07\ttime estimate: 2408.35\ttrain loss: 0.000348\ttest loss: 0.000212\n",
      "epoch: 21\tprogress: 0.07\ttime estimate: 2399.75\ttrain loss: 0.000341\ttest loss: 0.000422\n",
      "epoch: 22\tprogress: 0.07\ttime estimate: 2391.12\ttrain loss: 0.000331\ttest loss: 0.00037\n",
      "epoch: 23\tprogress: 0.08\ttime estimate: 2382.44\ttrain loss: 0.000324\ttest loss: 0.000277\n",
      "epoch: 24\tprogress: 0.08\ttime estimate: 2373.77\ttrain loss: 0.000316\ttest loss: 0.000298\n",
      "epoch: 25\tprogress: 0.08\ttime estimate: 2365.22\ttrain loss: 0.000309\ttest loss: 0.000395\n",
      "epoch: 26\tprogress: 0.09\ttime estimate: 2356.58\ttrain loss: 0.000301\ttest loss: 0.000158\n",
      "epoch: 27\tprogress: 0.09\ttime estimate: 2347.91\ttrain loss: 0.000294\ttest loss: 0.000254\n",
      "epoch: 28\tprogress: 0.09\ttime estimate: 2339.27\ttrain loss: 0.000288\ttest loss: 0.000171\n",
      "epoch: 29\tprogress: 0.1\ttime estimate: 2330.68\ttrain loss: 0.000282\ttest loss: 0.0002\n",
      "epoch: 30\tprogress: 0.1\ttime estimate: 2322.14\ttrain loss: 0.000276\ttest loss: 0.000255\n",
      "epoch: 31\tprogress: 0.1\ttime estimate: 2313.56\ttrain loss: 0.000271\ttest loss: 0.000175\n",
      "epoch: 32\tprogress: 0.11\ttime estimate: 2304.97\ttrain loss: 0.000265\ttest loss: 0.000234\n",
      "epoch: 33\tprogress: 0.11\ttime estimate: 2296.41\ttrain loss: 0.000261\ttest loss: 0.000275\n",
      "epoch: 34\tprogress: 0.11\ttime estimate: 2287.78\ttrain loss: 0.000257\ttest loss: 0.00031\n",
      "epoch: 35\tprogress: 0.12\ttime estimate: 2279.15\ttrain loss: 0.000252\ttest loss: 0.000214\n",
      "epoch: 36\tprogress: 0.12\ttime estimate: 2270.51\ttrain loss: 0.000247\ttest loss: 0.000166\n",
      "epoch: 37\tprogress: 0.12\ttime estimate: 2261.87\ttrain loss: 0.000243\ttest loss: 0.000223\n",
      "epoch: 38\tprogress: 0.13\ttime estimate: 2253.28\ttrain loss: 0.00024\ttest loss: 0.000179\n",
      "epoch: 39\tprogress: 0.13\ttime estimate: 2244.64\ttrain loss: 0.000236\ttest loss: 0.000302\n",
      "epoch: 40\tprogress: 0.13\ttime estimate: 2236.09\ttrain loss: 0.000232\ttest loss: 0.000263\n",
      "epoch: 41\tprogress: 0.14\ttime estimate: 2227.48\ttrain loss: 0.000229\ttest loss: 0.000367\n",
      "epoch: 42\tprogress: 0.14\ttime estimate: 2218.86\ttrain loss: 0.000226\ttest loss: 0.000157\n",
      "epoch: 43\tprogress: 0.14\ttime estimate: 2210.23\ttrain loss: 0.000223\ttest loss: 0.000182\n",
      "epoch: 44\tprogress: 0.15\ttime estimate: 2201.62\ttrain loss: 0.00022\ttest loss: 0.00022\n",
      "epoch: 45\tprogress: 0.15\ttime estimate: 2192.98\ttrain loss: 0.000218\ttest loss: 0.000187\n",
      "epoch: 46\tprogress: 0.15\ttime estimate: 2184.36\ttrain loss: 0.000215\ttest loss: 0.000254\n",
      "epoch: 47\tprogress: 0.16\ttime estimate: 2175.78\ttrain loss: 0.000212\ttest loss: 0.000234\n",
      "epoch: 48\tprogress: 0.16\ttime estimate: 2167.18\ttrain loss: 0.00021\ttest loss: 0.000139\n",
      "epoch: 49\tprogress: 0.16\ttime estimate: 2158.58\ttrain loss: 0.000207\ttest loss: 0.000197\n",
      "epoch: 50\tprogress: 0.17\ttime estimate: 2149.98\ttrain loss: 0.000205\ttest loss: 0.000189\n",
      "epoch: 51\tprogress: 0.17\ttime estimate: 2141.37\ttrain loss: 0.000203\ttest loss: 0.000223\n",
      "epoch: 52\tprogress: 0.17\ttime estimate: 2132.75\ttrain loss: 0.000201\ttest loss: 0.000257\n",
      "epoch: 53\tprogress: 0.18\ttime estimate: 2124.15\ttrain loss: 0.000198\ttest loss: 0.000156\n",
      "epoch: 54\tprogress: 0.18\ttime estimate: 2115.54\ttrain loss: 0.000197\ttest loss: 0.000197\n",
      "epoch: 55\tprogress: 0.18\ttime estimate: 2106.94\ttrain loss: 0.000195\ttest loss: 0.000154\n",
      "epoch: 56\tprogress: 0.19\ttime estimate: 2098.35\ttrain loss: 0.000193\ttest loss: 0.000206\n",
      "epoch: 57\tprogress: 0.19\ttime estimate: 2089.74\ttrain loss: 0.000192\ttest loss: 0.000187\n",
      "epoch: 58\tprogress: 0.19\ttime estimate: 2081.14\ttrain loss: 0.00019\ttest loss: 0.000233\n",
      "epoch: 59\tprogress: 0.2\ttime estimate: 2072.54\ttrain loss: 0.000189\ttest loss: 0.000169\n",
      "epoch: 60\tprogress: 0.2\ttime estimate: 2063.92\ttrain loss: 0.000187\ttest loss: 0.000212\n",
      "epoch: 61\tprogress: 0.2\ttime estimate: 2055.31\ttrain loss: 0.000185\ttest loss: 9.4e-05\n",
      "epoch: 62\tprogress: 0.21\ttime estimate: 2046.7\ttrain loss: 0.000184\ttest loss: 0.000148\n",
      "epoch: 63\tprogress: 0.21\ttime estimate: 2038.11\ttrain loss: 0.000183\ttest loss: 0.00013\n",
      "epoch: 64\tprogress: 0.21\ttime estimate: 2029.48\ttrain loss: 0.000181\ttest loss: 0.000187\n",
      "epoch: 65\tprogress: 0.22\ttime estimate: 2020.89\ttrain loss: 0.00018\ttest loss: 0.000172\n",
      "epoch: 66\tprogress: 0.22\ttime estimate: 2012.28\ttrain loss: 0.000179\ttest loss: 0.000228\n",
      "epoch: 67\tprogress: 0.22\ttime estimate: 2003.66\ttrain loss: 0.000178\ttest loss: 0.000218\n",
      "epoch: 68\tprogress: 0.23\ttime estimate: 1995.05\ttrain loss: 0.000176\ttest loss: 0.000206\n",
      "epoch: 69\tprogress: 0.23\ttime estimate: 1986.46\ttrain loss: 0.000175\ttest loss: 0.000143\n",
      "epoch: 70\tprogress: 0.23\ttime estimate: 1977.84\ttrain loss: 0.000174\ttest loss: 0.000226\n",
      "epoch: 71\tprogress: 0.24\ttime estimate: 1969.25\ttrain loss: 0.000173\ttest loss: 9.5e-05\n",
      "epoch: 72\tprogress: 0.24\ttime estimate: 1960.63\ttrain loss: 0.000172\ttest loss: 0.000255\n",
      "epoch: 73\tprogress: 0.24\ttime estimate: 1952.02\ttrain loss: 0.000171\ttest loss: 0.000162\n",
      "epoch: 74\tprogress: 0.25\ttime estimate: 1943.44\ttrain loss: 0.000171\ttest loss: 0.000175\n",
      "epoch: 75\tprogress: 0.25\ttime estimate: 1934.83\ttrain loss: 0.000169\ttest loss: 0.000154\n",
      "epoch: 76\tprogress: 0.25\ttime estimate: 1926.24\ttrain loss: 0.000169\ttest loss: 0.000112\n",
      "epoch: 77\tprogress: 0.26\ttime estimate: 1917.63\ttrain loss: 0.000168\ttest loss: 0.000224\n",
      "epoch: 78\tprogress: 0.26\ttime estimate: 1909.04\ttrain loss: 0.000167\ttest loss: 0.000161\n",
      "epoch: 79\tprogress: 0.26\ttime estimate: 1900.44\ttrain loss: 0.000166\ttest loss: 0.000268\n",
      "epoch: 80\tprogress: 0.27\ttime estimate: 1891.84\ttrain loss: 0.000165\ttest loss: 0.000164\n",
      "epoch: 81\tprogress: 0.27\ttime estimate: 1883.24\ttrain loss: 0.000165\ttest loss: 0.000171\n",
      "epoch: 82\tprogress: 0.27\ttime estimate: 1874.65\ttrain loss: 0.000164\ttest loss: 0.00018\n",
      "epoch: 83\tprogress: 0.28\ttime estimate: 1866.03\ttrain loss: 0.000164\ttest loss: 0.000205\n",
      "epoch: 84\tprogress: 0.28\ttime estimate: 1857.43\ttrain loss: 0.000163\ttest loss: 0.000231\n",
      "epoch: 85\tprogress: 0.28\ttime estimate: 1848.83\ttrain loss: 0.000162\ttest loss: 0.000136\n",
      "epoch: 86\tprogress: 0.29\ttime estimate: 1840.23\ttrain loss: 0.000162\ttest loss: 0.000306\n",
      "epoch: 87\tprogress: 0.29\ttime estimate: 1831.62\ttrain loss: 0.000161\ttest loss: 0.000161\n",
      "epoch: 88\tprogress: 0.29\ttime estimate: 1823.02\ttrain loss: 0.000161\ttest loss: 0.000181\n",
      "epoch: 89\tprogress: 0.3\ttime estimate: 1814.42\ttrain loss: 0.00016\ttest loss: 0.000302\n",
      "epoch: 90\tprogress: 0.3\ttime estimate: 1805.82\ttrain loss: 0.00016\ttest loss: 0.000209\n",
      "epoch: 91\tprogress: 0.3\ttime estimate: 1797.21\ttrain loss: 0.000159\ttest loss: 0.000144\n",
      "epoch: 92\tprogress: 0.31\ttime estimate: 1788.6\ttrain loss: 0.000159\ttest loss: 0.000192\n",
      "epoch: 93\tprogress: 0.31\ttime estimate: 1780.0\ttrain loss: 0.000158\ttest loss: 0.000165\n"
     ]
    },
    {
     "name": "stdout",
     "output_type": "stream",
     "text": [
      "epoch: 94\tprogress: 0.31\ttime estimate: 1771.39\ttrain loss: 0.000158\ttest loss: 0.000153\n",
      "epoch: 95\tprogress: 0.32\ttime estimate: 1762.79\ttrain loss: 0.000157\ttest loss: 0.000177\n",
      "epoch: 96\tprogress: 0.32\ttime estimate: 1754.18\ttrain loss: 0.000157\ttest loss: 0.000132\n",
      "epoch: 97\tprogress: 0.32\ttime estimate: 1745.58\ttrain loss: 0.000157\ttest loss: 0.000169\n",
      "epoch: 98\tprogress: 0.33\ttime estimate: 1736.98\ttrain loss: 0.000156\ttest loss: 0.000214\n",
      "epoch: 99\tprogress: 0.33\ttime estimate: 1728.39\ttrain loss: 0.000156\ttest loss: 0.000197\n",
      "epoch: 100\tprogress: 0.33\ttime estimate: 1719.79\ttrain loss: 0.000156\ttest loss: 0.000245\n",
      "epoch: 101\tprogress: 0.34\ttime estimate: 1711.19\ttrain loss: 0.000155\ttest loss: 0.000223\n",
      "epoch: 102\tprogress: 0.34\ttime estimate: 1702.58\ttrain loss: 0.000155\ttest loss: 0.000238\n",
      "epoch: 103\tprogress: 0.34\ttime estimate: 1693.96\ttrain loss: 0.000155\ttest loss: 0.000227\n",
      "epoch: 104\tprogress: 0.35\ttime estimate: 1685.36\ttrain loss: 0.000154\ttest loss: 0.000142\n",
      "epoch: 105\tprogress: 0.35\ttime estimate: 1676.77\ttrain loss: 0.000154\ttest loss: 0.000235\n",
      "epoch: 106\tprogress: 0.35\ttime estimate: 1668.19\ttrain loss: 0.000154\ttest loss: 0.000225\n",
      "epoch: 107\tprogress: 0.36\ttime estimate: 1659.59\ttrain loss: 0.000153\ttest loss: 0.000123\n",
      "epoch: 108\tprogress: 0.36\ttime estimate: 1650.99\ttrain loss: 0.000153\ttest loss: 0.000123\n",
      "epoch: 109\tprogress: 0.36\ttime estimate: 1642.39\ttrain loss: 0.000153\ttest loss: 0.000232\n",
      "epoch: 110\tprogress: 0.37\ttime estimate: 1633.79\ttrain loss: 0.000153\ttest loss: 0.00022\n",
      "epoch: 111\tprogress: 0.37\ttime estimate: 1625.19\ttrain loss: 0.000152\ttest loss: 9.3e-05\n",
      "epoch: 112\tprogress: 0.37\ttime estimate: 1616.59\ttrain loss: 0.000152\ttest loss: 0.000156\n",
      "epoch: 113\tprogress: 0.38\ttime estimate: 1607.98\ttrain loss: 0.000152\ttest loss: 0.000175\n",
      "epoch: 114\tprogress: 0.38\ttime estimate: 1599.39\ttrain loss: 0.000152\ttest loss: 0.000125\n",
      "epoch: 115\tprogress: 0.38\ttime estimate: 1590.78\ttrain loss: 0.000152\ttest loss: 0.000174\n",
      "epoch: 116\tprogress: 0.39\ttime estimate: 1582.19\ttrain loss: 0.000151\ttest loss: 0.000185\n",
      "epoch: 117\tprogress: 0.39\ttime estimate: 1573.59\ttrain loss: 0.000151\ttest loss: 0.000101\n",
      "epoch: 118\tprogress: 0.39\ttime estimate: 1564.99\ttrain loss: 0.000151\ttest loss: 0.000104\n",
      "epoch: 119\tprogress: 0.4\ttime estimate: 1556.39\ttrain loss: 0.000151\ttest loss: 0.000257\n",
      "epoch: 120\tprogress: 0.4\ttime estimate: 1547.79\ttrain loss: 0.000151\ttest loss: 0.00018\n",
      "epoch: 121\tprogress: 0.4\ttime estimate: 1539.19\ttrain loss: 0.000151\ttest loss: 0.00021\n",
      "epoch: 122\tprogress: 0.41\ttime estimate: 1530.59\ttrain loss: 0.00015\ttest loss: 0.000115\n",
      "epoch: 123\tprogress: 0.41\ttime estimate: 1521.99\ttrain loss: 0.00015\ttest loss: 8.9e-05\n",
      "epoch: 124\tprogress: 0.41\ttime estimate: 1513.38\ttrain loss: 0.00015\ttest loss: 9.3e-05\n",
      "epoch: 125\tprogress: 0.42\ttime estimate: 1504.78\ttrain loss: 0.00015\ttest loss: 0.000228\n",
      "epoch: 126\tprogress: 0.42\ttime estimate: 1496.17\ttrain loss: 0.00015\ttest loss: 0.000156\n",
      "epoch: 127\tprogress: 0.42\ttime estimate: 1487.57\ttrain loss: 0.00015\ttest loss: 0.000223\n",
      "epoch: 128\tprogress: 0.43\ttime estimate: 1478.97\ttrain loss: 0.00015\ttest loss: 0.000169\n",
      "epoch: 129\tprogress: 0.43\ttime estimate: 1470.37\ttrain loss: 0.000149\ttest loss: 0.000198\n",
      "epoch: 130\tprogress: 0.43\ttime estimate: 1461.77\ttrain loss: 0.000149\ttest loss: 0.000154\n",
      "epoch: 131\tprogress: 0.44\ttime estimate: 1453.17\ttrain loss: 0.000149\ttest loss: 0.000122\n",
      "epoch: 132\tprogress: 0.44\ttime estimate: 1444.56\ttrain loss: 0.000149\ttest loss: 0.000179\n",
      "epoch: 133\tprogress: 0.44\ttime estimate: 1435.97\ttrain loss: 0.000149\ttest loss: 0.000187\n",
      "epoch: 134\tprogress: 0.45\ttime estimate: 1427.37\ttrain loss: 0.000149\ttest loss: 0.000226\n",
      "epoch: 135\tprogress: 0.45\ttime estimate: 1418.77\ttrain loss: 0.000149\ttest loss: 0.00022\n",
      "epoch: 136\tprogress: 0.45\ttime estimate: 1410.17\ttrain loss: 0.000149\ttest loss: 0.000204\n",
      "epoch: 137\tprogress: 0.46\ttime estimate: 1401.56\ttrain loss: 0.000149\ttest loss: 0.00015\n",
      "epoch: 138\tprogress: 0.46\ttime estimate: 1392.97\ttrain loss: 0.000149\ttest loss: 0.000249\n",
      "epoch: 139\tprogress: 0.46\ttime estimate: 1384.36\ttrain loss: 0.000148\ttest loss: 7e-05\n",
      "epoch: 140\tprogress: 0.47\ttime estimate: 1375.76\ttrain loss: 0.000148\ttest loss: 0.000163\n",
      "epoch: 141\tprogress: 0.47\ttime estimate: 1367.16\ttrain loss: 0.000148\ttest loss: 0.000125\n",
      "epoch: 142\tprogress: 0.47\ttime estimate: 1358.56\ttrain loss: 0.000148\ttest loss: 0.000166\n",
      "epoch: 143\tprogress: 0.48\ttime estimate: 1349.96\ttrain loss: 0.000148\ttest loss: 0.00013\n",
      "epoch: 144\tprogress: 0.48\ttime estimate: 1341.36\ttrain loss: 0.000148\ttest loss: 0.000168\n",
      "epoch: 145\tprogress: 0.48\ttime estimate: 1332.75\ttrain loss: 0.000148\ttest loss: 0.000216\n",
      "epoch: 146\tprogress: 0.49\ttime estimate: 1324.14\ttrain loss: 0.000148\ttest loss: 0.000145\n",
      "epoch: 147\tprogress: 0.49\ttime estimate: 1315.54\ttrain loss: 0.000148\ttest loss: 0.000253\n",
      "epoch: 148\tprogress: 0.49\ttime estimate: 1306.93\ttrain loss: 0.000148\ttest loss: 0.000132\n",
      "epoch: 149\tprogress: 0.5\ttime estimate: 1298.33\ttrain loss: 0.000148\ttest loss: 0.000175\n",
      "epoch: 150\tprogress: 0.5\ttime estimate: 1289.73\ttrain loss: 0.000148\ttest loss: 0.000184\n",
      "epoch: 151\tprogress: 0.5\ttime estimate: 1281.13\ttrain loss: 0.000148\ttest loss: 0.000171\n",
      "epoch: 152\tprogress: 0.51\ttime estimate: 1272.53\ttrain loss: 0.000148\ttest loss: 0.000216\n",
      "epoch: 153\tprogress: 0.51\ttime estimate: 1263.94\ttrain loss: 0.000148\ttest loss: 0.000117\n",
      "epoch: 154\tprogress: 0.51\ttime estimate: 1255.33\ttrain loss: 0.000148\ttest loss: 0.000199\n",
      "epoch: 155\tprogress: 0.52\ttime estimate: 1246.73\ttrain loss: 0.000148\ttest loss: 0.000266\n",
      "epoch: 156\tprogress: 0.52\ttime estimate: 1238.14\ttrain loss: 0.000148\ttest loss: 0.000111\n",
      "epoch: 157\tprogress: 0.52\ttime estimate: 1229.54\ttrain loss: 0.000147\ttest loss: 0.000221\n",
      "epoch: 158\tprogress: 0.53\ttime estimate: 1220.94\ttrain loss: 0.000147\ttest loss: 0.000119\n",
      "epoch: 159\tprogress: 0.53\ttime estimate: 1212.34\ttrain loss: 0.000147\ttest loss: 0.000188\n",
      "epoch: 160\tprogress: 0.53\ttime estimate: 1203.74\ttrain loss: 0.000147\ttest loss: 0.000166\n",
      "epoch: 161\tprogress: 0.54\ttime estimate: 1195.15\ttrain loss: 0.000147\ttest loss: 0.000155\n",
      "epoch: 162\tprogress: 0.54\ttime estimate: 1186.55\ttrain loss: 0.000147\ttest loss: 0.000149\n",
      "epoch: 163\tprogress: 0.54\ttime estimate: 1177.95\ttrain loss: 0.000147\ttest loss: 0.000164\n",
      "epoch: 164\tprogress: 0.55\ttime estimate: 1169.35\ttrain loss: 0.000147\ttest loss: 0.000158\n",
      "epoch: 165\tprogress: 0.55\ttime estimate: 1160.75\ttrain loss: 0.000147\ttest loss: 0.00021\n",
      "epoch: 166\tprogress: 0.55\ttime estimate: 1152.15\ttrain loss: 0.000147\ttest loss: 0.000216\n",
      "epoch: 167\tprogress: 0.56\ttime estimate: 1143.55\ttrain loss: 0.000147\ttest loss: 0.000209\n",
      "epoch: 168\tprogress: 0.56\ttime estimate: 1134.96\ttrain loss: 0.000147\ttest loss: 0.000172\n",
      "epoch: 169\tprogress: 0.56\ttime estimate: 1126.38\ttrain loss: 0.000147\ttest loss: 0.0002\n",
      "epoch: 170\tprogress: 0.57\ttime estimate: 1117.78\ttrain loss: 0.000147\ttest loss: 0.000125\n",
      "epoch: 171\tprogress: 0.57\ttime estimate: 1109.18\ttrain loss: 0.000147\ttest loss: 0.000136\n",
      "epoch: 172\tprogress: 0.57\ttime estimate: 1100.58\ttrain loss: 0.000147\ttest loss: 0.000146\n",
      "epoch: 173\tprogress: 0.58\ttime estimate: 1091.98\ttrain loss: 0.000147\ttest loss: 0.00027\n",
      "epoch: 174\tprogress: 0.58\ttime estimate: 1083.38\ttrain loss: 0.000147\ttest loss: 0.000226\n",
      "epoch: 175\tprogress: 0.58\ttime estimate: 1074.78\ttrain loss: 0.000147\ttest loss: 0.000182\n",
      "epoch: 176\tprogress: 0.59\ttime estimate: 1066.18\ttrain loss: 0.000147\ttest loss: 0.000158\n",
      "epoch: 177\tprogress: 0.59\ttime estimate: 1057.59\ttrain loss: 0.000147\ttest loss: 0.000196\n",
      "epoch: 178\tprogress: 0.59\ttime estimate: 1048.99\ttrain loss: 0.000147\ttest loss: 0.000238\n",
      "epoch: 179\tprogress: 0.6\ttime estimate: 1040.39\ttrain loss: 0.000147\ttest loss: 0.000148\n",
      "epoch: 180\tprogress: 0.6\ttime estimate: 1031.8\ttrain loss: 0.000147\ttest loss: 0.000152\n",
      "epoch: 181\tprogress: 0.6\ttime estimate: 1023.2\ttrain loss: 0.000147\ttest loss: 0.000176\n",
      "epoch: 182\tprogress: 0.61\ttime estimate: 1014.6\ttrain loss: 0.000147\ttest loss: 0.000173\n",
      "epoch: 183\tprogress: 0.61\ttime estimate: 1006.0\ttrain loss: 0.000147\ttest loss: 0.000158\n",
      "epoch: 184\tprogress: 0.61\ttime estimate: 997.4\ttrain loss: 0.000147\ttest loss: 0.000185\n",
      "epoch: 185\tprogress: 0.62\ttime estimate: 988.8\ttrain loss: 0.000147\ttest loss: 0.000165\n"
     ]
    },
    {
     "name": "stdout",
     "output_type": "stream",
     "text": [
      "epoch: 186\tprogress: 0.62\ttime estimate: 980.2\ttrain loss: 0.000147\ttest loss: 0.000143\n",
      "epoch: 187\tprogress: 0.62\ttime estimate: 971.61\ttrain loss: 0.000147\ttest loss: 0.000268\n",
      "epoch: 188\tprogress: 0.63\ttime estimate: 963.0\ttrain loss: 0.000147\ttest loss: 0.000291\n",
      "epoch: 189\tprogress: 0.63\ttime estimate: 954.4\ttrain loss: 0.000147\ttest loss: 0.000131\n",
      "epoch: 190\tprogress: 0.63\ttime estimate: 945.81\ttrain loss: 0.000147\ttest loss: 0.000152\n",
      "epoch: 191\tprogress: 0.64\ttime estimate: 937.21\ttrain loss: 0.000147\ttest loss: 0.000105\n",
      "epoch: 192\tprogress: 0.64\ttime estimate: 928.6\ttrain loss: 0.000147\ttest loss: 0.000129\n",
      "epoch: 193\tprogress: 0.64\ttime estimate: 920.01\ttrain loss: 0.000147\ttest loss: 0.000343\n",
      "epoch: 194\tprogress: 0.65\ttime estimate: 911.41\ttrain loss: 0.000147\ttest loss: 0.000178\n",
      "epoch: 195\tprogress: 0.65\ttime estimate: 902.81\ttrain loss: 0.000147\ttest loss: 0.000201\n",
      "epoch: 196\tprogress: 0.65\ttime estimate: 894.21\ttrain loss: 0.000147\ttest loss: 0.000225\n",
      "epoch: 197\tprogress: 0.66\ttime estimate: 885.61\ttrain loss: 0.000147\ttest loss: 0.000151\n",
      "epoch: 198\tprogress: 0.66\ttime estimate: 877.02\ttrain loss: 0.000147\ttest loss: 0.000241\n",
      "epoch: 199\tprogress: 0.66\ttime estimate: 868.42\ttrain loss: 0.000147\ttest loss: 0.000239\n",
      "epoch: 200\tprogress: 0.67\ttime estimate: 859.82\ttrain loss: 0.000147\ttest loss: 0.000233\n",
      "epoch: 201\tprogress: 0.67\ttime estimate: 851.22\ttrain loss: 0.000147\ttest loss: 0.000339\n",
      "epoch: 202\tprogress: 0.67\ttime estimate: 842.62\ttrain loss: 0.000147\ttest loss: 0.000117\n",
      "epoch: 203\tprogress: 0.68\ttime estimate: 834.02\ttrain loss: 0.000147\ttest loss: 0.000165\n",
      "epoch: 204\tprogress: 0.68\ttime estimate: 825.43\ttrain loss: 0.000147\ttest loss: 0.000145\n",
      "epoch: 205\tprogress: 0.68\ttime estimate: 816.83\ttrain loss: 0.000147\ttest loss: 0.000147\n",
      "epoch: 206\tprogress: 0.69\ttime estimate: 808.23\ttrain loss: 0.000147\ttest loss: 0.000221\n",
      "epoch: 207\tprogress: 0.69\ttime estimate: 799.63\ttrain loss: 0.000147\ttest loss: 0.000172\n",
      "epoch: 208\tprogress: 0.69\ttime estimate: 791.04\ttrain loss: 0.000147\ttest loss: 0.000258\n",
      "epoch: 209\tprogress: 0.7\ttime estimate: 782.44\ttrain loss: 0.000147\ttest loss: 0.000239\n",
      "epoch: 210\tprogress: 0.7\ttime estimate: 773.84\ttrain loss: 0.000147\ttest loss: 0.000215\n",
      "epoch: 211\tprogress: 0.7\ttime estimate: 765.24\ttrain loss: 0.000147\ttest loss: 0.000177\n",
      "epoch: 212\tprogress: 0.71\ttime estimate: 756.64\ttrain loss: 0.000147\ttest loss: 0.000179\n",
      "epoch: 213\tprogress: 0.71\ttime estimate: 748.05\ttrain loss: 0.000147\ttest loss: 0.000116\n",
      "epoch: 214\tprogress: 0.71\ttime estimate: 739.44\ttrain loss: 0.000147\ttest loss: 0.000163\n",
      "epoch: 215\tprogress: 0.72\ttime estimate: 730.85\ttrain loss: 0.000147\ttest loss: 0.000106\n",
      "epoch: 216\tprogress: 0.72\ttime estimate: 722.25\ttrain loss: 0.000147\ttest loss: 0.000114\n",
      "epoch: 217\tprogress: 0.72\ttime estimate: 713.65\ttrain loss: 0.000147\ttest loss: 0.000182\n",
      "epoch: 218\tprogress: 0.73\ttime estimate: 705.05\ttrain loss: 0.000147\ttest loss: 0.000346\n",
      "epoch: 219\tprogress: 0.73\ttime estimate: 696.45\ttrain loss: 0.000147\ttest loss: 0.000182\n",
      "epoch: 220\tprogress: 0.73\ttime estimate: 687.86\ttrain loss: 0.000147\ttest loss: 0.000246\n",
      "epoch: 221\tprogress: 0.74\ttime estimate: 679.26\ttrain loss: 0.000147\ttest loss: 0.000238\n",
      "epoch: 222\tprogress: 0.74\ttime estimate: 670.66\ttrain loss: 0.000147\ttest loss: 0.000174\n",
      "epoch: 223\tprogress: 0.74\ttime estimate: 662.06\ttrain loss: 0.000147\ttest loss: 0.000191\n",
      "epoch: 224\tprogress: 0.75\ttime estimate: 653.46\ttrain loss: 0.000147\ttest loss: 0.000251\n",
      "epoch: 225\tprogress: 0.75\ttime estimate: 644.87\ttrain loss: 0.000147\ttest loss: 0.000132\n",
      "epoch: 226\tprogress: 0.75\ttime estimate: 636.27\ttrain loss: 0.000147\ttest loss: 0.000137\n",
      "epoch: 227\tprogress: 0.76\ttime estimate: 627.67\ttrain loss: 0.000147\ttest loss: 0.000235\n",
      "epoch: 228\tprogress: 0.76\ttime estimate: 619.07\ttrain loss: 0.000147\ttest loss: 0.000146\n",
      "epoch: 229\tprogress: 0.76\ttime estimate: 610.47\ttrain loss: 0.000147\ttest loss: 0.000281\n",
      "epoch: 230\tprogress: 0.77\ttime estimate: 601.87\ttrain loss: 0.000147\ttest loss: 0.000108\n",
      "epoch: 231\tprogress: 0.77\ttime estimate: 593.27\ttrain loss: 0.000147\ttest loss: 0.000185\n",
      "epoch: 232\tprogress: 0.77\ttime estimate: 584.68\ttrain loss: 0.000147\ttest loss: 0.00018\n",
      "epoch: 233\tprogress: 0.78\ttime estimate: 576.08\ttrain loss: 0.000147\ttest loss: 0.000428\n",
      "epoch: 234\tprogress: 0.78\ttime estimate: 567.48\ttrain loss: 0.000147\ttest loss: 0.000166\n",
      "epoch: 235\tprogress: 0.78\ttime estimate: 558.88\ttrain loss: 0.000147\ttest loss: 0.000195\n",
      "epoch: 236\tprogress: 0.79\ttime estimate: 550.29\ttrain loss: 0.000147\ttest loss: 0.000224\n",
      "epoch: 237\tprogress: 0.79\ttime estimate: 541.69\ttrain loss: 0.000147\ttest loss: 0.000154\n",
      "epoch: 238\tprogress: 0.79\ttime estimate: 533.09\ttrain loss: 0.000147\ttest loss: 0.000186\n",
      "epoch: 239\tprogress: 0.8\ttime estimate: 524.49\ttrain loss: 0.000147\ttest loss: 0.000157\n",
      "epoch: 240\tprogress: 0.8\ttime estimate: 515.89\ttrain loss: 0.000147\ttest loss: 0.000208\n",
      "epoch: 241\tprogress: 0.8\ttime estimate: 507.3\ttrain loss: 0.000147\ttest loss: 0.000167\n",
      "epoch: 242\tprogress: 0.81\ttime estimate: 498.7\ttrain loss: 0.000147\ttest loss: 0.000277\n",
      "epoch: 243\tprogress: 0.81\ttime estimate: 490.1\ttrain loss: 0.000147\ttest loss: 0.000119\n",
      "epoch: 244\tprogress: 0.81\ttime estimate: 481.5\ttrain loss: 0.000147\ttest loss: 0.000158\n",
      "epoch: 245\tprogress: 0.82\ttime estimate: 472.9\ttrain loss: 0.000147\ttest loss: 0.000148\n",
      "epoch: 246\tprogress: 0.82\ttime estimate: 464.31\ttrain loss: 0.000147\ttest loss: 0.000206\n",
      "epoch: 247\tprogress: 0.82\ttime estimate: 455.71\ttrain loss: 0.000147\ttest loss: 0.000107\n",
      "epoch: 248\tprogress: 0.83\ttime estimate: 447.11\ttrain loss: 0.000146\ttest loss: 0.000167\n",
      "epoch: 249\tprogress: 0.83\ttime estimate: 438.51\ttrain loss: 0.000146\ttest loss: 0.000163\n",
      "epoch: 250\tprogress: 0.83\ttime estimate: 429.91\ttrain loss: 0.000146\ttest loss: 0.0002\n",
      "epoch: 251\tprogress: 0.84\ttime estimate: 421.31\ttrain loss: 0.000146\ttest loss: 0.000169\n",
      "epoch: 252\tprogress: 0.84\ttime estimate: 412.72\ttrain loss: 0.000146\ttest loss: 0.000264\n",
      "epoch: 253\tprogress: 0.84\ttime estimate: 404.12\ttrain loss: 0.000146\ttest loss: 0.000224\n",
      "epoch: 254\tprogress: 0.85\ttime estimate: 395.52\ttrain loss: 0.000146\ttest loss: 0.000177\n",
      "epoch: 255\tprogress: 0.85\ttime estimate: 386.92\ttrain loss: 0.000146\ttest loss: 0.00021\n",
      "epoch: 256\tprogress: 0.85\ttime estimate: 378.32\ttrain loss: 0.000146\ttest loss: 0.000161\n",
      "epoch: 257\tprogress: 0.86\ttime estimate: 369.73\ttrain loss: 0.000146\ttest loss: 0.000173\n",
      "epoch: 258\tprogress: 0.86\ttime estimate: 361.13\ttrain loss: 0.000146\ttest loss: 0.000101\n",
      "epoch: 259\tprogress: 0.86\ttime estimate: 352.53\ttrain loss: 0.000146\ttest loss: 0.000186\n",
      "epoch: 260\tprogress: 0.87\ttime estimate: 343.93\ttrain loss: 0.000146\ttest loss: 0.000201\n",
      "epoch: 261\tprogress: 0.87\ttime estimate: 335.34\ttrain loss: 0.000146\ttest loss: 0.000331\n",
      "epoch: 262\tprogress: 0.87\ttime estimate: 326.74\ttrain loss: 0.000146\ttest loss: 9.9e-05\n",
      "epoch: 263\tprogress: 0.88\ttime estimate: 318.14\ttrain loss: 0.000146\ttest loss: 0.000187\n",
      "epoch: 264\tprogress: 0.88\ttime estimate: 309.54\ttrain loss: 0.000146\ttest loss: 0.000167\n",
      "epoch: 265\tprogress: 0.88\ttime estimate: 300.94\ttrain loss: 0.000146\ttest loss: 0.000249\n",
      "epoch: 266\tprogress: 0.89\ttime estimate: 292.34\ttrain loss: 0.000146\ttest loss: 0.000158\n",
      "epoch: 267\tprogress: 0.89\ttime estimate: 283.74\ttrain loss: 0.000146\ttest loss: 0.000186\n",
      "epoch: 268\tprogress: 0.89\ttime estimate: 275.15\ttrain loss: 0.000146\ttest loss: 0.000138\n",
      "epoch: 269\tprogress: 0.9\ttime estimate: 266.55\ttrain loss: 0.000146\ttest loss: 0.000127\n",
      "epoch: 270\tprogress: 0.9\ttime estimate: 257.95\ttrain loss: 0.000146\ttest loss: 0.000108\n",
      "epoch: 271\tprogress: 0.9\ttime estimate: 249.35\ttrain loss: 0.000146\ttest loss: 0.000185\n",
      "epoch: 272\tprogress: 0.91\ttime estimate: 240.75\ttrain loss: 0.000146\ttest loss: 0.000116\n",
      "epoch: 273\tprogress: 0.91\ttime estimate: 232.15\ttrain loss: 0.000146\ttest loss: 0.000145\n",
      "epoch: 274\tprogress: 0.91\ttime estimate: 223.55\ttrain loss: 0.000146\ttest loss: 0.000224\n",
      "epoch: 275\tprogress: 0.92\ttime estimate: 214.96\ttrain loss: 0.000146\ttest loss: 0.000159\n",
      "epoch: 276\tprogress: 0.92\ttime estimate: 206.36\ttrain loss: 0.000146\ttest loss: 9.8e-05\n",
      "epoch: 277\tprogress: 0.92\ttime estimate: 197.76\ttrain loss: 0.000146\ttest loss: 0.0002\n",
      "epoch: 278\tprogress: 0.93\ttime estimate: 189.16\ttrain loss: 0.000146\ttest loss: 0.000267\n"
     ]
    },
    {
     "name": "stdout",
     "output_type": "stream",
     "text": [
      "epoch: 279\tprogress: 0.93\ttime estimate: 180.56\ttrain loss: 0.000146\ttest loss: 0.000143\n",
      "epoch: 280\tprogress: 0.93\ttime estimate: 171.96\ttrain loss: 0.000146\ttest loss: 0.000182\n",
      "epoch: 281\tprogress: 0.94\ttime estimate: 163.37\ttrain loss: 0.000146\ttest loss: 0.000109\n",
      "epoch: 282\tprogress: 0.94\ttime estimate: 154.77\ttrain loss: 0.000146\ttest loss: 0.000157\n",
      "epoch: 283\tprogress: 0.94\ttime estimate: 146.17\ttrain loss: 0.000146\ttest loss: 0.000156\n",
      "epoch: 284\tprogress: 0.95\ttime estimate: 137.57\ttrain loss: 0.000146\ttest loss: 0.000143\n",
      "epoch: 285\tprogress: 0.95\ttime estimate: 128.97\ttrain loss: 0.000146\ttest loss: 0.000158\n",
      "epoch: 286\tprogress: 0.95\ttime estimate: 120.38\ttrain loss: 0.000146\ttest loss: 0.000292\n",
      "epoch: 287\tprogress: 0.96\ttime estimate: 111.78\ttrain loss: 0.000146\ttest loss: 0.000243\n",
      "epoch: 288\tprogress: 0.96\ttime estimate: 103.18\ttrain loss: 0.000146\ttest loss: 0.000126\n",
      "epoch: 289\tprogress: 0.96\ttime estimate: 94.58\ttrain loss: 0.000146\ttest loss: 0.000164\n",
      "epoch: 290\tprogress: 0.97\ttime estimate: 85.98\ttrain loss: 0.000146\ttest loss: 0.000166\n",
      "epoch: 291\tprogress: 0.97\ttime estimate: 77.38\ttrain loss: 0.000146\ttest loss: 0.00011\n",
      "epoch: 292\tprogress: 0.97\ttime estimate: 68.79\ttrain loss: 0.000146\ttest loss: 0.000197\n",
      "epoch: 293\tprogress: 0.98\ttime estimate: 60.19\ttrain loss: 0.000146\ttest loss: 0.000168\n",
      "epoch: 294\tprogress: 0.98\ttime estimate: 51.59\ttrain loss: 0.000146\ttest loss: 0.000114\n",
      "epoch: 295\tprogress: 0.98\ttime estimate: 42.99\ttrain loss: 0.000146\ttest loss: 0.000131\n",
      "epoch: 296\tprogress: 0.99\ttime estimate: 34.39\ttrain loss: 0.000146\ttest loss: 0.000192\n",
      "epoch: 297\tprogress: 0.99\ttime estimate: 25.79\ttrain loss: 0.000146\ttest loss: 0.000188\n",
      "epoch: 298\tprogress: 0.99\ttime estimate: 17.2\ttrain loss: 0.000146\ttest loss: 0.000242\n",
      "epoch: 299\tprogress: 1.0\ttime estimate: 8.6\ttrain loss: 0.000146\ttest loss: 0.000253\n",
      "epoch: 300\tprogress: 1.0\ttime estimate: 0.0\ttrain loss: 0.000146\ttest loss: 0.000193\n"
     ]
    }
   ],
   "source": [
    "trainer.fit(300)"
   ]
  },
  {
   "cell_type": "markdown",
   "metadata": {},
   "source": [
    "# Evaluate"
   ]
  },
  {
   "cell_type": "code",
   "execution_count": 20,
   "metadata": {},
   "outputs": [
    {
     "data": {
      "text/plain": [
       "0.24905982613563538"
      ]
     },
     "execution_count": 20,
     "metadata": {},
     "output_type": "execute_result"
    }
   ],
   "source": [
    "trainer.calculate_mae()"
   ]
  },
  {
   "cell_type": "code",
   "execution_count": 11,
   "metadata": {},
   "outputs": [
    {
     "data": {
      "image/png": "[encoded data removed]",
      "text/plain": [
       "<Figure size 432x288 with 1 Axes>"
      ]
     },
     "metadata": {},
     "output_type": "display_data"
    }
   ],
   "source": [
    "trainer.create_loss_plot()"
   ]
  },
  {
   "cell_type": "code",
   "execution_count": 12,
   "metadata": {},
   "outputs": [
    {
     "name": "stderr",
     "output_type": "stream",
     "text": [
      "/home/stfn/anaconda3/lib/python3.6/site-packages/matplotlib/figure.py:459: UserWarning: matplotlib is currently using a non-GUI backend, so cannot show the figure\n",
      "  \"matplotlib is currently using a non-GUI backend, \"\n"
     ]
    }
   ],
   "source": [
    "trainer.show_loss_plot()"
   ]
  },
  {
   "cell_type": "code",
   "execution_count": 13,
   "metadata": {},
   "outputs": [],
   "source": [
    "trainer.save_loss_plot()"
   ]
  },
  {
   "cell_type": "code",
   "execution_count": 14,
   "metadata": {},
   "outputs": [],
   "source": [
    "from matplotlib import pyplot as plt"
   ]
  },
  {
   "cell_type": "code",
   "execution_count": 15,
   "metadata": {},
   "outputs": [
    {
     "data": {
      "image/png": "[encoded data removed]",
      "text/plain": [
       "<Figure size 432x288 with 1 Axes>"
      ]
     },
     "metadata": {},
     "output_type": "display_data"
    }
   ],
   "source": [
    "plt.plot(trainer.train_losses)\n",
    "plt.plot(trainer.test_losses)\n",
    "plt.ylabel('MSE loss')\n",
    "plt.xlabel('epochs')\n",
    "plt.ylim([0, 0.01])\n",
    "plt.savefig('x')"
   ]
  },
  {
   "cell_type": "code",
   "execution_count": 16,
   "metadata": {},
   "outputs": [],
   "source": [
    "import copy\n",
    "s2 = copy.deepcopy(schnet)"
   ]
  },
  {
   "cell_type": "code",
   "execution_count": null,
   "metadata": {},
   "outputs": [],
   "source": []
  }
 ],
 "metadata": {
  "kernelspec": {
   "display_name": "Python 3",
   "language": "python",
   "name": "python3"
  },
  "language_info": {
   "codemirror_mode": {
    "name": "ipython",
    "version": 3
   },
   "file_extension": ".py",
   "mimetype": "text/x-python",
   "name": "python",
   "nbconvert_exporter": "python",
   "pygments_lexer": "ipython3",
   "version": "3.6.5"
  }
 },
 "nbformat": 4,
 "nbformat_minor": 2
}
