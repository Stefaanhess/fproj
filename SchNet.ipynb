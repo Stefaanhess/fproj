{
 "cells": [
  {
   "cell_type": "markdown",
   "metadata": {},
   "source": [
    "# Imports and Settings"
   ]
  },
  {
   "cell_type": "code",
   "execution_count": 1,
   "metadata": {},
   "outputs": [],
   "source": [
    "import numpy as np\n",
    "import torch\n",
    "import torch.nn as nn\n",
    "from Code.Models.SchNet.schnet import SchNet\n",
    "from Code.Train.trainer import Trainer\n",
    "from Code.Tools.Network.lr_scheduler import AbcExponentialLR\n",
    "import matplotlib\n",
    "%matplotlib inline"
   ]
  },
  {
   "cell_type": "code",
   "execution_count": 2,
   "metadata": {},
   "outputs": [],
   "source": [
    "debug = False\n",
    "use_cuda = True"
   ]
  },
  {
   "cell_type": "code",
   "execution_count": 3,
   "metadata": {},
   "outputs": [],
   "source": [
    "data_path_train = './Dataset/SchNet/iso17_train_X.npy'\n",
    "label_path_train = './Dataset/SchNet/iso17_train_Y.npy'\n",
    "data_path_within = './Dataset/SchNet/iso17_within_X.npy'\n",
    "label_path_within = './Dataset/SchNet/iso17_within_Y.npy'\n",
    "comment = 'normalized'\n",
    "eval_path = './evaluation/SchNet'"
   ]
  },
  {
   "cell_type": "markdown",
   "metadata": {},
   "source": [
    "# Load Data"
   ]
  },
  {
   "cell_type": "code",
   "execution_count": 4,
   "metadata": {},
   "outputs": [],
   "source": [
    "X_train = np.load(data_path_train)\n",
    "Y_train = np.load(label_path_train) * -1\n",
    "X_within = np.load(data_path_within)\n",
    "Y_within = np.load(label_path_within) * -1"
   ]
  },
  {
   "cell_type": "code",
   "execution_count": 5,
   "metadata": {},
   "outputs": [
    {
     "data": {
      "text/plain": [
       "(404000, 19, 19)"
      ]
     },
     "execution_count": 5,
     "metadata": {},
     "output_type": "execute_result"
    }
   ],
   "source": [
    "X_train.shape"
   ]
  },
  {
   "cell_type": "code",
   "execution_count": 6,
   "metadata": {},
   "outputs": [],
   "source": [
    "if debug:\n",
    "    n_data = 4000\n",
    "    X_train = X_train[:n_data]\n",
    "    Y_train = Y_train[:n_data]\n",
    "    X_within = X_within[:n_data]\n",
    "    Y_within = Y_within[:n_data]"
   ]
  },
  {
   "cell_type": "markdown",
   "metadata": {},
   "source": [
    "# Initialize Network"
   ]
  },
  {
   "cell_type": "code",
   "execution_count": 7,
   "metadata": {},
   "outputs": [],
   "source": [
    "optimizer = torch.optim.Adam\n",
    "loss_fn = torch.nn.MSELoss\n",
    "lr_scheduler = AbcExponentialLR\n",
    "lr_schedule = (0.001, 0.96, 1)\n",
    "schnet = SchNet()\n",
    "trainer = Trainer(model=schnet, optimizer=optimizer, loss_fn=loss_fn, eval_path=eval_path,\n",
    "                  comment=comment, lr_scheduler=lr_scheduler, abc_schedule=lr_schedule,\n",
    "                  use_cuda=use_cuda, lr_step='s100000', single_test_batch=True)"
   ]
  },
  {
   "cell_type": "code",
   "execution_count": 8,
   "metadata": {},
   "outputs": [],
   "source": [
    "trainer.create_dataloaders(X_train, Y_train, X_within, Y_within, 32, standardize_X=True, num_workers=2)"
   ]
  },
  {
   "cell_type": "markdown",
   "metadata": {},
   "source": [
    "# Train"
   ]
  },
  {
   "cell_type": "code",
   "execution_count": 9,
   "metadata": {},
   "outputs": [
    {
     "name": "stdout",
     "output_type": "stream",
     "text": [
      "epoch: 1\tprogress: 0.01\ttime estimate: 1302.33\ttrain loss: 0.006135\ttest loss: 0.004904\n",
      "epoch: 2\tprogress: 0.01\ttime estimate: 1294.2\ttrain loss: 0.002341\ttest loss: 0.001544\n",
      "epoch: 3\tprogress: 0.02\ttime estimate: 1284.91\ttrain loss: 0.001934\ttest loss: 0.001329\n",
      "epoch: 4\tprogress: 0.03\ttime estimate: 1276.76\ttrain loss: 0.001766\ttest loss: 0.001151\n",
      "epoch: 5\tprogress: 0.03\ttime estimate: 1268.7\ttrain loss: 0.001677\ttest loss: 0.00098\n",
      "epoch: 6\tprogress: 0.04\ttime estimate: 1260.45\ttrain loss: 0.001597\ttest loss: 0.001189\n",
      "epoch: 7\tprogress: 0.04\ttime estimate: 1252.28\ttrain loss: 0.001544\ttest loss: 0.0012\n",
      "epoch: 8\tprogress: 0.05\ttime estimate: 1244.08\ttrain loss: 0.001496\ttest loss: 0.001022\n",
      "epoch: 9\tprogress: 0.06\ttime estimate: 1236.01\ttrain loss: 0.001456\ttest loss: 0.000884\n",
      "epoch: 10\tprogress: 0.06\ttime estimate: 1227.81\ttrain loss: 0.001415\ttest loss: 0.001445\n",
      "epoch: 11\tprogress: 0.07\ttime estimate: 1219.63\ttrain loss: 0.001385\ttest loss: 0.001059\n",
      "epoch: 12\tprogress: 0.07\ttime estimate: 1211.45\ttrain loss: 0.001354\ttest loss: 0.001159\n",
      "epoch: 13\tprogress: 0.08\ttime estimate: 1203.29\ttrain loss: 0.001324\ttest loss: 0.001579\n",
      "epoch: 14\tprogress: 0.09\ttime estimate: 1195.15\ttrain loss: 0.001302\ttest loss: 0.001015\n",
      "epoch: 15\tprogress: 0.09\ttime estimate: 1187.0\ttrain loss: 0.001272\ttest loss: 0.000926\n",
      "epoch: 16\tprogress: 0.1\ttime estimate: 1178.84\ttrain loss: 0.001247\ttest loss: 0.000837\n",
      "epoch: 17\tprogress: 0.11\ttime estimate: 1170.71\ttrain loss: 0.001222\ttest loss: 0.001114\n",
      "epoch: 18\tprogress: 0.11\ttime estimate: 1162.49\ttrain loss: 0.001202\ttest loss: 0.001052\n",
      "epoch: 19\tprogress: 0.12\ttime estimate: 1154.3\ttrain loss: 0.001181\ttest loss: 0.001112\n",
      "epoch: 20\tprogress: 0.12\ttime estimate: 1146.06\ttrain loss: 0.001162\ttest loss: 0.001135\n",
      "epoch: 21\tprogress: 0.13\ttime estimate: 1137.91\ttrain loss: 0.001143\ttest loss: 0.001005\n",
      "epoch: 22\tprogress: 0.14\ttime estimate: 1129.69\ttrain loss: 0.001123\ttest loss: 0.002546\n",
      "epoch: 23\tprogress: 0.14\ttime estimate: 1121.54\ttrain loss: 0.001106\ttest loss: 0.000963\n",
      "epoch: 24\tprogress: 0.15\ttime estimate: 1113.35\ttrain loss: 0.001088\ttest loss: 0.001256\n",
      "epoch: 25\tprogress: 0.16\ttime estimate: 1105.18\ttrain loss: 0.001074\ttest loss: 0.001107\n",
      "epoch: 26\tprogress: 0.16\ttime estimate: 1097.03\ttrain loss: 0.001058\ttest loss: 0.001088\n",
      "epoch: 27\tprogress: 0.17\ttime estimate: 1088.86\ttrain loss: 0.001042\ttest loss: 0.000802\n",
      "epoch: 28\tprogress: 0.17\ttime estimate: 1080.68\ttrain loss: 0.001028\ttest loss: 0.001022\n",
      "epoch: 29\tprogress: 0.18\ttime estimate: 1072.48\ttrain loss: 0.001014\ttest loss: 0.001338\n",
      "epoch: 30\tprogress: 0.19\ttime estimate: 1064.33\ttrain loss: 0.001002\ttest loss: 0.001105\n",
      "epoch: 31\tprogress: 0.19\ttime estimate: 1056.14\ttrain loss: 0.000988\ttest loss: 0.001169\n",
      "epoch: 32\tprogress: 0.2\ttime estimate: 1047.97\ttrain loss: 0.000977\ttest loss: 0.001021\n",
      "epoch: 33\tprogress: 0.21\ttime estimate: 1039.79\ttrain loss: 0.000963\ttest loss: 0.000909\n",
      "epoch: 34\tprogress: 0.21\ttime estimate: 1031.63\ttrain loss: 0.000952\ttest loss: 0.001023\n",
      "epoch: 35\tprogress: 0.22\ttime estimate: 1023.46\ttrain loss: 0.000942\ttest loss: 0.001227\n",
      "epoch: 36\tprogress: 0.23\ttime estimate: 1015.27\ttrain loss: 0.000932\ttest loss: 0.001029\n",
      "epoch: 37\tprogress: 0.23\ttime estimate: 1007.1\ttrain loss: 0.000922\ttest loss: 0.000957\n",
      "epoch: 38\tprogress: 0.24\ttime estimate: 998.92\ttrain loss: 0.000911\ttest loss: 0.001154\n",
      "epoch: 39\tprogress: 0.24\ttime estimate: 990.73\ttrain loss: 0.000904\ttest loss: 0.001042\n",
      "epoch: 40\tprogress: 0.25\ttime estimate: 982.54\ttrain loss: 0.000893\ttest loss: 0.001163\n",
      "epoch: 41\tprogress: 0.26\ttime estimate: 974.37\ttrain loss: 0.000885\ttest loss: 0.000979\n",
      "epoch: 42\tprogress: 0.26\ttime estimate: 966.18\ttrain loss: 0.000877\ttest loss: 0.001055\n",
      "epoch: 43\tprogress: 0.27\ttime estimate: 958.02\ttrain loss: 0.000869\ttest loss: 0.001043\n",
      "epoch: 44\tprogress: 0.28\ttime estimate: 949.82\ttrain loss: 0.000861\ttest loss: 0.000959\n",
      "epoch: 45\tprogress: 0.28\ttime estimate: 941.65\ttrain loss: 0.000855\ttest loss: 0.001059\n",
      "epoch: 46\tprogress: 0.29\ttime estimate: 933.49\ttrain loss: 0.000847\ttest loss: 0.001202\n",
      "epoch: 47\tprogress: 0.29\ttime estimate: 925.31\ttrain loss: 0.000842\ttest loss: 0.001107\n",
      "epoch: 48\tprogress: 0.3\ttime estimate: 917.12\ttrain loss: 0.000834\ttest loss: 0.001046\n",
      "epoch: 49\tprogress: 0.31\ttime estimate: 908.92\ttrain loss: 0.000829\ttest loss: 0.001006\n",
      "epoch: 50\tprogress: 0.31\ttime estimate: 900.73\ttrain loss: 0.000822\ttest loss: 0.000921\n",
      "epoch: 51\tprogress: 0.32\ttime estimate: 892.55\ttrain loss: 0.000816\ttest loss: 0.000907\n",
      "epoch: 52\tprogress: 0.33\ttime estimate: 884.36\ttrain loss: 0.000811\ttest loss: 0.000941\n",
      "epoch: 53\tprogress: 0.33\ttime estimate: 876.18\ttrain loss: 0.000805\ttest loss: 0.001074\n",
      "epoch: 54\tprogress: 0.34\ttime estimate: 868.0\ttrain loss: 0.0008\ttest loss: 0.001082\n",
      "epoch: 55\tprogress: 0.34\ttime estimate: 859.81\ttrain loss: 0.000795\ttest loss: 0.000984\n",
      "epoch: 56\tprogress: 0.35\ttime estimate: 851.63\ttrain loss: 0.000791\ttest loss: 0.00097\n",
      "epoch: 57\tprogress: 0.36\ttime estimate: 843.45\ttrain loss: 0.000787\ttest loss: 0.001054\n",
      "epoch: 58\tprogress: 0.36\ttime estimate: 835.26\ttrain loss: 0.000782\ttest loss: 0.001046\n",
      "epoch: 59\tprogress: 0.37\ttime estimate: 827.08\ttrain loss: 0.000778\ttest loss: 0.000936\n",
      "epoch: 60\tprogress: 0.38\ttime estimate: 818.89\ttrain loss: 0.000774\ttest loss: 0.001057\n",
      "epoch: 61\tprogress: 0.38\ttime estimate: 810.7\ttrain loss: 0.000771\ttest loss: 0.000999\n",
      "epoch: 62\tprogress: 0.39\ttime estimate: 802.52\ttrain loss: 0.000767\ttest loss: 0.001047\n",
      "epoch: 63\tprogress: 0.39\ttime estimate: 794.34\ttrain loss: 0.000762\ttest loss: 0.001137\n",
      "epoch: 64\tprogress: 0.4\ttime estimate: 786.16\ttrain loss: 0.000759\ttest loss: 0.001037\n",
      "epoch: 65\tprogress: 0.41\ttime estimate: 777.97\ttrain loss: 0.000756\ttest loss: 0.001034\n",
      "epoch: 66\tprogress: 0.41\ttime estimate: 769.77\ttrain loss: 0.000753\ttest loss: 0.000998\n",
      "epoch: 67\tprogress: 0.42\ttime estimate: 761.59\ttrain loss: 0.00075\ttest loss: 0.001118\n",
      "epoch: 68\tprogress: 0.42\ttime estimate: 753.4\ttrain loss: 0.000747\ttest loss: 0.000948\n",
      "epoch: 69\tprogress: 0.43\ttime estimate: 745.25\ttrain loss: 0.000743\ttest loss: 0.000962\n",
      "epoch: 70\tprogress: 0.44\ttime estimate: 737.08\ttrain loss: 0.000741\ttest loss: 0.000956\n",
      "epoch: 71\tprogress: 0.44\ttime estimate: 728.89\ttrain loss: 0.000738\ttest loss: 0.001034\n",
      "epoch: 72\tprogress: 0.45\ttime estimate: 720.7\ttrain loss: 0.000736\ttest loss: 0.001068\n",
      "epoch: 73\tprogress: 0.46\ttime estimate: 712.51\ttrain loss: 0.000733\ttest loss: 0.001029\n",
      "epoch: 74\tprogress: 0.46\ttime estimate: 704.32\ttrain loss: 0.00073\ttest loss: 0.001087\n",
      "epoch: 75\tprogress: 0.47\ttime estimate: 696.13\ttrain loss: 0.000728\ttest loss: 0.00113\n",
      "epoch: 76\tprogress: 0.47\ttime estimate: 687.94\ttrain loss: 0.000726\ttest loss: 0.001076\n",
      "epoch: 77\tprogress: 0.48\ttime estimate: 679.75\ttrain loss: 0.000724\ttest loss: 0.001009\n",
      "epoch: 78\tprogress: 0.49\ttime estimate: 671.56\ttrain loss: 0.000722\ttest loss: 0.00096\n",
      "epoch: 79\tprogress: 0.49\ttime estimate: 663.38\ttrain loss: 0.00072\ttest loss: 0.000948\n",
      "epoch: 80\tprogress: 0.5\ttime estimate: 655.19\ttrain loss: 0.000718\ttest loss: 0.000959\n",
      "epoch: 81\tprogress: 0.51\ttime estimate: 647.0\ttrain loss: 0.000716\ttest loss: 0.000961\n",
      "epoch: 82\tprogress: 0.51\ttime estimate: 638.81\ttrain loss: 0.000714\ttest loss: 0.000918\n",
      "epoch: 83\tprogress: 0.52\ttime estimate: 630.62\ttrain loss: 0.000712\ttest loss: 0.000969\n",
      "epoch: 84\tprogress: 0.53\ttime estimate: 622.43\ttrain loss: 0.00071\ttest loss: 0.001003\n",
      "epoch: 85\tprogress: 0.53\ttime estimate: 614.25\ttrain loss: 0.000709\ttest loss: 0.00103\n",
      "epoch: 86\tprogress: 0.54\ttime estimate: 606.06\ttrain loss: 0.000707\ttest loss: 0.000974\n",
      "epoch: 87\tprogress: 0.54\ttime estimate: 597.87\ttrain loss: 0.000706\ttest loss: 0.001041\n",
      "epoch: 88\tprogress: 0.55\ttime estimate: 589.68\ttrain loss: 0.000704\ttest loss: 0.001035\n",
      "epoch: 89\tprogress: 0.56\ttime estimate: 581.49\ttrain loss: 0.000702\ttest loss: 0.000972\n",
      "epoch: 90\tprogress: 0.56\ttime estimate: 573.3\ttrain loss: 0.000701\ttest loss: 0.000993\n",
      "epoch: 91\tprogress: 0.57\ttime estimate: 565.11\ttrain loss: 0.0007\ttest loss: 0.000994\n",
      "epoch: 92\tprogress: 0.57\ttime estimate: 556.92\ttrain loss: 0.000698\ttest loss: 0.001067\n",
      "epoch: 93\tprogress: 0.58\ttime estimate: 548.73\ttrain loss: 0.000698\ttest loss: 0.000995\n",
      "epoch: 94\tprogress: 0.59\ttime estimate: 540.54\ttrain loss: 0.000696\ttest loss: 0.001023\n"
     ]
    },
    {
     "name": "stdout",
     "output_type": "stream",
     "text": [
      "epoch: 95\tprogress: 0.59\ttime estimate: 532.35\ttrain loss: 0.000695\ttest loss: 0.001031\n",
      "epoch: 96\tprogress: 0.6\ttime estimate: 524.16\ttrain loss: 0.000694\ttest loss: 0.000959\n",
      "epoch: 97\tprogress: 0.61\ttime estimate: 515.97\ttrain loss: 0.000693\ttest loss: 0.000957\n",
      "epoch: 98\tprogress: 0.61\ttime estimate: 507.78\ttrain loss: 0.000692\ttest loss: 0.000978\n",
      "epoch: 99\tprogress: 0.62\ttime estimate: 499.59\ttrain loss: 0.000691\ttest loss: 0.000978\n",
      "epoch: 100\tprogress: 0.62\ttime estimate: 491.4\ttrain loss: 0.00069\ttest loss: 0.001059\n",
      "epoch: 101\tprogress: 0.63\ttime estimate: 483.21\ttrain loss: 0.000689\ttest loss: 0.001013\n",
      "epoch: 102\tprogress: 0.64\ttime estimate: 475.02\ttrain loss: 0.000688\ttest loss: 0.000997\n",
      "epoch: 103\tprogress: 0.64\ttime estimate: 466.83\ttrain loss: 0.000687\ttest loss: 0.001048\n",
      "epoch: 104\tprogress: 0.65\ttime estimate: 458.65\ttrain loss: 0.000686\ttest loss: 0.000974\n",
      "epoch: 105\tprogress: 0.66\ttime estimate: 450.46\ttrain loss: 0.000686\ttest loss: 0.001014\n",
      "epoch: 106\tprogress: 0.66\ttime estimate: 442.27\ttrain loss: 0.000685\ttest loss: 0.001012\n",
      "epoch: 107\tprogress: 0.67\ttime estimate: 434.08\ttrain loss: 0.000684\ttest loss: 0.000999\n",
      "epoch: 108\tprogress: 0.68\ttime estimate: 425.89\ttrain loss: 0.000683\ttest loss: 0.000984\n",
      "epoch: 109\tprogress: 0.68\ttime estimate: 417.7\ttrain loss: 0.000683\ttest loss: 0.000995\n",
      "epoch: 110\tprogress: 0.69\ttime estimate: 409.51\ttrain loss: 0.000682\ttest loss: 0.001008\n",
      "epoch: 111\tprogress: 0.69\ttime estimate: 401.32\ttrain loss: 0.000681\ttest loss: 0.001024\n",
      "epoch: 112\tprogress: 0.7\ttime estimate: 393.13\ttrain loss: 0.000681\ttest loss: 0.001016\n",
      "epoch: 113\tprogress: 0.71\ttime estimate: 384.94\ttrain loss: 0.00068\ttest loss: 0.000962\n",
      "epoch: 114\tprogress: 0.71\ttime estimate: 376.75\ttrain loss: 0.00068\ttest loss: 0.000997\n",
      "epoch: 115\tprogress: 0.72\ttime estimate: 368.56\ttrain loss: 0.000679\ttest loss: 0.000982\n",
      "epoch: 116\tprogress: 0.72\ttime estimate: 360.37\ttrain loss: 0.000678\ttest loss: 0.001012\n",
      "epoch: 117\tprogress: 0.73\ttime estimate: 352.18\ttrain loss: 0.000678\ttest loss: 0.001023\n",
      "epoch: 118\tprogress: 0.74\ttime estimate: 343.99\ttrain loss: 0.000677\ttest loss: 0.000975\n",
      "epoch: 119\tprogress: 0.74\ttime estimate: 335.8\ttrain loss: 0.000677\ttest loss: 0.000996\n",
      "epoch: 120\tprogress: 0.75\ttime estimate: 327.61\ttrain loss: 0.000676\ttest loss: 0.000993\n",
      "epoch: 121\tprogress: 0.76\ttime estimate: 319.42\ttrain loss: 0.000676\ttest loss: 0.001028\n",
      "epoch: 122\tprogress: 0.76\ttime estimate: 311.23\ttrain loss: 0.000676\ttest loss: 0.001001\n",
      "epoch: 123\tprogress: 0.77\ttime estimate: 303.04\ttrain loss: 0.000675\ttest loss: 0.001028\n",
      "epoch: 124\tprogress: 0.78\ttime estimate: 294.85\ttrain loss: 0.000675\ttest loss: 0.000997\n",
      "epoch: 125\tprogress: 0.78\ttime estimate: 286.66\ttrain loss: 0.000674\ttest loss: 0.001012\n",
      "epoch: 126\tprogress: 0.79\ttime estimate: 278.47\ttrain loss: 0.000674\ttest loss: 0.001022\n",
      "epoch: 127\tprogress: 0.79\ttime estimate: 270.28\ttrain loss: 0.000674\ttest loss: 0.000999\n",
      "epoch: 128\tprogress: 0.8\ttime estimate: 262.09\ttrain loss: 0.000673\ttest loss: 0.001015\n",
      "epoch: 129\tprogress: 0.81\ttime estimate: 253.9\ttrain loss: 0.000673\ttest loss: 0.001027\n",
      "epoch: 130\tprogress: 0.81\ttime estimate: 245.71\ttrain loss: 0.000673\ttest loss: 0.001003\n",
      "epoch: 131\tprogress: 0.82\ttime estimate: 237.52\ttrain loss: 0.000672\ttest loss: 0.001002\n",
      "epoch: 132\tprogress: 0.82\ttime estimate: 229.33\ttrain loss: 0.000672\ttest loss: 0.000998\n",
      "epoch: 133\tprogress: 0.83\ttime estimate: 221.14\ttrain loss: 0.000672\ttest loss: 0.000998\n",
      "epoch: 134\tprogress: 0.84\ttime estimate: 212.95\ttrain loss: 0.000671\ttest loss: 0.00102\n",
      "epoch: 135\tprogress: 0.84\ttime estimate: 204.76\ttrain loss: 0.000671\ttest loss: 0.001016\n",
      "epoch: 136\tprogress: 0.85\ttime estimate: 196.57\ttrain loss: 0.000671\ttest loss: 0.001011\n",
      "epoch: 137\tprogress: 0.86\ttime estimate: 188.38\ttrain loss: 0.000671\ttest loss: 0.001005\n",
      "epoch: 138\tprogress: 0.86\ttime estimate: 180.19\ttrain loss: 0.00067\ttest loss: 0.001041\n",
      "epoch: 139\tprogress: 0.87\ttime estimate: 172.0\ttrain loss: 0.00067\ttest loss: 0.001001\n",
      "epoch: 140\tprogress: 0.88\ttime estimate: 163.81\ttrain loss: 0.00067\ttest loss: 0.001007\n",
      "epoch: 141\tprogress: 0.88\ttime estimate: 155.62\ttrain loss: 0.00067\ttest loss: 0.001014\n",
      "epoch: 142\tprogress: 0.89\ttime estimate: 147.43\ttrain loss: 0.000669\ttest loss: 0.001022\n",
      "epoch: 143\tprogress: 0.89\ttime estimate: 139.24\ttrain loss: 0.000669\ttest loss: 0.000985\n",
      "epoch: 144\tprogress: 0.9\ttime estimate: 131.05\ttrain loss: 0.000669\ttest loss: 0.000989\n",
      "epoch: 145\tprogress: 0.91\ttime estimate: 122.86\ttrain loss: 0.000669\ttest loss: 0.000978\n",
      "epoch: 146\tprogress: 0.91\ttime estimate: 114.67\ttrain loss: 0.000669\ttest loss: 0.001021\n",
      "epoch: 147\tprogress: 0.92\ttime estimate: 106.48\ttrain loss: 0.000669\ttest loss: 0.000991\n",
      "epoch: 148\tprogress: 0.93\ttime estimate: 98.29\ttrain loss: 0.000668\ttest loss: 0.000997\n",
      "epoch: 149\tprogress: 0.93\ttime estimate: 90.1\ttrain loss: 0.000668\ttest loss: 0.001011\n",
      "epoch: 150\tprogress: 0.94\ttime estimate: 81.91\ttrain loss: 0.000668\ttest loss: 0.001\n",
      "epoch: 151\tprogress: 0.94\ttime estimate: 73.72\ttrain loss: 0.000668\ttest loss: 0.001013\n",
      "epoch: 152\tprogress: 0.95\ttime estimate: 65.53\ttrain loss: 0.000668\ttest loss: 0.001003\n",
      "epoch: 153\tprogress: 0.96\ttime estimate: 57.34\ttrain loss: 0.000668\ttest loss: 0.000996\n"
     ]
    },
    {
     "name": "stderr",
     "output_type": "stream",
     "text": [
      "Process Process-613:\n",
      "KeyboardInterrupt\n",
      "Process Process-614:\n",
      "Traceback (most recent call last):\n",
      "Traceback (most recent call last):\n",
      "  File \"/home/stfn/anaconda3/lib/python3.6/multiprocessing/process.py\", line 258, in _bootstrap\n",
      "    self.run()\n",
      "  File \"/home/stfn/anaconda3/lib/python3.6/multiprocessing/process.py\", line 258, in _bootstrap\n",
      "    self.run()\n",
      "  File \"/home/stfn/anaconda3/lib/python3.6/multiprocessing/process.py\", line 93, in run\n",
      "    self._target(*self._args, **self._kwargs)\n",
      "  File \"/home/stfn/anaconda3/lib/python3.6/multiprocessing/process.py\", line 93, in run\n",
      "    self._target(*self._args, **self._kwargs)\n",
      "  File \"/home/stfn/anaconda3/lib/python3.6/site-packages/torch/utils/data/dataloader.py\", line 96, in _worker_loop\n",
      "    r = index_queue.get(timeout=MANAGER_STATUS_CHECK_INTERVAL)\n",
      "  File \"/home/stfn/anaconda3/lib/python3.6/site-packages/torch/utils/data/dataloader.py\", line 96, in _worker_loop\n",
      "    r = index_queue.get(timeout=MANAGER_STATUS_CHECK_INTERVAL)\n",
      "  File \"/home/stfn/anaconda3/lib/python3.6/multiprocessing/queues.py\", line 104, in get\n",
      "    if not self._poll(timeout):\n",
      "  File \"/home/stfn/anaconda3/lib/python3.6/multiprocessing/queues.py\", line 104, in get\n",
      "    if not self._poll(timeout):\n",
      "  File \"/home/stfn/anaconda3/lib/python3.6/multiprocessing/connection.py\", line 257, in poll\n",
      "    return self._poll(timeout)\n",
      "  File \"/home/stfn/anaconda3/lib/python3.6/multiprocessing/connection.py\", line 257, in poll\n",
      "    return self._poll(timeout)\n",
      "  File \"/home/stfn/anaconda3/lib/python3.6/multiprocessing/connection.py\", line 414, in _poll\n",
      "    r = wait([self], timeout)\n",
      "  File \"/home/stfn/anaconda3/lib/python3.6/multiprocessing/connection.py\", line 414, in _poll\n",
      "    r = wait([self], timeout)\n",
      "  File \"/home/stfn/anaconda3/lib/python3.6/multiprocessing/connection.py\", line 911, in wait\n",
      "    ready = selector.select(timeout)\n",
      "  File \"/home/stfn/anaconda3/lib/python3.6/multiprocessing/connection.py\", line 911, in wait\n",
      "    ready = selector.select(timeout)\n",
      "  File \"/home/stfn/anaconda3/lib/python3.6/selectors.py\", line 376, in select\n",
      "    fd_event_list = self._poll.poll(timeout)\n",
      "  File \"/home/stfn/anaconda3/lib/python3.6/selectors.py\", line 376, in select\n",
      "    fd_event_list = self._poll.poll(timeout)\n",
      "KeyboardInterrupt\n"
     ]
    },
    {
     "ename": "KeyboardInterrupt",
     "evalue": "",
     "output_type": "error",
     "traceback": [
      "\u001b[0;31m---------------------------------------------------------------------------\u001b[0m",
      "\u001b[0;31mKeyboardInterrupt\u001b[0m                         Traceback (most recent call last)",
      "\u001b[0;32m<ipython-input-9-1cdaefe12b00>\u001b[0m in \u001b[0;36m<module>\u001b[0;34m()\u001b[0m\n\u001b[0;32m----> 1\u001b[0;31m \u001b[0mtrainer\u001b[0m\u001b[0;34m.\u001b[0m\u001b[0mfit\u001b[0m\u001b[0;34m(\u001b[0m\u001b[0;36m160\u001b[0m\u001b[0;34m)\u001b[0m\u001b[0;34m\u001b[0m\u001b[0m\n\u001b[0m",
      "\u001b[0;32m~/Documents/fproj/Code/Train/trainer.py\u001b[0m in \u001b[0;36mfit\u001b[0;34m(self, n_epochs)\u001b[0m\n\u001b[1;32m    114\u001b[0m         \u001b[0;32mwhile\u001b[0m \u001b[0mself\u001b[0m\u001b[0;34m.\u001b[0m\u001b[0mepoch\u001b[0m \u001b[0;34m<\u001b[0m \u001b[0mn_epochs\u001b[0m\u001b[0;34m:\u001b[0m\u001b[0;34m\u001b[0m\u001b[0m\n\u001b[1;32m    115\u001b[0m             self.train_losses.append(\n\u001b[0;32m--> 116\u001b[0;31m                 self.train_step(self.train_loader))\n\u001b[0m\u001b[1;32m    117\u001b[0m             \u001b[0;32mif\u001b[0m \u001b[0mself\u001b[0m\u001b[0;34m.\u001b[0m\u001b[0mtest_loader\u001b[0m\u001b[0;34m:\u001b[0m\u001b[0;34m\u001b[0m\u001b[0m\n\u001b[1;32m    118\u001b[0m                 \u001b[0;32mwith\u001b[0m \u001b[0mno_grad\u001b[0m\u001b[0;34m(\u001b[0m\u001b[0;34m)\u001b[0m\u001b[0;34m:\u001b[0m\u001b[0;34m\u001b[0m\u001b[0m\n",
      "\u001b[0;32m~/Documents/fproj/Code/Train/trainer.py\u001b[0m in \u001b[0;36mtrain_step\u001b[0;34m(self, loader)\u001b[0m\n\u001b[1;32m    142\u001b[0m                 \u001b[0my\u001b[0m \u001b[0;34m=\u001b[0m \u001b[0my\u001b[0m\u001b[0;34m.\u001b[0m\u001b[0mcuda\u001b[0m\u001b[0;34m(\u001b[0m\u001b[0;34m)\u001b[0m\u001b[0;34m\u001b[0m\u001b[0m\n\u001b[1;32m    143\u001b[0m             \u001b[0mself\u001b[0m\u001b[0;34m.\u001b[0m\u001b[0moptim\u001b[0m\u001b[0;34m.\u001b[0m\u001b[0mzero_grad\u001b[0m\u001b[0;34m(\u001b[0m\u001b[0;34m)\u001b[0m\u001b[0;34m\u001b[0m\u001b[0m\n\u001b[0;32m--> 144\u001b[0;31m             \u001b[0mloss\u001b[0m \u001b[0;34m=\u001b[0m \u001b[0mself\u001b[0m\u001b[0;34m.\u001b[0m\u001b[0mforward_and_apply_loss_function\u001b[0m\u001b[0;34m(\u001b[0m\u001b[0mx\u001b[0m\u001b[0;34m,\u001b[0m \u001b[0my\u001b[0m\u001b[0;34m)\u001b[0m\u001b[0;34m\u001b[0m\u001b[0m\n\u001b[0m\u001b[1;32m    145\u001b[0m             \u001b[0mloss\u001b[0m\u001b[0;34m.\u001b[0m\u001b[0mbackward\u001b[0m\u001b[0;34m(\u001b[0m\u001b[0;34m)\u001b[0m\u001b[0;34m\u001b[0m\u001b[0m\n\u001b[1;32m    146\u001b[0m             \u001b[0mtrain_loss\u001b[0m \u001b[0;34m+=\u001b[0m \u001b[0mloss\u001b[0m\u001b[0;34m.\u001b[0m\u001b[0mitem\u001b[0m\u001b[0;34m(\u001b[0m\u001b[0;34m)\u001b[0m\u001b[0;34m\u001b[0m\u001b[0m\n",
      "\u001b[0;32m~/Documents/fproj/Code/Train/trainer.py\u001b[0m in \u001b[0;36mforward_and_apply_loss_function\u001b[0;34m(self, x, y)\u001b[0m\n\u001b[1;32m    168\u001b[0m \u001b[0;34m\u001b[0m\u001b[0m\n\u001b[1;32m    169\u001b[0m     \u001b[0;32mdef\u001b[0m \u001b[0mforward_and_apply_loss_function\u001b[0m\u001b[0;34m(\u001b[0m\u001b[0mself\u001b[0m\u001b[0;34m,\u001b[0m \u001b[0mx\u001b[0m\u001b[0;34m,\u001b[0m \u001b[0my\u001b[0m\u001b[0;34m)\u001b[0m\u001b[0;34m:\u001b[0m\u001b[0;34m\u001b[0m\u001b[0m\n\u001b[0;32m--> 170\u001b[0;31m         \u001b[0;32mreturn\u001b[0m \u001b[0mself\u001b[0m\u001b[0;34m.\u001b[0m\u001b[0mloss_fn\u001b[0m\u001b[0;34m(\u001b[0m\u001b[0mself\u001b[0m\u001b[0;34m.\u001b[0m\u001b[0mmodel\u001b[0m\u001b[0;34m(\u001b[0m\u001b[0mx\u001b[0m\u001b[0;34m)\u001b[0m\u001b[0;34m,\u001b[0m \u001b[0my\u001b[0m\u001b[0;34m)\u001b[0m\u001b[0;34m\u001b[0m\u001b[0m\n\u001b[0m\u001b[1;32m    171\u001b[0m \u001b[0;34m\u001b[0m\u001b[0m\n\u001b[1;32m    172\u001b[0m     \u001b[0;32mdef\u001b[0m \u001b[0mupdate_momentum\u001b[0m\u001b[0;34m(\u001b[0m\u001b[0mself\u001b[0m\u001b[0;34m)\u001b[0m\u001b[0;34m:\u001b[0m\u001b[0;34m\u001b[0m\u001b[0m\n",
      "\u001b[0;32m~/anaconda3/lib/python3.6/site-packages/torch/nn/modules/module.py\u001b[0m in \u001b[0;36m__call__\u001b[0;34m(self, *input, **kwargs)\u001b[0m\n\u001b[1;32m    475\u001b[0m             \u001b[0mresult\u001b[0m \u001b[0;34m=\u001b[0m \u001b[0mself\u001b[0m\u001b[0;34m.\u001b[0m\u001b[0m_slow_forward\u001b[0m\u001b[0;34m(\u001b[0m\u001b[0;34m*\u001b[0m\u001b[0minput\u001b[0m\u001b[0;34m,\u001b[0m \u001b[0;34m**\u001b[0m\u001b[0mkwargs\u001b[0m\u001b[0;34m)\u001b[0m\u001b[0;34m\u001b[0m\u001b[0m\n\u001b[1;32m    476\u001b[0m         \u001b[0;32melse\u001b[0m\u001b[0;34m:\u001b[0m\u001b[0;34m\u001b[0m\u001b[0m\n\u001b[0;32m--> 477\u001b[0;31m             \u001b[0mresult\u001b[0m \u001b[0;34m=\u001b[0m \u001b[0mself\u001b[0m\u001b[0;34m.\u001b[0m\u001b[0mforward\u001b[0m\u001b[0;34m(\u001b[0m\u001b[0;34m*\u001b[0m\u001b[0minput\u001b[0m\u001b[0;34m,\u001b[0m \u001b[0;34m**\u001b[0m\u001b[0mkwargs\u001b[0m\u001b[0;34m)\u001b[0m\u001b[0;34m\u001b[0m\u001b[0m\n\u001b[0m\u001b[1;32m    478\u001b[0m         \u001b[0;32mfor\u001b[0m \u001b[0mhook\u001b[0m \u001b[0;32min\u001b[0m \u001b[0mself\u001b[0m\u001b[0;34m.\u001b[0m\u001b[0m_forward_hooks\u001b[0m\u001b[0;34m.\u001b[0m\u001b[0mvalues\u001b[0m\u001b[0;34m(\u001b[0m\u001b[0;34m)\u001b[0m\u001b[0;34m:\u001b[0m\u001b[0;34m\u001b[0m\u001b[0m\n\u001b[1;32m    479\u001b[0m             \u001b[0mhook_result\u001b[0m \u001b[0;34m=\u001b[0m \u001b[0mhook\u001b[0m\u001b[0;34m(\u001b[0m\u001b[0mself\u001b[0m\u001b[0;34m,\u001b[0m \u001b[0minput\u001b[0m\u001b[0;34m,\u001b[0m \u001b[0mresult\u001b[0m\u001b[0;34m)\u001b[0m\u001b[0;34m\u001b[0m\u001b[0m\n",
      "\u001b[0;32m~/Documents/fproj/Code/Models/SchNet/schnet.py\u001b[0m in \u001b[0;36mforward\u001b[0;34m(self, x_data)\u001b[0m\n\u001b[1;32m     23\u001b[0m \u001b[0;34m\u001b[0m\u001b[0m\n\u001b[1;32m     24\u001b[0m         \u001b[0mx\u001b[0m \u001b[0;34m=\u001b[0m \u001b[0mself\u001b[0m\u001b[0;34m.\u001b[0m\u001b[0minteraction_1\u001b[0m\u001b[0;34m(\u001b[0m\u001b[0membedded_atom_ids\u001b[0m\u001b[0;34m,\u001b[0m \u001b[0mdistances\u001b[0m\u001b[0;34m)\u001b[0m\u001b[0;34m\u001b[0m\u001b[0m\n\u001b[0;32m---> 25\u001b[0;31m         \u001b[0mx\u001b[0m \u001b[0;34m=\u001b[0m \u001b[0mself\u001b[0m\u001b[0;34m.\u001b[0m\u001b[0minteraction_2\u001b[0m\u001b[0;34m(\u001b[0m\u001b[0mx\u001b[0m\u001b[0;34m,\u001b[0m \u001b[0mdistances\u001b[0m\u001b[0;34m)\u001b[0m\u001b[0;34m\u001b[0m\u001b[0m\n\u001b[0m\u001b[1;32m     26\u001b[0m         \u001b[0mx\u001b[0m \u001b[0;34m=\u001b[0m \u001b[0mself\u001b[0m\u001b[0;34m.\u001b[0m\u001b[0minteraction_3\u001b[0m\u001b[0;34m(\u001b[0m\u001b[0mx\u001b[0m\u001b[0;34m,\u001b[0m \u001b[0mdistances\u001b[0m\u001b[0;34m)\u001b[0m\u001b[0;34m\u001b[0m\u001b[0m\n\u001b[1;32m     27\u001b[0m         \u001b[0mx\u001b[0m \u001b[0;34m=\u001b[0m \u001b[0mself\u001b[0m\u001b[0;34m.\u001b[0m\u001b[0matomwise_1\u001b[0m\u001b[0;34m(\u001b[0m\u001b[0mx\u001b[0m\u001b[0;34m)\u001b[0m\u001b[0;34m\u001b[0m\u001b[0m\n",
      "\u001b[0;32m~/anaconda3/lib/python3.6/site-packages/torch/nn/modules/module.py\u001b[0m in \u001b[0;36m__call__\u001b[0;34m(self, *input, **kwargs)\u001b[0m\n\u001b[1;32m    475\u001b[0m             \u001b[0mresult\u001b[0m \u001b[0;34m=\u001b[0m \u001b[0mself\u001b[0m\u001b[0;34m.\u001b[0m\u001b[0m_slow_forward\u001b[0m\u001b[0;34m(\u001b[0m\u001b[0;34m*\u001b[0m\u001b[0minput\u001b[0m\u001b[0;34m,\u001b[0m \u001b[0;34m**\u001b[0m\u001b[0mkwargs\u001b[0m\u001b[0;34m)\u001b[0m\u001b[0;34m\u001b[0m\u001b[0m\n\u001b[1;32m    476\u001b[0m         \u001b[0;32melse\u001b[0m\u001b[0;34m:\u001b[0m\u001b[0;34m\u001b[0m\u001b[0m\n\u001b[0;32m--> 477\u001b[0;31m             \u001b[0mresult\u001b[0m \u001b[0;34m=\u001b[0m \u001b[0mself\u001b[0m\u001b[0;34m.\u001b[0m\u001b[0mforward\u001b[0m\u001b[0;34m(\u001b[0m\u001b[0;34m*\u001b[0m\u001b[0minput\u001b[0m\u001b[0;34m,\u001b[0m \u001b[0;34m**\u001b[0m\u001b[0mkwargs\u001b[0m\u001b[0;34m)\u001b[0m\u001b[0;34m\u001b[0m\u001b[0m\n\u001b[0m\u001b[1;32m    478\u001b[0m         \u001b[0;32mfor\u001b[0m \u001b[0mhook\u001b[0m \u001b[0;32min\u001b[0m \u001b[0mself\u001b[0m\u001b[0;34m.\u001b[0m\u001b[0m_forward_hooks\u001b[0m\u001b[0;34m.\u001b[0m\u001b[0mvalues\u001b[0m\u001b[0;34m(\u001b[0m\u001b[0;34m)\u001b[0m\u001b[0;34m:\u001b[0m\u001b[0;34m\u001b[0m\u001b[0m\n\u001b[1;32m    479\u001b[0m             \u001b[0mhook_result\u001b[0m \u001b[0;34m=\u001b[0m \u001b[0mhook\u001b[0m\u001b[0;34m(\u001b[0m\u001b[0mself\u001b[0m\u001b[0;34m,\u001b[0m \u001b[0minput\u001b[0m\u001b[0;34m,\u001b[0m \u001b[0mresult\u001b[0m\u001b[0;34m)\u001b[0m\u001b[0;34m\u001b[0m\u001b[0m\n",
      "\u001b[0;32m~/Documents/fproj/Code/Models/SchNet/interaction.py\u001b[0m in \u001b[0;36mforward\u001b[0;34m(self, x_l, distance)\u001b[0m\n\u001b[1;32m     16\u001b[0m     \u001b[0;32mdef\u001b[0m \u001b[0mforward\u001b[0m\u001b[0;34m(\u001b[0m\u001b[0mself\u001b[0m\u001b[0;34m,\u001b[0m \u001b[0mx_l\u001b[0m\u001b[0;34m,\u001b[0m \u001b[0mdistance\u001b[0m\u001b[0;34m)\u001b[0m\u001b[0;34m:\u001b[0m\u001b[0;34m\u001b[0m\u001b[0m\n\u001b[1;32m     17\u001b[0m         \u001b[0mx_interaction\u001b[0m \u001b[0;34m=\u001b[0m \u001b[0mself\u001b[0m\u001b[0;34m.\u001b[0m\u001b[0matomwise_1\u001b[0m\u001b[0;34m(\u001b[0m\u001b[0mx_l\u001b[0m\u001b[0;34m)\u001b[0m\u001b[0;34m\u001b[0m\u001b[0m\n\u001b[0;32m---> 18\u001b[0;31m         \u001b[0mx_interaction\u001b[0m \u001b[0;34m=\u001b[0m \u001b[0mself\u001b[0m\u001b[0;34m.\u001b[0m\u001b[0mcfconv\u001b[0m\u001b[0;34m(\u001b[0m\u001b[0mx_interaction\u001b[0m\u001b[0;34m,\u001b[0m \u001b[0mdistance\u001b[0m\u001b[0;34m)\u001b[0m\u001b[0;34m\u001b[0m\u001b[0m\n\u001b[0m\u001b[1;32m     19\u001b[0m         \u001b[0mx_interaction\u001b[0m \u001b[0;34m=\u001b[0m \u001b[0mself\u001b[0m\u001b[0;34m.\u001b[0m\u001b[0matomwise_2\u001b[0m\u001b[0;34m(\u001b[0m\u001b[0mx_interaction\u001b[0m\u001b[0;34m)\u001b[0m\u001b[0;34m\u001b[0m\u001b[0m\n\u001b[1;32m     20\u001b[0m         \u001b[0mx_interaction\u001b[0m \u001b[0;34m=\u001b[0m \u001b[0mself\u001b[0m\u001b[0;34m.\u001b[0m\u001b[0mssp\u001b[0m\u001b[0;34m(\u001b[0m\u001b[0mx_interaction\u001b[0m\u001b[0;34m)\u001b[0m\u001b[0;34m\u001b[0m\u001b[0m\n",
      "\u001b[0;32m~/anaconda3/lib/python3.6/site-packages/torch/nn/modules/module.py\u001b[0m in \u001b[0;36m__call__\u001b[0;34m(self, *input, **kwargs)\u001b[0m\n\u001b[1;32m    475\u001b[0m             \u001b[0mresult\u001b[0m \u001b[0;34m=\u001b[0m \u001b[0mself\u001b[0m\u001b[0;34m.\u001b[0m\u001b[0m_slow_forward\u001b[0m\u001b[0;34m(\u001b[0m\u001b[0;34m*\u001b[0m\u001b[0minput\u001b[0m\u001b[0;34m,\u001b[0m \u001b[0;34m**\u001b[0m\u001b[0mkwargs\u001b[0m\u001b[0;34m)\u001b[0m\u001b[0;34m\u001b[0m\u001b[0m\n\u001b[1;32m    476\u001b[0m         \u001b[0;32melse\u001b[0m\u001b[0;34m:\u001b[0m\u001b[0;34m\u001b[0m\u001b[0m\n\u001b[0;32m--> 477\u001b[0;31m             \u001b[0mresult\u001b[0m \u001b[0;34m=\u001b[0m \u001b[0mself\u001b[0m\u001b[0;34m.\u001b[0m\u001b[0mforward\u001b[0m\u001b[0;34m(\u001b[0m\u001b[0;34m*\u001b[0m\u001b[0minput\u001b[0m\u001b[0;34m,\u001b[0m \u001b[0;34m**\u001b[0m\u001b[0mkwargs\u001b[0m\u001b[0;34m)\u001b[0m\u001b[0;34m\u001b[0m\u001b[0m\n\u001b[0m\u001b[1;32m    478\u001b[0m         \u001b[0;32mfor\u001b[0m \u001b[0mhook\u001b[0m \u001b[0;32min\u001b[0m \u001b[0mself\u001b[0m\u001b[0;34m.\u001b[0m\u001b[0m_forward_hooks\u001b[0m\u001b[0;34m.\u001b[0m\u001b[0mvalues\u001b[0m\u001b[0;34m(\u001b[0m\u001b[0;34m)\u001b[0m\u001b[0;34m:\u001b[0m\u001b[0;34m\u001b[0m\u001b[0m\n\u001b[1;32m    479\u001b[0m             \u001b[0mhook_result\u001b[0m \u001b[0;34m=\u001b[0m \u001b[0mhook\u001b[0m\u001b[0;34m(\u001b[0m\u001b[0mself\u001b[0m\u001b[0;34m,\u001b[0m \u001b[0minput\u001b[0m\u001b[0;34m,\u001b[0m \u001b[0mresult\u001b[0m\u001b[0;34m)\u001b[0m\u001b[0;34m\u001b[0m\u001b[0m\n",
      "\u001b[0;32m~/Documents/fproj/Code/Models/SchNet/cfconv.py\u001b[0m in \u001b[0;36mforward\u001b[0;34m(self, x, distances)\u001b[0m\n\u001b[1;32m     21\u001b[0m     \u001b[0;32mdef\u001b[0m \u001b[0mforward\u001b[0m\u001b[0;34m(\u001b[0m\u001b[0mself\u001b[0m\u001b[0;34m,\u001b[0m \u001b[0mx\u001b[0m\u001b[0;34m,\u001b[0m \u001b[0mdistances\u001b[0m\u001b[0;34m)\u001b[0m\u001b[0;34m:\u001b[0m\u001b[0;34m\u001b[0m\u001b[0m\n\u001b[1;32m     22\u001b[0m         \u001b[0mgamma\u001b[0m \u001b[0;34m=\u001b[0m \u001b[0;36m10\u001b[0m\u001b[0;34m\u001b[0m\u001b[0m\n\u001b[0;32m---> 23\u001b[0;31m         \u001b[0me_k\u001b[0m \u001b[0;34m=\u001b[0m \u001b[0mrbf\u001b[0m\u001b[0;34m(\u001b[0m\u001b[0mdistances\u001b[0m\u001b[0;34m.\u001b[0m\u001b[0munsqueeze\u001b[0m\u001b[0;34m(\u001b[0m\u001b[0;34m-\u001b[0m\u001b[0;36m1\u001b[0m\u001b[0;34m)\u001b[0m\u001b[0;34m,\u001b[0m \u001b[0mgamma\u001b[0m\u001b[0;34m,\u001b[0m \u001b[0mself\u001b[0m\u001b[0;34m.\u001b[0m\u001b[0mn_rbf\u001b[0m\u001b[0;34m)\u001b[0m\u001b[0;34m\u001b[0m\u001b[0m\n\u001b[0m\u001b[1;32m     24\u001b[0m         \u001b[0mw_l\u001b[0m \u001b[0;34m=\u001b[0m \u001b[0mself\u001b[0m\u001b[0;34m.\u001b[0m\u001b[0mconvnet\u001b[0m\u001b[0;34m(\u001b[0m\u001b[0me_k\u001b[0m\u001b[0;34m)\u001b[0m\u001b[0;34m\u001b[0m\u001b[0m\n\u001b[1;32m     25\u001b[0m         \u001b[0;32mreturn\u001b[0m \u001b[0mtorch\u001b[0m\u001b[0;34m.\u001b[0m\u001b[0msum\u001b[0m\u001b[0;34m(\u001b[0m\u001b[0mx\u001b[0m\u001b[0;34m.\u001b[0m\u001b[0munsqueeze\u001b[0m\u001b[0;34m(\u001b[0m\u001b[0;36m2\u001b[0m\u001b[0;34m)\u001b[0m \u001b[0;34m*\u001b[0m \u001b[0mw_l\u001b[0m\u001b[0;34m,\u001b[0m \u001b[0;36m2\u001b[0m\u001b[0;34m)\u001b[0m\u001b[0;34m\u001b[0m\u001b[0m\n",
      "\u001b[0;32m~/Documents/fproj/Code/Models/SchNet/cfconv.py\u001b[0m in \u001b[0;36mrbf\u001b[0;34m(d_ij, gamma, n_rbf)\u001b[0m\n\u001b[1;32m      7\u001b[0m     \u001b[0mmu_k\u001b[0m \u001b[0;34m=\u001b[0m \u001b[0;36m0.1\u001b[0m \u001b[0;34m*\u001b[0m \u001b[0mtorch\u001b[0m\u001b[0;34m.\u001b[0m\u001b[0mlinspace\u001b[0m\u001b[0;34m(\u001b[0m\u001b[0;36m0\u001b[0m\u001b[0;34m,\u001b[0m \u001b[0;36m30\u001b[0m\u001b[0;34m,\u001b[0m \u001b[0mn_rbf\u001b[0m\u001b[0;34m)\u001b[0m\u001b[0;34m\u001b[0m\u001b[0m\n\u001b[1;32m      8\u001b[0m     \u001b[0;32mif\u001b[0m \u001b[0md_ij\u001b[0m\u001b[0;34m.\u001b[0m\u001b[0mis_cuda\u001b[0m\u001b[0;34m:\u001b[0m\u001b[0;34m\u001b[0m\u001b[0m\n\u001b[0;32m----> 9\u001b[0;31m         \u001b[0mmu_k\u001b[0m \u001b[0;34m=\u001b[0m \u001b[0mmu_k\u001b[0m\u001b[0;34m.\u001b[0m\u001b[0mcuda\u001b[0m\u001b[0;34m(\u001b[0m\u001b[0;34m)\u001b[0m\u001b[0;34m\u001b[0m\u001b[0m\n\u001b[0m\u001b[1;32m     10\u001b[0m     \u001b[0mresult\u001b[0m \u001b[0;34m=\u001b[0m \u001b[0mtorch\u001b[0m\u001b[0;34m.\u001b[0m\u001b[0mexp\u001b[0m\u001b[0;34m(\u001b[0m\u001b[0;34m-\u001b[0m\u001b[0mgamma\u001b[0m\u001b[0;34m*\u001b[0m\u001b[0;34m(\u001b[0m\u001b[0md_ij\u001b[0m\u001b[0;34m-\u001b[0m\u001b[0mmu_k\u001b[0m\u001b[0;34m)\u001b[0m\u001b[0;34m**\u001b[0m\u001b[0;36m2\u001b[0m\u001b[0;34m)\u001b[0m\u001b[0;34m\u001b[0m\u001b[0m\n\u001b[1;32m     11\u001b[0m     \u001b[0;32mreturn\u001b[0m \u001b[0mresult\u001b[0m\u001b[0;34m\u001b[0m\u001b[0m\n",
      "\u001b[0;31mKeyboardInterrupt\u001b[0m: "
     ]
    }
   ],
   "source": [
    "trainer.fit(160)"
   ]
  },
  {
   "cell_type": "markdown",
   "metadata": {},
   "source": [
    "# Evaluate"
   ]
  },
  {
   "cell_type": "code",
   "execution_count": 10,
   "metadata": {},
   "outputs": [
    {
     "data": {
      "text/plain": [
       "0.15499325096607208"
      ]
     },
     "execution_count": 10,
     "metadata": {},
     "output_type": "execute_result"
    }
   ],
   "source": [
    "trainer.calculate_mae()"
   ]
  },
  {
   "cell_type": "code",
   "execution_count": 11,
   "metadata": {},
   "outputs": [
    {
     "data": {
      "image/png": "[encoded data removed]",
      "text/plain": [
       "<Figure size 432x288 with 1 Axes>"
      ]
     },
     "metadata": {},
     "output_type": "display_data"
    }
   ],
   "source": [
    "trainer.create_loss_plot()"
   ]
  },
  {
   "cell_type": "code",
   "execution_count": 12,
   "metadata": {},
   "outputs": [
    {
     "name": "stderr",
     "output_type": "stream",
     "text": [
      "/home/stfn/anaconda3/lib/python3.6/site-packages/matplotlib/figure.py:459: UserWarning: matplotlib is currently using a non-GUI backend, so cannot show the figure\n",
      "  \"matplotlib is currently using a non-GUI backend, \"\n"
     ]
    }
   ],
   "source": [
    "trainer.show_loss_plot()"
   ]
  },
  {
   "cell_type": "code",
   "execution_count": 13,
   "metadata": {},
   "outputs": [],
   "source": [
    "trainer.save_loss_plot()"
   ]
  },
  {
   "cell_type": "code",
   "execution_count": null,
   "metadata": {},
   "outputs": [],
   "source": []
  }
 ],
 "metadata": {
  "kernelspec": {
   "display_name": "Python 3",
   "language": "python",
   "name": "python3"
  },
  "language_info": {
   "codemirror_mode": {
    "name": "ipython",
    "version": 3
   },
   "file_extension": ".py",
   "mimetype": "text/x-python",
   "name": "python",
   "nbconvert_exporter": "python",
   "pygments_lexer": "ipython3",
   "version": "3.6.5"
  }
 },
 "nbformat": 4,
 "nbformat_minor": 2
}
