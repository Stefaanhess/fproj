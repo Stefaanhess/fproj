{
 "cells": [
  {
   "cell_type": "markdown",
   "metadata": {},
   "source": [
    "# Imports and Settings"
   ]
  },
  {
   "cell_type": "code",
   "execution_count": 1,
   "metadata": {
    "collapsed": true
   },
   "outputs": [],
   "source": [
    "# -*- coding: utf-8 -*-\n",
    "import pandas as pd\n",
    "import numpy as np\n",
    "import os\n",
    "from scipy.spatial.distance import squareform, cdist\n",
    "import time\n",
    "from numpy.testing import *\n",
    "from ase.db import connect"
   ]
  },
  {
   "cell_type": "code",
   "execution_count": 2,
   "metadata": {},
   "outputs": [],
   "source": [
    "from Code.Tools.Data.printer import ProgressTimer\n",
    "from Code.Tools.Data.saver import create_path\n",
    "from Code.Tools.Data.transform import get_spherical, change_base, get_input_data"
   ]
  },
  {
   "cell_type": "code",
   "execution_count": 4,
   "metadata": {},
   "outputs": [],
   "source": [
    "reference_db = \"./Dataset/iso17/reference.db\"\n",
    "within_db = \"./Dataset/iso17/within.db\"\n",
    "reference_npy = \"./Dataset/iso17/reference_\"\n",
    "within_npy = \"./Dataset/iso17/within_\"\n",
    "db_paths = [reference_db, within_db]\n",
    "npy_paths = [reference_npy, within_npy]"
   ]
  },
  {
   "cell_type": "code",
   "execution_count": 5,
   "metadata": {},
   "outputs": [
    {
     "name": "stdout",
     "output_type": "stream",
     "text": [
      "(404000, 19, 4)\n",
      "0.0  % ---  75.6\n",
      "0.0  % ---  65.9\n",
      "0.1  % ---  63.0\n",
      "0.1  % ---  61.2\n",
      "0.1  % ---  60.4\n",
      "0.1  % ---  59.6\n",
      "0.2  % ---  59.4\n",
      "0.2  % ---  59.1\n",
      "0.2  % ---  58.7\n",
      "0.2  % ---  58.6\n",
      "0.3  % ---  58.5\n",
      "0.3  % ---  58.5\n",
      "0.3  % ---  58.2\n",
      "0.3  % ---  58.1\n",
      "0.4  % ---  58.2\n",
      "0.4  % ---  58.4\n",
      "0.4  % ---  58.3\n",
      "0.4  % ---  58.2\n",
      "0.5  % ---  58.0\n",
      "0.5  % ---  57.9\n",
      "0.5  % ---  57.8\n",
      "0.5  % ---  57.7\n",
      "0.6  % ---  57.7\n",
      "0.6  % ---  57.7\n",
      "0.6  % ---  57.7\n",
      "0.6  % ---  57.6\n",
      "0.7  % ---  57.6\n",
      "0.7  % ---  57.6\n",
      "0.7  % ---  57.6\n",
      "0.7  % ---  57.5\n",
      "0.8  % ---  57.6\n",
      "0.8  % ---  57.6\n",
      "0.8  % ---  57.6\n",
      "0.8  % ---  57.6\n",
      "0.9  % ---  57.6\n",
      "0.9  % ---  57.5\n",
      "0.9  % ---  57.4\n",
      "0.9  % ---  57.4\n",
      "1.0  % ---  57.3\n",
      "1.0  % ---  57.4\n",
      "1.0  % ---  57.4\n",
      "1.0  % ---  57.3\n",
      "1.1  % ---  57.3\n",
      "1.1  % ---  57.2\n",
      "1.1  % ---  57.2\n",
      "1.1  % ---  57.2\n",
      "1.2  % ---  57.2\n",
      "1.2  % ---  57.1\n",
      "1.2  % ---  57.1\n",
      "1.2  % ---  57.1\n",
      "1.3  % ---  57.0\n",
      "1.3  % ---  57.0\n",
      "1.3  % ---  57.0\n",
      "1.3  % ---  56.9\n",
      "1.4  % ---  56.9\n",
      "1.4  % ---  56.9\n",
      "1.4  % ---  57.0\n",
      "1.4  % ---  57.0\n",
      "1.5  % ---  56.9\n",
      "1.5  % ---  56.9\n",
      "1.5  % ---  56.8\n",
      "1.5  % ---  56.8\n",
      "1.6  % ---  56.9\n",
      "1.6  % ---  56.9\n",
      "1.6  % ---  56.8\n",
      "1.6  % ---  56.8\n",
      "1.7  % ---  56.8\n",
      "1.7  % ---  56.7\n",
      "1.7  % ---  56.8\n",
      "1.7  % ---  56.8\n",
      "1.8  % ---  56.8\n",
      "1.8  % ---  56.8\n",
      "1.8  % ---  56.7\n",
      "1.8  % ---  56.7\n",
      "1.9  % ---  56.7\n",
      "1.9  % ---  56.7\n",
      "1.9  % ---  56.6\n",
      "1.9  % ---  56.6\n",
      "2.0  % ---  56.6\n",
      "2.0  % ---  56.5\n",
      "2.0  % ---  56.5\n",
      "2.0  % ---  56.4\n",
      "2.1  % ---  56.4\n",
      "2.1  % ---  56.4\n",
      "2.1  % ---  56.3\n",
      "2.1  % ---  56.3\n",
      "2.2  % ---  56.3\n",
      "2.2  % ---  56.2\n",
      "2.2  % ---  56.2\n",
      "2.2  % ---  56.2\n",
      "2.3  % ---  56.1\n",
      "2.3  % ---  56.1\n",
      "2.3  % ---  56.1\n",
      "2.3  % ---  56.1\n",
      "2.4  % ---  56.0\n",
      "2.4  % ---  56.0\n",
      "2.4  % ---  56.0\n",
      "2.4  % ---  56.0\n",
      "2.5  % ---  56.0\n",
      "2.5  % ---  56.0\n",
      "2.5  % ---  56.1\n",
      "2.5  % ---  56.1\n",
      "2.5  % ---  56.1\n",
      "2.6  % ---  56.1\n",
      "2.6  % ---  56.1\n",
      "2.6  % ---  56.0\n",
      "2.6  % ---  56.0\n",
      "2.7  % ---  56.1\n",
      "2.7  % ---  56.3\n",
      "2.7  % ---  56.3\n",
      "2.7  % ---  56.3\n",
      "2.8  % ---  56.3\n",
      "2.8  % ---  56.3\n",
      "2.8  % ---  56.3\n",
      "2.8  % ---  56.3\n",
      "2.9  % ---  56.2\n",
      "2.9  % ---  56.2\n",
      "2.9  % ---  56.2\n",
      "2.9  % ---  56.2\n",
      "3.0  % ---  56.2\n",
      "3.0  % ---  56.1\n",
      "3.0  % ---  56.1\n",
      "3.0  % ---  56.1\n",
      "3.1  % ---  56.1\n"
     ]
    },
    {
     "ename": "KeyboardInterrupt",
     "evalue": "",
     "output_type": "error",
     "traceback": [
      "\u001b[0;31m---------------------------------------------------------------------------\u001b[0m",
      "\u001b[0;31mKeyboardInterrupt\u001b[0m                         Traceback (most recent call last)",
      "\u001b[0;32m<ipython-input-5-4a0ae46c765e>\u001b[0m in \u001b[0;36m<module>\u001b[0;34m()\u001b[0m\n\u001b[1;32m      9\u001b[0m     \u001b[0mprint\u001b[0m\u001b[0;34m(\u001b[0m\u001b[0mnp\u001b[0m\u001b[0;34m.\u001b[0m\u001b[0marray\u001b[0m\u001b[0;34m(\u001b[0m\u001b[0mmolecules\u001b[0m\u001b[0;34m)\u001b[0m\u001b[0;34m.\u001b[0m\u001b[0mshape\u001b[0m\u001b[0;34m)\u001b[0m\u001b[0;34m\u001b[0m\u001b[0m\n\u001b[1;32m     10\u001b[0m     \u001b[0mstart\u001b[0m \u001b[0;34m=\u001b[0m \u001b[0mtime\u001b[0m\u001b[0;34m.\u001b[0m\u001b[0mtime\u001b[0m\u001b[0;34m(\u001b[0m\u001b[0;34m)\u001b[0m\u001b[0;34m\u001b[0m\u001b[0m\n\u001b[0;32m---> 11\u001b[0;31m     \u001b[0mnetwork_in\u001b[0m \u001b[0;34m=\u001b[0m \u001b[0mnp\u001b[0m\u001b[0;34m.\u001b[0m\u001b[0marray\u001b[0m\u001b[0;34m(\u001b[0m\u001b[0mget_input_data\u001b[0m\u001b[0;34m(\u001b[0m\u001b[0mmolecules\u001b[0m\u001b[0;34m)\u001b[0m\u001b[0;34m)\u001b[0m\u001b[0;34m\u001b[0m\u001b[0m\n\u001b[0m\u001b[1;32m     12\u001b[0m     \u001b[0mprint\u001b[0m\u001b[0;34m(\u001b[0m\u001b[0;34m'time: {}'\u001b[0m\u001b[0;34m.\u001b[0m\u001b[0mformat\u001b[0m\u001b[0;34m(\u001b[0m\u001b[0mtime\u001b[0m\u001b[0;34m.\u001b[0m\u001b[0mtime\u001b[0m\u001b[0;34m(\u001b[0m\u001b[0;34m)\u001b[0m \u001b[0;34m-\u001b[0m \u001b[0mstart\u001b[0m\u001b[0;34m)\u001b[0m\u001b[0;34m)\u001b[0m\u001b[0;34m\u001b[0m\u001b[0m\n\u001b[1;32m     13\u001b[0m     \u001b[0mnp\u001b[0m\u001b[0;34m.\u001b[0m\u001b[0msave\u001b[0m\u001b[0;34m(\u001b[0m\u001b[0mnpy_path\u001b[0m \u001b[0;34m+\u001b[0m \u001b[0;34m'X'\u001b[0m\u001b[0;34m,\u001b[0m \u001b[0mnetwork_in\u001b[0m\u001b[0;34m)\u001b[0m\u001b[0;34m\u001b[0m\u001b[0m\n",
      "\u001b[0;32m~/Documents/FUB/Forschungsprojekt/fproj/Code/Tools/Data/transform.py\u001b[0m in \u001b[0;36mget_input_data\u001b[0;34m(raw_matrix)\u001b[0m\n\u001b[1;32m    107\u001b[0m             \u001b[0;31m# get nearest atoms that are not H\u001b[0m\u001b[0;34m\u001b[0m\u001b[0;34m\u001b[0m\u001b[0m\n\u001b[1;32m    108\u001b[0m             \u001b[0mnearest\u001b[0m \u001b[0;34m=\u001b[0m \u001b[0mdistances\u001b[0m\u001b[0;34m.\u001b[0m\u001b[0margsort\u001b[0m\u001b[0;34m(\u001b[0m\u001b[0mkind\u001b[0m\u001b[0;34m=\u001b[0m\u001b[0;34m'mergesort'\u001b[0m\u001b[0;34m)\u001b[0m\u001b[0;34m\u001b[0m\u001b[0m\n\u001b[0;32m--> 109\u001b[0;31m             \u001b[0mone\u001b[0m\u001b[0;34m,\u001b[0m \u001b[0mtwo\u001b[0m \u001b[0;34m=\u001b[0m \u001b[0mget_nearest\u001b[0m\u001b[0;34m(\u001b[0m\u001b[0mfocus_atom\u001b[0m\u001b[0;34m,\u001b[0m \u001b[0mothers\u001b[0m\u001b[0;34m,\u001b[0m \u001b[0mnot_H_atoms\u001b[0m\u001b[0;34m)\u001b[0m\u001b[0;34m[\u001b[0m\u001b[0;34m:\u001b[0m\u001b[0;34m,\u001b[0m \u001b[0;36m1\u001b[0m\u001b[0;34m:\u001b[0m\u001b[0;34m]\u001b[0m\u001b[0;34m\u001b[0m\u001b[0m\n\u001b[0m\u001b[1;32m    110\u001b[0m             \u001b[0;31m# get new basis vectors\u001b[0m\u001b[0;34m\u001b[0m\u001b[0;34m\u001b[0m\u001b[0m\n\u001b[1;32m    111\u001b[0m             \u001b[0mnew_x\u001b[0m \u001b[0;34m=\u001b[0m \u001b[0mone\u001b[0m \u001b[0;34m-\u001b[0m \u001b[0mzero\u001b[0m\u001b[0;34m\u001b[0m\u001b[0m\n",
      "\u001b[0;32m~/Documents/FUB/Forschungsprojekt/fproj/Code/Tools/Data/transform.py\u001b[0m in \u001b[0;36mget_nearest\u001b[0;34m(focus_atom, neighs, not_h)\u001b[0m\n\u001b[1;32m     63\u001b[0m     \u001b[0mnot_h\u001b[0m \u001b[0;34m=\u001b[0m \u001b[0;34m(\u001b[0m\u001b[0mneighs\u001b[0m\u001b[0;34m[\u001b[0m\u001b[0;34m:\u001b[0m\u001b[0;34m,\u001b[0m \u001b[0;36m0\u001b[0m\u001b[0;34m]\u001b[0m \u001b[0;34m!=\u001b[0m \u001b[0;36m1\u001b[0m\u001b[0;34m)\u001b[0m\u001b[0;34m.\u001b[0m\u001b[0msum\u001b[0m\u001b[0;34m(\u001b[0m\u001b[0;34m)\u001b[0m\u001b[0;34m\u001b[0m\u001b[0m\n\u001b[1;32m     64\u001b[0m     \u001b[0;32mif\u001b[0m \u001b[0mnot_h\u001b[0m \u001b[0;34m>=\u001b[0m \u001b[0;36m3\u001b[0m\u001b[0;34m:\u001b[0m\u001b[0;34m\u001b[0m\u001b[0m\n\u001b[0;32m---> 65\u001b[0;31m         \u001b[0mneighs\u001b[0m \u001b[0;34m=\u001b[0m \u001b[0mneighs\u001b[0m\u001b[0;34m[\u001b[0m\u001b[0;34m(\u001b[0m\u001b[0mneighs\u001b[0m\u001b[0;34m[\u001b[0m\u001b[0;34m:\u001b[0m\u001b[0;34m,\u001b[0m \u001b[0;36m0\u001b[0m\u001b[0;34m]\u001b[0m \u001b[0;34m!=\u001b[0m \u001b[0;36m1\u001b[0m\u001b[0;34m)\u001b[0m\u001b[0;34m]\u001b[0m\u001b[0;34m\u001b[0m\u001b[0m\n\u001b[0m\u001b[1;32m     66\u001b[0m     \u001b[0mnearest\u001b[0m \u001b[0;34m=\u001b[0m \u001b[0mcdist\u001b[0m\u001b[0;34m(\u001b[0m\u001b[0mfocus_atom\u001b[0m\u001b[0;34m[\u001b[0m\u001b[0mnp\u001b[0m\u001b[0;34m.\u001b[0m\u001b[0mnewaxis\u001b[0m\u001b[0;34m,\u001b[0m \u001b[0;36m1\u001b[0m\u001b[0;34m:\u001b[0m\u001b[0;34m]\u001b[0m\u001b[0;34m,\u001b[0m \u001b[0mneighs\u001b[0m\u001b[0;34m[\u001b[0m\u001b[0;34m:\u001b[0m\u001b[0;34m,\u001b[0m \u001b[0;36m1\u001b[0m\u001b[0;34m:\u001b[0m\u001b[0;34m]\u001b[0m\u001b[0;34m)\u001b[0m\u001b[0;34m\u001b[0m\u001b[0m\n\u001b[1;32m     67\u001b[0m     \u001b[0mnearest\u001b[0m \u001b[0;34m=\u001b[0m \u001b[0mnearest\u001b[0m\u001b[0;34m.\u001b[0m\u001b[0msqueeze\u001b[0m\u001b[0;34m(\u001b[0m\u001b[0;34m)\u001b[0m\u001b[0;34m.\u001b[0m\u001b[0margsort\u001b[0m\u001b[0;34m(\u001b[0m\u001b[0;34m)\u001b[0m\u001b[0;34m\u001b[0m\u001b[0m\n",
      "\u001b[0;31mKeyboardInterrupt\u001b[0m: "
     ]
    }
   ],
   "source": [
    "for db_path, npy_path in zip(db_paths, npy_paths):\n",
    "    \n",
    "    molecules = []\n",
    "    energies = []\n",
    "    with connect(db_path) as conn:\n",
    "        for row in conn.select():\n",
    "            molecules.append(np.hstack((row['numbers'].reshape((19, 1)), row['positions'])))\n",
    "            energies.append(row['total_energy'])\n",
    "    print(np.array(molecules).shape)\n",
    "    start = time.time()\n",
    "    network_in = np.array(get_input_data(molecules))\n",
    "    print('time: {}'.format(time.time() - start))\n",
    "    np.save(npy_path + 'X', network_in)\n",
    "    np.save(npy_path + 'Y', energies)"
   ]
  },
  {
   "cell_type": "markdown",
   "metadata": {},
   "source": [
    "# Testing"
   ]
  },
  {
   "cell_type": "markdown",
   "metadata": {},
   "source": [
    "## Test Functions"
   ]
  },
  {
   "cell_type": "code",
   "execution_count": null,
   "metadata": {
    "collapsed": true
   },
   "outputs": [],
   "source": [
    "def test_get_spherical():\n",
    "    test_positions = np.array([[0, 1, 2],\n",
    "                               [1, 1, 1],\n",
    "                               [-1, 2, 1]])\n",
    "    val_result = np.array([[1/np.sqrt(5), np.cos(np.arccos(2/np.sqrt(5))),\n",
    "                            np.cos(np.pi/2), np.sin(np.pi/2)],\n",
    "                           [1/np.sqrt(3), np.cos(np.arccos(1/np.sqrt(3))),\n",
    "                            np.cos(np.arctan(1)), np.sin(np.arctan(1))],\n",
    "                           [1/np.sqrt(6), np.cos(np.arccos(1/np.sqrt(6))),\n",
    "                            np.cos(np.arctan(-2) + np.pi), np.sin(np.arctan(-2) + np.pi)]])\n",
    "    assert_array_almost_equal(val_result, get_spherical(test_positions)) \n",
    "    print('pass!')"
   ]
  },
  {
   "cell_type": "code",
   "execution_count": null,
   "metadata": {
    "collapsed": true
   },
   "outputs": [],
   "source": [
    "def test_change_base():\n",
    "    test_positions = np.array([[0, 1, 2],\n",
    "                               [1, 1, 1],\n",
    "                               [-1, 2, 1]])\n",
    "    x = np.array([1, 1, 0])\n",
    "    y = np.array([0, 0, 1])\n",
    "    z = np.array([2, 1, 3])\n",
    "    val_result = np.array([[-7.,-13.,4.],\n",
    "                           [-8.,-17.,5.],\n",
    "                           [-4., -8.,2.]])\n",
    "    o = np.array([-1, 4, 3])\n",
    "    assert_array_almost_equal(val_result, change_base(test_positions, x, y, z, o))\n",
    "    print('pass!')"
   ]
  },
  {
   "cell_type": "code",
   "execution_count": null,
   "metadata": {
    "collapsed": true
   },
   "outputs": [],
   "source": [
    "def test_input_data():\n",
    "    # load molecule and sort\n",
    "    test_mol = molecules[0]\n",
    "    test_mol = test_mol[test_mol[:,0].argsort(kind='mergesort')]\n",
    "    results = np.zeros((19, 72))\n",
    "    positions = test_mol[:, 1:]\n",
    "    # H-part\n",
    "    for i in range(10):\n",
    "        dists = cdist(positions[np.newaxis, i], positions[10:])\n",
    "        one, two = dists.argsort().reshape(9)[:2] + 10\n",
    "        zero = i\n",
    "        x = positions[one] - positions[zero]\n",
    "        z = np.cross(x, positions[two] - positions[zero])\n",
    "        y = np.cross(z, x)\n",
    "        x /= np.linalg.norm(x)\n",
    "        y /= np.linalg.norm(y)\n",
    "        z /= np.linalg.norm(z)\n",
    "        others = np.vstack((test_mol[:i], test_mol[i+1:]))\n",
    "        ch_b_others = change_base(others[:, 1:], x, y, z, positions[zero])\n",
    "        sph_others = get_spherical(ch_b_others)\n",
    "        ids = sph_others[:, 0].argsort(kind='mergesort')\n",
    "        sph_others = sph_others[ids]\n",
    "        others = others[ids]\n",
    "        sph_others = sph_others[others[:, 0].argsort(kind='mergesort')]\n",
    "        results[i] = sph_others.reshape(72)\n",
    "    # C-part\n",
    "    for i in range(10, 17):\n",
    "        others = np.vstack((test_mol[:i], test_mol[i+1:]))\n",
    "        neighs = others[10:]\n",
    "        dists = cdist(positions[np.newaxis, i], neighs[:, 1:])\n",
    "        one_id, two_id = dists.argsort().reshape(8)[:2]\n",
    "        one, two = neighs[one_id, 1:], neighs[two_id, 1:]\n",
    "        zero =test_mol[i, 1:]\n",
    "        x = one - zero\n",
    "        z = np.cross(x, two - zero)\n",
    "        y = np.cross(z, x)\n",
    "        x /= np.linalg.norm(x)\n",
    "        y /= np.linalg.norm(y)\n",
    "        z /= np.linalg.norm(z)\n",
    "        ch_b_others = change_base(others[:, 1:], x, y, z, zero)\n",
    "        sph_others = get_spherical(ch_b_others)\n",
    "        ids = sph_others[:, 0].argsort(kind='mergesort')\n",
    "        sph_others = sph_others[ids]\n",
    "        others = others[ids]\n",
    "        sph_others = sph_others[others[:, 0].argsort(kind='mergesort')]\n",
    "        results[i] = sph_others.reshape(72)\n",
    "    # O-part\n",
    "    for i in range(17, 19):\n",
    "        others = np.vstack((test_mol[:i], test_mol[i+1:]))\n",
    "        neighs = others[10:]\n",
    "        dists = cdist(positions[np.newaxis, i], neighs[:, 1:])\n",
    "        one_id, two_id = dists.argsort().reshape(8)[:2]\n",
    "        one, two = neighs[one_id, 1:], neighs[two_id, 1:]\n",
    "        zero =test_mol[i, 1:]\n",
    "        x = one - zero\n",
    "        z = np.cross(x, two - zero)\n",
    "        y = np.cross(z, x)\n",
    "        x /= np.linalg.norm(x)\n",
    "        y /= np.linalg.norm(y)\n",
    "        z /= np.linalg.norm(z)\n",
    "        ch_b_others = change_base(others[:, 1:], x, y, z, zero)\n",
    "        sph_others = get_spherical(ch_b_others)\n",
    "        ids = sph_others[:, 0].argsort(kind='mergesort')\n",
    "        sph_others = sph_others[ids]\n",
    "        others = others[ids]\n",
    "        sph_others = sph_others[others[:, 0].argsort(kind='mergesort')]\n",
    "        results[i] = sph_others.reshape(72)\n",
    "    test_result = np.array(get_input_data(test_mol[np.newaxis])).reshape(19, 72)\n",
    "    \n",
    "    assert_array_almost_equal(test_result, results)\n",
    "    print('pass!')"
   ]
  },
  {
   "cell_type": "markdown",
   "metadata": {},
   "source": [
    "## Run Tests"
   ]
  },
  {
   "cell_type": "code",
   "execution_count": null,
   "metadata": {
    "collapsed": true
   },
   "outputs": [],
   "source": [
    "test_get_spherical()"
   ]
  },
  {
   "cell_type": "code",
   "execution_count": null,
   "metadata": {
    "collapsed": true
   },
   "outputs": [],
   "source": [
    "test_change_base()"
   ]
  },
  {
   "cell_type": "code",
   "execution_count": null,
   "metadata": {
    "collapsed": true
   },
   "outputs": [],
   "source": [
    "test_input_data()"
   ]
  }
 ],
 "metadata": {
  "kernelspec": {
   "display_name": "Python 3",
   "language": "python",
   "name": "python3"
  },
  "language_info": {
   "codemirror_mode": {
    "name": "ipython",
    "version": 3
   },
   "file_extension": ".py",
   "mimetype": "text/x-python",
   "name": "python",
   "nbconvert_exporter": "python",
   "pygments_lexer": "ipython3",
   "version": "3.6.3"
  }
 },
 "nbformat": 4,
 "nbformat_minor": 2
}
