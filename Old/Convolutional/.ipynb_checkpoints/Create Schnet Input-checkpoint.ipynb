{
 "cells": [
  {
   "cell_type": "markdown",
   "metadata": {},
   "source": [
    "# Imports and Settings"
   ]
  },
  {
   "cell_type": "code",
   "execution_count": 1,
   "metadata": {},
   "outputs": [],
   "source": [
    "# -*- coding: utf-8 -*-\n",
    "import pandas as pd\n",
    "import numpy as np\n",
    "import os\n",
    "from scipy.spatial.distance import squareform, cdist\n",
    "from scipy.spatial import distance_matrix\n",
    "import time\n",
    "from numpy.testing import *\n",
    "from ase.db import connect"
   ]
  },
  {
   "cell_type": "code",
   "execution_count": 2,
   "metadata": {},
   "outputs": [],
   "source": [
    "train_db = \"./Dataset/iso17/reference.db\"\n",
    "within_db = \"./Dataset/iso17/test_within.db\"\n",
    "other_db = \"./Dataset/iso17/test_other.db\""
   ]
  },
  {
   "cell_type": "markdown",
   "metadata": {},
   "source": [
    "# Transformation Function"
   ]
  },
  {
   "cell_type": "code",
   "execution_count": 3,
   "metadata": {},
   "outputs": [],
   "source": [
    "def db_to_numpy(path_to_db):\n",
    "    molecules = []\n",
    "    energies = []\n",
    "    #forces = []\n",
    "    with connect(path_to_db) as conn:\n",
    "        for row in conn.select():\n",
    "            positions = row['positions']\n",
    "            numbers = row['numbers'][:, np.newaxis]\n",
    "            #forces.append(row.data['atomic_forces'])\n",
    "            energies.append(row['total_energy'])\n",
    "            dist_matrix = distance_matrix(positions, positions)\n",
    "            # drop diag\n",
    "            dist_matrix = dist_matrix[~np.eye(dist_matrix.shape[0],dtype=bool)].reshape(dist_matrix.shape[0],-1)\n",
    "            molecules.append(np.hstack((dist_matrix, numbers)))\n",
    "    return np.array(molecules), np.array(energies)"
   ]
  },
  {
   "cell_type": "markdown",
   "metadata": {},
   "source": [
    "# Perform Transformation"
   ]
  },
  {
   "cell_type": "code",
   "execution_count": 4,
   "metadata": {},
   "outputs": [],
   "source": [
    "# train\n",
    "molecules, energies = db_to_numpy(train_db)\n",
    "data_path = './Dataset/iso17_train_X'\n",
    "label_path = './Dataset/iso17_train_Y'\n",
    "np.save(data_path, molecules)\n",
    "np.save(label_path, energies)\n",
    "\n",
    "# within\n",
    "molecules, energies = db_to_numpy(within_db)\n",
    "data_path = './Dataset/iso17_within_X'\n",
    "label_path = './Dataset/iso17_within_Y'\n",
    "np.save(data_path, molecules)\n",
    "np.save(label_path, energies)\n",
    "\n",
    "#other\n",
    "molecules, energies = db_to_numpy(other_db)\n",
    "data_path = './Dataset/iso17_other_X'\n",
    "label_path = './Dataset/iso17_other_Y'\n",
    "np.save(data_path, molecules)\n",
    "np.save(label_path, energies)"
   ]
  }
 ],
 "metadata": {
  "kernelspec": {
   "display_name": "Python (fproj)",
   "language": "python",
   "name": "fproj"
  },
  "language_info": {
   "codemirror_mode": {
    "name": "ipython",
    "version": 3
   },
   "file_extension": ".py",
   "mimetype": "text/x-python",
   "name": "python",
   "nbconvert_exporter": "python",
   "pygments_lexer": "ipython3",
   "version": "3.6.6"
  }
 },
 "nbformat": 4,
 "nbformat_minor": 2
}
