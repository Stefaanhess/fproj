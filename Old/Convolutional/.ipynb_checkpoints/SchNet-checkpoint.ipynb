{
 "cells": [
  {
   "cell_type": "code",
   "execution_count": 1,
   "metadata": {},
   "outputs": [],
   "source": [
    "import numpy as np\n",
    "import torch\n",
    "import torch.nn as nn\n",
    "from Code.Models.schnet import SchNet\n",
    "from Code.Models.api import Network"
   ]
  },
  {
   "cell_type": "code",
   "execution_count": 2,
   "metadata": {},
   "outputs": [],
   "source": [
    "debug = False"
   ]
  },
  {
   "cell_type": "code",
   "execution_count": 3,
   "metadata": {},
   "outputs": [],
   "source": [
    "data_path_train = './Dataset/iso17_train_X.npy'\n",
    "label_path_train = './Dataset/iso17_train_Y.npy'\n",
    "data_path_within = './Dataset/iso17_within_X.npy'\n",
    "label_path_within = './Dataset/iso17_within_Y.npy'\n",
    "comment = 'alldata_n_step_no_norm'\n",
    "eval_path = './evaluation/iso17'"
   ]
  },
  {
   "cell_type": "code",
   "execution_count": 4,
   "metadata": {},
   "outputs": [],
   "source": [
    "X_train = np.load(data_path_train)\n",
    "Y_train = np.load(label_path_train) * -1\n",
    "X_within = np.load(data_path_within)\n",
    "Y_within = np.load(label_path_within) * -1"
   ]
  },
  {
   "cell_type": "code",
   "execution_count": 5,
   "metadata": {},
   "outputs": [],
   "source": [
    "if debug:\n",
    "    n_data = 1000\n",
    "    X_train = X_train[:n_data]\n",
    "    Y_train = Y_train[:n_data]\n",
    "    X_within = X_within[:n_data]\n",
    "    Y_within = Y_within[:n_data]"
   ]
  },
  {
   "cell_type": "code",
   "execution_count": 6,
   "metadata": {},
   "outputs": [],
   "source": [
    "schnet = SchNet(use_cuda=False, comment=comment, eval_path=eval_path, abc_scheme=(0.001, 0.96, 1.0))"
   ]
  },
  {
   "cell_type": "code",
   "execution_count": 7,
   "metadata": {},
   "outputs": [],
   "source": [
    "network = Network(schnet)"
   ]
  },
  {
   "cell_type": "code",
   "execution_count": 8,
   "metadata": {},
   "outputs": [
    {
     "name": "stdout",
     "output_type": "stream",
     "text": [
      "(505000, 19, 19) (505000, 1)\n",
      "(404000, 19, 19) (404000, 1)\n",
      "(101000, 19, 19) (101000, 1)\n"
     ]
    }
   ],
   "source": [
    "network.create_dataloaders(X_train, Y_train, X_within, Y_within, 32, normalize_X=False)"
   ]
  },
  {
   "cell_type": "code",
   "execution_count": null,
   "metadata": {},
   "outputs": [
    {
     "name": "stdout",
     "output_type": "stream",
     "text": [
      "epoch: 1\tprogress: 0.05\ttime estimate: 1555.53\ttrain loss: 0.00489\ttest loss: 0.001558\n",
      "epoch: 2\tprogress: 0.1\ttime estimate: 1474.32\ttrain loss: 0.001377\ttest loss: 0.001343\n",
      "epoch: 3\tprogress: 0.15\ttime estimate: 1396.04\ttrain loss: 0.000977\ttest loss: 0.001368\n",
      "epoch: 5\tprogress: 0.25\ttime estimate: 1232.23\ttrain loss: 0.000741\ttest loss: 0.000625\n",
      "epoch: 6\tprogress: 0.3\ttime estimate: 1150.02\ttrain loss: 0.000686\ttest loss: 0.000629\n",
      "epoch: 7\tprogress: 0.35\ttime estimate: 1068.01\ttrain loss: 0.000641\ttest loss: 0.000747\n",
      "epoch: 8\tprogress: 0.4\ttime estimate: 985.75\ttrain loss: 0.000615\ttest loss: 0.00062\n",
      "epoch: 9\tprogress: 0.45\ttime estimate: 903.51\ttrain loss: 0.000583\ttest loss: 0.000601\n",
      "epoch: 10\tprogress: 0.5\ttime estimate: 821.43\ttrain loss: 0.000566\ttest loss: 0.000511\n",
      "epoch: 11\tprogress: 0.55\ttime estimate: 739.36\ttrain loss: 0.000548\ttest loss: 0.000529\n",
      "epoch: 12\tprogress: 0.6\ttime estimate: 657.14\ttrain loss: 0.000528\ttest loss: 0.000529\n",
      "epoch: 13\tprogress: 0.65\ttime estimate: 575.08\ttrain loss: 0.000517\ttest loss: 0.000507\n",
      "epoch: 14\tprogress: 0.7\ttime estimate: 493.04\ttrain loss: 0.000508\ttest loss: 0.000502\n",
      "epoch: 15\tprogress: 0.75\ttime estimate: 410.91\ttrain loss: 0.000495\ttest loss: 0.000577\n"
     ]
    }
   ],
   "source": [
    "network.fit(20)"
   ]
  },
  {
   "cell_type": "code",
   "execution_count": null,
   "metadata": {},
   "outputs": [],
   "source": [
    "network.calculate_mae(network.test_loader)"
   ]
  },
  {
   "cell_type": "code",
   "execution_count": null,
   "metadata": {},
   "outputs": [],
   "source": [
    "network.calculate_test_mae()"
   ]
  },
  {
   "cell_type": "code",
   "execution_count": null,
   "metadata": {},
   "outputs": [],
   "source": [
    "network.transform(network.train_loader)"
   ]
  },
  {
   "cell_type": "code",
   "execution_count": null,
   "metadata": {},
   "outputs": [],
   "source": [
    "opt = torch.optim.Adam(schnet.parameters())"
   ]
  },
  {
   "cell_type": "code",
   "execution_count": null,
   "metadata": {},
   "outputs": [],
   "source": []
  }
 ],
 "metadata": {
  "kernelspec": {
   "display_name": "Python 3",
   "language": "python",
   "name": "python3"
  },
  "language_info": {
   "codemirror_mode": {
    "name": "ipython",
    "version": 3
   },
   "file_extension": ".py",
   "mimetype": "text/x-python",
   "name": "python",
   "nbconvert_exporter": "python",
   "pygments_lexer": "ipython3",
   "version": "3.6.5"
  }
 },
 "nbformat": 4,
 "nbformat_minor": 2
}
