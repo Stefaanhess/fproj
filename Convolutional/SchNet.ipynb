{
 "cells": [
  {
   "cell_type": "code",
   "execution_count": 1,
   "metadata": {},
   "outputs": [],
   "source": [
    "import numpy as np\n",
    "import torch\n",
    "import torch.nn as nn\n",
    "from Code.Models.schnet import SchNet\n",
    "from Code.Models.api import Network"
   ]
  },
  {
   "cell_type": "code",
   "execution_count": 2,
   "metadata": {},
   "outputs": [],
   "source": [
    "debug = False"
   ]
  },
  {
   "cell_type": "code",
   "execution_count": 3,
   "metadata": {},
   "outputs": [],
   "source": [
    "data_path = './Dataset/c702h10_X.npy'\n",
    "label_path = './Dataset/c702h10_Y.npy'\n",
    "comment = 'schnet_2'\n",
    "eval_path = './evaluation/iso17'"
   ]
  },
  {
   "cell_type": "code",
   "execution_count": 4,
   "metadata": {},
   "outputs": [],
   "source": [
    "x_data = np.load(data_path)\n",
    "y_data = np.load(label_path) * -1"
   ]
  },
  {
   "cell_type": "code",
   "execution_count": 5,
   "metadata": {},
   "outputs": [],
   "source": [
    "if debug:\n",
    "    n_data = 1000\n",
    "    x_data = x_data[:n_data]\n",
    "    y_data = y_data[:n_data]"
   ]
  },
  {
   "cell_type": "code",
   "execution_count": 6,
   "metadata": {},
   "outputs": [],
   "source": [
    "schnet = SchNet(use_cuda=True, comment=comment, eval_path=eval_path, abc_scheme=(0.001, 0.96, 1.0))"
   ]
  },
  {
   "cell_type": "code",
   "execution_count": 7,
   "metadata": {},
   "outputs": [],
   "source": [
    "network = Network(schnet)"
   ]
  },
  {
   "cell_type": "code",
   "execution_count": 8,
   "metadata": {},
   "outputs": [],
   "source": [
    "network.create_dataloaders(x_data, y_data, 32)"
   ]
  },
  {
   "cell_type": "code",
   "execution_count": 12,
   "metadata": {},
   "outputs": [
    {
     "name": "stdout",
     "output_type": "stream",
     "text": [
      "epoch: 1\tprogress: 0.02\ttime estimate: 2240.07\ttrain loss: 0.000219\ttest loss: 0.000239\n",
      "epoch: 2\tprogress: 0.04\ttime estimate: 2193.91\ttrain loss: 0.000216\ttest loss: 0.000242\n",
      "epoch: 3\tprogress: 0.06\ttime estimate: 2148.01\ttrain loss: 0.000214\ttest loss: 0.000237\n",
      "epoch: 4\tprogress: 0.08\ttime estimate: 2102.33\ttrain loss: 0.000212\ttest loss: 0.000238\n",
      "epoch: 5\tprogress: 0.1\ttime estimate: 2056.57\ttrain loss: 0.000209\ttest loss: 0.000228\n",
      "epoch: 6\tprogress: 0.12\ttime estimate: 2010.94\ttrain loss: 0.000208\ttest loss: 0.000256\n",
      "epoch: 7\tprogress: 0.14\ttime estimate: 1965.16\ttrain loss: 0.000206\ttest loss: 0.000235\n",
      "epoch: 8\tprogress: 0.16\ttime estimate: 1919.42\ttrain loss: 0.000204\ttest loss: 0.00023\n",
      "epoch: 9\tprogress: 0.18\ttime estimate: 1873.87\ttrain loss: 0.000202\ttest loss: 0.000229\n",
      "epoch: 10\tprogress: 0.2\ttime estimate: 1828.12\ttrain loss: 0.0002\ttest loss: 0.000226\n",
      "epoch: 11\tprogress: 0.22\ttime estimate: 1782.33\ttrain loss: 0.000199\ttest loss: 0.000226\n",
      "epoch: 12\tprogress: 0.24\ttime estimate: 1736.56\ttrain loss: 0.000197\ttest loss: 0.00022\n",
      "epoch: 13\tprogress: 0.26\ttime estimate: 1690.8\ttrain loss: 0.000195\ttest loss: 0.000224\n",
      "epoch: 14\tprogress: 0.28\ttime estimate: 1645.06\ttrain loss: 0.000194\ttest loss: 0.000226\n",
      "epoch: 15\tprogress: 0.3\ttime estimate: 1599.33\ttrain loss: 0.000193\ttest loss: 0.000222\n",
      "epoch: 16\tprogress: 0.32\ttime estimate: 1553.61\ttrain loss: 0.000192\ttest loss: 0.00022\n",
      "epoch: 17\tprogress: 0.34\ttime estimate: 1507.87\ttrain loss: 0.00019\ttest loss: 0.000223\n",
      "epoch: 18\tprogress: 0.36\ttime estimate: 1462.15\ttrain loss: 0.000189\ttest loss: 0.00022\n",
      "epoch: 19\tprogress: 0.38\ttime estimate: 1416.42\ttrain loss: 0.000188\ttest loss: 0.000222\n",
      "epoch: 20\tprogress: 0.4\ttime estimate: 1370.71\ttrain loss: 0.000187\ttest loss: 0.000216\n",
      "epoch: 21\tprogress: 0.42\ttime estimate: 1324.99\ttrain loss: 0.000186\ttest loss: 0.000222\n",
      "epoch: 22\tprogress: 0.44\ttime estimate: 1279.28\ttrain loss: 0.000185\ttest loss: 0.000215\n",
      "epoch: 23\tprogress: 0.46\ttime estimate: 1233.58\ttrain loss: 0.000184\ttest loss: 0.000215\n",
      "epoch: 24\tprogress: 0.48\ttime estimate: 1187.88\ttrain loss: 0.000183\ttest loss: 0.000226\n",
      "epoch: 25\tprogress: 0.5\ttime estimate: 1142.18\ttrain loss: 0.000182\ttest loss: 0.000212\n",
      "epoch: 26\tprogress: 0.52\ttime estimate: 1096.48\ttrain loss: 0.000181\ttest loss: 0.000221\n",
      "epoch: 27\tprogress: 0.54\ttime estimate: 1050.78\ttrain loss: 0.00018\ttest loss: 0.000213\n",
      "epoch: 28\tprogress: 0.56\ttime estimate: 1005.08\ttrain loss: 0.000179\ttest loss: 0.00021\n",
      "epoch: 29\tprogress: 0.58\ttime estimate: 959.38\ttrain loss: 0.000179\ttest loss: 0.000213\n",
      "epoch: 30\tprogress: 0.6\ttime estimate: 913.69\ttrain loss: 0.000178\ttest loss: 0.000209\n",
      "epoch: 31\tprogress: 0.62\ttime estimate: 868.0\ttrain loss: 0.000177\ttest loss: 0.000208\n",
      "epoch: 32\tprogress: 0.64\ttime estimate: 822.31\ttrain loss: 0.000176\ttest loss: 0.000209\n",
      "epoch: 33\tprogress: 0.66\ttime estimate: 776.63\ttrain loss: 0.000176\ttest loss: 0.00021\n",
      "epoch: 34\tprogress: 0.68\ttime estimate: 730.95\ttrain loss: 0.000175\ttest loss: 0.000207\n",
      "epoch: 35\tprogress: 0.7\ttime estimate: 685.27\ttrain loss: 0.000174\ttest loss: 0.000208\n",
      "epoch: 36\tprogress: 0.72\ttime estimate: 639.58\ttrain loss: 0.000173\ttest loss: 0.000211\n",
      "epoch: 37\tprogress: 0.74\ttime estimate: 593.9\ttrain loss: 0.000173\ttest loss: 0.000215\n",
      "epoch: 38\tprogress: 0.76\ttime estimate: 548.22\ttrain loss: 0.000172\ttest loss: 0.000215\n",
      "epoch: 39\tprogress: 0.78\ttime estimate: 502.53\ttrain loss: 0.000172\ttest loss: 0.000206\n",
      "epoch: 40\tprogress: 0.8\ttime estimate: 456.85\ttrain loss: 0.000171\ttest loss: 0.000207\n",
      "epoch: 41\tprogress: 0.82\ttime estimate: 411.16\ttrain loss: 0.000171\ttest loss: 0.000206\n",
      "epoch: 42\tprogress: 0.84\ttime estimate: 365.48\ttrain loss: 0.00017\ttest loss: 0.000205\n",
      "epoch: 43\tprogress: 0.86\ttime estimate: 319.81\ttrain loss: 0.00017\ttest loss: 0.000207\n",
      "epoch: 44\tprogress: 0.88\ttime estimate: 274.12\ttrain loss: 0.000169\ttest loss: 0.000204\n",
      "epoch: 45\tprogress: 0.9\ttime estimate: 228.44\ttrain loss: 0.000169\ttest loss: 0.000204\n",
      "epoch: 46\tprogress: 0.92\ttime estimate: 182.75\ttrain loss: 0.000168\ttest loss: 0.000206\n",
      "epoch: 47\tprogress: 0.94\ttime estimate: 137.06\ttrain loss: 0.000168\ttest loss: 0.000208\n",
      "epoch: 48\tprogress: 0.96\ttime estimate: 91.37\ttrain loss: 0.000168\ttest loss: 0.000203\n",
      "epoch: 49\tprogress: 0.98\ttime estimate: 45.69\ttrain loss: 0.000167\ttest loss: 0.000203\n",
      "epoch: 50\tprogress: 1.0\ttime estimate: 0.0\ttrain loss: 0.000167\ttest loss: 0.000204\n"
     ]
    }
   ],
   "source": [
    "network.fit(50)"
   ]
  },
  {
   "cell_type": "code",
   "execution_count": 13,
   "metadata": {},
   "outputs": [
    {
     "data": {
      "text/plain": [
       "0.07616660494525618"
      ]
     },
     "execution_count": 13,
     "metadata": {},
     "output_type": "execute_result"
    }
   ],
   "source": [
    "network.calculate_mae(network.test_loader)"
   ]
  },
  {
   "cell_type": "code",
   "execution_count": 14,
   "metadata": {},
   "outputs": [
    {
     "data": {
      "text/plain": [
       "0.07616660494525618"
      ]
     },
     "execution_count": 14,
     "metadata": {},
     "output_type": "execute_result"
    }
   ],
   "source": [
    "network.calculate_test_mae()"
   ]
  },
  {
   "cell_type": "code",
   "execution_count": 11,
   "metadata": {},
   "outputs": [
    {
     "data": {
      "text/plain": [
       "tensor([[0.4268],\n",
       "        [0.4665],\n",
       "        [0.4015],\n",
       "        ...,\n",
       "        [0.3393],\n",
       "        [0.4262],\n",
       "        [0.6433]], dtype=torch.float64)"
      ]
     },
     "execution_count": 11,
     "metadata": {},
     "output_type": "execute_result"
    }
   ],
   "source": [
    "network.transform(network.train_loader)"
   ]
  },
  {
   "cell_type": "code",
   "execution_count": null,
   "metadata": {},
   "outputs": [],
   "source": []
  }
 ],
 "metadata": {
  "kernelspec": {
   "display_name": "Python 3",
   "language": "python",
   "name": "python3"
  },
  "language_info": {
   "codemirror_mode": {
    "name": "ipython",
    "version": 3
   },
   "file_extension": ".py",
   "mimetype": "text/x-python",
   "name": "python",
   "nbconvert_exporter": "python",
   "pygments_lexer": "ipython3",
   "version": "3.6.5"
  }
 },
 "nbformat": 4,
 "nbformat_minor": 2
}
