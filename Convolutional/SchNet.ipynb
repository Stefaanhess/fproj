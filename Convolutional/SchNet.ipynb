{
 "cells": [
  {
   "cell_type": "code",
   "execution_count": 1,
   "metadata": {},
   "outputs": [],
   "source": [
    "import numpy as np\n",
    "import torch\n",
    "import torch.nn as nn\n",
    "from Code.Models.schnet import SchNet\n",
    "from Code.Models.api import Network"
   ]
  },
  {
   "cell_type": "code",
   "execution_count": 2,
   "metadata": {},
   "outputs": [],
   "source": [
    "debug = False"
   ]
  },
  {
   "cell_type": "code",
   "execution_count": 3,
   "metadata": {},
   "outputs": [],
   "source": [
    "data_path_train = './Dataset/iso17_train_X.npy'\n",
    "label_path_train = './Dataset/iso17_train_Y.npy'\n",
    "data_path_within = './Dataset/iso17_within_X.npy'\n",
    "label_path_within = './Dataset/iso17_within_Y.npy'\n",
    "comment = 'alldata_standardized_debug'\n",
    "eval_path = './evaluation/iso17'"
   ]
  },
  {
   "cell_type": "code",
   "execution_count": 4,
   "metadata": {},
   "outputs": [],
   "source": [
    "X_train = np.load(data_path_train)\n",
    "Y_train = np.load(label_path_train) * -1\n",
    "X_within = np.load(data_path_within)\n",
    "Y_within = np.load(label_path_within) * -1"
   ]
  },
  {
   "cell_type": "code",
   "execution_count": 5,
   "metadata": {},
   "outputs": [],
   "source": [
    "if debug:\n",
    "    n_data = 1000\n",
    "    X_train = X_train[:n_data]\n",
    "    Y_train = Y_train[:n_data]\n",
    "    X_within = X_within[:n_data]\n",
    "    Y_within = Y_within[:n_data]"
   ]
  },
  {
   "cell_type": "code",
   "execution_count": 6,
   "metadata": {},
   "outputs": [],
   "source": [
    "schnet = SchNet(use_cuda=False, comment=comment, eval_path=eval_path, abc_scheme=(0.001, 0.96, 1.0))"
   ]
  },
  {
   "cell_type": "code",
   "execution_count": 7,
   "metadata": {},
   "outputs": [],
   "source": [
    "network = Network(schnet)"
   ]
  },
  {
   "cell_type": "code",
   "execution_count": 8,
   "metadata": {},
   "outputs": [
    {
     "name": "stdout",
     "output_type": "stream",
     "text": [
      "(505000, 19, 19) (505000, 1)\n",
      "(404000, 19, 19) (404000, 1)\n",
      "(101000, 19, 19) (101000, 1)\n"
     ]
    }
   ],
   "source": [
    "network.create_dataloaders(X_train, Y_train, X_within, Y_within, 32, normalize_X=True)"
   ]
  },
  {
   "cell_type": "code",
   "execution_count": 9,
   "metadata": {},
   "outputs": [
    {
     "name": "stdout",
     "output_type": "stream",
     "text": [
      "epoch: 1\tprogress: 0.02\ttime estimate: 3046.52\ttrain loss: 0.010369\ttest loss: 0.00607\n",
      "epoch: 2\tprogress: 0.04\ttime estimate: 2976.82\ttrain loss: 0.005269\ttest loss: 0.004017\n",
      "epoch: 3\tprogress: 0.06\ttime estimate: 2915.43\ttrain loss: 0.003576\ttest loss: 0.00294\n",
      "epoch: 4\tprogress: 0.08\ttime estimate: 2855.05\ttrain loss: 0.002786\ttest loss: 0.00235\n",
      "epoch: 5\tprogress: 0.1\ttime estimate: 2793.69\ttrain loss: 0.002477\ttest loss: 0.00248\n",
      "epoch: 6\tprogress: 0.12\ttime estimate: 2730.92\ttrain loss: 0.002287\ttest loss: 0.002045\n",
      "epoch: 7\tprogress: 0.14\ttime estimate: 2667.76\ttrain loss: 0.002185\ttest loss: 0.002776\n",
      "epoch: 8\tprogress: 0.16\ttime estimate: 2606.65\ttrain loss: 0.0021\ttest loss: 0.002106\n",
      "epoch: 9\tprogress: 0.18\ttime estimate: 2543.92\ttrain loss: 0.002043\ttest loss: 0.002127\n",
      "epoch: 10\tprogress: 0.2\ttime estimate: 2481.01\ttrain loss: 0.002008\ttest loss: 0.002039\n",
      "epoch: 11\tprogress: 0.22\ttime estimate: 2419.43\ttrain loss: 0.001963\ttest loss: 0.002318\n",
      "epoch: 12\tprogress: 0.24\ttime estimate: 2358.07\ttrain loss: 0.001925\ttest loss: 0.001817\n",
      "epoch: 13\tprogress: 0.26\ttime estimate: 2295.36\ttrain loss: 0.001902\ttest loss: 0.001874\n",
      "epoch: 14\tprogress: 0.28\ttime estimate: 2234.23\ttrain loss: 0.001867\ttest loss: 0.001933\n",
      "epoch: 15\tprogress: 0.3\ttime estimate: 2172.72\ttrain loss: 0.001843\ttest loss: 0.001732\n",
      "epoch: 16\tprogress: 0.32\ttime estimate: 2110.76\ttrain loss: 0.001809\ttest loss: 0.001717\n",
      "epoch: 17\tprogress: 0.34\ttime estimate: 2047.53\ttrain loss: 0.001765\ttest loss: 0.001809\n",
      "epoch: 18\tprogress: 0.36\ttime estimate: 1985.28\ttrain loss: 0.001751\ttest loss: 0.00165\n",
      "epoch: 19\tprogress: 0.38\ttime estimate: 1923.61\ttrain loss: 0.001722\ttest loss: 0.001797\n",
      "epoch: 20\tprogress: 0.4\ttime estimate: 1861.79\ttrain loss: 0.001702\ttest loss: 0.001674\n",
      "epoch: 21\tprogress: 0.42\ttime estimate: 1799.28\ttrain loss: 0.001677\ttest loss: 0.001647\n",
      "epoch: 22\tprogress: 0.44\ttime estimate: 1737.21\ttrain loss: 0.001649\ttest loss: 0.001488\n",
      "epoch: 23\tprogress: 0.46\ttime estimate: 1675.25\ttrain loss: 0.001629\ttest loss: 0.002209\n",
      "epoch: 24\tprogress: 0.48\ttime estimate: 1612.97\ttrain loss: 0.001598\ttest loss: 0.001677\n",
      "epoch: 25\tprogress: 0.5\ttime estimate: 1550.92\ttrain loss: 0.001565\ttest loss: 0.001686\n",
      "epoch: 26\tprogress: 0.52\ttime estimate: 1489.05\ttrain loss: 0.001546\ttest loss: 0.0015\n",
      "epoch: 27\tprogress: 0.54\ttime estimate: 1426.97\ttrain loss: 0.001528\ttest loss: 0.001375\n",
      "epoch: 28\tprogress: 0.56\ttime estimate: 1364.62\ttrain loss: 0.001518\ttest loss: 0.001458\n",
      "epoch: 29\tprogress: 0.58\ttime estimate: 1302.79\ttrain loss: 0.001506\ttest loss: 0.001409\n",
      "epoch: 30\tprogress: 0.6\ttime estimate: 1240.54\ttrain loss: 0.001491\ttest loss: 0.00147\n",
      "epoch: 31\tprogress: 0.62\ttime estimate: 1178.19\ttrain loss: 0.001477\ttest loss: 0.001648\n",
      "epoch: 32\tprogress: 0.64\ttime estimate: 1115.82\ttrain loss: 0.001459\ttest loss: 0.001572\n",
      "epoch: 33\tprogress: 0.66\ttime estimate: 1053.69\ttrain loss: 0.001434\ttest loss: 0.001421\n",
      "epoch: 34\tprogress: 0.68\ttime estimate: 991.71\ttrain loss: 0.001423\ttest loss: 0.001496\n",
      "epoch: 35\tprogress: 0.7\ttime estimate: 929.88\ttrain loss: 0.001419\ttest loss: 0.00149\n",
      "epoch: 36\tprogress: 0.72\ttime estimate: 867.92\ttrain loss: 0.00141\ttest loss: 0.001314\n",
      "epoch: 37\tprogress: 0.74\ttime estimate: 805.93\ttrain loss: 0.001395\ttest loss: 0.001725\n",
      "epoch: 38\tprogress: 0.76\ttime estimate: 743.95\ttrain loss: 0.001388\ttest loss: 0.001717\n",
      "epoch: 39\tprogress: 0.78\ttime estimate: 681.99\ttrain loss: 0.001375\ttest loss: 0.0019\n",
      "epoch: 40\tprogress: 0.8\ttime estimate: 619.99\ttrain loss: 0.001368\ttest loss: 0.001405\n",
      "epoch: 41\tprogress: 0.82\ttime estimate: 558.0\ttrain loss: 0.001348\ttest loss: 0.001418\n",
      "epoch: 42\tprogress: 0.84\ttime estimate: 496.01\ttrain loss: 0.001343\ttest loss: 0.001345\n",
      "epoch: 43\tprogress: 0.86\ttime estimate: 434.02\ttrain loss: 0.001336\ttest loss: 0.001315\n",
      "epoch: 44\tprogress: 0.88\ttime estimate: 371.99\ttrain loss: 0.001331\ttest loss: 0.001296\n",
      "epoch: 45\tprogress: 0.9\ttime estimate: 310.01\ttrain loss: 0.001323\ttest loss: 0.001458\n",
      "epoch: 46\tprogress: 0.92\ttime estimate: 248.01\ttrain loss: 0.001321\ttest loss: 0.001211\n",
      "epoch: 47\tprogress: 0.94\ttime estimate: 186.03\ttrain loss: 0.001316\ttest loss: 0.001454\n",
      "epoch: 48\tprogress: 0.96\ttime estimate: 124.03\ttrain loss: 0.001303\ttest loss: 0.001319\n",
      "epoch: 49\tprogress: 0.98\ttime estimate: 62.02\ttrain loss: 0.00129\ttest loss: 0.001276\n",
      "epoch: 50\tprogress: 1.0\ttime estimate: 0.0\ttrain loss: 0.001287\ttest loss: 0.001275\n"
     ]
    }
   ],
   "source": [
    "network.fit(50)"
   ]
  },
  {
   "cell_type": "code",
   "execution_count": 10,
   "metadata": {},
   "outputs": [
    {
     "data": {
      "text/plain": [
       "0.18978276758486726"
      ]
     },
     "execution_count": 10,
     "metadata": {},
     "output_type": "execute_result"
    }
   ],
   "source": [
    "network.calculate_mae(network.test_loader)"
   ]
  },
  {
   "cell_type": "code",
   "execution_count": 11,
   "metadata": {},
   "outputs": [
    {
     "data": {
      "text/plain": [
       "0.18978276758486726"
      ]
     },
     "execution_count": 11,
     "metadata": {},
     "output_type": "execute_result"
    }
   ],
   "source": [
    "network.calculate_test_mae()"
   ]
  },
  {
   "cell_type": "code",
   "execution_count": 12,
   "metadata": {},
   "outputs": [
    {
     "data": {
      "text/plain": [
       "tensor([[0.4819],\n",
       "        [0.4850],\n",
       "        [0.4848],\n",
       "        ...,\n",
       "        [0.4000],\n",
       "        [0.5682],\n",
       "        [0.3305]], dtype=torch.float64)"
      ]
     },
     "execution_count": 12,
     "metadata": {},
     "output_type": "execute_result"
    }
   ],
   "source": [
    "network.transform(network.train_loader)"
   ]
  },
  {
   "cell_type": "code",
   "execution_count": 13,
   "metadata": {},
   "outputs": [],
   "source": [
    "opt = torch.optim.Adam(schnet.parameters())"
   ]
  },
  {
   "cell_type": "code",
   "execution_count": null,
   "metadata": {},
   "outputs": [],
   "source": []
  }
 ],
 "metadata": {
  "kernelspec": {
   "display_name": "Python 3",
   "language": "python",
   "name": "python3"
  },
  "language_info": {
   "codemirror_mode": {
    "name": "ipython",
    "version": 3
   },
   "file_extension": ".py",
   "mimetype": "text/x-python",
   "name": "python",
   "nbconvert_exporter": "python",
   "pygments_lexer": "ipython3",
   "version": "3.6.5"
  }
 },
 "nbformat": 4,
 "nbformat_minor": 2
}
