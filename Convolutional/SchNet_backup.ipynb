{
 "cells": [
  {
   "cell_type": "code",
   "execution_count": 1,
   "metadata": {},
   "outputs": [],
   "source": [
    "import numpy as np\n",
    "import torch\n",
    "import torch.nn as nn\n",
    "from Code.Models.schnet import SchNet\n",
    "from Code.Models.api import Network"
   ]
  },
  {
   "cell_type": "code",
   "execution_count": 2,
   "metadata": {},
   "outputs": [],
   "source": [
    "debug = False"
   ]
  },
  {
   "cell_type": "code",
   "execution_count": 3,
   "metadata": {},
   "outputs": [],
   "source": [
    "data_path_train = './Dataset/iso17_train_X.npy'\n",
    "label_path_train = './Dataset/iso17_train_Y.npy'\n",
    "data_path_within = './Dataset/iso17_within_X.npy'\n",
    "label_path_within = './Dataset/iso17_within_Y.npy'\n",
    "comment = 'alldata_n_step_no_norm'\n",
    "eval_path = './evaluation/iso17'"
   ]
  },
  {
   "cell_type": "code",
   "execution_count": 4,
   "metadata": {},
   "outputs": [],
   "source": [
    "X_train = np.load(data_path_train)\n",
    "Y_train = np.load(label_path_train) * -1\n",
    "X_within = np.load(data_path_within)\n",
    "Y_within = np.load(label_path_within) * -1"
   ]
  },
  {
   "cell_type": "code",
   "execution_count": 5,
   "metadata": {},
   "outputs": [],
   "source": [
    "if debug:\n",
    "    n_data = 1000\n",
    "    X_train = X_train[:n_data]\n",
    "    Y_train = Y_train[:n_data]\n",
    "    X_within = X_within[:n_data]\n",
    "    Y_within = Y_within[:n_data]"
   ]
  },
  {
   "cell_type": "code",
   "execution_count": 6,
   "metadata": {},
   "outputs": [],
   "source": [
    "schnet = SchNet(use_cuda=False, comment=comment, eval_path=eval_path, abc_scheme=(0.001, 0.96, 1.0))"
   ]
  },
  {
   "cell_type": "code",
   "execution_count": 7,
   "metadata": {},
   "outputs": [],
   "source": [
    "network = Network(schnet)"
   ]
  },
  {
   "cell_type": "code",
   "execution_count": 8,
   "metadata": {},
   "outputs": [
    {
     "name": "stdout",
     "output_type": "stream",
     "text": [
      "(505000, 19, 19) (505000, 1)\n",
      "(404000, 19, 19) (404000, 1)\n",
      "(101000, 19, 19) (101000, 1)\n"
     ]
    }
   ],
   "source": [
    "network.create_dataloaders(X_train, Y_train, X_within, Y_within, 32, normalize_X=False)"
   ]
  },
  {
   "cell_type": "code",
   "execution_count": 10,
   "metadata": {},
   "outputs": [
    {
     "name": "stdout",
     "output_type": "stream",
     "text": [
      "epoch: 1\tprogress: 0.01\ttime estimate: 6051.44\ttrain loss: 0.003337\ttest loss: 0.00147\n",
      "epoch: 2\tprogress: 0.02\ttime estimate: 5966.03\ttrain loss: 0.001092\ttest loss: 0.000795\n",
      "epoch: 3\tprogress: 0.03\ttime estimate: 5889.74\ttrain loss: 0.000831\ttest loss: 0.000723\n",
      "epoch: 4\tprogress: 0.04\ttime estimate: 5825.96\ttrain loss: 0.000718\ttest loss: 0.00061\n",
      "epoch: 5\tprogress: 0.05\ttime estimate: 5771.18\ttrain loss: 0.000656\ttest loss: 0.00055\n",
      "epoch: 6\tprogress: 0.06\ttime estimate: 5713.64\ttrain loss: 0.000618\ttest loss: 0.000527\n",
      "epoch: 7\tprogress: 0.07\ttime estimate: 5653.07\ttrain loss: 0.000583\ttest loss: 0.000481\n",
      "epoch: 8\tprogress: 0.08\ttime estimate: 5593.82\ttrain loss: 0.000561\ttest loss: 0.000527\n",
      "epoch: 9\tprogress: 0.09\ttime estimate: 5534.5\ttrain loss: 0.00054\ttest loss: 0.000485\n",
      "epoch: 10\tprogress: 0.1\ttime estimate: 5474.37\ttrain loss: 0.000524\ttest loss: 0.000614\n",
      "epoch: 11\tprogress: 0.11\ttime estimate: 5415.23\ttrain loss: 0.000505\ttest loss: 0.000456\n",
      "epoch: 12\tprogress: 0.12\ttime estimate: 5351.54\ttrain loss: 0.000498\ttest loss: 0.00045\n",
      "epoch: 13\tprogress: 0.13\ttime estimate: 5290.84\ttrain loss: 0.000486\ttest loss: 0.000471\n",
      "epoch: 14\tprogress: 0.14\ttime estimate: 5228.65\ttrain loss: 0.000479\ttest loss: 0.000422\n",
      "epoch: 15\tprogress: 0.15\ttime estimate: 5168.78\ttrain loss: 0.00047\ttest loss: 0.000438\n",
      "epoch: 16\tprogress: 0.16\ttime estimate: 5107.72\ttrain loss: 0.000462\ttest loss: 0.000408\n",
      "epoch: 17\tprogress: 0.17\ttime estimate: 5047.0\ttrain loss: 0.000446\ttest loss: 0.000413\n",
      "epoch: 18\tprogress: 0.18\ttime estimate: 4985.85\ttrain loss: 0.000442\ttest loss: 0.000455\n",
      "epoch: 19\tprogress: 0.19\ttime estimate: 4925.65\ttrain loss: 0.000437\ttest loss: 0.000448\n",
      "epoch: 20\tprogress: 0.2\ttime estimate: 4865.68\ttrain loss: 0.000433\ttest loss: 0.000419\n",
      "epoch: 21\tprogress: 0.21\ttime estimate: 4804.34\ttrain loss: 0.000426\ttest loss: 0.00039\n",
      "epoch: 22\tprogress: 0.22\ttime estimate: 4743.82\ttrain loss: 0.000424\ttest loss: 0.000405\n",
      "epoch: 23\tprogress: 0.23\ttime estimate: 4684.14\ttrain loss: 0.000421\ttest loss: 0.000434\n",
      "epoch: 24\tprogress: 0.24\ttime estimate: 4623.1\ttrain loss: 0.000414\ttest loss: 0.000401\n",
      "epoch: 25\tprogress: 0.25\ttime estimate: 4563.44\ttrain loss: 0.000406\ttest loss: 0.000597\n",
      "epoch: 26\tprogress: 0.26\ttime estimate: 4503.27\ttrain loss: 0.000404\ttest loss: 0.00039\n",
      "epoch: 27\tprogress: 0.27\ttime estimate: 4443.55\ttrain loss: 0.0004\ttest loss: 0.000366\n",
      "epoch: 28\tprogress: 0.28\ttime estimate: 4382.65\ttrain loss: 0.000398\ttest loss: 0.000382\n",
      "epoch: 29\tprogress: 0.29\ttime estimate: 4322.95\ttrain loss: 0.000393\ttest loss: 0.000411\n",
      "epoch: 30\tprogress: 0.3\ttime estimate: 4262.21\ttrain loss: 0.000393\ttest loss: 0.000373\n",
      "epoch: 31\tprogress: 0.31\ttime estimate: 4201.55\ttrain loss: 0.000392\ttest loss: 0.000373\n",
      "epoch: 32\tprogress: 0.32\ttime estimate: 4140.45\ttrain loss: 0.000385\ttest loss: 0.000369\n",
      "epoch: 33\tprogress: 0.33\ttime estimate: 4079.54\ttrain loss: 0.00038\ttest loss: 0.000353\n",
      "epoch: 34\tprogress: 0.34\ttime estimate: 4018.7\ttrain loss: 0.000378\ttest loss: 0.000369\n",
      "epoch: 35\tprogress: 0.35\ttime estimate: 3958.54\ttrain loss: 0.000377\ttest loss: 0.000377\n",
      "epoch: 36\tprogress: 0.36\ttime estimate: 3897.54\ttrain loss: 0.000374\ttest loss: 0.000403\n",
      "epoch: 37\tprogress: 0.37\ttime estimate: 3837.09\ttrain loss: 0.000374\ttest loss: 0.000355\n",
      "epoch: 38\tprogress: 0.38\ttime estimate: 3776.48\ttrain loss: 0.000372\ttest loss: 0.000421\n",
      "epoch: 39\tprogress: 0.39\ttime estimate: 3715.22\ttrain loss: 0.000372\ttest loss: 0.000341\n",
      "epoch: 40\tprogress: 0.4\ttime estimate: 3654.56\ttrain loss: 0.000366\ttest loss: 0.000561\n",
      "epoch: 41\tprogress: 0.41\ttime estimate: 3593.14\ttrain loss: 0.000362\ttest loss: 0.000364\n",
      "epoch: 42\tprogress: 0.42\ttime estimate: 3532.13\ttrain loss: 0.000359\ttest loss: 0.000353\n",
      "epoch: 43\tprogress: 0.43\ttime estimate: 3471.05\ttrain loss: 0.00036\ttest loss: 0.000378\n",
      "epoch: 44\tprogress: 0.44\ttime estimate: 3410.31\ttrain loss: 0.000359\ttest loss: 0.000345\n",
      "epoch: 45\tprogress: 0.45\ttime estimate: 3349.47\ttrain loss: 0.000357\ttest loss: 0.000412\n",
      "epoch: 46\tprogress: 0.46\ttime estimate: 3288.59\ttrain loss: 0.000356\ttest loss: 0.000328\n",
      "epoch: 47\tprogress: 0.47\ttime estimate: 3227.61\ttrain loss: 0.000354\ttest loss: 0.000494\n",
      "epoch: 48\tprogress: 0.48\ttime estimate: 3166.91\ttrain loss: 0.000352\ttest loss: 0.000326\n",
      "epoch: 49\tprogress: 0.49\ttime estimate: 3105.91\ttrain loss: 0.000347\ttest loss: 0.000328\n",
      "epoch: 50\tprogress: 0.5\ttime estimate: 3045.1\ttrain loss: 0.000345\ttest loss: 0.000354\n",
      "epoch: 51\tprogress: 0.51\ttime estimate: 2984.5\ttrain loss: 0.000345\ttest loss: 0.000316\n",
      "epoch: 52\tprogress: 0.52\ttime estimate: 2923.98\ttrain loss: 0.000345\ttest loss: 0.000322\n",
      "epoch: 53\tprogress: 0.53\ttime estimate: 2862.79\ttrain loss: 0.000343\ttest loss: 0.00034\n",
      "epoch: 54\tprogress: 0.54\ttime estimate: 2802.07\ttrain loss: 0.000342\ttest loss: 0.000344\n",
      "epoch: 55\tprogress: 0.55\ttime estimate: 2741.03\ttrain loss: 0.000341\ttest loss: 0.000353\n",
      "epoch: 56\tprogress: 0.56\ttime estimate: 2680.09\ttrain loss: 0.000337\ttest loss: 0.000502\n",
      "epoch: 57\tprogress: 0.57\ttime estimate: 2619.15\ttrain loss: 0.000332\ttest loss: 0.000317\n",
      "epoch: 58\tprogress: 0.58\ttime estimate: 2558.23\ttrain loss: 0.000332\ttest loss: 0.000406\n",
      "epoch: 59\tprogress: 0.59\ttime estimate: 2497.28\ttrain loss: 0.000331\ttest loss: 0.000337\n",
      "epoch: 60\tprogress: 0.6\ttime estimate: 2436.37\ttrain loss: 0.000331\ttest loss: 0.000361\n",
      "epoch: 61\tprogress: 0.61\ttime estimate: 2375.39\ttrain loss: 0.00033\ttest loss: 0.000321\n",
      "epoch: 62\tprogress: 0.62\ttime estimate: 2314.37\ttrain loss: 0.00033\ttest loss: 0.000322\n",
      "epoch: 63\tprogress: 0.63\ttime estimate: 2253.5\ttrain loss: 0.00033\ttest loss: 0.000331\n",
      "epoch: 64\tprogress: 0.64\ttime estimate: 2192.73\ttrain loss: 0.000325\ttest loss: 0.000295\n",
      "epoch: 65\tprogress: 0.65\ttime estimate: 2131.87\ttrain loss: 0.000323\ttest loss: 0.000298\n",
      "epoch: 66\tprogress: 0.66\ttime estimate: 2070.93\ttrain loss: 0.000321\ttest loss: 0.000324\n",
      "epoch: 67\tprogress: 0.67\ttime estimate: 2010.01\ttrain loss: 0.00032\ttest loss: 0.000321\n",
      "epoch: 68\tprogress: 0.68\ttime estimate: 1948.95\ttrain loss: 0.00032\ttest loss: 0.000298\n",
      "epoch: 69\tprogress: 0.69\ttime estimate: 1887.96\ttrain loss: 0.000318\ttest loss: 0.000321\n",
      "epoch: 70\tprogress: 0.7\ttime estimate: 1826.83\ttrain loss: 0.000319\ttest loss: 0.000303\n",
      "epoch: 71\tprogress: 0.71\ttime estimate: 1765.92\ttrain loss: 0.00032\ttest loss: 0.00034\n",
      "epoch: 72\tprogress: 0.72\ttime estimate: 1704.99\ttrain loss: 0.000314\ttest loss: 0.000287\n",
      "epoch: 73\tprogress: 0.73\ttime estimate: 1644.17\ttrain loss: 0.000313\ttest loss: 0.000308\n",
      "epoch: 74\tprogress: 0.74\ttime estimate: 1583.41\ttrain loss: 0.000311\ttest loss: 0.000294\n",
      "epoch: 75\tprogress: 0.75\ttime estimate: 1522.52\ttrain loss: 0.00031\ttest loss: 0.000412\n",
      "epoch: 76\tprogress: 0.76\ttime estimate: 1461.68\ttrain loss: 0.000311\ttest loss: 0.000301\n",
      "epoch: 77\tprogress: 0.77\ttime estimate: 1400.87\ttrain loss: 0.00031\ttest loss: 0.0003\n",
      "epoch: 78\tprogress: 0.78\ttime estimate: 1340.01\ttrain loss: 0.000311\ttest loss: 0.000281\n",
      "epoch: 79\tprogress: 0.79\ttime estimate: 1279.15\ttrain loss: 0.00031\ttest loss: 0.000314\n",
      "epoch: 80\tprogress: 0.8\ttime estimate: 1218.3\ttrain loss: 0.000305\ttest loss: 0.000298\n",
      "epoch: 81\tprogress: 0.81\ttime estimate: 1157.42\ttrain loss: 0.000302\ttest loss: 0.0003\n",
      "epoch: 82\tprogress: 0.82\ttime estimate: 1096.54\ttrain loss: 0.000303\ttest loss: 0.000416\n",
      "epoch: 83\tprogress: 0.83\ttime estimate: 1035.68\ttrain loss: 0.000302\ttest loss: 0.000313\n",
      "epoch: 84\tprogress: 0.84\ttime estimate: 974.77\ttrain loss: 0.000301\ttest loss: 0.000277\n",
      "epoch: 85\tprogress: 0.85\ttime estimate: 913.84\ttrain loss: 0.000302\ttest loss: 0.000293\n",
      "epoch: 86\tprogress: 0.86\ttime estimate: 852.96\ttrain loss: 0.0003\ttest loss: 0.000316\n",
      "epoch: 87\tprogress: 0.87\ttime estimate: 792.08\ttrain loss: 0.0003\ttest loss: 0.000335\n",
      "epoch: 88\tprogress: 0.88\ttime estimate: 731.16\ttrain loss: 0.000296\ttest loss: 0.000375\n",
      "epoch: 89\tprogress: 0.89\ttime estimate: 670.22\ttrain loss: 0.000295\ttest loss: 0.00034\n",
      "epoch: 90\tprogress: 0.9\ttime estimate: 609.3\ttrain loss: 0.000295\ttest loss: 0.000279\n",
      "epoch: 91\tprogress: 0.91\ttime estimate: 548.39\ttrain loss: 0.000293\ttest loss: 0.000269\n",
      "epoch: 92\tprogress: 0.92\ttime estimate: 487.46\ttrain loss: 0.000295\ttest loss: 0.000421\n",
      "epoch: 93\tprogress: 0.93\ttime estimate: 426.57\ttrain loss: 0.000293\ttest loss: 0.000282\n"
     ]
    },
    {
     "name": "stdout",
     "output_type": "stream",
     "text": [
      "epoch: 94\tprogress: 0.94\ttime estimate: 365.64\ttrain loss: 0.000293\ttest loss: 0.000288\n",
      "epoch: 95\tprogress: 0.95\ttime estimate: 304.71\ttrain loss: 0.000293\ttest loss: 0.000292\n",
      "epoch: 96\tprogress: 0.96\ttime estimate: 243.78\ttrain loss: 0.000288\ttest loss: 0.000358\n",
      "epoch: 97\tprogress: 0.97\ttime estimate: 182.82\ttrain loss: 0.000287\ttest loss: 0.000332\n",
      "epoch: 98\tprogress: 0.98\ttime estimate: 121.88\ttrain loss: 0.000287\ttest loss: 0.000322\n",
      "epoch: 99\tprogress: 0.99\ttime estimate: 60.94\ttrain loss: 0.000286\ttest loss: 0.000406\n",
      "epoch: 100\tprogress: 1.0\ttime estimate: 0.0\ttrain loss: 0.000286\ttest loss: 0.000292\n"
     ]
    }
   ],
   "source": [
    "network.fit(100)"
   ]
  },
  {
   "cell_type": "code",
   "execution_count": 11,
   "metadata": {},
   "outputs": [
    {
     "data": {
      "text/plain": [
       "0.09108348888116868"
      ]
     },
     "execution_count": 11,
     "metadata": {},
     "output_type": "execute_result"
    }
   ],
   "source": [
    "network.calculate_mae(network.test_loader)"
   ]
  },
  {
   "cell_type": "code",
   "execution_count": 12,
   "metadata": {},
   "outputs": [
    {
     "data": {
      "image/png": "[encoded data removed]",
      "text/plain": [
       "<Figure size 432x288 with 1 Axes>"
      ]
     },
     "metadata": {},
     "output_type": "display_data"
    }
   ],
   "source": [
    "network.save_loss_plot()"
   ]
  },
  {
   "cell_type": "code",
   "execution_count": null,
   "metadata": {},
   "outputs": [],
   "source": [
    "network.test_losses"
   ]
  },
  {
   "cell_type": "code",
   "execution_count": null,
   "metadata": {},
   "outputs": [],
   "source": [
    "network.calculate_test_mae()"
   ]
  },
  {
   "cell_type": "code",
   "execution_count": null,
   "metadata": {},
   "outputs": [],
   "source": [
    "network.transform(network.train_loader)"
   ]
  },
  {
   "cell_type": "code",
   "execution_count": null,
   "metadata": {},
   "outputs": [],
   "source": [
    "opt = torch.optim.Adam(schnet.parameters())"
   ]
  },
  {
   "cell_type": "code",
   "execution_count": null,
   "metadata": {},
   "outputs": [],
   "source": []
  }
 ],
 "metadata": {
  "kernelspec": {
   "display_name": "Python 3",
   "language": "python",
   "name": "python3"
  },
  "language_info": {
   "codemirror_mode": {
    "name": "ipython",
    "version": 3
   },
   "file_extension": ".py",
   "mimetype": "text/x-python",
   "name": "python",
   "nbconvert_exporter": "python",
   "pygments_lexer": "ipython3",
   "version": "3.6.5"
  }
 },
 "nbformat": 4,
 "nbformat_minor": 2
}
