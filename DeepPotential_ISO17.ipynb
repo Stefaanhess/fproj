{
 "cells": [
  {
   "cell_type": "markdown",
   "metadata": {},
   "source": [
    "# Imports,  Settings and Paths"
   ]
  },
  {
   "cell_type": "code",
   "execution_count": 1,
   "metadata": {},
   "outputs": [],
   "source": [
    "comment = 'batchnorm_big'"
   ]
  },
  {
   "cell_type": "code",
   "execution_count": 2,
   "metadata": {
    "scrolled": true
   },
   "outputs": [],
   "source": [
    "import numpy as np\n",
    "from matplotlib import pyplot as plt\n",
    "%matplotlib inline\n",
    "import torch\n",
    "import torch.utils.data as data_utils"
   ]
  },
  {
   "cell_type": "code",
   "execution_count": 3,
   "metadata": {
    "scrolled": true
   },
   "outputs": [],
   "source": [
    "from Code.Models.DeepPotential.deep_potential import DeepPotential\n",
    "from Code.Train.trainer import Trainer\n",
    "from Code.Tools.Network.lr_scheduler import AbcExponentialLR"
   ]
  },
  {
   "cell_type": "code",
   "execution_count": 4,
   "metadata": {},
   "outputs": [],
   "source": [
    "data_path_train = './Dataset/DeepPotential/reference_X.npy'\n",
    "label_path_train = './Dataset/DeepPotential/reference_Y.npy'\n",
    "data_path_within = './Dataset/DeepPotential/within_X.npy'\n",
    "label_path_within = './Dataset/DeepPotential/within_Y.npy'\n",
    "eval_path = './evaluation/c7o2h10'"
   ]
  },
  {
   "cell_type": "code",
   "execution_count": 5,
   "metadata": {},
   "outputs": [
    {
     "name": "stdout",
     "output_type": "stream",
     "text": [
      "use cuda:   True\n"
     ]
    }
   ],
   "source": [
    "debug = False\n",
    "use_cuda = torch.cuda.is_available()\n",
    "print('use cuda:  ', use_cuda)"
   ]
  },
  {
   "cell_type": "markdown",
   "metadata": {},
   "source": [
    "# Read the Data"
   ]
  },
  {
   "cell_type": "code",
   "execution_count": 6,
   "metadata": {},
   "outputs": [],
   "source": [
    "X_train = np.load(data_path_train)\n",
    "Y_train = np.load(label_path_train) * -1\n",
    "X_within = np.load(data_path_within)\n",
    "Y_within = np.load(label_path_within) * -1"
   ]
  },
  {
   "cell_type": "code",
   "execution_count": 7,
   "metadata": {},
   "outputs": [
    {
     "name": "stdout",
     "output_type": "stream",
     "text": [
      "(404000, 19, 72) (101000, 19, 72)\n"
     ]
    }
   ],
   "source": [
    "print(X_train.shape, X_within.shape)"
   ]
  },
  {
   "cell_type": "code",
   "execution_count": 8,
   "metadata": {},
   "outputs": [],
   "source": [
    "if debug:\n",
    "    n_data = 4000\n",
    "    X_train = X_train[:n_data]\n",
    "    Y_train = Y_train[:n_data]\n",
    "    X_within = X_within[:n_data]\n",
    "    Y_within = Y_within[:n_data]"
   ]
  },
  {
   "cell_type": "markdown",
   "metadata": {},
   "source": [
    "# Train Model"
   ]
  },
  {
   "cell_type": "markdown",
   "metadata": {},
   "source": [
    "## Instanciate and create Dataloaders"
   ]
  },
  {
   "cell_type": "code",
   "execution_count": 9,
   "metadata": {},
   "outputs": [],
   "source": [
    "optimizer = torch.optim.Adam\n",
    "loss_fn = torch.nn.MSELoss\n",
    "lr_scheduler = AbcExponentialLR\n",
    "lr_schedule = (0.01, 0.96, 1.5)\n",
    "deep_pot = DeepPotential()\n",
    "trainer = Trainer(model=deep_pot, optimizer=optimizer, loss_fn=loss_fn, eval_path=eval_path,\n",
    "                  comment=comment, lr_scheduler=lr_scheduler, abc_schedule=lr_schedule,\n",
    "                  use_cuda=use_cuda, single_test_batch=True, momentum_scheme=True)"
   ]
  },
  {
   "cell_type": "code",
   "execution_count": 10,
   "metadata": {
    "scrolled": true
   },
   "outputs": [],
   "source": [
    "trainer.create_dataloaders(X_train, Y_train, X_within, Y_within, 128, normalize_X=True, num_workers=2)"
   ]
  },
  {
   "cell_type": "markdown",
   "metadata": {},
   "source": [
    "## Do the learning"
   ]
  },
  {
   "cell_type": "code",
   "execution_count": 11,
   "metadata": {},
   "outputs": [
    {
     "name": "stdout",
     "output_type": "stream",
     "text": [
      "epoch: 1\tprogress: 0.0\ttime estimate: 1038.26\ttrain loss: 0.018812\ttest loss: 0.076482\n",
      "epoch: 2\tprogress: 0.01\ttime estimate: 989.04\ttrain loss: 0.002028\ttest loss: 0.006264\n",
      "epoch: 3\tprogress: 0.01\ttime estimate: 968.72\ttrain loss: 0.001884\ttest loss: 0.171409\n",
      "epoch: 4\tprogress: 0.01\ttime estimate: 957.86\ttrain loss: 0.001556\ttest loss: 0.175146\n",
      "epoch: 5\tprogress: 0.02\ttime estimate: 950.4\ttrain loss: 0.001372\ttest loss: 0.181697\n",
      "epoch: 6\tprogress: 0.02\ttime estimate: 943.86\ttrain loss: 0.001259\ttest loss: 0.18272\n",
      "epoch: 7\tprogress: 0.02\ttime estimate: 938.36\ttrain loss: 0.001128\ttest loss: 1.8181\n",
      "epoch: 8\tprogress: 0.03\ttime estimate: 933.93\ttrain loss: 0.001045\ttest loss: 1443.545654\n",
      "epoch: 9\tprogress: 0.03\ttime estimate: 929.6\ttrain loss: 0.000993\ttest loss: 0.178904\n",
      "epoch: 10\tprogress: 0.03\ttime estimate: 925.45\ttrain loss: 0.000923\ttest loss: 2653191405568.0\n",
      "epoch: 11\tprogress: 0.03\ttime estimate: 921.72\ttrain loss: 0.00085\ttest loss: 1167046144.0\n",
      "epoch: 12\tprogress: 0.04\ttime estimate: 918.18\ttrain loss: 0.00081\ttest loss: 3.902503\n",
      "epoch: 13\tprogress: 0.04\ttime estimate: 914.72\ttrain loss: 0.000783\ttest loss: 8864378880.0\n",
      "epoch: 14\tprogress: 0.04\ttime estimate: 911.38\ttrain loss: 0.000759\ttest loss: 3409633607680000.0\n",
      "epoch: 15\tprogress: 0.05\ttime estimate: 908.09\ttrain loss: 0.000716\ttest loss: 3.622446542104822e+17\n",
      "epoch: 16\tprogress: 0.05\ttime estimate: 904.77\ttrain loss: 0.000715\ttest loss: 0.183405\n",
      "epoch: 17\tprogress: 0.05\ttime estimate: 901.55\ttrain loss: 0.000678\ttest loss: 2.532645429940165e+19\n",
      "epoch: 18\tprogress: 0.06\ttime estimate: 898.15\ttrain loss: 0.000658\ttest loss: 0.185674\n",
      "epoch: 19\tprogress: 0.06\ttime estimate: 894.94\ttrain loss: 0.000667\ttest loss: 0.174132\n",
      "epoch: 20\tprogress: 0.06\ttime estimate: 891.75\ttrain loss: 0.000663\ttest loss: 1.6946863978376593e+19\n",
      "epoch: 21\tprogress: 0.07\ttime estimate: 888.61\ttrain loss: 0.000616\ttest loss: 2509905330176.0\n",
      "epoch: 22\tprogress: 0.07\ttime estimate: 885.49\ttrain loss: 0.00064\ttest loss: 2218114116747264.0\n",
      "epoch: 23\tprogress: 0.07\ttime estimate: 882.41\ttrain loss: 0.000605\ttest loss: 0.185199\n",
      "epoch: 24\tprogress: 0.07\ttime estimate: 879.29\ttrain loss: 0.000617\ttest loss: 0.179712\n",
      "epoch: 25\tprogress: 0.08\ttime estimate: 876.25\ttrain loss: 0.000603\ttest loss: 219650949120.0\n",
      "epoch: 26\tprogress: 0.08\ttime estimate: 873.16\ttrain loss: 0.000627\ttest loss: 747568652877824.0\n",
      "epoch: 27\tprogress: 0.08\ttime estimate: 870.08\ttrain loss: 0.000557\ttest loss: 114837703098368.0\n",
      "epoch: 28\tprogress: 0.09\ttime estimate: 867.04\ttrain loss: 0.000547\ttest loss: 133476802560.0\n",
      "epoch: 29\tprogress: 0.09\ttime estimate: 864.0\ttrain loss: 0.000518\ttest loss: 11418689536.0\n",
      "epoch: 30\tprogress: 0.09\ttime estimate: 860.95\ttrain loss: 0.000505\ttest loss: 8179813533614080.0\n",
      "epoch: 31\tprogress: 0.1\ttime estimate: 857.91\ttrain loss: 0.000488\ttest loss: 71953545166848.0\n",
      "epoch: 32\tprogress: 0.1\ttime estimate: 854.89\ttrain loss: 0.000473\ttest loss: 0.179985\n",
      "epoch: 33\tprogress: 0.1\ttime estimate: 851.78\ttrain loss: 0.000467\ttest loss: 1189308544.0\n",
      "epoch: 34\tprogress: 0.11\ttime estimate: 848.74\ttrain loss: 0.000465\ttest loss: 354837581529088.0\n",
      "epoch: 35\tprogress: 0.11\ttime estimate: 845.67\ttrain loss: 0.000452\ttest loss: 1022908403023872.0\n",
      "epoch: 36\tprogress: 0.11\ttime estimate: 842.71\ttrain loss: 0.000474\ttest loss: 311723950080.0\n",
      "epoch: 37\tprogress: 0.12\ttime estimate: 839.67\ttrain loss: 0.000465\ttest loss: 1.3831231754817503e+19\n",
      "epoch: 38\tprogress: 0.12\ttime estimate: 836.62\ttrain loss: 0.000466\ttest loss: 0.180336\n",
      "epoch: 39\tprogress: 0.12\ttime estimate: 833.58\ttrain loss: 0.000433\ttest loss: 17262714880.0\n",
      "epoch: 40\tprogress: 0.12\ttime estimate: 830.55\ttrain loss: 0.00044\ttest loss: 2.3396379078426624e+16\n",
      "epoch: 41\tprogress: 0.13\ttime estimate: 827.44\ttrain loss: 0.000427\ttest loss: 0.181214\n",
      "epoch: 42\tprogress: 0.13\ttime estimate: 824.46\ttrain loss: 0.000449\ttest loss: 80873840640.0\n",
      "epoch: 43\tprogress: 0.13\ttime estimate: 821.46\ttrain loss: 0.000426\ttest loss: 37855.1875\n",
      "epoch: 44\tprogress: 0.14\ttime estimate: 818.42\ttrain loss: 0.000416\ttest loss: 617263104.0\n",
      "epoch: 45\tprogress: 0.14\ttime estimate: 815.42\ttrain loss: 0.000423\ttest loss: 9373757533585408.0\n",
      "epoch: 46\tprogress: 0.14\ttime estimate: 812.46\ttrain loss: 0.000406\ttest loss: 269727268864.0\n",
      "epoch: 47\tprogress: 0.15\ttime estimate: 809.47\ttrain loss: 0.000395\ttest loss: 127918047232.0\n",
      "epoch: 48\tprogress: 0.15\ttime estimate: 806.46\ttrain loss: 0.000394\ttest loss: 2616112128.0\n",
      "epoch: 49\tprogress: 0.15\ttime estimate: 803.42\ttrain loss: 0.000385\ttest loss: 0.185919\n",
      "epoch: 50\tprogress: 0.16\ttime estimate: 800.4\ttrain loss: 0.000388\ttest loss: 0.181034\n",
      "epoch: 51\tprogress: 0.16\ttime estimate: 797.45\ttrain loss: 0.000394\ttest loss: 0.185572\n",
      "epoch: 52\tprogress: 0.16\ttime estimate: 794.47\ttrain loss: 0.000379\ttest loss: 6470520.5\n",
      "epoch: 53\tprogress: 0.17\ttime estimate: 791.47\ttrain loss: 0.000374\ttest loss: 0.186417\n",
      "epoch: 54\tprogress: 0.17\ttime estimate: 788.51\ttrain loss: 0.000352\ttest loss: 923418.375\n",
      "epoch: 55\tprogress: 0.17\ttime estimate: 785.52\ttrain loss: 0.000354\ttest loss: 98376.710938\n",
      "epoch: 56\tprogress: 0.17\ttime estimate: 782.54\ttrain loss: 0.000354\ttest loss: 0.180446\n",
      "epoch: 57\tprogress: 0.18\ttime estimate: 779.55\ttrain loss: 0.000359\ttest loss: 0.17824\n",
      "epoch: 58\tprogress: 0.18\ttime estimate: 776.58\ttrain loss: 0.000352\ttest loss: 4890309120.0\n",
      "epoch: 59\tprogress: 0.18\ttime estimate: 773.64\ttrain loss: 0.00034\ttest loss: 0.184236\n",
      "epoch: 60\tprogress: 0.19\ttime estimate: 770.63\ttrain loss: 0.000344\ttest loss: 0.181746\n",
      "epoch: 61\tprogress: 0.19\ttime estimate: 767.66\ttrain loss: 0.000342\ttest loss: 20573530112.0\n",
      "epoch: 62\tprogress: 0.19\ttime estimate: 764.66\ttrain loss: 0.000333\ttest loss: 2.7313143580249293e+17\n",
      "epoch: 63\tprogress: 0.2\ttime estimate: 761.7\ttrain loss: 0.000326\ttest loss: 116619083776.0\n",
      "epoch: 64\tprogress: 0.2\ttime estimate: 758.7\ttrain loss: 0.00033\ttest loss: 858.468262\n",
      "epoch: 65\tprogress: 0.2\ttime estimate: 755.73\ttrain loss: 0.000329\ttest loss: 1.1692435142030131e+17\n",
      "epoch: 66\tprogress: 0.21\ttime estimate: 752.74\ttrain loss: 0.000322\ttest loss: 9.831803420700437e+20\n",
      "epoch: 67\tprogress: 0.21\ttime estimate: 749.79\ttrain loss: 0.000315\ttest loss: 2006474948608.0\n",
      "epoch: 68\tprogress: 0.21\ttime estimate: 746.82\ttrain loss: 0.00032\ttest loss: 14978816.0\n",
      "epoch: 69\tprogress: 0.22\ttime estimate: 743.85\ttrain loss: 0.000321\ttest loss: 0.179956\n",
      "epoch: 70\tprogress: 0.22\ttime estimate: 740.82\ttrain loss: 0.000307\ttest loss: 0.185384\n",
      "epoch: 71\tprogress: 0.22\ttime estimate: 737.87\ttrain loss: 0.000308\ttest loss: 3031382528.0\n",
      "epoch: 72\tprogress: 0.23\ttime estimate: 734.86\ttrain loss: 0.000302\ttest loss: 0.186094\n",
      "epoch: 73\tprogress: 0.23\ttime estimate: 731.9\ttrain loss: 0.000305\ttest loss: 1.966365907919831e+17\n",
      "epoch: 74\tprogress: 0.23\ttime estimate: 728.94\ttrain loss: 0.0003\ttest loss: 0.180364\n",
      "epoch: 75\tprogress: 0.23\ttime estimate: 725.97\ttrain loss: 0.000296\ttest loss: 0.186809\n",
      "epoch: 76\tprogress: 0.24\ttime estimate: 723.01\ttrain loss: 0.000299\ttest loss: 0.185516\n",
      "epoch: 77\tprogress: 0.24\ttime estimate: 720.02\ttrain loss: 0.000298\ttest loss: 4066320148594688.0\n",
      "epoch: 78\tprogress: 0.24\ttime estimate: 717.05\ttrain loss: 0.000293\ttest loss: 5200478208.0\n",
      "epoch: 79\tprogress: 0.25\ttime estimate: 714.07\ttrain loss: 0.000295\ttest loss: 0.186943\n",
      "epoch: 80\tprogress: 0.25\ttime estimate: 711.12\ttrain loss: 0.000289\ttest loss: 0.179792\n",
      "epoch: 81\tprogress: 0.25\ttime estimate: 708.15\ttrain loss: 0.000287\ttest loss: 1.7488496292495329e+21\n",
      "epoch: 82\tprogress: 0.26\ttime estimate: 705.2\ttrain loss: 0.000289\ttest loss: 0.186892\n",
      "epoch: 83\tprogress: 0.26\ttime estimate: 702.23\ttrain loss: 0.000284\ttest loss: 47787215421440.0\n",
      "epoch: 84\tprogress: 0.26\ttime estimate: 699.26\ttrain loss: 0.00028\ttest loss: 0.185683\n",
      "epoch: 85\tprogress: 0.27\ttime estimate: 696.3\ttrain loss: 0.00028\ttest loss: 3275767808.0\n",
      "epoch: 86\tprogress: 0.27\ttime estimate: 693.34\ttrain loss: 0.000279\ttest loss: 8.574599153571594e+17\n",
      "epoch: 87\tprogress: 0.27\ttime estimate: 690.39\ttrain loss: 0.000275\ttest loss: 0.184975\n",
      "epoch: 88\tprogress: 0.28\ttime estimate: 687.42\ttrain loss: 0.000273\ttest loss: 1287141.625\n",
      "epoch: 89\tprogress: 0.28\ttime estimate: 684.44\ttrain loss: 0.000273\ttest loss: 0.181856\n",
      "epoch: 90\tprogress: 0.28\ttime estimate: 681.47\ttrain loss: 0.000273\ttest loss: 2.601390195443604e+19\n"
     ]
    },
    {
     "name": "stdout",
     "output_type": "stream",
     "text": [
      "epoch: 91\tprogress: 0.28\ttime estimate: 678.49\ttrain loss: 0.00027\ttest loss: 6936410456064.0\n",
      "epoch: 92\tprogress: 0.29\ttime estimate: 675.56\ttrain loss: 0.000269\ttest loss: 1176669257728.0\n",
      "epoch: 93\tprogress: 0.29\ttime estimate: 672.6\ttrain loss: 0.000268\ttest loss: 629244493824.0\n",
      "epoch: 94\tprogress: 0.29\ttime estimate: 669.66\ttrain loss: 0.000268\ttest loss: 53411790848.0\n",
      "epoch: 95\tprogress: 0.3\ttime estimate: 666.69\ttrain loss: 0.000266\ttest loss: 94.258316\n",
      "epoch: 96\tprogress: 0.3\ttime estimate: 663.74\ttrain loss: 0.000266\ttest loss: 7.714478694953124e+17\n",
      "epoch: 97\tprogress: 0.3\ttime estimate: 660.76\ttrain loss: 0.000264\ttest loss: 0.183675\n",
      "epoch: 98\tprogress: 0.31\ttime estimate: 657.8\ttrain loss: 0.000262\ttest loss: 3.4155637343949894e+20\n",
      "epoch: 99\tprogress: 0.31\ttime estimate: 654.86\ttrain loss: 0.000262\ttest loss: 51734024.0\n",
      "epoch: 100\tprogress: 0.31\ttime estimate: 651.88\ttrain loss: 0.000261\ttest loss: 0.180789\n",
      "epoch: 101\tprogress: 0.32\ttime estimate: 648.92\ttrain loss: 0.000258\ttest loss: 0.188023\n",
      "epoch: 102\tprogress: 0.32\ttime estimate: 645.95\ttrain loss: 0.000258\ttest loss: 0.185394\n",
      "epoch: 103\tprogress: 0.32\ttime estimate: 642.97\ttrain loss: 0.000258\ttest loss: 0.186122\n",
      "epoch: 104\tprogress: 0.33\ttime estimate: 640.01\ttrain loss: 0.000256\ttest loss: 1170186698752.0\n",
      "epoch: 105\tprogress: 0.33\ttime estimate: 637.04\ttrain loss: 0.000254\ttest loss: 530066931712.0\n",
      "epoch: 106\tprogress: 0.33\ttime estimate: 634.08\ttrain loss: 0.000255\ttest loss: 0.184542\n",
      "epoch: 107\tprogress: 0.33\ttime estimate: 631.13\ttrain loss: 0.000253\ttest loss: 0.186684\n",
      "epoch: 108\tprogress: 0.34\ttime estimate: 628.17\ttrain loss: 0.000254\ttest loss: 0.185498\n",
      "epoch: 109\tprogress: 0.34\ttime estimate: 625.2\ttrain loss: 0.00025\ttest loss: 7895084045434880.0\n",
      "epoch: 110\tprogress: 0.34\ttime estimate: 622.23\ttrain loss: 0.00025\ttest loss: 0.184586\n",
      "epoch: 111\tprogress: 0.35\ttime estimate: 619.27\ttrain loss: 0.000249\ttest loss: 0.184103\n",
      "epoch: 112\tprogress: 0.35\ttime estimate: 616.32\ttrain loss: 0.000248\ttest loss: 0.186035\n",
      "epoch: 113\tprogress: 0.35\ttime estimate: 613.36\ttrain loss: 0.000248\ttest loss: 823123771392.0\n",
      "epoch: 114\tprogress: 0.36\ttime estimate: 610.42\ttrain loss: 0.00025\ttest loss: 306.664246\n",
      "epoch: 115\tprogress: 0.36\ttime estimate: 607.44\ttrain loss: 0.000246\ttest loss: 4.2122268469866004e+18\n",
      "epoch: 116\tprogress: 0.36\ttime estimate: 604.48\ttrain loss: 0.000246\ttest loss: 6362507.5\n",
      "epoch: 117\tprogress: 0.37\ttime estimate: 601.51\ttrain loss: 0.000246\ttest loss: 0.185408\n",
      "epoch: 118\tprogress: 0.37\ttime estimate: 598.55\ttrain loss: 0.000245\ttest loss: 7784679936.0\n",
      "epoch: 119\tprogress: 0.37\ttime estimate: 595.57\ttrain loss: 0.000243\ttest loss: 8993443.0\n",
      "epoch: 120\tprogress: 0.38\ttime estimate: 592.62\ttrain loss: 0.000243\ttest loss: 0.632037\n",
      "epoch: 121\tprogress: 0.38\ttime estimate: 589.68\ttrain loss: 0.000242\ttest loss: 0.184253\n",
      "epoch: 122\tprogress: 0.38\ttime estimate: 586.72\ttrain loss: 0.000241\ttest loss: 1.8303476125313595e+21\n",
      "epoch: 123\tprogress: 0.38\ttime estimate: 583.78\ttrain loss: 0.000242\ttest loss: 6808742912.0\n",
      "epoch: 124\tprogress: 0.39\ttime estimate: 580.81\ttrain loss: 0.00024\ttest loss: 0.18299\n",
      "epoch: 125\tprogress: 0.39\ttime estimate: 577.83\ttrain loss: 0.000239\ttest loss: 0.179377\n",
      "epoch: 126\tprogress: 0.39\ttime estimate: 574.9\ttrain loss: 0.00024\ttest loss: 0.181953\n",
      "epoch: 127\tprogress: 0.4\ttime estimate: 571.94\ttrain loss: 0.00024\ttest loss: 9194264.0\n",
      "epoch: 128\tprogress: 0.4\ttime estimate: 568.98\ttrain loss: 0.000239\ttest loss: 1795411488538624.0\n",
      "epoch: 129\tprogress: 0.4\ttime estimate: 566.06\ttrain loss: 0.000239\ttest loss: 0.186712\n",
      "epoch: 130\tprogress: 0.41\ttime estimate: 563.11\ttrain loss: 0.000237\ttest loss: 9.983300597903786e+18\n",
      "epoch: 131\tprogress: 0.41\ttime estimate: 560.15\ttrain loss: 0.000238\ttest loss: 58109.84375\n",
      "epoch: 132\tprogress: 0.41\ttime estimate: 557.2\ttrain loss: 0.000236\ttest loss: 7.470830018860753e+20\n",
      "epoch: 133\tprogress: 0.42\ttime estimate: 554.24\ttrain loss: 0.000238\ttest loss: 0.184816\n",
      "epoch: 134\tprogress: 0.42\ttime estimate: 551.3\ttrain loss: 0.000236\ttest loss: 0.186781\n",
      "epoch: 135\tprogress: 0.42\ttime estimate: 548.34\ttrain loss: 0.000237\ttest loss: 4942297600.0\n",
      "epoch: 136\tprogress: 0.42\ttime estimate: 545.37\ttrain loss: 0.000235\ttest loss: 1.3364634702577664e+16\n",
      "epoch: 137\tprogress: 0.43\ttime estimate: 542.41\ttrain loss: 0.000234\ttest loss: 0.18353\n",
      "epoch: 138\tprogress: 0.43\ttime estimate: 539.43\ttrain loss: 0.000234\ttest loss: 398410944.0\n",
      "epoch: 139\tprogress: 0.43\ttime estimate: 536.46\ttrain loss: 0.000234\ttest loss: 0.187703\n",
      "epoch: 140\tprogress: 0.44\ttime estimate: 533.49\ttrain loss: 0.000233\ttest loss: 3.129355262545101e+16\n",
      "epoch: 141\tprogress: 0.44\ttime estimate: 530.53\ttrain loss: 0.000233\ttest loss: 0.190906\n",
      "epoch: 142\tprogress: 0.44\ttime estimate: 527.56\ttrain loss: 0.000234\ttest loss: 1.2004149181647243e+21\n",
      "epoch: 143\tprogress: 0.45\ttime estimate: 524.59\ttrain loss: 0.000233\ttest loss: 4.341124450536653e+17\n",
      "epoch: 144\tprogress: 0.45\ttime estimate: 521.61\ttrain loss: 0.000233\ttest loss: 1.4362263435440292e+18\n",
      "epoch: 145\tprogress: 0.45\ttime estimate: 518.64\ttrain loss: 0.000232\ttest loss: 0.188635\n",
      "epoch: 146\tprogress: 0.46\ttime estimate: 515.67\ttrain loss: 0.000232\ttest loss: 12.302053\n",
      "epoch: 147\tprogress: 0.46\ttime estimate: 512.71\ttrain loss: 0.000232\ttest loss: 44173256294400.0\n",
      "epoch: 148\tprogress: 0.46\ttime estimate: 509.74\ttrain loss: 0.000232\ttest loss: 0.188563\n",
      "epoch: 149\tprogress: 0.47\ttime estimate: 506.77\ttrain loss: 0.000231\ttest loss: 87673150636032.0\n",
      "epoch: 150\tprogress: 0.47\ttime estimate: 503.81\ttrain loss: 0.000231\ttest loss: 22409302016.0\n",
      "epoch: 151\tprogress: 0.47\ttime estimate: 500.85\ttrain loss: 0.000232\ttest loss: 0.183287\n",
      "epoch: 152\tprogress: 0.47\ttime estimate: 497.88\ttrain loss: 0.000232\ttest loss: 0.187542\n",
      "epoch: 153\tprogress: 0.48\ttime estimate: 494.91\ttrain loss: 0.000231\ttest loss: 0.185242\n",
      "epoch: 154\tprogress: 0.48\ttime estimate: 491.94\ttrain loss: 0.00023\ttest loss: 4.765432048753259e+19\n",
      "epoch: 155\tprogress: 0.48\ttime estimate: 488.98\ttrain loss: 0.00023\ttest loss: 55633323753472.0\n",
      "epoch: 156\tprogress: 0.49\ttime estimate: 486.01\ttrain loss: 0.00023\ttest loss: 7261343744.0\n",
      "epoch: 157\tprogress: 0.49\ttime estimate: 483.03\ttrain loss: 0.00023\ttest loss: 0.186774\n",
      "epoch: 158\tprogress: 0.49\ttime estimate: 480.06\ttrain loss: 0.00023\ttest loss: 7.600909451725373e+17\n",
      "epoch: 159\tprogress: 0.5\ttime estimate: 477.09\ttrain loss: 0.000229\ttest loss: 0.189833\n",
      "epoch: 160\tprogress: 0.5\ttime estimate: 474.12\ttrain loss: 0.000229\ttest loss: 193733967872.0\n",
      "epoch: 161\tprogress: 0.5\ttime estimate: 471.16\ttrain loss: 0.000228\ttest loss: 0.184328\n",
      "epoch: 162\tprogress: 0.51\ttime estimate: 468.19\ttrain loss: 0.000229\ttest loss: 3.316047904535216e+19\n",
      "epoch: 163\tprogress: 0.51\ttime estimate: 465.23\ttrain loss: 0.000228\ttest loss: 21742508032.0\n",
      "epoch: 164\tprogress: 0.51\ttime estimate: 462.26\ttrain loss: 0.000229\ttest loss: 2.7166422343457178e+17\n",
      "epoch: 165\tprogress: 0.52\ttime estimate: 459.29\ttrain loss: 0.000228\ttest loss: 254977008205824.0\n",
      "epoch: 166\tprogress: 0.52\ttime estimate: 456.32\ttrain loss: 0.000228\ttest loss: 0.183655\n",
      "epoch: 167\tprogress: 0.52\ttime estimate: 453.35\ttrain loss: 0.000227\ttest loss: 6307583.5\n",
      "epoch: 168\tprogress: 0.53\ttime estimate: 450.38\ttrain loss: 0.000227\ttest loss: 0.185403\n",
      "epoch: 169\tprogress: 0.53\ttime estimate: 447.41\ttrain loss: 0.000227\ttest loss: 0.187932\n",
      "epoch: 170\tprogress: 0.53\ttime estimate: 444.45\ttrain loss: 0.000226\ttest loss: 0.186357\n",
      "epoch: 171\tprogress: 0.53\ttime estimate: 441.49\ttrain loss: 0.000227\ttest loss: 2.6295005296216506e+19\n",
      "epoch: 172\tprogress: 0.54\ttime estimate: 438.52\ttrain loss: 0.000228\ttest loss: 9.038572444650045e+17\n",
      "epoch: 173\tprogress: 0.54\ttime estimate: 435.55\ttrain loss: 0.000226\ttest loss: 42531412.0\n",
      "epoch: 174\tprogress: 0.54\ttime estimate: 432.59\ttrain loss: 0.000227\ttest loss: 11223174144.0\n",
      "epoch: 175\tprogress: 0.55\ttime estimate: 429.62\ttrain loss: 0.000226\ttest loss: 0.184228\n",
      "epoch: 176\tprogress: 0.55\ttime estimate: 426.66\ttrain loss: 0.000227\ttest loss: 176275056.0\n",
      "epoch: 177\tprogress: 0.55\ttime estimate: 423.7\ttrain loss: 0.000226\ttest loss: 1.6940738289860608e+16\n",
      "epoch: 178\tprogress: 0.56\ttime estimate: 420.73\ttrain loss: 0.000226\ttest loss: 2.3903440490220466e+21\n"
     ]
    },
    {
     "name": "stdout",
     "output_type": "stream",
     "text": [
      "epoch: 179\tprogress: 0.56\ttime estimate: 417.77\ttrain loss: 0.000225\ttest loss: 5.245038800886825e+18\n",
      "epoch: 180\tprogress: 0.56\ttime estimate: 414.8\ttrain loss: 0.000225\ttest loss: 3.3518230222314196e+20\n",
      "epoch: 181\tprogress: 0.57\ttime estimate: 411.84\ttrain loss: 0.000226\ttest loss: 0.184888\n",
      "epoch: 182\tprogress: 0.57\ttime estimate: 408.87\ttrain loss: 0.000226\ttest loss: 0.187239\n",
      "epoch: 183\tprogress: 0.57\ttime estimate: 405.91\ttrain loss: 0.000225\ttest loss: 104101152.0\n",
      "epoch: 184\tprogress: 0.57\ttime estimate: 402.94\ttrain loss: 0.000226\ttest loss: 7.796794402624714e+19\n",
      "epoch: 185\tprogress: 0.58\ttime estimate: 399.97\ttrain loss: 0.000224\ttest loss: 1.8715851743630983e+19\n",
      "epoch: 186\tprogress: 0.58\ttime estimate: 397.0\ttrain loss: 0.000225\ttest loss: 1.1756980375098082e+21\n",
      "epoch: 187\tprogress: 0.58\ttime estimate: 394.04\ttrain loss: 0.000225\ttest loss: 0.186365\n",
      "epoch: 188\tprogress: 0.59\ttime estimate: 391.08\ttrain loss: 0.000225\ttest loss: 0.185166\n",
      "epoch: 189\tprogress: 0.59\ttime estimate: 388.12\ttrain loss: 0.000224\ttest loss: 24554314.0\n",
      "epoch: 190\tprogress: 0.59\ttime estimate: 385.16\ttrain loss: 0.000224\ttest loss: 0.186328\n",
      "epoch: 191\tprogress: 0.6\ttime estimate: 382.19\ttrain loss: 0.000225\ttest loss: 0.187597\n",
      "epoch: 192\tprogress: 0.6\ttime estimate: 379.23\ttrain loss: 0.000224\ttest loss: 0.185548\n",
      "epoch: 193\tprogress: 0.6\ttime estimate: 376.26\ttrain loss: 0.000224\ttest loss: 0.187196\n",
      "epoch: 194\tprogress: 0.61\ttime estimate: 373.3\ttrain loss: 0.000224\ttest loss: 0.181327\n",
      "epoch: 195\tprogress: 0.61\ttime estimate: 370.34\ttrain loss: 0.000224\ttest loss: 2.5204547425140736e+16\n",
      "epoch: 196\tprogress: 0.61\ttime estimate: 367.38\ttrain loss: 0.000224\ttest loss: 0.181376\n",
      "epoch: 197\tprogress: 0.62\ttime estimate: 364.4\ttrain loss: 0.000223\ttest loss: 948971614765056.0\n",
      "epoch: 198\tprogress: 0.62\ttime estimate: 361.44\ttrain loss: 0.000224\ttest loss: 0.186181\n",
      "epoch: 199\tprogress: 0.62\ttime estimate: 358.47\ttrain loss: 0.000224\ttest loss: 6.526618559106253e+17\n",
      "epoch: 200\tprogress: 0.62\ttime estimate: 355.51\ttrain loss: 0.000223\ttest loss: 4.441462926749991e+18\n",
      "epoch: 201\tprogress: 0.63\ttime estimate: 352.55\ttrain loss: 0.000223\ttest loss: 0.186747\n",
      "epoch: 202\tprogress: 0.63\ttime estimate: 349.58\ttrain loss: 0.000224\ttest loss: 9.964448508972892e+17\n",
      "epoch: 203\tprogress: 0.63\ttime estimate: 346.62\ttrain loss: 0.000223\ttest loss: 6.268186047578898e+18\n",
      "epoch: 204\tprogress: 0.64\ttime estimate: 343.66\ttrain loss: 0.000223\ttest loss: 0.182791\n",
      "epoch: 205\tprogress: 0.64\ttime estimate: 340.7\ttrain loss: 0.000223\ttest loss: 4.751248300651315e+16\n",
      "epoch: 206\tprogress: 0.64\ttime estimate: 337.74\ttrain loss: 0.000223\ttest loss: 0.186422\n",
      "epoch: 207\tprogress: 0.65\ttime estimate: 334.77\ttrain loss: 0.000223\ttest loss: 0.189124\n",
      "epoch: 208\tprogress: 0.65\ttime estimate: 331.8\ttrain loss: 0.000222\ttest loss: 0.186109\n",
      "epoch: 209\tprogress: 0.65\ttime estimate: 328.83\ttrain loss: 0.000224\ttest loss: 0.190046\n",
      "epoch: 210\tprogress: 0.66\ttime estimate: 325.87\ttrain loss: 0.000222\ttest loss: 0.184801\n",
      "epoch: 211\tprogress: 0.66\ttime estimate: 322.9\ttrain loss: 0.000222\ttest loss: 0.186932\n",
      "epoch: 212\tprogress: 0.66\ttime estimate: 319.94\ttrain loss: 0.000222\ttest loss: 3.014860539764408e+17\n",
      "epoch: 213\tprogress: 0.67\ttime estimate: 316.97\ttrain loss: 0.000223\ttest loss: 1.3784117681567302e+19\n",
      "epoch: 214\tprogress: 0.67\ttime estimate: 314.01\ttrain loss: 0.000222\ttest loss: 5.069054268279882e+18\n",
      "epoch: 215\tprogress: 0.67\ttime estimate: 311.05\ttrain loss: 0.000222\ttest loss: 5930675.0\n",
      "epoch: 216\tprogress: 0.68\ttime estimate: 308.08\ttrain loss: 0.000223\ttest loss: 1.3453670663113933e+17\n",
      "epoch: 217\tprogress: 0.68\ttime estimate: 305.12\ttrain loss: 0.000223\ttest loss: 0.184813\n",
      "epoch: 218\tprogress: 0.68\ttime estimate: 302.16\ttrain loss: 0.000223\ttest loss: 0.185949\n",
      "epoch: 219\tprogress: 0.68\ttime estimate: 299.19\ttrain loss: 0.000222\ttest loss: 2.78598654292394e+18\n",
      "epoch: 220\tprogress: 0.69\ttime estimate: 296.23\ttrain loss: 0.000222\ttest loss: 1181132672.0\n",
      "epoch: 221\tprogress: 0.69\ttime estimate: 293.26\ttrain loss: 0.000223\ttest loss: 1.843917421103022e+17\n",
      "epoch: 222\tprogress: 0.69\ttime estimate: 290.3\ttrain loss: 0.000223\ttest loss: 19370336.0\n",
      "epoch: 223\tprogress: 0.7\ttime estimate: 287.33\ttrain loss: 0.000222\ttest loss: 0.186719\n",
      "epoch: 224\tprogress: 0.7\ttime estimate: 284.37\ttrain loss: 0.000221\ttest loss: 2.993980899852288e+16\n",
      "epoch: 225\tprogress: 0.7\ttime estimate: 281.41\ttrain loss: 0.000222\ttest loss: 1.593322228458455e+18\n",
      "epoch: 226\tprogress: 0.71\ttime estimate: 278.45\ttrain loss: 0.000222\ttest loss: 6976031948800.0\n",
      "epoch: 227\tprogress: 0.71\ttime estimate: 275.49\ttrain loss: 0.000222\ttest loss: 0.188333\n",
      "epoch: 228\tprogress: 0.71\ttime estimate: 272.53\ttrain loss: 0.000222\ttest loss: 0.187116\n"
     ]
    },
    {
     "name": "stderr",
     "output_type": "stream",
     "text": [
      "Process Process-914:\n",
      "Process Process-913:\n",
      "Traceback (most recent call last):\n",
      "Traceback (most recent call last):\n",
      "  File \"/home/stfn/anaconda3/lib/python3.6/multiprocessing/process.py\", line 258, in _bootstrap\n",
      "    self.run()\n",
      "  File \"/home/stfn/anaconda3/lib/python3.6/multiprocessing/process.py\", line 258, in _bootstrap\n",
      "    self.run()\n",
      "  File \"/home/stfn/anaconda3/lib/python3.6/multiprocessing/process.py\", line 93, in run\n",
      "    self._target(*self._args, **self._kwargs)\n",
      "  File \"/home/stfn/anaconda3/lib/python3.6/multiprocessing/process.py\", line 93, in run\n",
      "    self._target(*self._args, **self._kwargs)\n",
      "  File \"/home/stfn/anaconda3/lib/python3.6/site-packages/torch/utils/data/dataloader.py\", line 96, in _worker_loop\n",
      "    r = index_queue.get(timeout=MANAGER_STATUS_CHECK_INTERVAL)\n",
      "  File \"/home/stfn/anaconda3/lib/python3.6/site-packages/torch/utils/data/dataloader.py\", line 96, in _worker_loop\n",
      "    r = index_queue.get(timeout=MANAGER_STATUS_CHECK_INTERVAL)\n",
      "  File \"/home/stfn/anaconda3/lib/python3.6/multiprocessing/queues.py\", line 104, in get\n",
      "    if not self._poll(timeout):\n",
      "  File \"/home/stfn/anaconda3/lib/python3.6/multiprocessing/queues.py\", line 104, in get\n",
      "    if not self._poll(timeout):\n",
      "  File \"/home/stfn/anaconda3/lib/python3.6/multiprocessing/connection.py\", line 257, in poll\n",
      "    return self._poll(timeout)\n",
      "  File \"/home/stfn/anaconda3/lib/python3.6/multiprocessing/connection.py\", line 257, in poll\n",
      "    return self._poll(timeout)\n",
      "  File \"/home/stfn/anaconda3/lib/python3.6/multiprocessing/connection.py\", line 414, in _poll\n",
      "    r = wait([self], timeout)\n",
      "  File \"/home/stfn/anaconda3/lib/python3.6/multiprocessing/connection.py\", line 911, in wait\n",
      "    ready = selector.select(timeout)\n",
      "  File \"/home/stfn/anaconda3/lib/python3.6/multiprocessing/connection.py\", line 414, in _poll\n",
      "    r = wait([self], timeout)\n",
      "  File \"/home/stfn/anaconda3/lib/python3.6/selectors.py\", line 376, in select\n",
      "    fd_event_list = self._poll.poll(timeout)\n",
      "  File \"/home/stfn/anaconda3/lib/python3.6/multiprocessing/connection.py\", line 911, in wait\n",
      "    ready = selector.select(timeout)\n",
      "KeyboardInterrupt\n",
      "  File \"/home/stfn/anaconda3/lib/python3.6/selectors.py\", line 376, in select\n",
      "    fd_event_list = self._poll.poll(timeout)\n",
      "KeyboardInterrupt\n"
     ]
    },
    {
     "ename": "KeyboardInterrupt",
     "evalue": "",
     "output_type": "error",
     "traceback": [
      "\u001b[0;31m---------------------------------------------------------------------------\u001b[0m",
      "\u001b[0;31mKeyboardInterrupt\u001b[0m                         Traceback (most recent call last)",
      "\u001b[0;32m<ipython-input-11-296e978721bb>\u001b[0m in \u001b[0;36m<module>\u001b[0;34m()\u001b[0m\n\u001b[0;32m----> 1\u001b[0;31m \u001b[0mtrainer\u001b[0m\u001b[0;34m.\u001b[0m\u001b[0mfit\u001b[0m\u001b[0;34m(\u001b[0m\u001b[0;36m320\u001b[0m\u001b[0;34m)\u001b[0m\u001b[0;34m\u001b[0m\u001b[0m\n\u001b[0m",
      "\u001b[0;32m~/Documents/fproj/Code/Train/trainer.py\u001b[0m in \u001b[0;36mfit\u001b[0;34m(self, n_epochs)\u001b[0m\n\u001b[1;32m    114\u001b[0m         \u001b[0;32mwhile\u001b[0m \u001b[0mself\u001b[0m\u001b[0;34m.\u001b[0m\u001b[0mepoch\u001b[0m \u001b[0;34m<\u001b[0m \u001b[0mn_epochs\u001b[0m\u001b[0;34m:\u001b[0m\u001b[0;34m\u001b[0m\u001b[0m\n\u001b[1;32m    115\u001b[0m             self.train_losses.append(\n\u001b[0;32m--> 116\u001b[0;31m                 self.train_step(self.train_loader))\n\u001b[0m\u001b[1;32m    117\u001b[0m             \u001b[0;32mif\u001b[0m \u001b[0mself\u001b[0m\u001b[0;34m.\u001b[0m\u001b[0mtest_loader\u001b[0m\u001b[0;34m:\u001b[0m\u001b[0;34m\u001b[0m\u001b[0m\n\u001b[1;32m    118\u001b[0m                 \u001b[0;32mwith\u001b[0m \u001b[0mno_grad\u001b[0m\u001b[0;34m(\u001b[0m\u001b[0;34m)\u001b[0m\u001b[0;34m:\u001b[0m\u001b[0;34m\u001b[0m\u001b[0m\n",
      "\u001b[0;32m~/Documents/fproj/Code/Train/trainer.py\u001b[0m in \u001b[0;36mtrain_step\u001b[0;34m(self, loader)\u001b[0m\n\u001b[1;32m    142\u001b[0m                 \u001b[0my\u001b[0m \u001b[0;34m=\u001b[0m \u001b[0my\u001b[0m\u001b[0;34m.\u001b[0m\u001b[0mcuda\u001b[0m\u001b[0;34m(\u001b[0m\u001b[0;34m)\u001b[0m\u001b[0;34m\u001b[0m\u001b[0m\n\u001b[1;32m    143\u001b[0m             \u001b[0mself\u001b[0m\u001b[0;34m.\u001b[0m\u001b[0moptim\u001b[0m\u001b[0;34m.\u001b[0m\u001b[0mzero_grad\u001b[0m\u001b[0;34m(\u001b[0m\u001b[0;34m)\u001b[0m\u001b[0;34m\u001b[0m\u001b[0m\n\u001b[0;32m--> 144\u001b[0;31m             \u001b[0mloss\u001b[0m \u001b[0;34m=\u001b[0m \u001b[0mself\u001b[0m\u001b[0;34m.\u001b[0m\u001b[0mforward_and_apply_loss_function\u001b[0m\u001b[0;34m(\u001b[0m\u001b[0mx\u001b[0m\u001b[0;34m,\u001b[0m \u001b[0my\u001b[0m\u001b[0;34m)\u001b[0m\u001b[0;34m\u001b[0m\u001b[0m\n\u001b[0m\u001b[1;32m    145\u001b[0m             \u001b[0mloss\u001b[0m\u001b[0;34m.\u001b[0m\u001b[0mbackward\u001b[0m\u001b[0;34m(\u001b[0m\u001b[0;34m)\u001b[0m\u001b[0;34m\u001b[0m\u001b[0m\n\u001b[1;32m    146\u001b[0m             \u001b[0mtrain_loss\u001b[0m \u001b[0;34m+=\u001b[0m \u001b[0mloss\u001b[0m\u001b[0;34m.\u001b[0m\u001b[0mitem\u001b[0m\u001b[0;34m(\u001b[0m\u001b[0;34m)\u001b[0m\u001b[0;34m\u001b[0m\u001b[0m\n",
      "\u001b[0;32m~/Documents/fproj/Code/Train/trainer.py\u001b[0m in \u001b[0;36mforward_and_apply_loss_function\u001b[0;34m(self, x, y)\u001b[0m\n\u001b[1;32m    168\u001b[0m \u001b[0;34m\u001b[0m\u001b[0m\n\u001b[1;32m    169\u001b[0m     \u001b[0;32mdef\u001b[0m \u001b[0mforward_and_apply_loss_function\u001b[0m\u001b[0;34m(\u001b[0m\u001b[0mself\u001b[0m\u001b[0;34m,\u001b[0m \u001b[0mx\u001b[0m\u001b[0;34m,\u001b[0m \u001b[0my\u001b[0m\u001b[0;34m)\u001b[0m\u001b[0;34m:\u001b[0m\u001b[0;34m\u001b[0m\u001b[0m\n\u001b[0;32m--> 170\u001b[0;31m         \u001b[0;32mreturn\u001b[0m \u001b[0mself\u001b[0m\u001b[0;34m.\u001b[0m\u001b[0mloss_fn\u001b[0m\u001b[0;34m(\u001b[0m\u001b[0mself\u001b[0m\u001b[0;34m.\u001b[0m\u001b[0mmodel\u001b[0m\u001b[0;34m(\u001b[0m\u001b[0mx\u001b[0m\u001b[0;34m)\u001b[0m\u001b[0;34m,\u001b[0m \u001b[0my\u001b[0m\u001b[0;34m)\u001b[0m\u001b[0;34m\u001b[0m\u001b[0m\n\u001b[0m\u001b[1;32m    171\u001b[0m \u001b[0;34m\u001b[0m\u001b[0m\n\u001b[1;32m    172\u001b[0m     \u001b[0;32mdef\u001b[0m \u001b[0mupdate_momentum\u001b[0m\u001b[0;34m(\u001b[0m\u001b[0mself\u001b[0m\u001b[0;34m)\u001b[0m\u001b[0;34m:\u001b[0m\u001b[0;34m\u001b[0m\u001b[0m\n",
      "\u001b[0;32m~/anaconda3/lib/python3.6/site-packages/torch/nn/modules/module.py\u001b[0m in \u001b[0;36m__call__\u001b[0;34m(self, *input, **kwargs)\u001b[0m\n\u001b[1;32m    475\u001b[0m             \u001b[0mresult\u001b[0m \u001b[0;34m=\u001b[0m \u001b[0mself\u001b[0m\u001b[0;34m.\u001b[0m\u001b[0m_slow_forward\u001b[0m\u001b[0;34m(\u001b[0m\u001b[0;34m*\u001b[0m\u001b[0minput\u001b[0m\u001b[0;34m,\u001b[0m \u001b[0;34m**\u001b[0m\u001b[0mkwargs\u001b[0m\u001b[0;34m)\u001b[0m\u001b[0;34m\u001b[0m\u001b[0m\n\u001b[1;32m    476\u001b[0m         \u001b[0;32melse\u001b[0m\u001b[0;34m:\u001b[0m\u001b[0;34m\u001b[0m\u001b[0m\n\u001b[0;32m--> 477\u001b[0;31m             \u001b[0mresult\u001b[0m \u001b[0;34m=\u001b[0m \u001b[0mself\u001b[0m\u001b[0;34m.\u001b[0m\u001b[0mforward\u001b[0m\u001b[0;34m(\u001b[0m\u001b[0;34m*\u001b[0m\u001b[0minput\u001b[0m\u001b[0;34m,\u001b[0m \u001b[0;34m**\u001b[0m\u001b[0mkwargs\u001b[0m\u001b[0;34m)\u001b[0m\u001b[0;34m\u001b[0m\u001b[0m\n\u001b[0m\u001b[1;32m    478\u001b[0m         \u001b[0;32mfor\u001b[0m \u001b[0mhook\u001b[0m \u001b[0;32min\u001b[0m \u001b[0mself\u001b[0m\u001b[0;34m.\u001b[0m\u001b[0m_forward_hooks\u001b[0m\u001b[0;34m.\u001b[0m\u001b[0mvalues\u001b[0m\u001b[0;34m(\u001b[0m\u001b[0;34m)\u001b[0m\u001b[0;34m:\u001b[0m\u001b[0;34m\u001b[0m\u001b[0m\n\u001b[1;32m    479\u001b[0m             \u001b[0mhook_result\u001b[0m \u001b[0;34m=\u001b[0m \u001b[0mhook\u001b[0m\u001b[0;34m(\u001b[0m\u001b[0mself\u001b[0m\u001b[0;34m,\u001b[0m \u001b[0minput\u001b[0m\u001b[0;34m,\u001b[0m \u001b[0mresult\u001b[0m\u001b[0;34m)\u001b[0m\u001b[0;34m\u001b[0m\u001b[0m\n",
      "\u001b[0;32m~/Documents/fproj/Code/Models/DeepPotential/deep_potential.py\u001b[0m in \u001b[0;36mforward\u001b[0;34m(self, X)\u001b[0m\n\u001b[1;32m     38\u001b[0m         \u001b[0ma1\u001b[0m \u001b[0;34m=\u001b[0m \u001b[0mself\u001b[0m\u001b[0;34m.\u001b[0m\u001b[0mh_net\u001b[0m\u001b[0;34m(\u001b[0m\u001b[0mX\u001b[0m\u001b[0;34m[\u001b[0m\u001b[0;34m:\u001b[0m\u001b[0;34m,\u001b[0m \u001b[0;36m0\u001b[0m\u001b[0;34m]\u001b[0m\u001b[0;34m)\u001b[0m\u001b[0;34m\u001b[0m\u001b[0m\n\u001b[1;32m     39\u001b[0m         \u001b[0ma2\u001b[0m \u001b[0;34m=\u001b[0m \u001b[0mself\u001b[0m\u001b[0;34m.\u001b[0m\u001b[0mh_net\u001b[0m\u001b[0;34m(\u001b[0m\u001b[0mX\u001b[0m\u001b[0;34m[\u001b[0m\u001b[0;34m:\u001b[0m\u001b[0;34m,\u001b[0m \u001b[0;36m1\u001b[0m\u001b[0;34m]\u001b[0m\u001b[0;34m)\u001b[0m\u001b[0;34m\u001b[0m\u001b[0m\n\u001b[0;32m---> 40\u001b[0;31m         \u001b[0ma3\u001b[0m \u001b[0;34m=\u001b[0m \u001b[0mself\u001b[0m\u001b[0;34m.\u001b[0m\u001b[0mh_net\u001b[0m\u001b[0;34m(\u001b[0m\u001b[0mX\u001b[0m\u001b[0;34m[\u001b[0m\u001b[0;34m:\u001b[0m\u001b[0;34m,\u001b[0m \u001b[0;36m2\u001b[0m\u001b[0;34m]\u001b[0m\u001b[0;34m)\u001b[0m\u001b[0;34m\u001b[0m\u001b[0m\n\u001b[0m\u001b[1;32m     41\u001b[0m         \u001b[0ma4\u001b[0m \u001b[0;34m=\u001b[0m \u001b[0mself\u001b[0m\u001b[0;34m.\u001b[0m\u001b[0mh_net\u001b[0m\u001b[0;34m(\u001b[0m\u001b[0mX\u001b[0m\u001b[0;34m[\u001b[0m\u001b[0;34m:\u001b[0m\u001b[0;34m,\u001b[0m \u001b[0;36m3\u001b[0m\u001b[0;34m]\u001b[0m\u001b[0;34m)\u001b[0m\u001b[0;34m\u001b[0m\u001b[0m\n\u001b[1;32m     42\u001b[0m         \u001b[0ma5\u001b[0m \u001b[0;34m=\u001b[0m \u001b[0mself\u001b[0m\u001b[0;34m.\u001b[0m\u001b[0mh_net\u001b[0m\u001b[0;34m(\u001b[0m\u001b[0mX\u001b[0m\u001b[0;34m[\u001b[0m\u001b[0;34m:\u001b[0m\u001b[0;34m,\u001b[0m \u001b[0;36m4\u001b[0m\u001b[0;34m]\u001b[0m\u001b[0;34m)\u001b[0m\u001b[0;34m\u001b[0m\u001b[0m\n",
      "\u001b[0;32m~/anaconda3/lib/python3.6/site-packages/torch/nn/modules/module.py\u001b[0m in \u001b[0;36m__call__\u001b[0;34m(self, *input, **kwargs)\u001b[0m\n\u001b[1;32m    475\u001b[0m             \u001b[0mresult\u001b[0m \u001b[0;34m=\u001b[0m \u001b[0mself\u001b[0m\u001b[0;34m.\u001b[0m\u001b[0m_slow_forward\u001b[0m\u001b[0;34m(\u001b[0m\u001b[0;34m*\u001b[0m\u001b[0minput\u001b[0m\u001b[0;34m,\u001b[0m \u001b[0;34m**\u001b[0m\u001b[0mkwargs\u001b[0m\u001b[0;34m)\u001b[0m\u001b[0;34m\u001b[0m\u001b[0m\n\u001b[1;32m    476\u001b[0m         \u001b[0;32melse\u001b[0m\u001b[0;34m:\u001b[0m\u001b[0;34m\u001b[0m\u001b[0m\n\u001b[0;32m--> 477\u001b[0;31m             \u001b[0mresult\u001b[0m \u001b[0;34m=\u001b[0m \u001b[0mself\u001b[0m\u001b[0;34m.\u001b[0m\u001b[0mforward\u001b[0m\u001b[0;34m(\u001b[0m\u001b[0;34m*\u001b[0m\u001b[0minput\u001b[0m\u001b[0;34m,\u001b[0m \u001b[0;34m**\u001b[0m\u001b[0mkwargs\u001b[0m\u001b[0;34m)\u001b[0m\u001b[0;34m\u001b[0m\u001b[0m\n\u001b[0m\u001b[1;32m    478\u001b[0m         \u001b[0;32mfor\u001b[0m \u001b[0mhook\u001b[0m \u001b[0;32min\u001b[0m \u001b[0mself\u001b[0m\u001b[0;34m.\u001b[0m\u001b[0m_forward_hooks\u001b[0m\u001b[0;34m.\u001b[0m\u001b[0mvalues\u001b[0m\u001b[0;34m(\u001b[0m\u001b[0;34m)\u001b[0m\u001b[0;34m:\u001b[0m\u001b[0;34m\u001b[0m\u001b[0m\n\u001b[1;32m    479\u001b[0m             \u001b[0mhook_result\u001b[0m \u001b[0;34m=\u001b[0m \u001b[0mhook\u001b[0m\u001b[0;34m(\u001b[0m\u001b[0mself\u001b[0m\u001b[0;34m,\u001b[0m \u001b[0minput\u001b[0m\u001b[0;34m,\u001b[0m \u001b[0mresult\u001b[0m\u001b[0;34m)\u001b[0m\u001b[0;34m\u001b[0m\u001b[0m\n",
      "\u001b[0;32m~/anaconda3/lib/python3.6/site-packages/torch/nn/modules/container.py\u001b[0m in \u001b[0;36mforward\u001b[0;34m(self, input)\u001b[0m\n\u001b[1;32m     89\u001b[0m     \u001b[0;32mdef\u001b[0m \u001b[0mforward\u001b[0m\u001b[0;34m(\u001b[0m\u001b[0mself\u001b[0m\u001b[0;34m,\u001b[0m \u001b[0minput\u001b[0m\u001b[0;34m)\u001b[0m\u001b[0;34m:\u001b[0m\u001b[0;34m\u001b[0m\u001b[0m\n\u001b[1;32m     90\u001b[0m         \u001b[0;32mfor\u001b[0m \u001b[0mmodule\u001b[0m \u001b[0;32min\u001b[0m \u001b[0mself\u001b[0m\u001b[0;34m.\u001b[0m\u001b[0m_modules\u001b[0m\u001b[0;34m.\u001b[0m\u001b[0mvalues\u001b[0m\u001b[0;34m(\u001b[0m\u001b[0;34m)\u001b[0m\u001b[0;34m:\u001b[0m\u001b[0;34m\u001b[0m\u001b[0m\n\u001b[0;32m---> 91\u001b[0;31m             \u001b[0minput\u001b[0m \u001b[0;34m=\u001b[0m \u001b[0mmodule\u001b[0m\u001b[0;34m(\u001b[0m\u001b[0minput\u001b[0m\u001b[0;34m)\u001b[0m\u001b[0;34m\u001b[0m\u001b[0m\n\u001b[0m\u001b[1;32m     92\u001b[0m         \u001b[0;32mreturn\u001b[0m \u001b[0minput\u001b[0m\u001b[0;34m\u001b[0m\u001b[0m\n\u001b[1;32m     93\u001b[0m \u001b[0;34m\u001b[0m\u001b[0m\n",
      "\u001b[0;32m~/anaconda3/lib/python3.6/site-packages/torch/nn/modules/module.py\u001b[0m in \u001b[0;36m__call__\u001b[0;34m(self, *input, **kwargs)\u001b[0m\n\u001b[1;32m    475\u001b[0m             \u001b[0mresult\u001b[0m \u001b[0;34m=\u001b[0m \u001b[0mself\u001b[0m\u001b[0;34m.\u001b[0m\u001b[0m_slow_forward\u001b[0m\u001b[0;34m(\u001b[0m\u001b[0;34m*\u001b[0m\u001b[0minput\u001b[0m\u001b[0;34m,\u001b[0m \u001b[0;34m**\u001b[0m\u001b[0mkwargs\u001b[0m\u001b[0;34m)\u001b[0m\u001b[0;34m\u001b[0m\u001b[0m\n\u001b[1;32m    476\u001b[0m         \u001b[0;32melse\u001b[0m\u001b[0;34m:\u001b[0m\u001b[0;34m\u001b[0m\u001b[0m\n\u001b[0;32m--> 477\u001b[0;31m             \u001b[0mresult\u001b[0m \u001b[0;34m=\u001b[0m \u001b[0mself\u001b[0m\u001b[0;34m.\u001b[0m\u001b[0mforward\u001b[0m\u001b[0;34m(\u001b[0m\u001b[0;34m*\u001b[0m\u001b[0minput\u001b[0m\u001b[0;34m,\u001b[0m \u001b[0;34m**\u001b[0m\u001b[0mkwargs\u001b[0m\u001b[0;34m)\u001b[0m\u001b[0;34m\u001b[0m\u001b[0m\n\u001b[0m\u001b[1;32m    478\u001b[0m         \u001b[0;32mfor\u001b[0m \u001b[0mhook\u001b[0m \u001b[0;32min\u001b[0m \u001b[0mself\u001b[0m\u001b[0;34m.\u001b[0m\u001b[0m_forward_hooks\u001b[0m\u001b[0;34m.\u001b[0m\u001b[0mvalues\u001b[0m\u001b[0;34m(\u001b[0m\u001b[0;34m)\u001b[0m\u001b[0;34m:\u001b[0m\u001b[0;34m\u001b[0m\u001b[0m\n\u001b[1;32m    479\u001b[0m             \u001b[0mhook_result\u001b[0m \u001b[0;34m=\u001b[0m \u001b[0mhook\u001b[0m\u001b[0;34m(\u001b[0m\u001b[0mself\u001b[0m\u001b[0;34m,\u001b[0m \u001b[0minput\u001b[0m\u001b[0;34m,\u001b[0m \u001b[0mresult\u001b[0m\u001b[0;34m)\u001b[0m\u001b[0;34m\u001b[0m\u001b[0m\n",
      "\u001b[0;32m~/anaconda3/lib/python3.6/site-packages/torch/nn/modules/activation.py\u001b[0m in \u001b[0;36mforward\u001b[0;34m(self, input)\u001b[0m\n\u001b[1;32m     44\u001b[0m \u001b[0;34m\u001b[0m\u001b[0m\n\u001b[1;32m     45\u001b[0m     \u001b[0;32mdef\u001b[0m \u001b[0mforward\u001b[0m\u001b[0;34m(\u001b[0m\u001b[0mself\u001b[0m\u001b[0;34m,\u001b[0m \u001b[0minput\u001b[0m\u001b[0;34m)\u001b[0m\u001b[0;34m:\u001b[0m\u001b[0;34m\u001b[0m\u001b[0m\n\u001b[0;32m---> 46\u001b[0;31m         \u001b[0;32mreturn\u001b[0m \u001b[0mF\u001b[0m\u001b[0;34m.\u001b[0m\u001b[0mthreshold\u001b[0m\u001b[0;34m(\u001b[0m\u001b[0minput\u001b[0m\u001b[0;34m,\u001b[0m \u001b[0mself\u001b[0m\u001b[0;34m.\u001b[0m\u001b[0mthreshold\u001b[0m\u001b[0;34m,\u001b[0m \u001b[0mself\u001b[0m\u001b[0;34m.\u001b[0m\u001b[0mvalue\u001b[0m\u001b[0;34m,\u001b[0m \u001b[0mself\u001b[0m\u001b[0;34m.\u001b[0m\u001b[0minplace\u001b[0m\u001b[0;34m)\u001b[0m\u001b[0;34m\u001b[0m\u001b[0m\n\u001b[0m\u001b[1;32m     47\u001b[0m \u001b[0;34m\u001b[0m\u001b[0m\n\u001b[1;32m     48\u001b[0m     \u001b[0;32mdef\u001b[0m \u001b[0mextra_repr\u001b[0m\u001b[0;34m(\u001b[0m\u001b[0mself\u001b[0m\u001b[0;34m)\u001b[0m\u001b[0;34m:\u001b[0m\u001b[0;34m\u001b[0m\u001b[0m\n",
      "\u001b[0;32m~/anaconda3/lib/python3.6/site-packages/torch/nn/functional.py\u001b[0m in \u001b[0;36mthreshold\u001b[0;34m(input, threshold, value, inplace)\u001b[0m\n\u001b[1;32m    623\u001b[0m     \u001b[0;32mif\u001b[0m \u001b[0minplace\u001b[0m\u001b[0;34m:\u001b[0m\u001b[0;34m\u001b[0m\u001b[0m\n\u001b[1;32m    624\u001b[0m         \u001b[0;32mreturn\u001b[0m \u001b[0mtorch\u001b[0m\u001b[0;34m.\u001b[0m\u001b[0m_C\u001b[0m\u001b[0;34m.\u001b[0m\u001b[0m_nn\u001b[0m\u001b[0;34m.\u001b[0m\u001b[0mthreshold_\u001b[0m\u001b[0;34m(\u001b[0m\u001b[0minput\u001b[0m\u001b[0;34m,\u001b[0m \u001b[0mthreshold\u001b[0m\u001b[0;34m,\u001b[0m \u001b[0mvalue\u001b[0m\u001b[0;34m)\u001b[0m\u001b[0;34m\u001b[0m\u001b[0m\n\u001b[0;32m--> 625\u001b[0;31m     \u001b[0;32mreturn\u001b[0m \u001b[0mtorch\u001b[0m\u001b[0;34m.\u001b[0m\u001b[0m_C\u001b[0m\u001b[0;34m.\u001b[0m\u001b[0m_nn\u001b[0m\u001b[0;34m.\u001b[0m\u001b[0mthreshold\u001b[0m\u001b[0;34m(\u001b[0m\u001b[0minput\u001b[0m\u001b[0;34m,\u001b[0m \u001b[0mthreshold\u001b[0m\u001b[0;34m,\u001b[0m \u001b[0mvalue\u001b[0m\u001b[0;34m)\u001b[0m\u001b[0;34m\u001b[0m\u001b[0m\n\u001b[0m\u001b[1;32m    626\u001b[0m \u001b[0;34m\u001b[0m\u001b[0m\n\u001b[1;32m    627\u001b[0m \u001b[0;34m\u001b[0m\u001b[0m\n",
      "\u001b[0;31mKeyboardInterrupt\u001b[0m: "
     ]
    }
   ],
   "source": [
    "trainer.fit(320)"
   ]
  },
  {
   "cell_type": "code",
   "execution_count": 12,
   "metadata": {},
   "outputs": [
    {
     "data": {
      "text/plain": [
       "72.2921371459961"
      ]
     },
     "execution_count": 12,
     "metadata": {},
     "output_type": "execute_result"
    }
   ],
   "source": [
    "trainer.calculate_mae()"
   ]
  },
  {
   "cell_type": "code",
   "execution_count": 13,
   "metadata": {},
   "outputs": [
    {
     "data": {
      "image/png": "[encoded data removed]",
      "text/plain": [
       "<Figure size 432x288 with 1 Axes>"
      ]
     },
     "metadata": {},
     "output_type": "display_data"
    }
   ],
   "source": [
    "trainer.create_loss_plot()"
   ]
  },
  {
   "cell_type": "code",
   "execution_count": 14,
   "metadata": {},
   "outputs": [],
   "source": [
    "trainer.save_loss_plot()"
   ]
  },
  {
   "cell_type": "code",
   "execution_count": 21,
   "metadata": {},
   "outputs": [
    {
     "data": {
      "text/plain": [
       "[<matplotlib.lines.Line2D at 0x7fe2c4a87470>]"
      ]
     },
     "execution_count": 21,
     "metadata": {},
     "output_type": "execute_result"
    },
    {
     "data": {
      "image/png": "[encoded data removed]",
      "text/plain": [
       "<Figure size 432x288 with 1 Axes>"
      ]
     },
     "metadata": {},
     "output_type": "display_data"
    }
   ],
   "source": [
    "plt.plot(trainer.train_losses)\n",
    "plt.plot(trainer.test_losses)\n"
   ]
  },
  {
   "cell_type": "code",
   "execution_count": 25,
   "metadata": {},
   "outputs": [],
   "source": [
    "def backtransform(Y_normed, Y_min, Y_max):\n",
    "    return Y_normed * (Y_max - Y_min) + Y_min"
   ]
  },
  {
   "cell_type": "code",
   "execution_count": 34,
   "metadata": {},
   "outputs": [],
   "source": [
    "def _calculate_mae(loader):\n",
    "    pred, y = trainer.transform(loader, return_labels=True, in_train_mode=True)\n",
    "    pred = backtransform(pred, trainer.y_min, trainer.y_max).squeeze()\n",
    "    y = backtransform(y, trainer.y_min, trainer.y_max).squeeze()\n",
    "    assert (pred.shape == y.shape)\n",
    "    return abs(pred - y).mean().numpy().item()"
   ]
  },
  {
   "cell_type": "code",
   "execution_count": 39,
   "metadata": {},
   "outputs": [
    {
     "data": {
      "text/plain": [
       "0.0802145004272461"
      ]
     },
     "execution_count": 39,
     "metadata": {},
     "output_type": "execute_result"
    }
   ],
   "source": [
    "_calculate_mae(trainer.train_loader)"
   ]
  },
  {
   "cell_type": "code",
   "execution_count": 40,
   "metadata": {},
   "outputs": [],
   "source": [
    "trainer.train_loader.shuffle = False"
   ]
  },
  {
   "cell_type": "code",
   "execution_count": 41,
   "metadata": {},
   "outputs": [
    {
     "data": {
      "text/plain": [
       "0.08034589141607285"
      ]
     },
     "execution_count": 41,
     "metadata": {},
     "output_type": "execute_result"
    }
   ],
   "source": [
    "_calculate_mae(trainer.train_loader)"
   ]
  },
  {
   "cell_type": "code",
   "execution_count": 38,
   "metadata": {},
   "outputs": [
    {
     "data": {
      "text/plain": [
       "True"
      ]
     },
     "execution_count": 38,
     "metadata": {},
     "output_type": "execute_result"
    }
   ],
   "source": [
    "trainer.test_loader.shuffle"
   ]
  },
  {
   "cell_type": "code",
   "execution_count": null,
   "metadata": {},
   "outputs": [],
   "source": []
  }
 ],
 "metadata": {
  "kernelspec": {
   "display_name": "Python 3",
   "language": "python",
   "name": "python3"
  },
  "language_info": {
   "codemirror_mode": {
    "name": "ipython",
    "version": 3
   },
   "file_extension": ".py",
   "mimetype": "text/x-python",
   "name": "python",
   "nbconvert_exporter": "python",
   "pygments_lexer": "ipython3",
   "version": "3.6.5"
  }
 },
 "nbformat": 4,
 "nbformat_minor": 2
}
